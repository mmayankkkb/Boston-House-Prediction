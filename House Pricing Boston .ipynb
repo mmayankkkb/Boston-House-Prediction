{
 "cells": [
  {
   "cell_type": "code",
   "execution_count": 7,
   "id": "204fb023",
   "metadata": {},
   "outputs": [],
   "source": [
    "import numpy as np \n",
    "import pandas as pd\n",
    "import matplotlib.pyplot as plt\n",
    "from sklearn.datasets import load_boston"
   ]
  },
  {
   "cell_type": "code",
   "execution_count": 8,
   "id": "427e5b8e",
   "metadata": {},
   "outputs": [],
   "source": [
    "df=load_boston()"
   ]
  },
  {
   "cell_type": "code",
   "execution_count": 9,
   "id": "cf511481",
   "metadata": {},
   "outputs": [
    {
     "data": {
      "text/plain": [
       "{'data': array([[6.3200e-03, 1.8000e+01, 2.3100e+00, ..., 1.5300e+01, 3.9690e+02,\n",
       "         4.9800e+00],\n",
       "        [2.7310e-02, 0.0000e+00, 7.0700e+00, ..., 1.7800e+01, 3.9690e+02,\n",
       "         9.1400e+00],\n",
       "        [2.7290e-02, 0.0000e+00, 7.0700e+00, ..., 1.7800e+01, 3.9283e+02,\n",
       "         4.0300e+00],\n",
       "        ...,\n",
       "        [6.0760e-02, 0.0000e+00, 1.1930e+01, ..., 2.1000e+01, 3.9690e+02,\n",
       "         5.6400e+00],\n",
       "        [1.0959e-01, 0.0000e+00, 1.1930e+01, ..., 2.1000e+01, 3.9345e+02,\n",
       "         6.4800e+00],\n",
       "        [4.7410e-02, 0.0000e+00, 1.1930e+01, ..., 2.1000e+01, 3.9690e+02,\n",
       "         7.8800e+00]]),\n",
       " 'target': array([24. , 21.6, 34.7, 33.4, 36.2, 28.7, 22.9, 27.1, 16.5, 18.9, 15. ,\n",
       "        18.9, 21.7, 20.4, 18.2, 19.9, 23.1, 17.5, 20.2, 18.2, 13.6, 19.6,\n",
       "        15.2, 14.5, 15.6, 13.9, 16.6, 14.8, 18.4, 21. , 12.7, 14.5, 13.2,\n",
       "        13.1, 13.5, 18.9, 20. , 21. , 24.7, 30.8, 34.9, 26.6, 25.3, 24.7,\n",
       "        21.2, 19.3, 20. , 16.6, 14.4, 19.4, 19.7, 20.5, 25. , 23.4, 18.9,\n",
       "        35.4, 24.7, 31.6, 23.3, 19.6, 18.7, 16. , 22.2, 25. , 33. , 23.5,\n",
       "        19.4, 22. , 17.4, 20.9, 24.2, 21.7, 22.8, 23.4, 24.1, 21.4, 20. ,\n",
       "        20.8, 21.2, 20.3, 28. , 23.9, 24.8, 22.9, 23.9, 26.6, 22.5, 22.2,\n",
       "        23.6, 28.7, 22.6, 22. , 22.9, 25. , 20.6, 28.4, 21.4, 38.7, 43.8,\n",
       "        33.2, 27.5, 26.5, 18.6, 19.3, 20.1, 19.5, 19.5, 20.4, 19.8, 19.4,\n",
       "        21.7, 22.8, 18.8, 18.7, 18.5, 18.3, 21.2, 19.2, 20.4, 19.3, 22. ,\n",
       "        20.3, 20.5, 17.3, 18.8, 21.4, 15.7, 16.2, 18. , 14.3, 19.2, 19.6,\n",
       "        23. , 18.4, 15.6, 18.1, 17.4, 17.1, 13.3, 17.8, 14. , 14.4, 13.4,\n",
       "        15.6, 11.8, 13.8, 15.6, 14.6, 17.8, 15.4, 21.5, 19.6, 15.3, 19.4,\n",
       "        17. , 15.6, 13.1, 41.3, 24.3, 23.3, 27. , 50. , 50. , 50. , 22.7,\n",
       "        25. , 50. , 23.8, 23.8, 22.3, 17.4, 19.1, 23.1, 23.6, 22.6, 29.4,\n",
       "        23.2, 24.6, 29.9, 37.2, 39.8, 36.2, 37.9, 32.5, 26.4, 29.6, 50. ,\n",
       "        32. , 29.8, 34.9, 37. , 30.5, 36.4, 31.1, 29.1, 50. , 33.3, 30.3,\n",
       "        34.6, 34.9, 32.9, 24.1, 42.3, 48.5, 50. , 22.6, 24.4, 22.5, 24.4,\n",
       "        20. , 21.7, 19.3, 22.4, 28.1, 23.7, 25. , 23.3, 28.7, 21.5, 23. ,\n",
       "        26.7, 21.7, 27.5, 30.1, 44.8, 50. , 37.6, 31.6, 46.7, 31.5, 24.3,\n",
       "        31.7, 41.7, 48.3, 29. , 24. , 25.1, 31.5, 23.7, 23.3, 22. , 20.1,\n",
       "        22.2, 23.7, 17.6, 18.5, 24.3, 20.5, 24.5, 26.2, 24.4, 24.8, 29.6,\n",
       "        42.8, 21.9, 20.9, 44. , 50. , 36. , 30.1, 33.8, 43.1, 48.8, 31. ,\n",
       "        36.5, 22.8, 30.7, 50. , 43.5, 20.7, 21.1, 25.2, 24.4, 35.2, 32.4,\n",
       "        32. , 33.2, 33.1, 29.1, 35.1, 45.4, 35.4, 46. , 50. , 32.2, 22. ,\n",
       "        20.1, 23.2, 22.3, 24.8, 28.5, 37.3, 27.9, 23.9, 21.7, 28.6, 27.1,\n",
       "        20.3, 22.5, 29. , 24.8, 22. , 26.4, 33.1, 36.1, 28.4, 33.4, 28.2,\n",
       "        22.8, 20.3, 16.1, 22.1, 19.4, 21.6, 23.8, 16.2, 17.8, 19.8, 23.1,\n",
       "        21. , 23.8, 23.1, 20.4, 18.5, 25. , 24.6, 23. , 22.2, 19.3, 22.6,\n",
       "        19.8, 17.1, 19.4, 22.2, 20.7, 21.1, 19.5, 18.5, 20.6, 19. , 18.7,\n",
       "        32.7, 16.5, 23.9, 31.2, 17.5, 17.2, 23.1, 24.5, 26.6, 22.9, 24.1,\n",
       "        18.6, 30.1, 18.2, 20.6, 17.8, 21.7, 22.7, 22.6, 25. , 19.9, 20.8,\n",
       "        16.8, 21.9, 27.5, 21.9, 23.1, 50. , 50. , 50. , 50. , 50. , 13.8,\n",
       "        13.8, 15. , 13.9, 13.3, 13.1, 10.2, 10.4, 10.9, 11.3, 12.3,  8.8,\n",
       "         7.2, 10.5,  7.4, 10.2, 11.5, 15.1, 23.2,  9.7, 13.8, 12.7, 13.1,\n",
       "        12.5,  8.5,  5. ,  6.3,  5.6,  7.2, 12.1,  8.3,  8.5,  5. , 11.9,\n",
       "        27.9, 17.2, 27.5, 15. , 17.2, 17.9, 16.3,  7. ,  7.2,  7.5, 10.4,\n",
       "         8.8,  8.4, 16.7, 14.2, 20.8, 13.4, 11.7,  8.3, 10.2, 10.9, 11. ,\n",
       "         9.5, 14.5, 14.1, 16.1, 14.3, 11.7, 13.4,  9.6,  8.7,  8.4, 12.8,\n",
       "        10.5, 17.1, 18.4, 15.4, 10.8, 11.8, 14.9, 12.6, 14.1, 13. , 13.4,\n",
       "        15.2, 16.1, 17.8, 14.9, 14.1, 12.7, 13.5, 14.9, 20. , 16.4, 17.7,\n",
       "        19.5, 20.2, 21.4, 19.9, 19. , 19.1, 19.1, 20.1, 19.9, 19.6, 23.2,\n",
       "        29.8, 13.8, 13.3, 16.7, 12. , 14.6, 21.4, 23. , 23.7, 25. , 21.8,\n",
       "        20.6, 21.2, 19.1, 20.6, 15.2,  7. ,  8.1, 13.6, 20.1, 21.8, 24.5,\n",
       "        23.1, 19.7, 18.3, 21.2, 17.5, 16.8, 22.4, 20.6, 23.9, 22. , 11.9]),\n",
       " 'feature_names': array(['CRIM', 'ZN', 'INDUS', 'CHAS', 'NOX', 'RM', 'AGE', 'DIS', 'RAD',\n",
       "        'TAX', 'PTRATIO', 'B', 'LSTAT'], dtype='<U7'),\n",
       " 'DESCR': \".. _boston_dataset:\\n\\nBoston house prices dataset\\n---------------------------\\n\\n**Data Set Characteristics:**  \\n\\n    :Number of Instances: 506 \\n\\n    :Number of Attributes: 13 numeric/categorical predictive. Median Value (attribute 14) is usually the target.\\n\\n    :Attribute Information (in order):\\n        - CRIM     per capita crime rate by town\\n        - ZN       proportion of residential land zoned for lots over 25,000 sq.ft.\\n        - INDUS    proportion of non-retail business acres per town\\n        - CHAS     Charles River dummy variable (= 1 if tract bounds river; 0 otherwise)\\n        - NOX      nitric oxides concentration (parts per 10 million)\\n        - RM       average number of rooms per dwelling\\n        - AGE      proportion of owner-occupied units built prior to 1940\\n        - DIS      weighted distances to five Boston employment centres\\n        - RAD      index of accessibility to radial highways\\n        - TAX      full-value property-tax rate per $10,000\\n        - PTRATIO  pupil-teacher ratio by town\\n        - B        1000(Bk - 0.63)^2 where Bk is the proportion of black people by town\\n        - LSTAT    % lower status of the population\\n        - MEDV     Median value of owner-occupied homes in $1000's\\n\\n    :Missing Attribute Values: None\\n\\n    :Creator: Harrison, D. and Rubinfeld, D.L.\\n\\nThis is a copy of UCI ML housing dataset.\\nhttps://archive.ics.uci.edu/ml/machine-learning-databases/housing/\\n\\n\\nThis dataset was taken from the StatLib library which is maintained at Carnegie Mellon University.\\n\\nThe Boston house-price data of Harrison, D. and Rubinfeld, D.L. 'Hedonic\\nprices and the demand for clean air', J. Environ. Economics & Management,\\nvol.5, 81-102, 1978.   Used in Belsley, Kuh & Welsch, 'Regression diagnostics\\n...', Wiley, 1980.   N.B. Various transformations are used in the table on\\npages 244-261 of the latter.\\n\\nThe Boston house-price data has been used in many machine learning papers that address regression\\nproblems.   \\n     \\n.. topic:: References\\n\\n   - Belsley, Kuh & Welsch, 'Regression diagnostics: Identifying Influential Data and Sources of Collinearity', Wiley, 1980. 244-261.\\n   - Quinlan,R. (1993). Combining Instance-Based and Model-Based Learning. In Proceedings on the Tenth International Conference of Machine Learning, 236-243, University of Massachusetts, Amherst. Morgan Kaufmann.\\n\",\n",
       " 'filename': 'boston_house_prices.csv',\n",
       " 'data_module': 'sklearn.datasets.data'}"
      ]
     },
     "execution_count": 9,
     "metadata": {},
     "output_type": "execute_result"
    }
   ],
   "source": [
    "df"
   ]
  },
  {
   "cell_type": "code",
   "execution_count": 10,
   "id": "d29580fa",
   "metadata": {},
   "outputs": [
    {
     "data": {
      "text/plain": [
       "13"
      ]
     },
     "execution_count": 10,
     "metadata": {},
     "output_type": "execute_result"
    }
   ],
   "source": [
    " Cols=['CRIM', 'ZN', 'INDUS', 'CHAS', 'NOX', 'RM', 'AGE', 'DIS', 'RAD',\n",
    "        'TAX', 'PTRATIO', 'B', 'LSTAT']\n",
    " len(Cols)"
   ]
  },
  {
   "cell_type": "code",
   "execution_count": 11,
   "id": "cbfe9840",
   "metadata": {},
   "outputs": [],
   "source": [
    " dataset=pd.DataFrame(df.data,columns=Cols)           # dataset.columns=df.feature_names"
   ]
  },
  {
   "cell_type": "code",
   "execution_count": 12,
   "id": "deb5bfde",
   "metadata": {},
   "outputs": [
    {
     "data": {
      "text/html": [
       "<div>\n",
       "<style scoped>\n",
       "    .dataframe tbody tr th:only-of-type {\n",
       "        vertical-align: middle;\n",
       "    }\n",
       "\n",
       "    .dataframe tbody tr th {\n",
       "        vertical-align: top;\n",
       "    }\n",
       "\n",
       "    .dataframe thead th {\n",
       "        text-align: right;\n",
       "    }\n",
       "</style>\n",
       "<table border=\"1\" class=\"dataframe\">\n",
       "  <thead>\n",
       "    <tr style=\"text-align: right;\">\n",
       "      <th></th>\n",
       "      <th>CRIM</th>\n",
       "      <th>ZN</th>\n",
       "      <th>INDUS</th>\n",
       "      <th>CHAS</th>\n",
       "      <th>NOX</th>\n",
       "      <th>RM</th>\n",
       "      <th>AGE</th>\n",
       "      <th>DIS</th>\n",
       "      <th>RAD</th>\n",
       "      <th>TAX</th>\n",
       "      <th>PTRATIO</th>\n",
       "      <th>B</th>\n",
       "      <th>LSTAT</th>\n",
       "    </tr>\n",
       "  </thead>\n",
       "  <tbody>\n",
       "    <tr>\n",
       "      <th>0</th>\n",
       "      <td>0.00632</td>\n",
       "      <td>18.0</td>\n",
       "      <td>2.31</td>\n",
       "      <td>0.0</td>\n",
       "      <td>0.538</td>\n",
       "      <td>6.575</td>\n",
       "      <td>65.2</td>\n",
       "      <td>4.0900</td>\n",
       "      <td>1.0</td>\n",
       "      <td>296.0</td>\n",
       "      <td>15.3</td>\n",
       "      <td>396.90</td>\n",
       "      <td>4.98</td>\n",
       "    </tr>\n",
       "    <tr>\n",
       "      <th>1</th>\n",
       "      <td>0.02731</td>\n",
       "      <td>0.0</td>\n",
       "      <td>7.07</td>\n",
       "      <td>0.0</td>\n",
       "      <td>0.469</td>\n",
       "      <td>6.421</td>\n",
       "      <td>78.9</td>\n",
       "      <td>4.9671</td>\n",
       "      <td>2.0</td>\n",
       "      <td>242.0</td>\n",
       "      <td>17.8</td>\n",
       "      <td>396.90</td>\n",
       "      <td>9.14</td>\n",
       "    </tr>\n",
       "    <tr>\n",
       "      <th>2</th>\n",
       "      <td>0.02729</td>\n",
       "      <td>0.0</td>\n",
       "      <td>7.07</td>\n",
       "      <td>0.0</td>\n",
       "      <td>0.469</td>\n",
       "      <td>7.185</td>\n",
       "      <td>61.1</td>\n",
       "      <td>4.9671</td>\n",
       "      <td>2.0</td>\n",
       "      <td>242.0</td>\n",
       "      <td>17.8</td>\n",
       "      <td>392.83</td>\n",
       "      <td>4.03</td>\n",
       "    </tr>\n",
       "    <tr>\n",
       "      <th>3</th>\n",
       "      <td>0.03237</td>\n",
       "      <td>0.0</td>\n",
       "      <td>2.18</td>\n",
       "      <td>0.0</td>\n",
       "      <td>0.458</td>\n",
       "      <td>6.998</td>\n",
       "      <td>45.8</td>\n",
       "      <td>6.0622</td>\n",
       "      <td>3.0</td>\n",
       "      <td>222.0</td>\n",
       "      <td>18.7</td>\n",
       "      <td>394.63</td>\n",
       "      <td>2.94</td>\n",
       "    </tr>\n",
       "    <tr>\n",
       "      <th>4</th>\n",
       "      <td>0.06905</td>\n",
       "      <td>0.0</td>\n",
       "      <td>2.18</td>\n",
       "      <td>0.0</td>\n",
       "      <td>0.458</td>\n",
       "      <td>7.147</td>\n",
       "      <td>54.2</td>\n",
       "      <td>6.0622</td>\n",
       "      <td>3.0</td>\n",
       "      <td>222.0</td>\n",
       "      <td>18.7</td>\n",
       "      <td>396.90</td>\n",
       "      <td>5.33</td>\n",
       "    </tr>\n",
       "  </tbody>\n",
       "</table>\n",
       "</div>"
      ],
      "text/plain": [
       "      CRIM    ZN  INDUS  CHAS    NOX     RM   AGE     DIS  RAD    TAX  \\\n",
       "0  0.00632  18.0   2.31   0.0  0.538  6.575  65.2  4.0900  1.0  296.0   \n",
       "1  0.02731   0.0   7.07   0.0  0.469  6.421  78.9  4.9671  2.0  242.0   \n",
       "2  0.02729   0.0   7.07   0.0  0.469  7.185  61.1  4.9671  2.0  242.0   \n",
       "3  0.03237   0.0   2.18   0.0  0.458  6.998  45.8  6.0622  3.0  222.0   \n",
       "4  0.06905   0.0   2.18   0.0  0.458  7.147  54.2  6.0622  3.0  222.0   \n",
       "\n",
       "   PTRATIO       B  LSTAT  \n",
       "0     15.3  396.90   4.98  \n",
       "1     17.8  396.90   9.14  \n",
       "2     17.8  392.83   4.03  \n",
       "3     18.7  394.63   2.94  \n",
       "4     18.7  396.90   5.33  "
      ]
     },
     "execution_count": 12,
     "metadata": {},
     "output_type": "execute_result"
    }
   ],
   "source": [
    "dataset.head()"
   ]
  },
  {
   "cell_type": "code",
   "execution_count": 13,
   "id": "54962cb6",
   "metadata": {},
   "outputs": [],
   "source": [
    "X=dataset\n",
    "y=df.target"
   ]
  },
  {
   "cell_type": "code",
   "execution_count": 14,
   "id": "16681b50",
   "metadata": {},
   "outputs": [
    {
     "data": {
      "text/plain": [
       "array([24. , 21.6, 34.7, 33.4, 36.2, 28.7, 22.9, 27.1, 16.5, 18.9, 15. ,\n",
       "       18.9, 21.7, 20.4, 18.2, 19.9, 23.1, 17.5, 20.2, 18.2, 13.6, 19.6,\n",
       "       15.2, 14.5, 15.6, 13.9, 16.6, 14.8, 18.4, 21. , 12.7, 14.5, 13.2,\n",
       "       13.1, 13.5, 18.9, 20. , 21. , 24.7, 30.8, 34.9, 26.6, 25.3, 24.7,\n",
       "       21.2, 19.3, 20. , 16.6, 14.4, 19.4, 19.7, 20.5, 25. , 23.4, 18.9,\n",
       "       35.4, 24.7, 31.6, 23.3, 19.6, 18.7, 16. , 22.2, 25. , 33. , 23.5,\n",
       "       19.4, 22. , 17.4, 20.9, 24.2, 21.7, 22.8, 23.4, 24.1, 21.4, 20. ,\n",
       "       20.8, 21.2, 20.3, 28. , 23.9, 24.8, 22.9, 23.9, 26.6, 22.5, 22.2,\n",
       "       23.6, 28.7, 22.6, 22. , 22.9, 25. , 20.6, 28.4, 21.4, 38.7, 43.8,\n",
       "       33.2, 27.5, 26.5, 18.6, 19.3, 20.1, 19.5, 19.5, 20.4, 19.8, 19.4,\n",
       "       21.7, 22.8, 18.8, 18.7, 18.5, 18.3, 21.2, 19.2, 20.4, 19.3, 22. ,\n",
       "       20.3, 20.5, 17.3, 18.8, 21.4, 15.7, 16.2, 18. , 14.3, 19.2, 19.6,\n",
       "       23. , 18.4, 15.6, 18.1, 17.4, 17.1, 13.3, 17.8, 14. , 14.4, 13.4,\n",
       "       15.6, 11.8, 13.8, 15.6, 14.6, 17.8, 15.4, 21.5, 19.6, 15.3, 19.4,\n",
       "       17. , 15.6, 13.1, 41.3, 24.3, 23.3, 27. , 50. , 50. , 50. , 22.7,\n",
       "       25. , 50. , 23.8, 23.8, 22.3, 17.4, 19.1, 23.1, 23.6, 22.6, 29.4,\n",
       "       23.2, 24.6, 29.9, 37.2, 39.8, 36.2, 37.9, 32.5, 26.4, 29.6, 50. ,\n",
       "       32. , 29.8, 34.9, 37. , 30.5, 36.4, 31.1, 29.1, 50. , 33.3, 30.3,\n",
       "       34.6, 34.9, 32.9, 24.1, 42.3, 48.5, 50. , 22.6, 24.4, 22.5, 24.4,\n",
       "       20. , 21.7, 19.3, 22.4, 28.1, 23.7, 25. , 23.3, 28.7, 21.5, 23. ,\n",
       "       26.7, 21.7, 27.5, 30.1, 44.8, 50. , 37.6, 31.6, 46.7, 31.5, 24.3,\n",
       "       31.7, 41.7, 48.3, 29. , 24. , 25.1, 31.5, 23.7, 23.3, 22. , 20.1,\n",
       "       22.2, 23.7, 17.6, 18.5, 24.3, 20.5, 24.5, 26.2, 24.4, 24.8, 29.6,\n",
       "       42.8, 21.9, 20.9, 44. , 50. , 36. , 30.1, 33.8, 43.1, 48.8, 31. ,\n",
       "       36.5, 22.8, 30.7, 50. , 43.5, 20.7, 21.1, 25.2, 24.4, 35.2, 32.4,\n",
       "       32. , 33.2, 33.1, 29.1, 35.1, 45.4, 35.4, 46. , 50. , 32.2, 22. ,\n",
       "       20.1, 23.2, 22.3, 24.8, 28.5, 37.3, 27.9, 23.9, 21.7, 28.6, 27.1,\n",
       "       20.3, 22.5, 29. , 24.8, 22. , 26.4, 33.1, 36.1, 28.4, 33.4, 28.2,\n",
       "       22.8, 20.3, 16.1, 22.1, 19.4, 21.6, 23.8, 16.2, 17.8, 19.8, 23.1,\n",
       "       21. , 23.8, 23.1, 20.4, 18.5, 25. , 24.6, 23. , 22.2, 19.3, 22.6,\n",
       "       19.8, 17.1, 19.4, 22.2, 20.7, 21.1, 19.5, 18.5, 20.6, 19. , 18.7,\n",
       "       32.7, 16.5, 23.9, 31.2, 17.5, 17.2, 23.1, 24.5, 26.6, 22.9, 24.1,\n",
       "       18.6, 30.1, 18.2, 20.6, 17.8, 21.7, 22.7, 22.6, 25. , 19.9, 20.8,\n",
       "       16.8, 21.9, 27.5, 21.9, 23.1, 50. , 50. , 50. , 50. , 50. , 13.8,\n",
       "       13.8, 15. , 13.9, 13.3, 13.1, 10.2, 10.4, 10.9, 11.3, 12.3,  8.8,\n",
       "        7.2, 10.5,  7.4, 10.2, 11.5, 15.1, 23.2,  9.7, 13.8, 12.7, 13.1,\n",
       "       12.5,  8.5,  5. ,  6.3,  5.6,  7.2, 12.1,  8.3,  8.5,  5. , 11.9,\n",
       "       27.9, 17.2, 27.5, 15. , 17.2, 17.9, 16.3,  7. ,  7.2,  7.5, 10.4,\n",
       "        8.8,  8.4, 16.7, 14.2, 20.8, 13.4, 11.7,  8.3, 10.2, 10.9, 11. ,\n",
       "        9.5, 14.5, 14.1, 16.1, 14.3, 11.7, 13.4,  9.6,  8.7,  8.4, 12.8,\n",
       "       10.5, 17.1, 18.4, 15.4, 10.8, 11.8, 14.9, 12.6, 14.1, 13. , 13.4,\n",
       "       15.2, 16.1, 17.8, 14.9, 14.1, 12.7, 13.5, 14.9, 20. , 16.4, 17.7,\n",
       "       19.5, 20.2, 21.4, 19.9, 19. , 19.1, 19.1, 20.1, 19.9, 19.6, 23.2,\n",
       "       29.8, 13.8, 13.3, 16.7, 12. , 14.6, 21.4, 23. , 23.7, 25. , 21.8,\n",
       "       20.6, 21.2, 19.1, 20.6, 15.2,  7. ,  8.1, 13.6, 20.1, 21.8, 24.5,\n",
       "       23.1, 19.7, 18.3, 21.2, 17.5, 16.8, 22.4, 20.6, 23.9, 22. , 11.9])"
      ]
     },
     "execution_count": 14,
     "metadata": {},
     "output_type": "execute_result"
    }
   ],
   "source": [
    "y"
   ]
  },
  {
   "cell_type": "code",
   "execution_count": 15,
   "id": "bae16e38",
   "metadata": {},
   "outputs": [],
   "source": [
    "from sklearn.model_selection import train_test_split\n"
   ]
  },
  {
   "cell_type": "code",
   "execution_count": 16,
   "id": "73025ea6",
   "metadata": {},
   "outputs": [],
   "source": [
    "train_X,test_X,train_y,test_y=train_test_split(X,y,random_state=80,test_size=0.30)"
   ]
  },
  {
   "cell_type": "code",
   "execution_count": 17,
   "id": "9a4691a1",
   "metadata": {},
   "outputs": [],
   "source": [
    "from sklearn.linear_model import LinearRegression"
   ]
  },
  {
   "cell_type": "code",
   "execution_count": 18,
   "id": "ca7635f5",
   "metadata": {},
   "outputs": [],
   "source": [
    "from sklearn.preprocessing import StandardScaler\n",
    "sc=StandardScaler()\n",
    "train_X=sc.fit_transform(train_X)                               "
   ]
  },
  {
   "cell_type": "code",
   "execution_count": 19,
   "id": "ee5521ef",
   "metadata": {},
   "outputs": [],
   "source": [
    "test_X=sc.transform(test_X)                                                  #use sc.inverse_transform() to get old values back"
   ]
  },
  {
   "cell_type": "markdown",
   "id": "c8c752a3",
   "metadata": {},
   "source": [
    "# Linear Regression"
   ]
  },
  {
   "cell_type": "code",
   "execution_count": 20,
   "id": "7429a3ef",
   "metadata": {},
   "outputs": [],
   "source": [
    "LR=LinearRegression()            # for hyperparameter tune  use Ridge and lasso Regression"
   ]
  },
  {
   "cell_type": "code",
   "execution_count": 21,
   "id": "71534c84",
   "metadata": {},
   "outputs": [],
   "source": [
    "from sklearn.model_selection import cross_val_score\n"
   ]
  },
  {
   "cell_type": "code",
   "execution_count": 22,
   "id": "72060277",
   "metadata": {},
   "outputs": [
    {
     "data": {
      "text/plain": [
       "array([-19.60670833, -29.34734747, -25.47020131, -25.42366847,\n",
       "       -33.84957905])"
      ]
     },
     "execution_count": 22,
     "metadata": {},
     "output_type": "execute_result"
    }
   ],
   "source": [
    "mse=cross_val_score(LR,train_X,train_y,scoring='neg_mean_squared_error',cv=5)    \n",
    "                                            #neg_mean_squared_error should be less difference of predicted value & truth value\n",
    "mse\n"
   ]
  },
  {
   "cell_type": "code",
   "execution_count": 23,
   "id": "2cf67474",
   "metadata": {},
   "outputs": [
    {
     "data": {
      "text/plain": [
       "-26.739500924837408"
      ]
     },
     "execution_count": 23,
     "metadata": {},
     "output_type": "execute_result"
    }
   ],
   "source": [
    "np.mean(mse)"
   ]
  },
  {
   "cell_type": "code",
   "execution_count": 24,
   "id": "fa3f4a46",
   "metadata": {},
   "outputs": [
    {
     "data": {
      "text/plain": [
       "LinearRegression()"
      ]
     },
     "execution_count": 24,
     "metadata": {},
     "output_type": "execute_result"
    }
   ],
   "source": [
    "LR.fit(train_X,train_y)"
   ]
  },
  {
   "cell_type": "code",
   "execution_count": 25,
   "id": "8ab15d21",
   "metadata": {},
   "outputs": [],
   "source": [
    "pred=LR.predict(test_X)"
   ]
  },
  {
   "cell_type": "code",
   "execution_count": 26,
   "id": "1d9b64a9",
   "metadata": {},
   "outputs": [
    {
     "name": "stderr",
     "output_type": "stream",
     "text": [
      "C:\\Users\\mayank\\anaconda3\\lib\\site-packages\\seaborn\\distributions.py:2619: FutureWarning: `distplot` is a deprecated function and will be removed in a future version. Please adapt your code to use either `displot` (a figure-level function with similar flexibility) or `histplot` (an axes-level function for histograms).\n",
      "  warnings.warn(msg, FutureWarning)\n"
     ]
    },
    {
     "data": {
      "text/plain": [
       "<AxesSubplot:ylabel='Density'>"
      ]
     },
     "execution_count": 26,
     "metadata": {},
     "output_type": "execute_result"
    },
    {
     "data": {
      "image/png": "[encoded data removed]",
      "text/plain": [
       "<Figure size 432x288 with 1 Axes>"
      ]
     },
     "metadata": {
      "needs_background": "light"
     },
     "output_type": "display_data"
    }
   ],
   "source": [
    "import seaborn as sns\n",
    "sns.distplot(pred-test_y,kde=True)"
   ]
  },
  {
   "cell_type": "code",
   "execution_count": 27,
   "id": "f378fcb0",
   "metadata": {},
   "outputs": [
    {
     "data": {
      "text/plain": [
       "0.7352837164345809"
      ]
     },
     "execution_count": 27,
     "metadata": {},
     "output_type": "execute_result"
    }
   ],
   "source": [
    "from sklearn.metrics import r2_score\n",
    "Reg_Res=r2_score(pred,test_y)\n",
    "r2_score(pred,test_y)"
   ]
  },
  {
   "cell_type": "code",
   "execution_count": 28,
   "id": "b9368123",
   "metadata": {},
   "outputs": [],
   "source": [
    "##                              With hyperparameter tuning       ridge Regression\n",
    "    \n",
    "\n",
    "from sklearn.linear_model import Ridge\n",
    "from sklearn.model_selection import GridSearchCV\n"
   ]
  },
  {
   "cell_type": "code",
   "execution_count": 29,
   "id": "4f45c24c",
   "metadata": {},
   "outputs": [
    {
     "data": {
      "text/plain": [
       "{'alpha': [1, 11, 21, 31, 41, 51, 61, 71, 81, 91]}"
      ]
     },
     "execution_count": 29,
     "metadata": {},
     "output_type": "execute_result"
    }
   ],
   "source": [
    "ridge_regression=Ridge()\n",
    "loop=[i for i in range(1,100,10)]\n",
    "Parameter={'alpha':loop}\n",
    "Parameter"
   ]
  },
  {
   "cell_type": "code",
   "execution_count": 30,
   "id": "7c4ba84e",
   "metadata": {},
   "outputs": [],
   "source": [
    "Ridge_Grid=GridSearchCV(ridge_regression,param_grid=Parameter,return_train_score=True,cv=5,scoring='neg_mean_squared_error')"
   ]
  },
  {
   "cell_type": "code",
   "execution_count": 31,
   "id": "1474de44",
   "metadata": {},
   "outputs": [
    {
     "data": {
      "text/plain": [
       "GridSearchCV(cv=5, estimator=Ridge(),\n",
       "             param_grid={'alpha': [1, 11, 21, 31, 41, 51, 61, 71, 81, 91]},\n",
       "             return_train_score=True, scoring='neg_mean_squared_error')"
      ]
     },
     "execution_count": 31,
     "metadata": {},
     "output_type": "execute_result"
    }
   ],
   "source": [
    "Ridge_Grid.fit(train_X,train_y)"
   ]
  },
  {
   "cell_type": "code",
   "execution_count": 32,
   "id": "479b55da",
   "metadata": {},
   "outputs": [
    {
     "name": "stdout",
     "output_type": "stream",
     "text": [
      "-26.6577947625271    {'alpha': 11}\n"
     ]
    }
   ],
   "source": [
    "print(Ridge_Grid.best_score_,'  ',Ridge_Grid.best_params_)"
   ]
  },
  {
   "cell_type": "code",
   "execution_count": 33,
   "id": "93e55eee",
   "metadata": {},
   "outputs": [],
   "source": [
    "Ridge_Pred=Ridge_Grid.predict(test_X)"
   ]
  },
  {
   "cell_type": "code",
   "execution_count": 34,
   "id": "df114997",
   "metadata": {},
   "outputs": [
    {
     "name": "stderr",
     "output_type": "stream",
     "text": [
      "C:\\Users\\mayank\\anaconda3\\lib\\site-packages\\seaborn\\distributions.py:2619: FutureWarning: `distplot` is a deprecated function and will be removed in a future version. Please adapt your code to use either `displot` (a figure-level function with similar flexibility) or `histplot` (an axes-level function for histograms).\n",
      "  warnings.warn(msg, FutureWarning)\n"
     ]
    },
    {
     "data": {
      "text/plain": [
       "<AxesSubplot:ylabel='Density'>"
      ]
     },
     "execution_count": 34,
     "metadata": {},
     "output_type": "execute_result"
    },
    {
     "data": {
      "image/png": "[encoded data removed]",
      "text/plain": [
       "<Figure size 432x288 with 1 Axes>"
      ]
     },
     "metadata": {
      "needs_background": "light"
     },
     "output_type": "display_data"
    }
   ],
   "source": [
    "sns.distplot(Ridge_Pred-test_y,kde=True)"
   ]
  },
  {
   "cell_type": "code",
   "execution_count": 35,
   "id": "1e4a46f4",
   "metadata": {},
   "outputs": [],
   "source": [
    "Ridge_Res=r2_score(Ridge_Pred,test_y)"
   ]
  },
  {
   "cell_type": "code",
   "execution_count": 36,
   "id": "f36d1126",
   "metadata": {},
   "outputs": [
    {
     "name": "stdout",
     "output_type": "stream",
     "text": [
      "-26.63007633061116    {'alpha': 7}\n"
     ]
    },
    {
     "name": "stderr",
     "output_type": "stream",
     "text": [
      "C:\\Users\\mayank\\anaconda3\\lib\\site-packages\\seaborn\\distributions.py:2619: FutureWarning: `distplot` is a deprecated function and will be removed in a future version. Please adapt your code to use either `displot` (a figure-level function with similar flexibility) or `histplot` (an axes-level function for histograms).\n",
      "  warnings.warn(msg, FutureWarning)\n"
     ]
    },
    {
     "data": {
      "text/plain": [
       "<AxesSubplot:ylabel='Density'>"
      ]
     },
     "execution_count": 36,
     "metadata": {},
     "output_type": "execute_result"
    },
    {
     "data": {
      "image/png": "[encoded data removed]",
      "text/plain": [
       "<Figure size 432x288 with 1 Axes>"
      ]
     },
     "metadata": {
      "needs_background": "light"
     },
     "output_type": "display_data"
    }
   ],
   "source": [
    "##Again Trying \n",
    "\n",
    "\n",
    "\n",
    "ridge_regression=Ridge()\n",
    "loop=[i for i in range(5,21,2)]\n",
    "Parameter={'alpha':loop}\n",
    "Ridge_Grid=GridSearchCV(ridge_regression,param_grid=Parameter,return_train_score=True,cv=5,scoring='neg_mean_squared_error')\n",
    "\n",
    "Ridge_Grid.fit(train_X,train_y)\n",
    "\n",
    "print(Ridge_Grid.best_score_,'  ',Ridge_Grid.best_params_)\n",
    "\n",
    "Ridge_Pred=Ridge_Grid.predict(test_X)\n",
    "\n",
    "\n",
    "sns.distplot(Ridge_Pred-test_y,kde=True)"
   ]
  },
  {
   "cell_type": "code",
   "execution_count": 37,
   "id": "0ba9850a",
   "metadata": {},
   "outputs": [
    {
     "data": {
      "text/plain": [
       "True"
      ]
     },
     "execution_count": 37,
     "metadata": {},
     "output_type": "execute_result"
    }
   ],
   "source": [
    "Ridge_Grid.return_train_score"
   ]
  },
  {
   "cell_type": "code",
   "execution_count": 38,
   "id": "6b62aca3",
   "metadata": {},
   "outputs": [
    {
     "data": {
      "text/plain": [
       "0.7294102960209325"
      ]
     },
     "execution_count": 38,
     "metadata": {},
     "output_type": "execute_result"
    }
   ],
   "source": [
    "Ridge_Res2=r2_score(Ridge_Pred,test_y)\n",
    "r2_score(Ridge_Pred,test_y)"
   ]
  },
  {
   "cell_type": "markdown",
   "id": "a3fe5e66",
   "metadata": {},
   "source": [
    "#   LASSO REGRESSION "
   ]
  },
  {
   "cell_type": "code",
   "execution_count": 39,
   "id": "639d3af6",
   "metadata": {},
   "outputs": [],
   "source": [
    "##            \n",
    "from sklearn.linear_model import Lasso                      # Lasso used for automatic feature selection \n"
   ]
  },
  {
   "cell_type": "code",
   "execution_count": 40,
   "id": "7ea4205a",
   "metadata": {},
   "outputs": [
    {
     "name": "stderr",
     "output_type": "stream",
     "text": [
      "C:\\Users\\mayank\\anaconda3\\lib\\site-packages\\sklearn\\model_selection\\_validation.py:680: UserWarning: With alpha=0, this algorithm does not converge well. You are advised to use the LinearRegression estimator\n",
      "  estimator.fit(X_train, y_train, **fit_params)\n",
      "C:\\Users\\mayank\\anaconda3\\lib\\site-packages\\sklearn\\linear_model\\_coordinate_descent.py:647: UserWarning: Coordinate descent with no regularization may lead to unexpected results and is discouraged.\n",
      "  model = cd_fast.enet_coordinate_descent(\n",
      "C:\\Users\\mayank\\anaconda3\\lib\\site-packages\\sklearn\\linear_model\\_coordinate_descent.py:647: ConvergenceWarning: Objective did not converge. You might want to increase the number of iterations, check the scale of the features or consider increasing regularisation. Duality gap: 3.739e+03, tolerance: 2.722e+00 Linear regression models with null weight for the l1 regularization term are more efficiently fitted using one of the solvers implemented in sklearn.linear_model.Ridge/RidgeCV instead.\n",
      "  model = cd_fast.enet_coordinate_descent(\n",
      "C:\\Users\\mayank\\anaconda3\\lib\\site-packages\\sklearn\\model_selection\\_validation.py:680: UserWarning: With alpha=0, this algorithm does not converge well. You are advised to use the LinearRegression estimator\n",
      "  estimator.fit(X_train, y_train, **fit_params)\n",
      "C:\\Users\\mayank\\anaconda3\\lib\\site-packages\\sklearn\\linear_model\\_coordinate_descent.py:647: UserWarning: Coordinate descent with no regularization may lead to unexpected results and is discouraged.\n",
      "  model = cd_fast.enet_coordinate_descent(\n",
      "C:\\Users\\mayank\\anaconda3\\lib\\site-packages\\sklearn\\linear_model\\_coordinate_descent.py:647: ConvergenceWarning: Objective did not converge. You might want to increase the number of iterations, check the scale of the features or consider increasing regularisation. Duality gap: 3.391e+03, tolerance: 2.523e+00 Linear regression models with null weight for the l1 regularization term are more efficiently fitted using one of the solvers implemented in sklearn.linear_model.Ridge/RidgeCV instead.\n",
      "  model = cd_fast.enet_coordinate_descent(\n",
      "C:\\Users\\mayank\\anaconda3\\lib\\site-packages\\sklearn\\model_selection\\_validation.py:680: UserWarning: With alpha=0, this algorithm does not converge well. You are advised to use the LinearRegression estimator\n",
      "  estimator.fit(X_train, y_train, **fit_params)\n",
      "C:\\Users\\mayank\\anaconda3\\lib\\site-packages\\sklearn\\linear_model\\_coordinate_descent.py:647: UserWarning: Coordinate descent with no regularization may lead to unexpected results and is discouraged.\n",
      "  model = cd_fast.enet_coordinate_descent(\n",
      "C:\\Users\\mayank\\anaconda3\\lib\\site-packages\\sklearn\\linear_model\\_coordinate_descent.py:647: ConvergenceWarning: Objective did not converge. You might want to increase the number of iterations, check the scale of the features or consider increasing regularisation. Duality gap: 3.511e+03, tolerance: 2.506e+00 Linear regression models with null weight for the l1 regularization term are more efficiently fitted using one of the solvers implemented in sklearn.linear_model.Ridge/RidgeCV instead.\n",
      "  model = cd_fast.enet_coordinate_descent(\n",
      "C:\\Users\\mayank\\anaconda3\\lib\\site-packages\\sklearn\\model_selection\\_validation.py:680: UserWarning: With alpha=0, this algorithm does not converge well. You are advised to use the LinearRegression estimator\n",
      "  estimator.fit(X_train, y_train, **fit_params)\n",
      "C:\\Users\\mayank\\anaconda3\\lib\\site-packages\\sklearn\\linear_model\\_coordinate_descent.py:647: UserWarning: Coordinate descent with no regularization may lead to unexpected results and is discouraged.\n",
      "  model = cd_fast.enet_coordinate_descent(\n",
      "C:\\Users\\mayank\\anaconda3\\lib\\site-packages\\sklearn\\linear_model\\_coordinate_descent.py:647: ConvergenceWarning: Objective did not converge. You might want to increase the number of iterations, check the scale of the features or consider increasing regularisation. Duality gap: 3.497e+03, tolerance: 2.743e+00 Linear regression models with null weight for the l1 regularization term are more efficiently fitted using one of the solvers implemented in sklearn.linear_model.Ridge/RidgeCV instead.\n",
      "  model = cd_fast.enet_coordinate_descent(\n",
      "C:\\Users\\mayank\\anaconda3\\lib\\site-packages\\sklearn\\model_selection\\_validation.py:680: UserWarning: With alpha=0, this algorithm does not converge well. You are advised to use the LinearRegression estimator\n",
      "  estimator.fit(X_train, y_train, **fit_params)\n",
      "C:\\Users\\mayank\\anaconda3\\lib\\site-packages\\sklearn\\linear_model\\_coordinate_descent.py:647: UserWarning: Coordinate descent with no regularization may lead to unexpected results and is discouraged.\n",
      "  model = cd_fast.enet_coordinate_descent(\n",
      "C:\\Users\\mayank\\anaconda3\\lib\\site-packages\\sklearn\\linear_model\\_coordinate_descent.py:647: ConvergenceWarning: Objective did not converge. You might want to increase the number of iterations, check the scale of the features or consider increasing regularisation. Duality gap: 3.230e+03, tolerance: 2.689e+00 Linear regression models with null weight for the l1 regularization term are more efficiently fitted using one of the solvers implemented in sklearn.linear_model.Ridge/RidgeCV instead.\n",
      "  model = cd_fast.enet_coordinate_descent(\n",
      "C:\\Users\\mayank\\anaconda3\\lib\\site-packages\\sklearn\\model_selection\\_search.py:926: UserWarning: With alpha=0, this algorithm does not converge well. You are advised to use the LinearRegression estimator\n",
      "  self.best_estimator_.fit(X, y, **fit_params)\n",
      "C:\\Users\\mayank\\anaconda3\\lib\\site-packages\\sklearn\\linear_model\\_coordinate_descent.py:647: UserWarning: Coordinate descent with no regularization may lead to unexpected results and is discouraged.\n",
      "  model = cd_fast.enet_coordinate_descent(\n"
     ]
    },
    {
     "name": "stdout",
     "output_type": "stream",
     "text": [
      "-26.739500924837433    {'alpha': 0}\n"
     ]
    },
    {
     "name": "stderr",
     "output_type": "stream",
     "text": [
      "C:\\Users\\mayank\\anaconda3\\lib\\site-packages\\sklearn\\linear_model\\_coordinate_descent.py:647: ConvergenceWarning: Objective did not converge. You might want to increase the number of iterations, check the scale of the features or consider increasing regularisation. Duality gap: 4.380e+03, tolerance: 3.298e+00 Linear regression models with null weight for the l1 regularization term are more efficiently fitted using one of the solvers implemented in sklearn.linear_model.Ridge/RidgeCV instead.\n",
      "  model = cd_fast.enet_coordinate_descent(\n",
      "C:\\Users\\mayank\\anaconda3\\lib\\site-packages\\seaborn\\distributions.py:2619: FutureWarning: `distplot` is a deprecated function and will be removed in a future version. Please adapt your code to use either `displot` (a figure-level function with similar flexibility) or `histplot` (an axes-level function for histograms).\n",
      "  warnings.warn(msg, FutureWarning)\n"
     ]
    },
    {
     "data": {
      "text/plain": [
       "<AxesSubplot:ylabel='Density'>"
      ]
     },
     "execution_count": 40,
     "metadata": {},
     "output_type": "execute_result"
    },
    {
     "data": {
      "image/png": "[encoded data removed]",
      "text/plain": [
       "<Figure size 432x288 with 1 Axes>"
      ]
     },
     "metadata": {
      "needs_background": "light"
     },
     "output_type": "display_data"
    }
   ],
   "source": [
    "Lasso_regression=Lasso()\n",
    "\n",
    "\n",
    "loop=[i for i in range(0,18,1)]\n",
    "\n",
    "Parameter={'alpha':loop}\n",
    "Lasso_Grid=GridSearchCV(Lasso_regression,param_grid=Parameter,return_train_score=True,cv=5,scoring='neg_mean_squared_error')\n",
    "\n",
    "Lasso_Grid.fit(train_X,train_y)\n",
    "\n",
    "print(Lasso_Grid.best_score_,'  ',Lasso_Grid.best_params_)\n",
    "\n",
    "Lasso_Pred=Lasso_Grid.predict(test_X)\n",
    "\n",
    "\n",
    "sns.distplot(Lasso_Pred-test_y,kde=True)"
   ]
  },
  {
   "cell_type": "code",
   "execution_count": 41,
   "id": "33d1237d",
   "metadata": {},
   "outputs": [
    {
     "data": {
      "text/plain": [
       "0.7352837164345827"
      ]
     },
     "execution_count": 41,
     "metadata": {},
     "output_type": "execute_result"
    }
   ],
   "source": [
    "Lasso_Res=r2_score(Lasso_Pred,test_y)\n",
    "r2_score(Lasso_Pred,test_y)"
   ]
  },
  {
   "cell_type": "code",
   "execution_count": 42,
   "id": "7ed03037",
   "metadata": {},
   "outputs": [],
   "source": [
    "def maxRes(a,b,c):\n",
    "    if max(a,b,c)==a:\n",
    "       return \"Regresion:\",a\n",
    "    elif max(a,b,c)==b:\n",
    "       return \"Ridge_Regresion:\",b\n",
    "    else:\n",
    "        return \"Lasso_Regresion:\",c"
   ]
  },
  {
   "cell_type": "code",
   "execution_count": 43,
   "id": "cddbd3ea",
   "metadata": {},
   "outputs": [
    {
     "name": "stdout",
     "output_type": "stream",
     "text": [
      "('Lasso_Regresion:', 0.7352837164345827)  has the highest accuracy\n"
     ]
    }
   ],
   "source": [
    "print (maxRes(Reg_Res,Ridge_Res2,Lasso_Res),' has the highest accuracy')"
   ]
  },
  {
   "cell_type": "markdown",
   "id": "aed87d43",
   "metadata": {},
   "source": [
    "  \n",
    "  # ElasticNet Regression \n",
    "  "
   ]
  },
  {
   "cell_type": "code",
   "execution_count": 44,
   "id": "1bb6755b",
   "metadata": {},
   "outputs": [],
   "source": [
    "from sklearn.linear_model import ElasticNet\n",
    "En=ElasticNet()\n",
    "loop=[i for i in range(0,50,2)]\n",
    "l1_loop=[0.1,0.2,0.25,0.3,0.5]"
   ]
  },
  {
   "cell_type": "code",
   "execution_count": 45,
   "id": "3e1789f2",
   "metadata": {},
   "outputs": [],
   "source": [
    "Elastic_param={'alpha':loop,'l1_ratio':l1_loop}\n",
    "Elastic_Grid=GridSearchCV(En,param_grid=Elastic_param,cv=5,return_train_score=True,error_score='raise')"
   ]
  },
  {
   "cell_type": "code",
   "execution_count": 46,
   "id": "a1c33c3b",
   "metadata": {},
   "outputs": [
    {
     "name": "stderr",
     "output_type": "stream",
     "text": [
      "C:\\Users\\mayank\\anaconda3\\lib\\site-packages\\sklearn\\model_selection\\_validation.py:680: UserWarning: With alpha=0, this algorithm does not converge well. You are advised to use the LinearRegression estimator\n",
      "  estimator.fit(X_train, y_train, **fit_params)\n",
      "C:\\Users\\mayank\\anaconda3\\lib\\site-packages\\sklearn\\linear_model\\_coordinate_descent.py:647: UserWarning: Coordinate descent with no regularization may lead to unexpected results and is discouraged.\n",
      "  model = cd_fast.enet_coordinate_descent(\n",
      "C:\\Users\\mayank\\anaconda3\\lib\\site-packages\\sklearn\\linear_model\\_coordinate_descent.py:647: ConvergenceWarning: Objective did not converge. You might want to increase the number of iterations, check the scale of the features or consider increasing regularisation. Duality gap: 3.739e+03, tolerance: 2.722e+00 Linear regression models with null weight for the l1 regularization term are more efficiently fitted using one of the solvers implemented in sklearn.linear_model.Ridge/RidgeCV instead.\n",
      "  model = cd_fast.enet_coordinate_descent(\n",
      "C:\\Users\\mayank\\anaconda3\\lib\\site-packages\\sklearn\\model_selection\\_validation.py:680: UserWarning: With alpha=0, this algorithm does not converge well. You are advised to use the LinearRegression estimator\n",
      "  estimator.fit(X_train, y_train, **fit_params)\n",
      "C:\\Users\\mayank\\anaconda3\\lib\\site-packages\\sklearn\\linear_model\\_coordinate_descent.py:647: UserWarning: Coordinate descent with no regularization may lead to unexpected results and is discouraged.\n",
      "  model = cd_fast.enet_coordinate_descent(\n",
      "C:\\Users\\mayank\\anaconda3\\lib\\site-packages\\sklearn\\linear_model\\_coordinate_descent.py:647: ConvergenceWarning: Objective did not converge. You might want to increase the number of iterations, check the scale of the features or consider increasing regularisation. Duality gap: 3.391e+03, tolerance: 2.523e+00 Linear regression models with null weight for the l1 regularization term are more efficiently fitted using one of the solvers implemented in sklearn.linear_model.Ridge/RidgeCV instead.\n",
      "  model = cd_fast.enet_coordinate_descent(\n",
      "C:\\Users\\mayank\\anaconda3\\lib\\site-packages\\sklearn\\model_selection\\_validation.py:680: UserWarning: With alpha=0, this algorithm does not converge well. You are advised to use the LinearRegression estimator\n",
      "  estimator.fit(X_train, y_train, **fit_params)\n",
      "C:\\Users\\mayank\\anaconda3\\lib\\site-packages\\sklearn\\linear_model\\_coordinate_descent.py:647: UserWarning: Coordinate descent with no regularization may lead to unexpected results and is discouraged.\n",
      "  model = cd_fast.enet_coordinate_descent(\n",
      "C:\\Users\\mayank\\anaconda3\\lib\\site-packages\\sklearn\\linear_model\\_coordinate_descent.py:647: ConvergenceWarning: Objective did not converge. You might want to increase the number of iterations, check the scale of the features or consider increasing regularisation. Duality gap: 3.511e+03, tolerance: 2.506e+00 Linear regression models with null weight for the l1 regularization term are more efficiently fitted using one of the solvers implemented in sklearn.linear_model.Ridge/RidgeCV instead.\n",
      "  model = cd_fast.enet_coordinate_descent(\n",
      "C:\\Users\\mayank\\anaconda3\\lib\\site-packages\\sklearn\\model_selection\\_validation.py:680: UserWarning: With alpha=0, this algorithm does not converge well. You are advised to use the LinearRegression estimator\n",
      "  estimator.fit(X_train, y_train, **fit_params)\n",
      "C:\\Users\\mayank\\anaconda3\\lib\\site-packages\\sklearn\\linear_model\\_coordinate_descent.py:647: UserWarning: Coordinate descent with no regularization may lead to unexpected results and is discouraged.\n",
      "  model = cd_fast.enet_coordinate_descent(\n",
      "C:\\Users\\mayank\\anaconda3\\lib\\site-packages\\sklearn\\linear_model\\_coordinate_descent.py:647: ConvergenceWarning: Objective did not converge. You might want to increase the number of iterations, check the scale of the features or consider increasing regularisation. Duality gap: 3.497e+03, tolerance: 2.743e+00 Linear regression models with null weight for the l1 regularization term are more efficiently fitted using one of the solvers implemented in sklearn.linear_model.Ridge/RidgeCV instead.\n",
      "  model = cd_fast.enet_coordinate_descent(\n",
      "C:\\Users\\mayank\\anaconda3\\lib\\site-packages\\sklearn\\model_selection\\_validation.py:680: UserWarning: With alpha=0, this algorithm does not converge well. You are advised to use the LinearRegression estimator\n",
      "  estimator.fit(X_train, y_train, **fit_params)\n",
      "C:\\Users\\mayank\\anaconda3\\lib\\site-packages\\sklearn\\linear_model\\_coordinate_descent.py:647: UserWarning: Coordinate descent with no regularization may lead to unexpected results and is discouraged.\n",
      "  model = cd_fast.enet_coordinate_descent(\n",
      "C:\\Users\\mayank\\anaconda3\\lib\\site-packages\\sklearn\\linear_model\\_coordinate_descent.py:647: ConvergenceWarning: Objective did not converge. You might want to increase the number of iterations, check the scale of the features or consider increasing regularisation. Duality gap: 3.230e+03, tolerance: 2.689e+00 Linear regression models with null weight for the l1 regularization term are more efficiently fitted using one of the solvers implemented in sklearn.linear_model.Ridge/RidgeCV instead.\n",
      "  model = cd_fast.enet_coordinate_descent(\n",
      "C:\\Users\\mayank\\anaconda3\\lib\\site-packages\\sklearn\\model_selection\\_validation.py:680: UserWarning: With alpha=0, this algorithm does not converge well. You are advised to use the LinearRegression estimator\n",
      "  estimator.fit(X_train, y_train, **fit_params)\n",
      "C:\\Users\\mayank\\anaconda3\\lib\\site-packages\\sklearn\\linear_model\\_coordinate_descent.py:647: UserWarning: Coordinate descent with no regularization may lead to unexpected results and is discouraged.\n",
      "  model = cd_fast.enet_coordinate_descent(\n",
      "C:\\Users\\mayank\\anaconda3\\lib\\site-packages\\sklearn\\linear_model\\_coordinate_descent.py:647: ConvergenceWarning: Objective did not converge. You might want to increase the number of iterations, check the scale of the features or consider increasing regularisation. Duality gap: 3.739e+03, tolerance: 2.722e+00 Linear regression models with null weight for the l1 regularization term are more efficiently fitted using one of the solvers implemented in sklearn.linear_model.Ridge/RidgeCV instead.\n",
      "  model = cd_fast.enet_coordinate_descent(\n",
      "C:\\Users\\mayank\\anaconda3\\lib\\site-packages\\sklearn\\model_selection\\_validation.py:680: UserWarning: With alpha=0, this algorithm does not converge well. You are advised to use the LinearRegression estimator\n",
      "  estimator.fit(X_train, y_train, **fit_params)\n",
      "C:\\Users\\mayank\\anaconda3\\lib\\site-packages\\sklearn\\linear_model\\_coordinate_descent.py:647: UserWarning: Coordinate descent with no regularization may lead to unexpected results and is discouraged.\n",
      "  model = cd_fast.enet_coordinate_descent(\n",
      "C:\\Users\\mayank\\anaconda3\\lib\\site-packages\\sklearn\\linear_model\\_coordinate_descent.py:647: ConvergenceWarning: Objective did not converge. You might want to increase the number of iterations, check the scale of the features or consider increasing regularisation. Duality gap: 3.391e+03, tolerance: 2.523e+00 Linear regression models with null weight for the l1 regularization term are more efficiently fitted using one of the solvers implemented in sklearn.linear_model.Ridge/RidgeCV instead.\n",
      "  model = cd_fast.enet_coordinate_descent(\n",
      "C:\\Users\\mayank\\anaconda3\\lib\\site-packages\\sklearn\\model_selection\\_validation.py:680: UserWarning: With alpha=0, this algorithm does not converge well. You are advised to use the LinearRegression estimator\n",
      "  estimator.fit(X_train, y_train, **fit_params)\n",
      "C:\\Users\\mayank\\anaconda3\\lib\\site-packages\\sklearn\\linear_model\\_coordinate_descent.py:647: UserWarning: Coordinate descent with no regularization may lead to unexpected results and is discouraged.\n",
      "  model = cd_fast.enet_coordinate_descent(\n",
      "C:\\Users\\mayank\\anaconda3\\lib\\site-packages\\sklearn\\linear_model\\_coordinate_descent.py:647: ConvergenceWarning: Objective did not converge. You might want to increase the number of iterations, check the scale of the features or consider increasing regularisation. Duality gap: 3.511e+03, tolerance: 2.506e+00 Linear regression models with null weight for the l1 regularization term are more efficiently fitted using one of the solvers implemented in sklearn.linear_model.Ridge/RidgeCV instead.\n",
      "  model = cd_fast.enet_coordinate_descent(\n",
      "C:\\Users\\mayank\\anaconda3\\lib\\site-packages\\sklearn\\model_selection\\_validation.py:680: UserWarning: With alpha=0, this algorithm does not converge well. You are advised to use the LinearRegression estimator\n",
      "  estimator.fit(X_train, y_train, **fit_params)\n",
      "C:\\Users\\mayank\\anaconda3\\lib\\site-packages\\sklearn\\linear_model\\_coordinate_descent.py:647: UserWarning: Coordinate descent with no regularization may lead to unexpected results and is discouraged.\n",
      "  model = cd_fast.enet_coordinate_descent(\n",
      "C:\\Users\\mayank\\anaconda3\\lib\\site-packages\\sklearn\\linear_model\\_coordinate_descent.py:647: ConvergenceWarning: Objective did not converge. You might want to increase the number of iterations, check the scale of the features or consider increasing regularisation. Duality gap: 3.497e+03, tolerance: 2.743e+00 Linear regression models with null weight for the l1 regularization term are more efficiently fitted using one of the solvers implemented in sklearn.linear_model.Ridge/RidgeCV instead.\n",
      "  model = cd_fast.enet_coordinate_descent(\n",
      "C:\\Users\\mayank\\anaconda3\\lib\\site-packages\\sklearn\\model_selection\\_validation.py:680: UserWarning: With alpha=0, this algorithm does not converge well. You are advised to use the LinearRegression estimator\n",
      "  estimator.fit(X_train, y_train, **fit_params)\n",
      "C:\\Users\\mayank\\anaconda3\\lib\\site-packages\\sklearn\\linear_model\\_coordinate_descent.py:647: UserWarning: Coordinate descent with no regularization may lead to unexpected results and is discouraged.\n",
      "  model = cd_fast.enet_coordinate_descent(\n",
      "C:\\Users\\mayank\\anaconda3\\lib\\site-packages\\sklearn\\linear_model\\_coordinate_descent.py:647: ConvergenceWarning: Objective did not converge. You might want to increase the number of iterations, check the scale of the features or consider increasing regularisation. Duality gap: 3.230e+03, tolerance: 2.689e+00 Linear regression models with null weight for the l1 regularization term are more efficiently fitted using one of the solvers implemented in sklearn.linear_model.Ridge/RidgeCV instead.\n",
      "  model = cd_fast.enet_coordinate_descent(\n",
      "C:\\Users\\mayank\\anaconda3\\lib\\site-packages\\sklearn\\model_selection\\_validation.py:680: UserWarning: With alpha=0, this algorithm does not converge well. You are advised to use the LinearRegression estimator\n",
      "  estimator.fit(X_train, y_train, **fit_params)\n",
      "C:\\Users\\mayank\\anaconda3\\lib\\site-packages\\sklearn\\linear_model\\_coordinate_descent.py:647: UserWarning: Coordinate descent with no regularization may lead to unexpected results and is discouraged.\n",
      "  model = cd_fast.enet_coordinate_descent(\n",
      "C:\\Users\\mayank\\anaconda3\\lib\\site-packages\\sklearn\\linear_model\\_coordinate_descent.py:647: ConvergenceWarning: Objective did not converge. You might want to increase the number of iterations, check the scale of the features or consider increasing regularisation. Duality gap: 3.739e+03, tolerance: 2.722e+00 Linear regression models with null weight for the l1 regularization term are more efficiently fitted using one of the solvers implemented in sklearn.linear_model.Ridge/RidgeCV instead.\n",
      "  model = cd_fast.enet_coordinate_descent(\n",
      "C:\\Users\\mayank\\anaconda3\\lib\\site-packages\\sklearn\\model_selection\\_validation.py:680: UserWarning: With alpha=0, this algorithm does not converge well. You are advised to use the LinearRegression estimator\n",
      "  estimator.fit(X_train, y_train, **fit_params)\n",
      "C:\\Users\\mayank\\anaconda3\\lib\\site-packages\\sklearn\\linear_model\\_coordinate_descent.py:647: UserWarning: Coordinate descent with no regularization may lead to unexpected results and is discouraged.\n",
      "  model = cd_fast.enet_coordinate_descent(\n",
      "C:\\Users\\mayank\\anaconda3\\lib\\site-packages\\sklearn\\linear_model\\_coordinate_descent.py:647: ConvergenceWarning: Objective did not converge. You might want to increase the number of iterations, check the scale of the features or consider increasing regularisation. Duality gap: 3.391e+03, tolerance: 2.523e+00 Linear regression models with null weight for the l1 regularization term are more efficiently fitted using one of the solvers implemented in sklearn.linear_model.Ridge/RidgeCV instead.\n",
      "  model = cd_fast.enet_coordinate_descent(\n",
      "C:\\Users\\mayank\\anaconda3\\lib\\site-packages\\sklearn\\model_selection\\_validation.py:680: UserWarning: With alpha=0, this algorithm does not converge well. You are advised to use the LinearRegression estimator\n",
      "  estimator.fit(X_train, y_train, **fit_params)\n",
      "C:\\Users\\mayank\\anaconda3\\lib\\site-packages\\sklearn\\linear_model\\_coordinate_descent.py:647: UserWarning: Coordinate descent with no regularization may lead to unexpected results and is discouraged.\n",
      "  model = cd_fast.enet_coordinate_descent(\n",
      "C:\\Users\\mayank\\anaconda3\\lib\\site-packages\\sklearn\\linear_model\\_coordinate_descent.py:647: ConvergenceWarning: Objective did not converge. You might want to increase the number of iterations, check the scale of the features or consider increasing regularisation. Duality gap: 3.511e+03, tolerance: 2.506e+00 Linear regression models with null weight for the l1 regularization term are more efficiently fitted using one of the solvers implemented in sklearn.linear_model.Ridge/RidgeCV instead.\n",
      "  model = cd_fast.enet_coordinate_descent(\n",
      "C:\\Users\\mayank\\anaconda3\\lib\\site-packages\\sklearn\\model_selection\\_validation.py:680: UserWarning: With alpha=0, this algorithm does not converge well. You are advised to use the LinearRegression estimator\n",
      "  estimator.fit(X_train, y_train, **fit_params)\n",
      "C:\\Users\\mayank\\anaconda3\\lib\\site-packages\\sklearn\\linear_model\\_coordinate_descent.py:647: UserWarning: Coordinate descent with no regularization may lead to unexpected results and is discouraged.\n",
      "  model = cd_fast.enet_coordinate_descent(\n",
      "C:\\Users\\mayank\\anaconda3\\lib\\site-packages\\sklearn\\linear_model\\_coordinate_descent.py:647: ConvergenceWarning: Objective did not converge. You might want to increase the number of iterations, check the scale of the features or consider increasing regularisation. Duality gap: 3.497e+03, tolerance: 2.743e+00 Linear regression models with null weight for the l1 regularization term are more efficiently fitted using one of the solvers implemented in sklearn.linear_model.Ridge/RidgeCV instead.\n",
      "  model = cd_fast.enet_coordinate_descent(\n",
      "C:\\Users\\mayank\\anaconda3\\lib\\site-packages\\sklearn\\model_selection\\_validation.py:680: UserWarning: With alpha=0, this algorithm does not converge well. You are advised to use the LinearRegression estimator\n",
      "  estimator.fit(X_train, y_train, **fit_params)\n",
      "C:\\Users\\mayank\\anaconda3\\lib\\site-packages\\sklearn\\linear_model\\_coordinate_descent.py:647: UserWarning: Coordinate descent with no regularization may lead to unexpected results and is discouraged.\n",
      "  model = cd_fast.enet_coordinate_descent(\n",
      "C:\\Users\\mayank\\anaconda3\\lib\\site-packages\\sklearn\\linear_model\\_coordinate_descent.py:647: ConvergenceWarning: Objective did not converge. You might want to increase the number of iterations, check the scale of the features or consider increasing regularisation. Duality gap: 3.230e+03, tolerance: 2.689e+00 Linear regression models with null weight for the l1 regularization term are more efficiently fitted using one of the solvers implemented in sklearn.linear_model.Ridge/RidgeCV instead.\n",
      "  model = cd_fast.enet_coordinate_descent(\n",
      "C:\\Users\\mayank\\anaconda3\\lib\\site-packages\\sklearn\\model_selection\\_validation.py:680: UserWarning: With alpha=0, this algorithm does not converge well. You are advised to use the LinearRegression estimator\n",
      "  estimator.fit(X_train, y_train, **fit_params)\n",
      "C:\\Users\\mayank\\anaconda3\\lib\\site-packages\\sklearn\\linear_model\\_coordinate_descent.py:647: UserWarning: Coordinate descent with no regularization may lead to unexpected results and is discouraged.\n",
      "  model = cd_fast.enet_coordinate_descent(\n",
      "C:\\Users\\mayank\\anaconda3\\lib\\site-packages\\sklearn\\linear_model\\_coordinate_descent.py:647: ConvergenceWarning: Objective did not converge. You might want to increase the number of iterations, check the scale of the features or consider increasing regularisation. Duality gap: 3.739e+03, tolerance: 2.722e+00 Linear regression models with null weight for the l1 regularization term are more efficiently fitted using one of the solvers implemented in sklearn.linear_model.Ridge/RidgeCV instead.\n",
      "  model = cd_fast.enet_coordinate_descent(\n",
      "C:\\Users\\mayank\\anaconda3\\lib\\site-packages\\sklearn\\model_selection\\_validation.py:680: UserWarning: With alpha=0, this algorithm does not converge well. You are advised to use the LinearRegression estimator\n",
      "  estimator.fit(X_train, y_train, **fit_params)\n",
      "C:\\Users\\mayank\\anaconda3\\lib\\site-packages\\sklearn\\linear_model\\_coordinate_descent.py:647: UserWarning: Coordinate descent with no regularization may lead to unexpected results and is discouraged.\n",
      "  model = cd_fast.enet_coordinate_descent(\n",
      "C:\\Users\\mayank\\anaconda3\\lib\\site-packages\\sklearn\\linear_model\\_coordinate_descent.py:647: ConvergenceWarning: Objective did not converge. You might want to increase the number of iterations, check the scale of the features or consider increasing regularisation. Duality gap: 3.391e+03, tolerance: 2.523e+00 Linear regression models with null weight for the l1 regularization term are more efficiently fitted using one of the solvers implemented in sklearn.linear_model.Ridge/RidgeCV instead.\n",
      "  model = cd_fast.enet_coordinate_descent(\n",
      "C:\\Users\\mayank\\anaconda3\\lib\\site-packages\\sklearn\\model_selection\\_validation.py:680: UserWarning: With alpha=0, this algorithm does not converge well. You are advised to use the LinearRegression estimator\n",
      "  estimator.fit(X_train, y_train, **fit_params)\n",
      "C:\\Users\\mayank\\anaconda3\\lib\\site-packages\\sklearn\\linear_model\\_coordinate_descent.py:647: UserWarning: Coordinate descent with no regularization may lead to unexpected results and is discouraged.\n",
      "  model = cd_fast.enet_coordinate_descent(\n",
      "C:\\Users\\mayank\\anaconda3\\lib\\site-packages\\sklearn\\linear_model\\_coordinate_descent.py:647: ConvergenceWarning: Objective did not converge. You might want to increase the number of iterations, check the scale of the features or consider increasing regularisation. Duality gap: 3.511e+03, tolerance: 2.506e+00 Linear regression models with null weight for the l1 regularization term are more efficiently fitted using one of the solvers implemented in sklearn.linear_model.Ridge/RidgeCV instead.\n",
      "  model = cd_fast.enet_coordinate_descent(\n",
      "C:\\Users\\mayank\\anaconda3\\lib\\site-packages\\sklearn\\model_selection\\_validation.py:680: UserWarning: With alpha=0, this algorithm does not converge well. You are advised to use the LinearRegression estimator\n",
      "  estimator.fit(X_train, y_train, **fit_params)\n",
      "C:\\Users\\mayank\\anaconda3\\lib\\site-packages\\sklearn\\linear_model\\_coordinate_descent.py:647: UserWarning: Coordinate descent with no regularization may lead to unexpected results and is discouraged.\n",
      "  model = cd_fast.enet_coordinate_descent(\n",
      "C:\\Users\\mayank\\anaconda3\\lib\\site-packages\\sklearn\\linear_model\\_coordinate_descent.py:647: ConvergenceWarning: Objective did not converge. You might want to increase the number of iterations, check the scale of the features or consider increasing regularisation. Duality gap: 3.497e+03, tolerance: 2.743e+00 Linear regression models with null weight for the l1 regularization term are more efficiently fitted using one of the solvers implemented in sklearn.linear_model.Ridge/RidgeCV instead.\n",
      "  model = cd_fast.enet_coordinate_descent(\n",
      "C:\\Users\\mayank\\anaconda3\\lib\\site-packages\\sklearn\\model_selection\\_validation.py:680: UserWarning: With alpha=0, this algorithm does not converge well. You are advised to use the LinearRegression estimator\n",
      "  estimator.fit(X_train, y_train, **fit_params)\n",
      "C:\\Users\\mayank\\anaconda3\\lib\\site-packages\\sklearn\\linear_model\\_coordinate_descent.py:647: UserWarning: Coordinate descent with no regularization may lead to unexpected results and is discouraged.\n",
      "  model = cd_fast.enet_coordinate_descent(\n",
      "C:\\Users\\mayank\\anaconda3\\lib\\site-packages\\sklearn\\linear_model\\_coordinate_descent.py:647: ConvergenceWarning: Objective did not converge. You might want to increase the number of iterations, check the scale of the features or consider increasing regularisation. Duality gap: 3.230e+03, tolerance: 2.689e+00 Linear regression models with null weight for the l1 regularization term are more efficiently fitted using one of the solvers implemented in sklearn.linear_model.Ridge/RidgeCV instead.\n",
      "  model = cd_fast.enet_coordinate_descent(\n",
      "C:\\Users\\mayank\\anaconda3\\lib\\site-packages\\sklearn\\model_selection\\_validation.py:680: UserWarning: With alpha=0, this algorithm does not converge well. You are advised to use the LinearRegression estimator\n",
      "  estimator.fit(X_train, y_train, **fit_params)\n",
      "C:\\Users\\mayank\\anaconda3\\lib\\site-packages\\sklearn\\linear_model\\_coordinate_descent.py:647: UserWarning: Coordinate descent with no regularization may lead to unexpected results and is discouraged.\n",
      "  model = cd_fast.enet_coordinate_descent(\n",
      "C:\\Users\\mayank\\anaconda3\\lib\\site-packages\\sklearn\\linear_model\\_coordinate_descent.py:647: ConvergenceWarning: Objective did not converge. You might want to increase the number of iterations, check the scale of the features or consider increasing regularisation. Duality gap: 3.739e+03, tolerance: 2.722e+00 Linear regression models with null weight for the l1 regularization term are more efficiently fitted using one of the solvers implemented in sklearn.linear_model.Ridge/RidgeCV instead.\n",
      "  model = cd_fast.enet_coordinate_descent(\n",
      "C:\\Users\\mayank\\anaconda3\\lib\\site-packages\\sklearn\\model_selection\\_validation.py:680: UserWarning: With alpha=0, this algorithm does not converge well. You are advised to use the LinearRegression estimator\n",
      "  estimator.fit(X_train, y_train, **fit_params)\n",
      "C:\\Users\\mayank\\anaconda3\\lib\\site-packages\\sklearn\\linear_model\\_coordinate_descent.py:647: UserWarning: Coordinate descent with no regularization may lead to unexpected results and is discouraged.\n",
      "  model = cd_fast.enet_coordinate_descent(\n",
      "C:\\Users\\mayank\\anaconda3\\lib\\site-packages\\sklearn\\linear_model\\_coordinate_descent.py:647: ConvergenceWarning: Objective did not converge. You might want to increase the number of iterations, check the scale of the features or consider increasing regularisation. Duality gap: 3.391e+03, tolerance: 2.523e+00 Linear regression models with null weight for the l1 regularization term are more efficiently fitted using one of the solvers implemented in sklearn.linear_model.Ridge/RidgeCV instead.\n",
      "  model = cd_fast.enet_coordinate_descent(\n",
      "C:\\Users\\mayank\\anaconda3\\lib\\site-packages\\sklearn\\model_selection\\_validation.py:680: UserWarning: With alpha=0, this algorithm does not converge well. You are advised to use the LinearRegression estimator\n",
      "  estimator.fit(X_train, y_train, **fit_params)\n",
      "C:\\Users\\mayank\\anaconda3\\lib\\site-packages\\sklearn\\linear_model\\_coordinate_descent.py:647: UserWarning: Coordinate descent with no regularization may lead to unexpected results and is discouraged.\n",
      "  model = cd_fast.enet_coordinate_descent(\n"
     ]
    },
    {
     "name": "stderr",
     "output_type": "stream",
     "text": [
      "C:\\Users\\mayank\\anaconda3\\lib\\site-packages\\sklearn\\linear_model\\_coordinate_descent.py:647: ConvergenceWarning: Objective did not converge. You might want to increase the number of iterations, check the scale of the features or consider increasing regularisation. Duality gap: 3.511e+03, tolerance: 2.506e+00 Linear regression models with null weight for the l1 regularization term are more efficiently fitted using one of the solvers implemented in sklearn.linear_model.Ridge/RidgeCV instead.\n",
      "  model = cd_fast.enet_coordinate_descent(\n",
      "C:\\Users\\mayank\\anaconda3\\lib\\site-packages\\sklearn\\model_selection\\_validation.py:680: UserWarning: With alpha=0, this algorithm does not converge well. You are advised to use the LinearRegression estimator\n",
      "  estimator.fit(X_train, y_train, **fit_params)\n",
      "C:\\Users\\mayank\\anaconda3\\lib\\site-packages\\sklearn\\linear_model\\_coordinate_descent.py:647: UserWarning: Coordinate descent with no regularization may lead to unexpected results and is discouraged.\n",
      "  model = cd_fast.enet_coordinate_descent(\n",
      "C:\\Users\\mayank\\anaconda3\\lib\\site-packages\\sklearn\\linear_model\\_coordinate_descent.py:647: ConvergenceWarning: Objective did not converge. You might want to increase the number of iterations, check the scale of the features or consider increasing regularisation. Duality gap: 3.497e+03, tolerance: 2.743e+00 Linear regression models with null weight for the l1 regularization term are more efficiently fitted using one of the solvers implemented in sklearn.linear_model.Ridge/RidgeCV instead.\n",
      "  model = cd_fast.enet_coordinate_descent(\n",
      "C:\\Users\\mayank\\anaconda3\\lib\\site-packages\\sklearn\\model_selection\\_validation.py:680: UserWarning: With alpha=0, this algorithm does not converge well. You are advised to use the LinearRegression estimator\n",
      "  estimator.fit(X_train, y_train, **fit_params)\n",
      "C:\\Users\\mayank\\anaconda3\\lib\\site-packages\\sklearn\\linear_model\\_coordinate_descent.py:647: UserWarning: Coordinate descent with no regularization may lead to unexpected results and is discouraged.\n",
      "  model = cd_fast.enet_coordinate_descent(\n",
      "C:\\Users\\mayank\\anaconda3\\lib\\site-packages\\sklearn\\linear_model\\_coordinate_descent.py:647: ConvergenceWarning: Objective did not converge. You might want to increase the number of iterations, check the scale of the features or consider increasing regularisation. Duality gap: 3.230e+03, tolerance: 2.689e+00 Linear regression models with null weight for the l1 regularization term are more efficiently fitted using one of the solvers implemented in sklearn.linear_model.Ridge/RidgeCV instead.\n",
      "  model = cd_fast.enet_coordinate_descent(\n",
      "C:\\Users\\mayank\\anaconda3\\lib\\site-packages\\sklearn\\model_selection\\_search.py:926: UserWarning: With alpha=0, this algorithm does not converge well. You are advised to use the LinearRegression estimator\n",
      "  self.best_estimator_.fit(X, y, **fit_params)\n",
      "C:\\Users\\mayank\\anaconda3\\lib\\site-packages\\sklearn\\linear_model\\_coordinate_descent.py:647: UserWarning: Coordinate descent with no regularization may lead to unexpected results and is discouraged.\n",
      "  model = cd_fast.enet_coordinate_descent(\n",
      "C:\\Users\\mayank\\anaconda3\\lib\\site-packages\\sklearn\\linear_model\\_coordinate_descent.py:647: ConvergenceWarning: Objective did not converge. You might want to increase the number of iterations, check the scale of the features or consider increasing regularisation. Duality gap: 4.380e+03, tolerance: 3.298e+00 Linear regression models with null weight for the l1 regularization term are more efficiently fitted using one of the solvers implemented in sklearn.linear_model.Ridge/RidgeCV instead.\n",
      "  model = cd_fast.enet_coordinate_descent(\n"
     ]
    },
    {
     "data": {
      "text/plain": [
       "GridSearchCV(cv=5, error_score='raise', estimator=ElasticNet(),\n",
       "             param_grid={'alpha': [0, 2, 4, 6, 8, 10, 12, 14, 16, 18, 20, 22,\n",
       "                                   24, 26, 28, 30, 32, 34, 36, 38, 40, 42, 44,\n",
       "                                   46, 48],\n",
       "                         'l1_ratio': [0.1, 0.2, 0.25, 0.3, 0.5]},\n",
       "             return_train_score=True)"
      ]
     },
     "execution_count": 46,
     "metadata": {},
     "output_type": "execute_result"
    }
   ],
   "source": [
    "Elastic_Grid.fit(train_X,train_y)"
   ]
  },
  {
   "cell_type": "code",
   "execution_count": 47,
   "id": "5c85dfcc",
   "metadata": {},
   "outputs": [],
   "source": [
    "Elastic_pred=Elastic_Grid.predict(test_X)\n"
   ]
  },
  {
   "cell_type": "code",
   "execution_count": 48,
   "id": "60a6a41a",
   "metadata": {},
   "outputs": [
    {
     "data": {
      "text/plain": [
       "{'alpha': 0, 'l1_ratio': 0.1}"
      ]
     },
     "execution_count": 48,
     "metadata": {},
     "output_type": "execute_result"
    }
   ],
   "source": [
    "Elastic_Grid.best_params_"
   ]
  },
  {
   "cell_type": "code",
   "execution_count": 49,
   "id": "0ed7d91a",
   "metadata": {},
   "outputs": [
    {
     "data": {
      "text/plain": [
       "0.7352837164345827"
      ]
     },
     "execution_count": 49,
     "metadata": {},
     "output_type": "execute_result"
    }
   ],
   "source": [
    "Elastic_Res=r2_score(Elastic_pred,test_y)\n",
    "r2_score(Elastic_pred,test_y)"
   ]
  },
  {
   "cell_type": "code",
   "execution_count": 50,
   "id": "0ac9a92e",
   "metadata": {},
   "outputs": [
    {
     "name": "stderr",
     "output_type": "stream",
     "text": [
      "C:\\Users\\mayank\\anaconda3\\lib\\site-packages\\seaborn\\distributions.py:2619: FutureWarning: `distplot` is a deprecated function and will be removed in a future version. Please adapt your code to use either `displot` (a figure-level function with similar flexibility) or `histplot` (an axes-level function for histograms).\n",
      "  warnings.warn(msg, FutureWarning)\n"
     ]
    },
    {
     "data": {
      "text/plain": [
       "<AxesSubplot:ylabel='Density'>"
      ]
     },
     "execution_count": 50,
     "metadata": {},
     "output_type": "execute_result"
    },
    {
     "data": {
      "image/png": "[encoded data removed]",
      "text/plain": [
       "<Figure size 432x288 with 1 Axes>"
      ]
     },
     "metadata": {
      "needs_background": "light"
     },
     "output_type": "display_data"
    }
   ],
   "source": [
    "sns.distplot(Elastic_pred-test_y,kde=True)"
   ]
  },
  {
   "cell_type": "code",
   "execution_count": 51,
   "id": "ae291b45",
   "metadata": {},
   "outputs": [],
   "source": [
    "def maxResAll(a,b,c,d):\n",
    "    if max(a,b,c,d)==a:\n",
    "       return 'Regression:',round(a*100,3)\n",
    "    elif max(a,b,c,d)==b:\n",
    "       return 'Ridge_Regression:',round(b*100,3)\n",
    "    elif max(a,b,c,d)==c:\n",
    "        return 'Lasso_Regression:',round(c*100,3)\n",
    "    else:\n",
    "        return 'Elastic Regression',round(d*100,3)"
   ]
  },
  {
   "cell_type": "code",
   "execution_count": 52,
   "id": "c28d2647",
   "metadata": {},
   "outputs": [
    {
     "name": "stdout",
     "output_type": "stream",
     "text": [
      "('Lasso_Regression:', 73.528)  has the highest Accuracy\n"
     ]
    }
   ],
   "source": [
    "print(maxResAll(Reg_Res,Ridge_Res2,Lasso_Res,Elastic_Res),' has the highest Accuracy')"
   ]
  },
  {
   "cell_type": "markdown",
   "id": "3b3edcd4",
   "metadata": {},
   "source": [
    "# Random Forest Regressor"
   ]
  },
  {
   "cell_type": "code",
   "execution_count": 53,
   "id": "1d913158",
   "metadata": {},
   "outputs": [],
   "source": [
    "\n",
    "from sklearn.ensemble import RandomForestRegressor\n",
    "Rf=RandomForestRegressor()\n",
    "\n",
    "# RandomForestClassifier(\n",
    "#     n_estimators=100,\n",
    "#     *,\n",
    "#     criterion='gini',\n",
    "#     max_depth=None,\n",
    "#     min_samples_split=2,\n",
    "#     min_samples_leaf=1,\n",
    "#     min_weight_fraction_leaf=0.0,\n",
    "#     max_features='auto',\n",
    "#     max_leaf_nodes=None,\n",
    "#     min_impurity_decrease=0.0,\n",
    "#     bootstrap=True,\n",
    "#     oob_score=False,\n",
    "#     n_jobs=None,\n",
    "#     random_state=None,\n",
    "#     verbose=0,\n",
    "#     warm_start=False,\n",
    "#     class_weight=None,\n",
    "#     ccp_alpha=0.0,\n",
    "#     max_samples=None,\n",
    "# )"
   ]
  },
  {
   "cell_type": "code",
   "execution_count": 54,
   "id": "ce5650bc",
   "metadata": {},
   "outputs": [
    {
     "name": "stdout",
     "output_type": "stream",
     "text": [
      "{'n_estimators': [50, 70, 90, 110, 130, 150, 170, 190, 210, 230, 250, 270, 290, 310, 330, 350, 370, 390, 410, 430, 450, 470, 490], 'max_depth': [1, 11, 21, 31, 41, 51, 61, 71, 81, 91, 101, 111, 121, 131, 141, 151, 161, 171, 181, 191], 'max_features': ['auto', 'log2', 'sqrt'], 'min_samples_leaf': [1, 3, 5, 7, 9, 11, 13, 15, 17, 19], 'min_samples_split': [1, 3, 5, 7, 9, 11, 13, 15, 17, 19], 'criterion': ['mse', 'mae']}\n"
     ]
    }
   ],
   "source": [
    "from sklearn.model_selection import RandomizedSearchCV\n",
    "\n",
    "n_estimator=[i for i in range(50,500,20)]\n",
    "min_samples_split=[i for i in range(1,20,2)]\n",
    "min_samples_leaf=[i for i in range(1,20,2)]\n",
    "max_feat=['auto','log2','sqrt']\n",
    "criterion=['mse','mae']\n",
    "max_depth=[i for i in range(1,200,10)]\n",
    "\n",
    "Rand_param={'n_estimators':n_estimator,\n",
    "            'max_depth':max_depth,\n",
    "            'max_features':max_feat,\n",
    "            'min_samples_leaf':min_samples_leaf,\n",
    "            'min_samples_split':min_samples_split,\n",
    "            'criterion':criterion\n",
    "           }\n",
    "print(Rand_param)"
   ]
  },
  {
   "cell_type": "code",
   "execution_count": 55,
   "id": "bf7a18e0",
   "metadata": {},
   "outputs": [],
   "source": [
    "Rand_search=RandomizedSearchCV(estimator=Rf,param_distributions=Rand_param,cv=8,verbose=2,n_iter=100,n_jobs=1)"
   ]
  },
  {
   "cell_type": "code",
   "execution_count": 56,
   "id": "ec1c9ba6",
   "metadata": {
    "scrolled": true
   },
   "outputs": [
    {
     "name": "stdout",
     "output_type": "stream",
     "text": [
      "Fitting 8 folds for each of 100 candidates, totalling 800 fits\n"
     ]
    },
    {
     "name": "stderr",
     "output_type": "stream",
     "text": [
      "C:\\Users\\mayank\\anaconda3\\lib\\site-packages\\sklearn\\ensemble\\_forest.py:403: FutureWarning: Criterion 'mae' was deprecated in v1.0 and will be removed in version 1.2. Use `criterion='absolute_error'` which is equivalent.\n",
      "  warn(\n"
     ]
    },
    {
     "name": "stdout",
     "output_type": "stream",
     "text": [
      "[CV] END criterion=mae, max_depth=101, max_features=log2, min_samples_leaf=15, min_samples_split=7, n_estimators=230; total time=   0.6s\n"
     ]
    },
    {
     "name": "stderr",
     "output_type": "stream",
     "text": [
      "C:\\Users\\mayank\\anaconda3\\lib\\site-packages\\sklearn\\ensemble\\_forest.py:403: FutureWarning: Criterion 'mae' was deprecated in v1.0 and will be removed in version 1.2. Use `criterion='absolute_error'` which is equivalent.\n",
      "  warn(\n"
     ]
    },
    {
     "name": "stdout",
     "output_type": "stream",
     "text": [
      "[CV] END criterion=mae, max_depth=101, max_features=log2, min_samples_leaf=15, min_samples_split=7, n_estimators=230; total time=   0.5s\n"
     ]
    },
    {
     "name": "stderr",
     "output_type": "stream",
     "text": [
      "C:\\Users\\mayank\\anaconda3\\lib\\site-packages\\sklearn\\ensemble\\_forest.py:403: FutureWarning: Criterion 'mae' was deprecated in v1.0 and will be removed in version 1.2. Use `criterion='absolute_error'` which is equivalent.\n",
      "  warn(\n"
     ]
    },
    {
     "name": "stdout",
     "output_type": "stream",
     "text": [
      "[CV] END criterion=mae, max_depth=101, max_features=log2, min_samples_leaf=15, min_samples_split=7, n_estimators=230; total time=   0.5s\n"
     ]
    },
    {
     "name": "stderr",
     "output_type": "stream",
     "text": [
      "C:\\Users\\mayank\\anaconda3\\lib\\site-packages\\sklearn\\ensemble\\_forest.py:403: FutureWarning: Criterion 'mae' was deprecated in v1.0 and will be removed in version 1.2. Use `criterion='absolute_error'` which is equivalent.\n",
      "  warn(\n"
     ]
    },
    {
     "name": "stdout",
     "output_type": "stream",
     "text": [
      "[CV] END criterion=mae, max_depth=101, max_features=log2, min_samples_leaf=15, min_samples_split=7, n_estimators=230; total time=   0.5s\n"
     ]
    },
    {
     "name": "stderr",
     "output_type": "stream",
     "text": [
      "C:\\Users\\mayank\\anaconda3\\lib\\site-packages\\sklearn\\ensemble\\_forest.py:403: FutureWarning: Criterion 'mae' was deprecated in v1.0 and will be removed in version 1.2. Use `criterion='absolute_error'` which is equivalent.\n",
      "  warn(\n"
     ]
    },
    {
     "name": "stdout",
     "output_type": "stream",
     "text": [
      "[CV] END criterion=mae, max_depth=101, max_features=log2, min_samples_leaf=15, min_samples_split=7, n_estimators=230; total time=   0.5s\n"
     ]
    },
    {
     "name": "stderr",
     "output_type": "stream",
     "text": [
      "C:\\Users\\mayank\\anaconda3\\lib\\site-packages\\sklearn\\ensemble\\_forest.py:403: FutureWarning: Criterion 'mae' was deprecated in v1.0 and will be removed in version 1.2. Use `criterion='absolute_error'` which is equivalent.\n",
      "  warn(\n"
     ]
    },
    {
     "name": "stdout",
     "output_type": "stream",
     "text": [
      "[CV] END criterion=mae, max_depth=101, max_features=log2, min_samples_leaf=15, min_samples_split=7, n_estimators=230; total time=   0.5s\n"
     ]
    },
    {
     "name": "stderr",
     "output_type": "stream",
     "text": [
      "C:\\Users\\mayank\\anaconda3\\lib\\site-packages\\sklearn\\ensemble\\_forest.py:403: FutureWarning: Criterion 'mae' was deprecated in v1.0 and will be removed in version 1.2. Use `criterion='absolute_error'` which is equivalent.\n",
      "  warn(\n"
     ]
    },
    {
     "name": "stdout",
     "output_type": "stream",
     "text": [
      "[CV] END criterion=mae, max_depth=101, max_features=log2, min_samples_leaf=15, min_samples_split=7, n_estimators=230; total time=   0.5s\n"
     ]
    },
    {
     "name": "stderr",
     "output_type": "stream",
     "text": [
      "C:\\Users\\mayank\\anaconda3\\lib\\site-packages\\sklearn\\ensemble\\_forest.py:403: FutureWarning: Criterion 'mae' was deprecated in v1.0 and will be removed in version 1.2. Use `criterion='absolute_error'` which is equivalent.\n",
      "  warn(\n"
     ]
    },
    {
     "name": "stdout",
     "output_type": "stream",
     "text": [
      "[CV] END criterion=mae, max_depth=101, max_features=log2, min_samples_leaf=15, min_samples_split=7, n_estimators=230; total time=   0.4s\n"
     ]
    },
    {
     "name": "stderr",
     "output_type": "stream",
     "text": [
      "C:\\Users\\mayank\\anaconda3\\lib\\site-packages\\sklearn\\ensemble\\_forest.py:403: FutureWarning: Criterion 'mae' was deprecated in v1.0 and will be removed in version 1.2. Use `criterion='absolute_error'` which is equivalent.\n",
      "  warn(\n"
     ]
    },
    {
     "name": "stdout",
     "output_type": "stream",
     "text": [
      "[CV] END criterion=mae, max_depth=161, max_features=auto, min_samples_leaf=19, min_samples_split=7, n_estimators=330; total time=   1.0s\n"
     ]
    },
    {
     "name": "stderr",
     "output_type": "stream",
     "text": [
      "C:\\Users\\mayank\\anaconda3\\lib\\site-packages\\sklearn\\ensemble\\_forest.py:403: FutureWarning: Criterion 'mae' was deprecated in v1.0 and will be removed in version 1.2. Use `criterion='absolute_error'` which is equivalent.\n",
      "  warn(\n"
     ]
    },
    {
     "name": "stdout",
     "output_type": "stream",
     "text": [
      "[CV] END criterion=mae, max_depth=161, max_features=auto, min_samples_leaf=19, min_samples_split=7, n_estimators=330; total time=   1.0s\n"
     ]
    },
    {
     "name": "stderr",
     "output_type": "stream",
     "text": [
      "C:\\Users\\mayank\\anaconda3\\lib\\site-packages\\sklearn\\ensemble\\_forest.py:403: FutureWarning: Criterion 'mae' was deprecated in v1.0 and will be removed in version 1.2. Use `criterion='absolute_error'` which is equivalent.\n",
      "  warn(\n"
     ]
    },
    {
     "name": "stdout",
     "output_type": "stream",
     "text": [
      "[CV] END criterion=mae, max_depth=161, max_features=auto, min_samples_leaf=19, min_samples_split=7, n_estimators=330; total time=   1.0s\n"
     ]
    },
    {
     "name": "stderr",
     "output_type": "stream",
     "text": [
      "C:\\Users\\mayank\\anaconda3\\lib\\site-packages\\sklearn\\ensemble\\_forest.py:403: FutureWarning: Criterion 'mae' was deprecated in v1.0 and will be removed in version 1.2. Use `criterion='absolute_error'` which is equivalent.\n",
      "  warn(\n"
     ]
    },
    {
     "name": "stdout",
     "output_type": "stream",
     "text": [
      "[CV] END criterion=mae, max_depth=161, max_features=auto, min_samples_leaf=19, min_samples_split=7, n_estimators=330; total time=   1.0s\n"
     ]
    },
    {
     "name": "stderr",
     "output_type": "stream",
     "text": [
      "C:\\Users\\mayank\\anaconda3\\lib\\site-packages\\sklearn\\ensemble\\_forest.py:403: FutureWarning: Criterion 'mae' was deprecated in v1.0 and will be removed in version 1.2. Use `criterion='absolute_error'` which is equivalent.\n",
      "  warn(\n"
     ]
    },
    {
     "name": "stdout",
     "output_type": "stream",
     "text": [
      "[CV] END criterion=mae, max_depth=161, max_features=auto, min_samples_leaf=19, min_samples_split=7, n_estimators=330; total time=   1.0s\n"
     ]
    },
    {
     "name": "stderr",
     "output_type": "stream",
     "text": [
      "C:\\Users\\mayank\\anaconda3\\lib\\site-packages\\sklearn\\ensemble\\_forest.py:403: FutureWarning: Criterion 'mae' was deprecated in v1.0 and will be removed in version 1.2. Use `criterion='absolute_error'` which is equivalent.\n",
      "  warn(\n"
     ]
    },
    {
     "name": "stdout",
     "output_type": "stream",
     "text": [
      "[CV] END criterion=mae, max_depth=161, max_features=auto, min_samples_leaf=19, min_samples_split=7, n_estimators=330; total time=   1.0s\n"
     ]
    },
    {
     "name": "stderr",
     "output_type": "stream",
     "text": [
      "C:\\Users\\mayank\\anaconda3\\lib\\site-packages\\sklearn\\ensemble\\_forest.py:403: FutureWarning: Criterion 'mae' was deprecated in v1.0 and will be removed in version 1.2. Use `criterion='absolute_error'` which is equivalent.\n",
      "  warn(\n"
     ]
    },
    {
     "name": "stdout",
     "output_type": "stream",
     "text": [
      "[CV] END criterion=mae, max_depth=161, max_features=auto, min_samples_leaf=19, min_samples_split=7, n_estimators=330; total time=   1.0s\n"
     ]
    },
    {
     "name": "stderr",
     "output_type": "stream",
     "text": [
      "C:\\Users\\mayank\\anaconda3\\lib\\site-packages\\sklearn\\ensemble\\_forest.py:403: FutureWarning: Criterion 'mae' was deprecated in v1.0 and will be removed in version 1.2. Use `criterion='absolute_error'` which is equivalent.\n",
      "  warn(\n"
     ]
    },
    {
     "name": "stdout",
     "output_type": "stream",
     "text": [
      "[CV] END criterion=mae, max_depth=161, max_features=auto, min_samples_leaf=19, min_samples_split=7, n_estimators=330; total time=   1.1s\n"
     ]
    },
    {
     "name": "stderr",
     "output_type": "stream",
     "text": [
      "C:\\Users\\mayank\\anaconda3\\lib\\site-packages\\sklearn\\ensemble\\_forest.py:403: FutureWarning: Criterion 'mae' was deprecated in v1.0 and will be removed in version 1.2. Use `criterion='absolute_error'` which is equivalent.\n",
      "  warn(\n"
     ]
    },
    {
     "name": "stdout",
     "output_type": "stream",
     "text": [
      "[CV] END criterion=mae, max_depth=141, max_features=log2, min_samples_leaf=11, min_samples_split=15, n_estimators=330; total time=   0.5s\n"
     ]
    },
    {
     "name": "stderr",
     "output_type": "stream",
     "text": [
      "C:\\Users\\mayank\\anaconda3\\lib\\site-packages\\sklearn\\ensemble\\_forest.py:403: FutureWarning: Criterion 'mae' was deprecated in v1.0 and will be removed in version 1.2. Use `criterion='absolute_error'` which is equivalent.\n",
      "  warn(\n"
     ]
    },
    {
     "name": "stdout",
     "output_type": "stream",
     "text": [
      "[CV] END criterion=mae, max_depth=141, max_features=log2, min_samples_leaf=11, min_samples_split=15, n_estimators=330; total time=   0.5s\n"
     ]
    },
    {
     "name": "stderr",
     "output_type": "stream",
     "text": [
      "C:\\Users\\mayank\\anaconda3\\lib\\site-packages\\sklearn\\ensemble\\_forest.py:403: FutureWarning: Criterion 'mae' was deprecated in v1.0 and will be removed in version 1.2. Use `criterion='absolute_error'` which is equivalent.\n",
      "  warn(\n"
     ]
    },
    {
     "name": "stdout",
     "output_type": "stream",
     "text": [
      "[CV] END criterion=mae, max_depth=141, max_features=log2, min_samples_leaf=11, min_samples_split=15, n_estimators=330; total time=   0.5s\n"
     ]
    },
    {
     "name": "stderr",
     "output_type": "stream",
     "text": [
      "C:\\Users\\mayank\\anaconda3\\lib\\site-packages\\sklearn\\ensemble\\_forest.py:403: FutureWarning: Criterion 'mae' was deprecated in v1.0 and will be removed in version 1.2. Use `criterion='absolute_error'` which is equivalent.\n",
      "  warn(\n"
     ]
    },
    {
     "name": "stdout",
     "output_type": "stream",
     "text": [
      "[CV] END criterion=mae, max_depth=141, max_features=log2, min_samples_leaf=11, min_samples_split=15, n_estimators=330; total time=   0.5s\n"
     ]
    },
    {
     "name": "stderr",
     "output_type": "stream",
     "text": [
      "C:\\Users\\mayank\\anaconda3\\lib\\site-packages\\sklearn\\ensemble\\_forest.py:403: FutureWarning: Criterion 'mae' was deprecated in v1.0 and will be removed in version 1.2. Use `criterion='absolute_error'` which is equivalent.\n",
      "  warn(\n"
     ]
    },
    {
     "name": "stdout",
     "output_type": "stream",
     "text": [
      "[CV] END criterion=mae, max_depth=141, max_features=log2, min_samples_leaf=11, min_samples_split=15, n_estimators=330; total time=   0.5s\n"
     ]
    },
    {
     "name": "stderr",
     "output_type": "stream",
     "text": [
      "C:\\Users\\mayank\\anaconda3\\lib\\site-packages\\sklearn\\ensemble\\_forest.py:403: FutureWarning: Criterion 'mae' was deprecated in v1.0 and will be removed in version 1.2. Use `criterion='absolute_error'` which is equivalent.\n",
      "  warn(\n"
     ]
    },
    {
     "name": "stdout",
     "output_type": "stream",
     "text": [
      "[CV] END criterion=mae, max_depth=141, max_features=log2, min_samples_leaf=11, min_samples_split=15, n_estimators=330; total time=   0.5s\n"
     ]
    },
    {
     "name": "stderr",
     "output_type": "stream",
     "text": [
      "C:\\Users\\mayank\\anaconda3\\lib\\site-packages\\sklearn\\ensemble\\_forest.py:403: FutureWarning: Criterion 'mae' was deprecated in v1.0 and will be removed in version 1.2. Use `criterion='absolute_error'` which is equivalent.\n",
      "  warn(\n"
     ]
    },
    {
     "name": "stdout",
     "output_type": "stream",
     "text": [
      "[CV] END criterion=mae, max_depth=141, max_features=log2, min_samples_leaf=11, min_samples_split=15, n_estimators=330; total time=   0.5s\n"
     ]
    },
    {
     "name": "stderr",
     "output_type": "stream",
     "text": [
      "C:\\Users\\mayank\\anaconda3\\lib\\site-packages\\sklearn\\ensemble\\_forest.py:403: FutureWarning: Criterion 'mae' was deprecated in v1.0 and will be removed in version 1.2. Use `criterion='absolute_error'` which is equivalent.\n",
      "  warn(\n"
     ]
    },
    {
     "name": "stdout",
     "output_type": "stream",
     "text": [
      "[CV] END criterion=mae, max_depth=141, max_features=log2, min_samples_leaf=11, min_samples_split=15, n_estimators=330; total time=   0.5s\n"
     ]
    },
    {
     "name": "stderr",
     "output_type": "stream",
     "text": [
      "C:\\Users\\mayank\\anaconda3\\lib\\site-packages\\sklearn\\ensemble\\_forest.py:403: FutureWarning: Criterion 'mae' was deprecated in v1.0 and will be removed in version 1.2. Use `criterion='absolute_error'` which is equivalent.\n",
      "  warn(\n"
     ]
    },
    {
     "name": "stdout",
     "output_type": "stream",
     "text": [
      "[CV] END criterion=mae, max_depth=121, max_features=log2, min_samples_leaf=17, min_samples_split=11, n_estimators=190; total time=   0.2s\n"
     ]
    },
    {
     "name": "stderr",
     "output_type": "stream",
     "text": [
      "C:\\Users\\mayank\\anaconda3\\lib\\site-packages\\sklearn\\ensemble\\_forest.py:403: FutureWarning: Criterion 'mae' was deprecated in v1.0 and will be removed in version 1.2. Use `criterion='absolute_error'` which is equivalent.\n",
      "  warn(\n"
     ]
    },
    {
     "name": "stdout",
     "output_type": "stream",
     "text": [
      "[CV] END criterion=mae, max_depth=121, max_features=log2, min_samples_leaf=17, min_samples_split=11, n_estimators=190; total time=   0.2s\n"
     ]
    },
    {
     "name": "stderr",
     "output_type": "stream",
     "text": [
      "C:\\Users\\mayank\\anaconda3\\lib\\site-packages\\sklearn\\ensemble\\_forest.py:403: FutureWarning: Criterion 'mae' was deprecated in v1.0 and will be removed in version 1.2. Use `criterion='absolute_error'` which is equivalent.\n",
      "  warn(\n"
     ]
    },
    {
     "name": "stdout",
     "output_type": "stream",
     "text": [
      "[CV] END criterion=mae, max_depth=121, max_features=log2, min_samples_leaf=17, min_samples_split=11, n_estimators=190; total time=   0.2s\n"
     ]
    },
    {
     "name": "stderr",
     "output_type": "stream",
     "text": [
      "C:\\Users\\mayank\\anaconda3\\lib\\site-packages\\sklearn\\ensemble\\_forest.py:403: FutureWarning: Criterion 'mae' was deprecated in v1.0 and will be removed in version 1.2. Use `criterion='absolute_error'` which is equivalent.\n",
      "  warn(\n"
     ]
    },
    {
     "name": "stdout",
     "output_type": "stream",
     "text": [
      "[CV] END criterion=mae, max_depth=121, max_features=log2, min_samples_leaf=17, min_samples_split=11, n_estimators=190; total time=   0.2s\n"
     ]
    },
    {
     "name": "stderr",
     "output_type": "stream",
     "text": [
      "C:\\Users\\mayank\\anaconda3\\lib\\site-packages\\sklearn\\ensemble\\_forest.py:403: FutureWarning: Criterion 'mae' was deprecated in v1.0 and will be removed in version 1.2. Use `criterion='absolute_error'` which is equivalent.\n",
      "  warn(\n"
     ]
    },
    {
     "name": "stdout",
     "output_type": "stream",
     "text": [
      "[CV] END criterion=mae, max_depth=121, max_features=log2, min_samples_leaf=17, min_samples_split=11, n_estimators=190; total time=   0.2s\n"
     ]
    },
    {
     "name": "stderr",
     "output_type": "stream",
     "text": [
      "C:\\Users\\mayank\\anaconda3\\lib\\site-packages\\sklearn\\ensemble\\_forest.py:403: FutureWarning: Criterion 'mae' was deprecated in v1.0 and will be removed in version 1.2. Use `criterion='absolute_error'` which is equivalent.\n",
      "  warn(\n"
     ]
    },
    {
     "name": "stdout",
     "output_type": "stream",
     "text": [
      "[CV] END criterion=mae, max_depth=121, max_features=log2, min_samples_leaf=17, min_samples_split=11, n_estimators=190; total time=   0.2s\n"
     ]
    },
    {
     "name": "stderr",
     "output_type": "stream",
     "text": [
      "C:\\Users\\mayank\\anaconda3\\lib\\site-packages\\sklearn\\ensemble\\_forest.py:403: FutureWarning: Criterion 'mae' was deprecated in v1.0 and will be removed in version 1.2. Use `criterion='absolute_error'` which is equivalent.\n",
      "  warn(\n"
     ]
    },
    {
     "name": "stdout",
     "output_type": "stream",
     "text": [
      "[CV] END criterion=mae, max_depth=121, max_features=log2, min_samples_leaf=17, min_samples_split=11, n_estimators=190; total time=   0.2s\n"
     ]
    },
    {
     "name": "stderr",
     "output_type": "stream",
     "text": [
      "C:\\Users\\mayank\\anaconda3\\lib\\site-packages\\sklearn\\ensemble\\_forest.py:403: FutureWarning: Criterion 'mae' was deprecated in v1.0 and will be removed in version 1.2. Use `criterion='absolute_error'` which is equivalent.\n",
      "  warn(\n"
     ]
    },
    {
     "name": "stdout",
     "output_type": "stream",
     "text": [
      "[CV] END criterion=mae, max_depth=121, max_features=log2, min_samples_leaf=17, min_samples_split=11, n_estimators=190; total time=   0.2s\n"
     ]
    },
    {
     "name": "stderr",
     "output_type": "stream",
     "text": [
      "C:\\Users\\mayank\\anaconda3\\lib\\site-packages\\sklearn\\ensemble\\_forest.py:403: FutureWarning: Criterion 'mae' was deprecated in v1.0 and will be removed in version 1.2. Use `criterion='absolute_error'` which is equivalent.\n",
      "  warn(\n"
     ]
    },
    {
     "name": "stdout",
     "output_type": "stream",
     "text": [
      "[CV] END criterion=mae, max_depth=161, max_features=sqrt, min_samples_leaf=19, min_samples_split=5, n_estimators=430; total time=   0.6s\n"
     ]
    },
    {
     "name": "stderr",
     "output_type": "stream",
     "text": [
      "C:\\Users\\mayank\\anaconda3\\lib\\site-packages\\sklearn\\ensemble\\_forest.py:403: FutureWarning: Criterion 'mae' was deprecated in v1.0 and will be removed in version 1.2. Use `criterion='absolute_error'` which is equivalent.\n",
      "  warn(\n"
     ]
    },
    {
     "name": "stdout",
     "output_type": "stream",
     "text": [
      "[CV] END criterion=mae, max_depth=161, max_features=sqrt, min_samples_leaf=19, min_samples_split=5, n_estimators=430; total time=   0.6s\n"
     ]
    },
    {
     "name": "stderr",
     "output_type": "stream",
     "text": [
      "C:\\Users\\mayank\\anaconda3\\lib\\site-packages\\sklearn\\ensemble\\_forest.py:403: FutureWarning: Criterion 'mae' was deprecated in v1.0 and will be removed in version 1.2. Use `criterion='absolute_error'` which is equivalent.\n",
      "  warn(\n"
     ]
    },
    {
     "name": "stdout",
     "output_type": "stream",
     "text": [
      "[CV] END criterion=mae, max_depth=161, max_features=sqrt, min_samples_leaf=19, min_samples_split=5, n_estimators=430; total time=   0.6s\n"
     ]
    },
    {
     "name": "stderr",
     "output_type": "stream",
     "text": [
      "C:\\Users\\mayank\\anaconda3\\lib\\site-packages\\sklearn\\ensemble\\_forest.py:403: FutureWarning: Criterion 'mae' was deprecated in v1.0 and will be removed in version 1.2. Use `criterion='absolute_error'` which is equivalent.\n",
      "  warn(\n"
     ]
    },
    {
     "name": "stdout",
     "output_type": "stream",
     "text": [
      "[CV] END criterion=mae, max_depth=161, max_features=sqrt, min_samples_leaf=19, min_samples_split=5, n_estimators=430; total time=   0.6s\n"
     ]
    },
    {
     "name": "stderr",
     "output_type": "stream",
     "text": [
      "C:\\Users\\mayank\\anaconda3\\lib\\site-packages\\sklearn\\ensemble\\_forest.py:403: FutureWarning: Criterion 'mae' was deprecated in v1.0 and will be removed in version 1.2. Use `criterion='absolute_error'` which is equivalent.\n",
      "  warn(\n"
     ]
    },
    {
     "name": "stdout",
     "output_type": "stream",
     "text": [
      "[CV] END criterion=mae, max_depth=161, max_features=sqrt, min_samples_leaf=19, min_samples_split=5, n_estimators=430; total time=   0.6s\n"
     ]
    },
    {
     "name": "stderr",
     "output_type": "stream",
     "text": [
      "C:\\Users\\mayank\\anaconda3\\lib\\site-packages\\sklearn\\ensemble\\_forest.py:403: FutureWarning: Criterion 'mae' was deprecated in v1.0 and will be removed in version 1.2. Use `criterion='absolute_error'` which is equivalent.\n",
      "  warn(\n"
     ]
    },
    {
     "name": "stdout",
     "output_type": "stream",
     "text": [
      "[CV] END criterion=mae, max_depth=161, max_features=sqrt, min_samples_leaf=19, min_samples_split=5, n_estimators=430; total time=   0.6s\n"
     ]
    },
    {
     "name": "stderr",
     "output_type": "stream",
     "text": [
      "C:\\Users\\mayank\\anaconda3\\lib\\site-packages\\sklearn\\ensemble\\_forest.py:403: FutureWarning: Criterion 'mae' was deprecated in v1.0 and will be removed in version 1.2. Use `criterion='absolute_error'` which is equivalent.\n",
      "  warn(\n"
     ]
    },
    {
     "name": "stdout",
     "output_type": "stream",
     "text": [
      "[CV] END criterion=mae, max_depth=161, max_features=sqrt, min_samples_leaf=19, min_samples_split=5, n_estimators=430; total time=   0.6s\n"
     ]
    },
    {
     "name": "stderr",
     "output_type": "stream",
     "text": [
      "C:\\Users\\mayank\\anaconda3\\lib\\site-packages\\sklearn\\ensemble\\_forest.py:403: FutureWarning: Criterion 'mae' was deprecated in v1.0 and will be removed in version 1.2. Use `criterion='absolute_error'` which is equivalent.\n",
      "  warn(\n"
     ]
    },
    {
     "name": "stdout",
     "output_type": "stream",
     "text": [
      "[CV] END criterion=mae, max_depth=161, max_features=sqrt, min_samples_leaf=19, min_samples_split=5, n_estimators=430; total time=   0.6s\n"
     ]
    },
    {
     "name": "stderr",
     "output_type": "stream",
     "text": [
      "C:\\Users\\mayank\\anaconda3\\lib\\site-packages\\sklearn\\ensemble\\_forest.py:403: FutureWarning: Criterion 'mae' was deprecated in v1.0 and will be removed in version 1.2. Use `criterion='absolute_error'` which is equivalent.\n",
      "  warn(\n"
     ]
    },
    {
     "name": "stdout",
     "output_type": "stream",
     "text": [
      "[CV] END criterion=mae, max_depth=1, max_features=sqrt, min_samples_leaf=5, min_samples_split=11, n_estimators=230; total time=   0.2s\n"
     ]
    },
    {
     "name": "stderr",
     "output_type": "stream",
     "text": [
      "C:\\Users\\mayank\\anaconda3\\lib\\site-packages\\sklearn\\ensemble\\_forest.py:403: FutureWarning: Criterion 'mae' was deprecated in v1.0 and will be removed in version 1.2. Use `criterion='absolute_error'` which is equivalent.\n",
      "  warn(\n"
     ]
    },
    {
     "name": "stdout",
     "output_type": "stream",
     "text": [
      "[CV] END criterion=mae, max_depth=1, max_features=sqrt, min_samples_leaf=5, min_samples_split=11, n_estimators=230; total time=   0.2s\n"
     ]
    },
    {
     "name": "stderr",
     "output_type": "stream",
     "text": [
      "C:\\Users\\mayank\\anaconda3\\lib\\site-packages\\sklearn\\ensemble\\_forest.py:403: FutureWarning: Criterion 'mae' was deprecated in v1.0 and will be removed in version 1.2. Use `criterion='absolute_error'` which is equivalent.\n",
      "  warn(\n"
     ]
    },
    {
     "name": "stdout",
     "output_type": "stream",
     "text": [
      "[CV] END criterion=mae, max_depth=1, max_features=sqrt, min_samples_leaf=5, min_samples_split=11, n_estimators=230; total time=   0.2s\n"
     ]
    },
    {
     "name": "stderr",
     "output_type": "stream",
     "text": [
      "C:\\Users\\mayank\\anaconda3\\lib\\site-packages\\sklearn\\ensemble\\_forest.py:403: FutureWarning: Criterion 'mae' was deprecated in v1.0 and will be removed in version 1.2. Use `criterion='absolute_error'` which is equivalent.\n",
      "  warn(\n"
     ]
    },
    {
     "name": "stdout",
     "output_type": "stream",
     "text": [
      "[CV] END criterion=mae, max_depth=1, max_features=sqrt, min_samples_leaf=5, min_samples_split=11, n_estimators=230; total time=   0.2s\n"
     ]
    },
    {
     "name": "stderr",
     "output_type": "stream",
     "text": [
      "C:\\Users\\mayank\\anaconda3\\lib\\site-packages\\sklearn\\ensemble\\_forest.py:403: FutureWarning: Criterion 'mae' was deprecated in v1.0 and will be removed in version 1.2. Use `criterion='absolute_error'` which is equivalent.\n",
      "  warn(\n"
     ]
    },
    {
     "name": "stdout",
     "output_type": "stream",
     "text": [
      "[CV] END criterion=mae, max_depth=1, max_features=sqrt, min_samples_leaf=5, min_samples_split=11, n_estimators=230; total time=   0.2s\n"
     ]
    },
    {
     "name": "stderr",
     "output_type": "stream",
     "text": [
      "C:\\Users\\mayank\\anaconda3\\lib\\site-packages\\sklearn\\ensemble\\_forest.py:403: FutureWarning: Criterion 'mae' was deprecated in v1.0 and will be removed in version 1.2. Use `criterion='absolute_error'` which is equivalent.\n",
      "  warn(\n"
     ]
    },
    {
     "name": "stdout",
     "output_type": "stream",
     "text": [
      "[CV] END criterion=mae, max_depth=1, max_features=sqrt, min_samples_leaf=5, min_samples_split=11, n_estimators=230; total time=   0.2s\n"
     ]
    },
    {
     "name": "stderr",
     "output_type": "stream",
     "text": [
      "C:\\Users\\mayank\\anaconda3\\lib\\site-packages\\sklearn\\ensemble\\_forest.py:403: FutureWarning: Criterion 'mae' was deprecated in v1.0 and will be removed in version 1.2. Use `criterion='absolute_error'` which is equivalent.\n",
      "  warn(\n"
     ]
    },
    {
     "name": "stdout",
     "output_type": "stream",
     "text": [
      "[CV] END criterion=mae, max_depth=1, max_features=sqrt, min_samples_leaf=5, min_samples_split=11, n_estimators=230; total time=   0.2s\n"
     ]
    },
    {
     "name": "stderr",
     "output_type": "stream",
     "text": [
      "C:\\Users\\mayank\\anaconda3\\lib\\site-packages\\sklearn\\ensemble\\_forest.py:403: FutureWarning: Criterion 'mae' was deprecated in v1.0 and will be removed in version 1.2. Use `criterion='absolute_error'` which is equivalent.\n",
      "  warn(\n"
     ]
    },
    {
     "name": "stdout",
     "output_type": "stream",
     "text": [
      "[CV] END criterion=mae, max_depth=1, max_features=sqrt, min_samples_leaf=5, min_samples_split=11, n_estimators=230; total time=   0.2s\n"
     ]
    },
    {
     "name": "stderr",
     "output_type": "stream",
     "text": [
      "C:\\Users\\mayank\\anaconda3\\lib\\site-packages\\sklearn\\ensemble\\_forest.py:403: FutureWarning: Criterion 'mae' was deprecated in v1.0 and will be removed in version 1.2. Use `criterion='absolute_error'` which is equivalent.\n",
      "  warn(\n"
     ]
    },
    {
     "name": "stdout",
     "output_type": "stream",
     "text": [
      "[CV] END criterion=mae, max_depth=181, max_features=sqrt, min_samples_leaf=11, min_samples_split=15, n_estimators=210; total time=   0.3s\n"
     ]
    },
    {
     "name": "stderr",
     "output_type": "stream",
     "text": [
      "C:\\Users\\mayank\\anaconda3\\lib\\site-packages\\sklearn\\ensemble\\_forest.py:403: FutureWarning: Criterion 'mae' was deprecated in v1.0 and will be removed in version 1.2. Use `criterion='absolute_error'` which is equivalent.\n",
      "  warn(\n"
     ]
    },
    {
     "name": "stdout",
     "output_type": "stream",
     "text": [
      "[CV] END criterion=mae, max_depth=181, max_features=sqrt, min_samples_leaf=11, min_samples_split=15, n_estimators=210; total time=   0.3s\n"
     ]
    },
    {
     "name": "stderr",
     "output_type": "stream",
     "text": [
      "C:\\Users\\mayank\\anaconda3\\lib\\site-packages\\sklearn\\ensemble\\_forest.py:403: FutureWarning: Criterion 'mae' was deprecated in v1.0 and will be removed in version 1.2. Use `criterion='absolute_error'` which is equivalent.\n",
      "  warn(\n"
     ]
    },
    {
     "name": "stdout",
     "output_type": "stream",
     "text": [
      "[CV] END criterion=mae, max_depth=181, max_features=sqrt, min_samples_leaf=11, min_samples_split=15, n_estimators=210; total time=   0.3s\n"
     ]
    },
    {
     "name": "stderr",
     "output_type": "stream",
     "text": [
      "C:\\Users\\mayank\\anaconda3\\lib\\site-packages\\sklearn\\ensemble\\_forest.py:403: FutureWarning: Criterion 'mae' was deprecated in v1.0 and will be removed in version 1.2. Use `criterion='absolute_error'` which is equivalent.\n",
      "  warn(\n"
     ]
    },
    {
     "name": "stdout",
     "output_type": "stream",
     "text": [
      "[CV] END criterion=mae, max_depth=181, max_features=sqrt, min_samples_leaf=11, min_samples_split=15, n_estimators=210; total time=   0.3s\n"
     ]
    },
    {
     "name": "stderr",
     "output_type": "stream",
     "text": [
      "C:\\Users\\mayank\\anaconda3\\lib\\site-packages\\sklearn\\ensemble\\_forest.py:403: FutureWarning: Criterion 'mae' was deprecated in v1.0 and will be removed in version 1.2. Use `criterion='absolute_error'` which is equivalent.\n",
      "  warn(\n"
     ]
    },
    {
     "name": "stdout",
     "output_type": "stream",
     "text": [
      "[CV] END criterion=mae, max_depth=181, max_features=sqrt, min_samples_leaf=11, min_samples_split=15, n_estimators=210; total time=   0.3s\n"
     ]
    },
    {
     "name": "stderr",
     "output_type": "stream",
     "text": [
      "C:\\Users\\mayank\\anaconda3\\lib\\site-packages\\sklearn\\ensemble\\_forest.py:403: FutureWarning: Criterion 'mae' was deprecated in v1.0 and will be removed in version 1.2. Use `criterion='absolute_error'` which is equivalent.\n",
      "  warn(\n"
     ]
    },
    {
     "name": "stdout",
     "output_type": "stream",
     "text": [
      "[CV] END criterion=mae, max_depth=181, max_features=sqrt, min_samples_leaf=11, min_samples_split=15, n_estimators=210; total time=   0.3s\n"
     ]
    },
    {
     "name": "stderr",
     "output_type": "stream",
     "text": [
      "C:\\Users\\mayank\\anaconda3\\lib\\site-packages\\sklearn\\ensemble\\_forest.py:403: FutureWarning: Criterion 'mae' was deprecated in v1.0 and will be removed in version 1.2. Use `criterion='absolute_error'` which is equivalent.\n",
      "  warn(\n"
     ]
    },
    {
     "name": "stdout",
     "output_type": "stream",
     "text": [
      "[CV] END criterion=mae, max_depth=181, max_features=sqrt, min_samples_leaf=11, min_samples_split=15, n_estimators=210; total time=   0.3s\n"
     ]
    },
    {
     "name": "stderr",
     "output_type": "stream",
     "text": [
      "C:\\Users\\mayank\\anaconda3\\lib\\site-packages\\sklearn\\ensemble\\_forest.py:403: FutureWarning: Criterion 'mae' was deprecated in v1.0 and will be removed in version 1.2. Use `criterion='absolute_error'` which is equivalent.\n",
      "  warn(\n"
     ]
    },
    {
     "name": "stdout",
     "output_type": "stream",
     "text": [
      "[CV] END criterion=mae, max_depth=181, max_features=sqrt, min_samples_leaf=11, min_samples_split=15, n_estimators=210; total time=   0.3s\n"
     ]
    },
    {
     "name": "stderr",
     "output_type": "stream",
     "text": [
      "C:\\Users\\mayank\\anaconda3\\lib\\site-packages\\sklearn\\ensemble\\_forest.py:403: FutureWarning: Criterion 'mae' was deprecated in v1.0 and will be removed in version 1.2. Use `criterion='absolute_error'` which is equivalent.\n",
      "  warn(\n"
     ]
    },
    {
     "name": "stdout",
     "output_type": "stream",
     "text": [
      "[CV] END criterion=mae, max_depth=31, max_features=log2, min_samples_leaf=19, min_samples_split=19, n_estimators=150; total time=   0.1s\n"
     ]
    },
    {
     "name": "stderr",
     "output_type": "stream",
     "text": [
      "C:\\Users\\mayank\\anaconda3\\lib\\site-packages\\sklearn\\ensemble\\_forest.py:403: FutureWarning: Criterion 'mae' was deprecated in v1.0 and will be removed in version 1.2. Use `criterion='absolute_error'` which is equivalent.\n",
      "  warn(\n"
     ]
    },
    {
     "name": "stdout",
     "output_type": "stream",
     "text": [
      "[CV] END criterion=mae, max_depth=31, max_features=log2, min_samples_leaf=19, min_samples_split=19, n_estimators=150; total time=   0.1s\n"
     ]
    },
    {
     "name": "stderr",
     "output_type": "stream",
     "text": [
      "C:\\Users\\mayank\\anaconda3\\lib\\site-packages\\sklearn\\ensemble\\_forest.py:403: FutureWarning: Criterion 'mae' was deprecated in v1.0 and will be removed in version 1.2. Use `criterion='absolute_error'` which is equivalent.\n",
      "  warn(\n"
     ]
    },
    {
     "name": "stdout",
     "output_type": "stream",
     "text": [
      "[CV] END criterion=mae, max_depth=31, max_features=log2, min_samples_leaf=19, min_samples_split=19, n_estimators=150; total time=   0.1s\n"
     ]
    },
    {
     "name": "stderr",
     "output_type": "stream",
     "text": [
      "C:\\Users\\mayank\\anaconda3\\lib\\site-packages\\sklearn\\ensemble\\_forest.py:403: FutureWarning: Criterion 'mae' was deprecated in v1.0 and will be removed in version 1.2. Use `criterion='absolute_error'` which is equivalent.\n",
      "  warn(\n"
     ]
    },
    {
     "name": "stdout",
     "output_type": "stream",
     "text": [
      "[CV] END criterion=mae, max_depth=31, max_features=log2, min_samples_leaf=19, min_samples_split=19, n_estimators=150; total time=   0.1s\n"
     ]
    },
    {
     "name": "stderr",
     "output_type": "stream",
     "text": [
      "C:\\Users\\mayank\\anaconda3\\lib\\site-packages\\sklearn\\ensemble\\_forest.py:403: FutureWarning: Criterion 'mae' was deprecated in v1.0 and will be removed in version 1.2. Use `criterion='absolute_error'` which is equivalent.\n",
      "  warn(\n"
     ]
    },
    {
     "name": "stdout",
     "output_type": "stream",
     "text": [
      "[CV] END criterion=mae, max_depth=31, max_features=log2, min_samples_leaf=19, min_samples_split=19, n_estimators=150; total time=   0.1s\n"
     ]
    },
    {
     "name": "stderr",
     "output_type": "stream",
     "text": [
      "C:\\Users\\mayank\\anaconda3\\lib\\site-packages\\sklearn\\ensemble\\_forest.py:403: FutureWarning: Criterion 'mae' was deprecated in v1.0 and will be removed in version 1.2. Use `criterion='absolute_error'` which is equivalent.\n",
      "  warn(\n"
     ]
    },
    {
     "name": "stdout",
     "output_type": "stream",
     "text": [
      "[CV] END criterion=mae, max_depth=31, max_features=log2, min_samples_leaf=19, min_samples_split=19, n_estimators=150; total time=   0.2s\n"
     ]
    },
    {
     "name": "stderr",
     "output_type": "stream",
     "text": [
      "C:\\Users\\mayank\\anaconda3\\lib\\site-packages\\sklearn\\ensemble\\_forest.py:403: FutureWarning: Criterion 'mae' was deprecated in v1.0 and will be removed in version 1.2. Use `criterion='absolute_error'` which is equivalent.\n",
      "  warn(\n"
     ]
    },
    {
     "name": "stdout",
     "output_type": "stream",
     "text": [
      "[CV] END criterion=mae, max_depth=31, max_features=log2, min_samples_leaf=19, min_samples_split=19, n_estimators=150; total time=   0.2s\n"
     ]
    },
    {
     "name": "stderr",
     "output_type": "stream",
     "text": [
      "C:\\Users\\mayank\\anaconda3\\lib\\site-packages\\sklearn\\ensemble\\_forest.py:403: FutureWarning: Criterion 'mae' was deprecated in v1.0 and will be removed in version 1.2. Use `criterion='absolute_error'` which is equivalent.\n",
      "  warn(\n"
     ]
    },
    {
     "name": "stdout",
     "output_type": "stream",
     "text": [
      "[CV] END criterion=mae, max_depth=31, max_features=log2, min_samples_leaf=19, min_samples_split=19, n_estimators=150; total time=   0.1s\n",
      "[CV] END criterion=mae, max_depth=101, max_features=sqrt, min_samples_leaf=9, min_samples_split=1, n_estimators=90; total time=   0.0s\n",
      "[CV] END criterion=mae, max_depth=101, max_features=sqrt, min_samples_leaf=9, min_samples_split=1, n_estimators=90; total time=   0.0s\n",
      "[CV] END criterion=mae, max_depth=101, max_features=sqrt, min_samples_leaf=9, min_samples_split=1, n_estimators=90; total time=   0.0s\n",
      "[CV] END criterion=mae, max_depth=101, max_features=sqrt, min_samples_leaf=9, min_samples_split=1, n_estimators=90; total time=   0.0s\n",
      "[CV] END criterion=mae, max_depth=101, max_features=sqrt, min_samples_leaf=9, min_samples_split=1, n_estimators=90; total time=   0.0s\n",
      "[CV] END criterion=mae, max_depth=101, max_features=sqrt, min_samples_leaf=9, min_samples_split=1, n_estimators=90; total time=   0.0s\n"
     ]
    },
    {
     "name": "stderr",
     "output_type": "stream",
     "text": [
      "C:\\Users\\mayank\\anaconda3\\lib\\site-packages\\sklearn\\ensemble\\_forest.py:403: FutureWarning: Criterion 'mae' was deprecated in v1.0 and will be removed in version 1.2. Use `criterion='absolute_error'` which is equivalent.\n",
      "  warn(\n",
      "C:\\Users\\mayank\\anaconda3\\lib\\site-packages\\sklearn\\ensemble\\_forest.py:403: FutureWarning: Criterion 'mae' was deprecated in v1.0 and will be removed in version 1.2. Use `criterion='absolute_error'` which is equivalent.\n",
      "  warn(\n",
      "C:\\Users\\mayank\\anaconda3\\lib\\site-packages\\sklearn\\ensemble\\_forest.py:403: FutureWarning: Criterion 'mae' was deprecated in v1.0 and will be removed in version 1.2. Use `criterion='absolute_error'` which is equivalent.\n",
      "  warn(\n",
      "C:\\Users\\mayank\\anaconda3\\lib\\site-packages\\sklearn\\ensemble\\_forest.py:403: FutureWarning: Criterion 'mae' was deprecated in v1.0 and will be removed in version 1.2. Use `criterion='absolute_error'` which is equivalent.\n",
      "  warn(\n",
      "C:\\Users\\mayank\\anaconda3\\lib\\site-packages\\sklearn\\ensemble\\_forest.py:403: FutureWarning: Criterion 'mae' was deprecated in v1.0 and will be removed in version 1.2. Use `criterion='absolute_error'` which is equivalent.\n",
      "  warn(\n",
      "C:\\Users\\mayank\\anaconda3\\lib\\site-packages\\sklearn\\ensemble\\_forest.py:403: FutureWarning: Criterion 'mae' was deprecated in v1.0 and will be removed in version 1.2. Use `criterion='absolute_error'` which is equivalent.\n",
      "  warn(\n",
      "C:\\Users\\mayank\\anaconda3\\lib\\site-packages\\sklearn\\ensemble\\_forest.py:403: FutureWarning: Criterion 'mae' was deprecated in v1.0 and will be removed in version 1.2. Use `criterion='absolute_error'` which is equivalent.\n",
      "  warn(\n"
     ]
    },
    {
     "name": "stdout",
     "output_type": "stream",
     "text": [
      "[CV] END criterion=mae, max_depth=101, max_features=sqrt, min_samples_leaf=9, min_samples_split=1, n_estimators=90; total time=   0.0s\n",
      "[CV] END criterion=mae, max_depth=101, max_features=sqrt, min_samples_leaf=9, min_samples_split=1, n_estimators=90; total time=   0.0s\n"
     ]
    },
    {
     "name": "stderr",
     "output_type": "stream",
     "text": [
      "C:\\Users\\mayank\\anaconda3\\lib\\site-packages\\sklearn\\ensemble\\_forest.py:403: FutureWarning: Criterion 'mae' was deprecated in v1.0 and will be removed in version 1.2. Use `criterion='absolute_error'` which is equivalent.\n",
      "  warn(\n",
      "C:\\Users\\mayank\\anaconda3\\lib\\site-packages\\sklearn\\ensemble\\_forest.py:403: FutureWarning: Criterion 'mae' was deprecated in v1.0 and will be removed in version 1.2. Use `criterion='absolute_error'` which is equivalent.\n",
      "  warn(\n"
     ]
    },
    {
     "name": "stdout",
     "output_type": "stream",
     "text": [
      "[CV] END criterion=mae, max_depth=111, max_features=log2, min_samples_leaf=11, min_samples_split=13, n_estimators=350; total time=   0.6s\n"
     ]
    },
    {
     "name": "stderr",
     "output_type": "stream",
     "text": [
      "C:\\Users\\mayank\\anaconda3\\lib\\site-packages\\sklearn\\ensemble\\_forest.py:403: FutureWarning: Criterion 'mae' was deprecated in v1.0 and will be removed in version 1.2. Use `criterion='absolute_error'` which is equivalent.\n",
      "  warn(\n"
     ]
    },
    {
     "name": "stdout",
     "output_type": "stream",
     "text": [
      "[CV] END criterion=mae, max_depth=111, max_features=log2, min_samples_leaf=11, min_samples_split=13, n_estimators=350; total time=   0.6s\n"
     ]
    },
    {
     "name": "stderr",
     "output_type": "stream",
     "text": [
      "C:\\Users\\mayank\\anaconda3\\lib\\site-packages\\sklearn\\ensemble\\_forest.py:403: FutureWarning: Criterion 'mae' was deprecated in v1.0 and will be removed in version 1.2. Use `criterion='absolute_error'` which is equivalent.\n",
      "  warn(\n"
     ]
    },
    {
     "name": "stdout",
     "output_type": "stream",
     "text": [
      "[CV] END criterion=mae, max_depth=111, max_features=log2, min_samples_leaf=11, min_samples_split=13, n_estimators=350; total time=   0.5s\n"
     ]
    },
    {
     "name": "stderr",
     "output_type": "stream",
     "text": [
      "C:\\Users\\mayank\\anaconda3\\lib\\site-packages\\sklearn\\ensemble\\_forest.py:403: FutureWarning: Criterion 'mae' was deprecated in v1.0 and will be removed in version 1.2. Use `criterion='absolute_error'` which is equivalent.\n",
      "  warn(\n"
     ]
    },
    {
     "name": "stdout",
     "output_type": "stream",
     "text": [
      "[CV] END criterion=mae, max_depth=111, max_features=log2, min_samples_leaf=11, min_samples_split=13, n_estimators=350; total time=   0.5s\n"
     ]
    },
    {
     "name": "stderr",
     "output_type": "stream",
     "text": [
      "C:\\Users\\mayank\\anaconda3\\lib\\site-packages\\sklearn\\ensemble\\_forest.py:403: FutureWarning: Criterion 'mae' was deprecated in v1.0 and will be removed in version 1.2. Use `criterion='absolute_error'` which is equivalent.\n",
      "  warn(\n"
     ]
    },
    {
     "name": "stdout",
     "output_type": "stream",
     "text": [
      "[CV] END criterion=mae, max_depth=111, max_features=log2, min_samples_leaf=11, min_samples_split=13, n_estimators=350; total time=   0.6s\n"
     ]
    },
    {
     "name": "stderr",
     "output_type": "stream",
     "text": [
      "C:\\Users\\mayank\\anaconda3\\lib\\site-packages\\sklearn\\ensemble\\_forest.py:403: FutureWarning: Criterion 'mae' was deprecated in v1.0 and will be removed in version 1.2. Use `criterion='absolute_error'` which is equivalent.\n",
      "  warn(\n"
     ]
    },
    {
     "name": "stdout",
     "output_type": "stream",
     "text": [
      "[CV] END criterion=mae, max_depth=111, max_features=log2, min_samples_leaf=11, min_samples_split=13, n_estimators=350; total time=   0.6s\n"
     ]
    },
    {
     "name": "stderr",
     "output_type": "stream",
     "text": [
      "C:\\Users\\mayank\\anaconda3\\lib\\site-packages\\sklearn\\ensemble\\_forest.py:403: FutureWarning: Criterion 'mae' was deprecated in v1.0 and will be removed in version 1.2. Use `criterion='absolute_error'` which is equivalent.\n",
      "  warn(\n"
     ]
    },
    {
     "name": "stdout",
     "output_type": "stream",
     "text": [
      "[CV] END criterion=mae, max_depth=111, max_features=log2, min_samples_leaf=11, min_samples_split=13, n_estimators=350; total time=   0.6s\n"
     ]
    },
    {
     "name": "stderr",
     "output_type": "stream",
     "text": [
      "C:\\Users\\mayank\\anaconda3\\lib\\site-packages\\sklearn\\ensemble\\_forest.py:403: FutureWarning: Criterion 'mae' was deprecated in v1.0 and will be removed in version 1.2. Use `criterion='absolute_error'` which is equivalent.\n",
      "  warn(\n"
     ]
    },
    {
     "name": "stdout",
     "output_type": "stream",
     "text": [
      "[CV] END criterion=mae, max_depth=111, max_features=log2, min_samples_leaf=11, min_samples_split=13, n_estimators=350; total time=   0.6s\n"
     ]
    },
    {
     "name": "stderr",
     "output_type": "stream",
     "text": [
      "C:\\Users\\mayank\\anaconda3\\lib\\site-packages\\sklearn\\ensemble\\_forest.py:403: FutureWarning: Criterion 'mae' was deprecated in v1.0 and will be removed in version 1.2. Use `criterion='absolute_error'` which is equivalent.\n",
      "  warn(\n"
     ]
    },
    {
     "name": "stdout",
     "output_type": "stream",
     "text": [
      "[CV] END criterion=mae, max_depth=61, max_features=auto, min_samples_leaf=11, min_samples_split=3, n_estimators=230; total time=   0.9s\n"
     ]
    },
    {
     "name": "stderr",
     "output_type": "stream",
     "text": [
      "C:\\Users\\mayank\\anaconda3\\lib\\site-packages\\sklearn\\ensemble\\_forest.py:403: FutureWarning: Criterion 'mae' was deprecated in v1.0 and will be removed in version 1.2. Use `criterion='absolute_error'` which is equivalent.\n",
      "  warn(\n"
     ]
    },
    {
     "name": "stdout",
     "output_type": "stream",
     "text": [
      "[CV] END criterion=mae, max_depth=61, max_features=auto, min_samples_leaf=11, min_samples_split=3, n_estimators=230; total time=   0.8s\n"
     ]
    },
    {
     "name": "stderr",
     "output_type": "stream",
     "text": [
      "C:\\Users\\mayank\\anaconda3\\lib\\site-packages\\sklearn\\ensemble\\_forest.py:403: FutureWarning: Criterion 'mae' was deprecated in v1.0 and will be removed in version 1.2. Use `criterion='absolute_error'` which is equivalent.\n",
      "  warn(\n"
     ]
    },
    {
     "name": "stdout",
     "output_type": "stream",
     "text": [
      "[CV] END criterion=mae, max_depth=61, max_features=auto, min_samples_leaf=11, min_samples_split=3, n_estimators=230; total time=   0.8s\n"
     ]
    },
    {
     "name": "stderr",
     "output_type": "stream",
     "text": [
      "C:\\Users\\mayank\\anaconda3\\lib\\site-packages\\sklearn\\ensemble\\_forest.py:403: FutureWarning: Criterion 'mae' was deprecated in v1.0 and will be removed in version 1.2. Use `criterion='absolute_error'` which is equivalent.\n",
      "  warn(\n"
     ]
    },
    {
     "name": "stdout",
     "output_type": "stream",
     "text": [
      "[CV] END criterion=mae, max_depth=61, max_features=auto, min_samples_leaf=11, min_samples_split=3, n_estimators=230; total time=   0.8s\n"
     ]
    },
    {
     "name": "stderr",
     "output_type": "stream",
     "text": [
      "C:\\Users\\mayank\\anaconda3\\lib\\site-packages\\sklearn\\ensemble\\_forest.py:403: FutureWarning: Criterion 'mae' was deprecated in v1.0 and will be removed in version 1.2. Use `criterion='absolute_error'` which is equivalent.\n",
      "  warn(\n"
     ]
    },
    {
     "name": "stdout",
     "output_type": "stream",
     "text": [
      "[CV] END criterion=mae, max_depth=61, max_features=auto, min_samples_leaf=11, min_samples_split=3, n_estimators=230; total time=   0.9s\n"
     ]
    },
    {
     "name": "stderr",
     "output_type": "stream",
     "text": [
      "C:\\Users\\mayank\\anaconda3\\lib\\site-packages\\sklearn\\ensemble\\_forest.py:403: FutureWarning: Criterion 'mae' was deprecated in v1.0 and will be removed in version 1.2. Use `criterion='absolute_error'` which is equivalent.\n",
      "  warn(\n"
     ]
    },
    {
     "name": "stdout",
     "output_type": "stream",
     "text": [
      "[CV] END criterion=mae, max_depth=61, max_features=auto, min_samples_leaf=11, min_samples_split=3, n_estimators=230; total time=   0.8s\n"
     ]
    },
    {
     "name": "stderr",
     "output_type": "stream",
     "text": [
      "C:\\Users\\mayank\\anaconda3\\lib\\site-packages\\sklearn\\ensemble\\_forest.py:403: FutureWarning: Criterion 'mae' was deprecated in v1.0 and will be removed in version 1.2. Use `criterion='absolute_error'` which is equivalent.\n",
      "  warn(\n"
     ]
    },
    {
     "name": "stdout",
     "output_type": "stream",
     "text": [
      "[CV] END criterion=mae, max_depth=61, max_features=auto, min_samples_leaf=11, min_samples_split=3, n_estimators=230; total time=   0.8s\n"
     ]
    },
    {
     "name": "stderr",
     "output_type": "stream",
     "text": [
      "C:\\Users\\mayank\\anaconda3\\lib\\site-packages\\sklearn\\ensemble\\_forest.py:403: FutureWarning: Criterion 'mae' was deprecated in v1.0 and will be removed in version 1.2. Use `criterion='absolute_error'` which is equivalent.\n",
      "  warn(\n"
     ]
    },
    {
     "name": "stdout",
     "output_type": "stream",
     "text": [
      "[CV] END criterion=mae, max_depth=61, max_features=auto, min_samples_leaf=11, min_samples_split=3, n_estimators=230; total time=   0.8s\n",
      "[CV] END criterion=mae, max_depth=191, max_features=auto, min_samples_leaf=17, min_samples_split=1, n_estimators=110; total time=   0.0s\n",
      "[CV] END criterion=mae, max_depth=191, max_features=auto, min_samples_leaf=17, min_samples_split=1, n_estimators=110; total time=   0.0s\n",
      "[CV] END criterion=mae, max_depth=191, max_features=auto, min_samples_leaf=17, min_samples_split=1, n_estimators=110; total time=   0.0s\n",
      "[CV] END criterion=mae, max_depth=191, max_features=auto, min_samples_leaf=17, min_samples_split=1, n_estimators=110; total time=   0.0s\n",
      "[CV] END criterion=mae, max_depth=191, max_features=auto, min_samples_leaf=17, min_samples_split=1, n_estimators=110; total time=   0.0s\n",
      "[CV] END criterion=mae, max_depth=191, max_features=auto, min_samples_leaf=17, min_samples_split=1, n_estimators=110; total time=   0.0s\n"
     ]
    },
    {
     "name": "stderr",
     "output_type": "stream",
     "text": [
      "C:\\Users\\mayank\\anaconda3\\lib\\site-packages\\sklearn\\ensemble\\_forest.py:403: FutureWarning: Criterion 'mae' was deprecated in v1.0 and will be removed in version 1.2. Use `criterion='absolute_error'` which is equivalent.\n",
      "  warn(\n",
      "C:\\Users\\mayank\\anaconda3\\lib\\site-packages\\sklearn\\ensemble\\_forest.py:403: FutureWarning: Criterion 'mae' was deprecated in v1.0 and will be removed in version 1.2. Use `criterion='absolute_error'` which is equivalent.\n",
      "  warn(\n",
      "C:\\Users\\mayank\\anaconda3\\lib\\site-packages\\sklearn\\ensemble\\_forest.py:403: FutureWarning: Criterion 'mae' was deprecated in v1.0 and will be removed in version 1.2. Use `criterion='absolute_error'` which is equivalent.\n",
      "  warn(\n",
      "C:\\Users\\mayank\\anaconda3\\lib\\site-packages\\sklearn\\ensemble\\_forest.py:403: FutureWarning: Criterion 'mae' was deprecated in v1.0 and will be removed in version 1.2. Use `criterion='absolute_error'` which is equivalent.\n",
      "  warn(\n",
      "C:\\Users\\mayank\\anaconda3\\lib\\site-packages\\sklearn\\ensemble\\_forest.py:403: FutureWarning: Criterion 'mae' was deprecated in v1.0 and will be removed in version 1.2. Use `criterion='absolute_error'` which is equivalent.\n",
      "  warn(\n",
      "C:\\Users\\mayank\\anaconda3\\lib\\site-packages\\sklearn\\ensemble\\_forest.py:403: FutureWarning: Criterion 'mae' was deprecated in v1.0 and will be removed in version 1.2. Use `criterion='absolute_error'` which is equivalent.\n",
      "  warn(\n",
      "C:\\Users\\mayank\\anaconda3\\lib\\site-packages\\sklearn\\ensemble\\_forest.py:403: FutureWarning: Criterion 'mae' was deprecated in v1.0 and will be removed in version 1.2. Use `criterion='absolute_error'` which is equivalent.\n",
      "  warn(\n"
     ]
    },
    {
     "name": "stdout",
     "output_type": "stream",
     "text": [
      "[CV] END criterion=mae, max_depth=191, max_features=auto, min_samples_leaf=17, min_samples_split=1, n_estimators=110; total time=   0.0s\n",
      "[CV] END criterion=mae, max_depth=191, max_features=auto, min_samples_leaf=17, min_samples_split=1, n_estimators=110; total time=   0.0s\n",
      "[CV] END criterion=mse, max_depth=51, max_features=sqrt, min_samples_leaf=7, min_samples_split=1, n_estimators=210; total time=   0.0s\n",
      "[CV] END criterion=mse, max_depth=51, max_features=sqrt, min_samples_leaf=7, min_samples_split=1, n_estimators=210; total time=   0.0s\n",
      "[CV] END criterion=mse, max_depth=51, max_features=sqrt, min_samples_leaf=7, min_samples_split=1, n_estimators=210; total time=   0.0s\n"
     ]
    },
    {
     "name": "stderr",
     "output_type": "stream",
     "text": [
      "C:\\Users\\mayank\\anaconda3\\lib\\site-packages\\sklearn\\ensemble\\_forest.py:403: FutureWarning: Criterion 'mae' was deprecated in v1.0 and will be removed in version 1.2. Use `criterion='absolute_error'` which is equivalent.\n",
      "  warn(\n",
      "C:\\Users\\mayank\\anaconda3\\lib\\site-packages\\sklearn\\ensemble\\_forest.py:396: FutureWarning: Criterion 'mse' was deprecated in v1.0 and will be removed in version 1.2. Use `criterion='squared_error'` which is equivalent.\n",
      "  warn(\n",
      "C:\\Users\\mayank\\anaconda3\\lib\\site-packages\\sklearn\\ensemble\\_forest.py:396: FutureWarning: Criterion 'mse' was deprecated in v1.0 and will be removed in version 1.2. Use `criterion='squared_error'` which is equivalent.\n",
      "  warn(\n",
      "C:\\Users\\mayank\\anaconda3\\lib\\site-packages\\sklearn\\ensemble\\_forest.py:396: FutureWarning: Criterion 'mse' was deprecated in v1.0 and will be removed in version 1.2. Use `criterion='squared_error'` which is equivalent.\n",
      "  warn(\n",
      "C:\\Users\\mayank\\anaconda3\\lib\\site-packages\\sklearn\\ensemble\\_forest.py:396: FutureWarning: Criterion 'mse' was deprecated in v1.0 and will be removed in version 1.2. Use `criterion='squared_error'` which is equivalent.\n",
      "  warn(\n",
      "C:\\Users\\mayank\\anaconda3\\lib\\site-packages\\sklearn\\ensemble\\_forest.py:396: FutureWarning: Criterion 'mse' was deprecated in v1.0 and will be removed in version 1.2. Use `criterion='squared_error'` which is equivalent.\n",
      "  warn(\n",
      "C:\\Users\\mayank\\anaconda3\\lib\\site-packages\\sklearn\\ensemble\\_forest.py:396: FutureWarning: Criterion 'mse' was deprecated in v1.0 and will be removed in version 1.2. Use `criterion='squared_error'` which is equivalent.\n",
      "  warn(\n",
      "C:\\Users\\mayank\\anaconda3\\lib\\site-packages\\sklearn\\ensemble\\_forest.py:396: FutureWarning: Criterion 'mse' was deprecated in v1.0 and will be removed in version 1.2. Use `criterion='squared_error'` which is equivalent.\n",
      "  warn(\n",
      "C:\\Users\\mayank\\anaconda3\\lib\\site-packages\\sklearn\\ensemble\\_forest.py:396: FutureWarning: Criterion 'mse' was deprecated in v1.0 and will be removed in version 1.2. Use `criterion='squared_error'` which is equivalent.\n",
      "  warn(\n"
     ]
    },
    {
     "name": "stdout",
     "output_type": "stream",
     "text": [
      "[CV] END criterion=mse, max_depth=51, max_features=sqrt, min_samples_leaf=7, min_samples_split=1, n_estimators=210; total time=   0.0s\n",
      "[CV] END criterion=mse, max_depth=51, max_features=sqrt, min_samples_leaf=7, min_samples_split=1, n_estimators=210; total time=   0.0s\n",
      "[CV] END criterion=mse, max_depth=51, max_features=sqrt, min_samples_leaf=7, min_samples_split=1, n_estimators=210; total time=   0.0s\n",
      "[CV] END criterion=mse, max_depth=51, max_features=sqrt, min_samples_leaf=7, min_samples_split=1, n_estimators=210; total time=   0.0s\n",
      "[CV] END criterion=mse, max_depth=51, max_features=sqrt, min_samples_leaf=7, min_samples_split=1, n_estimators=210; total time=   0.0s\n"
     ]
    },
    {
     "name": "stderr",
     "output_type": "stream",
     "text": [
      "C:\\Users\\mayank\\anaconda3\\lib\\site-packages\\sklearn\\ensemble\\_forest.py:396: FutureWarning: Criterion 'mse' was deprecated in v1.0 and will be removed in version 1.2. Use `criterion='squared_error'` which is equivalent.\n",
      "  warn(\n"
     ]
    },
    {
     "name": "stdout",
     "output_type": "stream",
     "text": [
      "[CV] END criterion=mse, max_depth=111, max_features=auto, min_samples_leaf=9, min_samples_split=7, n_estimators=290; total time=   0.3s\n"
     ]
    },
    {
     "name": "stderr",
     "output_type": "stream",
     "text": [
      "C:\\Users\\mayank\\anaconda3\\lib\\site-packages\\sklearn\\ensemble\\_forest.py:396: FutureWarning: Criterion 'mse' was deprecated in v1.0 and will be removed in version 1.2. Use `criterion='squared_error'` which is equivalent.\n",
      "  warn(\n"
     ]
    },
    {
     "name": "stdout",
     "output_type": "stream",
     "text": [
      "[CV] END criterion=mse, max_depth=111, max_features=auto, min_samples_leaf=9, min_samples_split=7, n_estimators=290; total time=   0.3s\n"
     ]
    },
    {
     "name": "stderr",
     "output_type": "stream",
     "text": [
      "C:\\Users\\mayank\\anaconda3\\lib\\site-packages\\sklearn\\ensemble\\_forest.py:396: FutureWarning: Criterion 'mse' was deprecated in v1.0 and will be removed in version 1.2. Use `criterion='squared_error'` which is equivalent.\n",
      "  warn(\n"
     ]
    },
    {
     "name": "stdout",
     "output_type": "stream",
     "text": [
      "[CV] END criterion=mse, max_depth=111, max_features=auto, min_samples_leaf=9, min_samples_split=7, n_estimators=290; total time=   0.3s\n"
     ]
    },
    {
     "name": "stderr",
     "output_type": "stream",
     "text": [
      "C:\\Users\\mayank\\anaconda3\\lib\\site-packages\\sklearn\\ensemble\\_forest.py:396: FutureWarning: Criterion 'mse' was deprecated in v1.0 and will be removed in version 1.2. Use `criterion='squared_error'` which is equivalent.\n",
      "  warn(\n"
     ]
    },
    {
     "name": "stdout",
     "output_type": "stream",
     "text": [
      "[CV] END criterion=mse, max_depth=111, max_features=auto, min_samples_leaf=9, min_samples_split=7, n_estimators=290; total time=   0.3s\n"
     ]
    },
    {
     "name": "stderr",
     "output_type": "stream",
     "text": [
      "C:\\Users\\mayank\\anaconda3\\lib\\site-packages\\sklearn\\ensemble\\_forest.py:396: FutureWarning: Criterion 'mse' was deprecated in v1.0 and will be removed in version 1.2. Use `criterion='squared_error'` which is equivalent.\n",
      "  warn(\n"
     ]
    },
    {
     "name": "stdout",
     "output_type": "stream",
     "text": [
      "[CV] END criterion=mse, max_depth=111, max_features=auto, min_samples_leaf=9, min_samples_split=7, n_estimators=290; total time=   0.3s\n"
     ]
    },
    {
     "name": "stderr",
     "output_type": "stream",
     "text": [
      "C:\\Users\\mayank\\anaconda3\\lib\\site-packages\\sklearn\\ensemble\\_forest.py:396: FutureWarning: Criterion 'mse' was deprecated in v1.0 and will be removed in version 1.2. Use `criterion='squared_error'` which is equivalent.\n",
      "  warn(\n"
     ]
    },
    {
     "name": "stdout",
     "output_type": "stream",
     "text": [
      "[CV] END criterion=mse, max_depth=111, max_features=auto, min_samples_leaf=9, min_samples_split=7, n_estimators=290; total time=   0.3s\n"
     ]
    },
    {
     "name": "stderr",
     "output_type": "stream",
     "text": [
      "C:\\Users\\mayank\\anaconda3\\lib\\site-packages\\sklearn\\ensemble\\_forest.py:396: FutureWarning: Criterion 'mse' was deprecated in v1.0 and will be removed in version 1.2. Use `criterion='squared_error'` which is equivalent.\n",
      "  warn(\n"
     ]
    },
    {
     "name": "stdout",
     "output_type": "stream",
     "text": [
      "[CV] END criterion=mse, max_depth=111, max_features=auto, min_samples_leaf=9, min_samples_split=7, n_estimators=290; total time=   0.3s\n"
     ]
    },
    {
     "name": "stderr",
     "output_type": "stream",
     "text": [
      "C:\\Users\\mayank\\anaconda3\\lib\\site-packages\\sklearn\\ensemble\\_forest.py:396: FutureWarning: Criterion 'mse' was deprecated in v1.0 and will be removed in version 1.2. Use `criterion='squared_error'` which is equivalent.\n",
      "  warn(\n"
     ]
    },
    {
     "name": "stdout",
     "output_type": "stream",
     "text": [
      "[CV] END criterion=mse, max_depth=111, max_features=auto, min_samples_leaf=9, min_samples_split=7, n_estimators=290; total time=   0.3s\n"
     ]
    },
    {
     "name": "stderr",
     "output_type": "stream",
     "text": [
      "C:\\Users\\mayank\\anaconda3\\lib\\site-packages\\sklearn\\ensemble\\_forest.py:396: FutureWarning: Criterion 'mse' was deprecated in v1.0 and will be removed in version 1.2. Use `criterion='squared_error'` which is equivalent.\n",
      "  warn(\n"
     ]
    },
    {
     "name": "stdout",
     "output_type": "stream",
     "text": [
      "[CV] END criterion=mse, max_depth=31, max_features=log2, min_samples_leaf=9, min_samples_split=13, n_estimators=210; total time=   0.1s\n"
     ]
    },
    {
     "name": "stderr",
     "output_type": "stream",
     "text": [
      "C:\\Users\\mayank\\anaconda3\\lib\\site-packages\\sklearn\\ensemble\\_forest.py:396: FutureWarning: Criterion 'mse' was deprecated in v1.0 and will be removed in version 1.2. Use `criterion='squared_error'` which is equivalent.\n",
      "  warn(\n"
     ]
    },
    {
     "name": "stdout",
     "output_type": "stream",
     "text": [
      "[CV] END criterion=mse, max_depth=31, max_features=log2, min_samples_leaf=9, min_samples_split=13, n_estimators=210; total time=   0.1s\n",
      "[CV] END criterion=mse, max_depth=31, max_features=log2, min_samples_leaf=9, min_samples_split=13, n_estimators=210; total time=   0.1s\n"
     ]
    },
    {
     "name": "stderr",
     "output_type": "stream",
     "text": [
      "C:\\Users\\mayank\\anaconda3\\lib\\site-packages\\sklearn\\ensemble\\_forest.py:396: FutureWarning: Criterion 'mse' was deprecated in v1.0 and will be removed in version 1.2. Use `criterion='squared_error'` which is equivalent.\n",
      "  warn(\n",
      "C:\\Users\\mayank\\anaconda3\\lib\\site-packages\\sklearn\\ensemble\\_forest.py:396: FutureWarning: Criterion 'mse' was deprecated in v1.0 and will be removed in version 1.2. Use `criterion='squared_error'` which is equivalent.\n",
      "  warn(\n"
     ]
    },
    {
     "name": "stdout",
     "output_type": "stream",
     "text": [
      "[CV] END criterion=mse, max_depth=31, max_features=log2, min_samples_leaf=9, min_samples_split=13, n_estimators=210; total time=   0.1s\n"
     ]
    },
    {
     "name": "stderr",
     "output_type": "stream",
     "text": [
      "C:\\Users\\mayank\\anaconda3\\lib\\site-packages\\sklearn\\ensemble\\_forest.py:396: FutureWarning: Criterion 'mse' was deprecated in v1.0 and will be removed in version 1.2. Use `criterion='squared_error'` which is equivalent.\n",
      "  warn(\n"
     ]
    },
    {
     "name": "stdout",
     "output_type": "stream",
     "text": [
      "[CV] END criterion=mse, max_depth=31, max_features=log2, min_samples_leaf=9, min_samples_split=13, n_estimators=210; total time=   0.1s\n",
      "[CV] END criterion=mse, max_depth=31, max_features=log2, min_samples_leaf=9, min_samples_split=13, n_estimators=210; total time=   0.1s\n"
     ]
    },
    {
     "name": "stderr",
     "output_type": "stream",
     "text": [
      "C:\\Users\\mayank\\anaconda3\\lib\\site-packages\\sklearn\\ensemble\\_forest.py:396: FutureWarning: Criterion 'mse' was deprecated in v1.0 and will be removed in version 1.2. Use `criterion='squared_error'` which is equivalent.\n",
      "  warn(\n",
      "C:\\Users\\mayank\\anaconda3\\lib\\site-packages\\sklearn\\ensemble\\_forest.py:396: FutureWarning: Criterion 'mse' was deprecated in v1.0 and will be removed in version 1.2. Use `criterion='squared_error'` which is equivalent.\n",
      "  warn(\n",
      "C:\\Users\\mayank\\anaconda3\\lib\\site-packages\\sklearn\\ensemble\\_forest.py:396: FutureWarning: Criterion 'mse' was deprecated in v1.0 and will be removed in version 1.2. Use `criterion='squared_error'` which is equivalent.\n",
      "  warn(\n"
     ]
    },
    {
     "name": "stdout",
     "output_type": "stream",
     "text": [
      "[CV] END criterion=mse, max_depth=31, max_features=log2, min_samples_leaf=9, min_samples_split=13, n_estimators=210; total time=   0.1s\n",
      "[CV] END criterion=mse, max_depth=31, max_features=log2, min_samples_leaf=9, min_samples_split=13, n_estimators=210; total time=   0.1s\n"
     ]
    },
    {
     "name": "stderr",
     "output_type": "stream",
     "text": [
      "C:\\Users\\mayank\\anaconda3\\lib\\site-packages\\sklearn\\ensemble\\_forest.py:396: FutureWarning: Criterion 'mse' was deprecated in v1.0 and will be removed in version 1.2. Use `criterion='squared_error'` which is equivalent.\n",
      "  warn(\n",
      "C:\\Users\\mayank\\anaconda3\\lib\\site-packages\\sklearn\\ensemble\\_forest.py:396: FutureWarning: Criterion 'mse' was deprecated in v1.0 and will be removed in version 1.2. Use `criterion='squared_error'` which is equivalent.\n",
      "  warn(\n",
      "C:\\Users\\mayank\\anaconda3\\lib\\site-packages\\sklearn\\ensemble\\_forest.py:396: FutureWarning: Criterion 'mse' was deprecated in v1.0 and will be removed in version 1.2. Use `criterion='squared_error'` which is equivalent.\n",
      "  warn(\n",
      "C:\\Users\\mayank\\anaconda3\\lib\\site-packages\\sklearn\\ensemble\\_forest.py:396: FutureWarning: Criterion 'mse' was deprecated in v1.0 and will be removed in version 1.2. Use `criterion='squared_error'` which is equivalent.\n",
      "  warn(\n"
     ]
    },
    {
     "name": "stdout",
     "output_type": "stream",
     "text": [
      "[CV] END criterion=mse, max_depth=71, max_features=auto, min_samples_leaf=9, min_samples_split=1, n_estimators=230; total time=   0.0s\n",
      "[CV] END criterion=mse, max_depth=71, max_features=auto, min_samples_leaf=9, min_samples_split=1, n_estimators=230; total time=   0.0s\n",
      "[CV] END criterion=mse, max_depth=71, max_features=auto, min_samples_leaf=9, min_samples_split=1, n_estimators=230; total time=   0.0s\n",
      "[CV] END criterion=mse, max_depth=71, max_features=auto, min_samples_leaf=9, min_samples_split=1, n_estimators=230; total time=   0.0s\n"
     ]
    },
    {
     "name": "stderr",
     "output_type": "stream",
     "text": [
      "C:\\Users\\mayank\\anaconda3\\lib\\site-packages\\sklearn\\ensemble\\_forest.py:396: FutureWarning: Criterion 'mse' was deprecated in v1.0 and will be removed in version 1.2. Use `criterion='squared_error'` which is equivalent.\n",
      "  warn(\n",
      "C:\\Users\\mayank\\anaconda3\\lib\\site-packages\\sklearn\\ensemble\\_forest.py:396: FutureWarning: Criterion 'mse' was deprecated in v1.0 and will be removed in version 1.2. Use `criterion='squared_error'` which is equivalent.\n",
      "  warn(\n",
      "C:\\Users\\mayank\\anaconda3\\lib\\site-packages\\sklearn\\ensemble\\_forest.py:396: FutureWarning: Criterion 'mse' was deprecated in v1.0 and will be removed in version 1.2. Use `criterion='squared_error'` which is equivalent.\n",
      "  warn(\n",
      "C:\\Users\\mayank\\anaconda3\\lib\\site-packages\\sklearn\\ensemble\\_forest.py:396: FutureWarning: Criterion 'mse' was deprecated in v1.0 and will be removed in version 1.2. Use `criterion='squared_error'` which is equivalent.\n",
      "  warn(\n"
     ]
    },
    {
     "name": "stdout",
     "output_type": "stream",
     "text": [
      "[CV] END criterion=mse, max_depth=71, max_features=auto, min_samples_leaf=9, min_samples_split=1, n_estimators=230; total time=   0.0s\n",
      "[CV] END criterion=mse, max_depth=71, max_features=auto, min_samples_leaf=9, min_samples_split=1, n_estimators=230; total time=   0.0s\n",
      "[CV] END criterion=mse, max_depth=71, max_features=auto, min_samples_leaf=9, min_samples_split=1, n_estimators=230; total time=   0.0s\n",
      "[CV] END criterion=mse, max_depth=71, max_features=auto, min_samples_leaf=9, min_samples_split=1, n_estimators=230; total time=   0.0s\n"
     ]
    },
    {
     "name": "stderr",
     "output_type": "stream",
     "text": [
      "C:\\Users\\mayank\\anaconda3\\lib\\site-packages\\sklearn\\ensemble\\_forest.py:403: FutureWarning: Criterion 'mae' was deprecated in v1.0 and will be removed in version 1.2. Use `criterion='absolute_error'` which is equivalent.\n",
      "  warn(\n"
     ]
    },
    {
     "name": "stdout",
     "output_type": "stream",
     "text": [
      "[CV] END criterion=mae, max_depth=151, max_features=auto, min_samples_leaf=1, min_samples_split=5, n_estimators=270; total time=   1.8s\n"
     ]
    },
    {
     "name": "stderr",
     "output_type": "stream",
     "text": [
      "C:\\Users\\mayank\\anaconda3\\lib\\site-packages\\sklearn\\ensemble\\_forest.py:403: FutureWarning: Criterion 'mae' was deprecated in v1.0 and will be removed in version 1.2. Use `criterion='absolute_error'` which is equivalent.\n",
      "  warn(\n"
     ]
    },
    {
     "name": "stdout",
     "output_type": "stream",
     "text": [
      "[CV] END criterion=mae, max_depth=151, max_features=auto, min_samples_leaf=1, min_samples_split=5, n_estimators=270; total time=   1.8s\n"
     ]
    },
    {
     "name": "stderr",
     "output_type": "stream",
     "text": [
      "C:\\Users\\mayank\\anaconda3\\lib\\site-packages\\sklearn\\ensemble\\_forest.py:403: FutureWarning: Criterion 'mae' was deprecated in v1.0 and will be removed in version 1.2. Use `criterion='absolute_error'` which is equivalent.\n",
      "  warn(\n"
     ]
    },
    {
     "name": "stdout",
     "output_type": "stream",
     "text": [
      "[CV] END criterion=mae, max_depth=151, max_features=auto, min_samples_leaf=1, min_samples_split=5, n_estimators=270; total time=   1.7s\n"
     ]
    },
    {
     "name": "stderr",
     "output_type": "stream",
     "text": [
      "C:\\Users\\mayank\\anaconda3\\lib\\site-packages\\sklearn\\ensemble\\_forest.py:403: FutureWarning: Criterion 'mae' was deprecated in v1.0 and will be removed in version 1.2. Use `criterion='absolute_error'` which is equivalent.\n",
      "  warn(\n"
     ]
    },
    {
     "name": "stdout",
     "output_type": "stream",
     "text": [
      "[CV] END criterion=mae, max_depth=151, max_features=auto, min_samples_leaf=1, min_samples_split=5, n_estimators=270; total time=   1.8s\n"
     ]
    },
    {
     "name": "stderr",
     "output_type": "stream",
     "text": [
      "C:\\Users\\mayank\\anaconda3\\lib\\site-packages\\sklearn\\ensemble\\_forest.py:403: FutureWarning: Criterion 'mae' was deprecated in v1.0 and will be removed in version 1.2. Use `criterion='absolute_error'` which is equivalent.\n",
      "  warn(\n"
     ]
    },
    {
     "name": "stdout",
     "output_type": "stream",
     "text": [
      "[CV] END criterion=mae, max_depth=151, max_features=auto, min_samples_leaf=1, min_samples_split=5, n_estimators=270; total time=   1.7s\n"
     ]
    },
    {
     "name": "stderr",
     "output_type": "stream",
     "text": [
      "C:\\Users\\mayank\\anaconda3\\lib\\site-packages\\sklearn\\ensemble\\_forest.py:403: FutureWarning: Criterion 'mae' was deprecated in v1.0 and will be removed in version 1.2. Use `criterion='absolute_error'` which is equivalent.\n",
      "  warn(\n"
     ]
    },
    {
     "name": "stdout",
     "output_type": "stream",
     "text": [
      "[CV] END criterion=mae, max_depth=151, max_features=auto, min_samples_leaf=1, min_samples_split=5, n_estimators=270; total time=   1.7s\n"
     ]
    },
    {
     "name": "stderr",
     "output_type": "stream",
     "text": [
      "C:\\Users\\mayank\\anaconda3\\lib\\site-packages\\sklearn\\ensemble\\_forest.py:403: FutureWarning: Criterion 'mae' was deprecated in v1.0 and will be removed in version 1.2. Use `criterion='absolute_error'` which is equivalent.\n",
      "  warn(\n"
     ]
    },
    {
     "name": "stdout",
     "output_type": "stream",
     "text": [
      "[CV] END criterion=mae, max_depth=151, max_features=auto, min_samples_leaf=1, min_samples_split=5, n_estimators=270; total time=   1.7s\n"
     ]
    },
    {
     "name": "stderr",
     "output_type": "stream",
     "text": [
      "C:\\Users\\mayank\\anaconda3\\lib\\site-packages\\sklearn\\ensemble\\_forest.py:403: FutureWarning: Criterion 'mae' was deprecated in v1.0 and will be removed in version 1.2. Use `criterion='absolute_error'` which is equivalent.\n",
      "  warn(\n"
     ]
    },
    {
     "name": "stdout",
     "output_type": "stream",
     "text": [
      "[CV] END criterion=mae, max_depth=151, max_features=auto, min_samples_leaf=1, min_samples_split=5, n_estimators=270; total time=   1.8s\n",
      "[CV] END criterion=mse, max_depth=191, max_features=log2, min_samples_leaf=9, min_samples_split=1, n_estimators=370; total time=   0.0s\n",
      "[CV] END criterion=mse, max_depth=191, max_features=log2, min_samples_leaf=9, min_samples_split=1, n_estimators=370; total time=   0.0s\n"
     ]
    },
    {
     "name": "stderr",
     "output_type": "stream",
     "text": [
      "C:\\Users\\mayank\\anaconda3\\lib\\site-packages\\sklearn\\ensemble\\_forest.py:396: FutureWarning: Criterion 'mse' was deprecated in v1.0 and will be removed in version 1.2. Use `criterion='squared_error'` which is equivalent.\n",
      "  warn(\n",
      "C:\\Users\\mayank\\anaconda3\\lib\\site-packages\\sklearn\\ensemble\\_forest.py:396: FutureWarning: Criterion 'mse' was deprecated in v1.0 and will be removed in version 1.2. Use `criterion='squared_error'` which is equivalent.\n",
      "  warn(\n",
      "C:\\Users\\mayank\\anaconda3\\lib\\site-packages\\sklearn\\ensemble\\_forest.py:396: FutureWarning: Criterion 'mse' was deprecated in v1.0 and will be removed in version 1.2. Use `criterion='squared_error'` which is equivalent.\n",
      "  warn(\n"
     ]
    },
    {
     "name": "stdout",
     "output_type": "stream",
     "text": [
      "[CV] END criterion=mse, max_depth=191, max_features=log2, min_samples_leaf=9, min_samples_split=1, n_estimators=370; total time=   0.0s\n",
      "[CV] END criterion=mse, max_depth=191, max_features=log2, min_samples_leaf=9, min_samples_split=1, n_estimators=370; total time=   0.0s\n"
     ]
    },
    {
     "name": "stderr",
     "output_type": "stream",
     "text": [
      "C:\\Users\\mayank\\anaconda3\\lib\\site-packages\\sklearn\\ensemble\\_forest.py:396: FutureWarning: Criterion 'mse' was deprecated in v1.0 and will be removed in version 1.2. Use `criterion='squared_error'` which is equivalent.\n",
      "  warn(\n",
      "C:\\Users\\mayank\\anaconda3\\lib\\site-packages\\sklearn\\ensemble\\_forest.py:396: FutureWarning: Criterion 'mse' was deprecated in v1.0 and will be removed in version 1.2. Use `criterion='squared_error'` which is equivalent.\n",
      "  warn(\n",
      "C:\\Users\\mayank\\anaconda3\\lib\\site-packages\\sklearn\\ensemble\\_forest.py:396: FutureWarning: Criterion 'mse' was deprecated in v1.0 and will be removed in version 1.2. Use `criterion='squared_error'` which is equivalent.\n",
      "  warn(\n"
     ]
    },
    {
     "name": "stdout",
     "output_type": "stream",
     "text": [
      "[CV] END criterion=mse, max_depth=191, max_features=log2, min_samples_leaf=9, min_samples_split=1, n_estimators=370; total time=   0.0s\n",
      "[CV] END criterion=mse, max_depth=191, max_features=log2, min_samples_leaf=9, min_samples_split=1, n_estimators=370; total time=   0.0s\n",
      "[CV] END criterion=mse, max_depth=191, max_features=log2, min_samples_leaf=9, min_samples_split=1, n_estimators=370; total time=   0.0s\n"
     ]
    },
    {
     "name": "stderr",
     "output_type": "stream",
     "text": [
      "C:\\Users\\mayank\\anaconda3\\lib\\site-packages\\sklearn\\ensemble\\_forest.py:396: FutureWarning: Criterion 'mse' was deprecated in v1.0 and will be removed in version 1.2. Use `criterion='squared_error'` which is equivalent.\n",
      "  warn(\n",
      "C:\\Users\\mayank\\anaconda3\\lib\\site-packages\\sklearn\\ensemble\\_forest.py:396: FutureWarning: Criterion 'mse' was deprecated in v1.0 and will be removed in version 1.2. Use `criterion='squared_error'` which is equivalent.\n",
      "  warn(\n",
      "C:\\Users\\mayank\\anaconda3\\lib\\site-packages\\sklearn\\ensemble\\_forest.py:396: FutureWarning: Criterion 'mse' was deprecated in v1.0 and will be removed in version 1.2. Use `criterion='squared_error'` which is equivalent.\n",
      "  warn(\n"
     ]
    },
    {
     "name": "stdout",
     "output_type": "stream",
     "text": [
      "[CV] END criterion=mse, max_depth=191, max_features=log2, min_samples_leaf=9, min_samples_split=1, n_estimators=370; total time=   0.0s\n",
      "[CV] END criterion=mse, max_depth=181, max_features=auto, min_samples_leaf=17, min_samples_split=11, n_estimators=490; total time=   0.5s\n"
     ]
    },
    {
     "name": "stderr",
     "output_type": "stream",
     "text": [
      "C:\\Users\\mayank\\anaconda3\\lib\\site-packages\\sklearn\\ensemble\\_forest.py:396: FutureWarning: Criterion 'mse' was deprecated in v1.0 and will be removed in version 1.2. Use `criterion='squared_error'` which is equivalent.\n",
      "  warn(\n"
     ]
    },
    {
     "name": "stdout",
     "output_type": "stream",
     "text": [
      "[CV] END criterion=mse, max_depth=181, max_features=auto, min_samples_leaf=17, min_samples_split=11, n_estimators=490; total time=   0.5s\n"
     ]
    },
    {
     "name": "stderr",
     "output_type": "stream",
     "text": [
      "C:\\Users\\mayank\\anaconda3\\lib\\site-packages\\sklearn\\ensemble\\_forest.py:396: FutureWarning: Criterion 'mse' was deprecated in v1.0 and will be removed in version 1.2. Use `criterion='squared_error'` which is equivalent.\n",
      "  warn(\n"
     ]
    },
    {
     "name": "stdout",
     "output_type": "stream",
     "text": [
      "[CV] END criterion=mse, max_depth=181, max_features=auto, min_samples_leaf=17, min_samples_split=11, n_estimators=490; total time=   0.5s\n"
     ]
    },
    {
     "name": "stderr",
     "output_type": "stream",
     "text": [
      "C:\\Users\\mayank\\anaconda3\\lib\\site-packages\\sklearn\\ensemble\\_forest.py:396: FutureWarning: Criterion 'mse' was deprecated in v1.0 and will be removed in version 1.2. Use `criterion='squared_error'` which is equivalent.\n",
      "  warn(\n"
     ]
    },
    {
     "name": "stdout",
     "output_type": "stream",
     "text": [
      "[CV] END criterion=mse, max_depth=181, max_features=auto, min_samples_leaf=17, min_samples_split=11, n_estimators=490; total time=   0.4s\n"
     ]
    },
    {
     "name": "stderr",
     "output_type": "stream",
     "text": [
      "C:\\Users\\mayank\\anaconda3\\lib\\site-packages\\sklearn\\ensemble\\_forest.py:396: FutureWarning: Criterion 'mse' was deprecated in v1.0 and will be removed in version 1.2. Use `criterion='squared_error'` which is equivalent.\n",
      "  warn(\n"
     ]
    },
    {
     "name": "stdout",
     "output_type": "stream",
     "text": [
      "[CV] END criterion=mse, max_depth=181, max_features=auto, min_samples_leaf=17, min_samples_split=11, n_estimators=490; total time=   0.5s\n"
     ]
    },
    {
     "name": "stderr",
     "output_type": "stream",
     "text": [
      "C:\\Users\\mayank\\anaconda3\\lib\\site-packages\\sklearn\\ensemble\\_forest.py:396: FutureWarning: Criterion 'mse' was deprecated in v1.0 and will be removed in version 1.2. Use `criterion='squared_error'` which is equivalent.\n",
      "  warn(\n"
     ]
    },
    {
     "name": "stdout",
     "output_type": "stream",
     "text": [
      "[CV] END criterion=mse, max_depth=181, max_features=auto, min_samples_leaf=17, min_samples_split=11, n_estimators=490; total time=   0.5s\n"
     ]
    },
    {
     "name": "stderr",
     "output_type": "stream",
     "text": [
      "C:\\Users\\mayank\\anaconda3\\lib\\site-packages\\sklearn\\ensemble\\_forest.py:396: FutureWarning: Criterion 'mse' was deprecated in v1.0 and will be removed in version 1.2. Use `criterion='squared_error'` which is equivalent.\n",
      "  warn(\n"
     ]
    },
    {
     "name": "stdout",
     "output_type": "stream",
     "text": [
      "[CV] END criterion=mse, max_depth=181, max_features=auto, min_samples_leaf=17, min_samples_split=11, n_estimators=490; total time=   0.5s\n"
     ]
    },
    {
     "name": "stderr",
     "output_type": "stream",
     "text": [
      "C:\\Users\\mayank\\anaconda3\\lib\\site-packages\\sklearn\\ensemble\\_forest.py:396: FutureWarning: Criterion 'mse' was deprecated in v1.0 and will be removed in version 1.2. Use `criterion='squared_error'` which is equivalent.\n",
      "  warn(\n"
     ]
    },
    {
     "name": "stdout",
     "output_type": "stream",
     "text": [
      "[CV] END criterion=mse, max_depth=181, max_features=auto, min_samples_leaf=17, min_samples_split=11, n_estimators=490; total time=   0.5s\n",
      "[CV] END criterion=mae, max_depth=141, max_features=sqrt, min_samples_leaf=7, min_samples_split=1, n_estimators=90; total time=   0.0s\n",
      "[CV] END criterion=mae, max_depth=141, max_features=sqrt, min_samples_leaf=7, min_samples_split=1, n_estimators=90; total time=   0.0s\n",
      "[CV] END criterion=mae, max_depth=141, max_features=sqrt, min_samples_leaf=7, min_samples_split=1, n_estimators=90; total time=   0.0s\n",
      "[CV] END criterion=mae, max_depth=141, max_features=sqrt, min_samples_leaf=7, min_samples_split=1, n_estimators=90; total time=   0.0s\n",
      "[CV] END criterion=mae, max_depth=141, max_features=sqrt, min_samples_leaf=7, min_samples_split=1, n_estimators=90; total time=   0.0s\n",
      "[CV] END criterion=mae, max_depth=141, max_features=sqrt, min_samples_leaf=7, min_samples_split=1, n_estimators=90; total time=   0.0s\n",
      "[CV] END criterion=mae, max_depth=141, max_features=sqrt, min_samples_leaf=7, min_samples_split=1, n_estimators=90; total time=   0.0s\n"
     ]
    },
    {
     "name": "stderr",
     "output_type": "stream",
     "text": [
      "C:\\Users\\mayank\\anaconda3\\lib\\site-packages\\sklearn\\ensemble\\_forest.py:403: FutureWarning: Criterion 'mae' was deprecated in v1.0 and will be removed in version 1.2. Use `criterion='absolute_error'` which is equivalent.\n",
      "  warn(\n",
      "C:\\Users\\mayank\\anaconda3\\lib\\site-packages\\sklearn\\ensemble\\_forest.py:403: FutureWarning: Criterion 'mae' was deprecated in v1.0 and will be removed in version 1.2. Use `criterion='absolute_error'` which is equivalent.\n",
      "  warn(\n",
      "C:\\Users\\mayank\\anaconda3\\lib\\site-packages\\sklearn\\ensemble\\_forest.py:403: FutureWarning: Criterion 'mae' was deprecated in v1.0 and will be removed in version 1.2. Use `criterion='absolute_error'` which is equivalent.\n",
      "  warn(\n",
      "C:\\Users\\mayank\\anaconda3\\lib\\site-packages\\sklearn\\ensemble\\_forest.py:403: FutureWarning: Criterion 'mae' was deprecated in v1.0 and will be removed in version 1.2. Use `criterion='absolute_error'` which is equivalent.\n",
      "  warn(\n",
      "C:\\Users\\mayank\\anaconda3\\lib\\site-packages\\sklearn\\ensemble\\_forest.py:403: FutureWarning: Criterion 'mae' was deprecated in v1.0 and will be removed in version 1.2. Use `criterion='absolute_error'` which is equivalent.\n",
      "  warn(\n",
      "C:\\Users\\mayank\\anaconda3\\lib\\site-packages\\sklearn\\ensemble\\_forest.py:403: FutureWarning: Criterion 'mae' was deprecated in v1.0 and will be removed in version 1.2. Use `criterion='absolute_error'` which is equivalent.\n",
      "  warn(\n",
      "C:\\Users\\mayank\\anaconda3\\lib\\site-packages\\sklearn\\ensemble\\_forest.py:403: FutureWarning: Criterion 'mae' was deprecated in v1.0 and will be removed in version 1.2. Use `criterion='absolute_error'` which is equivalent.\n",
      "  warn(\n",
      "C:\\Users\\mayank\\anaconda3\\lib\\site-packages\\sklearn\\ensemble\\_forest.py:403: FutureWarning: Criterion 'mae' was deprecated in v1.0 and will be removed in version 1.2. Use `criterion='absolute_error'` which is equivalent.\n",
      "  warn(\n"
     ]
    },
    {
     "name": "stdout",
     "output_type": "stream",
     "text": [
      "[CV] END criterion=mae, max_depth=141, max_features=sqrt, min_samples_leaf=7, min_samples_split=1, n_estimators=90; total time=   0.0s\n"
     ]
    },
    {
     "name": "stderr",
     "output_type": "stream",
     "text": [
      "C:\\Users\\mayank\\anaconda3\\lib\\site-packages\\sklearn\\ensemble\\_forest.py:403: FutureWarning: Criterion 'mae' was deprecated in v1.0 and will be removed in version 1.2. Use `criterion='absolute_error'` which is equivalent.\n",
      "  warn(\n"
     ]
    },
    {
     "name": "stdout",
     "output_type": "stream",
     "text": [
      "[CV] END criterion=mae, max_depth=61, max_features=auto, min_samples_leaf=15, min_samples_split=3, n_estimators=370; total time=   1.3s\n"
     ]
    },
    {
     "name": "stderr",
     "output_type": "stream",
     "text": [
      "C:\\Users\\mayank\\anaconda3\\lib\\site-packages\\sklearn\\ensemble\\_forest.py:403: FutureWarning: Criterion 'mae' was deprecated in v1.0 and will be removed in version 1.2. Use `criterion='absolute_error'` which is equivalent.\n",
      "  warn(\n"
     ]
    },
    {
     "name": "stdout",
     "output_type": "stream",
     "text": [
      "[CV] END criterion=mae, max_depth=61, max_features=auto, min_samples_leaf=15, min_samples_split=3, n_estimators=370; total time=   1.3s\n"
     ]
    },
    {
     "name": "stderr",
     "output_type": "stream",
     "text": [
      "C:\\Users\\mayank\\anaconda3\\lib\\site-packages\\sklearn\\ensemble\\_forest.py:403: FutureWarning: Criterion 'mae' was deprecated in v1.0 and will be removed in version 1.2. Use `criterion='absolute_error'` which is equivalent.\n",
      "  warn(\n"
     ]
    },
    {
     "name": "stdout",
     "output_type": "stream",
     "text": [
      "[CV] END criterion=mae, max_depth=61, max_features=auto, min_samples_leaf=15, min_samples_split=3, n_estimators=370; total time=   1.2s\n"
     ]
    },
    {
     "name": "stderr",
     "output_type": "stream",
     "text": [
      "C:\\Users\\mayank\\anaconda3\\lib\\site-packages\\sklearn\\ensemble\\_forest.py:403: FutureWarning: Criterion 'mae' was deprecated in v1.0 and will be removed in version 1.2. Use `criterion='absolute_error'` which is equivalent.\n",
      "  warn(\n"
     ]
    },
    {
     "name": "stdout",
     "output_type": "stream",
     "text": [
      "[CV] END criterion=mae, max_depth=61, max_features=auto, min_samples_leaf=15, min_samples_split=3, n_estimators=370; total time=   1.3s\n"
     ]
    },
    {
     "name": "stderr",
     "output_type": "stream",
     "text": [
      "C:\\Users\\mayank\\anaconda3\\lib\\site-packages\\sklearn\\ensemble\\_forest.py:403: FutureWarning: Criterion 'mae' was deprecated in v1.0 and will be removed in version 1.2. Use `criterion='absolute_error'` which is equivalent.\n",
      "  warn(\n"
     ]
    },
    {
     "name": "stdout",
     "output_type": "stream",
     "text": [
      "[CV] END criterion=mae, max_depth=61, max_features=auto, min_samples_leaf=15, min_samples_split=3, n_estimators=370; total time=   1.3s\n"
     ]
    },
    {
     "name": "stderr",
     "output_type": "stream",
     "text": [
      "C:\\Users\\mayank\\anaconda3\\lib\\site-packages\\sklearn\\ensemble\\_forest.py:403: FutureWarning: Criterion 'mae' was deprecated in v1.0 and will be removed in version 1.2. Use `criterion='absolute_error'` which is equivalent.\n",
      "  warn(\n"
     ]
    },
    {
     "name": "stdout",
     "output_type": "stream",
     "text": [
      "[CV] END criterion=mae, max_depth=61, max_features=auto, min_samples_leaf=15, min_samples_split=3, n_estimators=370; total time=   1.2s\n"
     ]
    },
    {
     "name": "stderr",
     "output_type": "stream",
     "text": [
      "C:\\Users\\mayank\\anaconda3\\lib\\site-packages\\sklearn\\ensemble\\_forest.py:403: FutureWarning: Criterion 'mae' was deprecated in v1.0 and will be removed in version 1.2. Use `criterion='absolute_error'` which is equivalent.\n",
      "  warn(\n"
     ]
    },
    {
     "name": "stdout",
     "output_type": "stream",
     "text": [
      "[CV] END criterion=mae, max_depth=61, max_features=auto, min_samples_leaf=15, min_samples_split=3, n_estimators=370; total time=   1.3s\n"
     ]
    },
    {
     "name": "stderr",
     "output_type": "stream",
     "text": [
      "C:\\Users\\mayank\\anaconda3\\lib\\site-packages\\sklearn\\ensemble\\_forest.py:403: FutureWarning: Criterion 'mae' was deprecated in v1.0 and will be removed in version 1.2. Use `criterion='absolute_error'` which is equivalent.\n",
      "  warn(\n"
     ]
    },
    {
     "name": "stdout",
     "output_type": "stream",
     "text": [
      "[CV] END criterion=mae, max_depth=61, max_features=auto, min_samples_leaf=15, min_samples_split=3, n_estimators=370; total time=   1.3s\n",
      "[CV] END criterion=mae, max_depth=121, max_features=auto, min_samples_leaf=15, min_samples_split=1, n_estimators=230; total time=   0.0s\n",
      "[CV] END criterion=mae, max_depth=121, max_features=auto, min_samples_leaf=15, min_samples_split=1, n_estimators=230; total time=   0.0s\n",
      "[CV] END criterion=mae, max_depth=121, max_features=auto, min_samples_leaf=15, min_samples_split=1, n_estimators=230; total time=   0.0s\n"
     ]
    },
    {
     "name": "stderr",
     "output_type": "stream",
     "text": [
      "C:\\Users\\mayank\\anaconda3\\lib\\site-packages\\sklearn\\ensemble\\_forest.py:403: FutureWarning: Criterion 'mae' was deprecated in v1.0 and will be removed in version 1.2. Use `criterion='absolute_error'` which is equivalent.\n",
      "  warn(\n",
      "C:\\Users\\mayank\\anaconda3\\lib\\site-packages\\sklearn\\ensemble\\_forest.py:403: FutureWarning: Criterion 'mae' was deprecated in v1.0 and will be removed in version 1.2. Use `criterion='absolute_error'` which is equivalent.\n",
      "  warn(\n",
      "C:\\Users\\mayank\\anaconda3\\lib\\site-packages\\sklearn\\ensemble\\_forest.py:403: FutureWarning: Criterion 'mae' was deprecated in v1.0 and will be removed in version 1.2. Use `criterion='absolute_error'` which is equivalent.\n",
      "  warn(\n",
      "C:\\Users\\mayank\\anaconda3\\lib\\site-packages\\sklearn\\ensemble\\_forest.py:403: FutureWarning: Criterion 'mae' was deprecated in v1.0 and will be removed in version 1.2. Use `criterion='absolute_error'` which is equivalent.\n",
      "  warn(\n"
     ]
    },
    {
     "name": "stdout",
     "output_type": "stream",
     "text": [
      "[CV] END criterion=mae, max_depth=121, max_features=auto, min_samples_leaf=15, min_samples_split=1, n_estimators=230; total time=   0.0s\n",
      "[CV] END criterion=mae, max_depth=121, max_features=auto, min_samples_leaf=15, min_samples_split=1, n_estimators=230; total time=   0.0s\n",
      "[CV] END criterion=mae, max_depth=121, max_features=auto, min_samples_leaf=15, min_samples_split=1, n_estimators=230; total time=   0.0s\n",
      "[CV] END criterion=mae, max_depth=121, max_features=auto, min_samples_leaf=15, min_samples_split=1, n_estimators=230; total time=   0.0s\n"
     ]
    },
    {
     "name": "stderr",
     "output_type": "stream",
     "text": [
      "C:\\Users\\mayank\\anaconda3\\lib\\site-packages\\sklearn\\ensemble\\_forest.py:403: FutureWarning: Criterion 'mae' was deprecated in v1.0 and will be removed in version 1.2. Use `criterion='absolute_error'` which is equivalent.\n",
      "  warn(\n",
      "C:\\Users\\mayank\\anaconda3\\lib\\site-packages\\sklearn\\ensemble\\_forest.py:403: FutureWarning: Criterion 'mae' was deprecated in v1.0 and will be removed in version 1.2. Use `criterion='absolute_error'` which is equivalent.\n",
      "  warn(\n",
      "C:\\Users\\mayank\\anaconda3\\lib\\site-packages\\sklearn\\ensemble\\_forest.py:403: FutureWarning: Criterion 'mae' was deprecated in v1.0 and will be removed in version 1.2. Use `criterion='absolute_error'` which is equivalent.\n",
      "  warn(\n",
      "C:\\Users\\mayank\\anaconda3\\lib\\site-packages\\sklearn\\ensemble\\_forest.py:403: FutureWarning: Criterion 'mae' was deprecated in v1.0 and will be removed in version 1.2. Use `criterion='absolute_error'` which is equivalent.\n",
      "  warn(\n"
     ]
    },
    {
     "name": "stdout",
     "output_type": "stream",
     "text": [
      "[CV] END criterion=mae, max_depth=121, max_features=auto, min_samples_leaf=15, min_samples_split=1, n_estimators=230; total time=   0.0s\n"
     ]
    },
    {
     "name": "stderr",
     "output_type": "stream",
     "text": [
      "C:\\Users\\mayank\\anaconda3\\lib\\site-packages\\sklearn\\ensemble\\_forest.py:396: FutureWarning: Criterion 'mse' was deprecated in v1.0 and will be removed in version 1.2. Use `criterion='squared_error'` which is equivalent.\n",
      "  warn(\n"
     ]
    },
    {
     "name": "stdout",
     "output_type": "stream",
     "text": [
      "[CV] END criterion=mse, max_depth=111, max_features=auto, min_samples_leaf=15, min_samples_split=5, n_estimators=410; total time=   0.4s\n"
     ]
    },
    {
     "name": "stderr",
     "output_type": "stream",
     "text": [
      "C:\\Users\\mayank\\anaconda3\\lib\\site-packages\\sklearn\\ensemble\\_forest.py:396: FutureWarning: Criterion 'mse' was deprecated in v1.0 and will be removed in version 1.2. Use `criterion='squared_error'` which is equivalent.\n",
      "  warn(\n"
     ]
    },
    {
     "name": "stdout",
     "output_type": "stream",
     "text": [
      "[CV] END criterion=mse, max_depth=111, max_features=auto, min_samples_leaf=15, min_samples_split=5, n_estimators=410; total time=   0.4s\n"
     ]
    },
    {
     "name": "stderr",
     "output_type": "stream",
     "text": [
      "C:\\Users\\mayank\\anaconda3\\lib\\site-packages\\sklearn\\ensemble\\_forest.py:396: FutureWarning: Criterion 'mse' was deprecated in v1.0 and will be removed in version 1.2. Use `criterion='squared_error'` which is equivalent.\n",
      "  warn(\n"
     ]
    },
    {
     "name": "stdout",
     "output_type": "stream",
     "text": [
      "[CV] END criterion=mse, max_depth=111, max_features=auto, min_samples_leaf=15, min_samples_split=5, n_estimators=410; total time=   0.4s\n"
     ]
    },
    {
     "name": "stderr",
     "output_type": "stream",
     "text": [
      "C:\\Users\\mayank\\anaconda3\\lib\\site-packages\\sklearn\\ensemble\\_forest.py:396: FutureWarning: Criterion 'mse' was deprecated in v1.0 and will be removed in version 1.2. Use `criterion='squared_error'` which is equivalent.\n",
      "  warn(\n"
     ]
    },
    {
     "name": "stdout",
     "output_type": "stream",
     "text": [
      "[CV] END criterion=mse, max_depth=111, max_features=auto, min_samples_leaf=15, min_samples_split=5, n_estimators=410; total time=   0.4s\n"
     ]
    },
    {
     "name": "stderr",
     "output_type": "stream",
     "text": [
      "C:\\Users\\mayank\\anaconda3\\lib\\site-packages\\sklearn\\ensemble\\_forest.py:396: FutureWarning: Criterion 'mse' was deprecated in v1.0 and will be removed in version 1.2. Use `criterion='squared_error'` which is equivalent.\n",
      "  warn(\n"
     ]
    },
    {
     "name": "stdout",
     "output_type": "stream",
     "text": [
      "[CV] END criterion=mse, max_depth=111, max_features=auto, min_samples_leaf=15, min_samples_split=5, n_estimators=410; total time=   0.4s\n"
     ]
    },
    {
     "name": "stderr",
     "output_type": "stream",
     "text": [
      "C:\\Users\\mayank\\anaconda3\\lib\\site-packages\\sklearn\\ensemble\\_forest.py:396: FutureWarning: Criterion 'mse' was deprecated in v1.0 and will be removed in version 1.2. Use `criterion='squared_error'` which is equivalent.\n",
      "  warn(\n"
     ]
    },
    {
     "name": "stdout",
     "output_type": "stream",
     "text": [
      "[CV] END criterion=mse, max_depth=111, max_features=auto, min_samples_leaf=15, min_samples_split=5, n_estimators=410; total time=   0.4s\n"
     ]
    },
    {
     "name": "stderr",
     "output_type": "stream",
     "text": [
      "C:\\Users\\mayank\\anaconda3\\lib\\site-packages\\sklearn\\ensemble\\_forest.py:396: FutureWarning: Criterion 'mse' was deprecated in v1.0 and will be removed in version 1.2. Use `criterion='squared_error'` which is equivalent.\n",
      "  warn(\n"
     ]
    },
    {
     "name": "stdout",
     "output_type": "stream",
     "text": [
      "[CV] END criterion=mse, max_depth=111, max_features=auto, min_samples_leaf=15, min_samples_split=5, n_estimators=410; total time=   0.4s\n"
     ]
    },
    {
     "name": "stderr",
     "output_type": "stream",
     "text": [
      "C:\\Users\\mayank\\anaconda3\\lib\\site-packages\\sklearn\\ensemble\\_forest.py:396: FutureWarning: Criterion 'mse' was deprecated in v1.0 and will be removed in version 1.2. Use `criterion='squared_error'` which is equivalent.\n",
      "  warn(\n"
     ]
    },
    {
     "name": "stdout",
     "output_type": "stream",
     "text": [
      "[CV] END criterion=mse, max_depth=111, max_features=auto, min_samples_leaf=15, min_samples_split=5, n_estimators=410; total time=   0.4s\n"
     ]
    },
    {
     "name": "stderr",
     "output_type": "stream",
     "text": [
      "C:\\Users\\mayank\\anaconda3\\lib\\site-packages\\sklearn\\ensemble\\_forest.py:403: FutureWarning: Criterion 'mae' was deprecated in v1.0 and will be removed in version 1.2. Use `criterion='absolute_error'` which is equivalent.\n",
      "  warn(\n"
     ]
    },
    {
     "name": "stdout",
     "output_type": "stream",
     "text": [
      "[CV] END criterion=mae, max_depth=71, max_features=sqrt, min_samples_leaf=1, min_samples_split=7, n_estimators=370; total time=   0.8s\n"
     ]
    },
    {
     "name": "stderr",
     "output_type": "stream",
     "text": [
      "C:\\Users\\mayank\\anaconda3\\lib\\site-packages\\sklearn\\ensemble\\_forest.py:403: FutureWarning: Criterion 'mae' was deprecated in v1.0 and will be removed in version 1.2. Use `criterion='absolute_error'` which is equivalent.\n",
      "  warn(\n"
     ]
    },
    {
     "name": "stdout",
     "output_type": "stream",
     "text": [
      "[CV] END criterion=mae, max_depth=71, max_features=sqrt, min_samples_leaf=1, min_samples_split=7, n_estimators=370; total time=   0.8s\n"
     ]
    },
    {
     "name": "stderr",
     "output_type": "stream",
     "text": [
      "C:\\Users\\mayank\\anaconda3\\lib\\site-packages\\sklearn\\ensemble\\_forest.py:403: FutureWarning: Criterion 'mae' was deprecated in v1.0 and will be removed in version 1.2. Use `criterion='absolute_error'` which is equivalent.\n",
      "  warn(\n"
     ]
    },
    {
     "name": "stdout",
     "output_type": "stream",
     "text": [
      "[CV] END criterion=mae, max_depth=71, max_features=sqrt, min_samples_leaf=1, min_samples_split=7, n_estimators=370; total time=   0.9s\n"
     ]
    },
    {
     "name": "stderr",
     "output_type": "stream",
     "text": [
      "C:\\Users\\mayank\\anaconda3\\lib\\site-packages\\sklearn\\ensemble\\_forest.py:403: FutureWarning: Criterion 'mae' was deprecated in v1.0 and will be removed in version 1.2. Use `criterion='absolute_error'` which is equivalent.\n",
      "  warn(\n"
     ]
    },
    {
     "name": "stdout",
     "output_type": "stream",
     "text": [
      "[CV] END criterion=mae, max_depth=71, max_features=sqrt, min_samples_leaf=1, min_samples_split=7, n_estimators=370; total time=   0.8s\n"
     ]
    },
    {
     "name": "stderr",
     "output_type": "stream",
     "text": [
      "C:\\Users\\mayank\\anaconda3\\lib\\site-packages\\sklearn\\ensemble\\_forest.py:403: FutureWarning: Criterion 'mae' was deprecated in v1.0 and will be removed in version 1.2. Use `criterion='absolute_error'` which is equivalent.\n",
      "  warn(\n"
     ]
    },
    {
     "name": "stdout",
     "output_type": "stream",
     "text": [
      "[CV] END criterion=mae, max_depth=71, max_features=sqrt, min_samples_leaf=1, min_samples_split=7, n_estimators=370; total time=   0.8s\n"
     ]
    },
    {
     "name": "stderr",
     "output_type": "stream",
     "text": [
      "C:\\Users\\mayank\\anaconda3\\lib\\site-packages\\sklearn\\ensemble\\_forest.py:403: FutureWarning: Criterion 'mae' was deprecated in v1.0 and will be removed in version 1.2. Use `criterion='absolute_error'` which is equivalent.\n",
      "  warn(\n"
     ]
    },
    {
     "name": "stdout",
     "output_type": "stream",
     "text": [
      "[CV] END criterion=mae, max_depth=71, max_features=sqrt, min_samples_leaf=1, min_samples_split=7, n_estimators=370; total time=   0.8s\n"
     ]
    },
    {
     "name": "stderr",
     "output_type": "stream",
     "text": [
      "C:\\Users\\mayank\\anaconda3\\lib\\site-packages\\sklearn\\ensemble\\_forest.py:403: FutureWarning: Criterion 'mae' was deprecated in v1.0 and will be removed in version 1.2. Use `criterion='absolute_error'` which is equivalent.\n",
      "  warn(\n"
     ]
    },
    {
     "name": "stdout",
     "output_type": "stream",
     "text": [
      "[CV] END criterion=mae, max_depth=71, max_features=sqrt, min_samples_leaf=1, min_samples_split=7, n_estimators=370; total time=   0.8s\n"
     ]
    },
    {
     "name": "stderr",
     "output_type": "stream",
     "text": [
      "C:\\Users\\mayank\\anaconda3\\lib\\site-packages\\sklearn\\ensemble\\_forest.py:403: FutureWarning: Criterion 'mae' was deprecated in v1.0 and will be removed in version 1.2. Use `criterion='absolute_error'` which is equivalent.\n",
      "  warn(\n"
     ]
    },
    {
     "name": "stdout",
     "output_type": "stream",
     "text": [
      "[CV] END criterion=mae, max_depth=71, max_features=sqrt, min_samples_leaf=1, min_samples_split=7, n_estimators=370; total time=   0.8s\n"
     ]
    },
    {
     "name": "stderr",
     "output_type": "stream",
     "text": [
      "C:\\Users\\mayank\\anaconda3\\lib\\site-packages\\sklearn\\ensemble\\_forest.py:403: FutureWarning: Criterion 'mae' was deprecated in v1.0 and will be removed in version 1.2. Use `criterion='absolute_error'` which is equivalent.\n",
      "  warn(\n"
     ]
    },
    {
     "name": "stdout",
     "output_type": "stream",
     "text": [
      "[CV] END criterion=mae, max_depth=11, max_features=auto, min_samples_leaf=11, min_samples_split=13, n_estimators=190; total time=   0.7s\n"
     ]
    },
    {
     "name": "stderr",
     "output_type": "stream",
     "text": [
      "C:\\Users\\mayank\\anaconda3\\lib\\site-packages\\sklearn\\ensemble\\_forest.py:403: FutureWarning: Criterion 'mae' was deprecated in v1.0 and will be removed in version 1.2. Use `criterion='absolute_error'` which is equivalent.\n",
      "  warn(\n"
     ]
    },
    {
     "name": "stdout",
     "output_type": "stream",
     "text": [
      "[CV] END criterion=mae, max_depth=11, max_features=auto, min_samples_leaf=11, min_samples_split=13, n_estimators=190; total time=   0.7s\n"
     ]
    },
    {
     "name": "stderr",
     "output_type": "stream",
     "text": [
      "C:\\Users\\mayank\\anaconda3\\lib\\site-packages\\sklearn\\ensemble\\_forest.py:403: FutureWarning: Criterion 'mae' was deprecated in v1.0 and will be removed in version 1.2. Use `criterion='absolute_error'` which is equivalent.\n",
      "  warn(\n"
     ]
    },
    {
     "name": "stdout",
     "output_type": "stream",
     "text": [
      "[CV] END criterion=mae, max_depth=11, max_features=auto, min_samples_leaf=11, min_samples_split=13, n_estimators=190; total time=   0.7s\n"
     ]
    },
    {
     "name": "stderr",
     "output_type": "stream",
     "text": [
      "C:\\Users\\mayank\\anaconda3\\lib\\site-packages\\sklearn\\ensemble\\_forest.py:403: FutureWarning: Criterion 'mae' was deprecated in v1.0 and will be removed in version 1.2. Use `criterion='absolute_error'` which is equivalent.\n",
      "  warn(\n"
     ]
    },
    {
     "name": "stdout",
     "output_type": "stream",
     "text": [
      "[CV] END criterion=mae, max_depth=11, max_features=auto, min_samples_leaf=11, min_samples_split=13, n_estimators=190; total time=   0.7s\n"
     ]
    },
    {
     "name": "stderr",
     "output_type": "stream",
     "text": [
      "C:\\Users\\mayank\\anaconda3\\lib\\site-packages\\sklearn\\ensemble\\_forest.py:403: FutureWarning: Criterion 'mae' was deprecated in v1.0 and will be removed in version 1.2. Use `criterion='absolute_error'` which is equivalent.\n",
      "  warn(\n"
     ]
    },
    {
     "name": "stdout",
     "output_type": "stream",
     "text": [
      "[CV] END criterion=mae, max_depth=11, max_features=auto, min_samples_leaf=11, min_samples_split=13, n_estimators=190; total time=   0.7s\n"
     ]
    },
    {
     "name": "stderr",
     "output_type": "stream",
     "text": [
      "C:\\Users\\mayank\\anaconda3\\lib\\site-packages\\sklearn\\ensemble\\_forest.py:403: FutureWarning: Criterion 'mae' was deprecated in v1.0 and will be removed in version 1.2. Use `criterion='absolute_error'` which is equivalent.\n",
      "  warn(\n"
     ]
    },
    {
     "name": "stdout",
     "output_type": "stream",
     "text": [
      "[CV] END criterion=mae, max_depth=11, max_features=auto, min_samples_leaf=11, min_samples_split=13, n_estimators=190; total time=   0.7s\n"
     ]
    },
    {
     "name": "stderr",
     "output_type": "stream",
     "text": [
      "C:\\Users\\mayank\\anaconda3\\lib\\site-packages\\sklearn\\ensemble\\_forest.py:403: FutureWarning: Criterion 'mae' was deprecated in v1.0 and will be removed in version 1.2. Use `criterion='absolute_error'` which is equivalent.\n",
      "  warn(\n"
     ]
    },
    {
     "name": "stdout",
     "output_type": "stream",
     "text": [
      "[CV] END criterion=mae, max_depth=11, max_features=auto, min_samples_leaf=11, min_samples_split=13, n_estimators=190; total time=   0.7s\n"
     ]
    },
    {
     "name": "stderr",
     "output_type": "stream",
     "text": [
      "C:\\Users\\mayank\\anaconda3\\lib\\site-packages\\sklearn\\ensemble\\_forest.py:403: FutureWarning: Criterion 'mae' was deprecated in v1.0 and will be removed in version 1.2. Use `criterion='absolute_error'` which is equivalent.\n",
      "  warn(\n"
     ]
    },
    {
     "name": "stdout",
     "output_type": "stream",
     "text": [
      "[CV] END criterion=mae, max_depth=11, max_features=auto, min_samples_leaf=11, min_samples_split=13, n_estimators=190; total time=   0.7s\n",
      "[CV] END criterion=mse, max_depth=61, max_features=log2, min_samples_leaf=7, min_samples_split=9, n_estimators=190; total time=   0.1s\n"
     ]
    },
    {
     "name": "stderr",
     "output_type": "stream",
     "text": [
      "C:\\Users\\mayank\\anaconda3\\lib\\site-packages\\sklearn\\ensemble\\_forest.py:396: FutureWarning: Criterion 'mse' was deprecated in v1.0 and will be removed in version 1.2. Use `criterion='squared_error'` which is equivalent.\n",
      "  warn(\n",
      "C:\\Users\\mayank\\anaconda3\\lib\\site-packages\\sklearn\\ensemble\\_forest.py:396: FutureWarning: Criterion 'mse' was deprecated in v1.0 and will be removed in version 1.2. Use `criterion='squared_error'` which is equivalent.\n",
      "  warn(\n"
     ]
    },
    {
     "name": "stdout",
     "output_type": "stream",
     "text": [
      "[CV] END criterion=mse, max_depth=61, max_features=log2, min_samples_leaf=7, min_samples_split=9, n_estimators=190; total time=   0.1s\n",
      "[CV] END criterion=mse, max_depth=61, max_features=log2, min_samples_leaf=7, min_samples_split=9, n_estimators=190; total time=   0.1s\n"
     ]
    },
    {
     "name": "stderr",
     "output_type": "stream",
     "text": [
      "C:\\Users\\mayank\\anaconda3\\lib\\site-packages\\sklearn\\ensemble\\_forest.py:396: FutureWarning: Criterion 'mse' was deprecated in v1.0 and will be removed in version 1.2. Use `criterion='squared_error'` which is equivalent.\n",
      "  warn(\n",
      "C:\\Users\\mayank\\anaconda3\\lib\\site-packages\\sklearn\\ensemble\\_forest.py:396: FutureWarning: Criterion 'mse' was deprecated in v1.0 and will be removed in version 1.2. Use `criterion='squared_error'` which is equivalent.\n",
      "  warn(\n"
     ]
    },
    {
     "name": "stdout",
     "output_type": "stream",
     "text": [
      "[CV] END criterion=mse, max_depth=61, max_features=log2, min_samples_leaf=7, min_samples_split=9, n_estimators=190; total time=   0.1s\n",
      "[CV] END criterion=mse, max_depth=61, max_features=log2, min_samples_leaf=7, min_samples_split=9, n_estimators=190; total time=   0.1s\n"
     ]
    },
    {
     "name": "stderr",
     "output_type": "stream",
     "text": [
      "C:\\Users\\mayank\\anaconda3\\lib\\site-packages\\sklearn\\ensemble\\_forest.py:396: FutureWarning: Criterion 'mse' was deprecated in v1.0 and will be removed in version 1.2. Use `criterion='squared_error'` which is equivalent.\n",
      "  warn(\n",
      "C:\\Users\\mayank\\anaconda3\\lib\\site-packages\\sklearn\\ensemble\\_forest.py:396: FutureWarning: Criterion 'mse' was deprecated in v1.0 and will be removed in version 1.2. Use `criterion='squared_error'` which is equivalent.\n",
      "  warn(\n"
     ]
    },
    {
     "name": "stdout",
     "output_type": "stream",
     "text": [
      "[CV] END criterion=mse, max_depth=61, max_features=log2, min_samples_leaf=7, min_samples_split=9, n_estimators=190; total time=   0.1s\n",
      "[CV] END criterion=mse, max_depth=61, max_features=log2, min_samples_leaf=7, min_samples_split=9, n_estimators=190; total time=   0.1s\n"
     ]
    },
    {
     "name": "stderr",
     "output_type": "stream",
     "text": [
      "C:\\Users\\mayank\\anaconda3\\lib\\site-packages\\sklearn\\ensemble\\_forest.py:396: FutureWarning: Criterion 'mse' was deprecated in v1.0 and will be removed in version 1.2. Use `criterion='squared_error'` which is equivalent.\n",
      "  warn(\n",
      "C:\\Users\\mayank\\anaconda3\\lib\\site-packages\\sklearn\\ensemble\\_forest.py:396: FutureWarning: Criterion 'mse' was deprecated in v1.0 and will be removed in version 1.2. Use `criterion='squared_error'` which is equivalent.\n",
      "  warn(\n"
     ]
    },
    {
     "name": "stdout",
     "output_type": "stream",
     "text": [
      "[CV] END criterion=mse, max_depth=61, max_features=log2, min_samples_leaf=7, min_samples_split=9, n_estimators=190; total time=   0.1s\n",
      "[CV] END criterion=mae, max_depth=101, max_features=log2, min_samples_leaf=13, min_samples_split=7, n_estimators=70; total time=   0.0s\n"
     ]
    },
    {
     "name": "stderr",
     "output_type": "stream",
     "text": [
      "C:\\Users\\mayank\\anaconda3\\lib\\site-packages\\sklearn\\ensemble\\_forest.py:403: FutureWarning: Criterion 'mae' was deprecated in v1.0 and will be removed in version 1.2. Use `criterion='absolute_error'` which is equivalent.\n",
      "  warn(\n",
      "C:\\Users\\mayank\\anaconda3\\lib\\site-packages\\sklearn\\ensemble\\_forest.py:403: FutureWarning: Criterion 'mae' was deprecated in v1.0 and will be removed in version 1.2. Use `criterion='absolute_error'` which is equivalent.\n",
      "  warn(\n"
     ]
    },
    {
     "name": "stdout",
     "output_type": "stream",
     "text": [
      "[CV] END criterion=mae, max_depth=101, max_features=log2, min_samples_leaf=13, min_samples_split=7, n_estimators=70; total time=   0.0s\n",
      "[CV] END criterion=mae, max_depth=101, max_features=log2, min_samples_leaf=13, min_samples_split=7, n_estimators=70; total time=   0.0s\n"
     ]
    },
    {
     "name": "stderr",
     "output_type": "stream",
     "text": [
      "C:\\Users\\mayank\\anaconda3\\lib\\site-packages\\sklearn\\ensemble\\_forest.py:403: FutureWarning: Criterion 'mae' was deprecated in v1.0 and will be removed in version 1.2. Use `criterion='absolute_error'` which is equivalent.\n",
      "  warn(\n",
      "C:\\Users\\mayank\\anaconda3\\lib\\site-packages\\sklearn\\ensemble\\_forest.py:403: FutureWarning: Criterion 'mae' was deprecated in v1.0 and will be removed in version 1.2. Use `criterion='absolute_error'` which is equivalent.\n",
      "  warn(\n"
     ]
    },
    {
     "name": "stdout",
     "output_type": "stream",
     "text": [
      "[CV] END criterion=mae, max_depth=101, max_features=log2, min_samples_leaf=13, min_samples_split=7, n_estimators=70; total time=   0.0s\n",
      "[CV] END criterion=mae, max_depth=101, max_features=log2, min_samples_leaf=13, min_samples_split=7, n_estimators=70; total time=   0.0s\n",
      "[CV] END criterion=mae, max_depth=101, max_features=log2, min_samples_leaf=13, min_samples_split=7, n_estimators=70; total time=   0.0s\n"
     ]
    },
    {
     "name": "stderr",
     "output_type": "stream",
     "text": [
      "C:\\Users\\mayank\\anaconda3\\lib\\site-packages\\sklearn\\ensemble\\_forest.py:403: FutureWarning: Criterion 'mae' was deprecated in v1.0 and will be removed in version 1.2. Use `criterion='absolute_error'` which is equivalent.\n",
      "  warn(\n",
      "C:\\Users\\mayank\\anaconda3\\lib\\site-packages\\sklearn\\ensemble\\_forest.py:403: FutureWarning: Criterion 'mae' was deprecated in v1.0 and will be removed in version 1.2. Use `criterion='absolute_error'` which is equivalent.\n",
      "  warn(\n",
      "C:\\Users\\mayank\\anaconda3\\lib\\site-packages\\sklearn\\ensemble\\_forest.py:403: FutureWarning: Criterion 'mae' was deprecated in v1.0 and will be removed in version 1.2. Use `criterion='absolute_error'` which is equivalent.\n",
      "  warn(\n"
     ]
    },
    {
     "name": "stdout",
     "output_type": "stream",
     "text": [
      "[CV] END criterion=mae, max_depth=101, max_features=log2, min_samples_leaf=13, min_samples_split=7, n_estimators=70; total time=   0.0s\n",
      "[CV] END criterion=mae, max_depth=101, max_features=log2, min_samples_leaf=13, min_samples_split=7, n_estimators=70; total time=   0.0s\n",
      "[CV] END criterion=mse, max_depth=111, max_features=sqrt, min_samples_leaf=5, min_samples_split=5, n_estimators=70; total time=   0.0s\n"
     ]
    },
    {
     "name": "stderr",
     "output_type": "stream",
     "text": [
      "C:\\Users\\mayank\\anaconda3\\lib\\site-packages\\sklearn\\ensemble\\_forest.py:403: FutureWarning: Criterion 'mae' was deprecated in v1.0 and will be removed in version 1.2. Use `criterion='absolute_error'` which is equivalent.\n",
      "  warn(\n",
      "C:\\Users\\mayank\\anaconda3\\lib\\site-packages\\sklearn\\ensemble\\_forest.py:396: FutureWarning: Criterion 'mse' was deprecated in v1.0 and will be removed in version 1.2. Use `criterion='squared_error'` which is equivalent.\n",
      "  warn(\n",
      "C:\\Users\\mayank\\anaconda3\\lib\\site-packages\\sklearn\\ensemble\\_forest.py:396: FutureWarning: Criterion 'mse' was deprecated in v1.0 and will be removed in version 1.2. Use `criterion='squared_error'` which is equivalent.\n",
      "  warn(\n"
     ]
    },
    {
     "name": "stdout",
     "output_type": "stream",
     "text": [
      "[CV] END criterion=mse, max_depth=111, max_features=sqrt, min_samples_leaf=5, min_samples_split=5, n_estimators=70; total time=   0.0s\n",
      "[CV] END criterion=mse, max_depth=111, max_features=sqrt, min_samples_leaf=5, min_samples_split=5, n_estimators=70; total time=   0.0s\n",
      "[CV] END criterion=mse, max_depth=111, max_features=sqrt, min_samples_leaf=5, min_samples_split=5, n_estimators=70; total time=   0.0s\n",
      "[CV] END criterion=mse, max_depth=111, max_features=sqrt, min_samples_leaf=5, min_samples_split=5, n_estimators=70; total time=   0.0s\n"
     ]
    },
    {
     "name": "stderr",
     "output_type": "stream",
     "text": [
      "C:\\Users\\mayank\\anaconda3\\lib\\site-packages\\sklearn\\ensemble\\_forest.py:396: FutureWarning: Criterion 'mse' was deprecated in v1.0 and will be removed in version 1.2. Use `criterion='squared_error'` which is equivalent.\n",
      "  warn(\n",
      "C:\\Users\\mayank\\anaconda3\\lib\\site-packages\\sklearn\\ensemble\\_forest.py:396: FutureWarning: Criterion 'mse' was deprecated in v1.0 and will be removed in version 1.2. Use `criterion='squared_error'` which is equivalent.\n",
      "  warn(\n",
      "C:\\Users\\mayank\\anaconda3\\lib\\site-packages\\sklearn\\ensemble\\_forest.py:396: FutureWarning: Criterion 'mse' was deprecated in v1.0 and will be removed in version 1.2. Use `criterion='squared_error'` which is equivalent.\n",
      "  warn(\n",
      "C:\\Users\\mayank\\anaconda3\\lib\\site-packages\\sklearn\\ensemble\\_forest.py:396: FutureWarning: Criterion 'mse' was deprecated in v1.0 and will be removed in version 1.2. Use `criterion='squared_error'` which is equivalent.\n",
      "  warn(\n",
      "C:\\Users\\mayank\\anaconda3\\lib\\site-packages\\sklearn\\ensemble\\_forest.py:396: FutureWarning: Criterion 'mse' was deprecated in v1.0 and will be removed in version 1.2. Use `criterion='squared_error'` which is equivalent.\n",
      "  warn(\n",
      "C:\\Users\\mayank\\anaconda3\\lib\\site-packages\\sklearn\\ensemble\\_forest.py:396: FutureWarning: Criterion 'mse' was deprecated in v1.0 and will be removed in version 1.2. Use `criterion='squared_error'` which is equivalent.\n",
      "  warn(\n",
      "C:\\Users\\mayank\\anaconda3\\lib\\site-packages\\sklearn\\ensemble\\_forest.py:396: FutureWarning: Criterion 'mse' was deprecated in v1.0 and will be removed in version 1.2. Use `criterion='squared_error'` which is equivalent.\n",
      "  warn(\n"
     ]
    },
    {
     "name": "stdout",
     "output_type": "stream",
     "text": [
      "[CV] END criterion=mse, max_depth=111, max_features=sqrt, min_samples_leaf=5, min_samples_split=5, n_estimators=70; total time=   0.0s\n",
      "[CV] END criterion=mse, max_depth=111, max_features=sqrt, min_samples_leaf=5, min_samples_split=5, n_estimators=70; total time=   0.0s\n",
      "[CV] END criterion=mse, max_depth=111, max_features=sqrt, min_samples_leaf=5, min_samples_split=5, n_estimators=70; total time=   0.0s\n",
      "[CV] END criterion=mse, max_depth=61, max_features=log2, min_samples_leaf=15, min_samples_split=3, n_estimators=430; total time=   0.3s\n"
     ]
    },
    {
     "name": "stderr",
     "output_type": "stream",
     "text": [
      "C:\\Users\\mayank\\anaconda3\\lib\\site-packages\\sklearn\\ensemble\\_forest.py:396: FutureWarning: Criterion 'mse' was deprecated in v1.0 and will be removed in version 1.2. Use `criterion='squared_error'` which is equivalent.\n",
      "  warn(\n"
     ]
    },
    {
     "name": "stdout",
     "output_type": "stream",
     "text": [
      "[CV] END criterion=mse, max_depth=61, max_features=log2, min_samples_leaf=15, min_samples_split=3, n_estimators=430; total time=   0.3s\n"
     ]
    },
    {
     "name": "stderr",
     "output_type": "stream",
     "text": [
      "C:\\Users\\mayank\\anaconda3\\lib\\site-packages\\sklearn\\ensemble\\_forest.py:396: FutureWarning: Criterion 'mse' was deprecated in v1.0 and will be removed in version 1.2. Use `criterion='squared_error'` which is equivalent.\n",
      "  warn(\n"
     ]
    },
    {
     "name": "stdout",
     "output_type": "stream",
     "text": [
      "[CV] END criterion=mse, max_depth=61, max_features=log2, min_samples_leaf=15, min_samples_split=3, n_estimators=430; total time=   0.3s\n"
     ]
    },
    {
     "name": "stderr",
     "output_type": "stream",
     "text": [
      "C:\\Users\\mayank\\anaconda3\\lib\\site-packages\\sklearn\\ensemble\\_forest.py:396: FutureWarning: Criterion 'mse' was deprecated in v1.0 and will be removed in version 1.2. Use `criterion='squared_error'` which is equivalent.\n",
      "  warn(\n"
     ]
    },
    {
     "name": "stdout",
     "output_type": "stream",
     "text": [
      "[CV] END criterion=mse, max_depth=61, max_features=log2, min_samples_leaf=15, min_samples_split=3, n_estimators=430; total time=   0.3s\n"
     ]
    },
    {
     "name": "stderr",
     "output_type": "stream",
     "text": [
      "C:\\Users\\mayank\\anaconda3\\lib\\site-packages\\sklearn\\ensemble\\_forest.py:396: FutureWarning: Criterion 'mse' was deprecated in v1.0 and will be removed in version 1.2. Use `criterion='squared_error'` which is equivalent.\n",
      "  warn(\n"
     ]
    },
    {
     "name": "stdout",
     "output_type": "stream",
     "text": [
      "[CV] END criterion=mse, max_depth=61, max_features=log2, min_samples_leaf=15, min_samples_split=3, n_estimators=430; total time=   0.3s\n"
     ]
    },
    {
     "name": "stderr",
     "output_type": "stream",
     "text": [
      "C:\\Users\\mayank\\anaconda3\\lib\\site-packages\\sklearn\\ensemble\\_forest.py:396: FutureWarning: Criterion 'mse' was deprecated in v1.0 and will be removed in version 1.2. Use `criterion='squared_error'` which is equivalent.\n",
      "  warn(\n"
     ]
    },
    {
     "name": "stdout",
     "output_type": "stream",
     "text": [
      "[CV] END criterion=mse, max_depth=61, max_features=log2, min_samples_leaf=15, min_samples_split=3, n_estimators=430; total time=   0.3s\n"
     ]
    },
    {
     "name": "stderr",
     "output_type": "stream",
     "text": [
      "C:\\Users\\mayank\\anaconda3\\lib\\site-packages\\sklearn\\ensemble\\_forest.py:396: FutureWarning: Criterion 'mse' was deprecated in v1.0 and will be removed in version 1.2. Use `criterion='squared_error'` which is equivalent.\n",
      "  warn(\n"
     ]
    },
    {
     "name": "stdout",
     "output_type": "stream",
     "text": [
      "[CV] END criterion=mse, max_depth=61, max_features=log2, min_samples_leaf=15, min_samples_split=3, n_estimators=430; total time=   0.3s\n"
     ]
    },
    {
     "name": "stderr",
     "output_type": "stream",
     "text": [
      "C:\\Users\\mayank\\anaconda3\\lib\\site-packages\\sklearn\\ensemble\\_forest.py:396: FutureWarning: Criterion 'mse' was deprecated in v1.0 and will be removed in version 1.2. Use `criterion='squared_error'` which is equivalent.\n",
      "  warn(\n"
     ]
    },
    {
     "name": "stdout",
     "output_type": "stream",
     "text": [
      "[CV] END criterion=mse, max_depth=61, max_features=log2, min_samples_leaf=15, min_samples_split=3, n_estimators=430; total time=   0.3s\n"
     ]
    },
    {
     "name": "stderr",
     "output_type": "stream",
     "text": [
      "C:\\Users\\mayank\\anaconda3\\lib\\site-packages\\sklearn\\ensemble\\_forest.py:403: FutureWarning: Criterion 'mae' was deprecated in v1.0 and will be removed in version 1.2. Use `criterion='absolute_error'` which is equivalent.\n",
      "  warn(\n"
     ]
    },
    {
     "name": "stdout",
     "output_type": "stream",
     "text": [
      "[CV] END criterion=mae, max_depth=31, max_features=log2, min_samples_leaf=11, min_samples_split=15, n_estimators=150; total time=   0.2s\n"
     ]
    },
    {
     "name": "stderr",
     "output_type": "stream",
     "text": [
      "C:\\Users\\mayank\\anaconda3\\lib\\site-packages\\sklearn\\ensemble\\_forest.py:403: FutureWarning: Criterion 'mae' was deprecated in v1.0 and will be removed in version 1.2. Use `criterion='absolute_error'` which is equivalent.\n",
      "  warn(\n"
     ]
    },
    {
     "name": "stdout",
     "output_type": "stream",
     "text": [
      "[CV] END criterion=mae, max_depth=31, max_features=log2, min_samples_leaf=11, min_samples_split=15, n_estimators=150; total time=   0.2s\n"
     ]
    },
    {
     "name": "stderr",
     "output_type": "stream",
     "text": [
      "C:\\Users\\mayank\\anaconda3\\lib\\site-packages\\sklearn\\ensemble\\_forest.py:403: FutureWarning: Criterion 'mae' was deprecated in v1.0 and will be removed in version 1.2. Use `criterion='absolute_error'` which is equivalent.\n",
      "  warn(\n"
     ]
    },
    {
     "name": "stdout",
     "output_type": "stream",
     "text": [
      "[CV] END criterion=mae, max_depth=31, max_features=log2, min_samples_leaf=11, min_samples_split=15, n_estimators=150; total time=   0.2s\n"
     ]
    },
    {
     "name": "stderr",
     "output_type": "stream",
     "text": [
      "C:\\Users\\mayank\\anaconda3\\lib\\site-packages\\sklearn\\ensemble\\_forest.py:403: FutureWarning: Criterion 'mae' was deprecated in v1.0 and will be removed in version 1.2. Use `criterion='absolute_error'` which is equivalent.\n",
      "  warn(\n"
     ]
    },
    {
     "name": "stdout",
     "output_type": "stream",
     "text": [
      "[CV] END criterion=mae, max_depth=31, max_features=log2, min_samples_leaf=11, min_samples_split=15, n_estimators=150; total time=   0.2s\n"
     ]
    },
    {
     "name": "stderr",
     "output_type": "stream",
     "text": [
      "C:\\Users\\mayank\\anaconda3\\lib\\site-packages\\sklearn\\ensemble\\_forest.py:403: FutureWarning: Criterion 'mae' was deprecated in v1.0 and will be removed in version 1.2. Use `criterion='absolute_error'` which is equivalent.\n",
      "  warn(\n"
     ]
    },
    {
     "name": "stdout",
     "output_type": "stream",
     "text": [
      "[CV] END criterion=mae, max_depth=31, max_features=log2, min_samples_leaf=11, min_samples_split=15, n_estimators=150; total time=   0.2s\n"
     ]
    },
    {
     "name": "stderr",
     "output_type": "stream",
     "text": [
      "C:\\Users\\mayank\\anaconda3\\lib\\site-packages\\sklearn\\ensemble\\_forest.py:403: FutureWarning: Criterion 'mae' was deprecated in v1.0 and will be removed in version 1.2. Use `criterion='absolute_error'` which is equivalent.\n",
      "  warn(\n"
     ]
    },
    {
     "name": "stdout",
     "output_type": "stream",
     "text": [
      "[CV] END criterion=mae, max_depth=31, max_features=log2, min_samples_leaf=11, min_samples_split=15, n_estimators=150; total time=   0.2s\n"
     ]
    },
    {
     "name": "stderr",
     "output_type": "stream",
     "text": [
      "C:\\Users\\mayank\\anaconda3\\lib\\site-packages\\sklearn\\ensemble\\_forest.py:403: FutureWarning: Criterion 'mae' was deprecated in v1.0 and will be removed in version 1.2. Use `criterion='absolute_error'` which is equivalent.\n",
      "  warn(\n"
     ]
    },
    {
     "name": "stdout",
     "output_type": "stream",
     "text": [
      "[CV] END criterion=mae, max_depth=31, max_features=log2, min_samples_leaf=11, min_samples_split=15, n_estimators=150; total time=   0.2s\n"
     ]
    },
    {
     "name": "stderr",
     "output_type": "stream",
     "text": [
      "C:\\Users\\mayank\\anaconda3\\lib\\site-packages\\sklearn\\ensemble\\_forest.py:403: FutureWarning: Criterion 'mae' was deprecated in v1.0 and will be removed in version 1.2. Use `criterion='absolute_error'` which is equivalent.\n",
      "  warn(\n"
     ]
    },
    {
     "name": "stdout",
     "output_type": "stream",
     "text": [
      "[CV] END criterion=mae, max_depth=31, max_features=log2, min_samples_leaf=11, min_samples_split=15, n_estimators=150; total time=   0.2s\n"
     ]
    },
    {
     "name": "stderr",
     "output_type": "stream",
     "text": [
      "C:\\Users\\mayank\\anaconda3\\lib\\site-packages\\sklearn\\ensemble\\_forest.py:396: FutureWarning: Criterion 'mse' was deprecated in v1.0 and will be removed in version 1.2. Use `criterion='squared_error'` which is equivalent.\n",
      "  warn(\n"
     ]
    },
    {
     "name": "stdout",
     "output_type": "stream",
     "text": [
      "[CV] END criterion=mse, max_depth=111, max_features=sqrt, min_samples_leaf=7, min_samples_split=13, n_estimators=310; total time=   0.2s\n"
     ]
    },
    {
     "name": "stderr",
     "output_type": "stream",
     "text": [
      "C:\\Users\\mayank\\anaconda3\\lib\\site-packages\\sklearn\\ensemble\\_forest.py:396: FutureWarning: Criterion 'mse' was deprecated in v1.0 and will be removed in version 1.2. Use `criterion='squared_error'` which is equivalent.\n",
      "  warn(\n"
     ]
    },
    {
     "name": "stdout",
     "output_type": "stream",
     "text": [
      "[CV] END criterion=mse, max_depth=111, max_features=sqrt, min_samples_leaf=7, min_samples_split=13, n_estimators=310; total time=   0.2s\n"
     ]
    },
    {
     "name": "stderr",
     "output_type": "stream",
     "text": [
      "C:\\Users\\mayank\\anaconda3\\lib\\site-packages\\sklearn\\ensemble\\_forest.py:396: FutureWarning: Criterion 'mse' was deprecated in v1.0 and will be removed in version 1.2. Use `criterion='squared_error'` which is equivalent.\n",
      "  warn(\n"
     ]
    },
    {
     "name": "stdout",
     "output_type": "stream",
     "text": [
      "[CV] END criterion=mse, max_depth=111, max_features=sqrt, min_samples_leaf=7, min_samples_split=13, n_estimators=310; total time=   0.2s\n"
     ]
    },
    {
     "name": "stderr",
     "output_type": "stream",
     "text": [
      "C:\\Users\\mayank\\anaconda3\\lib\\site-packages\\sklearn\\ensemble\\_forest.py:396: FutureWarning: Criterion 'mse' was deprecated in v1.0 and will be removed in version 1.2. Use `criterion='squared_error'` which is equivalent.\n",
      "  warn(\n"
     ]
    },
    {
     "name": "stdout",
     "output_type": "stream",
     "text": [
      "[CV] END criterion=mse, max_depth=111, max_features=sqrt, min_samples_leaf=7, min_samples_split=13, n_estimators=310; total time=   0.2s\n"
     ]
    },
    {
     "name": "stderr",
     "output_type": "stream",
     "text": [
      "C:\\Users\\mayank\\anaconda3\\lib\\site-packages\\sklearn\\ensemble\\_forest.py:396: FutureWarning: Criterion 'mse' was deprecated in v1.0 and will be removed in version 1.2. Use `criterion='squared_error'` which is equivalent.\n",
      "  warn(\n"
     ]
    },
    {
     "name": "stdout",
     "output_type": "stream",
     "text": [
      "[CV] END criterion=mse, max_depth=111, max_features=sqrt, min_samples_leaf=7, min_samples_split=13, n_estimators=310; total time=   0.2s\n"
     ]
    },
    {
     "name": "stderr",
     "output_type": "stream",
     "text": [
      "C:\\Users\\mayank\\anaconda3\\lib\\site-packages\\sklearn\\ensemble\\_forest.py:396: FutureWarning: Criterion 'mse' was deprecated in v1.0 and will be removed in version 1.2. Use `criterion='squared_error'` which is equivalent.\n",
      "  warn(\n"
     ]
    },
    {
     "name": "stdout",
     "output_type": "stream",
     "text": [
      "[CV] END criterion=mse, max_depth=111, max_features=sqrt, min_samples_leaf=7, min_samples_split=13, n_estimators=310; total time=   0.2s\n"
     ]
    },
    {
     "name": "stderr",
     "output_type": "stream",
     "text": [
      "C:\\Users\\mayank\\anaconda3\\lib\\site-packages\\sklearn\\ensemble\\_forest.py:396: FutureWarning: Criterion 'mse' was deprecated in v1.0 and will be removed in version 1.2. Use `criterion='squared_error'` which is equivalent.\n",
      "  warn(\n"
     ]
    },
    {
     "name": "stdout",
     "output_type": "stream",
     "text": [
      "[CV] END criterion=mse, max_depth=111, max_features=sqrt, min_samples_leaf=7, min_samples_split=13, n_estimators=310; total time=   0.2s\n"
     ]
    },
    {
     "name": "stderr",
     "output_type": "stream",
     "text": [
      "C:\\Users\\mayank\\anaconda3\\lib\\site-packages\\sklearn\\ensemble\\_forest.py:396: FutureWarning: Criterion 'mse' was deprecated in v1.0 and will be removed in version 1.2. Use `criterion='squared_error'` which is equivalent.\n",
      "  warn(\n"
     ]
    },
    {
     "name": "stdout",
     "output_type": "stream",
     "text": [
      "[CV] END criterion=mse, max_depth=111, max_features=sqrt, min_samples_leaf=7, min_samples_split=13, n_estimators=310; total time=   0.2s\n"
     ]
    },
    {
     "name": "stderr",
     "output_type": "stream",
     "text": [
      "C:\\Users\\mayank\\anaconda3\\lib\\site-packages\\sklearn\\ensemble\\_forest.py:403: FutureWarning: Criterion 'mae' was deprecated in v1.0 and will be removed in version 1.2. Use `criterion='absolute_error'` which is equivalent.\n",
      "  warn(\n"
     ]
    },
    {
     "name": "stdout",
     "output_type": "stream",
     "text": [
      "[CV] END criterion=mae, max_depth=21, max_features=sqrt, min_samples_leaf=13, min_samples_split=5, n_estimators=210; total time=   0.3s\n"
     ]
    },
    {
     "name": "stderr",
     "output_type": "stream",
     "text": [
      "C:\\Users\\mayank\\anaconda3\\lib\\site-packages\\sklearn\\ensemble\\_forest.py:403: FutureWarning: Criterion 'mae' was deprecated in v1.0 and will be removed in version 1.2. Use `criterion='absolute_error'` which is equivalent.\n",
      "  warn(\n"
     ]
    },
    {
     "name": "stdout",
     "output_type": "stream",
     "text": [
      "[CV] END criterion=mae, max_depth=21, max_features=sqrt, min_samples_leaf=13, min_samples_split=5, n_estimators=210; total time=   0.2s\n"
     ]
    },
    {
     "name": "stderr",
     "output_type": "stream",
     "text": [
      "C:\\Users\\mayank\\anaconda3\\lib\\site-packages\\sklearn\\ensemble\\_forest.py:403: FutureWarning: Criterion 'mae' was deprecated in v1.0 and will be removed in version 1.2. Use `criterion='absolute_error'` which is equivalent.\n",
      "  warn(\n"
     ]
    },
    {
     "name": "stdout",
     "output_type": "stream",
     "text": [
      "[CV] END criterion=mae, max_depth=21, max_features=sqrt, min_samples_leaf=13, min_samples_split=5, n_estimators=210; total time=   0.3s\n"
     ]
    },
    {
     "name": "stderr",
     "output_type": "stream",
     "text": [
      "C:\\Users\\mayank\\anaconda3\\lib\\site-packages\\sklearn\\ensemble\\_forest.py:403: FutureWarning: Criterion 'mae' was deprecated in v1.0 and will be removed in version 1.2. Use `criterion='absolute_error'` which is equivalent.\n",
      "  warn(\n"
     ]
    },
    {
     "name": "stdout",
     "output_type": "stream",
     "text": [
      "[CV] END criterion=mae, max_depth=21, max_features=sqrt, min_samples_leaf=13, min_samples_split=5, n_estimators=210; total time=   0.3s\n"
     ]
    },
    {
     "name": "stderr",
     "output_type": "stream",
     "text": [
      "C:\\Users\\mayank\\anaconda3\\lib\\site-packages\\sklearn\\ensemble\\_forest.py:403: FutureWarning: Criterion 'mae' was deprecated in v1.0 and will be removed in version 1.2. Use `criterion='absolute_error'` which is equivalent.\n",
      "  warn(\n"
     ]
    },
    {
     "name": "stdout",
     "output_type": "stream",
     "text": [
      "[CV] END criterion=mae, max_depth=21, max_features=sqrt, min_samples_leaf=13, min_samples_split=5, n_estimators=210; total time=   0.3s\n"
     ]
    },
    {
     "name": "stderr",
     "output_type": "stream",
     "text": [
      "C:\\Users\\mayank\\anaconda3\\lib\\site-packages\\sklearn\\ensemble\\_forest.py:403: FutureWarning: Criterion 'mae' was deprecated in v1.0 and will be removed in version 1.2. Use `criterion='absolute_error'` which is equivalent.\n",
      "  warn(\n"
     ]
    },
    {
     "name": "stdout",
     "output_type": "stream",
     "text": [
      "[CV] END criterion=mae, max_depth=21, max_features=sqrt, min_samples_leaf=13, min_samples_split=5, n_estimators=210; total time=   0.3s\n"
     ]
    },
    {
     "name": "stderr",
     "output_type": "stream",
     "text": [
      "C:\\Users\\mayank\\anaconda3\\lib\\site-packages\\sklearn\\ensemble\\_forest.py:403: FutureWarning: Criterion 'mae' was deprecated in v1.0 and will be removed in version 1.2. Use `criterion='absolute_error'` which is equivalent.\n",
      "  warn(\n"
     ]
    },
    {
     "name": "stdout",
     "output_type": "stream",
     "text": [
      "[CV] END criterion=mae, max_depth=21, max_features=sqrt, min_samples_leaf=13, min_samples_split=5, n_estimators=210; total time=   0.3s\n"
     ]
    },
    {
     "name": "stderr",
     "output_type": "stream",
     "text": [
      "C:\\Users\\mayank\\anaconda3\\lib\\site-packages\\sklearn\\ensemble\\_forest.py:403: FutureWarning: Criterion 'mae' was deprecated in v1.0 and will be removed in version 1.2. Use `criterion='absolute_error'` which is equivalent.\n",
      "  warn(\n"
     ]
    },
    {
     "name": "stdout",
     "output_type": "stream",
     "text": [
      "[CV] END criterion=mae, max_depth=21, max_features=sqrt, min_samples_leaf=13, min_samples_split=5, n_estimators=210; total time=   0.3s\n"
     ]
    },
    {
     "name": "stderr",
     "output_type": "stream",
     "text": [
      "C:\\Users\\mayank\\anaconda3\\lib\\site-packages\\sklearn\\ensemble\\_forest.py:403: FutureWarning: Criterion 'mae' was deprecated in v1.0 and will be removed in version 1.2. Use `criterion='absolute_error'` which is equivalent.\n",
      "  warn(\n"
     ]
    },
    {
     "name": "stdout",
     "output_type": "stream",
     "text": [
      "[CV] END criterion=mae, max_depth=161, max_features=auto, min_samples_leaf=9, min_samples_split=17, n_estimators=470; total time=   1.9s\n"
     ]
    },
    {
     "name": "stderr",
     "output_type": "stream",
     "text": [
      "C:\\Users\\mayank\\anaconda3\\lib\\site-packages\\sklearn\\ensemble\\_forest.py:403: FutureWarning: Criterion 'mae' was deprecated in v1.0 and will be removed in version 1.2. Use `criterion='absolute_error'` which is equivalent.\n",
      "  warn(\n"
     ]
    },
    {
     "name": "stdout",
     "output_type": "stream",
     "text": [
      "[CV] END criterion=mae, max_depth=161, max_features=auto, min_samples_leaf=9, min_samples_split=17, n_estimators=470; total time=   1.9s\n"
     ]
    },
    {
     "name": "stderr",
     "output_type": "stream",
     "text": [
      "C:\\Users\\mayank\\anaconda3\\lib\\site-packages\\sklearn\\ensemble\\_forest.py:403: FutureWarning: Criterion 'mae' was deprecated in v1.0 and will be removed in version 1.2. Use `criterion='absolute_error'` which is equivalent.\n",
      "  warn(\n"
     ]
    },
    {
     "name": "stdout",
     "output_type": "stream",
     "text": [
      "[CV] END criterion=mae, max_depth=161, max_features=auto, min_samples_leaf=9, min_samples_split=17, n_estimators=470; total time=   1.9s\n"
     ]
    },
    {
     "name": "stderr",
     "output_type": "stream",
     "text": [
      "C:\\Users\\mayank\\anaconda3\\lib\\site-packages\\sklearn\\ensemble\\_forest.py:403: FutureWarning: Criterion 'mae' was deprecated in v1.0 and will be removed in version 1.2. Use `criterion='absolute_error'` which is equivalent.\n",
      "  warn(\n"
     ]
    },
    {
     "name": "stdout",
     "output_type": "stream",
     "text": [
      "[CV] END criterion=mae, max_depth=161, max_features=auto, min_samples_leaf=9, min_samples_split=17, n_estimators=470; total time=   1.9s\n"
     ]
    },
    {
     "name": "stderr",
     "output_type": "stream",
     "text": [
      "C:\\Users\\mayank\\anaconda3\\lib\\site-packages\\sklearn\\ensemble\\_forest.py:403: FutureWarning: Criterion 'mae' was deprecated in v1.0 and will be removed in version 1.2. Use `criterion='absolute_error'` which is equivalent.\n",
      "  warn(\n"
     ]
    },
    {
     "name": "stdout",
     "output_type": "stream",
     "text": [
      "[CV] END criterion=mae, max_depth=161, max_features=auto, min_samples_leaf=9, min_samples_split=17, n_estimators=470; total time=   1.9s\n"
     ]
    },
    {
     "name": "stderr",
     "output_type": "stream",
     "text": [
      "C:\\Users\\mayank\\anaconda3\\lib\\site-packages\\sklearn\\ensemble\\_forest.py:403: FutureWarning: Criterion 'mae' was deprecated in v1.0 and will be removed in version 1.2. Use `criterion='absolute_error'` which is equivalent.\n",
      "  warn(\n"
     ]
    },
    {
     "name": "stdout",
     "output_type": "stream",
     "text": [
      "[CV] END criterion=mae, max_depth=161, max_features=auto, min_samples_leaf=9, min_samples_split=17, n_estimators=470; total time=   1.9s\n"
     ]
    },
    {
     "name": "stderr",
     "output_type": "stream",
     "text": [
      "C:\\Users\\mayank\\anaconda3\\lib\\site-packages\\sklearn\\ensemble\\_forest.py:403: FutureWarning: Criterion 'mae' was deprecated in v1.0 and will be removed in version 1.2. Use `criterion='absolute_error'` which is equivalent.\n",
      "  warn(\n"
     ]
    },
    {
     "name": "stdout",
     "output_type": "stream",
     "text": [
      "[CV] END criterion=mae, max_depth=161, max_features=auto, min_samples_leaf=9, min_samples_split=17, n_estimators=470; total time=   1.9s\n"
     ]
    },
    {
     "name": "stderr",
     "output_type": "stream",
     "text": [
      "C:\\Users\\mayank\\anaconda3\\lib\\site-packages\\sklearn\\ensemble\\_forest.py:403: FutureWarning: Criterion 'mae' was deprecated in v1.0 and will be removed in version 1.2. Use `criterion='absolute_error'` which is equivalent.\n",
      "  warn(\n"
     ]
    },
    {
     "name": "stdout",
     "output_type": "stream",
     "text": [
      "[CV] END criterion=mae, max_depth=161, max_features=auto, min_samples_leaf=9, min_samples_split=17, n_estimators=470; total time=   2.0s\n",
      "[CV] END criterion=mse, max_depth=71, max_features=sqrt, min_samples_leaf=13, min_samples_split=11, n_estimators=90; total time=   0.0s\n",
      "[CV] END criterion=mse, max_depth=71, max_features=sqrt, min_samples_leaf=13, min_samples_split=11, n_estimators=90; total time=   0.0s\n"
     ]
    },
    {
     "name": "stderr",
     "output_type": "stream",
     "text": [
      "C:\\Users\\mayank\\anaconda3\\lib\\site-packages\\sklearn\\ensemble\\_forest.py:396: FutureWarning: Criterion 'mse' was deprecated in v1.0 and will be removed in version 1.2. Use `criterion='squared_error'` which is equivalent.\n",
      "  warn(\n",
      "C:\\Users\\mayank\\anaconda3\\lib\\site-packages\\sklearn\\ensemble\\_forest.py:396: FutureWarning: Criterion 'mse' was deprecated in v1.0 and will be removed in version 1.2. Use `criterion='squared_error'` which is equivalent.\n",
      "  warn(\n",
      "C:\\Users\\mayank\\anaconda3\\lib\\site-packages\\sklearn\\ensemble\\_forest.py:396: FutureWarning: Criterion 'mse' was deprecated in v1.0 and will be removed in version 1.2. Use `criterion='squared_error'` which is equivalent.\n",
      "  warn(\n"
     ]
    },
    {
     "name": "stdout",
     "output_type": "stream",
     "text": [
      "[CV] END criterion=mse, max_depth=71, max_features=sqrt, min_samples_leaf=13, min_samples_split=11, n_estimators=90; total time=   0.0s\n",
      "[CV] END criterion=mse, max_depth=71, max_features=sqrt, min_samples_leaf=13, min_samples_split=11, n_estimators=90; total time=   0.0s\n",
      "[CV] END criterion=mse, max_depth=71, max_features=sqrt, min_samples_leaf=13, min_samples_split=11, n_estimators=90; total time=   0.0s\n"
     ]
    },
    {
     "name": "stderr",
     "output_type": "stream",
     "text": [
      "C:\\Users\\mayank\\anaconda3\\lib\\site-packages\\sklearn\\ensemble\\_forest.py:396: FutureWarning: Criterion 'mse' was deprecated in v1.0 and will be removed in version 1.2. Use `criterion='squared_error'` which is equivalent.\n",
      "  warn(\n",
      "C:\\Users\\mayank\\anaconda3\\lib\\site-packages\\sklearn\\ensemble\\_forest.py:396: FutureWarning: Criterion 'mse' was deprecated in v1.0 and will be removed in version 1.2. Use `criterion='squared_error'` which is equivalent.\n",
      "  warn(\n",
      "C:\\Users\\mayank\\anaconda3\\lib\\site-packages\\sklearn\\ensemble\\_forest.py:396: FutureWarning: Criterion 'mse' was deprecated in v1.0 and will be removed in version 1.2. Use `criterion='squared_error'` which is equivalent.\n",
      "  warn(\n"
     ]
    },
    {
     "name": "stdout",
     "output_type": "stream",
     "text": [
      "[CV] END criterion=mse, max_depth=71, max_features=sqrt, min_samples_leaf=13, min_samples_split=11, n_estimators=90; total time=   0.0s\n",
      "[CV] END criterion=mse, max_depth=71, max_features=sqrt, min_samples_leaf=13, min_samples_split=11, n_estimators=90; total time=   0.0s\n",
      "[CV] END criterion=mse, max_depth=71, max_features=sqrt, min_samples_leaf=13, min_samples_split=11, n_estimators=90; total time=   0.0s\n"
     ]
    },
    {
     "name": "stderr",
     "output_type": "stream",
     "text": [
      "C:\\Users\\mayank\\anaconda3\\lib\\site-packages\\sklearn\\ensemble\\_forest.py:396: FutureWarning: Criterion 'mse' was deprecated in v1.0 and will be removed in version 1.2. Use `criterion='squared_error'` which is equivalent.\n",
      "  warn(\n",
      "C:\\Users\\mayank\\anaconda3\\lib\\site-packages\\sklearn\\ensemble\\_forest.py:396: FutureWarning: Criterion 'mse' was deprecated in v1.0 and will be removed in version 1.2. Use `criterion='squared_error'` which is equivalent.\n",
      "  warn(\n",
      "C:\\Users\\mayank\\anaconda3\\lib\\site-packages\\sklearn\\ensemble\\_forest.py:403: FutureWarning: Criterion 'mae' was deprecated in v1.0 and will be removed in version 1.2. Use `criterion='absolute_error'` which is equivalent.\n",
      "  warn(\n"
     ]
    },
    {
     "name": "stdout",
     "output_type": "stream",
     "text": [
      "[CV] END criterion=mae, max_depth=181, max_features=log2, min_samples_leaf=7, min_samples_split=17, n_estimators=490; total time=   0.8s\n"
     ]
    },
    {
     "name": "stderr",
     "output_type": "stream",
     "text": [
      "C:\\Users\\mayank\\anaconda3\\lib\\site-packages\\sklearn\\ensemble\\_forest.py:403: FutureWarning: Criterion 'mae' was deprecated in v1.0 and will be removed in version 1.2. Use `criterion='absolute_error'` which is equivalent.\n",
      "  warn(\n"
     ]
    },
    {
     "name": "stdout",
     "output_type": "stream",
     "text": [
      "[CV] END criterion=mae, max_depth=181, max_features=log2, min_samples_leaf=7, min_samples_split=17, n_estimators=490; total time=   0.8s\n"
     ]
    },
    {
     "name": "stderr",
     "output_type": "stream",
     "text": [
      "C:\\Users\\mayank\\anaconda3\\lib\\site-packages\\sklearn\\ensemble\\_forest.py:403: FutureWarning: Criterion 'mae' was deprecated in v1.0 and will be removed in version 1.2. Use `criterion='absolute_error'` which is equivalent.\n",
      "  warn(\n"
     ]
    },
    {
     "name": "stdout",
     "output_type": "stream",
     "text": [
      "[CV] END criterion=mae, max_depth=181, max_features=log2, min_samples_leaf=7, min_samples_split=17, n_estimators=490; total time=   0.8s\n"
     ]
    },
    {
     "name": "stderr",
     "output_type": "stream",
     "text": [
      "C:\\Users\\mayank\\anaconda3\\lib\\site-packages\\sklearn\\ensemble\\_forest.py:403: FutureWarning: Criterion 'mae' was deprecated in v1.0 and will be removed in version 1.2. Use `criterion='absolute_error'` which is equivalent.\n",
      "  warn(\n"
     ]
    },
    {
     "name": "stdout",
     "output_type": "stream",
     "text": [
      "[CV] END criterion=mae, max_depth=181, max_features=log2, min_samples_leaf=7, min_samples_split=17, n_estimators=490; total time=   0.8s\n"
     ]
    },
    {
     "name": "stderr",
     "output_type": "stream",
     "text": [
      "C:\\Users\\mayank\\anaconda3\\lib\\site-packages\\sklearn\\ensemble\\_forest.py:403: FutureWarning: Criterion 'mae' was deprecated in v1.0 and will be removed in version 1.2. Use `criterion='absolute_error'` which is equivalent.\n",
      "  warn(\n"
     ]
    },
    {
     "name": "stdout",
     "output_type": "stream",
     "text": [
      "[CV] END criterion=mae, max_depth=181, max_features=log2, min_samples_leaf=7, min_samples_split=17, n_estimators=490; total time=   0.8s\n"
     ]
    },
    {
     "name": "stderr",
     "output_type": "stream",
     "text": [
      "C:\\Users\\mayank\\anaconda3\\lib\\site-packages\\sklearn\\ensemble\\_forest.py:403: FutureWarning: Criterion 'mae' was deprecated in v1.0 and will be removed in version 1.2. Use `criterion='absolute_error'` which is equivalent.\n",
      "  warn(\n"
     ]
    },
    {
     "name": "stdout",
     "output_type": "stream",
     "text": [
      "[CV] END criterion=mae, max_depth=181, max_features=log2, min_samples_leaf=7, min_samples_split=17, n_estimators=490; total time=   0.9s\n"
     ]
    },
    {
     "name": "stderr",
     "output_type": "stream",
     "text": [
      "C:\\Users\\mayank\\anaconda3\\lib\\site-packages\\sklearn\\ensemble\\_forest.py:403: FutureWarning: Criterion 'mae' was deprecated in v1.0 and will be removed in version 1.2. Use `criterion='absolute_error'` which is equivalent.\n",
      "  warn(\n"
     ]
    },
    {
     "name": "stdout",
     "output_type": "stream",
     "text": [
      "[CV] END criterion=mae, max_depth=181, max_features=log2, min_samples_leaf=7, min_samples_split=17, n_estimators=490; total time=   0.8s\n"
     ]
    },
    {
     "name": "stderr",
     "output_type": "stream",
     "text": [
      "C:\\Users\\mayank\\anaconda3\\lib\\site-packages\\sklearn\\ensemble\\_forest.py:403: FutureWarning: Criterion 'mae' was deprecated in v1.0 and will be removed in version 1.2. Use `criterion='absolute_error'` which is equivalent.\n",
      "  warn(\n"
     ]
    },
    {
     "name": "stdout",
     "output_type": "stream",
     "text": [
      "[CV] END criterion=mae, max_depth=181, max_features=log2, min_samples_leaf=7, min_samples_split=17, n_estimators=490; total time=   0.8s\n",
      "[CV] END criterion=mse, max_depth=51, max_features=log2, min_samples_leaf=19, min_samples_split=1, n_estimators=450; total time=   0.0s\n"
     ]
    },
    {
     "name": "stderr",
     "output_type": "stream",
     "text": [
      "C:\\Users\\mayank\\anaconda3\\lib\\site-packages\\sklearn\\ensemble\\_forest.py:396: FutureWarning: Criterion 'mse' was deprecated in v1.0 and will be removed in version 1.2. Use `criterion='squared_error'` which is equivalent.\n",
      "  warn(\n",
      "C:\\Users\\mayank\\anaconda3\\lib\\site-packages\\sklearn\\ensemble\\_forest.py:396: FutureWarning: Criterion 'mse' was deprecated in v1.0 and will be removed in version 1.2. Use `criterion='squared_error'` which is equivalent.\n",
      "  warn(\n"
     ]
    },
    {
     "name": "stdout",
     "output_type": "stream",
     "text": [
      "[CV] END criterion=mse, max_depth=51, max_features=log2, min_samples_leaf=19, min_samples_split=1, n_estimators=450; total time=   0.0s\n",
      "[CV] END criterion=mse, max_depth=51, max_features=log2, min_samples_leaf=19, min_samples_split=1, n_estimators=450; total time=   0.0s\n"
     ]
    },
    {
     "name": "stderr",
     "output_type": "stream",
     "text": [
      "C:\\Users\\mayank\\anaconda3\\lib\\site-packages\\sklearn\\ensemble\\_forest.py:396: FutureWarning: Criterion 'mse' was deprecated in v1.0 and will be removed in version 1.2. Use `criterion='squared_error'` which is equivalent.\n",
      "  warn(\n",
      "C:\\Users\\mayank\\anaconda3\\lib\\site-packages\\sklearn\\ensemble\\_forest.py:396: FutureWarning: Criterion 'mse' was deprecated in v1.0 and will be removed in version 1.2. Use `criterion='squared_error'` which is equivalent.\n",
      "  warn(\n"
     ]
    },
    {
     "name": "stdout",
     "output_type": "stream",
     "text": [
      "[CV] END criterion=mse, max_depth=51, max_features=log2, min_samples_leaf=19, min_samples_split=1, n_estimators=450; total time=   0.0s\n",
      "[CV] END criterion=mse, max_depth=51, max_features=log2, min_samples_leaf=19, min_samples_split=1, n_estimators=450; total time=   0.0s\n"
     ]
    },
    {
     "name": "stderr",
     "output_type": "stream",
     "text": [
      "C:\\Users\\mayank\\anaconda3\\lib\\site-packages\\sklearn\\ensemble\\_forest.py:396: FutureWarning: Criterion 'mse' was deprecated in v1.0 and will be removed in version 1.2. Use `criterion='squared_error'` which is equivalent.\n",
      "  warn(\n",
      "C:\\Users\\mayank\\anaconda3\\lib\\site-packages\\sklearn\\ensemble\\_forest.py:396: FutureWarning: Criterion 'mse' was deprecated in v1.0 and will be removed in version 1.2. Use `criterion='squared_error'` which is equivalent.\n",
      "  warn(\n"
     ]
    },
    {
     "name": "stdout",
     "output_type": "stream",
     "text": [
      "[CV] END criterion=mse, max_depth=51, max_features=log2, min_samples_leaf=19, min_samples_split=1, n_estimators=450; total time=   0.0s\n",
      "[CV] END criterion=mse, max_depth=51, max_features=log2, min_samples_leaf=19, min_samples_split=1, n_estimators=450; total time=   0.0s\n"
     ]
    },
    {
     "name": "stderr",
     "output_type": "stream",
     "text": [
      "C:\\Users\\mayank\\anaconda3\\lib\\site-packages\\sklearn\\ensemble\\_forest.py:396: FutureWarning: Criterion 'mse' was deprecated in v1.0 and will be removed in version 1.2. Use `criterion='squared_error'` which is equivalent.\n",
      "  warn(\n",
      "C:\\Users\\mayank\\anaconda3\\lib\\site-packages\\sklearn\\ensemble\\_forest.py:396: FutureWarning: Criterion 'mse' was deprecated in v1.0 and will be removed in version 1.2. Use `criterion='squared_error'` which is equivalent.\n",
      "  warn(\n"
     ]
    },
    {
     "name": "stdout",
     "output_type": "stream",
     "text": [
      "[CV] END criterion=mse, max_depth=51, max_features=log2, min_samples_leaf=19, min_samples_split=1, n_estimators=450; total time=   0.0s\n"
     ]
    },
    {
     "name": "stderr",
     "output_type": "stream",
     "text": [
      "C:\\Users\\mayank\\anaconda3\\lib\\site-packages\\sklearn\\ensemble\\_forest.py:396: FutureWarning: Criterion 'mse' was deprecated in v1.0 and will be removed in version 1.2. Use `criterion='squared_error'` which is equivalent.\n",
      "  warn(\n"
     ]
    },
    {
     "name": "stdout",
     "output_type": "stream",
     "text": [
      "[CV] END criterion=mse, max_depth=31, max_features=sqrt, min_samples_leaf=13, min_samples_split=3, n_estimators=250; total time=   0.1s\n"
     ]
    },
    {
     "name": "stderr",
     "output_type": "stream",
     "text": [
      "C:\\Users\\mayank\\anaconda3\\lib\\site-packages\\sklearn\\ensemble\\_forest.py:396: FutureWarning: Criterion 'mse' was deprecated in v1.0 and will be removed in version 1.2. Use `criterion='squared_error'` which is equivalent.\n",
      "  warn(\n",
      "C:\\Users\\mayank\\anaconda3\\lib\\site-packages\\sklearn\\ensemble\\_forest.py:396: FutureWarning: Criterion 'mse' was deprecated in v1.0 and will be removed in version 1.2. Use `criterion='squared_error'` which is equivalent.\n",
      "  warn(\n"
     ]
    },
    {
     "name": "stdout",
     "output_type": "stream",
     "text": [
      "[CV] END criterion=mse, max_depth=31, max_features=sqrt, min_samples_leaf=13, min_samples_split=3, n_estimators=250; total time=   0.1s\n",
      "[CV] END criterion=mse, max_depth=31, max_features=sqrt, min_samples_leaf=13, min_samples_split=3, n_estimators=250; total time=   0.1s\n"
     ]
    },
    {
     "name": "stderr",
     "output_type": "stream",
     "text": [
      "C:\\Users\\mayank\\anaconda3\\lib\\site-packages\\sklearn\\ensemble\\_forest.py:396: FutureWarning: Criterion 'mse' was deprecated in v1.0 and will be removed in version 1.2. Use `criterion='squared_error'` which is equivalent.\n",
      "  warn(\n"
     ]
    },
    {
     "name": "stdout",
     "output_type": "stream",
     "text": [
      "[CV] END criterion=mse, max_depth=31, max_features=sqrt, min_samples_leaf=13, min_samples_split=3, n_estimators=250; total time=   0.1s\n"
     ]
    },
    {
     "name": "stderr",
     "output_type": "stream",
     "text": [
      "C:\\Users\\mayank\\anaconda3\\lib\\site-packages\\sklearn\\ensemble\\_forest.py:396: FutureWarning: Criterion 'mse' was deprecated in v1.0 and will be removed in version 1.2. Use `criterion='squared_error'` which is equivalent.\n",
      "  warn(\n"
     ]
    },
    {
     "name": "stdout",
     "output_type": "stream",
     "text": [
      "[CV] END criterion=mse, max_depth=31, max_features=sqrt, min_samples_leaf=13, min_samples_split=3, n_estimators=250; total time=   0.1s\n"
     ]
    },
    {
     "name": "stderr",
     "output_type": "stream",
     "text": [
      "C:\\Users\\mayank\\anaconda3\\lib\\site-packages\\sklearn\\ensemble\\_forest.py:396: FutureWarning: Criterion 'mse' was deprecated in v1.0 and will be removed in version 1.2. Use `criterion='squared_error'` which is equivalent.\n",
      "  warn(\n"
     ]
    },
    {
     "name": "stdout",
     "output_type": "stream",
     "text": [
      "[CV] END criterion=mse, max_depth=31, max_features=sqrt, min_samples_leaf=13, min_samples_split=3, n_estimators=250; total time=   0.1s\n"
     ]
    },
    {
     "name": "stderr",
     "output_type": "stream",
     "text": [
      "C:\\Users\\mayank\\anaconda3\\lib\\site-packages\\sklearn\\ensemble\\_forest.py:396: FutureWarning: Criterion 'mse' was deprecated in v1.0 and will be removed in version 1.2. Use `criterion='squared_error'` which is equivalent.\n",
      "  warn(\n"
     ]
    },
    {
     "name": "stdout",
     "output_type": "stream",
     "text": [
      "[CV] END criterion=mse, max_depth=31, max_features=sqrt, min_samples_leaf=13, min_samples_split=3, n_estimators=250; total time=   0.1s\n"
     ]
    },
    {
     "name": "stderr",
     "output_type": "stream",
     "text": [
      "C:\\Users\\mayank\\anaconda3\\lib\\site-packages\\sklearn\\ensemble\\_forest.py:396: FutureWarning: Criterion 'mse' was deprecated in v1.0 and will be removed in version 1.2. Use `criterion='squared_error'` which is equivalent.\n",
      "  warn(\n"
     ]
    },
    {
     "name": "stdout",
     "output_type": "stream",
     "text": [
      "[CV] END criterion=mse, max_depth=31, max_features=sqrt, min_samples_leaf=13, min_samples_split=3, n_estimators=250; total time=   0.1s\n",
      "[CV] END criterion=mse, max_depth=61, max_features=sqrt, min_samples_leaf=13, min_samples_split=1, n_estimators=450; total time=   0.0s\n"
     ]
    },
    {
     "name": "stderr",
     "output_type": "stream",
     "text": [
      "C:\\Users\\mayank\\anaconda3\\lib\\site-packages\\sklearn\\ensemble\\_forest.py:396: FutureWarning: Criterion 'mse' was deprecated in v1.0 and will be removed in version 1.2. Use `criterion='squared_error'` which is equivalent.\n",
      "  warn(\n",
      "C:\\Users\\mayank\\anaconda3\\lib\\site-packages\\sklearn\\ensemble\\_forest.py:396: FutureWarning: Criterion 'mse' was deprecated in v1.0 and will be removed in version 1.2. Use `criterion='squared_error'` which is equivalent.\n",
      "  warn(\n"
     ]
    },
    {
     "name": "stdout",
     "output_type": "stream",
     "text": [
      "[CV] END criterion=mse, max_depth=61, max_features=sqrt, min_samples_leaf=13, min_samples_split=1, n_estimators=450; total time=   0.0s\n",
      "[CV] END criterion=mse, max_depth=61, max_features=sqrt, min_samples_leaf=13, min_samples_split=1, n_estimators=450; total time=   0.0s\n"
     ]
    },
    {
     "name": "stderr",
     "output_type": "stream",
     "text": [
      "C:\\Users\\mayank\\anaconda3\\lib\\site-packages\\sklearn\\ensemble\\_forest.py:396: FutureWarning: Criterion 'mse' was deprecated in v1.0 and will be removed in version 1.2. Use `criterion='squared_error'` which is equivalent.\n",
      "  warn(\n",
      "C:\\Users\\mayank\\anaconda3\\lib\\site-packages\\sklearn\\ensemble\\_forest.py:396: FutureWarning: Criterion 'mse' was deprecated in v1.0 and will be removed in version 1.2. Use `criterion='squared_error'` which is equivalent.\n",
      "  warn(\n"
     ]
    },
    {
     "name": "stdout",
     "output_type": "stream",
     "text": [
      "[CV] END criterion=mse, max_depth=61, max_features=sqrt, min_samples_leaf=13, min_samples_split=1, n_estimators=450; total time=   0.0s\n",
      "[CV] END criterion=mse, max_depth=61, max_features=sqrt, min_samples_leaf=13, min_samples_split=1, n_estimators=450; total time=   0.0s\n"
     ]
    },
    {
     "name": "stderr",
     "output_type": "stream",
     "text": [
      "C:\\Users\\mayank\\anaconda3\\lib\\site-packages\\sklearn\\ensemble\\_forest.py:396: FutureWarning: Criterion 'mse' was deprecated in v1.0 and will be removed in version 1.2. Use `criterion='squared_error'` which is equivalent.\n",
      "  warn(\n",
      "C:\\Users\\mayank\\anaconda3\\lib\\site-packages\\sklearn\\ensemble\\_forest.py:396: FutureWarning: Criterion 'mse' was deprecated in v1.0 and will be removed in version 1.2. Use `criterion='squared_error'` which is equivalent.\n",
      "  warn(\n"
     ]
    },
    {
     "name": "stdout",
     "output_type": "stream",
     "text": [
      "[CV] END criterion=mse, max_depth=61, max_features=sqrt, min_samples_leaf=13, min_samples_split=1, n_estimators=450; total time=   0.0s\n",
      "[CV] END criterion=mse, max_depth=61, max_features=sqrt, min_samples_leaf=13, min_samples_split=1, n_estimators=450; total time=   0.0s\n"
     ]
    },
    {
     "name": "stderr",
     "output_type": "stream",
     "text": [
      "C:\\Users\\mayank\\anaconda3\\lib\\site-packages\\sklearn\\ensemble\\_forest.py:396: FutureWarning: Criterion 'mse' was deprecated in v1.0 and will be removed in version 1.2. Use `criterion='squared_error'` which is equivalent.\n",
      "  warn(\n",
      "C:\\Users\\mayank\\anaconda3\\lib\\site-packages\\sklearn\\ensemble\\_forest.py:396: FutureWarning: Criterion 'mse' was deprecated in v1.0 and will be removed in version 1.2. Use `criterion='squared_error'` which is equivalent.\n",
      "  warn(\n"
     ]
    },
    {
     "name": "stdout",
     "output_type": "stream",
     "text": [
      "[CV] END criterion=mse, max_depth=61, max_features=sqrt, min_samples_leaf=13, min_samples_split=1, n_estimators=450; total time=   0.0s\n"
     ]
    },
    {
     "name": "stderr",
     "output_type": "stream",
     "text": [
      "C:\\Users\\mayank\\anaconda3\\lib\\site-packages\\sklearn\\ensemble\\_forest.py:396: FutureWarning: Criterion 'mse' was deprecated in v1.0 and will be removed in version 1.2. Use `criterion='squared_error'` which is equivalent.\n",
      "  warn(\n"
     ]
    },
    {
     "name": "stdout",
     "output_type": "stream",
     "text": [
      "[CV] END criterion=mse, max_depth=191, max_features=sqrt, min_samples_leaf=17, min_samples_split=15, n_estimators=310; total time=   0.2s\n"
     ]
    },
    {
     "name": "stderr",
     "output_type": "stream",
     "text": [
      "C:\\Users\\mayank\\anaconda3\\lib\\site-packages\\sklearn\\ensemble\\_forest.py:396: FutureWarning: Criterion 'mse' was deprecated in v1.0 and will be removed in version 1.2. Use `criterion='squared_error'` which is equivalent.\n",
      "  warn(\n"
     ]
    },
    {
     "name": "stdout",
     "output_type": "stream",
     "text": [
      "[CV] END criterion=mse, max_depth=191, max_features=sqrt, min_samples_leaf=17, min_samples_split=15, n_estimators=310; total time=   0.2s\n"
     ]
    },
    {
     "name": "stderr",
     "output_type": "stream",
     "text": [
      "C:\\Users\\mayank\\anaconda3\\lib\\site-packages\\sklearn\\ensemble\\_forest.py:396: FutureWarning: Criterion 'mse' was deprecated in v1.0 and will be removed in version 1.2. Use `criterion='squared_error'` which is equivalent.\n",
      "  warn(\n"
     ]
    },
    {
     "name": "stdout",
     "output_type": "stream",
     "text": [
      "[CV] END criterion=mse, max_depth=191, max_features=sqrt, min_samples_leaf=17, min_samples_split=15, n_estimators=310; total time=   0.2s\n"
     ]
    },
    {
     "name": "stderr",
     "output_type": "stream",
     "text": [
      "C:\\Users\\mayank\\anaconda3\\lib\\site-packages\\sklearn\\ensemble\\_forest.py:396: FutureWarning: Criterion 'mse' was deprecated in v1.0 and will be removed in version 1.2. Use `criterion='squared_error'` which is equivalent.\n",
      "  warn(\n"
     ]
    },
    {
     "name": "stdout",
     "output_type": "stream",
     "text": [
      "[CV] END criterion=mse, max_depth=191, max_features=sqrt, min_samples_leaf=17, min_samples_split=15, n_estimators=310; total time=   0.2s\n"
     ]
    },
    {
     "name": "stderr",
     "output_type": "stream",
     "text": [
      "C:\\Users\\mayank\\anaconda3\\lib\\site-packages\\sklearn\\ensemble\\_forest.py:396: FutureWarning: Criterion 'mse' was deprecated in v1.0 and will be removed in version 1.2. Use `criterion='squared_error'` which is equivalent.\n",
      "  warn(\n"
     ]
    },
    {
     "name": "stdout",
     "output_type": "stream",
     "text": [
      "[CV] END criterion=mse, max_depth=191, max_features=sqrt, min_samples_leaf=17, min_samples_split=15, n_estimators=310; total time=   0.2s\n"
     ]
    },
    {
     "name": "stderr",
     "output_type": "stream",
     "text": [
      "C:\\Users\\mayank\\anaconda3\\lib\\site-packages\\sklearn\\ensemble\\_forest.py:396: FutureWarning: Criterion 'mse' was deprecated in v1.0 and will be removed in version 1.2. Use `criterion='squared_error'` which is equivalent.\n",
      "  warn(\n"
     ]
    },
    {
     "name": "stdout",
     "output_type": "stream",
     "text": [
      "[CV] END criterion=mse, max_depth=191, max_features=sqrt, min_samples_leaf=17, min_samples_split=15, n_estimators=310; total time=   0.2s\n"
     ]
    },
    {
     "name": "stderr",
     "output_type": "stream",
     "text": [
      "C:\\Users\\mayank\\anaconda3\\lib\\site-packages\\sklearn\\ensemble\\_forest.py:396: FutureWarning: Criterion 'mse' was deprecated in v1.0 and will be removed in version 1.2. Use `criterion='squared_error'` which is equivalent.\n",
      "  warn(\n"
     ]
    },
    {
     "name": "stdout",
     "output_type": "stream",
     "text": [
      "[CV] END criterion=mse, max_depth=191, max_features=sqrt, min_samples_leaf=17, min_samples_split=15, n_estimators=310; total time=   0.2s\n"
     ]
    },
    {
     "name": "stderr",
     "output_type": "stream",
     "text": [
      "C:\\Users\\mayank\\anaconda3\\lib\\site-packages\\sklearn\\ensemble\\_forest.py:396: FutureWarning: Criterion 'mse' was deprecated in v1.0 and will be removed in version 1.2. Use `criterion='squared_error'` which is equivalent.\n",
      "  warn(\n"
     ]
    },
    {
     "name": "stdout",
     "output_type": "stream",
     "text": [
      "[CV] END criterion=mse, max_depth=191, max_features=sqrt, min_samples_leaf=17, min_samples_split=15, n_estimators=310; total time=   0.2s\n"
     ]
    },
    {
     "name": "stderr",
     "output_type": "stream",
     "text": [
      "C:\\Users\\mayank\\anaconda3\\lib\\site-packages\\sklearn\\ensemble\\_forest.py:396: FutureWarning: Criterion 'mse' was deprecated in v1.0 and will be removed in version 1.2. Use `criterion='squared_error'` which is equivalent.\n",
      "  warn(\n"
     ]
    },
    {
     "name": "stdout",
     "output_type": "stream",
     "text": [
      "[CV] END criterion=mse, max_depth=181, max_features=auto, min_samples_leaf=13, min_samples_split=19, n_estimators=410; total time=   0.4s\n"
     ]
    },
    {
     "name": "stderr",
     "output_type": "stream",
     "text": [
      "C:\\Users\\mayank\\anaconda3\\lib\\site-packages\\sklearn\\ensemble\\_forest.py:396: FutureWarning: Criterion 'mse' was deprecated in v1.0 and will be removed in version 1.2. Use `criterion='squared_error'` which is equivalent.\n",
      "  warn(\n"
     ]
    },
    {
     "name": "stdout",
     "output_type": "stream",
     "text": [
      "[CV] END criterion=mse, max_depth=181, max_features=auto, min_samples_leaf=13, min_samples_split=19, n_estimators=410; total time=   0.4s\n"
     ]
    },
    {
     "name": "stderr",
     "output_type": "stream",
     "text": [
      "C:\\Users\\mayank\\anaconda3\\lib\\site-packages\\sklearn\\ensemble\\_forest.py:396: FutureWarning: Criterion 'mse' was deprecated in v1.0 and will be removed in version 1.2. Use `criterion='squared_error'` which is equivalent.\n",
      "  warn(\n"
     ]
    },
    {
     "name": "stdout",
     "output_type": "stream",
     "text": [
      "[CV] END criterion=mse, max_depth=181, max_features=auto, min_samples_leaf=13, min_samples_split=19, n_estimators=410; total time=   0.4s\n"
     ]
    },
    {
     "name": "stderr",
     "output_type": "stream",
     "text": [
      "C:\\Users\\mayank\\anaconda3\\lib\\site-packages\\sklearn\\ensemble\\_forest.py:396: FutureWarning: Criterion 'mse' was deprecated in v1.0 and will be removed in version 1.2. Use `criterion='squared_error'` which is equivalent.\n",
      "  warn(\n"
     ]
    },
    {
     "name": "stdout",
     "output_type": "stream",
     "text": [
      "[CV] END criterion=mse, max_depth=181, max_features=auto, min_samples_leaf=13, min_samples_split=19, n_estimators=410; total time=   0.4s\n"
     ]
    },
    {
     "name": "stderr",
     "output_type": "stream",
     "text": [
      "C:\\Users\\mayank\\anaconda3\\lib\\site-packages\\sklearn\\ensemble\\_forest.py:396: FutureWarning: Criterion 'mse' was deprecated in v1.0 and will be removed in version 1.2. Use `criterion='squared_error'` which is equivalent.\n",
      "  warn(\n"
     ]
    },
    {
     "name": "stdout",
     "output_type": "stream",
     "text": [
      "[CV] END criterion=mse, max_depth=181, max_features=auto, min_samples_leaf=13, min_samples_split=19, n_estimators=410; total time=   0.4s\n"
     ]
    },
    {
     "name": "stderr",
     "output_type": "stream",
     "text": [
      "C:\\Users\\mayank\\anaconda3\\lib\\site-packages\\sklearn\\ensemble\\_forest.py:396: FutureWarning: Criterion 'mse' was deprecated in v1.0 and will be removed in version 1.2. Use `criterion='squared_error'` which is equivalent.\n",
      "  warn(\n"
     ]
    },
    {
     "name": "stdout",
     "output_type": "stream",
     "text": [
      "[CV] END criterion=mse, max_depth=181, max_features=auto, min_samples_leaf=13, min_samples_split=19, n_estimators=410; total time=   0.4s\n"
     ]
    },
    {
     "name": "stderr",
     "output_type": "stream",
     "text": [
      "C:\\Users\\mayank\\anaconda3\\lib\\site-packages\\sklearn\\ensemble\\_forest.py:396: FutureWarning: Criterion 'mse' was deprecated in v1.0 and will be removed in version 1.2. Use `criterion='squared_error'` which is equivalent.\n",
      "  warn(\n"
     ]
    },
    {
     "name": "stdout",
     "output_type": "stream",
     "text": [
      "[CV] END criterion=mse, max_depth=181, max_features=auto, min_samples_leaf=13, min_samples_split=19, n_estimators=410; total time=   0.4s\n"
     ]
    },
    {
     "name": "stderr",
     "output_type": "stream",
     "text": [
      "C:\\Users\\mayank\\anaconda3\\lib\\site-packages\\sklearn\\ensemble\\_forest.py:396: FutureWarning: Criterion 'mse' was deprecated in v1.0 and will be removed in version 1.2. Use `criterion='squared_error'` which is equivalent.\n",
      "  warn(\n"
     ]
    },
    {
     "name": "stdout",
     "output_type": "stream",
     "text": [
      "[CV] END criterion=mse, max_depth=181, max_features=auto, min_samples_leaf=13, min_samples_split=19, n_estimators=410; total time=   0.4s\n"
     ]
    },
    {
     "name": "stderr",
     "output_type": "stream",
     "text": [
      "C:\\Users\\mayank\\anaconda3\\lib\\site-packages\\sklearn\\ensemble\\_forest.py:403: FutureWarning: Criterion 'mae' was deprecated in v1.0 and will be removed in version 1.2. Use `criterion='absolute_error'` which is equivalent.\n",
      "  warn(\n"
     ]
    },
    {
     "name": "stdout",
     "output_type": "stream",
     "text": [
      "[CV] END criterion=mae, max_depth=11, max_features=auto, min_samples_leaf=15, min_samples_split=19, n_estimators=170; total time=   0.5s\n"
     ]
    },
    {
     "name": "stderr",
     "output_type": "stream",
     "text": [
      "C:\\Users\\mayank\\anaconda3\\lib\\site-packages\\sklearn\\ensemble\\_forest.py:403: FutureWarning: Criterion 'mae' was deprecated in v1.0 and will be removed in version 1.2. Use `criterion='absolute_error'` which is equivalent.\n",
      "  warn(\n"
     ]
    },
    {
     "name": "stdout",
     "output_type": "stream",
     "text": [
      "[CV] END criterion=mae, max_depth=11, max_features=auto, min_samples_leaf=15, min_samples_split=19, n_estimators=170; total time=   0.5s\n"
     ]
    },
    {
     "name": "stderr",
     "output_type": "stream",
     "text": [
      "C:\\Users\\mayank\\anaconda3\\lib\\site-packages\\sklearn\\ensemble\\_forest.py:403: FutureWarning: Criterion 'mae' was deprecated in v1.0 and will be removed in version 1.2. Use `criterion='absolute_error'` which is equivalent.\n",
      "  warn(\n"
     ]
    },
    {
     "name": "stdout",
     "output_type": "stream",
     "text": [
      "[CV] END criterion=mae, max_depth=11, max_features=auto, min_samples_leaf=15, min_samples_split=19, n_estimators=170; total time=   0.5s\n"
     ]
    },
    {
     "name": "stderr",
     "output_type": "stream",
     "text": [
      "C:\\Users\\mayank\\anaconda3\\lib\\site-packages\\sklearn\\ensemble\\_forest.py:403: FutureWarning: Criterion 'mae' was deprecated in v1.0 and will be removed in version 1.2. Use `criterion='absolute_error'` which is equivalent.\n",
      "  warn(\n"
     ]
    },
    {
     "name": "stdout",
     "output_type": "stream",
     "text": [
      "[CV] END criterion=mae, max_depth=11, max_features=auto, min_samples_leaf=15, min_samples_split=19, n_estimators=170; total time=   0.5s\n"
     ]
    },
    {
     "name": "stderr",
     "output_type": "stream",
     "text": [
      "C:\\Users\\mayank\\anaconda3\\lib\\site-packages\\sklearn\\ensemble\\_forest.py:403: FutureWarning: Criterion 'mae' was deprecated in v1.0 and will be removed in version 1.2. Use `criterion='absolute_error'` which is equivalent.\n",
      "  warn(\n"
     ]
    },
    {
     "name": "stdout",
     "output_type": "stream",
     "text": [
      "[CV] END criterion=mae, max_depth=11, max_features=auto, min_samples_leaf=15, min_samples_split=19, n_estimators=170; total time=   0.5s\n"
     ]
    },
    {
     "name": "stderr",
     "output_type": "stream",
     "text": [
      "C:\\Users\\mayank\\anaconda3\\lib\\site-packages\\sklearn\\ensemble\\_forest.py:403: FutureWarning: Criterion 'mae' was deprecated in v1.0 and will be removed in version 1.2. Use `criterion='absolute_error'` which is equivalent.\n",
      "  warn(\n"
     ]
    },
    {
     "name": "stdout",
     "output_type": "stream",
     "text": [
      "[CV] END criterion=mae, max_depth=11, max_features=auto, min_samples_leaf=15, min_samples_split=19, n_estimators=170; total time=   0.5s\n"
     ]
    },
    {
     "name": "stderr",
     "output_type": "stream",
     "text": [
      "C:\\Users\\mayank\\anaconda3\\lib\\site-packages\\sklearn\\ensemble\\_forest.py:403: FutureWarning: Criterion 'mae' was deprecated in v1.0 and will be removed in version 1.2. Use `criterion='absolute_error'` which is equivalent.\n",
      "  warn(\n"
     ]
    },
    {
     "name": "stdout",
     "output_type": "stream",
     "text": [
      "[CV] END criterion=mae, max_depth=11, max_features=auto, min_samples_leaf=15, min_samples_split=19, n_estimators=170; total time=   0.5s\n"
     ]
    },
    {
     "name": "stderr",
     "output_type": "stream",
     "text": [
      "C:\\Users\\mayank\\anaconda3\\lib\\site-packages\\sklearn\\ensemble\\_forest.py:403: FutureWarning: Criterion 'mae' was deprecated in v1.0 and will be removed in version 1.2. Use `criterion='absolute_error'` which is equivalent.\n",
      "  warn(\n"
     ]
    },
    {
     "name": "stdout",
     "output_type": "stream",
     "text": [
      "[CV] END criterion=mae, max_depth=11, max_features=auto, min_samples_leaf=15, min_samples_split=19, n_estimators=170; total time=   0.5s\n"
     ]
    },
    {
     "name": "stderr",
     "output_type": "stream",
     "text": [
      "C:\\Users\\mayank\\anaconda3\\lib\\site-packages\\sklearn\\ensemble\\_forest.py:396: FutureWarning: Criterion 'mse' was deprecated in v1.0 and will be removed in version 1.2. Use `criterion='squared_error'` which is equivalent.\n",
      "  warn(\n"
     ]
    },
    {
     "name": "stdout",
     "output_type": "stream",
     "text": [
      "[CV] END criterion=mse, max_depth=11, max_features=sqrt, min_samples_leaf=5, min_samples_split=5, n_estimators=330; total time=   0.2s\n"
     ]
    },
    {
     "name": "stderr",
     "output_type": "stream",
     "text": [
      "C:\\Users\\mayank\\anaconda3\\lib\\site-packages\\sklearn\\ensemble\\_forest.py:396: FutureWarning: Criterion 'mse' was deprecated in v1.0 and will be removed in version 1.2. Use `criterion='squared_error'` which is equivalent.\n",
      "  warn(\n"
     ]
    },
    {
     "name": "stdout",
     "output_type": "stream",
     "text": [
      "[CV] END criterion=mse, max_depth=11, max_features=sqrt, min_samples_leaf=5, min_samples_split=5, n_estimators=330; total time=   0.2s\n"
     ]
    },
    {
     "name": "stderr",
     "output_type": "stream",
     "text": [
      "C:\\Users\\mayank\\anaconda3\\lib\\site-packages\\sklearn\\ensemble\\_forest.py:396: FutureWarning: Criterion 'mse' was deprecated in v1.0 and will be removed in version 1.2. Use `criterion='squared_error'` which is equivalent.\n",
      "  warn(\n"
     ]
    },
    {
     "name": "stdout",
     "output_type": "stream",
     "text": [
      "[CV] END criterion=mse, max_depth=11, max_features=sqrt, min_samples_leaf=5, min_samples_split=5, n_estimators=330; total time=   0.2s\n"
     ]
    },
    {
     "name": "stderr",
     "output_type": "stream",
     "text": [
      "C:\\Users\\mayank\\anaconda3\\lib\\site-packages\\sklearn\\ensemble\\_forest.py:396: FutureWarning: Criterion 'mse' was deprecated in v1.0 and will be removed in version 1.2. Use `criterion='squared_error'` which is equivalent.\n",
      "  warn(\n"
     ]
    },
    {
     "name": "stdout",
     "output_type": "stream",
     "text": [
      "[CV] END criterion=mse, max_depth=11, max_features=sqrt, min_samples_leaf=5, min_samples_split=5, n_estimators=330; total time=   0.2s\n"
     ]
    },
    {
     "name": "stderr",
     "output_type": "stream",
     "text": [
      "C:\\Users\\mayank\\anaconda3\\lib\\site-packages\\sklearn\\ensemble\\_forest.py:396: FutureWarning: Criterion 'mse' was deprecated in v1.0 and will be removed in version 1.2. Use `criterion='squared_error'` which is equivalent.\n",
      "  warn(\n"
     ]
    },
    {
     "name": "stdout",
     "output_type": "stream",
     "text": [
      "[CV] END criterion=mse, max_depth=11, max_features=sqrt, min_samples_leaf=5, min_samples_split=5, n_estimators=330; total time=   0.2s\n"
     ]
    },
    {
     "name": "stderr",
     "output_type": "stream",
     "text": [
      "C:\\Users\\mayank\\anaconda3\\lib\\site-packages\\sklearn\\ensemble\\_forest.py:396: FutureWarning: Criterion 'mse' was deprecated in v1.0 and will be removed in version 1.2. Use `criterion='squared_error'` which is equivalent.\n",
      "  warn(\n"
     ]
    },
    {
     "name": "stdout",
     "output_type": "stream",
     "text": [
      "[CV] END criterion=mse, max_depth=11, max_features=sqrt, min_samples_leaf=5, min_samples_split=5, n_estimators=330; total time=   0.2s\n"
     ]
    },
    {
     "name": "stderr",
     "output_type": "stream",
     "text": [
      "C:\\Users\\mayank\\anaconda3\\lib\\site-packages\\sklearn\\ensemble\\_forest.py:396: FutureWarning: Criterion 'mse' was deprecated in v1.0 and will be removed in version 1.2. Use `criterion='squared_error'` which is equivalent.\n",
      "  warn(\n"
     ]
    },
    {
     "name": "stdout",
     "output_type": "stream",
     "text": [
      "[CV] END criterion=mse, max_depth=11, max_features=sqrt, min_samples_leaf=5, min_samples_split=5, n_estimators=330; total time=   0.2s\n"
     ]
    },
    {
     "name": "stderr",
     "output_type": "stream",
     "text": [
      "C:\\Users\\mayank\\anaconda3\\lib\\site-packages\\sklearn\\ensemble\\_forest.py:396: FutureWarning: Criterion 'mse' was deprecated in v1.0 and will be removed in version 1.2. Use `criterion='squared_error'` which is equivalent.\n",
      "  warn(\n"
     ]
    },
    {
     "name": "stdout",
     "output_type": "stream",
     "text": [
      "[CV] END criterion=mse, max_depth=11, max_features=sqrt, min_samples_leaf=5, min_samples_split=5, n_estimators=330; total time=   0.2s\n"
     ]
    },
    {
     "name": "stderr",
     "output_type": "stream",
     "text": [
      "C:\\Users\\mayank\\anaconda3\\lib\\site-packages\\sklearn\\ensemble\\_forest.py:396: FutureWarning: Criterion 'mse' was deprecated in v1.0 and will be removed in version 1.2. Use `criterion='squared_error'` which is equivalent.\n",
      "  warn(\n"
     ]
    },
    {
     "name": "stdout",
     "output_type": "stream",
     "text": [
      "[CV] END criterion=mse, max_depth=61, max_features=auto, min_samples_leaf=7, min_samples_split=19, n_estimators=190; total time=   0.1s\n"
     ]
    },
    {
     "name": "stderr",
     "output_type": "stream",
     "text": [
      "C:\\Users\\mayank\\anaconda3\\lib\\site-packages\\sklearn\\ensemble\\_forest.py:396: FutureWarning: Criterion 'mse' was deprecated in v1.0 and will be removed in version 1.2. Use `criterion='squared_error'` which is equivalent.\n",
      "  warn(\n"
     ]
    },
    {
     "name": "stdout",
     "output_type": "stream",
     "text": [
      "[CV] END criterion=mse, max_depth=61, max_features=auto, min_samples_leaf=7, min_samples_split=19, n_estimators=190; total time=   0.1s\n"
     ]
    },
    {
     "name": "stderr",
     "output_type": "stream",
     "text": [
      "C:\\Users\\mayank\\anaconda3\\lib\\site-packages\\sklearn\\ensemble\\_forest.py:396: FutureWarning: Criterion 'mse' was deprecated in v1.0 and will be removed in version 1.2. Use `criterion='squared_error'` which is equivalent.\n",
      "  warn(\n"
     ]
    },
    {
     "name": "stdout",
     "output_type": "stream",
     "text": [
      "[CV] END criterion=mse, max_depth=61, max_features=auto, min_samples_leaf=7, min_samples_split=19, n_estimators=190; total time=   0.1s\n"
     ]
    },
    {
     "name": "stderr",
     "output_type": "stream",
     "text": [
      "C:\\Users\\mayank\\anaconda3\\lib\\site-packages\\sklearn\\ensemble\\_forest.py:396: FutureWarning: Criterion 'mse' was deprecated in v1.0 and will be removed in version 1.2. Use `criterion='squared_error'` which is equivalent.\n",
      "  warn(\n"
     ]
    },
    {
     "name": "stdout",
     "output_type": "stream",
     "text": [
      "[CV] END criterion=mse, max_depth=61, max_features=auto, min_samples_leaf=7, min_samples_split=19, n_estimators=190; total time=   0.1s\n"
     ]
    },
    {
     "name": "stderr",
     "output_type": "stream",
     "text": [
      "C:\\Users\\mayank\\anaconda3\\lib\\site-packages\\sklearn\\ensemble\\_forest.py:396: FutureWarning: Criterion 'mse' was deprecated in v1.0 and will be removed in version 1.2. Use `criterion='squared_error'` which is equivalent.\n",
      "  warn(\n"
     ]
    },
    {
     "name": "stdout",
     "output_type": "stream",
     "text": [
      "[CV] END criterion=mse, max_depth=61, max_features=auto, min_samples_leaf=7, min_samples_split=19, n_estimators=190; total time=   0.1s\n"
     ]
    },
    {
     "name": "stderr",
     "output_type": "stream",
     "text": [
      "C:\\Users\\mayank\\anaconda3\\lib\\site-packages\\sklearn\\ensemble\\_forest.py:396: FutureWarning: Criterion 'mse' was deprecated in v1.0 and will be removed in version 1.2. Use `criterion='squared_error'` which is equivalent.\n",
      "  warn(\n"
     ]
    },
    {
     "name": "stdout",
     "output_type": "stream",
     "text": [
      "[CV] END criterion=mse, max_depth=61, max_features=auto, min_samples_leaf=7, min_samples_split=19, n_estimators=190; total time=   0.1s\n"
     ]
    },
    {
     "name": "stderr",
     "output_type": "stream",
     "text": [
      "C:\\Users\\mayank\\anaconda3\\lib\\site-packages\\sklearn\\ensemble\\_forest.py:396: FutureWarning: Criterion 'mse' was deprecated in v1.0 and will be removed in version 1.2. Use `criterion='squared_error'` which is equivalent.\n",
      "  warn(\n"
     ]
    },
    {
     "name": "stdout",
     "output_type": "stream",
     "text": [
      "[CV] END criterion=mse, max_depth=61, max_features=auto, min_samples_leaf=7, min_samples_split=19, n_estimators=190; total time=   0.1s\n"
     ]
    },
    {
     "name": "stderr",
     "output_type": "stream",
     "text": [
      "C:\\Users\\mayank\\anaconda3\\lib\\site-packages\\sklearn\\ensemble\\_forest.py:396: FutureWarning: Criterion 'mse' was deprecated in v1.0 and will be removed in version 1.2. Use `criterion='squared_error'` which is equivalent.\n",
      "  warn(\n"
     ]
    },
    {
     "name": "stdout",
     "output_type": "stream",
     "text": [
      "[CV] END criterion=mse, max_depth=61, max_features=auto, min_samples_leaf=7, min_samples_split=19, n_estimators=190; total time=   0.1s\n"
     ]
    },
    {
     "name": "stderr",
     "output_type": "stream",
     "text": [
      "C:\\Users\\mayank\\anaconda3\\lib\\site-packages\\sklearn\\ensemble\\_forest.py:403: FutureWarning: Criterion 'mae' was deprecated in v1.0 and will be removed in version 1.2. Use `criterion='absolute_error'` which is equivalent.\n",
      "  warn(\n"
     ]
    },
    {
     "name": "stdout",
     "output_type": "stream",
     "text": [
      "[CV] END criterion=mae, max_depth=11, max_features=log2, min_samples_leaf=15, min_samples_split=11, n_estimators=230; total time=   0.3s\n"
     ]
    },
    {
     "name": "stderr",
     "output_type": "stream",
     "text": [
      "C:\\Users\\mayank\\anaconda3\\lib\\site-packages\\sklearn\\ensemble\\_forest.py:403: FutureWarning: Criterion 'mae' was deprecated in v1.0 and will be removed in version 1.2. Use `criterion='absolute_error'` which is equivalent.\n",
      "  warn(\n"
     ]
    },
    {
     "name": "stdout",
     "output_type": "stream",
     "text": [
      "[CV] END criterion=mae, max_depth=11, max_features=log2, min_samples_leaf=15, min_samples_split=11, n_estimators=230; total time=   0.3s\n"
     ]
    },
    {
     "name": "stderr",
     "output_type": "stream",
     "text": [
      "C:\\Users\\mayank\\anaconda3\\lib\\site-packages\\sklearn\\ensemble\\_forest.py:403: FutureWarning: Criterion 'mae' was deprecated in v1.0 and will be removed in version 1.2. Use `criterion='absolute_error'` which is equivalent.\n",
      "  warn(\n"
     ]
    },
    {
     "name": "stdout",
     "output_type": "stream",
     "text": [
      "[CV] END criterion=mae, max_depth=11, max_features=log2, min_samples_leaf=15, min_samples_split=11, n_estimators=230; total time=   0.3s\n"
     ]
    },
    {
     "name": "stderr",
     "output_type": "stream",
     "text": [
      "C:\\Users\\mayank\\anaconda3\\lib\\site-packages\\sklearn\\ensemble\\_forest.py:403: FutureWarning: Criterion 'mae' was deprecated in v1.0 and will be removed in version 1.2. Use `criterion='absolute_error'` which is equivalent.\n",
      "  warn(\n"
     ]
    },
    {
     "name": "stdout",
     "output_type": "stream",
     "text": [
      "[CV] END criterion=mae, max_depth=11, max_features=log2, min_samples_leaf=15, min_samples_split=11, n_estimators=230; total time=   0.3s\n"
     ]
    },
    {
     "name": "stderr",
     "output_type": "stream",
     "text": [
      "C:\\Users\\mayank\\anaconda3\\lib\\site-packages\\sklearn\\ensemble\\_forest.py:403: FutureWarning: Criterion 'mae' was deprecated in v1.0 and will be removed in version 1.2. Use `criterion='absolute_error'` which is equivalent.\n",
      "  warn(\n"
     ]
    },
    {
     "name": "stdout",
     "output_type": "stream",
     "text": [
      "[CV] END criterion=mae, max_depth=11, max_features=log2, min_samples_leaf=15, min_samples_split=11, n_estimators=230; total time=   0.3s\n"
     ]
    },
    {
     "name": "stderr",
     "output_type": "stream",
     "text": [
      "C:\\Users\\mayank\\anaconda3\\lib\\site-packages\\sklearn\\ensemble\\_forest.py:403: FutureWarning: Criterion 'mae' was deprecated in v1.0 and will be removed in version 1.2. Use `criterion='absolute_error'` which is equivalent.\n",
      "  warn(\n"
     ]
    },
    {
     "name": "stdout",
     "output_type": "stream",
     "text": [
      "[CV] END criterion=mae, max_depth=11, max_features=log2, min_samples_leaf=15, min_samples_split=11, n_estimators=230; total time=   0.3s\n"
     ]
    },
    {
     "name": "stderr",
     "output_type": "stream",
     "text": [
      "C:\\Users\\mayank\\anaconda3\\lib\\site-packages\\sklearn\\ensemble\\_forest.py:403: FutureWarning: Criterion 'mae' was deprecated in v1.0 and will be removed in version 1.2. Use `criterion='absolute_error'` which is equivalent.\n",
      "  warn(\n"
     ]
    },
    {
     "name": "stdout",
     "output_type": "stream",
     "text": [
      "[CV] END criterion=mae, max_depth=11, max_features=log2, min_samples_leaf=15, min_samples_split=11, n_estimators=230; total time=   0.3s\n"
     ]
    },
    {
     "name": "stderr",
     "output_type": "stream",
     "text": [
      "C:\\Users\\mayank\\anaconda3\\lib\\site-packages\\sklearn\\ensemble\\_forest.py:403: FutureWarning: Criterion 'mae' was deprecated in v1.0 and will be removed in version 1.2. Use `criterion='absolute_error'` which is equivalent.\n",
      "  warn(\n"
     ]
    },
    {
     "name": "stdout",
     "output_type": "stream",
     "text": [
      "[CV] END criterion=mae, max_depth=11, max_features=log2, min_samples_leaf=15, min_samples_split=11, n_estimators=230; total time=   0.3s\n"
     ]
    },
    {
     "name": "stderr",
     "output_type": "stream",
     "text": [
      "C:\\Users\\mayank\\anaconda3\\lib\\site-packages\\sklearn\\ensemble\\_forest.py:396: FutureWarning: Criterion 'mse' was deprecated in v1.0 and will be removed in version 1.2. Use `criterion='squared_error'` which is equivalent.\n",
      "  warn(\n"
     ]
    },
    {
     "name": "stdout",
     "output_type": "stream",
     "text": [
      "[CV] END criterion=mse, max_depth=61, max_features=auto, min_samples_leaf=9, min_samples_split=11, n_estimators=310; total time=   0.3s\n"
     ]
    },
    {
     "name": "stderr",
     "output_type": "stream",
     "text": [
      "C:\\Users\\mayank\\anaconda3\\lib\\site-packages\\sklearn\\ensemble\\_forest.py:396: FutureWarning: Criterion 'mse' was deprecated in v1.0 and will be removed in version 1.2. Use `criterion='squared_error'` which is equivalent.\n",
      "  warn(\n"
     ]
    },
    {
     "name": "stdout",
     "output_type": "stream",
     "text": [
      "[CV] END criterion=mse, max_depth=61, max_features=auto, min_samples_leaf=9, min_samples_split=11, n_estimators=310; total time=   0.3s\n"
     ]
    },
    {
     "name": "stderr",
     "output_type": "stream",
     "text": [
      "C:\\Users\\mayank\\anaconda3\\lib\\site-packages\\sklearn\\ensemble\\_forest.py:396: FutureWarning: Criterion 'mse' was deprecated in v1.0 and will be removed in version 1.2. Use `criterion='squared_error'` which is equivalent.\n",
      "  warn(\n"
     ]
    },
    {
     "name": "stdout",
     "output_type": "stream",
     "text": [
      "[CV] END criterion=mse, max_depth=61, max_features=auto, min_samples_leaf=9, min_samples_split=11, n_estimators=310; total time=   0.3s\n"
     ]
    },
    {
     "name": "stderr",
     "output_type": "stream",
     "text": [
      "C:\\Users\\mayank\\anaconda3\\lib\\site-packages\\sklearn\\ensemble\\_forest.py:396: FutureWarning: Criterion 'mse' was deprecated in v1.0 and will be removed in version 1.2. Use `criterion='squared_error'` which is equivalent.\n",
      "  warn(\n"
     ]
    },
    {
     "name": "stdout",
     "output_type": "stream",
     "text": [
      "[CV] END criterion=mse, max_depth=61, max_features=auto, min_samples_leaf=9, min_samples_split=11, n_estimators=310; total time=   0.3s\n"
     ]
    },
    {
     "name": "stderr",
     "output_type": "stream",
     "text": [
      "C:\\Users\\mayank\\anaconda3\\lib\\site-packages\\sklearn\\ensemble\\_forest.py:396: FutureWarning: Criterion 'mse' was deprecated in v1.0 and will be removed in version 1.2. Use `criterion='squared_error'` which is equivalent.\n",
      "  warn(\n"
     ]
    },
    {
     "name": "stdout",
     "output_type": "stream",
     "text": [
      "[CV] END criterion=mse, max_depth=61, max_features=auto, min_samples_leaf=9, min_samples_split=11, n_estimators=310; total time=   0.3s\n"
     ]
    },
    {
     "name": "stderr",
     "output_type": "stream",
     "text": [
      "C:\\Users\\mayank\\anaconda3\\lib\\site-packages\\sklearn\\ensemble\\_forest.py:396: FutureWarning: Criterion 'mse' was deprecated in v1.0 and will be removed in version 1.2. Use `criterion='squared_error'` which is equivalent.\n",
      "  warn(\n"
     ]
    },
    {
     "name": "stdout",
     "output_type": "stream",
     "text": [
      "[CV] END criterion=mse, max_depth=61, max_features=auto, min_samples_leaf=9, min_samples_split=11, n_estimators=310; total time=   0.3s\n"
     ]
    },
    {
     "name": "stderr",
     "output_type": "stream",
     "text": [
      "C:\\Users\\mayank\\anaconda3\\lib\\site-packages\\sklearn\\ensemble\\_forest.py:396: FutureWarning: Criterion 'mse' was deprecated in v1.0 and will be removed in version 1.2. Use `criterion='squared_error'` which is equivalent.\n",
      "  warn(\n"
     ]
    },
    {
     "name": "stdout",
     "output_type": "stream",
     "text": [
      "[CV] END criterion=mse, max_depth=61, max_features=auto, min_samples_leaf=9, min_samples_split=11, n_estimators=310; total time=   0.3s\n"
     ]
    },
    {
     "name": "stderr",
     "output_type": "stream",
     "text": [
      "C:\\Users\\mayank\\anaconda3\\lib\\site-packages\\sklearn\\ensemble\\_forest.py:396: FutureWarning: Criterion 'mse' was deprecated in v1.0 and will be removed in version 1.2. Use `criterion='squared_error'` which is equivalent.\n",
      "  warn(\n"
     ]
    },
    {
     "name": "stdout",
     "output_type": "stream",
     "text": [
      "[CV] END criterion=mse, max_depth=61, max_features=auto, min_samples_leaf=9, min_samples_split=11, n_estimators=310; total time=   0.3s\n"
     ]
    },
    {
     "name": "stderr",
     "output_type": "stream",
     "text": [
      "C:\\Users\\mayank\\anaconda3\\lib\\site-packages\\sklearn\\ensemble\\_forest.py:396: FutureWarning: Criterion 'mse' was deprecated in v1.0 and will be removed in version 1.2. Use `criterion='squared_error'` which is equivalent.\n",
      "  warn(\n"
     ]
    },
    {
     "name": "stdout",
     "output_type": "stream",
     "text": [
      "[CV] END criterion=mse, max_depth=1, max_features=sqrt, min_samples_leaf=17, min_samples_split=17, n_estimators=490; total time=   0.3s\n"
     ]
    },
    {
     "name": "stderr",
     "output_type": "stream",
     "text": [
      "C:\\Users\\mayank\\anaconda3\\lib\\site-packages\\sklearn\\ensemble\\_forest.py:396: FutureWarning: Criterion 'mse' was deprecated in v1.0 and will be removed in version 1.2. Use `criterion='squared_error'` which is equivalent.\n",
      "  warn(\n"
     ]
    },
    {
     "name": "stdout",
     "output_type": "stream",
     "text": [
      "[CV] END criterion=mse, max_depth=1, max_features=sqrt, min_samples_leaf=17, min_samples_split=17, n_estimators=490; total time=   0.3s\n"
     ]
    },
    {
     "name": "stderr",
     "output_type": "stream",
     "text": [
      "C:\\Users\\mayank\\anaconda3\\lib\\site-packages\\sklearn\\ensemble\\_forest.py:396: FutureWarning: Criterion 'mse' was deprecated in v1.0 and will be removed in version 1.2. Use `criterion='squared_error'` which is equivalent.\n",
      "  warn(\n"
     ]
    },
    {
     "name": "stdout",
     "output_type": "stream",
     "text": [
      "[CV] END criterion=mse, max_depth=1, max_features=sqrt, min_samples_leaf=17, min_samples_split=17, n_estimators=490; total time=   0.3s\n"
     ]
    },
    {
     "name": "stderr",
     "output_type": "stream",
     "text": [
      "C:\\Users\\mayank\\anaconda3\\lib\\site-packages\\sklearn\\ensemble\\_forest.py:396: FutureWarning: Criterion 'mse' was deprecated in v1.0 and will be removed in version 1.2. Use `criterion='squared_error'` which is equivalent.\n",
      "  warn(\n"
     ]
    },
    {
     "name": "stdout",
     "output_type": "stream",
     "text": [
      "[CV] END criterion=mse, max_depth=1, max_features=sqrt, min_samples_leaf=17, min_samples_split=17, n_estimators=490; total time=   0.3s\n"
     ]
    },
    {
     "name": "stderr",
     "output_type": "stream",
     "text": [
      "C:\\Users\\mayank\\anaconda3\\lib\\site-packages\\sklearn\\ensemble\\_forest.py:396: FutureWarning: Criterion 'mse' was deprecated in v1.0 and will be removed in version 1.2. Use `criterion='squared_error'` which is equivalent.\n",
      "  warn(\n"
     ]
    },
    {
     "name": "stdout",
     "output_type": "stream",
     "text": [
      "[CV] END criterion=mse, max_depth=1, max_features=sqrt, min_samples_leaf=17, min_samples_split=17, n_estimators=490; total time=   0.3s\n"
     ]
    },
    {
     "name": "stderr",
     "output_type": "stream",
     "text": [
      "C:\\Users\\mayank\\anaconda3\\lib\\site-packages\\sklearn\\ensemble\\_forest.py:396: FutureWarning: Criterion 'mse' was deprecated in v1.0 and will be removed in version 1.2. Use `criterion='squared_error'` which is equivalent.\n",
      "  warn(\n"
     ]
    },
    {
     "name": "stdout",
     "output_type": "stream",
     "text": [
      "[CV] END criterion=mse, max_depth=1, max_features=sqrt, min_samples_leaf=17, min_samples_split=17, n_estimators=490; total time=   0.3s\n"
     ]
    },
    {
     "name": "stderr",
     "output_type": "stream",
     "text": [
      "C:\\Users\\mayank\\anaconda3\\lib\\site-packages\\sklearn\\ensemble\\_forest.py:396: FutureWarning: Criterion 'mse' was deprecated in v1.0 and will be removed in version 1.2. Use `criterion='squared_error'` which is equivalent.\n",
      "  warn(\n"
     ]
    },
    {
     "name": "stdout",
     "output_type": "stream",
     "text": [
      "[CV] END criterion=mse, max_depth=1, max_features=sqrt, min_samples_leaf=17, min_samples_split=17, n_estimators=490; total time=   0.3s\n"
     ]
    },
    {
     "name": "stderr",
     "output_type": "stream",
     "text": [
      "C:\\Users\\mayank\\anaconda3\\lib\\site-packages\\sklearn\\ensemble\\_forest.py:396: FutureWarning: Criterion 'mse' was deprecated in v1.0 and will be removed in version 1.2. Use `criterion='squared_error'` which is equivalent.\n",
      "  warn(\n"
     ]
    },
    {
     "name": "stdout",
     "output_type": "stream",
     "text": [
      "[CV] END criterion=mse, max_depth=1, max_features=sqrt, min_samples_leaf=17, min_samples_split=17, n_estimators=490; total time=   0.3s\n",
      "[CV] END criterion=mse, max_depth=161, max_features=auto, min_samples_leaf=15, min_samples_split=13, n_estimators=170; total time=   0.1s\n"
     ]
    },
    {
     "name": "stderr",
     "output_type": "stream",
     "text": [
      "C:\\Users\\mayank\\anaconda3\\lib\\site-packages\\sklearn\\ensemble\\_forest.py:396: FutureWarning: Criterion 'mse' was deprecated in v1.0 and will be removed in version 1.2. Use `criterion='squared_error'` which is equivalent.\n",
      "  warn(\n",
      "C:\\Users\\mayank\\anaconda3\\lib\\site-packages\\sklearn\\ensemble\\_forest.py:396: FutureWarning: Criterion 'mse' was deprecated in v1.0 and will be removed in version 1.2. Use `criterion='squared_error'` which is equivalent.\n",
      "  warn(\n"
     ]
    },
    {
     "name": "stdout",
     "output_type": "stream",
     "text": [
      "[CV] END criterion=mse, max_depth=161, max_features=auto, min_samples_leaf=15, min_samples_split=13, n_estimators=170; total time=   0.1s\n",
      "[CV] END criterion=mse, max_depth=161, max_features=auto, min_samples_leaf=15, min_samples_split=13, n_estimators=170; total time=   0.1s\n"
     ]
    },
    {
     "name": "stderr",
     "output_type": "stream",
     "text": [
      "C:\\Users\\mayank\\anaconda3\\lib\\site-packages\\sklearn\\ensemble\\_forest.py:396: FutureWarning: Criterion 'mse' was deprecated in v1.0 and will be removed in version 1.2. Use `criterion='squared_error'` which is equivalent.\n",
      "  warn(\n",
      "C:\\Users\\mayank\\anaconda3\\lib\\site-packages\\sklearn\\ensemble\\_forest.py:396: FutureWarning: Criterion 'mse' was deprecated in v1.0 and will be removed in version 1.2. Use `criterion='squared_error'` which is equivalent.\n",
      "  warn(\n"
     ]
    },
    {
     "name": "stdout",
     "output_type": "stream",
     "text": [
      "[CV] END criterion=mse, max_depth=161, max_features=auto, min_samples_leaf=15, min_samples_split=13, n_estimators=170; total time=   0.1s\n",
      "[CV] END criterion=mse, max_depth=161, max_features=auto, min_samples_leaf=15, min_samples_split=13, n_estimators=170; total time=   0.1s\n"
     ]
    },
    {
     "name": "stderr",
     "output_type": "stream",
     "text": [
      "C:\\Users\\mayank\\anaconda3\\lib\\site-packages\\sklearn\\ensemble\\_forest.py:396: FutureWarning: Criterion 'mse' was deprecated in v1.0 and will be removed in version 1.2. Use `criterion='squared_error'` which is equivalent.\n",
      "  warn(\n",
      "C:\\Users\\mayank\\anaconda3\\lib\\site-packages\\sklearn\\ensemble\\_forest.py:396: FutureWarning: Criterion 'mse' was deprecated in v1.0 and will be removed in version 1.2. Use `criterion='squared_error'` which is equivalent.\n",
      "  warn(\n"
     ]
    },
    {
     "name": "stdout",
     "output_type": "stream",
     "text": [
      "[CV] END criterion=mse, max_depth=161, max_features=auto, min_samples_leaf=15, min_samples_split=13, n_estimators=170; total time=   0.1s\n",
      "[CV] END criterion=mse, max_depth=161, max_features=auto, min_samples_leaf=15, min_samples_split=13, n_estimators=170; total time=   0.1s\n"
     ]
    },
    {
     "name": "stderr",
     "output_type": "stream",
     "text": [
      "C:\\Users\\mayank\\anaconda3\\lib\\site-packages\\sklearn\\ensemble\\_forest.py:396: FutureWarning: Criterion 'mse' was deprecated in v1.0 and will be removed in version 1.2. Use `criterion='squared_error'` which is equivalent.\n",
      "  warn(\n",
      "C:\\Users\\mayank\\anaconda3\\lib\\site-packages\\sklearn\\ensemble\\_forest.py:396: FutureWarning: Criterion 'mse' was deprecated in v1.0 and will be removed in version 1.2. Use `criterion='squared_error'` which is equivalent.\n",
      "  warn(\n"
     ]
    },
    {
     "name": "stdout",
     "output_type": "stream",
     "text": [
      "[CV] END criterion=mse, max_depth=161, max_features=auto, min_samples_leaf=15, min_samples_split=13, n_estimators=170; total time=   0.1s\n"
     ]
    },
    {
     "name": "stderr",
     "output_type": "stream",
     "text": [
      "C:\\Users\\mayank\\anaconda3\\lib\\site-packages\\sklearn\\ensemble\\_forest.py:403: FutureWarning: Criterion 'mae' was deprecated in v1.0 and will be removed in version 1.2. Use `criterion='absolute_error'` which is equivalent.\n",
      "  warn(\n"
     ]
    },
    {
     "name": "stdout",
     "output_type": "stream",
     "text": [
      "[CV] END criterion=mae, max_depth=81, max_features=sqrt, min_samples_leaf=19, min_samples_split=3, n_estimators=390; total time=   0.5s\n"
     ]
    },
    {
     "name": "stderr",
     "output_type": "stream",
     "text": [
      "C:\\Users\\mayank\\anaconda3\\lib\\site-packages\\sklearn\\ensemble\\_forest.py:403: FutureWarning: Criterion 'mae' was deprecated in v1.0 and will be removed in version 1.2. Use `criterion='absolute_error'` which is equivalent.\n",
      "  warn(\n"
     ]
    },
    {
     "name": "stdout",
     "output_type": "stream",
     "text": [
      "[CV] END criterion=mae, max_depth=81, max_features=sqrt, min_samples_leaf=19, min_samples_split=3, n_estimators=390; total time=   0.5s\n"
     ]
    },
    {
     "name": "stderr",
     "output_type": "stream",
     "text": [
      "C:\\Users\\mayank\\anaconda3\\lib\\site-packages\\sklearn\\ensemble\\_forest.py:403: FutureWarning: Criterion 'mae' was deprecated in v1.0 and will be removed in version 1.2. Use `criterion='absolute_error'` which is equivalent.\n",
      "  warn(\n"
     ]
    },
    {
     "name": "stdout",
     "output_type": "stream",
     "text": [
      "[CV] END criterion=mae, max_depth=81, max_features=sqrt, min_samples_leaf=19, min_samples_split=3, n_estimators=390; total time=   0.5s\n"
     ]
    },
    {
     "name": "stderr",
     "output_type": "stream",
     "text": [
      "C:\\Users\\mayank\\anaconda3\\lib\\site-packages\\sklearn\\ensemble\\_forest.py:403: FutureWarning: Criterion 'mae' was deprecated in v1.0 and will be removed in version 1.2. Use `criterion='absolute_error'` which is equivalent.\n",
      "  warn(\n"
     ]
    },
    {
     "name": "stdout",
     "output_type": "stream",
     "text": [
      "[CV] END criterion=mae, max_depth=81, max_features=sqrt, min_samples_leaf=19, min_samples_split=3, n_estimators=390; total time=   0.6s\n"
     ]
    },
    {
     "name": "stderr",
     "output_type": "stream",
     "text": [
      "C:\\Users\\mayank\\anaconda3\\lib\\site-packages\\sklearn\\ensemble\\_forest.py:403: FutureWarning: Criterion 'mae' was deprecated in v1.0 and will be removed in version 1.2. Use `criterion='absolute_error'` which is equivalent.\n",
      "  warn(\n"
     ]
    },
    {
     "name": "stdout",
     "output_type": "stream",
     "text": [
      "[CV] END criterion=mae, max_depth=81, max_features=sqrt, min_samples_leaf=19, min_samples_split=3, n_estimators=390; total time=   0.5s\n"
     ]
    },
    {
     "name": "stderr",
     "output_type": "stream",
     "text": [
      "C:\\Users\\mayank\\anaconda3\\lib\\site-packages\\sklearn\\ensemble\\_forest.py:403: FutureWarning: Criterion 'mae' was deprecated in v1.0 and will be removed in version 1.2. Use `criterion='absolute_error'` which is equivalent.\n",
      "  warn(\n"
     ]
    },
    {
     "name": "stdout",
     "output_type": "stream",
     "text": [
      "[CV] END criterion=mae, max_depth=81, max_features=sqrt, min_samples_leaf=19, min_samples_split=3, n_estimators=390; total time=   0.6s\n"
     ]
    },
    {
     "name": "stderr",
     "output_type": "stream",
     "text": [
      "C:\\Users\\mayank\\anaconda3\\lib\\site-packages\\sklearn\\ensemble\\_forest.py:403: FutureWarning: Criterion 'mae' was deprecated in v1.0 and will be removed in version 1.2. Use `criterion='absolute_error'` which is equivalent.\n",
      "  warn(\n"
     ]
    },
    {
     "name": "stdout",
     "output_type": "stream",
     "text": [
      "[CV] END criterion=mae, max_depth=81, max_features=sqrt, min_samples_leaf=19, min_samples_split=3, n_estimators=390; total time=   0.5s\n"
     ]
    },
    {
     "name": "stderr",
     "output_type": "stream",
     "text": [
      "C:\\Users\\mayank\\anaconda3\\lib\\site-packages\\sklearn\\ensemble\\_forest.py:403: FutureWarning: Criterion 'mae' was deprecated in v1.0 and will be removed in version 1.2. Use `criterion='absolute_error'` which is equivalent.\n",
      "  warn(\n"
     ]
    },
    {
     "name": "stdout",
     "output_type": "stream",
     "text": [
      "[CV] END criterion=mae, max_depth=81, max_features=sqrt, min_samples_leaf=19, min_samples_split=3, n_estimators=390; total time=   0.5s\n",
      "[CV] END criterion=mae, max_depth=101, max_features=auto, min_samples_leaf=1, min_samples_split=1, n_estimators=130; total time=   0.0s\n",
      "[CV] END criterion=mae, max_depth=101, max_features=auto, min_samples_leaf=1, min_samples_split=1, n_estimators=130; total time=   0.0s\n",
      "[CV] END criterion=mae, max_depth=101, max_features=auto, min_samples_leaf=1, min_samples_split=1, n_estimators=130; total time=   0.0s\n",
      "[CV] END criterion=mae, max_depth=101, max_features=auto, min_samples_leaf=1, min_samples_split=1, n_estimators=130; total time=   0.0s\n",
      "[CV] END criterion=mae, max_depth=101, max_features=auto, min_samples_leaf=1, min_samples_split=1, n_estimators=130; total time=   0.0s\n"
     ]
    },
    {
     "name": "stderr",
     "output_type": "stream",
     "text": [
      "C:\\Users\\mayank\\anaconda3\\lib\\site-packages\\sklearn\\ensemble\\_forest.py:403: FutureWarning: Criterion 'mae' was deprecated in v1.0 and will be removed in version 1.2. Use `criterion='absolute_error'` which is equivalent.\n",
      "  warn(\n",
      "C:\\Users\\mayank\\anaconda3\\lib\\site-packages\\sklearn\\ensemble\\_forest.py:403: FutureWarning: Criterion 'mae' was deprecated in v1.0 and will be removed in version 1.2. Use `criterion='absolute_error'` which is equivalent.\n",
      "  warn(\n",
      "C:\\Users\\mayank\\anaconda3\\lib\\site-packages\\sklearn\\ensemble\\_forest.py:403: FutureWarning: Criterion 'mae' was deprecated in v1.0 and will be removed in version 1.2. Use `criterion='absolute_error'` which is equivalent.\n",
      "  warn(\n",
      "C:\\Users\\mayank\\anaconda3\\lib\\site-packages\\sklearn\\ensemble\\_forest.py:403: FutureWarning: Criterion 'mae' was deprecated in v1.0 and will be removed in version 1.2. Use `criterion='absolute_error'` which is equivalent.\n",
      "  warn(\n",
      "C:\\Users\\mayank\\anaconda3\\lib\\site-packages\\sklearn\\ensemble\\_forest.py:403: FutureWarning: Criterion 'mae' was deprecated in v1.0 and will be removed in version 1.2. Use `criterion='absolute_error'` which is equivalent.\n",
      "  warn(\n",
      "C:\\Users\\mayank\\anaconda3\\lib\\site-packages\\sklearn\\ensemble\\_forest.py:403: FutureWarning: Criterion 'mae' was deprecated in v1.0 and will be removed in version 1.2. Use `criterion='absolute_error'` which is equivalent.\n",
      "  warn(\n"
     ]
    },
    {
     "name": "stdout",
     "output_type": "stream",
     "text": [
      "[CV] END criterion=mae, max_depth=101, max_features=auto, min_samples_leaf=1, min_samples_split=1, n_estimators=130; total time=   0.0s\n",
      "[CV] END criterion=mae, max_depth=101, max_features=auto, min_samples_leaf=1, min_samples_split=1, n_estimators=130; total time=   0.0s\n",
      "[CV] END criterion=mae, max_depth=101, max_features=auto, min_samples_leaf=1, min_samples_split=1, n_estimators=130; total time=   0.0s\n"
     ]
    },
    {
     "name": "stderr",
     "output_type": "stream",
     "text": [
      "C:\\Users\\mayank\\anaconda3\\lib\\site-packages\\sklearn\\ensemble\\_forest.py:403: FutureWarning: Criterion 'mae' was deprecated in v1.0 and will be removed in version 1.2. Use `criterion='absolute_error'` which is equivalent.\n",
      "  warn(\n",
      "C:\\Users\\mayank\\anaconda3\\lib\\site-packages\\sklearn\\ensemble\\_forest.py:403: FutureWarning: Criterion 'mae' was deprecated in v1.0 and will be removed in version 1.2. Use `criterion='absolute_error'` which is equivalent.\n",
      "  warn(\n",
      "C:\\Users\\mayank\\anaconda3\\lib\\site-packages\\sklearn\\ensemble\\_forest.py:403: FutureWarning: Criterion 'mae' was deprecated in v1.0 and will be removed in version 1.2. Use `criterion='absolute_error'` which is equivalent.\n",
      "  warn(\n"
     ]
    },
    {
     "name": "stdout",
     "output_type": "stream",
     "text": [
      "[CV] END criterion=mae, max_depth=141, max_features=sqrt, min_samples_leaf=5, min_samples_split=17, n_estimators=130; total time=   0.2s\n"
     ]
    },
    {
     "name": "stderr",
     "output_type": "stream",
     "text": [
      "C:\\Users\\mayank\\anaconda3\\lib\\site-packages\\sklearn\\ensemble\\_forest.py:403: FutureWarning: Criterion 'mae' was deprecated in v1.0 and will be removed in version 1.2. Use `criterion='absolute_error'` which is equivalent.\n",
      "  warn(\n"
     ]
    },
    {
     "name": "stdout",
     "output_type": "stream",
     "text": [
      "[CV] END criterion=mae, max_depth=141, max_features=sqrt, min_samples_leaf=5, min_samples_split=17, n_estimators=130; total time=   0.2s\n"
     ]
    },
    {
     "name": "stderr",
     "output_type": "stream",
     "text": [
      "C:\\Users\\mayank\\anaconda3\\lib\\site-packages\\sklearn\\ensemble\\_forest.py:403: FutureWarning: Criterion 'mae' was deprecated in v1.0 and will be removed in version 1.2. Use `criterion='absolute_error'` which is equivalent.\n",
      "  warn(\n"
     ]
    },
    {
     "name": "stdout",
     "output_type": "stream",
     "text": [
      "[CV] END criterion=mae, max_depth=141, max_features=sqrt, min_samples_leaf=5, min_samples_split=17, n_estimators=130; total time=   0.2s\n"
     ]
    },
    {
     "name": "stderr",
     "output_type": "stream",
     "text": [
      "C:\\Users\\mayank\\anaconda3\\lib\\site-packages\\sklearn\\ensemble\\_forest.py:403: FutureWarning: Criterion 'mae' was deprecated in v1.0 and will be removed in version 1.2. Use `criterion='absolute_error'` which is equivalent.\n",
      "  warn(\n"
     ]
    },
    {
     "name": "stdout",
     "output_type": "stream",
     "text": [
      "[CV] END criterion=mae, max_depth=141, max_features=sqrt, min_samples_leaf=5, min_samples_split=17, n_estimators=130; total time=   0.2s\n"
     ]
    },
    {
     "name": "stderr",
     "output_type": "stream",
     "text": [
      "C:\\Users\\mayank\\anaconda3\\lib\\site-packages\\sklearn\\ensemble\\_forest.py:403: FutureWarning: Criterion 'mae' was deprecated in v1.0 and will be removed in version 1.2. Use `criterion='absolute_error'` which is equivalent.\n",
      "  warn(\n"
     ]
    },
    {
     "name": "stdout",
     "output_type": "stream",
     "text": [
      "[CV] END criterion=mae, max_depth=141, max_features=sqrt, min_samples_leaf=5, min_samples_split=17, n_estimators=130; total time=   0.2s\n"
     ]
    },
    {
     "name": "stderr",
     "output_type": "stream",
     "text": [
      "C:\\Users\\mayank\\anaconda3\\lib\\site-packages\\sklearn\\ensemble\\_forest.py:403: FutureWarning: Criterion 'mae' was deprecated in v1.0 and will be removed in version 1.2. Use `criterion='absolute_error'` which is equivalent.\n",
      "  warn(\n"
     ]
    },
    {
     "name": "stdout",
     "output_type": "stream",
     "text": [
      "[CV] END criterion=mae, max_depth=141, max_features=sqrt, min_samples_leaf=5, min_samples_split=17, n_estimators=130; total time=   0.2s\n"
     ]
    },
    {
     "name": "stderr",
     "output_type": "stream",
     "text": [
      "C:\\Users\\mayank\\anaconda3\\lib\\site-packages\\sklearn\\ensemble\\_forest.py:403: FutureWarning: Criterion 'mae' was deprecated in v1.0 and will be removed in version 1.2. Use `criterion='absolute_error'` which is equivalent.\n",
      "  warn(\n"
     ]
    },
    {
     "name": "stdout",
     "output_type": "stream",
     "text": [
      "[CV] END criterion=mae, max_depth=141, max_features=sqrt, min_samples_leaf=5, min_samples_split=17, n_estimators=130; total time=   0.2s\n"
     ]
    },
    {
     "name": "stderr",
     "output_type": "stream",
     "text": [
      "C:\\Users\\mayank\\anaconda3\\lib\\site-packages\\sklearn\\ensemble\\_forest.py:403: FutureWarning: Criterion 'mae' was deprecated in v1.0 and will be removed in version 1.2. Use `criterion='absolute_error'` which is equivalent.\n",
      "  warn(\n"
     ]
    },
    {
     "name": "stdout",
     "output_type": "stream",
     "text": [
      "[CV] END criterion=mae, max_depth=141, max_features=sqrt, min_samples_leaf=5, min_samples_split=17, n_estimators=130; total time=   0.2s\n",
      "[CV] END criterion=mae, max_depth=161, max_features=sqrt, min_samples_leaf=11, min_samples_split=1, n_estimators=490; total time=   0.0s\n"
     ]
    },
    {
     "name": "stderr",
     "output_type": "stream",
     "text": [
      "C:\\Users\\mayank\\anaconda3\\lib\\site-packages\\sklearn\\ensemble\\_forest.py:403: FutureWarning: Criterion 'mae' was deprecated in v1.0 and will be removed in version 1.2. Use `criterion='absolute_error'` which is equivalent.\n",
      "  warn(\n",
      "C:\\Users\\mayank\\anaconda3\\lib\\site-packages\\sklearn\\ensemble\\_forest.py:403: FutureWarning: Criterion 'mae' was deprecated in v1.0 and will be removed in version 1.2. Use `criterion='absolute_error'` which is equivalent.\n",
      "  warn(\n"
     ]
    },
    {
     "name": "stdout",
     "output_type": "stream",
     "text": [
      "[CV] END criterion=mae, max_depth=161, max_features=sqrt, min_samples_leaf=11, min_samples_split=1, n_estimators=490; total time=   0.0s\n",
      "[CV] END criterion=mae, max_depth=161, max_features=sqrt, min_samples_leaf=11, min_samples_split=1, n_estimators=490; total time=   0.0s\n"
     ]
    },
    {
     "name": "stderr",
     "output_type": "stream",
     "text": [
      "C:\\Users\\mayank\\anaconda3\\lib\\site-packages\\sklearn\\ensemble\\_forest.py:403: FutureWarning: Criterion 'mae' was deprecated in v1.0 and will be removed in version 1.2. Use `criterion='absolute_error'` which is equivalent.\n",
      "  warn(\n",
      "C:\\Users\\mayank\\anaconda3\\lib\\site-packages\\sklearn\\ensemble\\_forest.py:403: FutureWarning: Criterion 'mae' was deprecated in v1.0 and will be removed in version 1.2. Use `criterion='absolute_error'` which is equivalent.\n",
      "  warn(\n"
     ]
    },
    {
     "name": "stdout",
     "output_type": "stream",
     "text": [
      "[CV] END criterion=mae, max_depth=161, max_features=sqrt, min_samples_leaf=11, min_samples_split=1, n_estimators=490; total time=   0.0s\n",
      "[CV] END criterion=mae, max_depth=161, max_features=sqrt, min_samples_leaf=11, min_samples_split=1, n_estimators=490; total time=   0.0s\n"
     ]
    },
    {
     "name": "stderr",
     "output_type": "stream",
     "text": [
      "C:\\Users\\mayank\\anaconda3\\lib\\site-packages\\sklearn\\ensemble\\_forest.py:403: FutureWarning: Criterion 'mae' was deprecated in v1.0 and will be removed in version 1.2. Use `criterion='absolute_error'` which is equivalent.\n",
      "  warn(\n",
      "C:\\Users\\mayank\\anaconda3\\lib\\site-packages\\sklearn\\ensemble\\_forest.py:403: FutureWarning: Criterion 'mae' was deprecated in v1.0 and will be removed in version 1.2. Use `criterion='absolute_error'` which is equivalent.\n",
      "  warn(\n"
     ]
    },
    {
     "name": "stdout",
     "output_type": "stream",
     "text": [
      "[CV] END criterion=mae, max_depth=161, max_features=sqrt, min_samples_leaf=11, min_samples_split=1, n_estimators=490; total time=   0.0s\n",
      "[CV] END criterion=mae, max_depth=161, max_features=sqrt, min_samples_leaf=11, min_samples_split=1, n_estimators=490; total time=   0.0s\n"
     ]
    },
    {
     "name": "stderr",
     "output_type": "stream",
     "text": [
      "C:\\Users\\mayank\\anaconda3\\lib\\site-packages\\sklearn\\ensemble\\_forest.py:403: FutureWarning: Criterion 'mae' was deprecated in v1.0 and will be removed in version 1.2. Use `criterion='absolute_error'` which is equivalent.\n",
      "  warn(\n",
      "C:\\Users\\mayank\\anaconda3\\lib\\site-packages\\sklearn\\ensemble\\_forest.py:403: FutureWarning: Criterion 'mae' was deprecated in v1.0 and will be removed in version 1.2. Use `criterion='absolute_error'` which is equivalent.\n",
      "  warn(\n"
     ]
    },
    {
     "name": "stdout",
     "output_type": "stream",
     "text": [
      "[CV] END criterion=mae, max_depth=161, max_features=sqrt, min_samples_leaf=11, min_samples_split=1, n_estimators=490; total time=   0.0s\n",
      "[CV] END criterion=mse, max_depth=101, max_features=sqrt, min_samples_leaf=9, min_samples_split=7, n_estimators=130; total time=   0.0s\n"
     ]
    },
    {
     "name": "stderr",
     "output_type": "stream",
     "text": [
      "C:\\Users\\mayank\\anaconda3\\lib\\site-packages\\sklearn\\ensemble\\_forest.py:396: FutureWarning: Criterion 'mse' was deprecated in v1.0 and will be removed in version 1.2. Use `criterion='squared_error'` which is equivalent.\n",
      "  warn(\n",
      "C:\\Users\\mayank\\anaconda3\\lib\\site-packages\\sklearn\\ensemble\\_forest.py:396: FutureWarning: Criterion 'mse' was deprecated in v1.0 and will be removed in version 1.2. Use `criterion='squared_error'` which is equivalent.\n",
      "  warn(\n"
     ]
    },
    {
     "name": "stdout",
     "output_type": "stream",
     "text": [
      "[CV] END criterion=mse, max_depth=101, max_features=sqrt, min_samples_leaf=9, min_samples_split=7, n_estimators=130; total time=   0.0s\n",
      "[CV] END criterion=mse, max_depth=101, max_features=sqrt, min_samples_leaf=9, min_samples_split=7, n_estimators=130; total time=   0.0s\n"
     ]
    },
    {
     "name": "stderr",
     "output_type": "stream",
     "text": [
      "C:\\Users\\mayank\\anaconda3\\lib\\site-packages\\sklearn\\ensemble\\_forest.py:396: FutureWarning: Criterion 'mse' was deprecated in v1.0 and will be removed in version 1.2. Use `criterion='squared_error'` which is equivalent.\n",
      "  warn(\n",
      "C:\\Users\\mayank\\anaconda3\\lib\\site-packages\\sklearn\\ensemble\\_forest.py:396: FutureWarning: Criterion 'mse' was deprecated in v1.0 and will be removed in version 1.2. Use `criterion='squared_error'` which is equivalent.\n",
      "  warn(\n"
     ]
    },
    {
     "name": "stdout",
     "output_type": "stream",
     "text": [
      "[CV] END criterion=mse, max_depth=101, max_features=sqrt, min_samples_leaf=9, min_samples_split=7, n_estimators=130; total time=   0.0s\n",
      "[CV] END criterion=mse, max_depth=101, max_features=sqrt, min_samples_leaf=9, min_samples_split=7, n_estimators=130; total time=   0.0s\n"
     ]
    },
    {
     "name": "stderr",
     "output_type": "stream",
     "text": [
      "C:\\Users\\mayank\\anaconda3\\lib\\site-packages\\sklearn\\ensemble\\_forest.py:396: FutureWarning: Criterion 'mse' was deprecated in v1.0 and will be removed in version 1.2. Use `criterion='squared_error'` which is equivalent.\n",
      "  warn(\n",
      "C:\\Users\\mayank\\anaconda3\\lib\\site-packages\\sklearn\\ensemble\\_forest.py:396: FutureWarning: Criterion 'mse' was deprecated in v1.0 and will be removed in version 1.2. Use `criterion='squared_error'` which is equivalent.\n",
      "  warn(\n"
     ]
    },
    {
     "name": "stdout",
     "output_type": "stream",
     "text": [
      "[CV] END criterion=mse, max_depth=101, max_features=sqrt, min_samples_leaf=9, min_samples_split=7, n_estimators=130; total time=   0.0s\n",
      "[CV] END criterion=mse, max_depth=101, max_features=sqrt, min_samples_leaf=9, min_samples_split=7, n_estimators=130; total time=   0.0s\n"
     ]
    },
    {
     "name": "stderr",
     "output_type": "stream",
     "text": [
      "C:\\Users\\mayank\\anaconda3\\lib\\site-packages\\sklearn\\ensemble\\_forest.py:396: FutureWarning: Criterion 'mse' was deprecated in v1.0 and will be removed in version 1.2. Use `criterion='squared_error'` which is equivalent.\n",
      "  warn(\n",
      "C:\\Users\\mayank\\anaconda3\\lib\\site-packages\\sklearn\\ensemble\\_forest.py:396: FutureWarning: Criterion 'mse' was deprecated in v1.0 and will be removed in version 1.2. Use `criterion='squared_error'` which is equivalent.\n",
      "  warn(\n"
     ]
    },
    {
     "name": "stdout",
     "output_type": "stream",
     "text": [
      "[CV] END criterion=mse, max_depth=101, max_features=sqrt, min_samples_leaf=9, min_samples_split=7, n_estimators=130; total time=   0.0s\n",
      "[CV] END criterion=mse, max_depth=71, max_features=sqrt, min_samples_leaf=19, min_samples_split=19, n_estimators=170; total time=   0.0s\n"
     ]
    },
    {
     "name": "stderr",
     "output_type": "stream",
     "text": [
      "C:\\Users\\mayank\\anaconda3\\lib\\site-packages\\sklearn\\ensemble\\_forest.py:396: FutureWarning: Criterion 'mse' was deprecated in v1.0 and will be removed in version 1.2. Use `criterion='squared_error'` which is equivalent.\n",
      "  warn(\n",
      "C:\\Users\\mayank\\anaconda3\\lib\\site-packages\\sklearn\\ensemble\\_forest.py:396: FutureWarning: Criterion 'mse' was deprecated in v1.0 and will be removed in version 1.2. Use `criterion='squared_error'` which is equivalent.\n",
      "  warn(\n"
     ]
    },
    {
     "name": "stdout",
     "output_type": "stream",
     "text": [
      "[CV] END criterion=mse, max_depth=71, max_features=sqrt, min_samples_leaf=19, min_samples_split=19, n_estimators=170; total time=   0.1s\n",
      "[CV] END criterion=mse, max_depth=71, max_features=sqrt, min_samples_leaf=19, min_samples_split=19, n_estimators=170; total time=   0.1s\n"
     ]
    },
    {
     "name": "stderr",
     "output_type": "stream",
     "text": [
      "C:\\Users\\mayank\\anaconda3\\lib\\site-packages\\sklearn\\ensemble\\_forest.py:396: FutureWarning: Criterion 'mse' was deprecated in v1.0 and will be removed in version 1.2. Use `criterion='squared_error'` which is equivalent.\n",
      "  warn(\n",
      "C:\\Users\\mayank\\anaconda3\\lib\\site-packages\\sklearn\\ensemble\\_forest.py:396: FutureWarning: Criterion 'mse' was deprecated in v1.0 and will be removed in version 1.2. Use `criterion='squared_error'` which is equivalent.\n",
      "  warn(\n"
     ]
    },
    {
     "name": "stdout",
     "output_type": "stream",
     "text": [
      "[CV] END criterion=mse, max_depth=71, max_features=sqrt, min_samples_leaf=19, min_samples_split=19, n_estimators=170; total time=   0.1s\n",
      "[CV] END criterion=mse, max_depth=71, max_features=sqrt, min_samples_leaf=19, min_samples_split=19, n_estimators=170; total time=   0.0s\n"
     ]
    },
    {
     "name": "stderr",
     "output_type": "stream",
     "text": [
      "C:\\Users\\mayank\\anaconda3\\lib\\site-packages\\sklearn\\ensemble\\_forest.py:396: FutureWarning: Criterion 'mse' was deprecated in v1.0 and will be removed in version 1.2. Use `criterion='squared_error'` which is equivalent.\n",
      "  warn(\n",
      "C:\\Users\\mayank\\anaconda3\\lib\\site-packages\\sklearn\\ensemble\\_forest.py:396: FutureWarning: Criterion 'mse' was deprecated in v1.0 and will be removed in version 1.2. Use `criterion='squared_error'` which is equivalent.\n",
      "  warn(\n"
     ]
    },
    {
     "name": "stdout",
     "output_type": "stream",
     "text": [
      "[CV] END criterion=mse, max_depth=71, max_features=sqrt, min_samples_leaf=19, min_samples_split=19, n_estimators=170; total time=   0.1s\n",
      "[CV] END criterion=mse, max_depth=71, max_features=sqrt, min_samples_leaf=19, min_samples_split=19, n_estimators=170; total time=   0.1s\n"
     ]
    },
    {
     "name": "stderr",
     "output_type": "stream",
     "text": [
      "C:\\Users\\mayank\\anaconda3\\lib\\site-packages\\sklearn\\ensemble\\_forest.py:396: FutureWarning: Criterion 'mse' was deprecated in v1.0 and will be removed in version 1.2. Use `criterion='squared_error'` which is equivalent.\n",
      "  warn(\n",
      "C:\\Users\\mayank\\anaconda3\\lib\\site-packages\\sklearn\\ensemble\\_forest.py:396: FutureWarning: Criterion 'mse' was deprecated in v1.0 and will be removed in version 1.2. Use `criterion='squared_error'` which is equivalent.\n",
      "  warn(\n"
     ]
    },
    {
     "name": "stdout",
     "output_type": "stream",
     "text": [
      "[CV] END criterion=mse, max_depth=71, max_features=sqrt, min_samples_leaf=19, min_samples_split=19, n_estimators=170; total time=   0.1s\n"
     ]
    },
    {
     "name": "stderr",
     "output_type": "stream",
     "text": [
      "C:\\Users\\mayank\\anaconda3\\lib\\site-packages\\sklearn\\ensemble\\_forest.py:403: FutureWarning: Criterion 'mae' was deprecated in v1.0 and will be removed in version 1.2. Use `criterion='absolute_error'` which is equivalent.\n",
      "  warn(\n"
     ]
    },
    {
     "name": "stdout",
     "output_type": "stream",
     "text": [
      "[CV] END criterion=mae, max_depth=121, max_features=log2, min_samples_leaf=15, min_samples_split=13, n_estimators=270; total time=   0.3s\n"
     ]
    },
    {
     "name": "stderr",
     "output_type": "stream",
     "text": [
      "C:\\Users\\mayank\\anaconda3\\lib\\site-packages\\sklearn\\ensemble\\_forest.py:403: FutureWarning: Criterion 'mae' was deprecated in v1.0 and will be removed in version 1.2. Use `criterion='absolute_error'` which is equivalent.\n",
      "  warn(\n"
     ]
    },
    {
     "name": "stdout",
     "output_type": "stream",
     "text": [
      "[CV] END criterion=mae, max_depth=121, max_features=log2, min_samples_leaf=15, min_samples_split=13, n_estimators=270; total time=   0.3s\n"
     ]
    },
    {
     "name": "stderr",
     "output_type": "stream",
     "text": [
      "C:\\Users\\mayank\\anaconda3\\lib\\site-packages\\sklearn\\ensemble\\_forest.py:403: FutureWarning: Criterion 'mae' was deprecated in v1.0 and will be removed in version 1.2. Use `criterion='absolute_error'` which is equivalent.\n",
      "  warn(\n"
     ]
    },
    {
     "name": "stdout",
     "output_type": "stream",
     "text": [
      "[CV] END criterion=mae, max_depth=121, max_features=log2, min_samples_leaf=15, min_samples_split=13, n_estimators=270; total time=   0.3s\n"
     ]
    },
    {
     "name": "stderr",
     "output_type": "stream",
     "text": [
      "C:\\Users\\mayank\\anaconda3\\lib\\site-packages\\sklearn\\ensemble\\_forest.py:403: FutureWarning: Criterion 'mae' was deprecated in v1.0 and will be removed in version 1.2. Use `criterion='absolute_error'` which is equivalent.\n",
      "  warn(\n"
     ]
    },
    {
     "name": "stdout",
     "output_type": "stream",
     "text": [
      "[CV] END criterion=mae, max_depth=121, max_features=log2, min_samples_leaf=15, min_samples_split=13, n_estimators=270; total time=   0.3s\n"
     ]
    },
    {
     "name": "stderr",
     "output_type": "stream",
     "text": [
      "C:\\Users\\mayank\\anaconda3\\lib\\site-packages\\sklearn\\ensemble\\_forest.py:403: FutureWarning: Criterion 'mae' was deprecated in v1.0 and will be removed in version 1.2. Use `criterion='absolute_error'` which is equivalent.\n",
      "  warn(\n"
     ]
    },
    {
     "name": "stdout",
     "output_type": "stream",
     "text": [
      "[CV] END criterion=mae, max_depth=121, max_features=log2, min_samples_leaf=15, min_samples_split=13, n_estimators=270; total time=   0.3s\n"
     ]
    },
    {
     "name": "stderr",
     "output_type": "stream",
     "text": [
      "C:\\Users\\mayank\\anaconda3\\lib\\site-packages\\sklearn\\ensemble\\_forest.py:403: FutureWarning: Criterion 'mae' was deprecated in v1.0 and will be removed in version 1.2. Use `criterion='absolute_error'` which is equivalent.\n",
      "  warn(\n"
     ]
    },
    {
     "name": "stdout",
     "output_type": "stream",
     "text": [
      "[CV] END criterion=mae, max_depth=121, max_features=log2, min_samples_leaf=15, min_samples_split=13, n_estimators=270; total time=   0.3s\n"
     ]
    },
    {
     "name": "stderr",
     "output_type": "stream",
     "text": [
      "C:\\Users\\mayank\\anaconda3\\lib\\site-packages\\sklearn\\ensemble\\_forest.py:403: FutureWarning: Criterion 'mae' was deprecated in v1.0 and will be removed in version 1.2. Use `criterion='absolute_error'` which is equivalent.\n",
      "  warn(\n"
     ]
    },
    {
     "name": "stdout",
     "output_type": "stream",
     "text": [
      "[CV] END criterion=mae, max_depth=121, max_features=log2, min_samples_leaf=15, min_samples_split=13, n_estimators=270; total time=   0.3s\n"
     ]
    },
    {
     "name": "stderr",
     "output_type": "stream",
     "text": [
      "C:\\Users\\mayank\\anaconda3\\lib\\site-packages\\sklearn\\ensemble\\_forest.py:403: FutureWarning: Criterion 'mae' was deprecated in v1.0 and will be removed in version 1.2. Use `criterion='absolute_error'` which is equivalent.\n",
      "  warn(\n"
     ]
    },
    {
     "name": "stdout",
     "output_type": "stream",
     "text": [
      "[CV] END criterion=mae, max_depth=121, max_features=log2, min_samples_leaf=15, min_samples_split=13, n_estimators=270; total time=   0.3s\n"
     ]
    },
    {
     "name": "stderr",
     "output_type": "stream",
     "text": [
      "C:\\Users\\mayank\\anaconda3\\lib\\site-packages\\sklearn\\ensemble\\_forest.py:396: FutureWarning: Criterion 'mse' was deprecated in v1.0 and will be removed in version 1.2. Use `criterion='squared_error'` which is equivalent.\n",
      "  warn(\n"
     ]
    },
    {
     "name": "stdout",
     "output_type": "stream",
     "text": [
      "[CV] END criterion=mse, max_depth=151, max_features=auto, min_samples_leaf=7, min_samples_split=7, n_estimators=250; total time=   0.2s\n"
     ]
    },
    {
     "name": "stderr",
     "output_type": "stream",
     "text": [
      "C:\\Users\\mayank\\anaconda3\\lib\\site-packages\\sklearn\\ensemble\\_forest.py:396: FutureWarning: Criterion 'mse' was deprecated in v1.0 and will be removed in version 1.2. Use `criterion='squared_error'` which is equivalent.\n",
      "  warn(\n"
     ]
    },
    {
     "name": "stdout",
     "output_type": "stream",
     "text": [
      "[CV] END criterion=mse, max_depth=151, max_features=auto, min_samples_leaf=7, min_samples_split=7, n_estimators=250; total time=   0.2s\n"
     ]
    },
    {
     "name": "stderr",
     "output_type": "stream",
     "text": [
      "C:\\Users\\mayank\\anaconda3\\lib\\site-packages\\sklearn\\ensemble\\_forest.py:396: FutureWarning: Criterion 'mse' was deprecated in v1.0 and will be removed in version 1.2. Use `criterion='squared_error'` which is equivalent.\n",
      "  warn(\n"
     ]
    },
    {
     "name": "stdout",
     "output_type": "stream",
     "text": [
      "[CV] END criterion=mse, max_depth=151, max_features=auto, min_samples_leaf=7, min_samples_split=7, n_estimators=250; total time=   0.2s\n"
     ]
    },
    {
     "name": "stderr",
     "output_type": "stream",
     "text": [
      "C:\\Users\\mayank\\anaconda3\\lib\\site-packages\\sklearn\\ensemble\\_forest.py:396: FutureWarning: Criterion 'mse' was deprecated in v1.0 and will be removed in version 1.2. Use `criterion='squared_error'` which is equivalent.\n",
      "  warn(\n"
     ]
    },
    {
     "name": "stdout",
     "output_type": "stream",
     "text": [
      "[CV] END criterion=mse, max_depth=151, max_features=auto, min_samples_leaf=7, min_samples_split=7, n_estimators=250; total time=   0.2s\n"
     ]
    },
    {
     "name": "stderr",
     "output_type": "stream",
     "text": [
      "C:\\Users\\mayank\\anaconda3\\lib\\site-packages\\sklearn\\ensemble\\_forest.py:396: FutureWarning: Criterion 'mse' was deprecated in v1.0 and will be removed in version 1.2. Use `criterion='squared_error'` which is equivalent.\n",
      "  warn(\n"
     ]
    },
    {
     "name": "stdout",
     "output_type": "stream",
     "text": [
      "[CV] END criterion=mse, max_depth=151, max_features=auto, min_samples_leaf=7, min_samples_split=7, n_estimators=250; total time=   0.2s\n"
     ]
    },
    {
     "name": "stderr",
     "output_type": "stream",
     "text": [
      "C:\\Users\\mayank\\anaconda3\\lib\\site-packages\\sklearn\\ensemble\\_forest.py:396: FutureWarning: Criterion 'mse' was deprecated in v1.0 and will be removed in version 1.2. Use `criterion='squared_error'` which is equivalent.\n",
      "  warn(\n"
     ]
    },
    {
     "name": "stdout",
     "output_type": "stream",
     "text": [
      "[CV] END criterion=mse, max_depth=151, max_features=auto, min_samples_leaf=7, min_samples_split=7, n_estimators=250; total time=   0.2s\n"
     ]
    },
    {
     "name": "stderr",
     "output_type": "stream",
     "text": [
      "C:\\Users\\mayank\\anaconda3\\lib\\site-packages\\sklearn\\ensemble\\_forest.py:396: FutureWarning: Criterion 'mse' was deprecated in v1.0 and will be removed in version 1.2. Use `criterion='squared_error'` which is equivalent.\n",
      "  warn(\n"
     ]
    },
    {
     "name": "stdout",
     "output_type": "stream",
     "text": [
      "[CV] END criterion=mse, max_depth=151, max_features=auto, min_samples_leaf=7, min_samples_split=7, n_estimators=250; total time=   0.2s\n"
     ]
    },
    {
     "name": "stderr",
     "output_type": "stream",
     "text": [
      "C:\\Users\\mayank\\anaconda3\\lib\\site-packages\\sklearn\\ensemble\\_forest.py:396: FutureWarning: Criterion 'mse' was deprecated in v1.0 and will be removed in version 1.2. Use `criterion='squared_error'` which is equivalent.\n",
      "  warn(\n"
     ]
    },
    {
     "name": "stdout",
     "output_type": "stream",
     "text": [
      "[CV] END criterion=mse, max_depth=151, max_features=auto, min_samples_leaf=7, min_samples_split=7, n_estimators=250; total time=   0.2s\n"
     ]
    },
    {
     "name": "stderr",
     "output_type": "stream",
     "text": [
      "C:\\Users\\mayank\\anaconda3\\lib\\site-packages\\sklearn\\ensemble\\_forest.py:403: FutureWarning: Criterion 'mae' was deprecated in v1.0 and will be removed in version 1.2. Use `criterion='absolute_error'` which is equivalent.\n",
      "  warn(\n"
     ]
    },
    {
     "name": "stdout",
     "output_type": "stream",
     "text": [
      "[CV] END criterion=mae, max_depth=31, max_features=sqrt, min_samples_leaf=7, min_samples_split=17, n_estimators=470; total time=   0.8s\n"
     ]
    },
    {
     "name": "stderr",
     "output_type": "stream",
     "text": [
      "C:\\Users\\mayank\\anaconda3\\lib\\site-packages\\sklearn\\ensemble\\_forest.py:403: FutureWarning: Criterion 'mae' was deprecated in v1.0 and will be removed in version 1.2. Use `criterion='absolute_error'` which is equivalent.\n",
      "  warn(\n"
     ]
    },
    {
     "name": "stdout",
     "output_type": "stream",
     "text": [
      "[CV] END criterion=mae, max_depth=31, max_features=sqrt, min_samples_leaf=7, min_samples_split=17, n_estimators=470; total time=   0.8s\n"
     ]
    },
    {
     "name": "stderr",
     "output_type": "stream",
     "text": [
      "C:\\Users\\mayank\\anaconda3\\lib\\site-packages\\sklearn\\ensemble\\_forest.py:403: FutureWarning: Criterion 'mae' was deprecated in v1.0 and will be removed in version 1.2. Use `criterion='absolute_error'` which is equivalent.\n",
      "  warn(\n"
     ]
    },
    {
     "name": "stdout",
     "output_type": "stream",
     "text": [
      "[CV] END criterion=mae, max_depth=31, max_features=sqrt, min_samples_leaf=7, min_samples_split=17, n_estimators=470; total time=   0.8s\n"
     ]
    },
    {
     "name": "stderr",
     "output_type": "stream",
     "text": [
      "C:\\Users\\mayank\\anaconda3\\lib\\site-packages\\sklearn\\ensemble\\_forest.py:403: FutureWarning: Criterion 'mae' was deprecated in v1.0 and will be removed in version 1.2. Use `criterion='absolute_error'` which is equivalent.\n",
      "  warn(\n"
     ]
    },
    {
     "name": "stdout",
     "output_type": "stream",
     "text": [
      "[CV] END criterion=mae, max_depth=31, max_features=sqrt, min_samples_leaf=7, min_samples_split=17, n_estimators=470; total time=   0.8s\n"
     ]
    },
    {
     "name": "stderr",
     "output_type": "stream",
     "text": [
      "C:\\Users\\mayank\\anaconda3\\lib\\site-packages\\sklearn\\ensemble\\_forest.py:403: FutureWarning: Criterion 'mae' was deprecated in v1.0 and will be removed in version 1.2. Use `criterion='absolute_error'` which is equivalent.\n",
      "  warn(\n"
     ]
    },
    {
     "name": "stdout",
     "output_type": "stream",
     "text": [
      "[CV] END criterion=mae, max_depth=31, max_features=sqrt, min_samples_leaf=7, min_samples_split=17, n_estimators=470; total time=   0.8s\n"
     ]
    },
    {
     "name": "stderr",
     "output_type": "stream",
     "text": [
      "C:\\Users\\mayank\\anaconda3\\lib\\site-packages\\sklearn\\ensemble\\_forest.py:403: FutureWarning: Criterion 'mae' was deprecated in v1.0 and will be removed in version 1.2. Use `criterion='absolute_error'` which is equivalent.\n",
      "  warn(\n"
     ]
    },
    {
     "name": "stdout",
     "output_type": "stream",
     "text": [
      "[CV] END criterion=mae, max_depth=31, max_features=sqrt, min_samples_leaf=7, min_samples_split=17, n_estimators=470; total time=   0.8s\n"
     ]
    },
    {
     "name": "stderr",
     "output_type": "stream",
     "text": [
      "C:\\Users\\mayank\\anaconda3\\lib\\site-packages\\sklearn\\ensemble\\_forest.py:403: FutureWarning: Criterion 'mae' was deprecated in v1.0 and will be removed in version 1.2. Use `criterion='absolute_error'` which is equivalent.\n",
      "  warn(\n"
     ]
    },
    {
     "name": "stdout",
     "output_type": "stream",
     "text": [
      "[CV] END criterion=mae, max_depth=31, max_features=sqrt, min_samples_leaf=7, min_samples_split=17, n_estimators=470; total time=   0.8s\n"
     ]
    },
    {
     "name": "stderr",
     "output_type": "stream",
     "text": [
      "C:\\Users\\mayank\\anaconda3\\lib\\site-packages\\sklearn\\ensemble\\_forest.py:403: FutureWarning: Criterion 'mae' was deprecated in v1.0 and will be removed in version 1.2. Use `criterion='absolute_error'` which is equivalent.\n",
      "  warn(\n"
     ]
    },
    {
     "name": "stdout",
     "output_type": "stream",
     "text": [
      "[CV] END criterion=mae, max_depth=31, max_features=sqrt, min_samples_leaf=7, min_samples_split=17, n_estimators=470; total time=   0.8s\n"
     ]
    },
    {
     "name": "stderr",
     "output_type": "stream",
     "text": [
      "C:\\Users\\mayank\\anaconda3\\lib\\site-packages\\sklearn\\ensemble\\_forest.py:396: FutureWarning: Criterion 'mse' was deprecated in v1.0 and will be removed in version 1.2. Use `criterion='squared_error'` which is equivalent.\n",
      "  warn(\n"
     ]
    },
    {
     "name": "stdout",
     "output_type": "stream",
     "text": [
      "[CV] END criterion=mse, max_depth=31, max_features=auto, min_samples_leaf=3, min_samples_split=13, n_estimators=430; total time=   0.5s\n"
     ]
    },
    {
     "name": "stderr",
     "output_type": "stream",
     "text": [
      "C:\\Users\\mayank\\anaconda3\\lib\\site-packages\\sklearn\\ensemble\\_forest.py:396: FutureWarning: Criterion 'mse' was deprecated in v1.0 and will be removed in version 1.2. Use `criterion='squared_error'` which is equivalent.\n",
      "  warn(\n"
     ]
    },
    {
     "name": "stdout",
     "output_type": "stream",
     "text": [
      "[CV] END criterion=mse, max_depth=31, max_features=auto, min_samples_leaf=3, min_samples_split=13, n_estimators=430; total time=   0.6s\n"
     ]
    },
    {
     "name": "stderr",
     "output_type": "stream",
     "text": [
      "C:\\Users\\mayank\\anaconda3\\lib\\site-packages\\sklearn\\ensemble\\_forest.py:396: FutureWarning: Criterion 'mse' was deprecated in v1.0 and will be removed in version 1.2. Use `criterion='squared_error'` which is equivalent.\n",
      "  warn(\n"
     ]
    },
    {
     "name": "stdout",
     "output_type": "stream",
     "text": [
      "[CV] END criterion=mse, max_depth=31, max_features=auto, min_samples_leaf=3, min_samples_split=13, n_estimators=430; total time=   0.5s\n"
     ]
    },
    {
     "name": "stderr",
     "output_type": "stream",
     "text": [
      "C:\\Users\\mayank\\anaconda3\\lib\\site-packages\\sklearn\\ensemble\\_forest.py:396: FutureWarning: Criterion 'mse' was deprecated in v1.0 and will be removed in version 1.2. Use `criterion='squared_error'` which is equivalent.\n",
      "  warn(\n"
     ]
    },
    {
     "name": "stdout",
     "output_type": "stream",
     "text": [
      "[CV] END criterion=mse, max_depth=31, max_features=auto, min_samples_leaf=3, min_samples_split=13, n_estimators=430; total time=   0.5s\n"
     ]
    },
    {
     "name": "stderr",
     "output_type": "stream",
     "text": [
      "C:\\Users\\mayank\\anaconda3\\lib\\site-packages\\sklearn\\ensemble\\_forest.py:396: FutureWarning: Criterion 'mse' was deprecated in v1.0 and will be removed in version 1.2. Use `criterion='squared_error'` which is equivalent.\n",
      "  warn(\n"
     ]
    },
    {
     "name": "stdout",
     "output_type": "stream",
     "text": [
      "[CV] END criterion=mse, max_depth=31, max_features=auto, min_samples_leaf=3, min_samples_split=13, n_estimators=430; total time=   0.5s\n"
     ]
    },
    {
     "name": "stderr",
     "output_type": "stream",
     "text": [
      "C:\\Users\\mayank\\anaconda3\\lib\\site-packages\\sklearn\\ensemble\\_forest.py:396: FutureWarning: Criterion 'mse' was deprecated in v1.0 and will be removed in version 1.2. Use `criterion='squared_error'` which is equivalent.\n",
      "  warn(\n"
     ]
    },
    {
     "name": "stdout",
     "output_type": "stream",
     "text": [
      "[CV] END criterion=mse, max_depth=31, max_features=auto, min_samples_leaf=3, min_samples_split=13, n_estimators=430; total time=   0.5s\n"
     ]
    },
    {
     "name": "stderr",
     "output_type": "stream",
     "text": [
      "C:\\Users\\mayank\\anaconda3\\lib\\site-packages\\sklearn\\ensemble\\_forest.py:396: FutureWarning: Criterion 'mse' was deprecated in v1.0 and will be removed in version 1.2. Use `criterion='squared_error'` which is equivalent.\n",
      "  warn(\n"
     ]
    },
    {
     "name": "stdout",
     "output_type": "stream",
     "text": [
      "[CV] END criterion=mse, max_depth=31, max_features=auto, min_samples_leaf=3, min_samples_split=13, n_estimators=430; total time=   0.5s\n"
     ]
    },
    {
     "name": "stderr",
     "output_type": "stream",
     "text": [
      "C:\\Users\\mayank\\anaconda3\\lib\\site-packages\\sklearn\\ensemble\\_forest.py:396: FutureWarning: Criterion 'mse' was deprecated in v1.0 and will be removed in version 1.2. Use `criterion='squared_error'` which is equivalent.\n",
      "  warn(\n"
     ]
    },
    {
     "name": "stdout",
     "output_type": "stream",
     "text": [
      "[CV] END criterion=mse, max_depth=31, max_features=auto, min_samples_leaf=3, min_samples_split=13, n_estimators=430; total time=   0.5s\n"
     ]
    },
    {
     "name": "stderr",
     "output_type": "stream",
     "text": [
      "C:\\Users\\mayank\\anaconda3\\lib\\site-packages\\sklearn\\ensemble\\_forest.py:403: FutureWarning: Criterion 'mae' was deprecated in v1.0 and will be removed in version 1.2. Use `criterion='absolute_error'` which is equivalent.\n",
      "  warn(\n"
     ]
    },
    {
     "name": "stdout",
     "output_type": "stream",
     "text": [
      "[CV] END criterion=mae, max_depth=111, max_features=auto, min_samples_leaf=17, min_samples_split=17, n_estimators=130; total time=   0.4s\n"
     ]
    },
    {
     "name": "stderr",
     "output_type": "stream",
     "text": [
      "C:\\Users\\mayank\\anaconda3\\lib\\site-packages\\sklearn\\ensemble\\_forest.py:403: FutureWarning: Criterion 'mae' was deprecated in v1.0 and will be removed in version 1.2. Use `criterion='absolute_error'` which is equivalent.\n",
      "  warn(\n"
     ]
    },
    {
     "name": "stdout",
     "output_type": "stream",
     "text": [
      "[CV] END criterion=mae, max_depth=111, max_features=auto, min_samples_leaf=17, min_samples_split=17, n_estimators=130; total time=   0.4s\n"
     ]
    },
    {
     "name": "stderr",
     "output_type": "stream",
     "text": [
      "C:\\Users\\mayank\\anaconda3\\lib\\site-packages\\sklearn\\ensemble\\_forest.py:403: FutureWarning: Criterion 'mae' was deprecated in v1.0 and will be removed in version 1.2. Use `criterion='absolute_error'` which is equivalent.\n",
      "  warn(\n"
     ]
    },
    {
     "name": "stdout",
     "output_type": "stream",
     "text": [
      "[CV] END criterion=mae, max_depth=111, max_features=auto, min_samples_leaf=17, min_samples_split=17, n_estimators=130; total time=   0.4s\n"
     ]
    },
    {
     "name": "stderr",
     "output_type": "stream",
     "text": [
      "C:\\Users\\mayank\\anaconda3\\lib\\site-packages\\sklearn\\ensemble\\_forest.py:403: FutureWarning: Criterion 'mae' was deprecated in v1.0 and will be removed in version 1.2. Use `criterion='absolute_error'` which is equivalent.\n",
      "  warn(\n"
     ]
    },
    {
     "name": "stdout",
     "output_type": "stream",
     "text": [
      "[CV] END criterion=mae, max_depth=111, max_features=auto, min_samples_leaf=17, min_samples_split=17, n_estimators=130; total time=   0.4s\n"
     ]
    },
    {
     "name": "stderr",
     "output_type": "stream",
     "text": [
      "C:\\Users\\mayank\\anaconda3\\lib\\site-packages\\sklearn\\ensemble\\_forest.py:403: FutureWarning: Criterion 'mae' was deprecated in v1.0 and will be removed in version 1.2. Use `criterion='absolute_error'` which is equivalent.\n",
      "  warn(\n"
     ]
    },
    {
     "name": "stdout",
     "output_type": "stream",
     "text": [
      "[CV] END criterion=mae, max_depth=111, max_features=auto, min_samples_leaf=17, min_samples_split=17, n_estimators=130; total time=   0.4s\n"
     ]
    },
    {
     "name": "stderr",
     "output_type": "stream",
     "text": [
      "C:\\Users\\mayank\\anaconda3\\lib\\site-packages\\sklearn\\ensemble\\_forest.py:403: FutureWarning: Criterion 'mae' was deprecated in v1.0 and will be removed in version 1.2. Use `criterion='absolute_error'` which is equivalent.\n",
      "  warn(\n"
     ]
    },
    {
     "name": "stdout",
     "output_type": "stream",
     "text": [
      "[CV] END criterion=mae, max_depth=111, max_features=auto, min_samples_leaf=17, min_samples_split=17, n_estimators=130; total time=   0.4s\n"
     ]
    },
    {
     "name": "stderr",
     "output_type": "stream",
     "text": [
      "C:\\Users\\mayank\\anaconda3\\lib\\site-packages\\sklearn\\ensemble\\_forest.py:403: FutureWarning: Criterion 'mae' was deprecated in v1.0 and will be removed in version 1.2. Use `criterion='absolute_error'` which is equivalent.\n",
      "  warn(\n"
     ]
    },
    {
     "name": "stdout",
     "output_type": "stream",
     "text": [
      "[CV] END criterion=mae, max_depth=111, max_features=auto, min_samples_leaf=17, min_samples_split=17, n_estimators=130; total time=   0.4s\n"
     ]
    },
    {
     "name": "stderr",
     "output_type": "stream",
     "text": [
      "C:\\Users\\mayank\\anaconda3\\lib\\site-packages\\sklearn\\ensemble\\_forest.py:403: FutureWarning: Criterion 'mae' was deprecated in v1.0 and will be removed in version 1.2. Use `criterion='absolute_error'` which is equivalent.\n",
      "  warn(\n"
     ]
    },
    {
     "name": "stdout",
     "output_type": "stream",
     "text": [
      "[CV] END criterion=mae, max_depth=111, max_features=auto, min_samples_leaf=17, min_samples_split=17, n_estimators=130; total time=   0.4s\n",
      "[CV] END criterion=mse, max_depth=91, max_features=auto, min_samples_leaf=13, min_samples_split=1, n_estimators=50; total time=   0.0s\n",
      "[CV] END criterion=mse, max_depth=91, max_features=auto, min_samples_leaf=13, min_samples_split=1, n_estimators=50; total time=   0.0s\n",
      "[CV] END criterion=mse, max_depth=91, max_features=auto, min_samples_leaf=13, min_samples_split=1, n_estimators=50; total time=   0.0s\n",
      "[CV] END criterion=mse, max_depth=91, max_features=auto, min_samples_leaf=13, min_samples_split=1, n_estimators=50; total time=   0.0s\n",
      "[CV] END criterion=mse, max_depth=91, max_features=auto, min_samples_leaf=13, min_samples_split=1, n_estimators=50; total time=   0.0s\n",
      "[CV] END criterion=mse, max_depth=91, max_features=auto, min_samples_leaf=13, min_samples_split=1, n_estimators=50; total time=   0.0s\n",
      "[CV] END criterion=mse, max_depth=91, max_features=auto, min_samples_leaf=13, min_samples_split=1, n_estimators=50; total time=   0.0s\n",
      "[CV] END criterion=mse, max_depth=91, max_features=auto, min_samples_leaf=13, min_samples_split=1, n_estimators=50; total time=   0.0s\n"
     ]
    },
    {
     "name": "stderr",
     "output_type": "stream",
     "text": [
      "C:\\Users\\mayank\\anaconda3\\lib\\site-packages\\sklearn\\ensemble\\_forest.py:396: FutureWarning: Criterion 'mse' was deprecated in v1.0 and will be removed in version 1.2. Use `criterion='squared_error'` which is equivalent.\n",
      "  warn(\n",
      "C:\\Users\\mayank\\anaconda3\\lib\\site-packages\\sklearn\\ensemble\\_forest.py:396: FutureWarning: Criterion 'mse' was deprecated in v1.0 and will be removed in version 1.2. Use `criterion='squared_error'` which is equivalent.\n",
      "  warn(\n",
      "C:\\Users\\mayank\\anaconda3\\lib\\site-packages\\sklearn\\ensemble\\_forest.py:396: FutureWarning: Criterion 'mse' was deprecated in v1.0 and will be removed in version 1.2. Use `criterion='squared_error'` which is equivalent.\n",
      "  warn(\n",
      "C:\\Users\\mayank\\anaconda3\\lib\\site-packages\\sklearn\\ensemble\\_forest.py:396: FutureWarning: Criterion 'mse' was deprecated in v1.0 and will be removed in version 1.2. Use `criterion='squared_error'` which is equivalent.\n",
      "  warn(\n",
      "C:\\Users\\mayank\\anaconda3\\lib\\site-packages\\sklearn\\ensemble\\_forest.py:396: FutureWarning: Criterion 'mse' was deprecated in v1.0 and will be removed in version 1.2. Use `criterion='squared_error'` which is equivalent.\n",
      "  warn(\n",
      "C:\\Users\\mayank\\anaconda3\\lib\\site-packages\\sklearn\\ensemble\\_forest.py:396: FutureWarning: Criterion 'mse' was deprecated in v1.0 and will be removed in version 1.2. Use `criterion='squared_error'` which is equivalent.\n",
      "  warn(\n",
      "C:\\Users\\mayank\\anaconda3\\lib\\site-packages\\sklearn\\ensemble\\_forest.py:396: FutureWarning: Criterion 'mse' was deprecated in v1.0 and will be removed in version 1.2. Use `criterion='squared_error'` which is equivalent.\n",
      "  warn(\n",
      "C:\\Users\\mayank\\anaconda3\\lib\\site-packages\\sklearn\\ensemble\\_forest.py:396: FutureWarning: Criterion 'mse' was deprecated in v1.0 and will be removed in version 1.2. Use `criterion='squared_error'` which is equivalent.\n",
      "  warn(\n",
      "C:\\Users\\mayank\\anaconda3\\lib\\site-packages\\sklearn\\ensemble\\_forest.py:396: FutureWarning: Criterion 'mse' was deprecated in v1.0 and will be removed in version 1.2. Use `criterion='squared_error'` which is equivalent.\n",
      "  warn(\n"
     ]
    },
    {
     "name": "stdout",
     "output_type": "stream",
     "text": [
      "[CV] END criterion=mse, max_depth=141, max_features=auto, min_samples_leaf=11, min_samples_split=9, n_estimators=190; total time=   0.1s\n",
      "[CV] END criterion=mse, max_depth=141, max_features=auto, min_samples_leaf=11, min_samples_split=9, n_estimators=190; total time=   0.1s\n"
     ]
    },
    {
     "name": "stderr",
     "output_type": "stream",
     "text": [
      "C:\\Users\\mayank\\anaconda3\\lib\\site-packages\\sklearn\\ensemble\\_forest.py:396: FutureWarning: Criterion 'mse' was deprecated in v1.0 and will be removed in version 1.2. Use `criterion='squared_error'` which is equivalent.\n",
      "  warn(\n",
      "C:\\Users\\mayank\\anaconda3\\lib\\site-packages\\sklearn\\ensemble\\_forest.py:396: FutureWarning: Criterion 'mse' was deprecated in v1.0 and will be removed in version 1.2. Use `criterion='squared_error'` which is equivalent.\n",
      "  warn(\n"
     ]
    },
    {
     "name": "stdout",
     "output_type": "stream",
     "text": [
      "[CV] END criterion=mse, max_depth=141, max_features=auto, min_samples_leaf=11, min_samples_split=9, n_estimators=190; total time=   0.1s\n",
      "[CV] END criterion=mse, max_depth=141, max_features=auto, min_samples_leaf=11, min_samples_split=9, n_estimators=190; total time=   0.1s\n"
     ]
    },
    {
     "name": "stderr",
     "output_type": "stream",
     "text": [
      "C:\\Users\\mayank\\anaconda3\\lib\\site-packages\\sklearn\\ensemble\\_forest.py:396: FutureWarning: Criterion 'mse' was deprecated in v1.0 and will be removed in version 1.2. Use `criterion='squared_error'` which is equivalent.\n",
      "  warn(\n",
      "C:\\Users\\mayank\\anaconda3\\lib\\site-packages\\sklearn\\ensemble\\_forest.py:396: FutureWarning: Criterion 'mse' was deprecated in v1.0 and will be removed in version 1.2. Use `criterion='squared_error'` which is equivalent.\n",
      "  warn(\n",
      "C:\\Users\\mayank\\anaconda3\\lib\\site-packages\\sklearn\\ensemble\\_forest.py:396: FutureWarning: Criterion 'mse' was deprecated in v1.0 and will be removed in version 1.2. Use `criterion='squared_error'` which is equivalent.\n",
      "  warn(\n"
     ]
    },
    {
     "name": "stdout",
     "output_type": "stream",
     "text": [
      "[CV] END criterion=mse, max_depth=141, max_features=auto, min_samples_leaf=11, min_samples_split=9, n_estimators=190; total time=   0.1s\n",
      "[CV] END criterion=mse, max_depth=141, max_features=auto, min_samples_leaf=11, min_samples_split=9, n_estimators=190; total time=   0.1s\n",
      "[CV] END criterion=mse, max_depth=141, max_features=auto, min_samples_leaf=11, min_samples_split=9, n_estimators=190; total time=   0.1s\n"
     ]
    },
    {
     "name": "stderr",
     "output_type": "stream",
     "text": [
      "C:\\Users\\mayank\\anaconda3\\lib\\site-packages\\sklearn\\ensemble\\_forest.py:396: FutureWarning: Criterion 'mse' was deprecated in v1.0 and will be removed in version 1.2. Use `criterion='squared_error'` which is equivalent.\n",
      "  warn(\n",
      "C:\\Users\\mayank\\anaconda3\\lib\\site-packages\\sklearn\\ensemble\\_forest.py:396: FutureWarning: Criterion 'mse' was deprecated in v1.0 and will be removed in version 1.2. Use `criterion='squared_error'` which is equivalent.\n",
      "  warn(\n"
     ]
    },
    {
     "name": "stdout",
     "output_type": "stream",
     "text": [
      "[CV] END criterion=mse, max_depth=141, max_features=auto, min_samples_leaf=11, min_samples_split=9, n_estimators=190; total time=   0.1s\n"
     ]
    },
    {
     "name": "stderr",
     "output_type": "stream",
     "text": [
      "C:\\Users\\mayank\\anaconda3\\lib\\site-packages\\sklearn\\ensemble\\_forest.py:403: FutureWarning: Criterion 'mae' was deprecated in v1.0 and will be removed in version 1.2. Use `criterion='absolute_error'` which is equivalent.\n",
      "  warn(\n"
     ]
    },
    {
     "name": "stdout",
     "output_type": "stream",
     "text": [
      "[CV] END criterion=mae, max_depth=71, max_features=auto, min_samples_leaf=19, min_samples_split=13, n_estimators=450; total time=   1.4s\n"
     ]
    },
    {
     "name": "stderr",
     "output_type": "stream",
     "text": [
      "C:\\Users\\mayank\\anaconda3\\lib\\site-packages\\sklearn\\ensemble\\_forest.py:403: FutureWarning: Criterion 'mae' was deprecated in v1.0 and will be removed in version 1.2. Use `criterion='absolute_error'` which is equivalent.\n",
      "  warn(\n"
     ]
    },
    {
     "name": "stdout",
     "output_type": "stream",
     "text": [
      "[CV] END criterion=mae, max_depth=71, max_features=auto, min_samples_leaf=19, min_samples_split=13, n_estimators=450; total time=   1.4s\n"
     ]
    },
    {
     "name": "stderr",
     "output_type": "stream",
     "text": [
      "C:\\Users\\mayank\\anaconda3\\lib\\site-packages\\sklearn\\ensemble\\_forest.py:403: FutureWarning: Criterion 'mae' was deprecated in v1.0 and will be removed in version 1.2. Use `criterion='absolute_error'` which is equivalent.\n",
      "  warn(\n"
     ]
    },
    {
     "name": "stdout",
     "output_type": "stream",
     "text": [
      "[CV] END criterion=mae, max_depth=71, max_features=auto, min_samples_leaf=19, min_samples_split=13, n_estimators=450; total time=   1.4s\n"
     ]
    },
    {
     "name": "stderr",
     "output_type": "stream",
     "text": [
      "C:\\Users\\mayank\\anaconda3\\lib\\site-packages\\sklearn\\ensemble\\_forest.py:403: FutureWarning: Criterion 'mae' was deprecated in v1.0 and will be removed in version 1.2. Use `criterion='absolute_error'` which is equivalent.\n",
      "  warn(\n"
     ]
    },
    {
     "name": "stdout",
     "output_type": "stream",
     "text": [
      "[CV] END criterion=mae, max_depth=71, max_features=auto, min_samples_leaf=19, min_samples_split=13, n_estimators=450; total time=   1.4s\n"
     ]
    },
    {
     "name": "stderr",
     "output_type": "stream",
     "text": [
      "C:\\Users\\mayank\\anaconda3\\lib\\site-packages\\sklearn\\ensemble\\_forest.py:403: FutureWarning: Criterion 'mae' was deprecated in v1.0 and will be removed in version 1.2. Use `criterion='absolute_error'` which is equivalent.\n",
      "  warn(\n"
     ]
    },
    {
     "name": "stdout",
     "output_type": "stream",
     "text": [
      "[CV] END criterion=mae, max_depth=71, max_features=auto, min_samples_leaf=19, min_samples_split=13, n_estimators=450; total time=   1.4s\n"
     ]
    },
    {
     "name": "stderr",
     "output_type": "stream",
     "text": [
      "C:\\Users\\mayank\\anaconda3\\lib\\site-packages\\sklearn\\ensemble\\_forest.py:403: FutureWarning: Criterion 'mae' was deprecated in v1.0 and will be removed in version 1.2. Use `criterion='absolute_error'` which is equivalent.\n",
      "  warn(\n"
     ]
    },
    {
     "name": "stdout",
     "output_type": "stream",
     "text": [
      "[CV] END criterion=mae, max_depth=71, max_features=auto, min_samples_leaf=19, min_samples_split=13, n_estimators=450; total time=   1.4s\n"
     ]
    },
    {
     "name": "stderr",
     "output_type": "stream",
     "text": [
      "C:\\Users\\mayank\\anaconda3\\lib\\site-packages\\sklearn\\ensemble\\_forest.py:403: FutureWarning: Criterion 'mae' was deprecated in v1.0 and will be removed in version 1.2. Use `criterion='absolute_error'` which is equivalent.\n",
      "  warn(\n"
     ]
    },
    {
     "name": "stdout",
     "output_type": "stream",
     "text": [
      "[CV] END criterion=mae, max_depth=71, max_features=auto, min_samples_leaf=19, min_samples_split=13, n_estimators=450; total time=   1.4s\n"
     ]
    },
    {
     "name": "stderr",
     "output_type": "stream",
     "text": [
      "C:\\Users\\mayank\\anaconda3\\lib\\site-packages\\sklearn\\ensemble\\_forest.py:403: FutureWarning: Criterion 'mae' was deprecated in v1.0 and will be removed in version 1.2. Use `criterion='absolute_error'` which is equivalent.\n",
      "  warn(\n"
     ]
    },
    {
     "name": "stdout",
     "output_type": "stream",
     "text": [
      "[CV] END criterion=mae, max_depth=71, max_features=auto, min_samples_leaf=19, min_samples_split=13, n_estimators=450; total time=   1.4s\n"
     ]
    },
    {
     "name": "stderr",
     "output_type": "stream",
     "text": [
      "C:\\Users\\mayank\\anaconda3\\lib\\site-packages\\sklearn\\ensemble\\_forest.py:403: FutureWarning: Criterion 'mae' was deprecated in v1.0 and will be removed in version 1.2. Use `criterion='absolute_error'` which is equivalent.\n",
      "  warn(\n"
     ]
    },
    {
     "name": "stdout",
     "output_type": "stream",
     "text": [
      "[CV] END criterion=mae, max_depth=141, max_features=sqrt, min_samples_leaf=15, min_samples_split=15, n_estimators=190; total time=   0.2s\n"
     ]
    },
    {
     "name": "stderr",
     "output_type": "stream",
     "text": [
      "C:\\Users\\mayank\\anaconda3\\lib\\site-packages\\sklearn\\ensemble\\_forest.py:403: FutureWarning: Criterion 'mae' was deprecated in v1.0 and will be removed in version 1.2. Use `criterion='absolute_error'` which is equivalent.\n",
      "  warn(\n"
     ]
    },
    {
     "name": "stdout",
     "output_type": "stream",
     "text": [
      "[CV] END criterion=mae, max_depth=141, max_features=sqrt, min_samples_leaf=15, min_samples_split=15, n_estimators=190; total time=   0.2s\n"
     ]
    },
    {
     "name": "stderr",
     "output_type": "stream",
     "text": [
      "C:\\Users\\mayank\\anaconda3\\lib\\site-packages\\sklearn\\ensemble\\_forest.py:403: FutureWarning: Criterion 'mae' was deprecated in v1.0 and will be removed in version 1.2. Use `criterion='absolute_error'` which is equivalent.\n",
      "  warn(\n"
     ]
    },
    {
     "name": "stdout",
     "output_type": "stream",
     "text": [
      "[CV] END criterion=mae, max_depth=141, max_features=sqrt, min_samples_leaf=15, min_samples_split=15, n_estimators=190; total time=   0.2s\n"
     ]
    },
    {
     "name": "stderr",
     "output_type": "stream",
     "text": [
      "C:\\Users\\mayank\\anaconda3\\lib\\site-packages\\sklearn\\ensemble\\_forest.py:403: FutureWarning: Criterion 'mae' was deprecated in v1.0 and will be removed in version 1.2. Use `criterion='absolute_error'` which is equivalent.\n",
      "  warn(\n"
     ]
    },
    {
     "name": "stdout",
     "output_type": "stream",
     "text": [
      "[CV] END criterion=mae, max_depth=141, max_features=sqrt, min_samples_leaf=15, min_samples_split=15, n_estimators=190; total time=   0.2s\n"
     ]
    },
    {
     "name": "stderr",
     "output_type": "stream",
     "text": [
      "C:\\Users\\mayank\\anaconda3\\lib\\site-packages\\sklearn\\ensemble\\_forest.py:403: FutureWarning: Criterion 'mae' was deprecated in v1.0 and will be removed in version 1.2. Use `criterion='absolute_error'` which is equivalent.\n",
      "  warn(\n"
     ]
    },
    {
     "name": "stdout",
     "output_type": "stream",
     "text": [
      "[CV] END criterion=mae, max_depth=141, max_features=sqrt, min_samples_leaf=15, min_samples_split=15, n_estimators=190; total time=   0.2s\n"
     ]
    },
    {
     "name": "stderr",
     "output_type": "stream",
     "text": [
      "C:\\Users\\mayank\\anaconda3\\lib\\site-packages\\sklearn\\ensemble\\_forest.py:403: FutureWarning: Criterion 'mae' was deprecated in v1.0 and will be removed in version 1.2. Use `criterion='absolute_error'` which is equivalent.\n",
      "  warn(\n"
     ]
    },
    {
     "name": "stdout",
     "output_type": "stream",
     "text": [
      "[CV] END criterion=mae, max_depth=141, max_features=sqrt, min_samples_leaf=15, min_samples_split=15, n_estimators=190; total time=   0.2s\n"
     ]
    },
    {
     "name": "stderr",
     "output_type": "stream",
     "text": [
      "C:\\Users\\mayank\\anaconda3\\lib\\site-packages\\sklearn\\ensemble\\_forest.py:403: FutureWarning: Criterion 'mae' was deprecated in v1.0 and will be removed in version 1.2. Use `criterion='absolute_error'` which is equivalent.\n",
      "  warn(\n"
     ]
    },
    {
     "name": "stdout",
     "output_type": "stream",
     "text": [
      "[CV] END criterion=mae, max_depth=141, max_features=sqrt, min_samples_leaf=15, min_samples_split=15, n_estimators=190; total time=   0.2s\n"
     ]
    },
    {
     "name": "stderr",
     "output_type": "stream",
     "text": [
      "C:\\Users\\mayank\\anaconda3\\lib\\site-packages\\sklearn\\ensemble\\_forest.py:403: FutureWarning: Criterion 'mae' was deprecated in v1.0 and will be removed in version 1.2. Use `criterion='absolute_error'` which is equivalent.\n",
      "  warn(\n"
     ]
    },
    {
     "name": "stdout",
     "output_type": "stream",
     "text": [
      "[CV] END criterion=mae, max_depth=141, max_features=sqrt, min_samples_leaf=15, min_samples_split=15, n_estimators=190; total time=   0.2s\n"
     ]
    },
    {
     "name": "stderr",
     "output_type": "stream",
     "text": [
      "C:\\Users\\mayank\\anaconda3\\lib\\site-packages\\sklearn\\ensemble\\_forest.py:403: FutureWarning: Criterion 'mae' was deprecated in v1.0 and will be removed in version 1.2. Use `criterion='absolute_error'` which is equivalent.\n",
      "  warn(\n"
     ]
    },
    {
     "name": "stdout",
     "output_type": "stream",
     "text": [
      "[CV] END criterion=mae, max_depth=151, max_features=auto, min_samples_leaf=17, min_samples_split=7, n_estimators=470; total time=   1.6s\n"
     ]
    },
    {
     "name": "stderr",
     "output_type": "stream",
     "text": [
      "C:\\Users\\mayank\\anaconda3\\lib\\site-packages\\sklearn\\ensemble\\_forest.py:403: FutureWarning: Criterion 'mae' was deprecated in v1.0 and will be removed in version 1.2. Use `criterion='absolute_error'` which is equivalent.\n",
      "  warn(\n"
     ]
    },
    {
     "name": "stdout",
     "output_type": "stream",
     "text": [
      "[CV] END criterion=mae, max_depth=151, max_features=auto, min_samples_leaf=17, min_samples_split=7, n_estimators=470; total time=   1.6s\n"
     ]
    },
    {
     "name": "stderr",
     "output_type": "stream",
     "text": [
      "C:\\Users\\mayank\\anaconda3\\lib\\site-packages\\sklearn\\ensemble\\_forest.py:403: FutureWarning: Criterion 'mae' was deprecated in v1.0 and will be removed in version 1.2. Use `criterion='absolute_error'` which is equivalent.\n",
      "  warn(\n"
     ]
    },
    {
     "name": "stdout",
     "output_type": "stream",
     "text": [
      "[CV] END criterion=mae, max_depth=151, max_features=auto, min_samples_leaf=17, min_samples_split=7, n_estimators=470; total time=   1.6s\n"
     ]
    },
    {
     "name": "stderr",
     "output_type": "stream",
     "text": [
      "C:\\Users\\mayank\\anaconda3\\lib\\site-packages\\sklearn\\ensemble\\_forest.py:403: FutureWarning: Criterion 'mae' was deprecated in v1.0 and will be removed in version 1.2. Use `criterion='absolute_error'` which is equivalent.\n",
      "  warn(\n"
     ]
    },
    {
     "name": "stdout",
     "output_type": "stream",
     "text": [
      "[CV] END criterion=mae, max_depth=151, max_features=auto, min_samples_leaf=17, min_samples_split=7, n_estimators=470; total time=   1.6s\n"
     ]
    },
    {
     "name": "stderr",
     "output_type": "stream",
     "text": [
      "C:\\Users\\mayank\\anaconda3\\lib\\site-packages\\sklearn\\ensemble\\_forest.py:403: FutureWarning: Criterion 'mae' was deprecated in v1.0 and will be removed in version 1.2. Use `criterion='absolute_error'` which is equivalent.\n",
      "  warn(\n"
     ]
    },
    {
     "name": "stdout",
     "output_type": "stream",
     "text": [
      "[CV] END criterion=mae, max_depth=151, max_features=auto, min_samples_leaf=17, min_samples_split=7, n_estimators=470; total time=   1.6s\n"
     ]
    },
    {
     "name": "stderr",
     "output_type": "stream",
     "text": [
      "C:\\Users\\mayank\\anaconda3\\lib\\site-packages\\sklearn\\ensemble\\_forest.py:403: FutureWarning: Criterion 'mae' was deprecated in v1.0 and will be removed in version 1.2. Use `criterion='absolute_error'` which is equivalent.\n",
      "  warn(\n"
     ]
    },
    {
     "name": "stdout",
     "output_type": "stream",
     "text": [
      "[CV] END criterion=mae, max_depth=151, max_features=auto, min_samples_leaf=17, min_samples_split=7, n_estimators=470; total time=   1.5s\n"
     ]
    },
    {
     "name": "stderr",
     "output_type": "stream",
     "text": [
      "C:\\Users\\mayank\\anaconda3\\lib\\site-packages\\sklearn\\ensemble\\_forest.py:403: FutureWarning: Criterion 'mae' was deprecated in v1.0 and will be removed in version 1.2. Use `criterion='absolute_error'` which is equivalent.\n",
      "  warn(\n"
     ]
    },
    {
     "name": "stdout",
     "output_type": "stream",
     "text": [
      "[CV] END criterion=mae, max_depth=151, max_features=auto, min_samples_leaf=17, min_samples_split=7, n_estimators=470; total time=   1.5s\n"
     ]
    },
    {
     "name": "stderr",
     "output_type": "stream",
     "text": [
      "C:\\Users\\mayank\\anaconda3\\lib\\site-packages\\sklearn\\ensemble\\_forest.py:403: FutureWarning: Criterion 'mae' was deprecated in v1.0 and will be removed in version 1.2. Use `criterion='absolute_error'` which is equivalent.\n",
      "  warn(\n"
     ]
    },
    {
     "name": "stdout",
     "output_type": "stream",
     "text": [
      "[CV] END criterion=mae, max_depth=151, max_features=auto, min_samples_leaf=17, min_samples_split=7, n_estimators=470; total time=   1.6s\n"
     ]
    },
    {
     "name": "stderr",
     "output_type": "stream",
     "text": [
      "C:\\Users\\mayank\\anaconda3\\lib\\site-packages\\sklearn\\ensemble\\_forest.py:403: FutureWarning: Criterion 'mae' was deprecated in v1.0 and will be removed in version 1.2. Use `criterion='absolute_error'` which is equivalent.\n",
      "  warn(\n"
     ]
    },
    {
     "name": "stdout",
     "output_type": "stream",
     "text": [
      "[CV] END criterion=mae, max_depth=11, max_features=sqrt, min_samples_leaf=17, min_samples_split=5, n_estimators=350; total time=   0.5s\n"
     ]
    },
    {
     "name": "stderr",
     "output_type": "stream",
     "text": [
      "C:\\Users\\mayank\\anaconda3\\lib\\site-packages\\sklearn\\ensemble\\_forest.py:403: FutureWarning: Criterion 'mae' was deprecated in v1.0 and will be removed in version 1.2. Use `criterion='absolute_error'` which is equivalent.\n",
      "  warn(\n"
     ]
    },
    {
     "name": "stdout",
     "output_type": "stream",
     "text": [
      "[CV] END criterion=mae, max_depth=11, max_features=sqrt, min_samples_leaf=17, min_samples_split=5, n_estimators=350; total time=   0.4s\n"
     ]
    },
    {
     "name": "stderr",
     "output_type": "stream",
     "text": [
      "C:\\Users\\mayank\\anaconda3\\lib\\site-packages\\sklearn\\ensemble\\_forest.py:403: FutureWarning: Criterion 'mae' was deprecated in v1.0 and will be removed in version 1.2. Use `criterion='absolute_error'` which is equivalent.\n",
      "  warn(\n"
     ]
    },
    {
     "name": "stdout",
     "output_type": "stream",
     "text": [
      "[CV] END criterion=mae, max_depth=11, max_features=sqrt, min_samples_leaf=17, min_samples_split=5, n_estimators=350; total time=   0.5s\n"
     ]
    },
    {
     "name": "stderr",
     "output_type": "stream",
     "text": [
      "C:\\Users\\mayank\\anaconda3\\lib\\site-packages\\sklearn\\ensemble\\_forest.py:403: FutureWarning: Criterion 'mae' was deprecated in v1.0 and will be removed in version 1.2. Use `criterion='absolute_error'` which is equivalent.\n",
      "  warn(\n"
     ]
    },
    {
     "name": "stdout",
     "output_type": "stream",
     "text": [
      "[CV] END criterion=mae, max_depth=11, max_features=sqrt, min_samples_leaf=17, min_samples_split=5, n_estimators=350; total time=   0.5s\n"
     ]
    },
    {
     "name": "stderr",
     "output_type": "stream",
     "text": [
      "C:\\Users\\mayank\\anaconda3\\lib\\site-packages\\sklearn\\ensemble\\_forest.py:403: FutureWarning: Criterion 'mae' was deprecated in v1.0 and will be removed in version 1.2. Use `criterion='absolute_error'` which is equivalent.\n",
      "  warn(\n"
     ]
    },
    {
     "name": "stdout",
     "output_type": "stream",
     "text": [
      "[CV] END criterion=mae, max_depth=11, max_features=sqrt, min_samples_leaf=17, min_samples_split=5, n_estimators=350; total time=   0.5s\n"
     ]
    },
    {
     "name": "stderr",
     "output_type": "stream",
     "text": [
      "C:\\Users\\mayank\\anaconda3\\lib\\site-packages\\sklearn\\ensemble\\_forest.py:403: FutureWarning: Criterion 'mae' was deprecated in v1.0 and will be removed in version 1.2. Use `criterion='absolute_error'` which is equivalent.\n",
      "  warn(\n"
     ]
    },
    {
     "name": "stdout",
     "output_type": "stream",
     "text": [
      "[CV] END criterion=mae, max_depth=11, max_features=sqrt, min_samples_leaf=17, min_samples_split=5, n_estimators=350; total time=   0.5s\n"
     ]
    },
    {
     "name": "stderr",
     "output_type": "stream",
     "text": [
      "C:\\Users\\mayank\\anaconda3\\lib\\site-packages\\sklearn\\ensemble\\_forest.py:403: FutureWarning: Criterion 'mae' was deprecated in v1.0 and will be removed in version 1.2. Use `criterion='absolute_error'` which is equivalent.\n",
      "  warn(\n"
     ]
    },
    {
     "name": "stdout",
     "output_type": "stream",
     "text": [
      "[CV] END criterion=mae, max_depth=11, max_features=sqrt, min_samples_leaf=17, min_samples_split=5, n_estimators=350; total time=   0.5s\n"
     ]
    },
    {
     "name": "stderr",
     "output_type": "stream",
     "text": [
      "C:\\Users\\mayank\\anaconda3\\lib\\site-packages\\sklearn\\ensemble\\_forest.py:403: FutureWarning: Criterion 'mae' was deprecated in v1.0 and will be removed in version 1.2. Use `criterion='absolute_error'` which is equivalent.\n",
      "  warn(\n"
     ]
    },
    {
     "name": "stdout",
     "output_type": "stream",
     "text": [
      "[CV] END criterion=mae, max_depth=11, max_features=sqrt, min_samples_leaf=17, min_samples_split=5, n_estimators=350; total time=   0.5s\n"
     ]
    },
    {
     "name": "stderr",
     "output_type": "stream",
     "text": [
      "C:\\Users\\mayank\\anaconda3\\lib\\site-packages\\sklearn\\ensemble\\_forest.py:396: FutureWarning: Criterion 'mse' was deprecated in v1.0 and will be removed in version 1.2. Use `criterion='squared_error'` which is equivalent.\n",
      "  warn(\n"
     ]
    },
    {
     "name": "stdout",
     "output_type": "stream",
     "text": [
      "[CV] END criterion=mse, max_depth=191, max_features=auto, min_samples_leaf=19, min_samples_split=15, n_estimators=290; total time=   0.2s\n"
     ]
    },
    {
     "name": "stderr",
     "output_type": "stream",
     "text": [
      "C:\\Users\\mayank\\anaconda3\\lib\\site-packages\\sklearn\\ensemble\\_forest.py:396: FutureWarning: Criterion 'mse' was deprecated in v1.0 and will be removed in version 1.2. Use `criterion='squared_error'` which is equivalent.\n",
      "  warn(\n"
     ]
    },
    {
     "name": "stdout",
     "output_type": "stream",
     "text": [
      "[CV] END criterion=mse, max_depth=191, max_features=auto, min_samples_leaf=19, min_samples_split=15, n_estimators=290; total time=   0.2s\n"
     ]
    },
    {
     "name": "stderr",
     "output_type": "stream",
     "text": [
      "C:\\Users\\mayank\\anaconda3\\lib\\site-packages\\sklearn\\ensemble\\_forest.py:396: FutureWarning: Criterion 'mse' was deprecated in v1.0 and will be removed in version 1.2. Use `criterion='squared_error'` which is equivalent.\n",
      "  warn(\n"
     ]
    },
    {
     "name": "stdout",
     "output_type": "stream",
     "text": [
      "[CV] END criterion=mse, max_depth=191, max_features=auto, min_samples_leaf=19, min_samples_split=15, n_estimators=290; total time=   0.2s\n"
     ]
    },
    {
     "name": "stderr",
     "output_type": "stream",
     "text": [
      "C:\\Users\\mayank\\anaconda3\\lib\\site-packages\\sklearn\\ensemble\\_forest.py:396: FutureWarning: Criterion 'mse' was deprecated in v1.0 and will be removed in version 1.2. Use `criterion='squared_error'` which is equivalent.\n",
      "  warn(\n"
     ]
    },
    {
     "name": "stdout",
     "output_type": "stream",
     "text": [
      "[CV] END criterion=mse, max_depth=191, max_features=auto, min_samples_leaf=19, min_samples_split=15, n_estimators=290; total time=   0.2s\n"
     ]
    },
    {
     "name": "stderr",
     "output_type": "stream",
     "text": [
      "C:\\Users\\mayank\\anaconda3\\lib\\site-packages\\sklearn\\ensemble\\_forest.py:396: FutureWarning: Criterion 'mse' was deprecated in v1.0 and will be removed in version 1.2. Use `criterion='squared_error'` which is equivalent.\n",
      "  warn(\n"
     ]
    },
    {
     "name": "stdout",
     "output_type": "stream",
     "text": [
      "[CV] END criterion=mse, max_depth=191, max_features=auto, min_samples_leaf=19, min_samples_split=15, n_estimators=290; total time=   0.2s\n"
     ]
    },
    {
     "name": "stderr",
     "output_type": "stream",
     "text": [
      "C:\\Users\\mayank\\anaconda3\\lib\\site-packages\\sklearn\\ensemble\\_forest.py:396: FutureWarning: Criterion 'mse' was deprecated in v1.0 and will be removed in version 1.2. Use `criterion='squared_error'` which is equivalent.\n",
      "  warn(\n"
     ]
    },
    {
     "name": "stdout",
     "output_type": "stream",
     "text": [
      "[CV] END criterion=mse, max_depth=191, max_features=auto, min_samples_leaf=19, min_samples_split=15, n_estimators=290; total time=   0.2s\n"
     ]
    },
    {
     "name": "stderr",
     "output_type": "stream",
     "text": [
      "C:\\Users\\mayank\\anaconda3\\lib\\site-packages\\sklearn\\ensemble\\_forest.py:396: FutureWarning: Criterion 'mse' was deprecated in v1.0 and will be removed in version 1.2. Use `criterion='squared_error'` which is equivalent.\n",
      "  warn(\n"
     ]
    },
    {
     "name": "stdout",
     "output_type": "stream",
     "text": [
      "[CV] END criterion=mse, max_depth=191, max_features=auto, min_samples_leaf=19, min_samples_split=15, n_estimators=290; total time=   0.2s\n"
     ]
    },
    {
     "name": "stderr",
     "output_type": "stream",
     "text": [
      "C:\\Users\\mayank\\anaconda3\\lib\\site-packages\\sklearn\\ensemble\\_forest.py:396: FutureWarning: Criterion 'mse' was deprecated in v1.0 and will be removed in version 1.2. Use `criterion='squared_error'` which is equivalent.\n",
      "  warn(\n"
     ]
    },
    {
     "name": "stdout",
     "output_type": "stream",
     "text": [
      "[CV] END criterion=mse, max_depth=191, max_features=auto, min_samples_leaf=19, min_samples_split=15, n_estimators=290; total time=   0.2s\n"
     ]
    },
    {
     "name": "stderr",
     "output_type": "stream",
     "text": [
      "C:\\Users\\mayank\\anaconda3\\lib\\site-packages\\sklearn\\ensemble\\_forest.py:403: FutureWarning: Criterion 'mae' was deprecated in v1.0 and will be removed in version 1.2. Use `criterion='absolute_error'` which is equivalent.\n",
      "  warn(\n"
     ]
    },
    {
     "name": "stdout",
     "output_type": "stream",
     "text": [
      "[CV] END criterion=mae, max_depth=181, max_features=sqrt, min_samples_leaf=13, min_samples_split=19, n_estimators=390; total time=   0.6s\n"
     ]
    },
    {
     "name": "stderr",
     "output_type": "stream",
     "text": [
      "C:\\Users\\mayank\\anaconda3\\lib\\site-packages\\sklearn\\ensemble\\_forest.py:403: FutureWarning: Criterion 'mae' was deprecated in v1.0 and will be removed in version 1.2. Use `criterion='absolute_error'` which is equivalent.\n",
      "  warn(\n"
     ]
    },
    {
     "name": "stdout",
     "output_type": "stream",
     "text": [
      "[CV] END criterion=mae, max_depth=181, max_features=sqrt, min_samples_leaf=13, min_samples_split=19, n_estimators=390; total time=   0.5s\n"
     ]
    },
    {
     "name": "stderr",
     "output_type": "stream",
     "text": [
      "C:\\Users\\mayank\\anaconda3\\lib\\site-packages\\sklearn\\ensemble\\_forest.py:403: FutureWarning: Criterion 'mae' was deprecated in v1.0 and will be removed in version 1.2. Use `criterion='absolute_error'` which is equivalent.\n",
      "  warn(\n"
     ]
    },
    {
     "name": "stdout",
     "output_type": "stream",
     "text": [
      "[CV] END criterion=mae, max_depth=181, max_features=sqrt, min_samples_leaf=13, min_samples_split=19, n_estimators=390; total time=   0.6s\n"
     ]
    },
    {
     "name": "stderr",
     "output_type": "stream",
     "text": [
      "C:\\Users\\mayank\\anaconda3\\lib\\site-packages\\sklearn\\ensemble\\_forest.py:403: FutureWarning: Criterion 'mae' was deprecated in v1.0 and will be removed in version 1.2. Use `criterion='absolute_error'` which is equivalent.\n",
      "  warn(\n"
     ]
    },
    {
     "name": "stdout",
     "output_type": "stream",
     "text": [
      "[CV] END criterion=mae, max_depth=181, max_features=sqrt, min_samples_leaf=13, min_samples_split=19, n_estimators=390; total time=   0.6s\n"
     ]
    },
    {
     "name": "stderr",
     "output_type": "stream",
     "text": [
      "C:\\Users\\mayank\\anaconda3\\lib\\site-packages\\sklearn\\ensemble\\_forest.py:403: FutureWarning: Criterion 'mae' was deprecated in v1.0 and will be removed in version 1.2. Use `criterion='absolute_error'` which is equivalent.\n",
      "  warn(\n"
     ]
    },
    {
     "name": "stdout",
     "output_type": "stream",
     "text": [
      "[CV] END criterion=mae, max_depth=181, max_features=sqrt, min_samples_leaf=13, min_samples_split=19, n_estimators=390; total time=   0.6s\n"
     ]
    },
    {
     "name": "stderr",
     "output_type": "stream",
     "text": [
      "C:\\Users\\mayank\\anaconda3\\lib\\site-packages\\sklearn\\ensemble\\_forest.py:403: FutureWarning: Criterion 'mae' was deprecated in v1.0 and will be removed in version 1.2. Use `criterion='absolute_error'` which is equivalent.\n",
      "  warn(\n"
     ]
    },
    {
     "name": "stdout",
     "output_type": "stream",
     "text": [
      "[CV] END criterion=mae, max_depth=181, max_features=sqrt, min_samples_leaf=13, min_samples_split=19, n_estimators=390; total time=   0.6s\n"
     ]
    },
    {
     "name": "stderr",
     "output_type": "stream",
     "text": [
      "C:\\Users\\mayank\\anaconda3\\lib\\site-packages\\sklearn\\ensemble\\_forest.py:403: FutureWarning: Criterion 'mae' was deprecated in v1.0 and will be removed in version 1.2. Use `criterion='absolute_error'` which is equivalent.\n",
      "  warn(\n"
     ]
    },
    {
     "name": "stdout",
     "output_type": "stream",
     "text": [
      "[CV] END criterion=mae, max_depth=181, max_features=sqrt, min_samples_leaf=13, min_samples_split=19, n_estimators=390; total time=   0.6s\n"
     ]
    },
    {
     "name": "stderr",
     "output_type": "stream",
     "text": [
      "C:\\Users\\mayank\\anaconda3\\lib\\site-packages\\sklearn\\ensemble\\_forest.py:403: FutureWarning: Criterion 'mae' was deprecated in v1.0 and will be removed in version 1.2. Use `criterion='absolute_error'` which is equivalent.\n",
      "  warn(\n"
     ]
    },
    {
     "name": "stdout",
     "output_type": "stream",
     "text": [
      "[CV] END criterion=mae, max_depth=181, max_features=sqrt, min_samples_leaf=13, min_samples_split=19, n_estimators=390; total time=   0.6s\n",
      "[CV] END criterion=mse, max_depth=131, max_features=auto, min_samples_leaf=13, min_samples_split=17, n_estimators=70; total time=   0.0s\n",
      "[CV] END criterion=mse, max_depth=131, max_features=auto, min_samples_leaf=13, min_samples_split=17, n_estimators=70; total time=   0.0s\n"
     ]
    },
    {
     "name": "stderr",
     "output_type": "stream",
     "text": [
      "C:\\Users\\mayank\\anaconda3\\lib\\site-packages\\sklearn\\ensemble\\_forest.py:396: FutureWarning: Criterion 'mse' was deprecated in v1.0 and will be removed in version 1.2. Use `criterion='squared_error'` which is equivalent.\n",
      "  warn(\n",
      "C:\\Users\\mayank\\anaconda3\\lib\\site-packages\\sklearn\\ensemble\\_forest.py:396: FutureWarning: Criterion 'mse' was deprecated in v1.0 and will be removed in version 1.2. Use `criterion='squared_error'` which is equivalent.\n",
      "  warn(\n",
      "C:\\Users\\mayank\\anaconda3\\lib\\site-packages\\sklearn\\ensemble\\_forest.py:396: FutureWarning: Criterion 'mse' was deprecated in v1.0 and will be removed in version 1.2. Use `criterion='squared_error'` which is equivalent.\n",
      "  warn(\n"
     ]
    },
    {
     "name": "stdout",
     "output_type": "stream",
     "text": [
      "[CV] END criterion=mse, max_depth=131, max_features=auto, min_samples_leaf=13, min_samples_split=17, n_estimators=70; total time=   0.0s\n",
      "[CV] END criterion=mse, max_depth=131, max_features=auto, min_samples_leaf=13, min_samples_split=17, n_estimators=70; total time=   0.0s\n",
      "[CV] END criterion=mse, max_depth=131, max_features=auto, min_samples_leaf=13, min_samples_split=17, n_estimators=70; total time=   0.0s\n"
     ]
    },
    {
     "name": "stderr",
     "output_type": "stream",
     "text": [
      "C:\\Users\\mayank\\anaconda3\\lib\\site-packages\\sklearn\\ensemble\\_forest.py:396: FutureWarning: Criterion 'mse' was deprecated in v1.0 and will be removed in version 1.2. Use `criterion='squared_error'` which is equivalent.\n",
      "  warn(\n",
      "C:\\Users\\mayank\\anaconda3\\lib\\site-packages\\sklearn\\ensemble\\_forest.py:396: FutureWarning: Criterion 'mse' was deprecated in v1.0 and will be removed in version 1.2. Use `criterion='squared_error'` which is equivalent.\n",
      "  warn(\n",
      "C:\\Users\\mayank\\anaconda3\\lib\\site-packages\\sklearn\\ensemble\\_forest.py:396: FutureWarning: Criterion 'mse' was deprecated in v1.0 and will be removed in version 1.2. Use `criterion='squared_error'` which is equivalent.\n",
      "  warn(\n"
     ]
    },
    {
     "name": "stdout",
     "output_type": "stream",
     "text": [
      "[CV] END criterion=mse, max_depth=131, max_features=auto, min_samples_leaf=13, min_samples_split=17, n_estimators=70; total time=   0.0s\n",
      "[CV] END criterion=mse, max_depth=131, max_features=auto, min_samples_leaf=13, min_samples_split=17, n_estimators=70; total time=   0.0s\n",
      "[CV] END criterion=mse, max_depth=131, max_features=auto, min_samples_leaf=13, min_samples_split=17, n_estimators=70; total time=   0.0s\n"
     ]
    },
    {
     "name": "stderr",
     "output_type": "stream",
     "text": [
      "C:\\Users\\mayank\\anaconda3\\lib\\site-packages\\sklearn\\ensemble\\_forest.py:396: FutureWarning: Criterion 'mse' was deprecated in v1.0 and will be removed in version 1.2. Use `criterion='squared_error'` which is equivalent.\n",
      "  warn(\n",
      "C:\\Users\\mayank\\anaconda3\\lib\\site-packages\\sklearn\\ensemble\\_forest.py:396: FutureWarning: Criterion 'mse' was deprecated in v1.0 and will be removed in version 1.2. Use `criterion='squared_error'` which is equivalent.\n",
      "  warn(\n",
      "C:\\Users\\mayank\\anaconda3\\lib\\site-packages\\sklearn\\ensemble\\_forest.py:403: FutureWarning: Criterion 'mae' was deprecated in v1.0 and will be removed in version 1.2. Use `criterion='absolute_error'` which is equivalent.\n",
      "  warn(\n"
     ]
    },
    {
     "name": "stdout",
     "output_type": "stream",
     "text": [
      "[CV] END criterion=mae, max_depth=1, max_features=auto, min_samples_leaf=1, min_samples_split=17, n_estimators=170; total time=   0.2s\n"
     ]
    },
    {
     "name": "stderr",
     "output_type": "stream",
     "text": [
      "C:\\Users\\mayank\\anaconda3\\lib\\site-packages\\sklearn\\ensemble\\_forest.py:403: FutureWarning: Criterion 'mae' was deprecated in v1.0 and will be removed in version 1.2. Use `criterion='absolute_error'` which is equivalent.\n",
      "  warn(\n"
     ]
    },
    {
     "name": "stdout",
     "output_type": "stream",
     "text": [
      "[CV] END criterion=mae, max_depth=1, max_features=auto, min_samples_leaf=1, min_samples_split=17, n_estimators=170; total time=   0.2s\n"
     ]
    },
    {
     "name": "stderr",
     "output_type": "stream",
     "text": [
      "C:\\Users\\mayank\\anaconda3\\lib\\site-packages\\sklearn\\ensemble\\_forest.py:403: FutureWarning: Criterion 'mae' was deprecated in v1.0 and will be removed in version 1.2. Use `criterion='absolute_error'` which is equivalent.\n",
      "  warn(\n"
     ]
    },
    {
     "name": "stdout",
     "output_type": "stream",
     "text": [
      "[CV] END criterion=mae, max_depth=1, max_features=auto, min_samples_leaf=1, min_samples_split=17, n_estimators=170; total time=   0.2s\n"
     ]
    },
    {
     "name": "stderr",
     "output_type": "stream",
     "text": [
      "C:\\Users\\mayank\\anaconda3\\lib\\site-packages\\sklearn\\ensemble\\_forest.py:403: FutureWarning: Criterion 'mae' was deprecated in v1.0 and will be removed in version 1.2. Use `criterion='absolute_error'` which is equivalent.\n",
      "  warn(\n"
     ]
    },
    {
     "name": "stdout",
     "output_type": "stream",
     "text": [
      "[CV] END criterion=mae, max_depth=1, max_features=auto, min_samples_leaf=1, min_samples_split=17, n_estimators=170; total time=   0.2s\n"
     ]
    },
    {
     "name": "stderr",
     "output_type": "stream",
     "text": [
      "C:\\Users\\mayank\\anaconda3\\lib\\site-packages\\sklearn\\ensemble\\_forest.py:403: FutureWarning: Criterion 'mae' was deprecated in v1.0 and will be removed in version 1.2. Use `criterion='absolute_error'` which is equivalent.\n",
      "  warn(\n"
     ]
    },
    {
     "name": "stdout",
     "output_type": "stream",
     "text": [
      "[CV] END criterion=mae, max_depth=1, max_features=auto, min_samples_leaf=1, min_samples_split=17, n_estimators=170; total time=   0.2s\n"
     ]
    },
    {
     "name": "stderr",
     "output_type": "stream",
     "text": [
      "C:\\Users\\mayank\\anaconda3\\lib\\site-packages\\sklearn\\ensemble\\_forest.py:403: FutureWarning: Criterion 'mae' was deprecated in v1.0 and will be removed in version 1.2. Use `criterion='absolute_error'` which is equivalent.\n",
      "  warn(\n"
     ]
    },
    {
     "name": "stdout",
     "output_type": "stream",
     "text": [
      "[CV] END criterion=mae, max_depth=1, max_features=auto, min_samples_leaf=1, min_samples_split=17, n_estimators=170; total time=   0.2s\n"
     ]
    },
    {
     "name": "stderr",
     "output_type": "stream",
     "text": [
      "C:\\Users\\mayank\\anaconda3\\lib\\site-packages\\sklearn\\ensemble\\_forest.py:403: FutureWarning: Criterion 'mae' was deprecated in v1.0 and will be removed in version 1.2. Use `criterion='absolute_error'` which is equivalent.\n",
      "  warn(\n"
     ]
    },
    {
     "name": "stdout",
     "output_type": "stream",
     "text": [
      "[CV] END criterion=mae, max_depth=1, max_features=auto, min_samples_leaf=1, min_samples_split=17, n_estimators=170; total time=   0.2s\n"
     ]
    },
    {
     "name": "stderr",
     "output_type": "stream",
     "text": [
      "C:\\Users\\mayank\\anaconda3\\lib\\site-packages\\sklearn\\ensemble\\_forest.py:403: FutureWarning: Criterion 'mae' was deprecated in v1.0 and will be removed in version 1.2. Use `criterion='absolute_error'` which is equivalent.\n",
      "  warn(\n"
     ]
    },
    {
     "name": "stdout",
     "output_type": "stream",
     "text": [
      "[CV] END criterion=mae, max_depth=1, max_features=auto, min_samples_leaf=1, min_samples_split=17, n_estimators=170; total time=   0.2s\n",
      "[CV] END criterion=mae, max_depth=71, max_features=log2, min_samples_leaf=17, min_samples_split=1, n_estimators=110; total time=   0.0s\n",
      "[CV] END criterion=mae, max_depth=71, max_features=log2, min_samples_leaf=17, min_samples_split=1, n_estimators=110; total time=   0.0s\n",
      "[CV] END criterion=mae, max_depth=71, max_features=log2, min_samples_leaf=17, min_samples_split=1, n_estimators=110; total time=   0.0s\n",
      "[CV] END criterion=mae, max_depth=71, max_features=log2, min_samples_leaf=17, min_samples_split=1, n_estimators=110; total time=   0.0s\n",
      "[CV] END criterion=mae, max_depth=71, max_features=log2, min_samples_leaf=17, min_samples_split=1, n_estimators=110; total time=   0.0s\n",
      "[CV] END criterion=mae, max_depth=71, max_features=log2, min_samples_leaf=17, min_samples_split=1, n_estimators=110; total time=   0.0s\n"
     ]
    },
    {
     "name": "stderr",
     "output_type": "stream",
     "text": [
      "C:\\Users\\mayank\\anaconda3\\lib\\site-packages\\sklearn\\ensemble\\_forest.py:403: FutureWarning: Criterion 'mae' was deprecated in v1.0 and will be removed in version 1.2. Use `criterion='absolute_error'` which is equivalent.\n",
      "  warn(\n",
      "C:\\Users\\mayank\\anaconda3\\lib\\site-packages\\sklearn\\ensemble\\_forest.py:403: FutureWarning: Criterion 'mae' was deprecated in v1.0 and will be removed in version 1.2. Use `criterion='absolute_error'` which is equivalent.\n",
      "  warn(\n",
      "C:\\Users\\mayank\\anaconda3\\lib\\site-packages\\sklearn\\ensemble\\_forest.py:403: FutureWarning: Criterion 'mae' was deprecated in v1.0 and will be removed in version 1.2. Use `criterion='absolute_error'` which is equivalent.\n",
      "  warn(\n",
      "C:\\Users\\mayank\\anaconda3\\lib\\site-packages\\sklearn\\ensemble\\_forest.py:403: FutureWarning: Criterion 'mae' was deprecated in v1.0 and will be removed in version 1.2. Use `criterion='absolute_error'` which is equivalent.\n",
      "  warn(\n",
      "C:\\Users\\mayank\\anaconda3\\lib\\site-packages\\sklearn\\ensemble\\_forest.py:403: FutureWarning: Criterion 'mae' was deprecated in v1.0 and will be removed in version 1.2. Use `criterion='absolute_error'` which is equivalent.\n",
      "  warn(\n",
      "C:\\Users\\mayank\\anaconda3\\lib\\site-packages\\sklearn\\ensemble\\_forest.py:403: FutureWarning: Criterion 'mae' was deprecated in v1.0 and will be removed in version 1.2. Use `criterion='absolute_error'` which is equivalent.\n",
      "  warn(\n",
      "C:\\Users\\mayank\\anaconda3\\lib\\site-packages\\sklearn\\ensemble\\_forest.py:403: FutureWarning: Criterion 'mae' was deprecated in v1.0 and will be removed in version 1.2. Use `criterion='absolute_error'` which is equivalent.\n",
      "  warn(\n"
     ]
    },
    {
     "name": "stdout",
     "output_type": "stream",
     "text": [
      "[CV] END criterion=mae, max_depth=71, max_features=log2, min_samples_leaf=17, min_samples_split=1, n_estimators=110; total time=   0.0s\n",
      "[CV] END criterion=mae, max_depth=71, max_features=log2, min_samples_leaf=17, min_samples_split=1, n_estimators=110; total time=   0.0s\n"
     ]
    },
    {
     "name": "stderr",
     "output_type": "stream",
     "text": [
      "C:\\Users\\mayank\\anaconda3\\lib\\site-packages\\sklearn\\ensemble\\_forest.py:403: FutureWarning: Criterion 'mae' was deprecated in v1.0 and will be removed in version 1.2. Use `criterion='absolute_error'` which is equivalent.\n",
      "  warn(\n",
      "C:\\Users\\mayank\\anaconda3\\lib\\site-packages\\sklearn\\ensemble\\_forest.py:396: FutureWarning: Criterion 'mse' was deprecated in v1.0 and will be removed in version 1.2. Use `criterion='squared_error'` which is equivalent.\n",
      "  warn(\n"
     ]
    },
    {
     "name": "stdout",
     "output_type": "stream",
     "text": [
      "[CV] END criterion=mse, max_depth=161, max_features=sqrt, min_samples_leaf=1, min_samples_split=19, n_estimators=330; total time=   0.2s\n"
     ]
    },
    {
     "name": "stderr",
     "output_type": "stream",
     "text": [
      "C:\\Users\\mayank\\anaconda3\\lib\\site-packages\\sklearn\\ensemble\\_forest.py:396: FutureWarning: Criterion 'mse' was deprecated in v1.0 and will be removed in version 1.2. Use `criterion='squared_error'` which is equivalent.\n",
      "  warn(\n"
     ]
    },
    {
     "name": "stdout",
     "output_type": "stream",
     "text": [
      "[CV] END criterion=mse, max_depth=161, max_features=sqrt, min_samples_leaf=1, min_samples_split=19, n_estimators=330; total time=   0.2s\n"
     ]
    },
    {
     "name": "stderr",
     "output_type": "stream",
     "text": [
      "C:\\Users\\mayank\\anaconda3\\lib\\site-packages\\sklearn\\ensemble\\_forest.py:396: FutureWarning: Criterion 'mse' was deprecated in v1.0 and will be removed in version 1.2. Use `criterion='squared_error'` which is equivalent.\n",
      "  warn(\n"
     ]
    },
    {
     "name": "stdout",
     "output_type": "stream",
     "text": [
      "[CV] END criterion=mse, max_depth=161, max_features=sqrt, min_samples_leaf=1, min_samples_split=19, n_estimators=330; total time=   0.2s\n"
     ]
    },
    {
     "name": "stderr",
     "output_type": "stream",
     "text": [
      "C:\\Users\\mayank\\anaconda3\\lib\\site-packages\\sklearn\\ensemble\\_forest.py:396: FutureWarning: Criterion 'mse' was deprecated in v1.0 and will be removed in version 1.2. Use `criterion='squared_error'` which is equivalent.\n",
      "  warn(\n"
     ]
    },
    {
     "name": "stdout",
     "output_type": "stream",
     "text": [
      "[CV] END criterion=mse, max_depth=161, max_features=sqrt, min_samples_leaf=1, min_samples_split=19, n_estimators=330; total time=   0.2s\n"
     ]
    },
    {
     "name": "stderr",
     "output_type": "stream",
     "text": [
      "C:\\Users\\mayank\\anaconda3\\lib\\site-packages\\sklearn\\ensemble\\_forest.py:396: FutureWarning: Criterion 'mse' was deprecated in v1.0 and will be removed in version 1.2. Use `criterion='squared_error'` which is equivalent.\n",
      "  warn(\n"
     ]
    },
    {
     "name": "stdout",
     "output_type": "stream",
     "text": [
      "[CV] END criterion=mse, max_depth=161, max_features=sqrt, min_samples_leaf=1, min_samples_split=19, n_estimators=330; total time=   0.2s\n"
     ]
    },
    {
     "name": "stderr",
     "output_type": "stream",
     "text": [
      "C:\\Users\\mayank\\anaconda3\\lib\\site-packages\\sklearn\\ensemble\\_forest.py:396: FutureWarning: Criterion 'mse' was deprecated in v1.0 and will be removed in version 1.2. Use `criterion='squared_error'` which is equivalent.\n",
      "  warn(\n"
     ]
    },
    {
     "name": "stdout",
     "output_type": "stream",
     "text": [
      "[CV] END criterion=mse, max_depth=161, max_features=sqrt, min_samples_leaf=1, min_samples_split=19, n_estimators=330; total time=   0.2s\n"
     ]
    },
    {
     "name": "stderr",
     "output_type": "stream",
     "text": [
      "C:\\Users\\mayank\\anaconda3\\lib\\site-packages\\sklearn\\ensemble\\_forest.py:396: FutureWarning: Criterion 'mse' was deprecated in v1.0 and will be removed in version 1.2. Use `criterion='squared_error'` which is equivalent.\n",
      "  warn(\n"
     ]
    },
    {
     "name": "stdout",
     "output_type": "stream",
     "text": [
      "[CV] END criterion=mse, max_depth=161, max_features=sqrt, min_samples_leaf=1, min_samples_split=19, n_estimators=330; total time=   0.2s\n"
     ]
    },
    {
     "name": "stderr",
     "output_type": "stream",
     "text": [
      "C:\\Users\\mayank\\anaconda3\\lib\\site-packages\\sklearn\\ensemble\\_forest.py:396: FutureWarning: Criterion 'mse' was deprecated in v1.0 and will be removed in version 1.2. Use `criterion='squared_error'` which is equivalent.\n",
      "  warn(\n"
     ]
    },
    {
     "name": "stdout",
     "output_type": "stream",
     "text": [
      "[CV] END criterion=mse, max_depth=161, max_features=sqrt, min_samples_leaf=1, min_samples_split=19, n_estimators=330; total time=   0.2s\n",
      "[CV] END criterion=mse, max_depth=21, max_features=auto, min_samples_leaf=11, min_samples_split=5, n_estimators=70; total time=   0.0s\n",
      "[CV] END criterion=mse, max_depth=21, max_features=auto, min_samples_leaf=11, min_samples_split=5, n_estimators=70; total time=   0.0s\n"
     ]
    },
    {
     "name": "stderr",
     "output_type": "stream",
     "text": [
      "C:\\Users\\mayank\\anaconda3\\lib\\site-packages\\sklearn\\ensemble\\_forest.py:396: FutureWarning: Criterion 'mse' was deprecated in v1.0 and will be removed in version 1.2. Use `criterion='squared_error'` which is equivalent.\n",
      "  warn(\n",
      "C:\\Users\\mayank\\anaconda3\\lib\\site-packages\\sklearn\\ensemble\\_forest.py:396: FutureWarning: Criterion 'mse' was deprecated in v1.0 and will be removed in version 1.2. Use `criterion='squared_error'` which is equivalent.\n",
      "  warn(\n",
      "C:\\Users\\mayank\\anaconda3\\lib\\site-packages\\sklearn\\ensemble\\_forest.py:396: FutureWarning: Criterion 'mse' was deprecated in v1.0 and will be removed in version 1.2. Use `criterion='squared_error'` which is equivalent.\n",
      "  warn(\n"
     ]
    },
    {
     "name": "stdout",
     "output_type": "stream",
     "text": [
      "[CV] END criterion=mse, max_depth=21, max_features=auto, min_samples_leaf=11, min_samples_split=5, n_estimators=70; total time=   0.0s\n",
      "[CV] END criterion=mse, max_depth=21, max_features=auto, min_samples_leaf=11, min_samples_split=5, n_estimators=70; total time=   0.0s\n",
      "[CV] END criterion=mse, max_depth=21, max_features=auto, min_samples_leaf=11, min_samples_split=5, n_estimators=70; total time=   0.0s\n"
     ]
    },
    {
     "name": "stderr",
     "output_type": "stream",
     "text": [
      "C:\\Users\\mayank\\anaconda3\\lib\\site-packages\\sklearn\\ensemble\\_forest.py:396: FutureWarning: Criterion 'mse' was deprecated in v1.0 and will be removed in version 1.2. Use `criterion='squared_error'` which is equivalent.\n",
      "  warn(\n",
      "C:\\Users\\mayank\\anaconda3\\lib\\site-packages\\sklearn\\ensemble\\_forest.py:396: FutureWarning: Criterion 'mse' was deprecated in v1.0 and will be removed in version 1.2. Use `criterion='squared_error'` which is equivalent.\n",
      "  warn(\n",
      "C:\\Users\\mayank\\anaconda3\\lib\\site-packages\\sklearn\\ensemble\\_forest.py:396: FutureWarning: Criterion 'mse' was deprecated in v1.0 and will be removed in version 1.2. Use `criterion='squared_error'` which is equivalent.\n",
      "  warn(\n"
     ]
    },
    {
     "name": "stdout",
     "output_type": "stream",
     "text": [
      "[CV] END criterion=mse, max_depth=21, max_features=auto, min_samples_leaf=11, min_samples_split=5, n_estimators=70; total time=   0.0s\n",
      "[CV] END criterion=mse, max_depth=21, max_features=auto, min_samples_leaf=11, min_samples_split=5, n_estimators=70; total time=   0.0s\n",
      "[CV] END criterion=mse, max_depth=21, max_features=auto, min_samples_leaf=11, min_samples_split=5, n_estimators=70; total time=   0.0s\n",
      "[CV] END criterion=mae, max_depth=191, max_features=auto, min_samples_leaf=3, min_samples_split=1, n_estimators=70; total time=   0.0s\n"
     ]
    },
    {
     "name": "stderr",
     "output_type": "stream",
     "text": [
      "C:\\Users\\mayank\\anaconda3\\lib\\site-packages\\sklearn\\ensemble\\_forest.py:396: FutureWarning: Criterion 'mse' was deprecated in v1.0 and will be removed in version 1.2. Use `criterion='squared_error'` which is equivalent.\n",
      "  warn(\n",
      "C:\\Users\\mayank\\anaconda3\\lib\\site-packages\\sklearn\\ensemble\\_forest.py:396: FutureWarning: Criterion 'mse' was deprecated in v1.0 and will be removed in version 1.2. Use `criterion='squared_error'` which is equivalent.\n",
      "  warn(\n",
      "C:\\Users\\mayank\\anaconda3\\lib\\site-packages\\sklearn\\ensemble\\_forest.py:403: FutureWarning: Criterion 'mae' was deprecated in v1.0 and will be removed in version 1.2. Use `criterion='absolute_error'` which is equivalent.\n",
      "  warn(\n",
      "C:\\Users\\mayank\\anaconda3\\lib\\site-packages\\sklearn\\ensemble\\_forest.py:403: FutureWarning: Criterion 'mae' was deprecated in v1.0 and will be removed in version 1.2. Use `criterion='absolute_error'` which is equivalent.\n",
      "  warn(\n"
     ]
    },
    {
     "name": "stdout",
     "output_type": "stream",
     "text": [
      "[CV] END criterion=mae, max_depth=191, max_features=auto, min_samples_leaf=3, min_samples_split=1, n_estimators=70; total time=   0.0s\n",
      "[CV] END criterion=mae, max_depth=191, max_features=auto, min_samples_leaf=3, min_samples_split=1, n_estimators=70; total time=   0.0s\n",
      "[CV] END criterion=mae, max_depth=191, max_features=auto, min_samples_leaf=3, min_samples_split=1, n_estimators=70; total time=   0.0s\n",
      "[CV] END criterion=mae, max_depth=191, max_features=auto, min_samples_leaf=3, min_samples_split=1, n_estimators=70; total time=   0.0s\n",
      "[CV] END criterion=mae, max_depth=191, max_features=auto, min_samples_leaf=3, min_samples_split=1, n_estimators=70; total time=   0.0s\n",
      "[CV] END criterion=mae, max_depth=191, max_features=auto, min_samples_leaf=3, min_samples_split=1, n_estimators=70; total time=   0.0s\n",
      "[CV] END criterion=mae, max_depth=191, max_features=auto, min_samples_leaf=3, min_samples_split=1, n_estimators=70; total time=   0.0s\n"
     ]
    },
    {
     "name": "stderr",
     "output_type": "stream",
     "text": [
      "C:\\Users\\mayank\\anaconda3\\lib\\site-packages\\sklearn\\ensemble\\_forest.py:403: FutureWarning: Criterion 'mae' was deprecated in v1.0 and will be removed in version 1.2. Use `criterion='absolute_error'` which is equivalent.\n",
      "  warn(\n",
      "C:\\Users\\mayank\\anaconda3\\lib\\site-packages\\sklearn\\ensemble\\_forest.py:403: FutureWarning: Criterion 'mae' was deprecated in v1.0 and will be removed in version 1.2. Use `criterion='absolute_error'` which is equivalent.\n",
      "  warn(\n",
      "C:\\Users\\mayank\\anaconda3\\lib\\site-packages\\sklearn\\ensemble\\_forest.py:403: FutureWarning: Criterion 'mae' was deprecated in v1.0 and will be removed in version 1.2. Use `criterion='absolute_error'` which is equivalent.\n",
      "  warn(\n",
      "C:\\Users\\mayank\\anaconda3\\lib\\site-packages\\sklearn\\ensemble\\_forest.py:403: FutureWarning: Criterion 'mae' was deprecated in v1.0 and will be removed in version 1.2. Use `criterion='absolute_error'` which is equivalent.\n",
      "  warn(\n",
      "C:\\Users\\mayank\\anaconda3\\lib\\site-packages\\sklearn\\ensemble\\_forest.py:403: FutureWarning: Criterion 'mae' was deprecated in v1.0 and will be removed in version 1.2. Use `criterion='absolute_error'` which is equivalent.\n",
      "  warn(\n",
      "C:\\Users\\mayank\\anaconda3\\lib\\site-packages\\sklearn\\ensemble\\_forest.py:403: FutureWarning: Criterion 'mae' was deprecated in v1.0 and will be removed in version 1.2. Use `criterion='absolute_error'` which is equivalent.\n",
      "  warn(\n",
      "C:\\Users\\mayank\\anaconda3\\lib\\site-packages\\sklearn\\ensemble\\_forest.py:403: FutureWarning: Criterion 'mae' was deprecated in v1.0 and will be removed in version 1.2. Use `criterion='absolute_error'` which is equivalent.\n",
      "  warn(\n"
     ]
    },
    {
     "name": "stdout",
     "output_type": "stream",
     "text": [
      "[CV] END criterion=mae, max_depth=21, max_features=log2, min_samples_leaf=5, min_samples_split=7, n_estimators=50; total time=   0.0s\n",
      "[CV] END criterion=mae, max_depth=21, max_features=log2, min_samples_leaf=5, min_samples_split=7, n_estimators=50; total time=   0.0s\n",
      "[CV] END criterion=mae, max_depth=21, max_features=log2, min_samples_leaf=5, min_samples_split=7, n_estimators=50; total time=   0.0s\n"
     ]
    },
    {
     "name": "stderr",
     "output_type": "stream",
     "text": [
      "C:\\Users\\mayank\\anaconda3\\lib\\site-packages\\sklearn\\ensemble\\_forest.py:403: FutureWarning: Criterion 'mae' was deprecated in v1.0 and will be removed in version 1.2. Use `criterion='absolute_error'` which is equivalent.\n",
      "  warn(\n",
      "C:\\Users\\mayank\\anaconda3\\lib\\site-packages\\sklearn\\ensemble\\_forest.py:403: FutureWarning: Criterion 'mae' was deprecated in v1.0 and will be removed in version 1.2. Use `criterion='absolute_error'` which is equivalent.\n",
      "  warn(\n",
      "C:\\Users\\mayank\\anaconda3\\lib\\site-packages\\sklearn\\ensemble\\_forest.py:403: FutureWarning: Criterion 'mae' was deprecated in v1.0 and will be removed in version 1.2. Use `criterion='absolute_error'` which is equivalent.\n",
      "  warn(\n"
     ]
    },
    {
     "name": "stdout",
     "output_type": "stream",
     "text": [
      "[CV] END criterion=mae, max_depth=21, max_features=log2, min_samples_leaf=5, min_samples_split=7, n_estimators=50; total time=   0.0s\n",
      "[CV] END criterion=mae, max_depth=21, max_features=log2, min_samples_leaf=5, min_samples_split=7, n_estimators=50; total time=   0.0s\n",
      "[CV] END criterion=mae, max_depth=21, max_features=log2, min_samples_leaf=5, min_samples_split=7, n_estimators=50; total time=   0.0s\n"
     ]
    },
    {
     "name": "stderr",
     "output_type": "stream",
     "text": [
      "C:\\Users\\mayank\\anaconda3\\lib\\site-packages\\sklearn\\ensemble\\_forest.py:403: FutureWarning: Criterion 'mae' was deprecated in v1.0 and will be removed in version 1.2. Use `criterion='absolute_error'` which is equivalent.\n",
      "  warn(\n",
      "C:\\Users\\mayank\\anaconda3\\lib\\site-packages\\sklearn\\ensemble\\_forest.py:403: FutureWarning: Criterion 'mae' was deprecated in v1.0 and will be removed in version 1.2. Use `criterion='absolute_error'` which is equivalent.\n",
      "  warn(\n",
      "C:\\Users\\mayank\\anaconda3\\lib\\site-packages\\sklearn\\ensemble\\_forest.py:403: FutureWarning: Criterion 'mae' was deprecated in v1.0 and will be removed in version 1.2. Use `criterion='absolute_error'` which is equivalent.\n",
      "  warn(\n"
     ]
    },
    {
     "name": "stdout",
     "output_type": "stream",
     "text": [
      "[CV] END criterion=mae, max_depth=21, max_features=log2, min_samples_leaf=5, min_samples_split=7, n_estimators=50; total time=   0.0s\n",
      "[CV] END criterion=mae, max_depth=21, max_features=log2, min_samples_leaf=5, min_samples_split=7, n_estimators=50; total time=   0.0s\n"
     ]
    },
    {
     "name": "stderr",
     "output_type": "stream",
     "text": [
      "C:\\Users\\mayank\\anaconda3\\lib\\site-packages\\sklearn\\ensemble\\_forest.py:403: FutureWarning: Criterion 'mae' was deprecated in v1.0 and will be removed in version 1.2. Use `criterion='absolute_error'` which is equivalent.\n",
      "  warn(\n",
      "C:\\Users\\mayank\\anaconda3\\lib\\site-packages\\sklearn\\ensemble\\_forest.py:403: FutureWarning: Criterion 'mae' was deprecated in v1.0 and will be removed in version 1.2. Use `criterion='absolute_error'` which is equivalent.\n",
      "  warn(\n"
     ]
    },
    {
     "name": "stdout",
     "output_type": "stream",
     "text": [
      "[CV] END criterion=mae, max_depth=151, max_features=auto, min_samples_leaf=11, min_samples_split=7, n_estimators=210; total time=   0.7s\n"
     ]
    },
    {
     "name": "stderr",
     "output_type": "stream",
     "text": [
      "C:\\Users\\mayank\\anaconda3\\lib\\site-packages\\sklearn\\ensemble\\_forest.py:403: FutureWarning: Criterion 'mae' was deprecated in v1.0 and will be removed in version 1.2. Use `criterion='absolute_error'` which is equivalent.\n",
      "  warn(\n"
     ]
    },
    {
     "name": "stdout",
     "output_type": "stream",
     "text": [
      "[CV] END criterion=mae, max_depth=151, max_features=auto, min_samples_leaf=11, min_samples_split=7, n_estimators=210; total time=   0.7s\n"
     ]
    },
    {
     "name": "stderr",
     "output_type": "stream",
     "text": [
      "C:\\Users\\mayank\\anaconda3\\lib\\site-packages\\sklearn\\ensemble\\_forest.py:403: FutureWarning: Criterion 'mae' was deprecated in v1.0 and will be removed in version 1.2. Use `criterion='absolute_error'` which is equivalent.\n",
      "  warn(\n"
     ]
    },
    {
     "name": "stdout",
     "output_type": "stream",
     "text": [
      "[CV] END criterion=mae, max_depth=151, max_features=auto, min_samples_leaf=11, min_samples_split=7, n_estimators=210; total time=   0.7s\n"
     ]
    },
    {
     "name": "stderr",
     "output_type": "stream",
     "text": [
      "C:\\Users\\mayank\\anaconda3\\lib\\site-packages\\sklearn\\ensemble\\_forest.py:403: FutureWarning: Criterion 'mae' was deprecated in v1.0 and will be removed in version 1.2. Use `criterion='absolute_error'` which is equivalent.\n",
      "  warn(\n"
     ]
    },
    {
     "name": "stdout",
     "output_type": "stream",
     "text": [
      "[CV] END criterion=mae, max_depth=151, max_features=auto, min_samples_leaf=11, min_samples_split=7, n_estimators=210; total time=   0.7s\n"
     ]
    },
    {
     "name": "stderr",
     "output_type": "stream",
     "text": [
      "C:\\Users\\mayank\\anaconda3\\lib\\site-packages\\sklearn\\ensemble\\_forest.py:403: FutureWarning: Criterion 'mae' was deprecated in v1.0 and will be removed in version 1.2. Use `criterion='absolute_error'` which is equivalent.\n",
      "  warn(\n"
     ]
    },
    {
     "name": "stdout",
     "output_type": "stream",
     "text": [
      "[CV] END criterion=mae, max_depth=151, max_features=auto, min_samples_leaf=11, min_samples_split=7, n_estimators=210; total time=   0.7s\n"
     ]
    },
    {
     "name": "stderr",
     "output_type": "stream",
     "text": [
      "C:\\Users\\mayank\\anaconda3\\lib\\site-packages\\sklearn\\ensemble\\_forest.py:403: FutureWarning: Criterion 'mae' was deprecated in v1.0 and will be removed in version 1.2. Use `criterion='absolute_error'` which is equivalent.\n",
      "  warn(\n"
     ]
    },
    {
     "name": "stdout",
     "output_type": "stream",
     "text": [
      "[CV] END criterion=mae, max_depth=151, max_features=auto, min_samples_leaf=11, min_samples_split=7, n_estimators=210; total time=   0.7s\n"
     ]
    },
    {
     "name": "stderr",
     "output_type": "stream",
     "text": [
      "C:\\Users\\mayank\\anaconda3\\lib\\site-packages\\sklearn\\ensemble\\_forest.py:403: FutureWarning: Criterion 'mae' was deprecated in v1.0 and will be removed in version 1.2. Use `criterion='absolute_error'` which is equivalent.\n",
      "  warn(\n"
     ]
    },
    {
     "name": "stdout",
     "output_type": "stream",
     "text": [
      "[CV] END criterion=mae, max_depth=151, max_features=auto, min_samples_leaf=11, min_samples_split=7, n_estimators=210; total time=   0.8s\n"
     ]
    },
    {
     "name": "stderr",
     "output_type": "stream",
     "text": [
      "C:\\Users\\mayank\\anaconda3\\lib\\site-packages\\sklearn\\ensemble\\_forest.py:403: FutureWarning: Criterion 'mae' was deprecated in v1.0 and will be removed in version 1.2. Use `criterion='absolute_error'` which is equivalent.\n",
      "  warn(\n"
     ]
    },
    {
     "name": "stdout",
     "output_type": "stream",
     "text": [
      "[CV] END criterion=mae, max_depth=151, max_features=auto, min_samples_leaf=11, min_samples_split=7, n_estimators=210; total time=   0.8s\n",
      "[CV] END criterion=mse, max_depth=61, max_features=auto, min_samples_leaf=13, min_samples_split=19, n_estimators=50; total time=   0.0s\n",
      "[CV] END criterion=mse, max_depth=61, max_features=auto, min_samples_leaf=13, min_samples_split=19, n_estimators=50; total time=   0.0s\n",
      "[CV] END criterion=mse, max_depth=61, max_features=auto, min_samples_leaf=13, min_samples_split=19, n_estimators=50; total time=   0.0s\n"
     ]
    },
    {
     "name": "stderr",
     "output_type": "stream",
     "text": [
      "C:\\Users\\mayank\\anaconda3\\lib\\site-packages\\sklearn\\ensemble\\_forest.py:396: FutureWarning: Criterion 'mse' was deprecated in v1.0 and will be removed in version 1.2. Use `criterion='squared_error'` which is equivalent.\n",
      "  warn(\n",
      "C:\\Users\\mayank\\anaconda3\\lib\\site-packages\\sklearn\\ensemble\\_forest.py:396: FutureWarning: Criterion 'mse' was deprecated in v1.0 and will be removed in version 1.2. Use `criterion='squared_error'` which is equivalent.\n",
      "  warn(\n",
      "C:\\Users\\mayank\\anaconda3\\lib\\site-packages\\sklearn\\ensemble\\_forest.py:396: FutureWarning: Criterion 'mse' was deprecated in v1.0 and will be removed in version 1.2. Use `criterion='squared_error'` which is equivalent.\n",
      "  warn(\n",
      "C:\\Users\\mayank\\anaconda3\\lib\\site-packages\\sklearn\\ensemble\\_forest.py:396: FutureWarning: Criterion 'mse' was deprecated in v1.0 and will be removed in version 1.2. Use `criterion='squared_error'` which is equivalent.\n",
      "  warn(\n"
     ]
    },
    {
     "name": "stdout",
     "output_type": "stream",
     "text": [
      "[CV] END criterion=mse, max_depth=61, max_features=auto, min_samples_leaf=13, min_samples_split=19, n_estimators=50; total time=   0.0s\n",
      "[CV] END criterion=mse, max_depth=61, max_features=auto, min_samples_leaf=13, min_samples_split=19, n_estimators=50; total time=   0.0s\n",
      "[CV] END criterion=mse, max_depth=61, max_features=auto, min_samples_leaf=13, min_samples_split=19, n_estimators=50; total time=   0.0s\n",
      "[CV] END criterion=mse, max_depth=61, max_features=auto, min_samples_leaf=13, min_samples_split=19, n_estimators=50; total time=   0.0s\n"
     ]
    },
    {
     "name": "stderr",
     "output_type": "stream",
     "text": [
      "C:\\Users\\mayank\\anaconda3\\lib\\site-packages\\sklearn\\ensemble\\_forest.py:396: FutureWarning: Criterion 'mse' was deprecated in v1.0 and will be removed in version 1.2. Use `criterion='squared_error'` which is equivalent.\n",
      "  warn(\n",
      "C:\\Users\\mayank\\anaconda3\\lib\\site-packages\\sklearn\\ensemble\\_forest.py:396: FutureWarning: Criterion 'mse' was deprecated in v1.0 and will be removed in version 1.2. Use `criterion='squared_error'` which is equivalent.\n",
      "  warn(\n",
      "C:\\Users\\mayank\\anaconda3\\lib\\site-packages\\sklearn\\ensemble\\_forest.py:396: FutureWarning: Criterion 'mse' was deprecated in v1.0 and will be removed in version 1.2. Use `criterion='squared_error'` which is equivalent.\n",
      "  warn(\n",
      "C:\\Users\\mayank\\anaconda3\\lib\\site-packages\\sklearn\\ensemble\\_forest.py:396: FutureWarning: Criterion 'mse' was deprecated in v1.0 and will be removed in version 1.2. Use `criterion='squared_error'` which is equivalent.\n",
      "  warn(\n"
     ]
    },
    {
     "name": "stdout",
     "output_type": "stream",
     "text": [
      "[CV] END criterion=mse, max_depth=61, max_features=auto, min_samples_leaf=13, min_samples_split=19, n_estimators=50; total time=   0.0s\n"
     ]
    },
    {
     "name": "stderr",
     "output_type": "stream",
     "text": [
      "C:\\Users\\mayank\\anaconda3\\lib\\site-packages\\sklearn\\ensemble\\_forest.py:396: FutureWarning: Criterion 'mse' was deprecated in v1.0 and will be removed in version 1.2. Use `criterion='squared_error'` which is equivalent.\n",
      "  warn(\n"
     ]
    },
    {
     "name": "stdout",
     "output_type": "stream",
     "text": [
      "[CV] END criterion=mse, max_depth=171, max_features=auto, min_samples_leaf=5, min_samples_split=5, n_estimators=410; total time=   0.5s\n"
     ]
    },
    {
     "name": "stderr",
     "output_type": "stream",
     "text": [
      "C:\\Users\\mayank\\anaconda3\\lib\\site-packages\\sklearn\\ensemble\\_forest.py:396: FutureWarning: Criterion 'mse' was deprecated in v1.0 and will be removed in version 1.2. Use `criterion='squared_error'` which is equivalent.\n",
      "  warn(\n"
     ]
    },
    {
     "name": "stdout",
     "output_type": "stream",
     "text": [
      "[CV] END criterion=mse, max_depth=171, max_features=auto, min_samples_leaf=5, min_samples_split=5, n_estimators=410; total time=   0.5s\n"
     ]
    },
    {
     "name": "stderr",
     "output_type": "stream",
     "text": [
      "C:\\Users\\mayank\\anaconda3\\lib\\site-packages\\sklearn\\ensemble\\_forest.py:396: FutureWarning: Criterion 'mse' was deprecated in v1.0 and will be removed in version 1.2. Use `criterion='squared_error'` which is equivalent.\n",
      "  warn(\n"
     ]
    },
    {
     "name": "stdout",
     "output_type": "stream",
     "text": [
      "[CV] END criterion=mse, max_depth=171, max_features=auto, min_samples_leaf=5, min_samples_split=5, n_estimators=410; total time=   0.4s\n"
     ]
    },
    {
     "name": "stderr",
     "output_type": "stream",
     "text": [
      "C:\\Users\\mayank\\anaconda3\\lib\\site-packages\\sklearn\\ensemble\\_forest.py:396: FutureWarning: Criterion 'mse' was deprecated in v1.0 and will be removed in version 1.2. Use `criterion='squared_error'` which is equivalent.\n",
      "  warn(\n"
     ]
    },
    {
     "name": "stdout",
     "output_type": "stream",
     "text": [
      "[CV] END criterion=mse, max_depth=171, max_features=auto, min_samples_leaf=5, min_samples_split=5, n_estimators=410; total time=   0.5s\n"
     ]
    },
    {
     "name": "stderr",
     "output_type": "stream",
     "text": [
      "C:\\Users\\mayank\\anaconda3\\lib\\site-packages\\sklearn\\ensemble\\_forest.py:396: FutureWarning: Criterion 'mse' was deprecated in v1.0 and will be removed in version 1.2. Use `criterion='squared_error'` which is equivalent.\n",
      "  warn(\n"
     ]
    },
    {
     "name": "stdout",
     "output_type": "stream",
     "text": [
      "[CV] END criterion=mse, max_depth=171, max_features=auto, min_samples_leaf=5, min_samples_split=5, n_estimators=410; total time=   0.5s\n"
     ]
    },
    {
     "name": "stderr",
     "output_type": "stream",
     "text": [
      "C:\\Users\\mayank\\anaconda3\\lib\\site-packages\\sklearn\\ensemble\\_forest.py:396: FutureWarning: Criterion 'mse' was deprecated in v1.0 and will be removed in version 1.2. Use `criterion='squared_error'` which is equivalent.\n",
      "  warn(\n"
     ]
    },
    {
     "name": "stdout",
     "output_type": "stream",
     "text": [
      "[CV] END criterion=mse, max_depth=171, max_features=auto, min_samples_leaf=5, min_samples_split=5, n_estimators=410; total time=   0.5s\n"
     ]
    },
    {
     "name": "stderr",
     "output_type": "stream",
     "text": [
      "C:\\Users\\mayank\\anaconda3\\lib\\site-packages\\sklearn\\ensemble\\_forest.py:396: FutureWarning: Criterion 'mse' was deprecated in v1.0 and will be removed in version 1.2. Use `criterion='squared_error'` which is equivalent.\n",
      "  warn(\n"
     ]
    },
    {
     "name": "stdout",
     "output_type": "stream",
     "text": [
      "[CV] END criterion=mse, max_depth=171, max_features=auto, min_samples_leaf=5, min_samples_split=5, n_estimators=410; total time=   0.5s\n"
     ]
    },
    {
     "name": "stderr",
     "output_type": "stream",
     "text": [
      "C:\\Users\\mayank\\anaconda3\\lib\\site-packages\\sklearn\\ensemble\\_forest.py:396: FutureWarning: Criterion 'mse' was deprecated in v1.0 and will be removed in version 1.2. Use `criterion='squared_error'` which is equivalent.\n",
      "  warn(\n"
     ]
    },
    {
     "name": "stdout",
     "output_type": "stream",
     "text": [
      "[CV] END criterion=mse, max_depth=171, max_features=auto, min_samples_leaf=5, min_samples_split=5, n_estimators=410; total time=   0.5s\n",
      "[CV] END criterion=mse, max_depth=121, max_features=sqrt, min_samples_leaf=5, min_samples_split=11, n_estimators=110; total time=   0.0s\n",
      "[CV] END criterion=mse, max_depth=121, max_features=sqrt, min_samples_leaf=5, min_samples_split=11, n_estimators=110; total time=   0.0s\n"
     ]
    },
    {
     "name": "stderr",
     "output_type": "stream",
     "text": [
      "C:\\Users\\mayank\\anaconda3\\lib\\site-packages\\sklearn\\ensemble\\_forest.py:396: FutureWarning: Criterion 'mse' was deprecated in v1.0 and will be removed in version 1.2. Use `criterion='squared_error'` which is equivalent.\n",
      "  warn(\n",
      "C:\\Users\\mayank\\anaconda3\\lib\\site-packages\\sklearn\\ensemble\\_forest.py:396: FutureWarning: Criterion 'mse' was deprecated in v1.0 and will be removed in version 1.2. Use `criterion='squared_error'` which is equivalent.\n",
      "  warn(\n",
      "C:\\Users\\mayank\\anaconda3\\lib\\site-packages\\sklearn\\ensemble\\_forest.py:396: FutureWarning: Criterion 'mse' was deprecated in v1.0 and will be removed in version 1.2. Use `criterion='squared_error'` which is equivalent.\n",
      "  warn(\n"
     ]
    },
    {
     "name": "stdout",
     "output_type": "stream",
     "text": [
      "[CV] END criterion=mse, max_depth=121, max_features=sqrt, min_samples_leaf=5, min_samples_split=11, n_estimators=110; total time=   0.0s\n",
      "[CV] END criterion=mse, max_depth=121, max_features=sqrt, min_samples_leaf=5, min_samples_split=11, n_estimators=110; total time=   0.0s\n",
      "[CV] END criterion=mse, max_depth=121, max_features=sqrt, min_samples_leaf=5, min_samples_split=11, n_estimators=110; total time=   0.0s\n"
     ]
    },
    {
     "name": "stderr",
     "output_type": "stream",
     "text": [
      "C:\\Users\\mayank\\anaconda3\\lib\\site-packages\\sklearn\\ensemble\\_forest.py:396: FutureWarning: Criterion 'mse' was deprecated in v1.0 and will be removed in version 1.2. Use `criterion='squared_error'` which is equivalent.\n",
      "  warn(\n",
      "C:\\Users\\mayank\\anaconda3\\lib\\site-packages\\sklearn\\ensemble\\_forest.py:396: FutureWarning: Criterion 'mse' was deprecated in v1.0 and will be removed in version 1.2. Use `criterion='squared_error'` which is equivalent.\n",
      "  warn(\n",
      "C:\\Users\\mayank\\anaconda3\\lib\\site-packages\\sklearn\\ensemble\\_forest.py:396: FutureWarning: Criterion 'mse' was deprecated in v1.0 and will be removed in version 1.2. Use `criterion='squared_error'` which is equivalent.\n",
      "  warn(\n"
     ]
    },
    {
     "name": "stdout",
     "output_type": "stream",
     "text": [
      "[CV] END criterion=mse, max_depth=121, max_features=sqrt, min_samples_leaf=5, min_samples_split=11, n_estimators=110; total time=   0.0s\n",
      "[CV] END criterion=mse, max_depth=121, max_features=sqrt, min_samples_leaf=5, min_samples_split=11, n_estimators=110; total time=   0.0s\n",
      "[CV] END criterion=mse, max_depth=121, max_features=sqrt, min_samples_leaf=5, min_samples_split=11, n_estimators=110; total time=   0.0s\n"
     ]
    },
    {
     "name": "stderr",
     "output_type": "stream",
     "text": [
      "C:\\Users\\mayank\\anaconda3\\lib\\site-packages\\sklearn\\ensemble\\_forest.py:396: FutureWarning: Criterion 'mse' was deprecated in v1.0 and will be removed in version 1.2. Use `criterion='squared_error'` which is equivalent.\n",
      "  warn(\n",
      "C:\\Users\\mayank\\anaconda3\\lib\\site-packages\\sklearn\\ensemble\\_forest.py:396: FutureWarning: Criterion 'mse' was deprecated in v1.0 and will be removed in version 1.2. Use `criterion='squared_error'` which is equivalent.\n",
      "  warn(\n",
      "C:\\Users\\mayank\\anaconda3\\lib\\site-packages\\sklearn\\ensemble\\_forest.py:396: FutureWarning: Criterion 'mse' was deprecated in v1.0 and will be removed in version 1.2. Use `criterion='squared_error'` which is equivalent.\n",
      "  warn(\n"
     ]
    },
    {
     "name": "stdout",
     "output_type": "stream",
     "text": [
      "[CV] END criterion=mse, max_depth=71, max_features=sqrt, min_samples_leaf=15, min_samples_split=17, n_estimators=210; total time=   0.1s\n",
      "[CV] END criterion=mse, max_depth=71, max_features=sqrt, min_samples_leaf=15, min_samples_split=17, n_estimators=210; total time=   0.1s\n"
     ]
    },
    {
     "name": "stderr",
     "output_type": "stream",
     "text": [
      "C:\\Users\\mayank\\anaconda3\\lib\\site-packages\\sklearn\\ensemble\\_forest.py:396: FutureWarning: Criterion 'mse' was deprecated in v1.0 and will be removed in version 1.2. Use `criterion='squared_error'` which is equivalent.\n",
      "  warn(\n",
      "C:\\Users\\mayank\\anaconda3\\lib\\site-packages\\sklearn\\ensemble\\_forest.py:396: FutureWarning: Criterion 'mse' was deprecated in v1.0 and will be removed in version 1.2. Use `criterion='squared_error'` which is equivalent.\n",
      "  warn(\n"
     ]
    },
    {
     "name": "stdout",
     "output_type": "stream",
     "text": [
      "[CV] END criterion=mse, max_depth=71, max_features=sqrt, min_samples_leaf=15, min_samples_split=17, n_estimators=210; total time=   0.1s\n",
      "[CV] END criterion=mse, max_depth=71, max_features=sqrt, min_samples_leaf=15, min_samples_split=17, n_estimators=210; total time=   0.1s\n"
     ]
    },
    {
     "name": "stderr",
     "output_type": "stream",
     "text": [
      "C:\\Users\\mayank\\anaconda3\\lib\\site-packages\\sklearn\\ensemble\\_forest.py:396: FutureWarning: Criterion 'mse' was deprecated in v1.0 and will be removed in version 1.2. Use `criterion='squared_error'` which is equivalent.\n",
      "  warn(\n",
      "C:\\Users\\mayank\\anaconda3\\lib\\site-packages\\sklearn\\ensemble\\_forest.py:396: FutureWarning: Criterion 'mse' was deprecated in v1.0 and will be removed in version 1.2. Use `criterion='squared_error'` which is equivalent.\n",
      "  warn(\n"
     ]
    },
    {
     "name": "stdout",
     "output_type": "stream",
     "text": [
      "[CV] END criterion=mse, max_depth=71, max_features=sqrt, min_samples_leaf=15, min_samples_split=17, n_estimators=210; total time=   0.1s\n",
      "[CV] END criterion=mse, max_depth=71, max_features=sqrt, min_samples_leaf=15, min_samples_split=17, n_estimators=210; total time=   0.1s\n"
     ]
    },
    {
     "name": "stderr",
     "output_type": "stream",
     "text": [
      "C:\\Users\\mayank\\anaconda3\\lib\\site-packages\\sklearn\\ensemble\\_forest.py:396: FutureWarning: Criterion 'mse' was deprecated in v1.0 and will be removed in version 1.2. Use `criterion='squared_error'` which is equivalent.\n",
      "  warn(\n",
      "C:\\Users\\mayank\\anaconda3\\lib\\site-packages\\sklearn\\ensemble\\_forest.py:396: FutureWarning: Criterion 'mse' was deprecated in v1.0 and will be removed in version 1.2. Use `criterion='squared_error'` which is equivalent.\n",
      "  warn(\n"
     ]
    },
    {
     "name": "stdout",
     "output_type": "stream",
     "text": [
      "[CV] END criterion=mse, max_depth=71, max_features=sqrt, min_samples_leaf=15, min_samples_split=17, n_estimators=210; total time=   0.1s\n",
      "[CV] END criterion=mse, max_depth=71, max_features=sqrt, min_samples_leaf=15, min_samples_split=17, n_estimators=210; total time=   0.1s\n"
     ]
    },
    {
     "name": "stderr",
     "output_type": "stream",
     "text": [
      "C:\\Users\\mayank\\anaconda3\\lib\\site-packages\\sklearn\\ensemble\\_forest.py:396: FutureWarning: Criterion 'mse' was deprecated in v1.0 and will be removed in version 1.2. Use `criterion='squared_error'` which is equivalent.\n",
      "  warn(\n",
      "C:\\Users\\mayank\\anaconda3\\lib\\site-packages\\sklearn\\ensemble\\_forest.py:403: FutureWarning: Criterion 'mae' was deprecated in v1.0 and will be removed in version 1.2. Use `criterion='absolute_error'` which is equivalent.\n",
      "  warn(\n"
     ]
    },
    {
     "name": "stdout",
     "output_type": "stream",
     "text": [
      "[CV] END criterion=mae, max_depth=31, max_features=log2, min_samples_leaf=19, min_samples_split=13, n_estimators=470; total time=   0.6s\n"
     ]
    },
    {
     "name": "stderr",
     "output_type": "stream",
     "text": [
      "C:\\Users\\mayank\\anaconda3\\lib\\site-packages\\sklearn\\ensemble\\_forest.py:403: FutureWarning: Criterion 'mae' was deprecated in v1.0 and will be removed in version 1.2. Use `criterion='absolute_error'` which is equivalent.\n",
      "  warn(\n"
     ]
    },
    {
     "name": "stdout",
     "output_type": "stream",
     "text": [
      "[CV] END criterion=mae, max_depth=31, max_features=log2, min_samples_leaf=19, min_samples_split=13, n_estimators=470; total time=   0.6s\n"
     ]
    },
    {
     "name": "stderr",
     "output_type": "stream",
     "text": [
      "C:\\Users\\mayank\\anaconda3\\lib\\site-packages\\sklearn\\ensemble\\_forest.py:403: FutureWarning: Criterion 'mae' was deprecated in v1.0 and will be removed in version 1.2. Use `criterion='absolute_error'` which is equivalent.\n",
      "  warn(\n"
     ]
    },
    {
     "name": "stdout",
     "output_type": "stream",
     "text": [
      "[CV] END criterion=mae, max_depth=31, max_features=log2, min_samples_leaf=19, min_samples_split=13, n_estimators=470; total time=   0.6s\n"
     ]
    },
    {
     "name": "stderr",
     "output_type": "stream",
     "text": [
      "C:\\Users\\mayank\\anaconda3\\lib\\site-packages\\sklearn\\ensemble\\_forest.py:403: FutureWarning: Criterion 'mae' was deprecated in v1.0 and will be removed in version 1.2. Use `criterion='absolute_error'` which is equivalent.\n",
      "  warn(\n"
     ]
    },
    {
     "name": "stdout",
     "output_type": "stream",
     "text": [
      "[CV] END criterion=mae, max_depth=31, max_features=log2, min_samples_leaf=19, min_samples_split=13, n_estimators=470; total time=   0.6s\n"
     ]
    },
    {
     "name": "stderr",
     "output_type": "stream",
     "text": [
      "C:\\Users\\mayank\\anaconda3\\lib\\site-packages\\sklearn\\ensemble\\_forest.py:403: FutureWarning: Criterion 'mae' was deprecated in v1.0 and will be removed in version 1.2. Use `criterion='absolute_error'` which is equivalent.\n",
      "  warn(\n"
     ]
    },
    {
     "name": "stdout",
     "output_type": "stream",
     "text": [
      "[CV] END criterion=mae, max_depth=31, max_features=log2, min_samples_leaf=19, min_samples_split=13, n_estimators=470; total time=   0.6s\n"
     ]
    },
    {
     "name": "stderr",
     "output_type": "stream",
     "text": [
      "C:\\Users\\mayank\\anaconda3\\lib\\site-packages\\sklearn\\ensemble\\_forest.py:403: FutureWarning: Criterion 'mae' was deprecated in v1.0 and will be removed in version 1.2. Use `criterion='absolute_error'` which is equivalent.\n",
      "  warn(\n"
     ]
    },
    {
     "name": "stdout",
     "output_type": "stream",
     "text": [
      "[CV] END criterion=mae, max_depth=31, max_features=log2, min_samples_leaf=19, min_samples_split=13, n_estimators=470; total time=   0.6s\n"
     ]
    },
    {
     "name": "stderr",
     "output_type": "stream",
     "text": [
      "C:\\Users\\mayank\\anaconda3\\lib\\site-packages\\sklearn\\ensemble\\_forest.py:403: FutureWarning: Criterion 'mae' was deprecated in v1.0 and will be removed in version 1.2. Use `criterion='absolute_error'` which is equivalent.\n",
      "  warn(\n"
     ]
    },
    {
     "name": "stdout",
     "output_type": "stream",
     "text": [
      "[CV] END criterion=mae, max_depth=31, max_features=log2, min_samples_leaf=19, min_samples_split=13, n_estimators=470; total time=   0.6s\n"
     ]
    },
    {
     "name": "stderr",
     "output_type": "stream",
     "text": [
      "C:\\Users\\mayank\\anaconda3\\lib\\site-packages\\sklearn\\ensemble\\_forest.py:403: FutureWarning: Criterion 'mae' was deprecated in v1.0 and will be removed in version 1.2. Use `criterion='absolute_error'` which is equivalent.\n",
      "  warn(\n"
     ]
    },
    {
     "name": "stdout",
     "output_type": "stream",
     "text": [
      "[CV] END criterion=mae, max_depth=31, max_features=log2, min_samples_leaf=19, min_samples_split=13, n_estimators=470; total time=   0.6s\n",
      "[CV] END criterion=mse, max_depth=131, max_features=log2, min_samples_leaf=3, min_samples_split=1, n_estimators=130; total time=   0.0s\n",
      "[CV] END criterion=mse, max_depth=131, max_features=log2, min_samples_leaf=3, min_samples_split=1, n_estimators=130; total time=   0.0s\n",
      "[CV] END criterion=mse, max_depth=131, max_features=log2, min_samples_leaf=3, min_samples_split=1, n_estimators=130; total time=   0.0s\n",
      "[CV] END criterion=mse, max_depth=131, max_features=log2, min_samples_leaf=3, min_samples_split=1, n_estimators=130; total time=   0.0s\n",
      "[CV] END criterion=mse, max_depth=131, max_features=log2, min_samples_leaf=3, min_samples_split=1, n_estimators=130; total time=   0.0s\n"
     ]
    },
    {
     "name": "stderr",
     "output_type": "stream",
     "text": [
      "C:\\Users\\mayank\\anaconda3\\lib\\site-packages\\sklearn\\ensemble\\_forest.py:396: FutureWarning: Criterion 'mse' was deprecated in v1.0 and will be removed in version 1.2. Use `criterion='squared_error'` which is equivalent.\n",
      "  warn(\n",
      "C:\\Users\\mayank\\anaconda3\\lib\\site-packages\\sklearn\\ensemble\\_forest.py:396: FutureWarning: Criterion 'mse' was deprecated in v1.0 and will be removed in version 1.2. Use `criterion='squared_error'` which is equivalent.\n",
      "  warn(\n",
      "C:\\Users\\mayank\\anaconda3\\lib\\site-packages\\sklearn\\ensemble\\_forest.py:396: FutureWarning: Criterion 'mse' was deprecated in v1.0 and will be removed in version 1.2. Use `criterion='squared_error'` which is equivalent.\n",
      "  warn(\n",
      "C:\\Users\\mayank\\anaconda3\\lib\\site-packages\\sklearn\\ensemble\\_forest.py:396: FutureWarning: Criterion 'mse' was deprecated in v1.0 and will be removed in version 1.2. Use `criterion='squared_error'` which is equivalent.\n",
      "  warn(\n",
      "C:\\Users\\mayank\\anaconda3\\lib\\site-packages\\sklearn\\ensemble\\_forest.py:396: FutureWarning: Criterion 'mse' was deprecated in v1.0 and will be removed in version 1.2. Use `criterion='squared_error'` which is equivalent.\n",
      "  warn(\n",
      "C:\\Users\\mayank\\anaconda3\\lib\\site-packages\\sklearn\\ensemble\\_forest.py:396: FutureWarning: Criterion 'mse' was deprecated in v1.0 and will be removed in version 1.2. Use `criterion='squared_error'` which is equivalent.\n",
      "  warn(\n"
     ]
    },
    {
     "name": "stdout",
     "output_type": "stream",
     "text": [
      "[CV] END criterion=mse, max_depth=131, max_features=log2, min_samples_leaf=3, min_samples_split=1, n_estimators=130; total time=   0.0s\n",
      "[CV] END criterion=mse, max_depth=131, max_features=log2, min_samples_leaf=3, min_samples_split=1, n_estimators=130; total time=   0.0s\n",
      "[CV] END criterion=mse, max_depth=131, max_features=log2, min_samples_leaf=3, min_samples_split=1, n_estimators=130; total time=   0.0s\n"
     ]
    },
    {
     "name": "stderr",
     "output_type": "stream",
     "text": [
      "C:\\Users\\mayank\\anaconda3\\lib\\site-packages\\sklearn\\ensemble\\_forest.py:396: FutureWarning: Criterion 'mse' was deprecated in v1.0 and will be removed in version 1.2. Use `criterion='squared_error'` which is equivalent.\n",
      "  warn(\n",
      "C:\\Users\\mayank\\anaconda3\\lib\\site-packages\\sklearn\\ensemble\\_forest.py:396: FutureWarning: Criterion 'mse' was deprecated in v1.0 and will be removed in version 1.2. Use `criterion='squared_error'` which is equivalent.\n",
      "  warn(\n",
      "C:\\Users\\mayank\\anaconda3\\lib\\site-packages\\sklearn\\ensemble\\_forest.py:403: FutureWarning: Criterion 'mae' was deprecated in v1.0 and will be removed in version 1.2. Use `criterion='absolute_error'` which is equivalent.\n",
      "  warn(\n"
     ]
    },
    {
     "name": "stdout",
     "output_type": "stream",
     "text": [
      "[CV] END criterion=mae, max_depth=141, max_features=sqrt, min_samples_leaf=19, min_samples_split=9, n_estimators=470; total time=   0.6s\n"
     ]
    },
    {
     "name": "stderr",
     "output_type": "stream",
     "text": [
      "C:\\Users\\mayank\\anaconda3\\lib\\site-packages\\sklearn\\ensemble\\_forest.py:403: FutureWarning: Criterion 'mae' was deprecated in v1.0 and will be removed in version 1.2. Use `criterion='absolute_error'` which is equivalent.\n",
      "  warn(\n"
     ]
    },
    {
     "name": "stdout",
     "output_type": "stream",
     "text": [
      "[CV] END criterion=mae, max_depth=141, max_features=sqrt, min_samples_leaf=19, min_samples_split=9, n_estimators=470; total time=   0.6s\n"
     ]
    },
    {
     "name": "stderr",
     "output_type": "stream",
     "text": [
      "C:\\Users\\mayank\\anaconda3\\lib\\site-packages\\sklearn\\ensemble\\_forest.py:403: FutureWarning: Criterion 'mae' was deprecated in v1.0 and will be removed in version 1.2. Use `criterion='absolute_error'` which is equivalent.\n",
      "  warn(\n"
     ]
    },
    {
     "name": "stdout",
     "output_type": "stream",
     "text": [
      "[CV] END criterion=mae, max_depth=141, max_features=sqrt, min_samples_leaf=19, min_samples_split=9, n_estimators=470; total time=   0.6s\n"
     ]
    },
    {
     "name": "stderr",
     "output_type": "stream",
     "text": [
      "C:\\Users\\mayank\\anaconda3\\lib\\site-packages\\sklearn\\ensemble\\_forest.py:403: FutureWarning: Criterion 'mae' was deprecated in v1.0 and will be removed in version 1.2. Use `criterion='absolute_error'` which is equivalent.\n",
      "  warn(\n"
     ]
    },
    {
     "name": "stdout",
     "output_type": "stream",
     "text": [
      "[CV] END criterion=mae, max_depth=141, max_features=sqrt, min_samples_leaf=19, min_samples_split=9, n_estimators=470; total time=   0.6s\n"
     ]
    },
    {
     "name": "stderr",
     "output_type": "stream",
     "text": [
      "C:\\Users\\mayank\\anaconda3\\lib\\site-packages\\sklearn\\ensemble\\_forest.py:403: FutureWarning: Criterion 'mae' was deprecated in v1.0 and will be removed in version 1.2. Use `criterion='absolute_error'` which is equivalent.\n",
      "  warn(\n"
     ]
    },
    {
     "name": "stdout",
     "output_type": "stream",
     "text": [
      "[CV] END criterion=mae, max_depth=141, max_features=sqrt, min_samples_leaf=19, min_samples_split=9, n_estimators=470; total time=   0.6s\n"
     ]
    },
    {
     "name": "stderr",
     "output_type": "stream",
     "text": [
      "C:\\Users\\mayank\\anaconda3\\lib\\site-packages\\sklearn\\ensemble\\_forest.py:403: FutureWarning: Criterion 'mae' was deprecated in v1.0 and will be removed in version 1.2. Use `criterion='absolute_error'` which is equivalent.\n",
      "  warn(\n"
     ]
    },
    {
     "name": "stdout",
     "output_type": "stream",
     "text": [
      "[CV] END criterion=mae, max_depth=141, max_features=sqrt, min_samples_leaf=19, min_samples_split=9, n_estimators=470; total time=   0.6s\n"
     ]
    },
    {
     "name": "stderr",
     "output_type": "stream",
     "text": [
      "C:\\Users\\mayank\\anaconda3\\lib\\site-packages\\sklearn\\ensemble\\_forest.py:403: FutureWarning: Criterion 'mae' was deprecated in v1.0 and will be removed in version 1.2. Use `criterion='absolute_error'` which is equivalent.\n",
      "  warn(\n"
     ]
    },
    {
     "name": "stdout",
     "output_type": "stream",
     "text": [
      "[CV] END criterion=mae, max_depth=141, max_features=sqrt, min_samples_leaf=19, min_samples_split=9, n_estimators=470; total time=   0.6s\n"
     ]
    },
    {
     "name": "stderr",
     "output_type": "stream",
     "text": [
      "C:\\Users\\mayank\\anaconda3\\lib\\site-packages\\sklearn\\ensemble\\_forest.py:403: FutureWarning: Criterion 'mae' was deprecated in v1.0 and will be removed in version 1.2. Use `criterion='absolute_error'` which is equivalent.\n",
      "  warn(\n"
     ]
    },
    {
     "name": "stdout",
     "output_type": "stream",
     "text": [
      "[CV] END criterion=mae, max_depth=141, max_features=sqrt, min_samples_leaf=19, min_samples_split=9, n_estimators=470; total time=   0.6s\n",
      "[CV] END criterion=mse, max_depth=161, max_features=sqrt, min_samples_leaf=3, min_samples_split=1, n_estimators=430; total time=   0.0s\n"
     ]
    },
    {
     "name": "stderr",
     "output_type": "stream",
     "text": [
      "C:\\Users\\mayank\\anaconda3\\lib\\site-packages\\sklearn\\ensemble\\_forest.py:396: FutureWarning: Criterion 'mse' was deprecated in v1.0 and will be removed in version 1.2. Use `criterion='squared_error'` which is equivalent.\n",
      "  warn(\n",
      "C:\\Users\\mayank\\anaconda3\\lib\\site-packages\\sklearn\\ensemble\\_forest.py:396: FutureWarning: Criterion 'mse' was deprecated in v1.0 and will be removed in version 1.2. Use `criterion='squared_error'` which is equivalent.\n",
      "  warn(\n"
     ]
    },
    {
     "name": "stdout",
     "output_type": "stream",
     "text": [
      "[CV] END criterion=mse, max_depth=161, max_features=sqrt, min_samples_leaf=3, min_samples_split=1, n_estimators=430; total time=   0.0s\n",
      "[CV] END criterion=mse, max_depth=161, max_features=sqrt, min_samples_leaf=3, min_samples_split=1, n_estimators=430; total time=   0.0s\n"
     ]
    },
    {
     "name": "stderr",
     "output_type": "stream",
     "text": [
      "C:\\Users\\mayank\\anaconda3\\lib\\site-packages\\sklearn\\ensemble\\_forest.py:396: FutureWarning: Criterion 'mse' was deprecated in v1.0 and will be removed in version 1.2. Use `criterion='squared_error'` which is equivalent.\n",
      "  warn(\n",
      "C:\\Users\\mayank\\anaconda3\\lib\\site-packages\\sklearn\\ensemble\\_forest.py:396: FutureWarning: Criterion 'mse' was deprecated in v1.0 and will be removed in version 1.2. Use `criterion='squared_error'` which is equivalent.\n",
      "  warn(\n"
     ]
    },
    {
     "name": "stdout",
     "output_type": "stream",
     "text": [
      "[CV] END criterion=mse, max_depth=161, max_features=sqrt, min_samples_leaf=3, min_samples_split=1, n_estimators=430; total time=   0.0s\n",
      "[CV] END criterion=mse, max_depth=161, max_features=sqrt, min_samples_leaf=3, min_samples_split=1, n_estimators=430; total time=   0.0s\n"
     ]
    },
    {
     "name": "stderr",
     "output_type": "stream",
     "text": [
      "C:\\Users\\mayank\\anaconda3\\lib\\site-packages\\sklearn\\ensemble\\_forest.py:396: FutureWarning: Criterion 'mse' was deprecated in v1.0 and will be removed in version 1.2. Use `criterion='squared_error'` which is equivalent.\n",
      "  warn(\n",
      "C:\\Users\\mayank\\anaconda3\\lib\\site-packages\\sklearn\\ensemble\\_forest.py:396: FutureWarning: Criterion 'mse' was deprecated in v1.0 and will be removed in version 1.2. Use `criterion='squared_error'` which is equivalent.\n",
      "  warn(\n"
     ]
    },
    {
     "name": "stdout",
     "output_type": "stream",
     "text": [
      "[CV] END criterion=mse, max_depth=161, max_features=sqrt, min_samples_leaf=3, min_samples_split=1, n_estimators=430; total time=   0.0s\n",
      "[CV] END criterion=mse, max_depth=161, max_features=sqrt, min_samples_leaf=3, min_samples_split=1, n_estimators=430; total time=   0.0s\n"
     ]
    },
    {
     "name": "stderr",
     "output_type": "stream",
     "text": [
      "C:\\Users\\mayank\\anaconda3\\lib\\site-packages\\sklearn\\ensemble\\_forest.py:396: FutureWarning: Criterion 'mse' was deprecated in v1.0 and will be removed in version 1.2. Use `criterion='squared_error'` which is equivalent.\n",
      "  warn(\n",
      "C:\\Users\\mayank\\anaconda3\\lib\\site-packages\\sklearn\\ensemble\\_forest.py:396: FutureWarning: Criterion 'mse' was deprecated in v1.0 and will be removed in version 1.2. Use `criterion='squared_error'` which is equivalent.\n",
      "  warn(\n"
     ]
    },
    {
     "name": "stdout",
     "output_type": "stream",
     "text": [
      "[CV] END criterion=mse, max_depth=161, max_features=sqrt, min_samples_leaf=3, min_samples_split=1, n_estimators=430; total time=   0.0s\n",
      "[CV] END criterion=mse, max_depth=151, max_features=log2, min_samples_leaf=9, min_samples_split=17, n_estimators=210; total time=   0.1s\n"
     ]
    },
    {
     "name": "stderr",
     "output_type": "stream",
     "text": [
      "C:\\Users\\mayank\\anaconda3\\lib\\site-packages\\sklearn\\ensemble\\_forest.py:396: FutureWarning: Criterion 'mse' was deprecated in v1.0 and will be removed in version 1.2. Use `criterion='squared_error'` which is equivalent.\n",
      "  warn(\n",
      "C:\\Users\\mayank\\anaconda3\\lib\\site-packages\\sklearn\\ensemble\\_forest.py:396: FutureWarning: Criterion 'mse' was deprecated in v1.0 and will be removed in version 1.2. Use `criterion='squared_error'` which is equivalent.\n",
      "  warn(\n"
     ]
    },
    {
     "name": "stdout",
     "output_type": "stream",
     "text": [
      "[CV] END criterion=mse, max_depth=151, max_features=log2, min_samples_leaf=9, min_samples_split=17, n_estimators=210; total time=   0.1s\n",
      "[CV] END criterion=mse, max_depth=151, max_features=log2, min_samples_leaf=9, min_samples_split=17, n_estimators=210; total time=   0.1s\n"
     ]
    },
    {
     "name": "stderr",
     "output_type": "stream",
     "text": [
      "C:\\Users\\mayank\\anaconda3\\lib\\site-packages\\sklearn\\ensemble\\_forest.py:396: FutureWarning: Criterion 'mse' was deprecated in v1.0 and will be removed in version 1.2. Use `criterion='squared_error'` which is equivalent.\n",
      "  warn(\n",
      "C:\\Users\\mayank\\anaconda3\\lib\\site-packages\\sklearn\\ensemble\\_forest.py:396: FutureWarning: Criterion 'mse' was deprecated in v1.0 and will be removed in version 1.2. Use `criterion='squared_error'` which is equivalent.\n",
      "  warn(\n"
     ]
    },
    {
     "name": "stdout",
     "output_type": "stream",
     "text": [
      "[CV] END criterion=mse, max_depth=151, max_features=log2, min_samples_leaf=9, min_samples_split=17, n_estimators=210; total time=   0.1s\n",
      "[CV] END criterion=mse, max_depth=151, max_features=log2, min_samples_leaf=9, min_samples_split=17, n_estimators=210; total time=   0.1s\n"
     ]
    },
    {
     "name": "stderr",
     "output_type": "stream",
     "text": [
      "C:\\Users\\mayank\\anaconda3\\lib\\site-packages\\sklearn\\ensemble\\_forest.py:396: FutureWarning: Criterion 'mse' was deprecated in v1.0 and will be removed in version 1.2. Use `criterion='squared_error'` which is equivalent.\n",
      "  warn(\n",
      "C:\\Users\\mayank\\anaconda3\\lib\\site-packages\\sklearn\\ensemble\\_forest.py:396: FutureWarning: Criterion 'mse' was deprecated in v1.0 and will be removed in version 1.2. Use `criterion='squared_error'` which is equivalent.\n",
      "  warn(\n"
     ]
    },
    {
     "name": "stdout",
     "output_type": "stream",
     "text": [
      "[CV] END criterion=mse, max_depth=151, max_features=log2, min_samples_leaf=9, min_samples_split=17, n_estimators=210; total time=   0.1s\n",
      "[CV] END criterion=mse, max_depth=151, max_features=log2, min_samples_leaf=9, min_samples_split=17, n_estimators=210; total time=   0.1s\n"
     ]
    },
    {
     "name": "stderr",
     "output_type": "stream",
     "text": [
      "C:\\Users\\mayank\\anaconda3\\lib\\site-packages\\sklearn\\ensemble\\_forest.py:396: FutureWarning: Criterion 'mse' was deprecated in v1.0 and will be removed in version 1.2. Use `criterion='squared_error'` which is equivalent.\n",
      "  warn(\n",
      "C:\\Users\\mayank\\anaconda3\\lib\\site-packages\\sklearn\\ensemble\\_forest.py:396: FutureWarning: Criterion 'mse' was deprecated in v1.0 and will be removed in version 1.2. Use `criterion='squared_error'` which is equivalent.\n",
      "  warn(\n"
     ]
    },
    {
     "name": "stdout",
     "output_type": "stream",
     "text": [
      "[CV] END criterion=mse, max_depth=151, max_features=log2, min_samples_leaf=9, min_samples_split=17, n_estimators=210; total time=   0.1s\n",
      "[CV] END criterion=mse, max_depth=101, max_features=log2, min_samples_leaf=3, min_samples_split=15, n_estimators=130; total time=   0.0s\n"
     ]
    },
    {
     "name": "stderr",
     "output_type": "stream",
     "text": [
      "C:\\Users\\mayank\\anaconda3\\lib\\site-packages\\sklearn\\ensemble\\_forest.py:396: FutureWarning: Criterion 'mse' was deprecated in v1.0 and will be removed in version 1.2. Use `criterion='squared_error'` which is equivalent.\n",
      "  warn(\n",
      "C:\\Users\\mayank\\anaconda3\\lib\\site-packages\\sklearn\\ensemble\\_forest.py:396: FutureWarning: Criterion 'mse' was deprecated in v1.0 and will be removed in version 1.2. Use `criterion='squared_error'` which is equivalent.\n",
      "  warn(\n"
     ]
    },
    {
     "name": "stdout",
     "output_type": "stream",
     "text": [
      "[CV] END criterion=mse, max_depth=101, max_features=log2, min_samples_leaf=3, min_samples_split=15, n_estimators=130; total time=   0.0s\n",
      "[CV] END criterion=mse, max_depth=101, max_features=log2, min_samples_leaf=3, min_samples_split=15, n_estimators=130; total time=   0.0s\n"
     ]
    },
    {
     "name": "stderr",
     "output_type": "stream",
     "text": [
      "C:\\Users\\mayank\\anaconda3\\lib\\site-packages\\sklearn\\ensemble\\_forest.py:396: FutureWarning: Criterion 'mse' was deprecated in v1.0 and will be removed in version 1.2. Use `criterion='squared_error'` which is equivalent.\n",
      "  warn(\n",
      "C:\\Users\\mayank\\anaconda3\\lib\\site-packages\\sklearn\\ensemble\\_forest.py:396: FutureWarning: Criterion 'mse' was deprecated in v1.0 and will be removed in version 1.2. Use `criterion='squared_error'` which is equivalent.\n",
      "  warn(\n"
     ]
    },
    {
     "name": "stdout",
     "output_type": "stream",
     "text": [
      "[CV] END criterion=mse, max_depth=101, max_features=log2, min_samples_leaf=3, min_samples_split=15, n_estimators=130; total time=   0.0s\n",
      "[CV] END criterion=mse, max_depth=101, max_features=log2, min_samples_leaf=3, min_samples_split=15, n_estimators=130; total time=   0.0s\n"
     ]
    },
    {
     "name": "stderr",
     "output_type": "stream",
     "text": [
      "C:\\Users\\mayank\\anaconda3\\lib\\site-packages\\sklearn\\ensemble\\_forest.py:396: FutureWarning: Criterion 'mse' was deprecated in v1.0 and will be removed in version 1.2. Use `criterion='squared_error'` which is equivalent.\n",
      "  warn(\n",
      "C:\\Users\\mayank\\anaconda3\\lib\\site-packages\\sklearn\\ensemble\\_forest.py:396: FutureWarning: Criterion 'mse' was deprecated in v1.0 and will be removed in version 1.2. Use `criterion='squared_error'` which is equivalent.\n",
      "  warn(\n"
     ]
    },
    {
     "name": "stdout",
     "output_type": "stream",
     "text": [
      "[CV] END criterion=mse, max_depth=101, max_features=log2, min_samples_leaf=3, min_samples_split=15, n_estimators=130; total time=   0.0s\n",
      "[CV] END criterion=mse, max_depth=101, max_features=log2, min_samples_leaf=3, min_samples_split=15, n_estimators=130; total time=   0.0s\n"
     ]
    },
    {
     "name": "stderr",
     "output_type": "stream",
     "text": [
      "C:\\Users\\mayank\\anaconda3\\lib\\site-packages\\sklearn\\ensemble\\_forest.py:396: FutureWarning: Criterion 'mse' was deprecated in v1.0 and will be removed in version 1.2. Use `criterion='squared_error'` which is equivalent.\n",
      "  warn(\n",
      "C:\\Users\\mayank\\anaconda3\\lib\\site-packages\\sklearn\\ensemble\\_forest.py:396: FutureWarning: Criterion 'mse' was deprecated in v1.0 and will be removed in version 1.2. Use `criterion='squared_error'` which is equivalent.\n",
      "  warn(\n"
     ]
    },
    {
     "name": "stdout",
     "output_type": "stream",
     "text": [
      "[CV] END criterion=mse, max_depth=101, max_features=log2, min_samples_leaf=3, min_samples_split=15, n_estimators=130; total time=   0.0s\n",
      "[CV] END criterion=mse, max_depth=81, max_features=sqrt, min_samples_leaf=5, min_samples_split=1, n_estimators=170; total time=   0.0s\n",
      "[CV] END criterion=mse, max_depth=81, max_features=sqrt, min_samples_leaf=5, min_samples_split=1, n_estimators=170; total time=   0.0s\n",
      "[CV] END criterion=mse, max_depth=81, max_features=sqrt, min_samples_leaf=5, min_samples_split=1, n_estimators=170; total time=   0.0s\n",
      "[CV] END criterion=mse, max_depth=81, max_features=sqrt, min_samples_leaf=5, min_samples_split=1, n_estimators=170; total time=   0.0s\n"
     ]
    },
    {
     "name": "stderr",
     "output_type": "stream",
     "text": [
      "C:\\Users\\mayank\\anaconda3\\lib\\site-packages\\sklearn\\ensemble\\_forest.py:396: FutureWarning: Criterion 'mse' was deprecated in v1.0 and will be removed in version 1.2. Use `criterion='squared_error'` which is equivalent.\n",
      "  warn(\n",
      "C:\\Users\\mayank\\anaconda3\\lib\\site-packages\\sklearn\\ensemble\\_forest.py:396: FutureWarning: Criterion 'mse' was deprecated in v1.0 and will be removed in version 1.2. Use `criterion='squared_error'` which is equivalent.\n",
      "  warn(\n",
      "C:\\Users\\mayank\\anaconda3\\lib\\site-packages\\sklearn\\ensemble\\_forest.py:396: FutureWarning: Criterion 'mse' was deprecated in v1.0 and will be removed in version 1.2. Use `criterion='squared_error'` which is equivalent.\n",
      "  warn(\n",
      "C:\\Users\\mayank\\anaconda3\\lib\\site-packages\\sklearn\\ensemble\\_forest.py:396: FutureWarning: Criterion 'mse' was deprecated in v1.0 and will be removed in version 1.2. Use `criterion='squared_error'` which is equivalent.\n",
      "  warn(\n",
      "C:\\Users\\mayank\\anaconda3\\lib\\site-packages\\sklearn\\ensemble\\_forest.py:396: FutureWarning: Criterion 'mse' was deprecated in v1.0 and will be removed in version 1.2. Use `criterion='squared_error'` which is equivalent.\n",
      "  warn(\n"
     ]
    },
    {
     "name": "stdout",
     "output_type": "stream",
     "text": [
      "[CV] END criterion=mse, max_depth=81, max_features=sqrt, min_samples_leaf=5, min_samples_split=1, n_estimators=170; total time=   0.0s\n",
      "[CV] END criterion=mse, max_depth=81, max_features=sqrt, min_samples_leaf=5, min_samples_split=1, n_estimators=170; total time=   0.0s\n",
      "[CV] END criterion=mse, max_depth=81, max_features=sqrt, min_samples_leaf=5, min_samples_split=1, n_estimators=170; total time=   0.0s\n",
      "[CV] END criterion=mse, max_depth=81, max_features=sqrt, min_samples_leaf=5, min_samples_split=1, n_estimators=170; total time=   0.0s\n"
     ]
    },
    {
     "name": "stderr",
     "output_type": "stream",
     "text": [
      "C:\\Users\\mayank\\anaconda3\\lib\\site-packages\\sklearn\\ensemble\\_forest.py:396: FutureWarning: Criterion 'mse' was deprecated in v1.0 and will be removed in version 1.2. Use `criterion='squared_error'` which is equivalent.\n",
      "  warn(\n",
      "C:\\Users\\mayank\\anaconda3\\lib\\site-packages\\sklearn\\ensemble\\_forest.py:396: FutureWarning: Criterion 'mse' was deprecated in v1.0 and will be removed in version 1.2. Use `criterion='squared_error'` which is equivalent.\n",
      "  warn(\n",
      "C:\\Users\\mayank\\anaconda3\\lib\\site-packages\\sklearn\\ensemble\\_forest.py:396: FutureWarning: Criterion 'mse' was deprecated in v1.0 and will be removed in version 1.2. Use `criterion='squared_error'` which is equivalent.\n",
      "  warn(\n",
      "C:\\Users\\mayank\\anaconda3\\lib\\site-packages\\sklearn\\ensemble\\_forest.py:396: FutureWarning: Criterion 'mse' was deprecated in v1.0 and will be removed in version 1.2. Use `criterion='squared_error'` which is equivalent.\n",
      "  warn(\n"
     ]
    },
    {
     "name": "stdout",
     "output_type": "stream",
     "text": [
      "[CV] END criterion=mse, max_depth=171, max_features=log2, min_samples_leaf=19, min_samples_split=1, n_estimators=390; total time=   0.0s\n",
      "[CV] END criterion=mse, max_depth=171, max_features=log2, min_samples_leaf=19, min_samples_split=1, n_estimators=390; total time=   0.0s\n",
      "[CV] END criterion=mse, max_depth=171, max_features=log2, min_samples_leaf=19, min_samples_split=1, n_estimators=390; total time=   0.0s\n"
     ]
    },
    {
     "name": "stderr",
     "output_type": "stream",
     "text": [
      "C:\\Users\\mayank\\anaconda3\\lib\\site-packages\\sklearn\\ensemble\\_forest.py:396: FutureWarning: Criterion 'mse' was deprecated in v1.0 and will be removed in version 1.2. Use `criterion='squared_error'` which is equivalent.\n",
      "  warn(\n",
      "C:\\Users\\mayank\\anaconda3\\lib\\site-packages\\sklearn\\ensemble\\_forest.py:396: FutureWarning: Criterion 'mse' was deprecated in v1.0 and will be removed in version 1.2. Use `criterion='squared_error'` which is equivalent.\n",
      "  warn(\n",
      "C:\\Users\\mayank\\anaconda3\\lib\\site-packages\\sklearn\\ensemble\\_forest.py:396: FutureWarning: Criterion 'mse' was deprecated in v1.0 and will be removed in version 1.2. Use `criterion='squared_error'` which is equivalent.\n",
      "  warn(\n"
     ]
    },
    {
     "name": "stdout",
     "output_type": "stream",
     "text": [
      "[CV] END criterion=mse, max_depth=171, max_features=log2, min_samples_leaf=19, min_samples_split=1, n_estimators=390; total time=   0.0s\n",
      "[CV] END criterion=mse, max_depth=171, max_features=log2, min_samples_leaf=19, min_samples_split=1, n_estimators=390; total time=   0.0s\n",
      "[CV] END criterion=mse, max_depth=171, max_features=log2, min_samples_leaf=19, min_samples_split=1, n_estimators=390; total time=   0.0s\n"
     ]
    },
    {
     "name": "stderr",
     "output_type": "stream",
     "text": [
      "C:\\Users\\mayank\\anaconda3\\lib\\site-packages\\sklearn\\ensemble\\_forest.py:396: FutureWarning: Criterion 'mse' was deprecated in v1.0 and will be removed in version 1.2. Use `criterion='squared_error'` which is equivalent.\n",
      "  warn(\n",
      "C:\\Users\\mayank\\anaconda3\\lib\\site-packages\\sklearn\\ensemble\\_forest.py:396: FutureWarning: Criterion 'mse' was deprecated in v1.0 and will be removed in version 1.2. Use `criterion='squared_error'` which is equivalent.\n",
      "  warn(\n",
      "C:\\Users\\mayank\\anaconda3\\lib\\site-packages\\sklearn\\ensemble\\_forest.py:396: FutureWarning: Criterion 'mse' was deprecated in v1.0 and will be removed in version 1.2. Use `criterion='squared_error'` which is equivalent.\n",
      "  warn(\n"
     ]
    },
    {
     "name": "stdout",
     "output_type": "stream",
     "text": [
      "[CV] END criterion=mse, max_depth=171, max_features=log2, min_samples_leaf=19, min_samples_split=1, n_estimators=390; total time=   0.0s\n",
      "[CV] END criterion=mse, max_depth=171, max_features=log2, min_samples_leaf=19, min_samples_split=1, n_estimators=390; total time=   0.0s\n",
      "[CV] END criterion=mae, max_depth=161, max_features=log2, min_samples_leaf=13, min_samples_split=1, n_estimators=410; total time=   0.0s\n"
     ]
    },
    {
     "name": "stderr",
     "output_type": "stream",
     "text": [
      "C:\\Users\\mayank\\anaconda3\\lib\\site-packages\\sklearn\\ensemble\\_forest.py:396: FutureWarning: Criterion 'mse' was deprecated in v1.0 and will be removed in version 1.2. Use `criterion='squared_error'` which is equivalent.\n",
      "  warn(\n",
      "C:\\Users\\mayank\\anaconda3\\lib\\site-packages\\sklearn\\ensemble\\_forest.py:403: FutureWarning: Criterion 'mae' was deprecated in v1.0 and will be removed in version 1.2. Use `criterion='absolute_error'` which is equivalent.\n",
      "  warn(\n",
      "C:\\Users\\mayank\\anaconda3\\lib\\site-packages\\sklearn\\ensemble\\_forest.py:403: FutureWarning: Criterion 'mae' was deprecated in v1.0 and will be removed in version 1.2. Use `criterion='absolute_error'` which is equivalent.\n",
      "  warn(\n"
     ]
    },
    {
     "name": "stdout",
     "output_type": "stream",
     "text": [
      "[CV] END criterion=mae, max_depth=161, max_features=log2, min_samples_leaf=13, min_samples_split=1, n_estimators=410; total time=   0.0s\n",
      "[CV] END criterion=mae, max_depth=161, max_features=log2, min_samples_leaf=13, min_samples_split=1, n_estimators=410; total time=   0.0s\n"
     ]
    },
    {
     "name": "stderr",
     "output_type": "stream",
     "text": [
      "C:\\Users\\mayank\\anaconda3\\lib\\site-packages\\sklearn\\ensemble\\_forest.py:403: FutureWarning: Criterion 'mae' was deprecated in v1.0 and will be removed in version 1.2. Use `criterion='absolute_error'` which is equivalent.\n",
      "  warn(\n",
      "C:\\Users\\mayank\\anaconda3\\lib\\site-packages\\sklearn\\ensemble\\_forest.py:403: FutureWarning: Criterion 'mae' was deprecated in v1.0 and will be removed in version 1.2. Use `criterion='absolute_error'` which is equivalent.\n",
      "  warn(\n"
     ]
    },
    {
     "name": "stdout",
     "output_type": "stream",
     "text": [
      "[CV] END criterion=mae, max_depth=161, max_features=log2, min_samples_leaf=13, min_samples_split=1, n_estimators=410; total time=   0.0s\n",
      "[CV] END criterion=mae, max_depth=161, max_features=log2, min_samples_leaf=13, min_samples_split=1, n_estimators=410; total time=   0.0s\n",
      "[CV] END criterion=mae, max_depth=161, max_features=log2, min_samples_leaf=13, min_samples_split=1, n_estimators=410; total time=   0.0s\n"
     ]
    },
    {
     "name": "stderr",
     "output_type": "stream",
     "text": [
      "C:\\Users\\mayank\\anaconda3\\lib\\site-packages\\sklearn\\ensemble\\_forest.py:403: FutureWarning: Criterion 'mae' was deprecated in v1.0 and will be removed in version 1.2. Use `criterion='absolute_error'` which is equivalent.\n",
      "  warn(\n",
      "C:\\Users\\mayank\\anaconda3\\lib\\site-packages\\sklearn\\ensemble\\_forest.py:403: FutureWarning: Criterion 'mae' was deprecated in v1.0 and will be removed in version 1.2. Use `criterion='absolute_error'` which is equivalent.\n",
      "  warn(\n",
      "C:\\Users\\mayank\\anaconda3\\lib\\site-packages\\sklearn\\ensemble\\_forest.py:403: FutureWarning: Criterion 'mae' was deprecated in v1.0 and will be removed in version 1.2. Use `criterion='absolute_error'` which is equivalent.\n",
      "  warn(\n"
     ]
    },
    {
     "name": "stdout",
     "output_type": "stream",
     "text": [
      "[CV] END criterion=mae, max_depth=161, max_features=log2, min_samples_leaf=13, min_samples_split=1, n_estimators=410; total time=   0.0s\n",
      "[CV] END criterion=mae, max_depth=161, max_features=log2, min_samples_leaf=13, min_samples_split=1, n_estimators=410; total time=   0.0s\n"
     ]
    },
    {
     "name": "stderr",
     "output_type": "stream",
     "text": [
      "C:\\Users\\mayank\\anaconda3\\lib\\site-packages\\sklearn\\ensemble\\_forest.py:403: FutureWarning: Criterion 'mae' was deprecated in v1.0 and will be removed in version 1.2. Use `criterion='absolute_error'` which is equivalent.\n",
      "  warn(\n",
      "C:\\Users\\mayank\\anaconda3\\lib\\site-packages\\sklearn\\ensemble\\_forest.py:403: FutureWarning: Criterion 'mae' was deprecated in v1.0 and will be removed in version 1.2. Use `criterion='absolute_error'` which is equivalent.\n",
      "  warn(\n"
     ]
    },
    {
     "name": "stdout",
     "output_type": "stream",
     "text": [
      "[CV] END criterion=mae, max_depth=71, max_features=auto, min_samples_leaf=17, min_samples_split=17, n_estimators=390; total time=   1.3s\n"
     ]
    },
    {
     "name": "stderr",
     "output_type": "stream",
     "text": [
      "C:\\Users\\mayank\\anaconda3\\lib\\site-packages\\sklearn\\ensemble\\_forest.py:403: FutureWarning: Criterion 'mae' was deprecated in v1.0 and will be removed in version 1.2. Use `criterion='absolute_error'` which is equivalent.\n",
      "  warn(\n"
     ]
    },
    {
     "name": "stdout",
     "output_type": "stream",
     "text": [
      "[CV] END criterion=mae, max_depth=71, max_features=auto, min_samples_leaf=17, min_samples_split=17, n_estimators=390; total time=   1.3s\n"
     ]
    },
    {
     "name": "stderr",
     "output_type": "stream",
     "text": [
      "C:\\Users\\mayank\\anaconda3\\lib\\site-packages\\sklearn\\ensemble\\_forest.py:403: FutureWarning: Criterion 'mae' was deprecated in v1.0 and will be removed in version 1.2. Use `criterion='absolute_error'` which is equivalent.\n",
      "  warn(\n"
     ]
    },
    {
     "name": "stdout",
     "output_type": "stream",
     "text": [
      "[CV] END criterion=mae, max_depth=71, max_features=auto, min_samples_leaf=17, min_samples_split=17, n_estimators=390; total time=   1.3s\n"
     ]
    },
    {
     "name": "stderr",
     "output_type": "stream",
     "text": [
      "C:\\Users\\mayank\\anaconda3\\lib\\site-packages\\sklearn\\ensemble\\_forest.py:403: FutureWarning: Criterion 'mae' was deprecated in v1.0 and will be removed in version 1.2. Use `criterion='absolute_error'` which is equivalent.\n",
      "  warn(\n"
     ]
    },
    {
     "name": "stdout",
     "output_type": "stream",
     "text": [
      "[CV] END criterion=mae, max_depth=71, max_features=auto, min_samples_leaf=17, min_samples_split=17, n_estimators=390; total time=   1.3s\n"
     ]
    },
    {
     "name": "stderr",
     "output_type": "stream",
     "text": [
      "C:\\Users\\mayank\\anaconda3\\lib\\site-packages\\sklearn\\ensemble\\_forest.py:403: FutureWarning: Criterion 'mae' was deprecated in v1.0 and will be removed in version 1.2. Use `criterion='absolute_error'` which is equivalent.\n",
      "  warn(\n"
     ]
    },
    {
     "name": "stdout",
     "output_type": "stream",
     "text": [
      "[CV] END criterion=mae, max_depth=71, max_features=auto, min_samples_leaf=17, min_samples_split=17, n_estimators=390; total time=   1.3s\n"
     ]
    },
    {
     "name": "stderr",
     "output_type": "stream",
     "text": [
      "C:\\Users\\mayank\\anaconda3\\lib\\site-packages\\sklearn\\ensemble\\_forest.py:403: FutureWarning: Criterion 'mae' was deprecated in v1.0 and will be removed in version 1.2. Use `criterion='absolute_error'` which is equivalent.\n",
      "  warn(\n"
     ]
    },
    {
     "name": "stdout",
     "output_type": "stream",
     "text": [
      "[CV] END criterion=mae, max_depth=71, max_features=auto, min_samples_leaf=17, min_samples_split=17, n_estimators=390; total time=   1.3s\n"
     ]
    },
    {
     "name": "stderr",
     "output_type": "stream",
     "text": [
      "C:\\Users\\mayank\\anaconda3\\lib\\site-packages\\sklearn\\ensemble\\_forest.py:403: FutureWarning: Criterion 'mae' was deprecated in v1.0 and will be removed in version 1.2. Use `criterion='absolute_error'` which is equivalent.\n",
      "  warn(\n"
     ]
    },
    {
     "name": "stdout",
     "output_type": "stream",
     "text": [
      "[CV] END criterion=mae, max_depth=71, max_features=auto, min_samples_leaf=17, min_samples_split=17, n_estimators=390; total time=   1.3s\n"
     ]
    },
    {
     "name": "stderr",
     "output_type": "stream",
     "text": [
      "C:\\Users\\mayank\\anaconda3\\lib\\site-packages\\sklearn\\ensemble\\_forest.py:403: FutureWarning: Criterion 'mae' was deprecated in v1.0 and will be removed in version 1.2. Use `criterion='absolute_error'` which is equivalent.\n",
      "  warn(\n"
     ]
    },
    {
     "name": "stdout",
     "output_type": "stream",
     "text": [
      "[CV] END criterion=mae, max_depth=71, max_features=auto, min_samples_leaf=17, min_samples_split=17, n_estimators=390; total time=   1.3s\n"
     ]
    },
    {
     "name": "stderr",
     "output_type": "stream",
     "text": [
      "C:\\Users\\mayank\\anaconda3\\lib\\site-packages\\sklearn\\ensemble\\_forest.py:403: FutureWarning: Criterion 'mae' was deprecated in v1.0 and will be removed in version 1.2. Use `criterion='absolute_error'` which is equivalent.\n",
      "  warn(\n"
     ]
    },
    {
     "name": "stdout",
     "output_type": "stream",
     "text": [
      "[CV] END criterion=mae, max_depth=151, max_features=sqrt, min_samples_leaf=3, min_samples_split=5, n_estimators=270; total time=   0.5s\n"
     ]
    },
    {
     "name": "stderr",
     "output_type": "stream",
     "text": [
      "C:\\Users\\mayank\\anaconda3\\lib\\site-packages\\sklearn\\ensemble\\_forest.py:403: FutureWarning: Criterion 'mae' was deprecated in v1.0 and will be removed in version 1.2. Use `criterion='absolute_error'` which is equivalent.\n",
      "  warn(\n"
     ]
    },
    {
     "name": "stdout",
     "output_type": "stream",
     "text": [
      "[CV] END criterion=mae, max_depth=151, max_features=sqrt, min_samples_leaf=3, min_samples_split=5, n_estimators=270; total time=   0.5s\n"
     ]
    },
    {
     "name": "stderr",
     "output_type": "stream",
     "text": [
      "C:\\Users\\mayank\\anaconda3\\lib\\site-packages\\sklearn\\ensemble\\_forest.py:403: FutureWarning: Criterion 'mae' was deprecated in v1.0 and will be removed in version 1.2. Use `criterion='absolute_error'` which is equivalent.\n",
      "  warn(\n"
     ]
    },
    {
     "name": "stdout",
     "output_type": "stream",
     "text": [
      "[CV] END criterion=mae, max_depth=151, max_features=sqrt, min_samples_leaf=3, min_samples_split=5, n_estimators=270; total time=   0.5s\n"
     ]
    },
    {
     "name": "stderr",
     "output_type": "stream",
     "text": [
      "C:\\Users\\mayank\\anaconda3\\lib\\site-packages\\sklearn\\ensemble\\_forest.py:403: FutureWarning: Criterion 'mae' was deprecated in v1.0 and will be removed in version 1.2. Use `criterion='absolute_error'` which is equivalent.\n",
      "  warn(\n"
     ]
    },
    {
     "name": "stdout",
     "output_type": "stream",
     "text": [
      "[CV] END criterion=mae, max_depth=151, max_features=sqrt, min_samples_leaf=3, min_samples_split=5, n_estimators=270; total time=   0.5s\n"
     ]
    },
    {
     "name": "stderr",
     "output_type": "stream",
     "text": [
      "C:\\Users\\mayank\\anaconda3\\lib\\site-packages\\sklearn\\ensemble\\_forest.py:403: FutureWarning: Criterion 'mae' was deprecated in v1.0 and will be removed in version 1.2. Use `criterion='absolute_error'` which is equivalent.\n",
      "  warn(\n"
     ]
    },
    {
     "name": "stdout",
     "output_type": "stream",
     "text": [
      "[CV] END criterion=mae, max_depth=151, max_features=sqrt, min_samples_leaf=3, min_samples_split=5, n_estimators=270; total time=   0.5s\n"
     ]
    },
    {
     "name": "stderr",
     "output_type": "stream",
     "text": [
      "C:\\Users\\mayank\\anaconda3\\lib\\site-packages\\sklearn\\ensemble\\_forest.py:403: FutureWarning: Criterion 'mae' was deprecated in v1.0 and will be removed in version 1.2. Use `criterion='absolute_error'` which is equivalent.\n",
      "  warn(\n"
     ]
    },
    {
     "name": "stdout",
     "output_type": "stream",
     "text": [
      "[CV] END criterion=mae, max_depth=151, max_features=sqrt, min_samples_leaf=3, min_samples_split=5, n_estimators=270; total time=   0.5s\n"
     ]
    },
    {
     "name": "stderr",
     "output_type": "stream",
     "text": [
      "C:\\Users\\mayank\\anaconda3\\lib\\site-packages\\sklearn\\ensemble\\_forest.py:403: FutureWarning: Criterion 'mae' was deprecated in v1.0 and will be removed in version 1.2. Use `criterion='absolute_error'` which is equivalent.\n",
      "  warn(\n"
     ]
    },
    {
     "name": "stdout",
     "output_type": "stream",
     "text": [
      "[CV] END criterion=mae, max_depth=151, max_features=sqrt, min_samples_leaf=3, min_samples_split=5, n_estimators=270; total time=   0.5s\n"
     ]
    },
    {
     "name": "stderr",
     "output_type": "stream",
     "text": [
      "C:\\Users\\mayank\\anaconda3\\lib\\site-packages\\sklearn\\ensemble\\_forest.py:403: FutureWarning: Criterion 'mae' was deprecated in v1.0 and will be removed in version 1.2. Use `criterion='absolute_error'` which is equivalent.\n",
      "  warn(\n"
     ]
    },
    {
     "name": "stdout",
     "output_type": "stream",
     "text": [
      "[CV] END criterion=mae, max_depth=151, max_features=sqrt, min_samples_leaf=3, min_samples_split=5, n_estimators=270; total time=   0.5s\n"
     ]
    },
    {
     "name": "stderr",
     "output_type": "stream",
     "text": [
      "C:\\Users\\mayank\\anaconda3\\lib\\site-packages\\sklearn\\ensemble\\_forest.py:396: FutureWarning: Criterion 'mse' was deprecated in v1.0 and will be removed in version 1.2. Use `criterion='squared_error'` which is equivalent.\n",
      "  warn(\n"
     ]
    },
    {
     "name": "stdout",
     "output_type": "stream",
     "text": [
      "[CV] END criterion=mse, max_depth=31, max_features=auto, min_samples_leaf=9, min_samples_split=13, n_estimators=330; total time=   0.3s\n"
     ]
    },
    {
     "name": "stderr",
     "output_type": "stream",
     "text": [
      "C:\\Users\\mayank\\anaconda3\\lib\\site-packages\\sklearn\\ensemble\\_forest.py:396: FutureWarning: Criterion 'mse' was deprecated in v1.0 and will be removed in version 1.2. Use `criterion='squared_error'` which is equivalent.\n",
      "  warn(\n"
     ]
    },
    {
     "name": "stdout",
     "output_type": "stream",
     "text": [
      "[CV] END criterion=mse, max_depth=31, max_features=auto, min_samples_leaf=9, min_samples_split=13, n_estimators=330; total time=   0.3s\n"
     ]
    },
    {
     "name": "stderr",
     "output_type": "stream",
     "text": [
      "C:\\Users\\mayank\\anaconda3\\lib\\site-packages\\sklearn\\ensemble\\_forest.py:396: FutureWarning: Criterion 'mse' was deprecated in v1.0 and will be removed in version 1.2. Use `criterion='squared_error'` which is equivalent.\n",
      "  warn(\n"
     ]
    },
    {
     "name": "stdout",
     "output_type": "stream",
     "text": [
      "[CV] END criterion=mse, max_depth=31, max_features=auto, min_samples_leaf=9, min_samples_split=13, n_estimators=330; total time=   0.3s\n"
     ]
    },
    {
     "name": "stderr",
     "output_type": "stream",
     "text": [
      "C:\\Users\\mayank\\anaconda3\\lib\\site-packages\\sklearn\\ensemble\\_forest.py:396: FutureWarning: Criterion 'mse' was deprecated in v1.0 and will be removed in version 1.2. Use `criterion='squared_error'` which is equivalent.\n",
      "  warn(\n"
     ]
    },
    {
     "name": "stdout",
     "output_type": "stream",
     "text": [
      "[CV] END criterion=mse, max_depth=31, max_features=auto, min_samples_leaf=9, min_samples_split=13, n_estimators=330; total time=   0.4s\n"
     ]
    },
    {
     "name": "stderr",
     "output_type": "stream",
     "text": [
      "C:\\Users\\mayank\\anaconda3\\lib\\site-packages\\sklearn\\ensemble\\_forest.py:396: FutureWarning: Criterion 'mse' was deprecated in v1.0 and will be removed in version 1.2. Use `criterion='squared_error'` which is equivalent.\n",
      "  warn(\n"
     ]
    },
    {
     "name": "stdout",
     "output_type": "stream",
     "text": [
      "[CV] END criterion=mse, max_depth=31, max_features=auto, min_samples_leaf=9, min_samples_split=13, n_estimators=330; total time=   0.4s\n"
     ]
    },
    {
     "name": "stderr",
     "output_type": "stream",
     "text": [
      "C:\\Users\\mayank\\anaconda3\\lib\\site-packages\\sklearn\\ensemble\\_forest.py:396: FutureWarning: Criterion 'mse' was deprecated in v1.0 and will be removed in version 1.2. Use `criterion='squared_error'` which is equivalent.\n",
      "  warn(\n"
     ]
    },
    {
     "name": "stdout",
     "output_type": "stream",
     "text": [
      "[CV] END criterion=mse, max_depth=31, max_features=auto, min_samples_leaf=9, min_samples_split=13, n_estimators=330; total time=   0.4s\n"
     ]
    },
    {
     "name": "stderr",
     "output_type": "stream",
     "text": [
      "C:\\Users\\mayank\\anaconda3\\lib\\site-packages\\sklearn\\ensemble\\_forest.py:396: FutureWarning: Criterion 'mse' was deprecated in v1.0 and will be removed in version 1.2. Use `criterion='squared_error'` which is equivalent.\n",
      "  warn(\n"
     ]
    },
    {
     "name": "stdout",
     "output_type": "stream",
     "text": [
      "[CV] END criterion=mse, max_depth=31, max_features=auto, min_samples_leaf=9, min_samples_split=13, n_estimators=330; total time=   0.4s\n"
     ]
    },
    {
     "name": "stderr",
     "output_type": "stream",
     "text": [
      "C:\\Users\\mayank\\anaconda3\\lib\\site-packages\\sklearn\\ensemble\\_forest.py:396: FutureWarning: Criterion 'mse' was deprecated in v1.0 and will be removed in version 1.2. Use `criterion='squared_error'` which is equivalent.\n",
      "  warn(\n"
     ]
    },
    {
     "name": "stdout",
     "output_type": "stream",
     "text": [
      "[CV] END criterion=mse, max_depth=31, max_features=auto, min_samples_leaf=9, min_samples_split=13, n_estimators=330; total time=   0.3s\n"
     ]
    },
    {
     "name": "stderr",
     "output_type": "stream",
     "text": [
      "C:\\Users\\mayank\\anaconda3\\lib\\site-packages\\sklearn\\ensemble\\_forest.py:396: FutureWarning: Criterion 'mse' was deprecated in v1.0 and will be removed in version 1.2. Use `criterion='squared_error'` which is equivalent.\n",
      "  warn(\n"
     ]
    },
    {
     "name": "stdout",
     "output_type": "stream",
     "text": [
      "[CV] END criterion=mse, max_depth=41, max_features=auto, min_samples_leaf=9, min_samples_split=11, n_estimators=390; total time=   0.4s\n"
     ]
    },
    {
     "name": "stderr",
     "output_type": "stream",
     "text": [
      "C:\\Users\\mayank\\anaconda3\\lib\\site-packages\\sklearn\\ensemble\\_forest.py:396: FutureWarning: Criterion 'mse' was deprecated in v1.0 and will be removed in version 1.2. Use `criterion='squared_error'` which is equivalent.\n",
      "  warn(\n"
     ]
    },
    {
     "name": "stdout",
     "output_type": "stream",
     "text": [
      "[CV] END criterion=mse, max_depth=41, max_features=auto, min_samples_leaf=9, min_samples_split=11, n_estimators=390; total time=   0.4s\n"
     ]
    },
    {
     "name": "stderr",
     "output_type": "stream",
     "text": [
      "C:\\Users\\mayank\\anaconda3\\lib\\site-packages\\sklearn\\ensemble\\_forest.py:396: FutureWarning: Criterion 'mse' was deprecated in v1.0 and will be removed in version 1.2. Use `criterion='squared_error'` which is equivalent.\n",
      "  warn(\n"
     ]
    },
    {
     "name": "stdout",
     "output_type": "stream",
     "text": [
      "[CV] END criterion=mse, max_depth=41, max_features=auto, min_samples_leaf=9, min_samples_split=11, n_estimators=390; total time=   0.4s\n"
     ]
    },
    {
     "name": "stderr",
     "output_type": "stream",
     "text": [
      "C:\\Users\\mayank\\anaconda3\\lib\\site-packages\\sklearn\\ensemble\\_forest.py:396: FutureWarning: Criterion 'mse' was deprecated in v1.0 and will be removed in version 1.2. Use `criterion='squared_error'` which is equivalent.\n",
      "  warn(\n"
     ]
    },
    {
     "name": "stdout",
     "output_type": "stream",
     "text": [
      "[CV] END criterion=mse, max_depth=41, max_features=auto, min_samples_leaf=9, min_samples_split=11, n_estimators=390; total time=   0.4s\n"
     ]
    },
    {
     "name": "stderr",
     "output_type": "stream",
     "text": [
      "C:\\Users\\mayank\\anaconda3\\lib\\site-packages\\sklearn\\ensemble\\_forest.py:396: FutureWarning: Criterion 'mse' was deprecated in v1.0 and will be removed in version 1.2. Use `criterion='squared_error'` which is equivalent.\n",
      "  warn(\n"
     ]
    },
    {
     "name": "stdout",
     "output_type": "stream",
     "text": [
      "[CV] END criterion=mse, max_depth=41, max_features=auto, min_samples_leaf=9, min_samples_split=11, n_estimators=390; total time=   0.4s\n"
     ]
    },
    {
     "name": "stderr",
     "output_type": "stream",
     "text": [
      "C:\\Users\\mayank\\anaconda3\\lib\\site-packages\\sklearn\\ensemble\\_forest.py:396: FutureWarning: Criterion 'mse' was deprecated in v1.0 and will be removed in version 1.2. Use `criterion='squared_error'` which is equivalent.\n",
      "  warn(\n"
     ]
    },
    {
     "name": "stdout",
     "output_type": "stream",
     "text": [
      "[CV] END criterion=mse, max_depth=41, max_features=auto, min_samples_leaf=9, min_samples_split=11, n_estimators=390; total time=   0.4s\n"
     ]
    },
    {
     "name": "stderr",
     "output_type": "stream",
     "text": [
      "C:\\Users\\mayank\\anaconda3\\lib\\site-packages\\sklearn\\ensemble\\_forest.py:396: FutureWarning: Criterion 'mse' was deprecated in v1.0 and will be removed in version 1.2. Use `criterion='squared_error'` which is equivalent.\n",
      "  warn(\n"
     ]
    },
    {
     "name": "stdout",
     "output_type": "stream",
     "text": [
      "[CV] END criterion=mse, max_depth=41, max_features=auto, min_samples_leaf=9, min_samples_split=11, n_estimators=390; total time=   0.4s\n"
     ]
    },
    {
     "name": "stderr",
     "output_type": "stream",
     "text": [
      "C:\\Users\\mayank\\anaconda3\\lib\\site-packages\\sklearn\\ensemble\\_forest.py:396: FutureWarning: Criterion 'mse' was deprecated in v1.0 and will be removed in version 1.2. Use `criterion='squared_error'` which is equivalent.\n",
      "  warn(\n"
     ]
    },
    {
     "name": "stdout",
     "output_type": "stream",
     "text": [
      "[CV] END criterion=mse, max_depth=41, max_features=auto, min_samples_leaf=9, min_samples_split=11, n_estimators=390; total time=   0.4s\n"
     ]
    },
    {
     "name": "stderr",
     "output_type": "stream",
     "text": [
      "C:\\Users\\mayank\\anaconda3\\lib\\site-packages\\sklearn\\ensemble\\_forest.py:396: FutureWarning: Criterion 'mse' was deprecated in v1.0 and will be removed in version 1.2. Use `criterion='squared_error'` which is equivalent.\n",
      "  warn(\n"
     ]
    },
    {
     "name": "stdout",
     "output_type": "stream",
     "text": [
      "[CV] END criterion=mse, max_depth=121, max_features=log2, min_samples_leaf=3, min_samples_split=19, n_estimators=330; total time=   0.2s\n"
     ]
    },
    {
     "name": "stderr",
     "output_type": "stream",
     "text": [
      "C:\\Users\\mayank\\anaconda3\\lib\\site-packages\\sklearn\\ensemble\\_forest.py:396: FutureWarning: Criterion 'mse' was deprecated in v1.0 and will be removed in version 1.2. Use `criterion='squared_error'` which is equivalent.\n",
      "  warn(\n"
     ]
    },
    {
     "name": "stdout",
     "output_type": "stream",
     "text": [
      "[CV] END criterion=mse, max_depth=121, max_features=log2, min_samples_leaf=3, min_samples_split=19, n_estimators=330; total time=   0.2s\n"
     ]
    },
    {
     "name": "stderr",
     "output_type": "stream",
     "text": [
      "C:\\Users\\mayank\\anaconda3\\lib\\site-packages\\sklearn\\ensemble\\_forest.py:396: FutureWarning: Criterion 'mse' was deprecated in v1.0 and will be removed in version 1.2. Use `criterion='squared_error'` which is equivalent.\n",
      "  warn(\n"
     ]
    },
    {
     "name": "stdout",
     "output_type": "stream",
     "text": [
      "[CV] END criterion=mse, max_depth=121, max_features=log2, min_samples_leaf=3, min_samples_split=19, n_estimators=330; total time=   0.2s\n"
     ]
    },
    {
     "name": "stderr",
     "output_type": "stream",
     "text": [
      "C:\\Users\\mayank\\anaconda3\\lib\\site-packages\\sklearn\\ensemble\\_forest.py:396: FutureWarning: Criterion 'mse' was deprecated in v1.0 and will be removed in version 1.2. Use `criterion='squared_error'` which is equivalent.\n",
      "  warn(\n"
     ]
    },
    {
     "name": "stdout",
     "output_type": "stream",
     "text": [
      "[CV] END criterion=mse, max_depth=121, max_features=log2, min_samples_leaf=3, min_samples_split=19, n_estimators=330; total time=   0.2s\n"
     ]
    },
    {
     "name": "stderr",
     "output_type": "stream",
     "text": [
      "C:\\Users\\mayank\\anaconda3\\lib\\site-packages\\sklearn\\ensemble\\_forest.py:396: FutureWarning: Criterion 'mse' was deprecated in v1.0 and will be removed in version 1.2. Use `criterion='squared_error'` which is equivalent.\n",
      "  warn(\n"
     ]
    },
    {
     "name": "stdout",
     "output_type": "stream",
     "text": [
      "[CV] END criterion=mse, max_depth=121, max_features=log2, min_samples_leaf=3, min_samples_split=19, n_estimators=330; total time=   0.2s\n"
     ]
    },
    {
     "name": "stderr",
     "output_type": "stream",
     "text": [
      "C:\\Users\\mayank\\anaconda3\\lib\\site-packages\\sklearn\\ensemble\\_forest.py:396: FutureWarning: Criterion 'mse' was deprecated in v1.0 and will be removed in version 1.2. Use `criterion='squared_error'` which is equivalent.\n",
      "  warn(\n"
     ]
    },
    {
     "name": "stdout",
     "output_type": "stream",
     "text": [
      "[CV] END criterion=mse, max_depth=121, max_features=log2, min_samples_leaf=3, min_samples_split=19, n_estimators=330; total time=   0.2s\n"
     ]
    },
    {
     "name": "stderr",
     "output_type": "stream",
     "text": [
      "C:\\Users\\mayank\\anaconda3\\lib\\site-packages\\sklearn\\ensemble\\_forest.py:396: FutureWarning: Criterion 'mse' was deprecated in v1.0 and will be removed in version 1.2. Use `criterion='squared_error'` which is equivalent.\n",
      "  warn(\n"
     ]
    },
    {
     "name": "stdout",
     "output_type": "stream",
     "text": [
      "[CV] END criterion=mse, max_depth=121, max_features=log2, min_samples_leaf=3, min_samples_split=19, n_estimators=330; total time=   0.2s\n"
     ]
    },
    {
     "name": "stderr",
     "output_type": "stream",
     "text": [
      "C:\\Users\\mayank\\anaconda3\\lib\\site-packages\\sklearn\\ensemble\\_forest.py:396: FutureWarning: Criterion 'mse' was deprecated in v1.0 and will be removed in version 1.2. Use `criterion='squared_error'` which is equivalent.\n",
      "  warn(\n"
     ]
    },
    {
     "name": "stdout",
     "output_type": "stream",
     "text": [
      "[CV] END criterion=mse, max_depth=121, max_features=log2, min_samples_leaf=3, min_samples_split=19, n_estimators=330; total time=   0.2s\n"
     ]
    },
    {
     "name": "stderr",
     "output_type": "stream",
     "text": [
      "C:\\Users\\mayank\\anaconda3\\lib\\site-packages\\sklearn\\ensemble\\_forest.py:396: FutureWarning: Criterion 'mse' was deprecated in v1.0 and will be removed in version 1.2. Use `criterion='squared_error'` which is equivalent.\n",
      "  warn(\n"
     ]
    },
    {
     "name": "stdout",
     "output_type": "stream",
     "text": [
      "[CV] END criterion=mse, max_depth=111, max_features=sqrt, min_samples_leaf=3, min_samples_split=3, n_estimators=490; total time=   0.4s\n"
     ]
    },
    {
     "name": "stderr",
     "output_type": "stream",
     "text": [
      "C:\\Users\\mayank\\anaconda3\\lib\\site-packages\\sklearn\\ensemble\\_forest.py:396: FutureWarning: Criterion 'mse' was deprecated in v1.0 and will be removed in version 1.2. Use `criterion='squared_error'` which is equivalent.\n",
      "  warn(\n"
     ]
    },
    {
     "name": "stdout",
     "output_type": "stream",
     "text": [
      "[CV] END criterion=mse, max_depth=111, max_features=sqrt, min_samples_leaf=3, min_samples_split=3, n_estimators=490; total time=   0.4s\n"
     ]
    },
    {
     "name": "stderr",
     "output_type": "stream",
     "text": [
      "C:\\Users\\mayank\\anaconda3\\lib\\site-packages\\sklearn\\ensemble\\_forest.py:396: FutureWarning: Criterion 'mse' was deprecated in v1.0 and will be removed in version 1.2. Use `criterion='squared_error'` which is equivalent.\n",
      "  warn(\n"
     ]
    },
    {
     "name": "stdout",
     "output_type": "stream",
     "text": [
      "[CV] END criterion=mse, max_depth=111, max_features=sqrt, min_samples_leaf=3, min_samples_split=3, n_estimators=490; total time=   0.4s\n"
     ]
    },
    {
     "name": "stderr",
     "output_type": "stream",
     "text": [
      "C:\\Users\\mayank\\anaconda3\\lib\\site-packages\\sklearn\\ensemble\\_forest.py:396: FutureWarning: Criterion 'mse' was deprecated in v1.0 and will be removed in version 1.2. Use `criterion='squared_error'` which is equivalent.\n",
      "  warn(\n"
     ]
    },
    {
     "name": "stdout",
     "output_type": "stream",
     "text": [
      "[CV] END criterion=mse, max_depth=111, max_features=sqrt, min_samples_leaf=3, min_samples_split=3, n_estimators=490; total time=   0.4s\n"
     ]
    },
    {
     "name": "stderr",
     "output_type": "stream",
     "text": [
      "C:\\Users\\mayank\\anaconda3\\lib\\site-packages\\sklearn\\ensemble\\_forest.py:396: FutureWarning: Criterion 'mse' was deprecated in v1.0 and will be removed in version 1.2. Use `criterion='squared_error'` which is equivalent.\n",
      "  warn(\n"
     ]
    },
    {
     "name": "stdout",
     "output_type": "stream",
     "text": [
      "[CV] END criterion=mse, max_depth=111, max_features=sqrt, min_samples_leaf=3, min_samples_split=3, n_estimators=490; total time=   0.4s\n"
     ]
    },
    {
     "name": "stderr",
     "output_type": "stream",
     "text": [
      "C:\\Users\\mayank\\anaconda3\\lib\\site-packages\\sklearn\\ensemble\\_forest.py:396: FutureWarning: Criterion 'mse' was deprecated in v1.0 and will be removed in version 1.2. Use `criterion='squared_error'` which is equivalent.\n",
      "  warn(\n"
     ]
    },
    {
     "name": "stdout",
     "output_type": "stream",
     "text": [
      "[CV] END criterion=mse, max_depth=111, max_features=sqrt, min_samples_leaf=3, min_samples_split=3, n_estimators=490; total time=   0.4s\n"
     ]
    },
    {
     "name": "stderr",
     "output_type": "stream",
     "text": [
      "C:\\Users\\mayank\\anaconda3\\lib\\site-packages\\sklearn\\ensemble\\_forest.py:396: FutureWarning: Criterion 'mse' was deprecated in v1.0 and will be removed in version 1.2. Use `criterion='squared_error'` which is equivalent.\n",
      "  warn(\n"
     ]
    },
    {
     "name": "stdout",
     "output_type": "stream",
     "text": [
      "[CV] END criterion=mse, max_depth=111, max_features=sqrt, min_samples_leaf=3, min_samples_split=3, n_estimators=490; total time=   0.4s\n"
     ]
    },
    {
     "name": "stderr",
     "output_type": "stream",
     "text": [
      "C:\\Users\\mayank\\anaconda3\\lib\\site-packages\\sklearn\\ensemble\\_forest.py:396: FutureWarning: Criterion 'mse' was deprecated in v1.0 and will be removed in version 1.2. Use `criterion='squared_error'` which is equivalent.\n",
      "  warn(\n"
     ]
    },
    {
     "name": "stdout",
     "output_type": "stream",
     "text": [
      "[CV] END criterion=mse, max_depth=111, max_features=sqrt, min_samples_leaf=3, min_samples_split=3, n_estimators=490; total time=   0.4s\n",
      "[CV] END criterion=mse, max_depth=51, max_features=auto, min_samples_leaf=15, min_samples_split=13, n_estimators=70; total time=   0.0s\n",
      "[CV] END criterion=mse, max_depth=51, max_features=auto, min_samples_leaf=15, min_samples_split=13, n_estimators=70; total time=   0.0s\n"
     ]
    },
    {
     "name": "stderr",
     "output_type": "stream",
     "text": [
      "C:\\Users\\mayank\\anaconda3\\lib\\site-packages\\sklearn\\ensemble\\_forest.py:396: FutureWarning: Criterion 'mse' was deprecated in v1.0 and will be removed in version 1.2. Use `criterion='squared_error'` which is equivalent.\n",
      "  warn(\n",
      "C:\\Users\\mayank\\anaconda3\\lib\\site-packages\\sklearn\\ensemble\\_forest.py:396: FutureWarning: Criterion 'mse' was deprecated in v1.0 and will be removed in version 1.2. Use `criterion='squared_error'` which is equivalent.\n",
      "  warn(\n",
      "C:\\Users\\mayank\\anaconda3\\lib\\site-packages\\sklearn\\ensemble\\_forest.py:396: FutureWarning: Criterion 'mse' was deprecated in v1.0 and will be removed in version 1.2. Use `criterion='squared_error'` which is equivalent.\n",
      "  warn(\n"
     ]
    },
    {
     "name": "stdout",
     "output_type": "stream",
     "text": [
      "[CV] END criterion=mse, max_depth=51, max_features=auto, min_samples_leaf=15, min_samples_split=13, n_estimators=70; total time=   0.0s\n",
      "[CV] END criterion=mse, max_depth=51, max_features=auto, min_samples_leaf=15, min_samples_split=13, n_estimators=70; total time=   0.0s\n",
      "[CV] END criterion=mse, max_depth=51, max_features=auto, min_samples_leaf=15, min_samples_split=13, n_estimators=70; total time=   0.0s\n"
     ]
    },
    {
     "name": "stderr",
     "output_type": "stream",
     "text": [
      "C:\\Users\\mayank\\anaconda3\\lib\\site-packages\\sklearn\\ensemble\\_forest.py:396: FutureWarning: Criterion 'mse' was deprecated in v1.0 and will be removed in version 1.2. Use `criterion='squared_error'` which is equivalent.\n",
      "  warn(\n",
      "C:\\Users\\mayank\\anaconda3\\lib\\site-packages\\sklearn\\ensemble\\_forest.py:396: FutureWarning: Criterion 'mse' was deprecated in v1.0 and will be removed in version 1.2. Use `criterion='squared_error'` which is equivalent.\n",
      "  warn(\n",
      "C:\\Users\\mayank\\anaconda3\\lib\\site-packages\\sklearn\\ensemble\\_forest.py:396: FutureWarning: Criterion 'mse' was deprecated in v1.0 and will be removed in version 1.2. Use `criterion='squared_error'` which is equivalent.\n",
      "  warn(\n"
     ]
    },
    {
     "name": "stdout",
     "output_type": "stream",
     "text": [
      "[CV] END criterion=mse, max_depth=51, max_features=auto, min_samples_leaf=15, min_samples_split=13, n_estimators=70; total time=   0.0s\n",
      "[CV] END criterion=mse, max_depth=51, max_features=auto, min_samples_leaf=15, min_samples_split=13, n_estimators=70; total time=   0.0s\n",
      "[CV] END criterion=mse, max_depth=51, max_features=auto, min_samples_leaf=15, min_samples_split=13, n_estimators=70; total time=   0.0s\n"
     ]
    },
    {
     "name": "stderr",
     "output_type": "stream",
     "text": [
      "C:\\Users\\mayank\\anaconda3\\lib\\site-packages\\sklearn\\ensemble\\_forest.py:396: FutureWarning: Criterion 'mse' was deprecated in v1.0 and will be removed in version 1.2. Use `criterion='squared_error'` which is equivalent.\n",
      "  warn(\n",
      "C:\\Users\\mayank\\anaconda3\\lib\\site-packages\\sklearn\\ensemble\\_forest.py:396: FutureWarning: Criterion 'mse' was deprecated in v1.0 and will be removed in version 1.2. Use `criterion='squared_error'` which is equivalent.\n",
      "  warn(\n",
      "C:\\Users\\mayank\\anaconda3\\lib\\site-packages\\sklearn\\ensemble\\_forest.py:396: FutureWarning: Criterion 'mse' was deprecated in v1.0 and will be removed in version 1.2. Use `criterion='squared_error'` which is equivalent.\n",
      "  warn(\n"
     ]
    },
    {
     "name": "stdout",
     "output_type": "stream",
     "text": [
      "[CV] END criterion=mse, max_depth=11, max_features=log2, min_samples_leaf=15, min_samples_split=19, n_estimators=190; total time=   0.1s\n",
      "[CV] END criterion=mse, max_depth=11, max_features=log2, min_samples_leaf=15, min_samples_split=19, n_estimators=190; total time=   0.1s\n"
     ]
    },
    {
     "name": "stderr",
     "output_type": "stream",
     "text": [
      "C:\\Users\\mayank\\anaconda3\\lib\\site-packages\\sklearn\\ensemble\\_forest.py:396: FutureWarning: Criterion 'mse' was deprecated in v1.0 and will be removed in version 1.2. Use `criterion='squared_error'` which is equivalent.\n",
      "  warn(\n",
      "C:\\Users\\mayank\\anaconda3\\lib\\site-packages\\sklearn\\ensemble\\_forest.py:396: FutureWarning: Criterion 'mse' was deprecated in v1.0 and will be removed in version 1.2. Use `criterion='squared_error'` which is equivalent.\n",
      "  warn(\n"
     ]
    },
    {
     "name": "stdout",
     "output_type": "stream",
     "text": [
      "[CV] END criterion=mse, max_depth=11, max_features=log2, min_samples_leaf=15, min_samples_split=19, n_estimators=190; total time=   0.1s\n",
      "[CV] END criterion=mse, max_depth=11, max_features=log2, min_samples_leaf=15, min_samples_split=19, n_estimators=190; total time=   0.1s\n"
     ]
    },
    {
     "name": "stderr",
     "output_type": "stream",
     "text": [
      "C:\\Users\\mayank\\anaconda3\\lib\\site-packages\\sklearn\\ensemble\\_forest.py:396: FutureWarning: Criterion 'mse' was deprecated in v1.0 and will be removed in version 1.2. Use `criterion='squared_error'` which is equivalent.\n",
      "  warn(\n",
      "C:\\Users\\mayank\\anaconda3\\lib\\site-packages\\sklearn\\ensemble\\_forest.py:396: FutureWarning: Criterion 'mse' was deprecated in v1.0 and will be removed in version 1.2. Use `criterion='squared_error'` which is equivalent.\n",
      "  warn(\n"
     ]
    },
    {
     "name": "stdout",
     "output_type": "stream",
     "text": [
      "[CV] END criterion=mse, max_depth=11, max_features=log2, min_samples_leaf=15, min_samples_split=19, n_estimators=190; total time=   0.1s\n",
      "[CV] END criterion=mse, max_depth=11, max_features=log2, min_samples_leaf=15, min_samples_split=19, n_estimators=190; total time=   0.1s\n"
     ]
    },
    {
     "name": "stderr",
     "output_type": "stream",
     "text": [
      "C:\\Users\\mayank\\anaconda3\\lib\\site-packages\\sklearn\\ensemble\\_forest.py:396: FutureWarning: Criterion 'mse' was deprecated in v1.0 and will be removed in version 1.2. Use `criterion='squared_error'` which is equivalent.\n",
      "  warn(\n",
      "C:\\Users\\mayank\\anaconda3\\lib\\site-packages\\sklearn\\ensemble\\_forest.py:396: FutureWarning: Criterion 'mse' was deprecated in v1.0 and will be removed in version 1.2. Use `criterion='squared_error'` which is equivalent.\n",
      "  warn(\n"
     ]
    },
    {
     "name": "stdout",
     "output_type": "stream",
     "text": [
      "[CV] END criterion=mse, max_depth=11, max_features=log2, min_samples_leaf=15, min_samples_split=19, n_estimators=190; total time=   0.1s\n",
      "[CV] END criterion=mse, max_depth=11, max_features=log2, min_samples_leaf=15, min_samples_split=19, n_estimators=190; total time=   0.1s\n"
     ]
    },
    {
     "name": "stderr",
     "output_type": "stream",
     "text": [
      "C:\\Users\\mayank\\anaconda3\\lib\\site-packages\\sklearn\\ensemble\\_forest.py:396: FutureWarning: Criterion 'mse' was deprecated in v1.0 and will be removed in version 1.2. Use `criterion='squared_error'` which is equivalent.\n",
      "  warn(\n",
      "C:\\Users\\mayank\\anaconda3\\lib\\site-packages\\sklearn\\ensemble\\_forest.py:396: FutureWarning: Criterion 'mse' was deprecated in v1.0 and will be removed in version 1.2. Use `criterion='squared_error'` which is equivalent.\n",
      "  warn(\n"
     ]
    },
    {
     "name": "stdout",
     "output_type": "stream",
     "text": [
      "[CV] END criterion=mse, max_depth=151, max_features=auto, min_samples_leaf=3, min_samples_split=7, n_estimators=110; total time=   0.1s\n",
      "[CV] END criterion=mse, max_depth=151, max_features=auto, min_samples_leaf=3, min_samples_split=7, n_estimators=110; total time=   0.1s\n"
     ]
    },
    {
     "name": "stderr",
     "output_type": "stream",
     "text": [
      "C:\\Users\\mayank\\anaconda3\\lib\\site-packages\\sklearn\\ensemble\\_forest.py:396: FutureWarning: Criterion 'mse' was deprecated in v1.0 and will be removed in version 1.2. Use `criterion='squared_error'` which is equivalent.\n",
      "  warn(\n",
      "C:\\Users\\mayank\\anaconda3\\lib\\site-packages\\sklearn\\ensemble\\_forest.py:396: FutureWarning: Criterion 'mse' was deprecated in v1.0 and will be removed in version 1.2. Use `criterion='squared_error'` which is equivalent.\n",
      "  warn(\n"
     ]
    },
    {
     "name": "stdout",
     "output_type": "stream",
     "text": [
      "[CV] END criterion=mse, max_depth=151, max_features=auto, min_samples_leaf=3, min_samples_split=7, n_estimators=110; total time=   0.1s\n",
      "[CV] END criterion=mse, max_depth=151, max_features=auto, min_samples_leaf=3, min_samples_split=7, n_estimators=110; total time=   0.1s\n"
     ]
    },
    {
     "name": "stderr",
     "output_type": "stream",
     "text": [
      "C:\\Users\\mayank\\anaconda3\\lib\\site-packages\\sklearn\\ensemble\\_forest.py:396: FutureWarning: Criterion 'mse' was deprecated in v1.0 and will be removed in version 1.2. Use `criterion='squared_error'` which is equivalent.\n",
      "  warn(\n",
      "C:\\Users\\mayank\\anaconda3\\lib\\site-packages\\sklearn\\ensemble\\_forest.py:396: FutureWarning: Criterion 'mse' was deprecated in v1.0 and will be removed in version 1.2. Use `criterion='squared_error'` which is equivalent.\n",
      "  warn(\n"
     ]
    },
    {
     "name": "stdout",
     "output_type": "stream",
     "text": [
      "[CV] END criterion=mse, max_depth=151, max_features=auto, min_samples_leaf=3, min_samples_split=7, n_estimators=110; total time=   0.1s\n",
      "[CV] END criterion=mse, max_depth=151, max_features=auto, min_samples_leaf=3, min_samples_split=7, n_estimators=110; total time=   0.1s\n"
     ]
    },
    {
     "name": "stderr",
     "output_type": "stream",
     "text": [
      "C:\\Users\\mayank\\anaconda3\\lib\\site-packages\\sklearn\\ensemble\\_forest.py:396: FutureWarning: Criterion 'mse' was deprecated in v1.0 and will be removed in version 1.2. Use `criterion='squared_error'` which is equivalent.\n",
      "  warn(\n",
      "C:\\Users\\mayank\\anaconda3\\lib\\site-packages\\sklearn\\ensemble\\_forest.py:396: FutureWarning: Criterion 'mse' was deprecated in v1.0 and will be removed in version 1.2. Use `criterion='squared_error'` which is equivalent.\n",
      "  warn(\n"
     ]
    },
    {
     "name": "stdout",
     "output_type": "stream",
     "text": [
      "[CV] END criterion=mse, max_depth=151, max_features=auto, min_samples_leaf=3, min_samples_split=7, n_estimators=110; total time=   0.1s\n",
      "[CV] END criterion=mse, max_depth=151, max_features=auto, min_samples_leaf=3, min_samples_split=7, n_estimators=110; total time=   0.1s\n"
     ]
    },
    {
     "name": "stderr",
     "output_type": "stream",
     "text": [
      "C:\\Users\\mayank\\anaconda3\\lib\\site-packages\\sklearn\\ensemble\\_forest.py:396: FutureWarning: Criterion 'mse' was deprecated in v1.0 and will be removed in version 1.2. Use `criterion='squared_error'` which is equivalent.\n",
      "  warn(\n",
      "C:\\Users\\mayank\\anaconda3\\lib\\site-packages\\sklearn\\ensemble\\_forest.py:396: FutureWarning: Criterion 'mse' was deprecated in v1.0 and will be removed in version 1.2. Use `criterion='squared_error'` which is equivalent.\n",
      "  warn(\n"
     ]
    },
    {
     "name": "stdout",
     "output_type": "stream",
     "text": [
      "[CV] END criterion=mse, max_depth=11, max_features=auto, min_samples_leaf=17, min_samples_split=19, n_estimators=50; total time=   0.0s\n",
      "[CV] END criterion=mse, max_depth=11, max_features=auto, min_samples_leaf=17, min_samples_split=19, n_estimators=50; total time=   0.0s\n",
      "[CV] END criterion=mse, max_depth=11, max_features=auto, min_samples_leaf=17, min_samples_split=19, n_estimators=50; total time=   0.0s\n",
      "[CV] END criterion=mse, max_depth=11, max_features=auto, min_samples_leaf=17, min_samples_split=19, n_estimators=50; total time=   0.0s\n"
     ]
    },
    {
     "name": "stderr",
     "output_type": "stream",
     "text": [
      "C:\\Users\\mayank\\anaconda3\\lib\\site-packages\\sklearn\\ensemble\\_forest.py:396: FutureWarning: Criterion 'mse' was deprecated in v1.0 and will be removed in version 1.2. Use `criterion='squared_error'` which is equivalent.\n",
      "  warn(\n",
      "C:\\Users\\mayank\\anaconda3\\lib\\site-packages\\sklearn\\ensemble\\_forest.py:396: FutureWarning: Criterion 'mse' was deprecated in v1.0 and will be removed in version 1.2. Use `criterion='squared_error'` which is equivalent.\n",
      "  warn(\n",
      "C:\\Users\\mayank\\anaconda3\\lib\\site-packages\\sklearn\\ensemble\\_forest.py:396: FutureWarning: Criterion 'mse' was deprecated in v1.0 and will be removed in version 1.2. Use `criterion='squared_error'` which is equivalent.\n",
      "  warn(\n",
      "C:\\Users\\mayank\\anaconda3\\lib\\site-packages\\sklearn\\ensemble\\_forest.py:396: FutureWarning: Criterion 'mse' was deprecated in v1.0 and will be removed in version 1.2. Use `criterion='squared_error'` which is equivalent.\n",
      "  warn(\n"
     ]
    },
    {
     "name": "stdout",
     "output_type": "stream",
     "text": [
      "[CV] END criterion=mse, max_depth=11, max_features=auto, min_samples_leaf=17, min_samples_split=19, n_estimators=50; total time=   0.0s\n",
      "[CV] END criterion=mse, max_depth=11, max_features=auto, min_samples_leaf=17, min_samples_split=19, n_estimators=50; total time=   0.0s\n",
      "[CV] END criterion=mse, max_depth=11, max_features=auto, min_samples_leaf=17, min_samples_split=19, n_estimators=50; total time=   0.0s\n",
      "[CV] END criterion=mse, max_depth=11, max_features=auto, min_samples_leaf=17, min_samples_split=19, n_estimators=50; total time=   0.0s\n"
     ]
    },
    {
     "name": "stderr",
     "output_type": "stream",
     "text": [
      "C:\\Users\\mayank\\anaconda3\\lib\\site-packages\\sklearn\\ensemble\\_forest.py:396: FutureWarning: Criterion 'mse' was deprecated in v1.0 and will be removed in version 1.2. Use `criterion='squared_error'` which is equivalent.\n",
      "  warn(\n",
      "C:\\Users\\mayank\\anaconda3\\lib\\site-packages\\sklearn\\ensemble\\_forest.py:396: FutureWarning: Criterion 'mse' was deprecated in v1.0 and will be removed in version 1.2. Use `criterion='squared_error'` which is equivalent.\n",
      "  warn(\n",
      "C:\\Users\\mayank\\anaconda3\\lib\\site-packages\\sklearn\\ensemble\\_forest.py:396: FutureWarning: Criterion 'mse' was deprecated in v1.0 and will be removed in version 1.2. Use `criterion='squared_error'` which is equivalent.\n",
      "  warn(\n",
      "C:\\Users\\mayank\\anaconda3\\lib\\site-packages\\sklearn\\ensemble\\_forest.py:403: FutureWarning: Criterion 'mae' was deprecated in v1.0 and will be removed in version 1.2. Use `criterion='absolute_error'` which is equivalent.\n",
      "  warn(\n"
     ]
    },
    {
     "name": "stdout",
     "output_type": "stream",
     "text": [
      "[CV] END criterion=mae, max_depth=141, max_features=sqrt, min_samples_leaf=1, min_samples_split=15, n_estimators=310; total time=   0.6s\n"
     ]
    },
    {
     "name": "stderr",
     "output_type": "stream",
     "text": [
      "C:\\Users\\mayank\\anaconda3\\lib\\site-packages\\sklearn\\ensemble\\_forest.py:403: FutureWarning: Criterion 'mae' was deprecated in v1.0 and will be removed in version 1.2. Use `criterion='absolute_error'` which is equivalent.\n",
      "  warn(\n"
     ]
    },
    {
     "name": "stdout",
     "output_type": "stream",
     "text": [
      "[CV] END criterion=mae, max_depth=141, max_features=sqrt, min_samples_leaf=1, min_samples_split=15, n_estimators=310; total time=   0.6s\n"
     ]
    },
    {
     "name": "stderr",
     "output_type": "stream",
     "text": [
      "C:\\Users\\mayank\\anaconda3\\lib\\site-packages\\sklearn\\ensemble\\_forest.py:403: FutureWarning: Criterion 'mae' was deprecated in v1.0 and will be removed in version 1.2. Use `criterion='absolute_error'` which is equivalent.\n",
      "  warn(\n"
     ]
    },
    {
     "name": "stdout",
     "output_type": "stream",
     "text": [
      "[CV] END criterion=mae, max_depth=141, max_features=sqrt, min_samples_leaf=1, min_samples_split=15, n_estimators=310; total time=   0.6s\n"
     ]
    },
    {
     "name": "stderr",
     "output_type": "stream",
     "text": [
      "C:\\Users\\mayank\\anaconda3\\lib\\site-packages\\sklearn\\ensemble\\_forest.py:403: FutureWarning: Criterion 'mae' was deprecated in v1.0 and will be removed in version 1.2. Use `criterion='absolute_error'` which is equivalent.\n",
      "  warn(\n"
     ]
    },
    {
     "name": "stdout",
     "output_type": "stream",
     "text": [
      "[CV] END criterion=mae, max_depth=141, max_features=sqrt, min_samples_leaf=1, min_samples_split=15, n_estimators=310; total time=   0.7s\n"
     ]
    },
    {
     "name": "stderr",
     "output_type": "stream",
     "text": [
      "C:\\Users\\mayank\\anaconda3\\lib\\site-packages\\sklearn\\ensemble\\_forest.py:403: FutureWarning: Criterion 'mae' was deprecated in v1.0 and will be removed in version 1.2. Use `criterion='absolute_error'` which is equivalent.\n",
      "  warn(\n"
     ]
    },
    {
     "name": "stdout",
     "output_type": "stream",
     "text": [
      "[CV] END criterion=mae, max_depth=141, max_features=sqrt, min_samples_leaf=1, min_samples_split=15, n_estimators=310; total time=   0.6s\n"
     ]
    },
    {
     "name": "stderr",
     "output_type": "stream",
     "text": [
      "C:\\Users\\mayank\\anaconda3\\lib\\site-packages\\sklearn\\ensemble\\_forest.py:403: FutureWarning: Criterion 'mae' was deprecated in v1.0 and will be removed in version 1.2. Use `criterion='absolute_error'` which is equivalent.\n",
      "  warn(\n"
     ]
    },
    {
     "name": "stdout",
     "output_type": "stream",
     "text": [
      "[CV] END criterion=mae, max_depth=141, max_features=sqrt, min_samples_leaf=1, min_samples_split=15, n_estimators=310; total time=   0.6s\n"
     ]
    },
    {
     "name": "stderr",
     "output_type": "stream",
     "text": [
      "C:\\Users\\mayank\\anaconda3\\lib\\site-packages\\sklearn\\ensemble\\_forest.py:403: FutureWarning: Criterion 'mae' was deprecated in v1.0 and will be removed in version 1.2. Use `criterion='absolute_error'` which is equivalent.\n",
      "  warn(\n"
     ]
    },
    {
     "name": "stdout",
     "output_type": "stream",
     "text": [
      "[CV] END criterion=mae, max_depth=141, max_features=sqrt, min_samples_leaf=1, min_samples_split=15, n_estimators=310; total time=   0.6s\n"
     ]
    },
    {
     "name": "stderr",
     "output_type": "stream",
     "text": [
      "C:\\Users\\mayank\\anaconda3\\lib\\site-packages\\sklearn\\ensemble\\_forest.py:403: FutureWarning: Criterion 'mae' was deprecated in v1.0 and will be removed in version 1.2. Use `criterion='absolute_error'` which is equivalent.\n",
      "  warn(\n"
     ]
    },
    {
     "name": "stdout",
     "output_type": "stream",
     "text": [
      "[CV] END criterion=mae, max_depth=141, max_features=sqrt, min_samples_leaf=1, min_samples_split=15, n_estimators=310; total time=   0.6s\n"
     ]
    },
    {
     "name": "stderr",
     "output_type": "stream",
     "text": [
      "C:\\Users\\mayank\\anaconda3\\lib\\site-packages\\sklearn\\ensemble\\_forest.py:396: FutureWarning: Criterion 'mse' was deprecated in v1.0 and will be removed in version 1.2. Use `criterion='squared_error'` which is equivalent.\n",
      "  warn(\n"
     ]
    },
    {
     "name": "stdout",
     "output_type": "stream",
     "text": [
      "[CV] END criterion=mse, max_depth=101, max_features=auto, min_samples_leaf=7, min_samples_split=9, n_estimators=450; total time=   0.5s\n"
     ]
    },
    {
     "name": "stderr",
     "output_type": "stream",
     "text": [
      "C:\\Users\\mayank\\anaconda3\\lib\\site-packages\\sklearn\\ensemble\\_forest.py:396: FutureWarning: Criterion 'mse' was deprecated in v1.0 and will be removed in version 1.2. Use `criterion='squared_error'` which is equivalent.\n",
      "  warn(\n"
     ]
    },
    {
     "name": "stdout",
     "output_type": "stream",
     "text": [
      "[CV] END criterion=mse, max_depth=101, max_features=auto, min_samples_leaf=7, min_samples_split=9, n_estimators=450; total time=   0.5s\n"
     ]
    },
    {
     "name": "stderr",
     "output_type": "stream",
     "text": [
      "C:\\Users\\mayank\\anaconda3\\lib\\site-packages\\sklearn\\ensemble\\_forest.py:396: FutureWarning: Criterion 'mse' was deprecated in v1.0 and will be removed in version 1.2. Use `criterion='squared_error'` which is equivalent.\n",
      "  warn(\n"
     ]
    },
    {
     "name": "stdout",
     "output_type": "stream",
     "text": [
      "[CV] END criterion=mse, max_depth=101, max_features=auto, min_samples_leaf=7, min_samples_split=9, n_estimators=450; total time=   0.5s\n"
     ]
    },
    {
     "name": "stderr",
     "output_type": "stream",
     "text": [
      "C:\\Users\\mayank\\anaconda3\\lib\\site-packages\\sklearn\\ensemble\\_forest.py:396: FutureWarning: Criterion 'mse' was deprecated in v1.0 and will be removed in version 1.2. Use `criterion='squared_error'` which is equivalent.\n",
      "  warn(\n"
     ]
    },
    {
     "name": "stdout",
     "output_type": "stream",
     "text": [
      "[CV] END criterion=mse, max_depth=101, max_features=auto, min_samples_leaf=7, min_samples_split=9, n_estimators=450; total time=   0.5s\n"
     ]
    },
    {
     "name": "stderr",
     "output_type": "stream",
     "text": [
      "C:\\Users\\mayank\\anaconda3\\lib\\site-packages\\sklearn\\ensemble\\_forest.py:396: FutureWarning: Criterion 'mse' was deprecated in v1.0 and will be removed in version 1.2. Use `criterion='squared_error'` which is equivalent.\n",
      "  warn(\n"
     ]
    },
    {
     "name": "stdout",
     "output_type": "stream",
     "text": [
      "[CV] END criterion=mse, max_depth=101, max_features=auto, min_samples_leaf=7, min_samples_split=9, n_estimators=450; total time=   0.5s\n"
     ]
    },
    {
     "name": "stderr",
     "output_type": "stream",
     "text": [
      "C:\\Users\\mayank\\anaconda3\\lib\\site-packages\\sklearn\\ensemble\\_forest.py:396: FutureWarning: Criterion 'mse' was deprecated in v1.0 and will be removed in version 1.2. Use `criterion='squared_error'` which is equivalent.\n",
      "  warn(\n"
     ]
    },
    {
     "name": "stdout",
     "output_type": "stream",
     "text": [
      "[CV] END criterion=mse, max_depth=101, max_features=auto, min_samples_leaf=7, min_samples_split=9, n_estimators=450; total time=   0.5s\n"
     ]
    },
    {
     "name": "stderr",
     "output_type": "stream",
     "text": [
      "C:\\Users\\mayank\\anaconda3\\lib\\site-packages\\sklearn\\ensemble\\_forest.py:396: FutureWarning: Criterion 'mse' was deprecated in v1.0 and will be removed in version 1.2. Use `criterion='squared_error'` which is equivalent.\n",
      "  warn(\n"
     ]
    },
    {
     "name": "stdout",
     "output_type": "stream",
     "text": [
      "[CV] END criterion=mse, max_depth=101, max_features=auto, min_samples_leaf=7, min_samples_split=9, n_estimators=450; total time=   0.5s\n"
     ]
    },
    {
     "name": "stderr",
     "output_type": "stream",
     "text": [
      "C:\\Users\\mayank\\anaconda3\\lib\\site-packages\\sklearn\\ensemble\\_forest.py:396: FutureWarning: Criterion 'mse' was deprecated in v1.0 and will be removed in version 1.2. Use `criterion='squared_error'` which is equivalent.\n",
      "  warn(\n"
     ]
    },
    {
     "name": "stdout",
     "output_type": "stream",
     "text": [
      "[CV] END criterion=mse, max_depth=101, max_features=auto, min_samples_leaf=7, min_samples_split=9, n_estimators=450; total time=   0.5s\n"
     ]
    },
    {
     "name": "stderr",
     "output_type": "stream",
     "text": [
      "C:\\Users\\mayank\\anaconda3\\lib\\site-packages\\sklearn\\ensemble\\_forest.py:403: FutureWarning: Criterion 'mae' was deprecated in v1.0 and will be removed in version 1.2. Use `criterion='absolute_error'` which is equivalent.\n",
      "  warn(\n"
     ]
    },
    {
     "name": "stdout",
     "output_type": "stream",
     "text": [
      "[CV] END criterion=mae, max_depth=141, max_features=log2, min_samples_leaf=7, min_samples_split=5, n_estimators=190; total time=   0.3s\n"
     ]
    },
    {
     "name": "stderr",
     "output_type": "stream",
     "text": [
      "C:\\Users\\mayank\\anaconda3\\lib\\site-packages\\sklearn\\ensemble\\_forest.py:403: FutureWarning: Criterion 'mae' was deprecated in v1.0 and will be removed in version 1.2. Use `criterion='absolute_error'` which is equivalent.\n",
      "  warn(\n"
     ]
    },
    {
     "name": "stdout",
     "output_type": "stream",
     "text": [
      "[CV] END criterion=mae, max_depth=141, max_features=log2, min_samples_leaf=7, min_samples_split=5, n_estimators=190; total time=   0.3s\n"
     ]
    },
    {
     "name": "stderr",
     "output_type": "stream",
     "text": [
      "C:\\Users\\mayank\\anaconda3\\lib\\site-packages\\sklearn\\ensemble\\_forest.py:403: FutureWarning: Criterion 'mae' was deprecated in v1.0 and will be removed in version 1.2. Use `criterion='absolute_error'` which is equivalent.\n",
      "  warn(\n"
     ]
    },
    {
     "name": "stdout",
     "output_type": "stream",
     "text": [
      "[CV] END criterion=mae, max_depth=141, max_features=log2, min_samples_leaf=7, min_samples_split=5, n_estimators=190; total time=   0.3s\n"
     ]
    },
    {
     "name": "stderr",
     "output_type": "stream",
     "text": [
      "C:\\Users\\mayank\\anaconda3\\lib\\site-packages\\sklearn\\ensemble\\_forest.py:403: FutureWarning: Criterion 'mae' was deprecated in v1.0 and will be removed in version 1.2. Use `criterion='absolute_error'` which is equivalent.\n",
      "  warn(\n"
     ]
    },
    {
     "name": "stdout",
     "output_type": "stream",
     "text": [
      "[CV] END criterion=mae, max_depth=141, max_features=log2, min_samples_leaf=7, min_samples_split=5, n_estimators=190; total time=   0.3s\n"
     ]
    },
    {
     "name": "stderr",
     "output_type": "stream",
     "text": [
      "C:\\Users\\mayank\\anaconda3\\lib\\site-packages\\sklearn\\ensemble\\_forest.py:403: FutureWarning: Criterion 'mae' was deprecated in v1.0 and will be removed in version 1.2. Use `criterion='absolute_error'` which is equivalent.\n",
      "  warn(\n"
     ]
    },
    {
     "name": "stdout",
     "output_type": "stream",
     "text": [
      "[CV] END criterion=mae, max_depth=141, max_features=log2, min_samples_leaf=7, min_samples_split=5, n_estimators=190; total time=   0.3s\n"
     ]
    },
    {
     "name": "stderr",
     "output_type": "stream",
     "text": [
      "C:\\Users\\mayank\\anaconda3\\lib\\site-packages\\sklearn\\ensemble\\_forest.py:403: FutureWarning: Criterion 'mae' was deprecated in v1.0 and will be removed in version 1.2. Use `criterion='absolute_error'` which is equivalent.\n",
      "  warn(\n"
     ]
    },
    {
     "name": "stdout",
     "output_type": "stream",
     "text": [
      "[CV] END criterion=mae, max_depth=141, max_features=log2, min_samples_leaf=7, min_samples_split=5, n_estimators=190; total time=   0.3s\n"
     ]
    },
    {
     "name": "stderr",
     "output_type": "stream",
     "text": [
      "C:\\Users\\mayank\\anaconda3\\lib\\site-packages\\sklearn\\ensemble\\_forest.py:403: FutureWarning: Criterion 'mae' was deprecated in v1.0 and will be removed in version 1.2. Use `criterion='absolute_error'` which is equivalent.\n",
      "  warn(\n"
     ]
    },
    {
     "name": "stdout",
     "output_type": "stream",
     "text": [
      "[CV] END criterion=mae, max_depth=141, max_features=log2, min_samples_leaf=7, min_samples_split=5, n_estimators=190; total time=   0.3s\n"
     ]
    },
    {
     "name": "stderr",
     "output_type": "stream",
     "text": [
      "C:\\Users\\mayank\\anaconda3\\lib\\site-packages\\sklearn\\ensemble\\_forest.py:403: FutureWarning: Criterion 'mae' was deprecated in v1.0 and will be removed in version 1.2. Use `criterion='absolute_error'` which is equivalent.\n",
      "  warn(\n"
     ]
    },
    {
     "name": "stdout",
     "output_type": "stream",
     "text": [
      "[CV] END criterion=mae, max_depth=141, max_features=log2, min_samples_leaf=7, min_samples_split=5, n_estimators=190; total time=   0.3s\n"
     ]
    },
    {
     "name": "stderr",
     "output_type": "stream",
     "text": [
      "C:\\Users\\mayank\\anaconda3\\lib\\site-packages\\sklearn\\model_selection\\_validation.py:372: FitFailedWarning: \n",
      "152 fits failed out of a total of 800.\n",
      "The score on these train-test partitions for these parameters will be set to nan.\n",
      "If these failures are not expected, you can try to debug them by setting error_score='raise'.\n",
      "\n",
      "Below are more details about the failures:\n",
      "--------------------------------------------------------------------------------\n",
      "152 fits failed with the following error:\n",
      "Traceback (most recent call last):\n",
      "  File \"C:\\Users\\mayank\\anaconda3\\lib\\site-packages\\sklearn\\model_selection\\_validation.py\", line 680, in _fit_and_score\n",
      "    estimator.fit(X_train, y_train, **fit_params)\n",
      "  File \"C:\\Users\\mayank\\anaconda3\\lib\\site-packages\\sklearn\\ensemble\\_forest.py\", line 450, in fit\n",
      "    trees = Parallel(\n",
      "  File \"C:\\Users\\mayank\\anaconda3\\lib\\site-packages\\joblib\\parallel.py\", line 1043, in __call__\n",
      "    if self.dispatch_one_batch(iterator):\n",
      "  File \"C:\\Users\\mayank\\anaconda3\\lib\\site-packages\\joblib\\parallel.py\", line 861, in dispatch_one_batch\n",
      "    self._dispatch(tasks)\n",
      "  File \"C:\\Users\\mayank\\anaconda3\\lib\\site-packages\\joblib\\parallel.py\", line 779, in _dispatch\n",
      "    job = self._backend.apply_async(batch, callback=cb)\n",
      "  File \"C:\\Users\\mayank\\anaconda3\\lib\\site-packages\\joblib\\_parallel_backends.py\", line 208, in apply_async\n",
      "    result = ImmediateResult(func)\n",
      "  File \"C:\\Users\\mayank\\anaconda3\\lib\\site-packages\\joblib\\_parallel_backends.py\", line 572, in __init__\n",
      "    self.results = batch()\n",
      "  File \"C:\\Users\\mayank\\anaconda3\\lib\\site-packages\\joblib\\parallel.py\", line 262, in __call__\n",
      "    return [func(*args, **kwargs)\n",
      "  File \"C:\\Users\\mayank\\anaconda3\\lib\\site-packages\\joblib\\parallel.py\", line 262, in <listcomp>\n",
      "    return [func(*args, **kwargs)\n",
      "  File \"C:\\Users\\mayank\\anaconda3\\lib\\site-packages\\sklearn\\utils\\fixes.py\", line 216, in __call__\n",
      "    return self.function(*args, **kwargs)\n",
      "  File \"C:\\Users\\mayank\\anaconda3\\lib\\site-packages\\sklearn\\ensemble\\_forest.py\", line 185, in _parallel_build_trees\n",
      "    tree.fit(X, y, sample_weight=curr_sample_weight, check_input=False)\n",
      "  File \"C:\\Users\\mayank\\anaconda3\\lib\\site-packages\\sklearn\\tree\\_classes.py\", line 1315, in fit\n",
      "    super().fit(\n",
      "  File \"C:\\Users\\mayank\\anaconda3\\lib\\site-packages\\sklearn\\tree\\_classes.py\", line 250, in fit\n",
      "    raise ValueError(\n",
      "ValueError: min_samples_split must be an integer greater than 1 or a float in (0.0, 1.0]; got the integer 1\n",
      "\n",
      "  warnings.warn(some_fits_failed_message, FitFailedWarning)\n",
      "C:\\Users\\mayank\\anaconda3\\lib\\site-packages\\sklearn\\model_selection\\_search.py:969: UserWarning: One or more of the test scores are non-finite: [0.69129825 0.73715155 0.72740061 0.65756175 0.63517651 0.36391802\n",
      " 0.73018079 0.64931078        nan 0.7238372  0.77296539        nan\n",
      "        nan 0.80679988 0.77460535        nan 0.86500198        nan\n",
      " 0.76103426        nan 0.76053096        nan 0.77521379 0.86073827\n",
      " 0.77474202 0.78779763 0.70605531 0.80862428 0.71879435 0.73021012\n",
      " 0.79301775 0.69540523 0.78198095 0.72820903 0.77056292        nan\n",
      " 0.73793875        nan 0.69918947 0.78807671 0.75638864 0.80852442\n",
      " 0.80628111 0.67573904 0.80399722 0.44896286 0.77191316 0.6328213\n",
      "        nan 0.79474623        nan 0.76744776 0.68139059 0.67953852\n",
      " 0.81382341 0.76921569 0.85202581 0.74840348        nan 0.79715073\n",
      " 0.73481365 0.67920977 0.7506315  0.65664805 0.74867696 0.70377635\n",
      " 0.78386092 0.49128789        nan 0.81383087 0.78919688        nan\n",
      " 0.80794928 0.77708884 0.78817147 0.82946286 0.81385897 0.71950827\n",
      " 0.63660061        nan 0.64415518        nan 0.77008541 0.81462882\n",
      "        nan        nan        nan 0.74891898 0.83218573 0.80759607\n",
      " 0.80527713 0.80522875 0.835874   0.77398509 0.71560845 0.85163459\n",
      " 0.75991679 0.84195094 0.81504148 0.77643275]\n",
      "  warnings.warn(\n",
      "C:\\Users\\mayank\\anaconda3\\lib\\site-packages\\sklearn\\ensemble\\_forest.py:403: FutureWarning: Criterion 'mae' was deprecated in v1.0 and will be removed in version 1.2. Use `criterion='absolute_error'` which is equivalent.\n",
      "  warn(\n"
     ]
    },
    {
     "data": {
      "text/plain": [
       "RandomizedSearchCV(cv=8, estimator=RandomForestRegressor(), n_iter=100,\n",
       "                   n_jobs=1,\n",
       "                   param_distributions={'criterion': ['mse', 'mae'],\n",
       "                                        'max_depth': [1, 11, 21, 31, 41, 51, 61,\n",
       "                                                      71, 81, 91, 101, 111, 121,\n",
       "                                                      131, 141, 151, 161, 171,\n",
       "                                                      181, 191],\n",
       "                                        'max_features': ['auto', 'log2',\n",
       "                                                         'sqrt'],\n",
       "                                        'min_samples_leaf': [1, 3, 5, 7, 9, 11,\n",
       "                                                             13, 15, 17, 19],\n",
       "                                        'min_samples_split': [1, 3, 5, 7, 9, 11,\n",
       "                                                              13, 15, 17, 19],\n",
       "                                        'n_estimators': [50, 70, 90, 110, 130,\n",
       "                                                         150, 170, 190, 210,\n",
       "                                                         230, 250, 270, 290,\n",
       "                                                         310, 330, 350, 370,\n",
       "                                                         390, 410, 430, 450,\n",
       "                                                         470, 490]},\n",
       "                   verbose=2)"
      ]
     },
     "execution_count": 56,
     "metadata": {},
     "output_type": "execute_result"
    }
   ],
   "source": [
    "Rand_search.fit(train_X,train_y)"
   ]
  },
  {
   "cell_type": "code",
   "execution_count": 57,
   "id": "dad128a0",
   "metadata": {},
   "outputs": [
    {
     "data": {
      "text/plain": [
       "{'n_estimators': 270,\n",
       " 'min_samples_split': 5,\n",
       " 'min_samples_leaf': 1,\n",
       " 'max_features': 'auto',\n",
       " 'max_depth': 151,\n",
       " 'criterion': 'mae'}"
      ]
     },
     "execution_count": 57,
     "metadata": {},
     "output_type": "execute_result"
    }
   ],
   "source": [
    "Rand_search.best_params_"
   ]
  },
  {
   "cell_type": "code",
   "execution_count": 58,
   "id": "0c61e6b5",
   "metadata": {},
   "outputs": [],
   "source": [
    "n_estimator=[i for i in range(325,335,2)]\n",
    "min_samples_split=[i for i in range(7,12,1)]\n",
    "min_samples_leaf=[i for i in range(1,3,1)]\n",
    "max_feat=['log2']\n",
    "criterion=['mae']\n",
    "max_depth=[i for i in range(115,125,2)]\n",
    "Grid_param={'n_estimators':n_estimator,\n",
    "            'max_depth':max_depth,\n",
    "            'max_features':max_feat,\n",
    "            'min_samples_leaf':min_samples_leaf,\n",
    "            'min_samples_split':min_samples_split,\n",
    "            'criterion':criterion\n",
    "           }\n"
   ]
  },
  {
   "cell_type": "code",
   "execution_count": 60,
   "id": "4735b259",
   "metadata": {},
   "outputs": [],
   "source": [
    "Rand_Grid=GridSearchCV(estimator=Rf,param_grid=Grid_param,cv=3)"
   ]
  },
  {
   "cell_type": "code",
   "execution_count": 61,
   "id": "41a54dce",
   "metadata": {
    "scrolled": true
   },
   "outputs": [
    {
     "name": "stderr",
     "output_type": "stream",
     "text": [
      "C:\\Users\\mayank\\anaconda3\\lib\\site-packages\\sklearn\\ensemble\\_forest.py:403: FutureWarning: Criterion 'mae' was deprecated in v1.0 and will be removed in version 1.2. Use `criterion='absolute_error'` which is equivalent.\n",
      "  warn(\n",
      "C:\\Users\\mayank\\anaconda3\\lib\\site-packages\\sklearn\\ensemble\\_forest.py:403: FutureWarning: Criterion 'mae' was deprecated in v1.0 and will be removed in version 1.2. Use `criterion='absolute_error'` which is equivalent.\n",
      "  warn(\n",
      "C:\\Users\\mayank\\anaconda3\\lib\\site-packages\\sklearn\\ensemble\\_forest.py:403: FutureWarning: Criterion 'mae' was deprecated in v1.0 and will be removed in version 1.2. Use `criterion='absolute_error'` which is equivalent.\n",
      "  warn(\n",
      "C:\\Users\\mayank\\anaconda3\\lib\\site-packages\\sklearn\\ensemble\\_forest.py:403: FutureWarning: Criterion 'mae' was deprecated in v1.0 and will be removed in version 1.2. Use `criterion='absolute_error'` which is equivalent.\n",
      "  warn(\n",
      "C:\\Users\\mayank\\anaconda3\\lib\\site-packages\\sklearn\\ensemble\\_forest.py:403: FutureWarning: Criterion 'mae' was deprecated in v1.0 and will be removed in version 1.2. Use `criterion='absolute_error'` which is equivalent.\n",
      "  warn(\n",
      "C:\\Users\\mayank\\anaconda3\\lib\\site-packages\\sklearn\\ensemble\\_forest.py:403: FutureWarning: Criterion 'mae' was deprecated in v1.0 and will be removed in version 1.2. Use `criterion='absolute_error'` which is equivalent.\n",
      "  warn(\n",
      "C:\\Users\\mayank\\anaconda3\\lib\\site-packages\\sklearn\\ensemble\\_forest.py:403: FutureWarning: Criterion 'mae' was deprecated in v1.0 and will be removed in version 1.2. Use `criterion='absolute_error'` which is equivalent.\n",
      "  warn(\n",
      "C:\\Users\\mayank\\anaconda3\\lib\\site-packages\\sklearn\\ensemble\\_forest.py:403: FutureWarning: Criterion 'mae' was deprecated in v1.0 and will be removed in version 1.2. Use `criterion='absolute_error'` which is equivalent.\n",
      "  warn(\n",
      "C:\\Users\\mayank\\anaconda3\\lib\\site-packages\\sklearn\\ensemble\\_forest.py:403: FutureWarning: Criterion 'mae' was deprecated in v1.0 and will be removed in version 1.2. Use `criterion='absolute_error'` which is equivalent.\n",
      "  warn(\n",
      "C:\\Users\\mayank\\anaconda3\\lib\\site-packages\\sklearn\\ensemble\\_forest.py:403: FutureWarning: Criterion 'mae' was deprecated in v1.0 and will be removed in version 1.2. Use `criterion='absolute_error'` which is equivalent.\n",
      "  warn(\n",
      "C:\\Users\\mayank\\anaconda3\\lib\\site-packages\\sklearn\\ensemble\\_forest.py:403: FutureWarning: Criterion 'mae' was deprecated in v1.0 and will be removed in version 1.2. Use `criterion='absolute_error'` which is equivalent.\n",
      "  warn(\n",
      "C:\\Users\\mayank\\anaconda3\\lib\\site-packages\\sklearn\\ensemble\\_forest.py:403: FutureWarning: Criterion 'mae' was deprecated in v1.0 and will be removed in version 1.2. Use `criterion='absolute_error'` which is equivalent.\n",
      "  warn(\n",
      "C:\\Users\\mayank\\anaconda3\\lib\\site-packages\\sklearn\\ensemble\\_forest.py:403: FutureWarning: Criterion 'mae' was deprecated in v1.0 and will be removed in version 1.2. Use `criterion='absolute_error'` which is equivalent.\n",
      "  warn(\n",
      "C:\\Users\\mayank\\anaconda3\\lib\\site-packages\\sklearn\\ensemble\\_forest.py:403: FutureWarning: Criterion 'mae' was deprecated in v1.0 and will be removed in version 1.2. Use `criterion='absolute_error'` which is equivalent.\n",
      "  warn(\n",
      "C:\\Users\\mayank\\anaconda3\\lib\\site-packages\\sklearn\\ensemble\\_forest.py:403: FutureWarning: Criterion 'mae' was deprecated in v1.0 and will be removed in version 1.2. Use `criterion='absolute_error'` which is equivalent.\n",
      "  warn(\n",
      "C:\\Users\\mayank\\anaconda3\\lib\\site-packages\\sklearn\\ensemble\\_forest.py:403: FutureWarning: Criterion 'mae' was deprecated in v1.0 and will be removed in version 1.2. Use `criterion='absolute_error'` which is equivalent.\n",
      "  warn(\n",
      "C:\\Users\\mayank\\anaconda3\\lib\\site-packages\\sklearn\\ensemble\\_forest.py:403: FutureWarning: Criterion 'mae' was deprecated in v1.0 and will be removed in version 1.2. Use `criterion='absolute_error'` which is equivalent.\n",
      "  warn(\n",
      "C:\\Users\\mayank\\anaconda3\\lib\\site-packages\\sklearn\\ensemble\\_forest.py:403: FutureWarning: Criterion 'mae' was deprecated in v1.0 and will be removed in version 1.2. Use `criterion='absolute_error'` which is equivalent.\n",
      "  warn(\n",
      "C:\\Users\\mayank\\anaconda3\\lib\\site-packages\\sklearn\\ensemble\\_forest.py:403: FutureWarning: Criterion 'mae' was deprecated in v1.0 and will be removed in version 1.2. Use `criterion='absolute_error'` which is equivalent.\n",
      "  warn(\n",
      "C:\\Users\\mayank\\anaconda3\\lib\\site-packages\\sklearn\\ensemble\\_forest.py:403: FutureWarning: Criterion 'mae' was deprecated in v1.0 and will be removed in version 1.2. Use `criterion='absolute_error'` which is equivalent.\n",
      "  warn(\n",
      "C:\\Users\\mayank\\anaconda3\\lib\\site-packages\\sklearn\\ensemble\\_forest.py:403: FutureWarning: Criterion 'mae' was deprecated in v1.0 and will be removed in version 1.2. Use `criterion='absolute_error'` which is equivalent.\n",
      "  warn(\n",
      "C:\\Users\\mayank\\anaconda3\\lib\\site-packages\\sklearn\\ensemble\\_forest.py:403: FutureWarning: Criterion 'mae' was deprecated in v1.0 and will be removed in version 1.2. Use `criterion='absolute_error'` which is equivalent.\n",
      "  warn(\n",
      "C:\\Users\\mayank\\anaconda3\\lib\\site-packages\\sklearn\\ensemble\\_forest.py:403: FutureWarning: Criterion 'mae' was deprecated in v1.0 and will be removed in version 1.2. Use `criterion='absolute_error'` which is equivalent.\n",
      "  warn(\n",
      "C:\\Users\\mayank\\anaconda3\\lib\\site-packages\\sklearn\\ensemble\\_forest.py:403: FutureWarning: Criterion 'mae' was deprecated in v1.0 and will be removed in version 1.2. Use `criterion='absolute_error'` which is equivalent.\n",
      "  warn(\n",
      "C:\\Users\\mayank\\anaconda3\\lib\\site-packages\\sklearn\\ensemble\\_forest.py:403: FutureWarning: Criterion 'mae' was deprecated in v1.0 and will be removed in version 1.2. Use `criterion='absolute_error'` which is equivalent.\n",
      "  warn(\n",
      "C:\\Users\\mayank\\anaconda3\\lib\\site-packages\\sklearn\\ensemble\\_forest.py:403: FutureWarning: Criterion 'mae' was deprecated in v1.0 and will be removed in version 1.2. Use `criterion='absolute_error'` which is equivalent.\n",
      "  warn(\n",
      "C:\\Users\\mayank\\anaconda3\\lib\\site-packages\\sklearn\\ensemble\\_forest.py:403: FutureWarning: Criterion 'mae' was deprecated in v1.0 and will be removed in version 1.2. Use `criterion='absolute_error'` which is equivalent.\n",
      "  warn(\n",
      "C:\\Users\\mayank\\anaconda3\\lib\\site-packages\\sklearn\\ensemble\\_forest.py:403: FutureWarning: Criterion 'mae' was deprecated in v1.0 and will be removed in version 1.2. Use `criterion='absolute_error'` which is equivalent.\n",
      "  warn(\n",
      "C:\\Users\\mayank\\anaconda3\\lib\\site-packages\\sklearn\\ensemble\\_forest.py:403: FutureWarning: Criterion 'mae' was deprecated in v1.0 and will be removed in version 1.2. Use `criterion='absolute_error'` which is equivalent.\n",
      "  warn(\n",
      "C:\\Users\\mayank\\anaconda3\\lib\\site-packages\\sklearn\\ensemble\\_forest.py:403: FutureWarning: Criterion 'mae' was deprecated in v1.0 and will be removed in version 1.2. Use `criterion='absolute_error'` which is equivalent.\n",
      "  warn(\n",
      "C:\\Users\\mayank\\anaconda3\\lib\\site-packages\\sklearn\\ensemble\\_forest.py:403: FutureWarning: Criterion 'mae' was deprecated in v1.0 and will be removed in version 1.2. Use `criterion='absolute_error'` which is equivalent.\n",
      "  warn(\n",
      "C:\\Users\\mayank\\anaconda3\\lib\\site-packages\\sklearn\\ensemble\\_forest.py:403: FutureWarning: Criterion 'mae' was deprecated in v1.0 and will be removed in version 1.2. Use `criterion='absolute_error'` which is equivalent.\n",
      "  warn(\n",
      "C:\\Users\\mayank\\anaconda3\\lib\\site-packages\\sklearn\\ensemble\\_forest.py:403: FutureWarning: Criterion 'mae' was deprecated in v1.0 and will be removed in version 1.2. Use `criterion='absolute_error'` which is equivalent.\n",
      "  warn(\n",
      "C:\\Users\\mayank\\anaconda3\\lib\\site-packages\\sklearn\\ensemble\\_forest.py:403: FutureWarning: Criterion 'mae' was deprecated in v1.0 and will be removed in version 1.2. Use `criterion='absolute_error'` which is equivalent.\n",
      "  warn(\n",
      "C:\\Users\\mayank\\anaconda3\\lib\\site-packages\\sklearn\\ensemble\\_forest.py:403: FutureWarning: Criterion 'mae' was deprecated in v1.0 and will be removed in version 1.2. Use `criterion='absolute_error'` which is equivalent.\n",
      "  warn(\n",
      "C:\\Users\\mayank\\anaconda3\\lib\\site-packages\\sklearn\\ensemble\\_forest.py:403: FutureWarning: Criterion 'mae' was deprecated in v1.0 and will be removed in version 1.2. Use `criterion='absolute_error'` which is equivalent.\n",
      "  warn(\n"
     ]
    },
    {
     "name": "stderr",
     "output_type": "stream",
     "text": [
      "C:\\Users\\mayank\\anaconda3\\lib\\site-packages\\sklearn\\ensemble\\_forest.py:403: FutureWarning: Criterion 'mae' was deprecated in v1.0 and will be removed in version 1.2. Use `criterion='absolute_error'` which is equivalent.\n",
      "  warn(\n",
      "C:\\Users\\mayank\\anaconda3\\lib\\site-packages\\sklearn\\ensemble\\_forest.py:403: FutureWarning: Criterion 'mae' was deprecated in v1.0 and will be removed in version 1.2. Use `criterion='absolute_error'` which is equivalent.\n",
      "  warn(\n",
      "C:\\Users\\mayank\\anaconda3\\lib\\site-packages\\sklearn\\ensemble\\_forest.py:403: FutureWarning: Criterion 'mae' was deprecated in v1.0 and will be removed in version 1.2. Use `criterion='absolute_error'` which is equivalent.\n",
      "  warn(\n",
      "C:\\Users\\mayank\\anaconda3\\lib\\site-packages\\sklearn\\ensemble\\_forest.py:403: FutureWarning: Criterion 'mae' was deprecated in v1.0 and will be removed in version 1.2. Use `criterion='absolute_error'` which is equivalent.\n",
      "  warn(\n",
      "C:\\Users\\mayank\\anaconda3\\lib\\site-packages\\sklearn\\ensemble\\_forest.py:403: FutureWarning: Criterion 'mae' was deprecated in v1.0 and will be removed in version 1.2. Use `criterion='absolute_error'` which is equivalent.\n",
      "  warn(\n",
      "C:\\Users\\mayank\\anaconda3\\lib\\site-packages\\sklearn\\ensemble\\_forest.py:403: FutureWarning: Criterion 'mae' was deprecated in v1.0 and will be removed in version 1.2. Use `criterion='absolute_error'` which is equivalent.\n",
      "  warn(\n",
      "C:\\Users\\mayank\\anaconda3\\lib\\site-packages\\sklearn\\ensemble\\_forest.py:403: FutureWarning: Criterion 'mae' was deprecated in v1.0 and will be removed in version 1.2. Use `criterion='absolute_error'` which is equivalent.\n",
      "  warn(\n",
      "C:\\Users\\mayank\\anaconda3\\lib\\site-packages\\sklearn\\ensemble\\_forest.py:403: FutureWarning: Criterion 'mae' was deprecated in v1.0 and will be removed in version 1.2. Use `criterion='absolute_error'` which is equivalent.\n",
      "  warn(\n",
      "C:\\Users\\mayank\\anaconda3\\lib\\site-packages\\sklearn\\ensemble\\_forest.py:403: FutureWarning: Criterion 'mae' was deprecated in v1.0 and will be removed in version 1.2. Use `criterion='absolute_error'` which is equivalent.\n",
      "  warn(\n",
      "C:\\Users\\mayank\\anaconda3\\lib\\site-packages\\sklearn\\ensemble\\_forest.py:403: FutureWarning: Criterion 'mae' was deprecated in v1.0 and will be removed in version 1.2. Use `criterion='absolute_error'` which is equivalent.\n",
      "  warn(\n",
      "C:\\Users\\mayank\\anaconda3\\lib\\site-packages\\sklearn\\ensemble\\_forest.py:403: FutureWarning: Criterion 'mae' was deprecated in v1.0 and will be removed in version 1.2. Use `criterion='absolute_error'` which is equivalent.\n",
      "  warn(\n",
      "C:\\Users\\mayank\\anaconda3\\lib\\site-packages\\sklearn\\ensemble\\_forest.py:403: FutureWarning: Criterion 'mae' was deprecated in v1.0 and will be removed in version 1.2. Use `criterion='absolute_error'` which is equivalent.\n",
      "  warn(\n",
      "C:\\Users\\mayank\\anaconda3\\lib\\site-packages\\sklearn\\ensemble\\_forest.py:403: FutureWarning: Criterion 'mae' was deprecated in v1.0 and will be removed in version 1.2. Use `criterion='absolute_error'` which is equivalent.\n",
      "  warn(\n",
      "C:\\Users\\mayank\\anaconda3\\lib\\site-packages\\sklearn\\ensemble\\_forest.py:403: FutureWarning: Criterion 'mae' was deprecated in v1.0 and will be removed in version 1.2. Use `criterion='absolute_error'` which is equivalent.\n",
      "  warn(\n",
      "C:\\Users\\mayank\\anaconda3\\lib\\site-packages\\sklearn\\ensemble\\_forest.py:403: FutureWarning: Criterion 'mae' was deprecated in v1.0 and will be removed in version 1.2. Use `criterion='absolute_error'` which is equivalent.\n",
      "  warn(\n",
      "C:\\Users\\mayank\\anaconda3\\lib\\site-packages\\sklearn\\ensemble\\_forest.py:403: FutureWarning: Criterion 'mae' was deprecated in v1.0 and will be removed in version 1.2. Use `criterion='absolute_error'` which is equivalent.\n",
      "  warn(\n",
      "C:\\Users\\mayank\\anaconda3\\lib\\site-packages\\sklearn\\ensemble\\_forest.py:403: FutureWarning: Criterion 'mae' was deprecated in v1.0 and will be removed in version 1.2. Use `criterion='absolute_error'` which is equivalent.\n",
      "  warn(\n",
      "C:\\Users\\mayank\\anaconda3\\lib\\site-packages\\sklearn\\ensemble\\_forest.py:403: FutureWarning: Criterion 'mae' was deprecated in v1.0 and will be removed in version 1.2. Use `criterion='absolute_error'` which is equivalent.\n",
      "  warn(\n",
      "C:\\Users\\mayank\\anaconda3\\lib\\site-packages\\sklearn\\ensemble\\_forest.py:403: FutureWarning: Criterion 'mae' was deprecated in v1.0 and will be removed in version 1.2. Use `criterion='absolute_error'` which is equivalent.\n",
      "  warn(\n",
      "C:\\Users\\mayank\\anaconda3\\lib\\site-packages\\sklearn\\ensemble\\_forest.py:403: FutureWarning: Criterion 'mae' was deprecated in v1.0 and will be removed in version 1.2. Use `criterion='absolute_error'` which is equivalent.\n",
      "  warn(\n",
      "C:\\Users\\mayank\\anaconda3\\lib\\site-packages\\sklearn\\ensemble\\_forest.py:403: FutureWarning: Criterion 'mae' was deprecated in v1.0 and will be removed in version 1.2. Use `criterion='absolute_error'` which is equivalent.\n",
      "  warn(\n",
      "C:\\Users\\mayank\\anaconda3\\lib\\site-packages\\sklearn\\ensemble\\_forest.py:403: FutureWarning: Criterion 'mae' was deprecated in v1.0 and will be removed in version 1.2. Use `criterion='absolute_error'` which is equivalent.\n",
      "  warn(\n",
      "C:\\Users\\mayank\\anaconda3\\lib\\site-packages\\sklearn\\ensemble\\_forest.py:403: FutureWarning: Criterion 'mae' was deprecated in v1.0 and will be removed in version 1.2. Use `criterion='absolute_error'` which is equivalent.\n",
      "  warn(\n",
      "C:\\Users\\mayank\\anaconda3\\lib\\site-packages\\sklearn\\ensemble\\_forest.py:403: FutureWarning: Criterion 'mae' was deprecated in v1.0 and will be removed in version 1.2. Use `criterion='absolute_error'` which is equivalent.\n",
      "  warn(\n",
      "C:\\Users\\mayank\\anaconda3\\lib\\site-packages\\sklearn\\ensemble\\_forest.py:403: FutureWarning: Criterion 'mae' was deprecated in v1.0 and will be removed in version 1.2. Use `criterion='absolute_error'` which is equivalent.\n",
      "  warn(\n",
      "C:\\Users\\mayank\\anaconda3\\lib\\site-packages\\sklearn\\ensemble\\_forest.py:403: FutureWarning: Criterion 'mae' was deprecated in v1.0 and will be removed in version 1.2. Use `criterion='absolute_error'` which is equivalent.\n",
      "  warn(\n",
      "C:\\Users\\mayank\\anaconda3\\lib\\site-packages\\sklearn\\ensemble\\_forest.py:403: FutureWarning: Criterion 'mae' was deprecated in v1.0 and will be removed in version 1.2. Use `criterion='absolute_error'` which is equivalent.\n",
      "  warn(\n",
      "C:\\Users\\mayank\\anaconda3\\lib\\site-packages\\sklearn\\ensemble\\_forest.py:403: FutureWarning: Criterion 'mae' was deprecated in v1.0 and will be removed in version 1.2. Use `criterion='absolute_error'` which is equivalent.\n",
      "  warn(\n",
      "C:\\Users\\mayank\\anaconda3\\lib\\site-packages\\sklearn\\ensemble\\_forest.py:403: FutureWarning: Criterion 'mae' was deprecated in v1.0 and will be removed in version 1.2. Use `criterion='absolute_error'` which is equivalent.\n",
      "  warn(\n",
      "C:\\Users\\mayank\\anaconda3\\lib\\site-packages\\sklearn\\ensemble\\_forest.py:403: FutureWarning: Criterion 'mae' was deprecated in v1.0 and will be removed in version 1.2. Use `criterion='absolute_error'` which is equivalent.\n",
      "  warn(\n",
      "C:\\Users\\mayank\\anaconda3\\lib\\site-packages\\sklearn\\ensemble\\_forest.py:403: FutureWarning: Criterion 'mae' was deprecated in v1.0 and will be removed in version 1.2. Use `criterion='absolute_error'` which is equivalent.\n",
      "  warn(\n",
      "C:\\Users\\mayank\\anaconda3\\lib\\site-packages\\sklearn\\ensemble\\_forest.py:403: FutureWarning: Criterion 'mae' was deprecated in v1.0 and will be removed in version 1.2. Use `criterion='absolute_error'` which is equivalent.\n",
      "  warn(\n",
      "C:\\Users\\mayank\\anaconda3\\lib\\site-packages\\sklearn\\ensemble\\_forest.py:403: FutureWarning: Criterion 'mae' was deprecated in v1.0 and will be removed in version 1.2. Use `criterion='absolute_error'` which is equivalent.\n",
      "  warn(\n",
      "C:\\Users\\mayank\\anaconda3\\lib\\site-packages\\sklearn\\ensemble\\_forest.py:403: FutureWarning: Criterion 'mae' was deprecated in v1.0 and will be removed in version 1.2. Use `criterion='absolute_error'` which is equivalent.\n",
      "  warn(\n",
      "C:\\Users\\mayank\\anaconda3\\lib\\site-packages\\sklearn\\ensemble\\_forest.py:403: FutureWarning: Criterion 'mae' was deprecated in v1.0 and will be removed in version 1.2. Use `criterion='absolute_error'` which is equivalent.\n",
      "  warn(\n",
      "C:\\Users\\mayank\\anaconda3\\lib\\site-packages\\sklearn\\ensemble\\_forest.py:403: FutureWarning: Criterion 'mae' was deprecated in v1.0 and will be removed in version 1.2. Use `criterion='absolute_error'` which is equivalent.\n",
      "  warn(\n"
     ]
    },
    {
     "name": "stderr",
     "output_type": "stream",
     "text": [
      "C:\\Users\\mayank\\anaconda3\\lib\\site-packages\\sklearn\\ensemble\\_forest.py:403: FutureWarning: Criterion 'mae' was deprecated in v1.0 and will be removed in version 1.2. Use `criterion='absolute_error'` which is equivalent.\n",
      "  warn(\n",
      "C:\\Users\\mayank\\anaconda3\\lib\\site-packages\\sklearn\\ensemble\\_forest.py:403: FutureWarning: Criterion 'mae' was deprecated in v1.0 and will be removed in version 1.2. Use `criterion='absolute_error'` which is equivalent.\n",
      "  warn(\n",
      "C:\\Users\\mayank\\anaconda3\\lib\\site-packages\\sklearn\\ensemble\\_forest.py:403: FutureWarning: Criterion 'mae' was deprecated in v1.0 and will be removed in version 1.2. Use `criterion='absolute_error'` which is equivalent.\n",
      "  warn(\n",
      "C:\\Users\\mayank\\anaconda3\\lib\\site-packages\\sklearn\\ensemble\\_forest.py:403: FutureWarning: Criterion 'mae' was deprecated in v1.0 and will be removed in version 1.2. Use `criterion='absolute_error'` which is equivalent.\n",
      "  warn(\n",
      "C:\\Users\\mayank\\anaconda3\\lib\\site-packages\\sklearn\\ensemble\\_forest.py:403: FutureWarning: Criterion 'mae' was deprecated in v1.0 and will be removed in version 1.2. Use `criterion='absolute_error'` which is equivalent.\n",
      "  warn(\n",
      "C:\\Users\\mayank\\anaconda3\\lib\\site-packages\\sklearn\\ensemble\\_forest.py:403: FutureWarning: Criterion 'mae' was deprecated in v1.0 and will be removed in version 1.2. Use `criterion='absolute_error'` which is equivalent.\n",
      "  warn(\n",
      "C:\\Users\\mayank\\anaconda3\\lib\\site-packages\\sklearn\\ensemble\\_forest.py:403: FutureWarning: Criterion 'mae' was deprecated in v1.0 and will be removed in version 1.2. Use `criterion='absolute_error'` which is equivalent.\n",
      "  warn(\n",
      "C:\\Users\\mayank\\anaconda3\\lib\\site-packages\\sklearn\\ensemble\\_forest.py:403: FutureWarning: Criterion 'mae' was deprecated in v1.0 and will be removed in version 1.2. Use `criterion='absolute_error'` which is equivalent.\n",
      "  warn(\n",
      "C:\\Users\\mayank\\anaconda3\\lib\\site-packages\\sklearn\\ensemble\\_forest.py:403: FutureWarning: Criterion 'mae' was deprecated in v1.0 and will be removed in version 1.2. Use `criterion='absolute_error'` which is equivalent.\n",
      "  warn(\n",
      "C:\\Users\\mayank\\anaconda3\\lib\\site-packages\\sklearn\\ensemble\\_forest.py:403: FutureWarning: Criterion 'mae' was deprecated in v1.0 and will be removed in version 1.2. Use `criterion='absolute_error'` which is equivalent.\n",
      "  warn(\n",
      "C:\\Users\\mayank\\anaconda3\\lib\\site-packages\\sklearn\\ensemble\\_forest.py:403: FutureWarning: Criterion 'mae' was deprecated in v1.0 and will be removed in version 1.2. Use `criterion='absolute_error'` which is equivalent.\n",
      "  warn(\n",
      "C:\\Users\\mayank\\anaconda3\\lib\\site-packages\\sklearn\\ensemble\\_forest.py:403: FutureWarning: Criterion 'mae' was deprecated in v1.0 and will be removed in version 1.2. Use `criterion='absolute_error'` which is equivalent.\n",
      "  warn(\n",
      "C:\\Users\\mayank\\anaconda3\\lib\\site-packages\\sklearn\\ensemble\\_forest.py:403: FutureWarning: Criterion 'mae' was deprecated in v1.0 and will be removed in version 1.2. Use `criterion='absolute_error'` which is equivalent.\n",
      "  warn(\n",
      "C:\\Users\\mayank\\anaconda3\\lib\\site-packages\\sklearn\\ensemble\\_forest.py:403: FutureWarning: Criterion 'mae' was deprecated in v1.0 and will be removed in version 1.2. Use `criterion='absolute_error'` which is equivalent.\n",
      "  warn(\n",
      "C:\\Users\\mayank\\anaconda3\\lib\\site-packages\\sklearn\\ensemble\\_forest.py:403: FutureWarning: Criterion 'mae' was deprecated in v1.0 and will be removed in version 1.2. Use `criterion='absolute_error'` which is equivalent.\n",
      "  warn(\n",
      "C:\\Users\\mayank\\anaconda3\\lib\\site-packages\\sklearn\\ensemble\\_forest.py:403: FutureWarning: Criterion 'mae' was deprecated in v1.0 and will be removed in version 1.2. Use `criterion='absolute_error'` which is equivalent.\n",
      "  warn(\n",
      "C:\\Users\\mayank\\anaconda3\\lib\\site-packages\\sklearn\\ensemble\\_forest.py:403: FutureWarning: Criterion 'mae' was deprecated in v1.0 and will be removed in version 1.2. Use `criterion='absolute_error'` which is equivalent.\n",
      "  warn(\n",
      "C:\\Users\\mayank\\anaconda3\\lib\\site-packages\\sklearn\\ensemble\\_forest.py:403: FutureWarning: Criterion 'mae' was deprecated in v1.0 and will be removed in version 1.2. Use `criterion='absolute_error'` which is equivalent.\n",
      "  warn(\n",
      "C:\\Users\\mayank\\anaconda3\\lib\\site-packages\\sklearn\\ensemble\\_forest.py:403: FutureWarning: Criterion 'mae' was deprecated in v1.0 and will be removed in version 1.2. Use `criterion='absolute_error'` which is equivalent.\n",
      "  warn(\n",
      "C:\\Users\\mayank\\anaconda3\\lib\\site-packages\\sklearn\\ensemble\\_forest.py:403: FutureWarning: Criterion 'mae' was deprecated in v1.0 and will be removed in version 1.2. Use `criterion='absolute_error'` which is equivalent.\n",
      "  warn(\n",
      "C:\\Users\\mayank\\anaconda3\\lib\\site-packages\\sklearn\\ensemble\\_forest.py:403: FutureWarning: Criterion 'mae' was deprecated in v1.0 and will be removed in version 1.2. Use `criterion='absolute_error'` which is equivalent.\n",
      "  warn(\n",
      "C:\\Users\\mayank\\anaconda3\\lib\\site-packages\\sklearn\\ensemble\\_forest.py:403: FutureWarning: Criterion 'mae' was deprecated in v1.0 and will be removed in version 1.2. Use `criterion='absolute_error'` which is equivalent.\n",
      "  warn(\n",
      "C:\\Users\\mayank\\anaconda3\\lib\\site-packages\\sklearn\\ensemble\\_forest.py:403: FutureWarning: Criterion 'mae' was deprecated in v1.0 and will be removed in version 1.2. Use `criterion='absolute_error'` which is equivalent.\n",
      "  warn(\n",
      "C:\\Users\\mayank\\anaconda3\\lib\\site-packages\\sklearn\\ensemble\\_forest.py:403: FutureWarning: Criterion 'mae' was deprecated in v1.0 and will be removed in version 1.2. Use `criterion='absolute_error'` which is equivalent.\n",
      "  warn(\n",
      "C:\\Users\\mayank\\anaconda3\\lib\\site-packages\\sklearn\\ensemble\\_forest.py:403: FutureWarning: Criterion 'mae' was deprecated in v1.0 and will be removed in version 1.2. Use `criterion='absolute_error'` which is equivalent.\n",
      "  warn(\n",
      "C:\\Users\\mayank\\anaconda3\\lib\\site-packages\\sklearn\\ensemble\\_forest.py:403: FutureWarning: Criterion 'mae' was deprecated in v1.0 and will be removed in version 1.2. Use `criterion='absolute_error'` which is equivalent.\n",
      "  warn(\n",
      "C:\\Users\\mayank\\anaconda3\\lib\\site-packages\\sklearn\\ensemble\\_forest.py:403: FutureWarning: Criterion 'mae' was deprecated in v1.0 and will be removed in version 1.2. Use `criterion='absolute_error'` which is equivalent.\n",
      "  warn(\n",
      "C:\\Users\\mayank\\anaconda3\\lib\\site-packages\\sklearn\\ensemble\\_forest.py:403: FutureWarning: Criterion 'mae' was deprecated in v1.0 and will be removed in version 1.2. Use `criterion='absolute_error'` which is equivalent.\n",
      "  warn(\n",
      "C:\\Users\\mayank\\anaconda3\\lib\\site-packages\\sklearn\\ensemble\\_forest.py:403: FutureWarning: Criterion 'mae' was deprecated in v1.0 and will be removed in version 1.2. Use `criterion='absolute_error'` which is equivalent.\n",
      "  warn(\n",
      "C:\\Users\\mayank\\anaconda3\\lib\\site-packages\\sklearn\\ensemble\\_forest.py:403: FutureWarning: Criterion 'mae' was deprecated in v1.0 and will be removed in version 1.2. Use `criterion='absolute_error'` which is equivalent.\n",
      "  warn(\n",
      "C:\\Users\\mayank\\anaconda3\\lib\\site-packages\\sklearn\\ensemble\\_forest.py:403: FutureWarning: Criterion 'mae' was deprecated in v1.0 and will be removed in version 1.2. Use `criterion='absolute_error'` which is equivalent.\n",
      "  warn(\n",
      "C:\\Users\\mayank\\anaconda3\\lib\\site-packages\\sklearn\\ensemble\\_forest.py:403: FutureWarning: Criterion 'mae' was deprecated in v1.0 and will be removed in version 1.2. Use `criterion='absolute_error'` which is equivalent.\n",
      "  warn(\n",
      "C:\\Users\\mayank\\anaconda3\\lib\\site-packages\\sklearn\\ensemble\\_forest.py:403: FutureWarning: Criterion 'mae' was deprecated in v1.0 and will be removed in version 1.2. Use `criterion='absolute_error'` which is equivalent.\n",
      "  warn(\n",
      "C:\\Users\\mayank\\anaconda3\\lib\\site-packages\\sklearn\\ensemble\\_forest.py:403: FutureWarning: Criterion 'mae' was deprecated in v1.0 and will be removed in version 1.2. Use `criterion='absolute_error'` which is equivalent.\n",
      "  warn(\n",
      "C:\\Users\\mayank\\anaconda3\\lib\\site-packages\\sklearn\\ensemble\\_forest.py:403: FutureWarning: Criterion 'mae' was deprecated in v1.0 and will be removed in version 1.2. Use `criterion='absolute_error'` which is equivalent.\n",
      "  warn(\n",
      "C:\\Users\\mayank\\anaconda3\\lib\\site-packages\\sklearn\\ensemble\\_forest.py:403: FutureWarning: Criterion 'mae' was deprecated in v1.0 and will be removed in version 1.2. Use `criterion='absolute_error'` which is equivalent.\n",
      "  warn(\n"
     ]
    },
    {
     "name": "stderr",
     "output_type": "stream",
     "text": [
      "C:\\Users\\mayank\\anaconda3\\lib\\site-packages\\sklearn\\ensemble\\_forest.py:403: FutureWarning: Criterion 'mae' was deprecated in v1.0 and will be removed in version 1.2. Use `criterion='absolute_error'` which is equivalent.\n",
      "  warn(\n",
      "C:\\Users\\mayank\\anaconda3\\lib\\site-packages\\sklearn\\ensemble\\_forest.py:403: FutureWarning: Criterion 'mae' was deprecated in v1.0 and will be removed in version 1.2. Use `criterion='absolute_error'` which is equivalent.\n",
      "  warn(\n",
      "C:\\Users\\mayank\\anaconda3\\lib\\site-packages\\sklearn\\ensemble\\_forest.py:403: FutureWarning: Criterion 'mae' was deprecated in v1.0 and will be removed in version 1.2. Use `criterion='absolute_error'` which is equivalent.\n",
      "  warn(\n",
      "C:\\Users\\mayank\\anaconda3\\lib\\site-packages\\sklearn\\ensemble\\_forest.py:403: FutureWarning: Criterion 'mae' was deprecated in v1.0 and will be removed in version 1.2. Use `criterion='absolute_error'` which is equivalent.\n",
      "  warn(\n",
      "C:\\Users\\mayank\\anaconda3\\lib\\site-packages\\sklearn\\ensemble\\_forest.py:403: FutureWarning: Criterion 'mae' was deprecated in v1.0 and will be removed in version 1.2. Use `criterion='absolute_error'` which is equivalent.\n",
      "  warn(\n",
      "C:\\Users\\mayank\\anaconda3\\lib\\site-packages\\sklearn\\ensemble\\_forest.py:403: FutureWarning: Criterion 'mae' was deprecated in v1.0 and will be removed in version 1.2. Use `criterion='absolute_error'` which is equivalent.\n",
      "  warn(\n",
      "C:\\Users\\mayank\\anaconda3\\lib\\site-packages\\sklearn\\ensemble\\_forest.py:403: FutureWarning: Criterion 'mae' was deprecated in v1.0 and will be removed in version 1.2. Use `criterion='absolute_error'` which is equivalent.\n",
      "  warn(\n",
      "C:\\Users\\mayank\\anaconda3\\lib\\site-packages\\sklearn\\ensemble\\_forest.py:403: FutureWarning: Criterion 'mae' was deprecated in v1.0 and will be removed in version 1.2. Use `criterion='absolute_error'` which is equivalent.\n",
      "  warn(\n",
      "C:\\Users\\mayank\\anaconda3\\lib\\site-packages\\sklearn\\ensemble\\_forest.py:403: FutureWarning: Criterion 'mae' was deprecated in v1.0 and will be removed in version 1.2. Use `criterion='absolute_error'` which is equivalent.\n",
      "  warn(\n",
      "C:\\Users\\mayank\\anaconda3\\lib\\site-packages\\sklearn\\ensemble\\_forest.py:403: FutureWarning: Criterion 'mae' was deprecated in v1.0 and will be removed in version 1.2. Use `criterion='absolute_error'` which is equivalent.\n",
      "  warn(\n",
      "C:\\Users\\mayank\\anaconda3\\lib\\site-packages\\sklearn\\ensemble\\_forest.py:403: FutureWarning: Criterion 'mae' was deprecated in v1.0 and will be removed in version 1.2. Use `criterion='absolute_error'` which is equivalent.\n",
      "  warn(\n",
      "C:\\Users\\mayank\\anaconda3\\lib\\site-packages\\sklearn\\ensemble\\_forest.py:403: FutureWarning: Criterion 'mae' was deprecated in v1.0 and will be removed in version 1.2. Use `criterion='absolute_error'` which is equivalent.\n",
      "  warn(\n",
      "C:\\Users\\mayank\\anaconda3\\lib\\site-packages\\sklearn\\ensemble\\_forest.py:403: FutureWarning: Criterion 'mae' was deprecated in v1.0 and will be removed in version 1.2. Use `criterion='absolute_error'` which is equivalent.\n",
      "  warn(\n",
      "C:\\Users\\mayank\\anaconda3\\lib\\site-packages\\sklearn\\ensemble\\_forest.py:403: FutureWarning: Criterion 'mae' was deprecated in v1.0 and will be removed in version 1.2. Use `criterion='absolute_error'` which is equivalent.\n",
      "  warn(\n",
      "C:\\Users\\mayank\\anaconda3\\lib\\site-packages\\sklearn\\ensemble\\_forest.py:403: FutureWarning: Criterion 'mae' was deprecated in v1.0 and will be removed in version 1.2. Use `criterion='absolute_error'` which is equivalent.\n",
      "  warn(\n",
      "C:\\Users\\mayank\\anaconda3\\lib\\site-packages\\sklearn\\ensemble\\_forest.py:403: FutureWarning: Criterion 'mae' was deprecated in v1.0 and will be removed in version 1.2. Use `criterion='absolute_error'` which is equivalent.\n",
      "  warn(\n",
      "C:\\Users\\mayank\\anaconda3\\lib\\site-packages\\sklearn\\ensemble\\_forest.py:403: FutureWarning: Criterion 'mae' was deprecated in v1.0 and will be removed in version 1.2. Use `criterion='absolute_error'` which is equivalent.\n",
      "  warn(\n",
      "C:\\Users\\mayank\\anaconda3\\lib\\site-packages\\sklearn\\ensemble\\_forest.py:403: FutureWarning: Criterion 'mae' was deprecated in v1.0 and will be removed in version 1.2. Use `criterion='absolute_error'` which is equivalent.\n",
      "  warn(\n",
      "C:\\Users\\mayank\\anaconda3\\lib\\site-packages\\sklearn\\ensemble\\_forest.py:403: FutureWarning: Criterion 'mae' was deprecated in v1.0 and will be removed in version 1.2. Use `criterion='absolute_error'` which is equivalent.\n",
      "  warn(\n",
      "C:\\Users\\mayank\\anaconda3\\lib\\site-packages\\sklearn\\ensemble\\_forest.py:403: FutureWarning: Criterion 'mae' was deprecated in v1.0 and will be removed in version 1.2. Use `criterion='absolute_error'` which is equivalent.\n",
      "  warn(\n",
      "C:\\Users\\mayank\\anaconda3\\lib\\site-packages\\sklearn\\ensemble\\_forest.py:403: FutureWarning: Criterion 'mae' was deprecated in v1.0 and will be removed in version 1.2. Use `criterion='absolute_error'` which is equivalent.\n",
      "  warn(\n",
      "C:\\Users\\mayank\\anaconda3\\lib\\site-packages\\sklearn\\ensemble\\_forest.py:403: FutureWarning: Criterion 'mae' was deprecated in v1.0 and will be removed in version 1.2. Use `criterion='absolute_error'` which is equivalent.\n",
      "  warn(\n",
      "C:\\Users\\mayank\\anaconda3\\lib\\site-packages\\sklearn\\ensemble\\_forest.py:403: FutureWarning: Criterion 'mae' was deprecated in v1.0 and will be removed in version 1.2. Use `criterion='absolute_error'` which is equivalent.\n",
      "  warn(\n",
      "C:\\Users\\mayank\\anaconda3\\lib\\site-packages\\sklearn\\ensemble\\_forest.py:403: FutureWarning: Criterion 'mae' was deprecated in v1.0 and will be removed in version 1.2. Use `criterion='absolute_error'` which is equivalent.\n",
      "  warn(\n",
      "C:\\Users\\mayank\\anaconda3\\lib\\site-packages\\sklearn\\ensemble\\_forest.py:403: FutureWarning: Criterion 'mae' was deprecated in v1.0 and will be removed in version 1.2. Use `criterion='absolute_error'` which is equivalent.\n",
      "  warn(\n",
      "C:\\Users\\mayank\\anaconda3\\lib\\site-packages\\sklearn\\ensemble\\_forest.py:403: FutureWarning: Criterion 'mae' was deprecated in v1.0 and will be removed in version 1.2. Use `criterion='absolute_error'` which is equivalent.\n",
      "  warn(\n",
      "C:\\Users\\mayank\\anaconda3\\lib\\site-packages\\sklearn\\ensemble\\_forest.py:403: FutureWarning: Criterion 'mae' was deprecated in v1.0 and will be removed in version 1.2. Use `criterion='absolute_error'` which is equivalent.\n",
      "  warn(\n",
      "C:\\Users\\mayank\\anaconda3\\lib\\site-packages\\sklearn\\ensemble\\_forest.py:403: FutureWarning: Criterion 'mae' was deprecated in v1.0 and will be removed in version 1.2. Use `criterion='absolute_error'` which is equivalent.\n",
      "  warn(\n",
      "C:\\Users\\mayank\\anaconda3\\lib\\site-packages\\sklearn\\ensemble\\_forest.py:403: FutureWarning: Criterion 'mae' was deprecated in v1.0 and will be removed in version 1.2. Use `criterion='absolute_error'` which is equivalent.\n",
      "  warn(\n",
      "C:\\Users\\mayank\\anaconda3\\lib\\site-packages\\sklearn\\ensemble\\_forest.py:403: FutureWarning: Criterion 'mae' was deprecated in v1.0 and will be removed in version 1.2. Use `criterion='absolute_error'` which is equivalent.\n",
      "  warn(\n",
      "C:\\Users\\mayank\\anaconda3\\lib\\site-packages\\sklearn\\ensemble\\_forest.py:403: FutureWarning: Criterion 'mae' was deprecated in v1.0 and will be removed in version 1.2. Use `criterion='absolute_error'` which is equivalent.\n",
      "  warn(\n",
      "C:\\Users\\mayank\\anaconda3\\lib\\site-packages\\sklearn\\ensemble\\_forest.py:403: FutureWarning: Criterion 'mae' was deprecated in v1.0 and will be removed in version 1.2. Use `criterion='absolute_error'` which is equivalent.\n",
      "  warn(\n",
      "C:\\Users\\mayank\\anaconda3\\lib\\site-packages\\sklearn\\ensemble\\_forest.py:403: FutureWarning: Criterion 'mae' was deprecated in v1.0 and will be removed in version 1.2. Use `criterion='absolute_error'` which is equivalent.\n",
      "  warn(\n",
      "C:\\Users\\mayank\\anaconda3\\lib\\site-packages\\sklearn\\ensemble\\_forest.py:403: FutureWarning: Criterion 'mae' was deprecated in v1.0 and will be removed in version 1.2. Use `criterion='absolute_error'` which is equivalent.\n",
      "  warn(\n",
      "C:\\Users\\mayank\\anaconda3\\lib\\site-packages\\sklearn\\ensemble\\_forest.py:403: FutureWarning: Criterion 'mae' was deprecated in v1.0 and will be removed in version 1.2. Use `criterion='absolute_error'` which is equivalent.\n",
      "  warn(\n",
      "C:\\Users\\mayank\\anaconda3\\lib\\site-packages\\sklearn\\ensemble\\_forest.py:403: FutureWarning: Criterion 'mae' was deprecated in v1.0 and will be removed in version 1.2. Use `criterion='absolute_error'` which is equivalent.\n",
      "  warn(\n"
     ]
    },
    {
     "name": "stderr",
     "output_type": "stream",
     "text": [
      "C:\\Users\\mayank\\anaconda3\\lib\\site-packages\\sklearn\\ensemble\\_forest.py:403: FutureWarning: Criterion 'mae' was deprecated in v1.0 and will be removed in version 1.2. Use `criterion='absolute_error'` which is equivalent.\n",
      "  warn(\n",
      "C:\\Users\\mayank\\anaconda3\\lib\\site-packages\\sklearn\\ensemble\\_forest.py:403: FutureWarning: Criterion 'mae' was deprecated in v1.0 and will be removed in version 1.2. Use `criterion='absolute_error'` which is equivalent.\n",
      "  warn(\n",
      "C:\\Users\\mayank\\anaconda3\\lib\\site-packages\\sklearn\\ensemble\\_forest.py:403: FutureWarning: Criterion 'mae' was deprecated in v1.0 and will be removed in version 1.2. Use `criterion='absolute_error'` which is equivalent.\n",
      "  warn(\n",
      "C:\\Users\\mayank\\anaconda3\\lib\\site-packages\\sklearn\\ensemble\\_forest.py:403: FutureWarning: Criterion 'mae' was deprecated in v1.0 and will be removed in version 1.2. Use `criterion='absolute_error'` which is equivalent.\n",
      "  warn(\n",
      "C:\\Users\\mayank\\anaconda3\\lib\\site-packages\\sklearn\\ensemble\\_forest.py:403: FutureWarning: Criterion 'mae' was deprecated in v1.0 and will be removed in version 1.2. Use `criterion='absolute_error'` which is equivalent.\n",
      "  warn(\n",
      "C:\\Users\\mayank\\anaconda3\\lib\\site-packages\\sklearn\\ensemble\\_forest.py:403: FutureWarning: Criterion 'mae' was deprecated in v1.0 and will be removed in version 1.2. Use `criterion='absolute_error'` which is equivalent.\n",
      "  warn(\n",
      "C:\\Users\\mayank\\anaconda3\\lib\\site-packages\\sklearn\\ensemble\\_forest.py:403: FutureWarning: Criterion 'mae' was deprecated in v1.0 and will be removed in version 1.2. Use `criterion='absolute_error'` which is equivalent.\n",
      "  warn(\n",
      "C:\\Users\\mayank\\anaconda3\\lib\\site-packages\\sklearn\\ensemble\\_forest.py:403: FutureWarning: Criterion 'mae' was deprecated in v1.0 and will be removed in version 1.2. Use `criterion='absolute_error'` which is equivalent.\n",
      "  warn(\n",
      "C:\\Users\\mayank\\anaconda3\\lib\\site-packages\\sklearn\\ensemble\\_forest.py:403: FutureWarning: Criterion 'mae' was deprecated in v1.0 and will be removed in version 1.2. Use `criterion='absolute_error'` which is equivalent.\n",
      "  warn(\n",
      "C:\\Users\\mayank\\anaconda3\\lib\\site-packages\\sklearn\\ensemble\\_forest.py:403: FutureWarning: Criterion 'mae' was deprecated in v1.0 and will be removed in version 1.2. Use `criterion='absolute_error'` which is equivalent.\n",
      "  warn(\n",
      "C:\\Users\\mayank\\anaconda3\\lib\\site-packages\\sklearn\\ensemble\\_forest.py:403: FutureWarning: Criterion 'mae' was deprecated in v1.0 and will be removed in version 1.2. Use `criterion='absolute_error'` which is equivalent.\n",
      "  warn(\n",
      "C:\\Users\\mayank\\anaconda3\\lib\\site-packages\\sklearn\\ensemble\\_forest.py:403: FutureWarning: Criterion 'mae' was deprecated in v1.0 and will be removed in version 1.2. Use `criterion='absolute_error'` which is equivalent.\n",
      "  warn(\n",
      "C:\\Users\\mayank\\anaconda3\\lib\\site-packages\\sklearn\\ensemble\\_forest.py:403: FutureWarning: Criterion 'mae' was deprecated in v1.0 and will be removed in version 1.2. Use `criterion='absolute_error'` which is equivalent.\n",
      "  warn(\n",
      "C:\\Users\\mayank\\anaconda3\\lib\\site-packages\\sklearn\\ensemble\\_forest.py:403: FutureWarning: Criterion 'mae' was deprecated in v1.0 and will be removed in version 1.2. Use `criterion='absolute_error'` which is equivalent.\n",
      "  warn(\n",
      "C:\\Users\\mayank\\anaconda3\\lib\\site-packages\\sklearn\\ensemble\\_forest.py:403: FutureWarning: Criterion 'mae' was deprecated in v1.0 and will be removed in version 1.2. Use `criterion='absolute_error'` which is equivalent.\n",
      "  warn(\n",
      "C:\\Users\\mayank\\anaconda3\\lib\\site-packages\\sklearn\\ensemble\\_forest.py:403: FutureWarning: Criterion 'mae' was deprecated in v1.0 and will be removed in version 1.2. Use `criterion='absolute_error'` which is equivalent.\n",
      "  warn(\n",
      "C:\\Users\\mayank\\anaconda3\\lib\\site-packages\\sklearn\\ensemble\\_forest.py:403: FutureWarning: Criterion 'mae' was deprecated in v1.0 and will be removed in version 1.2. Use `criterion='absolute_error'` which is equivalent.\n",
      "  warn(\n",
      "C:\\Users\\mayank\\anaconda3\\lib\\site-packages\\sklearn\\ensemble\\_forest.py:403: FutureWarning: Criterion 'mae' was deprecated in v1.0 and will be removed in version 1.2. Use `criterion='absolute_error'` which is equivalent.\n",
      "  warn(\n",
      "C:\\Users\\mayank\\anaconda3\\lib\\site-packages\\sklearn\\ensemble\\_forest.py:403: FutureWarning: Criterion 'mae' was deprecated in v1.0 and will be removed in version 1.2. Use `criterion='absolute_error'` which is equivalent.\n",
      "  warn(\n",
      "C:\\Users\\mayank\\anaconda3\\lib\\site-packages\\sklearn\\ensemble\\_forest.py:403: FutureWarning: Criterion 'mae' was deprecated in v1.0 and will be removed in version 1.2. Use `criterion='absolute_error'` which is equivalent.\n",
      "  warn(\n",
      "C:\\Users\\mayank\\anaconda3\\lib\\site-packages\\sklearn\\ensemble\\_forest.py:403: FutureWarning: Criterion 'mae' was deprecated in v1.0 and will be removed in version 1.2. Use `criterion='absolute_error'` which is equivalent.\n",
      "  warn(\n",
      "C:\\Users\\mayank\\anaconda3\\lib\\site-packages\\sklearn\\ensemble\\_forest.py:403: FutureWarning: Criterion 'mae' was deprecated in v1.0 and will be removed in version 1.2. Use `criterion='absolute_error'` which is equivalent.\n",
      "  warn(\n",
      "C:\\Users\\mayank\\anaconda3\\lib\\site-packages\\sklearn\\ensemble\\_forest.py:403: FutureWarning: Criterion 'mae' was deprecated in v1.0 and will be removed in version 1.2. Use `criterion='absolute_error'` which is equivalent.\n",
      "  warn(\n",
      "C:\\Users\\mayank\\anaconda3\\lib\\site-packages\\sklearn\\ensemble\\_forest.py:403: FutureWarning: Criterion 'mae' was deprecated in v1.0 and will be removed in version 1.2. Use `criterion='absolute_error'` which is equivalent.\n",
      "  warn(\n",
      "C:\\Users\\mayank\\anaconda3\\lib\\site-packages\\sklearn\\ensemble\\_forest.py:403: FutureWarning: Criterion 'mae' was deprecated in v1.0 and will be removed in version 1.2. Use `criterion='absolute_error'` which is equivalent.\n",
      "  warn(\n",
      "C:\\Users\\mayank\\anaconda3\\lib\\site-packages\\sklearn\\ensemble\\_forest.py:403: FutureWarning: Criterion 'mae' was deprecated in v1.0 and will be removed in version 1.2. Use `criterion='absolute_error'` which is equivalent.\n",
      "  warn(\n",
      "C:\\Users\\mayank\\anaconda3\\lib\\site-packages\\sklearn\\ensemble\\_forest.py:403: FutureWarning: Criterion 'mae' was deprecated in v1.0 and will be removed in version 1.2. Use `criterion='absolute_error'` which is equivalent.\n",
      "  warn(\n",
      "C:\\Users\\mayank\\anaconda3\\lib\\site-packages\\sklearn\\ensemble\\_forest.py:403: FutureWarning: Criterion 'mae' was deprecated in v1.0 and will be removed in version 1.2. Use `criterion='absolute_error'` which is equivalent.\n",
      "  warn(\n",
      "C:\\Users\\mayank\\anaconda3\\lib\\site-packages\\sklearn\\ensemble\\_forest.py:403: FutureWarning: Criterion 'mae' was deprecated in v1.0 and will be removed in version 1.2. Use `criterion='absolute_error'` which is equivalent.\n",
      "  warn(\n",
      "C:\\Users\\mayank\\anaconda3\\lib\\site-packages\\sklearn\\ensemble\\_forest.py:403: FutureWarning: Criterion 'mae' was deprecated in v1.0 and will be removed in version 1.2. Use `criterion='absolute_error'` which is equivalent.\n",
      "  warn(\n",
      "C:\\Users\\mayank\\anaconda3\\lib\\site-packages\\sklearn\\ensemble\\_forest.py:403: FutureWarning: Criterion 'mae' was deprecated in v1.0 and will be removed in version 1.2. Use `criterion='absolute_error'` which is equivalent.\n",
      "  warn(\n",
      "C:\\Users\\mayank\\anaconda3\\lib\\site-packages\\sklearn\\ensemble\\_forest.py:403: FutureWarning: Criterion 'mae' was deprecated in v1.0 and will be removed in version 1.2. Use `criterion='absolute_error'` which is equivalent.\n",
      "  warn(\n",
      "C:\\Users\\mayank\\anaconda3\\lib\\site-packages\\sklearn\\ensemble\\_forest.py:403: FutureWarning: Criterion 'mae' was deprecated in v1.0 and will be removed in version 1.2. Use `criterion='absolute_error'` which is equivalent.\n",
      "  warn(\n",
      "C:\\Users\\mayank\\anaconda3\\lib\\site-packages\\sklearn\\ensemble\\_forest.py:403: FutureWarning: Criterion 'mae' was deprecated in v1.0 and will be removed in version 1.2. Use `criterion='absolute_error'` which is equivalent.\n",
      "  warn(\n",
      "C:\\Users\\mayank\\anaconda3\\lib\\site-packages\\sklearn\\ensemble\\_forest.py:403: FutureWarning: Criterion 'mae' was deprecated in v1.0 and will be removed in version 1.2. Use `criterion='absolute_error'` which is equivalent.\n",
      "  warn(\n",
      "C:\\Users\\mayank\\anaconda3\\lib\\site-packages\\sklearn\\ensemble\\_forest.py:403: FutureWarning: Criterion 'mae' was deprecated in v1.0 and will be removed in version 1.2. Use `criterion='absolute_error'` which is equivalent.\n",
      "  warn(\n"
     ]
    },
    {
     "name": "stderr",
     "output_type": "stream",
     "text": [
      "C:\\Users\\mayank\\anaconda3\\lib\\site-packages\\sklearn\\ensemble\\_forest.py:403: FutureWarning: Criterion 'mae' was deprecated in v1.0 and will be removed in version 1.2. Use `criterion='absolute_error'` which is equivalent.\n",
      "  warn(\n",
      "C:\\Users\\mayank\\anaconda3\\lib\\site-packages\\sklearn\\ensemble\\_forest.py:403: FutureWarning: Criterion 'mae' was deprecated in v1.0 and will be removed in version 1.2. Use `criterion='absolute_error'` which is equivalent.\n",
      "  warn(\n",
      "C:\\Users\\mayank\\anaconda3\\lib\\site-packages\\sklearn\\ensemble\\_forest.py:403: FutureWarning: Criterion 'mae' was deprecated in v1.0 and will be removed in version 1.2. Use `criterion='absolute_error'` which is equivalent.\n",
      "  warn(\n",
      "C:\\Users\\mayank\\anaconda3\\lib\\site-packages\\sklearn\\ensemble\\_forest.py:403: FutureWarning: Criterion 'mae' was deprecated in v1.0 and will be removed in version 1.2. Use `criterion='absolute_error'` which is equivalent.\n",
      "  warn(\n",
      "C:\\Users\\mayank\\anaconda3\\lib\\site-packages\\sklearn\\ensemble\\_forest.py:403: FutureWarning: Criterion 'mae' was deprecated in v1.0 and will be removed in version 1.2. Use `criterion='absolute_error'` which is equivalent.\n",
      "  warn(\n",
      "C:\\Users\\mayank\\anaconda3\\lib\\site-packages\\sklearn\\ensemble\\_forest.py:403: FutureWarning: Criterion 'mae' was deprecated in v1.0 and will be removed in version 1.2. Use `criterion='absolute_error'` which is equivalent.\n",
      "  warn(\n",
      "C:\\Users\\mayank\\anaconda3\\lib\\site-packages\\sklearn\\ensemble\\_forest.py:403: FutureWarning: Criterion 'mae' was deprecated in v1.0 and will be removed in version 1.2. Use `criterion='absolute_error'` which is equivalent.\n",
      "  warn(\n",
      "C:\\Users\\mayank\\anaconda3\\lib\\site-packages\\sklearn\\ensemble\\_forest.py:403: FutureWarning: Criterion 'mae' was deprecated in v1.0 and will be removed in version 1.2. Use `criterion='absolute_error'` which is equivalent.\n",
      "  warn(\n",
      "C:\\Users\\mayank\\anaconda3\\lib\\site-packages\\sklearn\\ensemble\\_forest.py:403: FutureWarning: Criterion 'mae' was deprecated in v1.0 and will be removed in version 1.2. Use `criterion='absolute_error'` which is equivalent.\n",
      "  warn(\n",
      "C:\\Users\\mayank\\anaconda3\\lib\\site-packages\\sklearn\\ensemble\\_forest.py:403: FutureWarning: Criterion 'mae' was deprecated in v1.0 and will be removed in version 1.2. Use `criterion='absolute_error'` which is equivalent.\n",
      "  warn(\n",
      "C:\\Users\\mayank\\anaconda3\\lib\\site-packages\\sklearn\\ensemble\\_forest.py:403: FutureWarning: Criterion 'mae' was deprecated in v1.0 and will be removed in version 1.2. Use `criterion='absolute_error'` which is equivalent.\n",
      "  warn(\n",
      "C:\\Users\\mayank\\anaconda3\\lib\\site-packages\\sklearn\\ensemble\\_forest.py:403: FutureWarning: Criterion 'mae' was deprecated in v1.0 and will be removed in version 1.2. Use `criterion='absolute_error'` which is equivalent.\n",
      "  warn(\n",
      "C:\\Users\\mayank\\anaconda3\\lib\\site-packages\\sklearn\\ensemble\\_forest.py:403: FutureWarning: Criterion 'mae' was deprecated in v1.0 and will be removed in version 1.2. Use `criterion='absolute_error'` which is equivalent.\n",
      "  warn(\n",
      "C:\\Users\\mayank\\anaconda3\\lib\\site-packages\\sklearn\\ensemble\\_forest.py:403: FutureWarning: Criterion 'mae' was deprecated in v1.0 and will be removed in version 1.2. Use `criterion='absolute_error'` which is equivalent.\n",
      "  warn(\n",
      "C:\\Users\\mayank\\anaconda3\\lib\\site-packages\\sklearn\\ensemble\\_forest.py:403: FutureWarning: Criterion 'mae' was deprecated in v1.0 and will be removed in version 1.2. Use `criterion='absolute_error'` which is equivalent.\n",
      "  warn(\n",
      "C:\\Users\\mayank\\anaconda3\\lib\\site-packages\\sklearn\\ensemble\\_forest.py:403: FutureWarning: Criterion 'mae' was deprecated in v1.0 and will be removed in version 1.2. Use `criterion='absolute_error'` which is equivalent.\n",
      "  warn(\n",
      "C:\\Users\\mayank\\anaconda3\\lib\\site-packages\\sklearn\\ensemble\\_forest.py:403: FutureWarning: Criterion 'mae' was deprecated in v1.0 and will be removed in version 1.2. Use `criterion='absolute_error'` which is equivalent.\n",
      "  warn(\n",
      "C:\\Users\\mayank\\anaconda3\\lib\\site-packages\\sklearn\\ensemble\\_forest.py:403: FutureWarning: Criterion 'mae' was deprecated in v1.0 and will be removed in version 1.2. Use `criterion='absolute_error'` which is equivalent.\n",
      "  warn(\n",
      "C:\\Users\\mayank\\anaconda3\\lib\\site-packages\\sklearn\\ensemble\\_forest.py:403: FutureWarning: Criterion 'mae' was deprecated in v1.0 and will be removed in version 1.2. Use `criterion='absolute_error'` which is equivalent.\n",
      "  warn(\n",
      "C:\\Users\\mayank\\anaconda3\\lib\\site-packages\\sklearn\\ensemble\\_forest.py:403: FutureWarning: Criterion 'mae' was deprecated in v1.0 and will be removed in version 1.2. Use `criterion='absolute_error'` which is equivalent.\n",
      "  warn(\n",
      "C:\\Users\\mayank\\anaconda3\\lib\\site-packages\\sklearn\\ensemble\\_forest.py:403: FutureWarning: Criterion 'mae' was deprecated in v1.0 and will be removed in version 1.2. Use `criterion='absolute_error'` which is equivalent.\n",
      "  warn(\n",
      "C:\\Users\\mayank\\anaconda3\\lib\\site-packages\\sklearn\\ensemble\\_forest.py:403: FutureWarning: Criterion 'mae' was deprecated in v1.0 and will be removed in version 1.2. Use `criterion='absolute_error'` which is equivalent.\n",
      "  warn(\n",
      "C:\\Users\\mayank\\anaconda3\\lib\\site-packages\\sklearn\\ensemble\\_forest.py:403: FutureWarning: Criterion 'mae' was deprecated in v1.0 and will be removed in version 1.2. Use `criterion='absolute_error'` which is equivalent.\n",
      "  warn(\n",
      "C:\\Users\\mayank\\anaconda3\\lib\\site-packages\\sklearn\\ensemble\\_forest.py:403: FutureWarning: Criterion 'mae' was deprecated in v1.0 and will be removed in version 1.2. Use `criterion='absolute_error'` which is equivalent.\n",
      "  warn(\n",
      "C:\\Users\\mayank\\anaconda3\\lib\\site-packages\\sklearn\\ensemble\\_forest.py:403: FutureWarning: Criterion 'mae' was deprecated in v1.0 and will be removed in version 1.2. Use `criterion='absolute_error'` which is equivalent.\n",
      "  warn(\n",
      "C:\\Users\\mayank\\anaconda3\\lib\\site-packages\\sklearn\\ensemble\\_forest.py:403: FutureWarning: Criterion 'mae' was deprecated in v1.0 and will be removed in version 1.2. Use `criterion='absolute_error'` which is equivalent.\n",
      "  warn(\n",
      "C:\\Users\\mayank\\anaconda3\\lib\\site-packages\\sklearn\\ensemble\\_forest.py:403: FutureWarning: Criterion 'mae' was deprecated in v1.0 and will be removed in version 1.2. Use `criterion='absolute_error'` which is equivalent.\n",
      "  warn(\n",
      "C:\\Users\\mayank\\anaconda3\\lib\\site-packages\\sklearn\\ensemble\\_forest.py:403: FutureWarning: Criterion 'mae' was deprecated in v1.0 and will be removed in version 1.2. Use `criterion='absolute_error'` which is equivalent.\n",
      "  warn(\n",
      "C:\\Users\\mayank\\anaconda3\\lib\\site-packages\\sklearn\\ensemble\\_forest.py:403: FutureWarning: Criterion 'mae' was deprecated in v1.0 and will be removed in version 1.2. Use `criterion='absolute_error'` which is equivalent.\n",
      "  warn(\n",
      "C:\\Users\\mayank\\anaconda3\\lib\\site-packages\\sklearn\\ensemble\\_forest.py:403: FutureWarning: Criterion 'mae' was deprecated in v1.0 and will be removed in version 1.2. Use `criterion='absolute_error'` which is equivalent.\n",
      "  warn(\n",
      "C:\\Users\\mayank\\anaconda3\\lib\\site-packages\\sklearn\\ensemble\\_forest.py:403: FutureWarning: Criterion 'mae' was deprecated in v1.0 and will be removed in version 1.2. Use `criterion='absolute_error'` which is equivalent.\n",
      "  warn(\n",
      "C:\\Users\\mayank\\anaconda3\\lib\\site-packages\\sklearn\\ensemble\\_forest.py:403: FutureWarning: Criterion 'mae' was deprecated in v1.0 and will be removed in version 1.2. Use `criterion='absolute_error'` which is equivalent.\n",
      "  warn(\n",
      "C:\\Users\\mayank\\anaconda3\\lib\\site-packages\\sklearn\\ensemble\\_forest.py:403: FutureWarning: Criterion 'mae' was deprecated in v1.0 and will be removed in version 1.2. Use `criterion='absolute_error'` which is equivalent.\n",
      "  warn(\n",
      "C:\\Users\\mayank\\anaconda3\\lib\\site-packages\\sklearn\\ensemble\\_forest.py:403: FutureWarning: Criterion 'mae' was deprecated in v1.0 and will be removed in version 1.2. Use `criterion='absolute_error'` which is equivalent.\n",
      "  warn(\n",
      "C:\\Users\\mayank\\anaconda3\\lib\\site-packages\\sklearn\\ensemble\\_forest.py:403: FutureWarning: Criterion 'mae' was deprecated in v1.0 and will be removed in version 1.2. Use `criterion='absolute_error'` which is equivalent.\n",
      "  warn(\n",
      "C:\\Users\\mayank\\anaconda3\\lib\\site-packages\\sklearn\\ensemble\\_forest.py:403: FutureWarning: Criterion 'mae' was deprecated in v1.0 and will be removed in version 1.2. Use `criterion='absolute_error'` which is equivalent.\n",
      "  warn(\n"
     ]
    },
    {
     "name": "stderr",
     "output_type": "stream",
     "text": [
      "C:\\Users\\mayank\\anaconda3\\lib\\site-packages\\sklearn\\ensemble\\_forest.py:403: FutureWarning: Criterion 'mae' was deprecated in v1.0 and will be removed in version 1.2. Use `criterion='absolute_error'` which is equivalent.\n",
      "  warn(\n",
      "C:\\Users\\mayank\\anaconda3\\lib\\site-packages\\sklearn\\ensemble\\_forest.py:403: FutureWarning: Criterion 'mae' was deprecated in v1.0 and will be removed in version 1.2. Use `criterion='absolute_error'` which is equivalent.\n",
      "  warn(\n",
      "C:\\Users\\mayank\\anaconda3\\lib\\site-packages\\sklearn\\ensemble\\_forest.py:403: FutureWarning: Criterion 'mae' was deprecated in v1.0 and will be removed in version 1.2. Use `criterion='absolute_error'` which is equivalent.\n",
      "  warn(\n",
      "C:\\Users\\mayank\\anaconda3\\lib\\site-packages\\sklearn\\ensemble\\_forest.py:403: FutureWarning: Criterion 'mae' was deprecated in v1.0 and will be removed in version 1.2. Use `criterion='absolute_error'` which is equivalent.\n",
      "  warn(\n",
      "C:\\Users\\mayank\\anaconda3\\lib\\site-packages\\sklearn\\ensemble\\_forest.py:403: FutureWarning: Criterion 'mae' was deprecated in v1.0 and will be removed in version 1.2. Use `criterion='absolute_error'` which is equivalent.\n",
      "  warn(\n",
      "C:\\Users\\mayank\\anaconda3\\lib\\site-packages\\sklearn\\ensemble\\_forest.py:403: FutureWarning: Criterion 'mae' was deprecated in v1.0 and will be removed in version 1.2. Use `criterion='absolute_error'` which is equivalent.\n",
      "  warn(\n",
      "C:\\Users\\mayank\\anaconda3\\lib\\site-packages\\sklearn\\ensemble\\_forest.py:403: FutureWarning: Criterion 'mae' was deprecated in v1.0 and will be removed in version 1.2. Use `criterion='absolute_error'` which is equivalent.\n",
      "  warn(\n",
      "C:\\Users\\mayank\\anaconda3\\lib\\site-packages\\sklearn\\ensemble\\_forest.py:403: FutureWarning: Criterion 'mae' was deprecated in v1.0 and will be removed in version 1.2. Use `criterion='absolute_error'` which is equivalent.\n",
      "  warn(\n",
      "C:\\Users\\mayank\\anaconda3\\lib\\site-packages\\sklearn\\ensemble\\_forest.py:403: FutureWarning: Criterion 'mae' was deprecated in v1.0 and will be removed in version 1.2. Use `criterion='absolute_error'` which is equivalent.\n",
      "  warn(\n",
      "C:\\Users\\mayank\\anaconda3\\lib\\site-packages\\sklearn\\ensemble\\_forest.py:403: FutureWarning: Criterion 'mae' was deprecated in v1.0 and will be removed in version 1.2. Use `criterion='absolute_error'` which is equivalent.\n",
      "  warn(\n",
      "C:\\Users\\mayank\\anaconda3\\lib\\site-packages\\sklearn\\ensemble\\_forest.py:403: FutureWarning: Criterion 'mae' was deprecated in v1.0 and will be removed in version 1.2. Use `criterion='absolute_error'` which is equivalent.\n",
      "  warn(\n",
      "C:\\Users\\mayank\\anaconda3\\lib\\site-packages\\sklearn\\ensemble\\_forest.py:403: FutureWarning: Criterion 'mae' was deprecated in v1.0 and will be removed in version 1.2. Use `criterion='absolute_error'` which is equivalent.\n",
      "  warn(\n",
      "C:\\Users\\mayank\\anaconda3\\lib\\site-packages\\sklearn\\ensemble\\_forest.py:403: FutureWarning: Criterion 'mae' was deprecated in v1.0 and will be removed in version 1.2. Use `criterion='absolute_error'` which is equivalent.\n",
      "  warn(\n",
      "C:\\Users\\mayank\\anaconda3\\lib\\site-packages\\sklearn\\ensemble\\_forest.py:403: FutureWarning: Criterion 'mae' was deprecated in v1.0 and will be removed in version 1.2. Use `criterion='absolute_error'` which is equivalent.\n",
      "  warn(\n",
      "C:\\Users\\mayank\\anaconda3\\lib\\site-packages\\sklearn\\ensemble\\_forest.py:403: FutureWarning: Criterion 'mae' was deprecated in v1.0 and will be removed in version 1.2. Use `criterion='absolute_error'` which is equivalent.\n",
      "  warn(\n",
      "C:\\Users\\mayank\\anaconda3\\lib\\site-packages\\sklearn\\ensemble\\_forest.py:403: FutureWarning: Criterion 'mae' was deprecated in v1.0 and will be removed in version 1.2. Use `criterion='absolute_error'` which is equivalent.\n",
      "  warn(\n",
      "C:\\Users\\mayank\\anaconda3\\lib\\site-packages\\sklearn\\ensemble\\_forest.py:403: FutureWarning: Criterion 'mae' was deprecated in v1.0 and will be removed in version 1.2. Use `criterion='absolute_error'` which is equivalent.\n",
      "  warn(\n",
      "C:\\Users\\mayank\\anaconda3\\lib\\site-packages\\sklearn\\ensemble\\_forest.py:403: FutureWarning: Criterion 'mae' was deprecated in v1.0 and will be removed in version 1.2. Use `criterion='absolute_error'` which is equivalent.\n",
      "  warn(\n",
      "C:\\Users\\mayank\\anaconda3\\lib\\site-packages\\sklearn\\ensemble\\_forest.py:403: FutureWarning: Criterion 'mae' was deprecated in v1.0 and will be removed in version 1.2. Use `criterion='absolute_error'` which is equivalent.\n",
      "  warn(\n",
      "C:\\Users\\mayank\\anaconda3\\lib\\site-packages\\sklearn\\ensemble\\_forest.py:403: FutureWarning: Criterion 'mae' was deprecated in v1.0 and will be removed in version 1.2. Use `criterion='absolute_error'` which is equivalent.\n",
      "  warn(\n",
      "C:\\Users\\mayank\\anaconda3\\lib\\site-packages\\sklearn\\ensemble\\_forest.py:403: FutureWarning: Criterion 'mae' was deprecated in v1.0 and will be removed in version 1.2. Use `criterion='absolute_error'` which is equivalent.\n",
      "  warn(\n",
      "C:\\Users\\mayank\\anaconda3\\lib\\site-packages\\sklearn\\ensemble\\_forest.py:403: FutureWarning: Criterion 'mae' was deprecated in v1.0 and will be removed in version 1.2. Use `criterion='absolute_error'` which is equivalent.\n",
      "  warn(\n",
      "C:\\Users\\mayank\\anaconda3\\lib\\site-packages\\sklearn\\ensemble\\_forest.py:403: FutureWarning: Criterion 'mae' was deprecated in v1.0 and will be removed in version 1.2. Use `criterion='absolute_error'` which is equivalent.\n",
      "  warn(\n",
      "C:\\Users\\mayank\\anaconda3\\lib\\site-packages\\sklearn\\ensemble\\_forest.py:403: FutureWarning: Criterion 'mae' was deprecated in v1.0 and will be removed in version 1.2. Use `criterion='absolute_error'` which is equivalent.\n",
      "  warn(\n",
      "C:\\Users\\mayank\\anaconda3\\lib\\site-packages\\sklearn\\ensemble\\_forest.py:403: FutureWarning: Criterion 'mae' was deprecated in v1.0 and will be removed in version 1.2. Use `criterion='absolute_error'` which is equivalent.\n",
      "  warn(\n",
      "C:\\Users\\mayank\\anaconda3\\lib\\site-packages\\sklearn\\ensemble\\_forest.py:403: FutureWarning: Criterion 'mae' was deprecated in v1.0 and will be removed in version 1.2. Use `criterion='absolute_error'` which is equivalent.\n",
      "  warn(\n",
      "C:\\Users\\mayank\\anaconda3\\lib\\site-packages\\sklearn\\ensemble\\_forest.py:403: FutureWarning: Criterion 'mae' was deprecated in v1.0 and will be removed in version 1.2. Use `criterion='absolute_error'` which is equivalent.\n",
      "  warn(\n",
      "C:\\Users\\mayank\\anaconda3\\lib\\site-packages\\sklearn\\ensemble\\_forest.py:403: FutureWarning: Criterion 'mae' was deprecated in v1.0 and will be removed in version 1.2. Use `criterion='absolute_error'` which is equivalent.\n",
      "  warn(\n",
      "C:\\Users\\mayank\\anaconda3\\lib\\site-packages\\sklearn\\ensemble\\_forest.py:403: FutureWarning: Criterion 'mae' was deprecated in v1.0 and will be removed in version 1.2. Use `criterion='absolute_error'` which is equivalent.\n",
      "  warn(\n",
      "C:\\Users\\mayank\\anaconda3\\lib\\site-packages\\sklearn\\ensemble\\_forest.py:403: FutureWarning: Criterion 'mae' was deprecated in v1.0 and will be removed in version 1.2. Use `criterion='absolute_error'` which is equivalent.\n",
      "  warn(\n",
      "C:\\Users\\mayank\\anaconda3\\lib\\site-packages\\sklearn\\ensemble\\_forest.py:403: FutureWarning: Criterion 'mae' was deprecated in v1.0 and will be removed in version 1.2. Use `criterion='absolute_error'` which is equivalent.\n",
      "  warn(\n",
      "C:\\Users\\mayank\\anaconda3\\lib\\site-packages\\sklearn\\ensemble\\_forest.py:403: FutureWarning: Criterion 'mae' was deprecated in v1.0 and will be removed in version 1.2. Use `criterion='absolute_error'` which is equivalent.\n",
      "  warn(\n",
      "C:\\Users\\mayank\\anaconda3\\lib\\site-packages\\sklearn\\ensemble\\_forest.py:403: FutureWarning: Criterion 'mae' was deprecated in v1.0 and will be removed in version 1.2. Use `criterion='absolute_error'` which is equivalent.\n",
      "  warn(\n",
      "C:\\Users\\mayank\\anaconda3\\lib\\site-packages\\sklearn\\ensemble\\_forest.py:403: FutureWarning: Criterion 'mae' was deprecated in v1.0 and will be removed in version 1.2. Use `criterion='absolute_error'` which is equivalent.\n",
      "  warn(\n",
      "C:\\Users\\mayank\\anaconda3\\lib\\site-packages\\sklearn\\ensemble\\_forest.py:403: FutureWarning: Criterion 'mae' was deprecated in v1.0 and will be removed in version 1.2. Use `criterion='absolute_error'` which is equivalent.\n",
      "  warn(\n",
      "C:\\Users\\mayank\\anaconda3\\lib\\site-packages\\sklearn\\ensemble\\_forest.py:403: FutureWarning: Criterion 'mae' was deprecated in v1.0 and will be removed in version 1.2. Use `criterion='absolute_error'` which is equivalent.\n",
      "  warn(\n"
     ]
    },
    {
     "name": "stderr",
     "output_type": "stream",
     "text": [
      "C:\\Users\\mayank\\anaconda3\\lib\\site-packages\\sklearn\\ensemble\\_forest.py:403: FutureWarning: Criterion 'mae' was deprecated in v1.0 and will be removed in version 1.2. Use `criterion='absolute_error'` which is equivalent.\n",
      "  warn(\n",
      "C:\\Users\\mayank\\anaconda3\\lib\\site-packages\\sklearn\\ensemble\\_forest.py:403: FutureWarning: Criterion 'mae' was deprecated in v1.0 and will be removed in version 1.2. Use `criterion='absolute_error'` which is equivalent.\n",
      "  warn(\n",
      "C:\\Users\\mayank\\anaconda3\\lib\\site-packages\\sklearn\\ensemble\\_forest.py:403: FutureWarning: Criterion 'mae' was deprecated in v1.0 and will be removed in version 1.2. Use `criterion='absolute_error'` which is equivalent.\n",
      "  warn(\n",
      "C:\\Users\\mayank\\anaconda3\\lib\\site-packages\\sklearn\\ensemble\\_forest.py:403: FutureWarning: Criterion 'mae' was deprecated in v1.0 and will be removed in version 1.2. Use `criterion='absolute_error'` which is equivalent.\n",
      "  warn(\n",
      "C:\\Users\\mayank\\anaconda3\\lib\\site-packages\\sklearn\\ensemble\\_forest.py:403: FutureWarning: Criterion 'mae' was deprecated in v1.0 and will be removed in version 1.2. Use `criterion='absolute_error'` which is equivalent.\n",
      "  warn(\n",
      "C:\\Users\\mayank\\anaconda3\\lib\\site-packages\\sklearn\\ensemble\\_forest.py:403: FutureWarning: Criterion 'mae' was deprecated in v1.0 and will be removed in version 1.2. Use `criterion='absolute_error'` which is equivalent.\n",
      "  warn(\n",
      "C:\\Users\\mayank\\anaconda3\\lib\\site-packages\\sklearn\\ensemble\\_forest.py:403: FutureWarning: Criterion 'mae' was deprecated in v1.0 and will be removed in version 1.2. Use `criterion='absolute_error'` which is equivalent.\n",
      "  warn(\n",
      "C:\\Users\\mayank\\anaconda3\\lib\\site-packages\\sklearn\\ensemble\\_forest.py:403: FutureWarning: Criterion 'mae' was deprecated in v1.0 and will be removed in version 1.2. Use `criterion='absolute_error'` which is equivalent.\n",
      "  warn(\n",
      "C:\\Users\\mayank\\anaconda3\\lib\\site-packages\\sklearn\\ensemble\\_forest.py:403: FutureWarning: Criterion 'mae' was deprecated in v1.0 and will be removed in version 1.2. Use `criterion='absolute_error'` which is equivalent.\n",
      "  warn(\n",
      "C:\\Users\\mayank\\anaconda3\\lib\\site-packages\\sklearn\\ensemble\\_forest.py:403: FutureWarning: Criterion 'mae' was deprecated in v1.0 and will be removed in version 1.2. Use `criterion='absolute_error'` which is equivalent.\n",
      "  warn(\n",
      "C:\\Users\\mayank\\anaconda3\\lib\\site-packages\\sklearn\\ensemble\\_forest.py:403: FutureWarning: Criterion 'mae' was deprecated in v1.0 and will be removed in version 1.2. Use `criterion='absolute_error'` which is equivalent.\n",
      "  warn(\n",
      "C:\\Users\\mayank\\anaconda3\\lib\\site-packages\\sklearn\\ensemble\\_forest.py:403: FutureWarning: Criterion 'mae' was deprecated in v1.0 and will be removed in version 1.2. Use `criterion='absolute_error'` which is equivalent.\n",
      "  warn(\n",
      "C:\\Users\\mayank\\anaconda3\\lib\\site-packages\\sklearn\\ensemble\\_forest.py:403: FutureWarning: Criterion 'mae' was deprecated in v1.0 and will be removed in version 1.2. Use `criterion='absolute_error'` which is equivalent.\n",
      "  warn(\n",
      "C:\\Users\\mayank\\anaconda3\\lib\\site-packages\\sklearn\\ensemble\\_forest.py:403: FutureWarning: Criterion 'mae' was deprecated in v1.0 and will be removed in version 1.2. Use `criterion='absolute_error'` which is equivalent.\n",
      "  warn(\n",
      "C:\\Users\\mayank\\anaconda3\\lib\\site-packages\\sklearn\\ensemble\\_forest.py:403: FutureWarning: Criterion 'mae' was deprecated in v1.0 and will be removed in version 1.2. Use `criterion='absolute_error'` which is equivalent.\n",
      "  warn(\n",
      "C:\\Users\\mayank\\anaconda3\\lib\\site-packages\\sklearn\\ensemble\\_forest.py:403: FutureWarning: Criterion 'mae' was deprecated in v1.0 and will be removed in version 1.2. Use `criterion='absolute_error'` which is equivalent.\n",
      "  warn(\n",
      "C:\\Users\\mayank\\anaconda3\\lib\\site-packages\\sklearn\\ensemble\\_forest.py:403: FutureWarning: Criterion 'mae' was deprecated in v1.0 and will be removed in version 1.2. Use `criterion='absolute_error'` which is equivalent.\n",
      "  warn(\n",
      "C:\\Users\\mayank\\anaconda3\\lib\\site-packages\\sklearn\\ensemble\\_forest.py:403: FutureWarning: Criterion 'mae' was deprecated in v1.0 and will be removed in version 1.2. Use `criterion='absolute_error'` which is equivalent.\n",
      "  warn(\n",
      "C:\\Users\\mayank\\anaconda3\\lib\\site-packages\\sklearn\\ensemble\\_forest.py:403: FutureWarning: Criterion 'mae' was deprecated in v1.0 and will be removed in version 1.2. Use `criterion='absolute_error'` which is equivalent.\n",
      "  warn(\n",
      "C:\\Users\\mayank\\anaconda3\\lib\\site-packages\\sklearn\\ensemble\\_forest.py:403: FutureWarning: Criterion 'mae' was deprecated in v1.0 and will be removed in version 1.2. Use `criterion='absolute_error'` which is equivalent.\n",
      "  warn(\n",
      "C:\\Users\\mayank\\anaconda3\\lib\\site-packages\\sklearn\\ensemble\\_forest.py:403: FutureWarning: Criterion 'mae' was deprecated in v1.0 and will be removed in version 1.2. Use `criterion='absolute_error'` which is equivalent.\n",
      "  warn(\n",
      "C:\\Users\\mayank\\anaconda3\\lib\\site-packages\\sklearn\\ensemble\\_forest.py:403: FutureWarning: Criterion 'mae' was deprecated in v1.0 and will be removed in version 1.2. Use `criterion='absolute_error'` which is equivalent.\n",
      "  warn(\n",
      "C:\\Users\\mayank\\anaconda3\\lib\\site-packages\\sklearn\\ensemble\\_forest.py:403: FutureWarning: Criterion 'mae' was deprecated in v1.0 and will be removed in version 1.2. Use `criterion='absolute_error'` which is equivalent.\n",
      "  warn(\n",
      "C:\\Users\\mayank\\anaconda3\\lib\\site-packages\\sklearn\\ensemble\\_forest.py:403: FutureWarning: Criterion 'mae' was deprecated in v1.0 and will be removed in version 1.2. Use `criterion='absolute_error'` which is equivalent.\n",
      "  warn(\n",
      "C:\\Users\\mayank\\anaconda3\\lib\\site-packages\\sklearn\\ensemble\\_forest.py:403: FutureWarning: Criterion 'mae' was deprecated in v1.0 and will be removed in version 1.2. Use `criterion='absolute_error'` which is equivalent.\n",
      "  warn(\n",
      "C:\\Users\\mayank\\anaconda3\\lib\\site-packages\\sklearn\\ensemble\\_forest.py:403: FutureWarning: Criterion 'mae' was deprecated in v1.0 and will be removed in version 1.2. Use `criterion='absolute_error'` which is equivalent.\n",
      "  warn(\n",
      "C:\\Users\\mayank\\anaconda3\\lib\\site-packages\\sklearn\\ensemble\\_forest.py:403: FutureWarning: Criterion 'mae' was deprecated in v1.0 and will be removed in version 1.2. Use `criterion='absolute_error'` which is equivalent.\n",
      "  warn(\n",
      "C:\\Users\\mayank\\anaconda3\\lib\\site-packages\\sklearn\\ensemble\\_forest.py:403: FutureWarning: Criterion 'mae' was deprecated in v1.0 and will be removed in version 1.2. Use `criterion='absolute_error'` which is equivalent.\n",
      "  warn(\n",
      "C:\\Users\\mayank\\anaconda3\\lib\\site-packages\\sklearn\\ensemble\\_forest.py:403: FutureWarning: Criterion 'mae' was deprecated in v1.0 and will be removed in version 1.2. Use `criterion='absolute_error'` which is equivalent.\n",
      "  warn(\n",
      "C:\\Users\\mayank\\anaconda3\\lib\\site-packages\\sklearn\\ensemble\\_forest.py:403: FutureWarning: Criterion 'mae' was deprecated in v1.0 and will be removed in version 1.2. Use `criterion='absolute_error'` which is equivalent.\n",
      "  warn(\n",
      "C:\\Users\\mayank\\anaconda3\\lib\\site-packages\\sklearn\\ensemble\\_forest.py:403: FutureWarning: Criterion 'mae' was deprecated in v1.0 and will be removed in version 1.2. Use `criterion='absolute_error'` which is equivalent.\n",
      "  warn(\n",
      "C:\\Users\\mayank\\anaconda3\\lib\\site-packages\\sklearn\\ensemble\\_forest.py:403: FutureWarning: Criterion 'mae' was deprecated in v1.0 and will be removed in version 1.2. Use `criterion='absolute_error'` which is equivalent.\n",
      "  warn(\n",
      "C:\\Users\\mayank\\anaconda3\\lib\\site-packages\\sklearn\\ensemble\\_forest.py:403: FutureWarning: Criterion 'mae' was deprecated in v1.0 and will be removed in version 1.2. Use `criterion='absolute_error'` which is equivalent.\n",
      "  warn(\n",
      "C:\\Users\\mayank\\anaconda3\\lib\\site-packages\\sklearn\\ensemble\\_forest.py:403: FutureWarning: Criterion 'mae' was deprecated in v1.0 and will be removed in version 1.2. Use `criterion='absolute_error'` which is equivalent.\n",
      "  warn(\n",
      "C:\\Users\\mayank\\anaconda3\\lib\\site-packages\\sklearn\\ensemble\\_forest.py:403: FutureWarning: Criterion 'mae' was deprecated in v1.0 and will be removed in version 1.2. Use `criterion='absolute_error'` which is equivalent.\n",
      "  warn(\n",
      "C:\\Users\\mayank\\anaconda3\\lib\\site-packages\\sklearn\\ensemble\\_forest.py:403: FutureWarning: Criterion 'mae' was deprecated in v1.0 and will be removed in version 1.2. Use `criterion='absolute_error'` which is equivalent.\n",
      "  warn(\n"
     ]
    },
    {
     "name": "stderr",
     "output_type": "stream",
     "text": [
      "C:\\Users\\mayank\\anaconda3\\lib\\site-packages\\sklearn\\ensemble\\_forest.py:403: FutureWarning: Criterion 'mae' was deprecated in v1.0 and will be removed in version 1.2. Use `criterion='absolute_error'` which is equivalent.\n",
      "  warn(\n",
      "C:\\Users\\mayank\\anaconda3\\lib\\site-packages\\sklearn\\ensemble\\_forest.py:403: FutureWarning: Criterion 'mae' was deprecated in v1.0 and will be removed in version 1.2. Use `criterion='absolute_error'` which is equivalent.\n",
      "  warn(\n",
      "C:\\Users\\mayank\\anaconda3\\lib\\site-packages\\sklearn\\ensemble\\_forest.py:403: FutureWarning: Criterion 'mae' was deprecated in v1.0 and will be removed in version 1.2. Use `criterion='absolute_error'` which is equivalent.\n",
      "  warn(\n",
      "C:\\Users\\mayank\\anaconda3\\lib\\site-packages\\sklearn\\ensemble\\_forest.py:403: FutureWarning: Criterion 'mae' was deprecated in v1.0 and will be removed in version 1.2. Use `criterion='absolute_error'` which is equivalent.\n",
      "  warn(\n",
      "C:\\Users\\mayank\\anaconda3\\lib\\site-packages\\sklearn\\ensemble\\_forest.py:403: FutureWarning: Criterion 'mae' was deprecated in v1.0 and will be removed in version 1.2. Use `criterion='absolute_error'` which is equivalent.\n",
      "  warn(\n",
      "C:\\Users\\mayank\\anaconda3\\lib\\site-packages\\sklearn\\ensemble\\_forest.py:403: FutureWarning: Criterion 'mae' was deprecated in v1.0 and will be removed in version 1.2. Use `criterion='absolute_error'` which is equivalent.\n",
      "  warn(\n",
      "C:\\Users\\mayank\\anaconda3\\lib\\site-packages\\sklearn\\ensemble\\_forest.py:403: FutureWarning: Criterion 'mae' was deprecated in v1.0 and will be removed in version 1.2. Use `criterion='absolute_error'` which is equivalent.\n",
      "  warn(\n",
      "C:\\Users\\mayank\\anaconda3\\lib\\site-packages\\sklearn\\ensemble\\_forest.py:403: FutureWarning: Criterion 'mae' was deprecated in v1.0 and will be removed in version 1.2. Use `criterion='absolute_error'` which is equivalent.\n",
      "  warn(\n",
      "C:\\Users\\mayank\\anaconda3\\lib\\site-packages\\sklearn\\ensemble\\_forest.py:403: FutureWarning: Criterion 'mae' was deprecated in v1.0 and will be removed in version 1.2. Use `criterion='absolute_error'` which is equivalent.\n",
      "  warn(\n",
      "C:\\Users\\mayank\\anaconda3\\lib\\site-packages\\sklearn\\ensemble\\_forest.py:403: FutureWarning: Criterion 'mae' was deprecated in v1.0 and will be removed in version 1.2. Use `criterion='absolute_error'` which is equivalent.\n",
      "  warn(\n",
      "C:\\Users\\mayank\\anaconda3\\lib\\site-packages\\sklearn\\ensemble\\_forest.py:403: FutureWarning: Criterion 'mae' was deprecated in v1.0 and will be removed in version 1.2. Use `criterion='absolute_error'` which is equivalent.\n",
      "  warn(\n",
      "C:\\Users\\mayank\\anaconda3\\lib\\site-packages\\sklearn\\ensemble\\_forest.py:403: FutureWarning: Criterion 'mae' was deprecated in v1.0 and will be removed in version 1.2. Use `criterion='absolute_error'` which is equivalent.\n",
      "  warn(\n",
      "C:\\Users\\mayank\\anaconda3\\lib\\site-packages\\sklearn\\ensemble\\_forest.py:403: FutureWarning: Criterion 'mae' was deprecated in v1.0 and will be removed in version 1.2. Use `criterion='absolute_error'` which is equivalent.\n",
      "  warn(\n",
      "C:\\Users\\mayank\\anaconda3\\lib\\site-packages\\sklearn\\ensemble\\_forest.py:403: FutureWarning: Criterion 'mae' was deprecated in v1.0 and will be removed in version 1.2. Use `criterion='absolute_error'` which is equivalent.\n",
      "  warn(\n",
      "C:\\Users\\mayank\\anaconda3\\lib\\site-packages\\sklearn\\ensemble\\_forest.py:403: FutureWarning: Criterion 'mae' was deprecated in v1.0 and will be removed in version 1.2. Use `criterion='absolute_error'` which is equivalent.\n",
      "  warn(\n",
      "C:\\Users\\mayank\\anaconda3\\lib\\site-packages\\sklearn\\ensemble\\_forest.py:403: FutureWarning: Criterion 'mae' was deprecated in v1.0 and will be removed in version 1.2. Use `criterion='absolute_error'` which is equivalent.\n",
      "  warn(\n",
      "C:\\Users\\mayank\\anaconda3\\lib\\site-packages\\sklearn\\ensemble\\_forest.py:403: FutureWarning: Criterion 'mae' was deprecated in v1.0 and will be removed in version 1.2. Use `criterion='absolute_error'` which is equivalent.\n",
      "  warn(\n",
      "C:\\Users\\mayank\\anaconda3\\lib\\site-packages\\sklearn\\ensemble\\_forest.py:403: FutureWarning: Criterion 'mae' was deprecated in v1.0 and will be removed in version 1.2. Use `criterion='absolute_error'` which is equivalent.\n",
      "  warn(\n",
      "C:\\Users\\mayank\\anaconda3\\lib\\site-packages\\sklearn\\ensemble\\_forest.py:403: FutureWarning: Criterion 'mae' was deprecated in v1.0 and will be removed in version 1.2. Use `criterion='absolute_error'` which is equivalent.\n",
      "  warn(\n",
      "C:\\Users\\mayank\\anaconda3\\lib\\site-packages\\sklearn\\ensemble\\_forest.py:403: FutureWarning: Criterion 'mae' was deprecated in v1.0 and will be removed in version 1.2. Use `criterion='absolute_error'` which is equivalent.\n",
      "  warn(\n",
      "C:\\Users\\mayank\\anaconda3\\lib\\site-packages\\sklearn\\ensemble\\_forest.py:403: FutureWarning: Criterion 'mae' was deprecated in v1.0 and will be removed in version 1.2. Use `criterion='absolute_error'` which is equivalent.\n",
      "  warn(\n",
      "C:\\Users\\mayank\\anaconda3\\lib\\site-packages\\sklearn\\ensemble\\_forest.py:403: FutureWarning: Criterion 'mae' was deprecated in v1.0 and will be removed in version 1.2. Use `criterion='absolute_error'` which is equivalent.\n",
      "  warn(\n",
      "C:\\Users\\mayank\\anaconda3\\lib\\site-packages\\sklearn\\ensemble\\_forest.py:403: FutureWarning: Criterion 'mae' was deprecated in v1.0 and will be removed in version 1.2. Use `criterion='absolute_error'` which is equivalent.\n",
      "  warn(\n",
      "C:\\Users\\mayank\\anaconda3\\lib\\site-packages\\sklearn\\ensemble\\_forest.py:403: FutureWarning: Criterion 'mae' was deprecated in v1.0 and will be removed in version 1.2. Use `criterion='absolute_error'` which is equivalent.\n",
      "  warn(\n",
      "C:\\Users\\mayank\\anaconda3\\lib\\site-packages\\sklearn\\ensemble\\_forest.py:403: FutureWarning: Criterion 'mae' was deprecated in v1.0 and will be removed in version 1.2. Use `criterion='absolute_error'` which is equivalent.\n",
      "  warn(\n",
      "C:\\Users\\mayank\\anaconda3\\lib\\site-packages\\sklearn\\ensemble\\_forest.py:403: FutureWarning: Criterion 'mae' was deprecated in v1.0 and will be removed in version 1.2. Use `criterion='absolute_error'` which is equivalent.\n",
      "  warn(\n",
      "C:\\Users\\mayank\\anaconda3\\lib\\site-packages\\sklearn\\ensemble\\_forest.py:403: FutureWarning: Criterion 'mae' was deprecated in v1.0 and will be removed in version 1.2. Use `criterion='absolute_error'` which is equivalent.\n",
      "  warn(\n",
      "C:\\Users\\mayank\\anaconda3\\lib\\site-packages\\sklearn\\ensemble\\_forest.py:403: FutureWarning: Criterion 'mae' was deprecated in v1.0 and will be removed in version 1.2. Use `criterion='absolute_error'` which is equivalent.\n",
      "  warn(\n",
      "C:\\Users\\mayank\\anaconda3\\lib\\site-packages\\sklearn\\ensemble\\_forest.py:403: FutureWarning: Criterion 'mae' was deprecated in v1.0 and will be removed in version 1.2. Use `criterion='absolute_error'` which is equivalent.\n",
      "  warn(\n",
      "C:\\Users\\mayank\\anaconda3\\lib\\site-packages\\sklearn\\ensemble\\_forest.py:403: FutureWarning: Criterion 'mae' was deprecated in v1.0 and will be removed in version 1.2. Use `criterion='absolute_error'` which is equivalent.\n",
      "  warn(\n",
      "C:\\Users\\mayank\\anaconda3\\lib\\site-packages\\sklearn\\ensemble\\_forest.py:403: FutureWarning: Criterion 'mae' was deprecated in v1.0 and will be removed in version 1.2. Use `criterion='absolute_error'` which is equivalent.\n",
      "  warn(\n",
      "C:\\Users\\mayank\\anaconda3\\lib\\site-packages\\sklearn\\ensemble\\_forest.py:403: FutureWarning: Criterion 'mae' was deprecated in v1.0 and will be removed in version 1.2. Use `criterion='absolute_error'` which is equivalent.\n",
      "  warn(\n",
      "C:\\Users\\mayank\\anaconda3\\lib\\site-packages\\sklearn\\ensemble\\_forest.py:403: FutureWarning: Criterion 'mae' was deprecated in v1.0 and will be removed in version 1.2. Use `criterion='absolute_error'` which is equivalent.\n",
      "  warn(\n",
      "C:\\Users\\mayank\\anaconda3\\lib\\site-packages\\sklearn\\ensemble\\_forest.py:403: FutureWarning: Criterion 'mae' was deprecated in v1.0 and will be removed in version 1.2. Use `criterion='absolute_error'` which is equivalent.\n",
      "  warn(\n",
      "C:\\Users\\mayank\\anaconda3\\lib\\site-packages\\sklearn\\ensemble\\_forest.py:403: FutureWarning: Criterion 'mae' was deprecated in v1.0 and will be removed in version 1.2. Use `criterion='absolute_error'` which is equivalent.\n",
      "  warn(\n",
      "C:\\Users\\mayank\\anaconda3\\lib\\site-packages\\sklearn\\ensemble\\_forest.py:403: FutureWarning: Criterion 'mae' was deprecated in v1.0 and will be removed in version 1.2. Use `criterion='absolute_error'` which is equivalent.\n",
      "  warn(\n"
     ]
    },
    {
     "name": "stderr",
     "output_type": "stream",
     "text": [
      "C:\\Users\\mayank\\anaconda3\\lib\\site-packages\\sklearn\\ensemble\\_forest.py:403: FutureWarning: Criterion 'mae' was deprecated in v1.0 and will be removed in version 1.2. Use `criterion='absolute_error'` which is equivalent.\n",
      "  warn(\n",
      "C:\\Users\\mayank\\anaconda3\\lib\\site-packages\\sklearn\\ensemble\\_forest.py:403: FutureWarning: Criterion 'mae' was deprecated in v1.0 and will be removed in version 1.2. Use `criterion='absolute_error'` which is equivalent.\n",
      "  warn(\n",
      "C:\\Users\\mayank\\anaconda3\\lib\\site-packages\\sklearn\\ensemble\\_forest.py:403: FutureWarning: Criterion 'mae' was deprecated in v1.0 and will be removed in version 1.2. Use `criterion='absolute_error'` which is equivalent.\n",
      "  warn(\n",
      "C:\\Users\\mayank\\anaconda3\\lib\\site-packages\\sklearn\\ensemble\\_forest.py:403: FutureWarning: Criterion 'mae' was deprecated in v1.0 and will be removed in version 1.2. Use `criterion='absolute_error'` which is equivalent.\n",
      "  warn(\n",
      "C:\\Users\\mayank\\anaconda3\\lib\\site-packages\\sklearn\\ensemble\\_forest.py:403: FutureWarning: Criterion 'mae' was deprecated in v1.0 and will be removed in version 1.2. Use `criterion='absolute_error'` which is equivalent.\n",
      "  warn(\n",
      "C:\\Users\\mayank\\anaconda3\\lib\\site-packages\\sklearn\\ensemble\\_forest.py:403: FutureWarning: Criterion 'mae' was deprecated in v1.0 and will be removed in version 1.2. Use `criterion='absolute_error'` which is equivalent.\n",
      "  warn(\n",
      "C:\\Users\\mayank\\anaconda3\\lib\\site-packages\\sklearn\\ensemble\\_forest.py:403: FutureWarning: Criterion 'mae' was deprecated in v1.0 and will be removed in version 1.2. Use `criterion='absolute_error'` which is equivalent.\n",
      "  warn(\n",
      "C:\\Users\\mayank\\anaconda3\\lib\\site-packages\\sklearn\\ensemble\\_forest.py:403: FutureWarning: Criterion 'mae' was deprecated in v1.0 and will be removed in version 1.2. Use `criterion='absolute_error'` which is equivalent.\n",
      "  warn(\n",
      "C:\\Users\\mayank\\anaconda3\\lib\\site-packages\\sklearn\\ensemble\\_forest.py:403: FutureWarning: Criterion 'mae' was deprecated in v1.0 and will be removed in version 1.2. Use `criterion='absolute_error'` which is equivalent.\n",
      "  warn(\n",
      "C:\\Users\\mayank\\anaconda3\\lib\\site-packages\\sklearn\\ensemble\\_forest.py:403: FutureWarning: Criterion 'mae' was deprecated in v1.0 and will be removed in version 1.2. Use `criterion='absolute_error'` which is equivalent.\n",
      "  warn(\n",
      "C:\\Users\\mayank\\anaconda3\\lib\\site-packages\\sklearn\\ensemble\\_forest.py:403: FutureWarning: Criterion 'mae' was deprecated in v1.0 and will be removed in version 1.2. Use `criterion='absolute_error'` which is equivalent.\n",
      "  warn(\n",
      "C:\\Users\\mayank\\anaconda3\\lib\\site-packages\\sklearn\\ensemble\\_forest.py:403: FutureWarning: Criterion 'mae' was deprecated in v1.0 and will be removed in version 1.2. Use `criterion='absolute_error'` which is equivalent.\n",
      "  warn(\n",
      "C:\\Users\\mayank\\anaconda3\\lib\\site-packages\\sklearn\\ensemble\\_forest.py:403: FutureWarning: Criterion 'mae' was deprecated in v1.0 and will be removed in version 1.2. Use `criterion='absolute_error'` which is equivalent.\n",
      "  warn(\n",
      "C:\\Users\\mayank\\anaconda3\\lib\\site-packages\\sklearn\\ensemble\\_forest.py:403: FutureWarning: Criterion 'mae' was deprecated in v1.0 and will be removed in version 1.2. Use `criterion='absolute_error'` which is equivalent.\n",
      "  warn(\n",
      "C:\\Users\\mayank\\anaconda3\\lib\\site-packages\\sklearn\\ensemble\\_forest.py:403: FutureWarning: Criterion 'mae' was deprecated in v1.0 and will be removed in version 1.2. Use `criterion='absolute_error'` which is equivalent.\n",
      "  warn(\n",
      "C:\\Users\\mayank\\anaconda3\\lib\\site-packages\\sklearn\\ensemble\\_forest.py:403: FutureWarning: Criterion 'mae' was deprecated in v1.0 and will be removed in version 1.2. Use `criterion='absolute_error'` which is equivalent.\n",
      "  warn(\n",
      "C:\\Users\\mayank\\anaconda3\\lib\\site-packages\\sklearn\\ensemble\\_forest.py:403: FutureWarning: Criterion 'mae' was deprecated in v1.0 and will be removed in version 1.2. Use `criterion='absolute_error'` which is equivalent.\n",
      "  warn(\n",
      "C:\\Users\\mayank\\anaconda3\\lib\\site-packages\\sklearn\\ensemble\\_forest.py:403: FutureWarning: Criterion 'mae' was deprecated in v1.0 and will be removed in version 1.2. Use `criterion='absolute_error'` which is equivalent.\n",
      "  warn(\n",
      "C:\\Users\\mayank\\anaconda3\\lib\\site-packages\\sklearn\\ensemble\\_forest.py:403: FutureWarning: Criterion 'mae' was deprecated in v1.0 and will be removed in version 1.2. Use `criterion='absolute_error'` which is equivalent.\n",
      "  warn(\n",
      "C:\\Users\\mayank\\anaconda3\\lib\\site-packages\\sklearn\\ensemble\\_forest.py:403: FutureWarning: Criterion 'mae' was deprecated in v1.0 and will be removed in version 1.2. Use `criterion='absolute_error'` which is equivalent.\n",
      "  warn(\n",
      "C:\\Users\\mayank\\anaconda3\\lib\\site-packages\\sklearn\\ensemble\\_forest.py:403: FutureWarning: Criterion 'mae' was deprecated in v1.0 and will be removed in version 1.2. Use `criterion='absolute_error'` which is equivalent.\n",
      "  warn(\n",
      "C:\\Users\\mayank\\anaconda3\\lib\\site-packages\\sklearn\\ensemble\\_forest.py:403: FutureWarning: Criterion 'mae' was deprecated in v1.0 and will be removed in version 1.2. Use `criterion='absolute_error'` which is equivalent.\n",
      "  warn(\n",
      "C:\\Users\\mayank\\anaconda3\\lib\\site-packages\\sklearn\\ensemble\\_forest.py:403: FutureWarning: Criterion 'mae' was deprecated in v1.0 and will be removed in version 1.2. Use `criterion='absolute_error'` which is equivalent.\n",
      "  warn(\n",
      "C:\\Users\\mayank\\anaconda3\\lib\\site-packages\\sklearn\\ensemble\\_forest.py:403: FutureWarning: Criterion 'mae' was deprecated in v1.0 and will be removed in version 1.2. Use `criterion='absolute_error'` which is equivalent.\n",
      "  warn(\n",
      "C:\\Users\\mayank\\anaconda3\\lib\\site-packages\\sklearn\\ensemble\\_forest.py:403: FutureWarning: Criterion 'mae' was deprecated in v1.0 and will be removed in version 1.2. Use `criterion='absolute_error'` which is equivalent.\n",
      "  warn(\n",
      "C:\\Users\\mayank\\anaconda3\\lib\\site-packages\\sklearn\\ensemble\\_forest.py:403: FutureWarning: Criterion 'mae' was deprecated in v1.0 and will be removed in version 1.2. Use `criterion='absolute_error'` which is equivalent.\n",
      "  warn(\n",
      "C:\\Users\\mayank\\anaconda3\\lib\\site-packages\\sklearn\\ensemble\\_forest.py:403: FutureWarning: Criterion 'mae' was deprecated in v1.0 and will be removed in version 1.2. Use `criterion='absolute_error'` which is equivalent.\n",
      "  warn(\n",
      "C:\\Users\\mayank\\anaconda3\\lib\\site-packages\\sklearn\\ensemble\\_forest.py:403: FutureWarning: Criterion 'mae' was deprecated in v1.0 and will be removed in version 1.2. Use `criterion='absolute_error'` which is equivalent.\n",
      "  warn(\n",
      "C:\\Users\\mayank\\anaconda3\\lib\\site-packages\\sklearn\\ensemble\\_forest.py:403: FutureWarning: Criterion 'mae' was deprecated in v1.0 and will be removed in version 1.2. Use `criterion='absolute_error'` which is equivalent.\n",
      "  warn(\n",
      "C:\\Users\\mayank\\anaconda3\\lib\\site-packages\\sklearn\\ensemble\\_forest.py:403: FutureWarning: Criterion 'mae' was deprecated in v1.0 and will be removed in version 1.2. Use `criterion='absolute_error'` which is equivalent.\n",
      "  warn(\n",
      "C:\\Users\\mayank\\anaconda3\\lib\\site-packages\\sklearn\\ensemble\\_forest.py:403: FutureWarning: Criterion 'mae' was deprecated in v1.0 and will be removed in version 1.2. Use `criterion='absolute_error'` which is equivalent.\n",
      "  warn(\n",
      "C:\\Users\\mayank\\anaconda3\\lib\\site-packages\\sklearn\\ensemble\\_forest.py:403: FutureWarning: Criterion 'mae' was deprecated in v1.0 and will be removed in version 1.2. Use `criterion='absolute_error'` which is equivalent.\n",
      "  warn(\n",
      "C:\\Users\\mayank\\anaconda3\\lib\\site-packages\\sklearn\\ensemble\\_forest.py:403: FutureWarning: Criterion 'mae' was deprecated in v1.0 and will be removed in version 1.2. Use `criterion='absolute_error'` which is equivalent.\n",
      "  warn(\n",
      "C:\\Users\\mayank\\anaconda3\\lib\\site-packages\\sklearn\\ensemble\\_forest.py:403: FutureWarning: Criterion 'mae' was deprecated in v1.0 and will be removed in version 1.2. Use `criterion='absolute_error'` which is equivalent.\n",
      "  warn(\n",
      "C:\\Users\\mayank\\anaconda3\\lib\\site-packages\\sklearn\\ensemble\\_forest.py:403: FutureWarning: Criterion 'mae' was deprecated in v1.0 and will be removed in version 1.2. Use `criterion='absolute_error'` which is equivalent.\n",
      "  warn(\n",
      "C:\\Users\\mayank\\anaconda3\\lib\\site-packages\\sklearn\\ensemble\\_forest.py:403: FutureWarning: Criterion 'mae' was deprecated in v1.0 and will be removed in version 1.2. Use `criterion='absolute_error'` which is equivalent.\n",
      "  warn(\n"
     ]
    },
    {
     "name": "stderr",
     "output_type": "stream",
     "text": [
      "C:\\Users\\mayank\\anaconda3\\lib\\site-packages\\sklearn\\ensemble\\_forest.py:403: FutureWarning: Criterion 'mae' was deprecated in v1.0 and will be removed in version 1.2. Use `criterion='absolute_error'` which is equivalent.\n",
      "  warn(\n",
      "C:\\Users\\mayank\\anaconda3\\lib\\site-packages\\sklearn\\ensemble\\_forest.py:403: FutureWarning: Criterion 'mae' was deprecated in v1.0 and will be removed in version 1.2. Use `criterion='absolute_error'` which is equivalent.\n",
      "  warn(\n",
      "C:\\Users\\mayank\\anaconda3\\lib\\site-packages\\sklearn\\ensemble\\_forest.py:403: FutureWarning: Criterion 'mae' was deprecated in v1.0 and will be removed in version 1.2. Use `criterion='absolute_error'` which is equivalent.\n",
      "  warn(\n",
      "C:\\Users\\mayank\\anaconda3\\lib\\site-packages\\sklearn\\ensemble\\_forest.py:403: FutureWarning: Criterion 'mae' was deprecated in v1.0 and will be removed in version 1.2. Use `criterion='absolute_error'` which is equivalent.\n",
      "  warn(\n",
      "C:\\Users\\mayank\\anaconda3\\lib\\site-packages\\sklearn\\ensemble\\_forest.py:403: FutureWarning: Criterion 'mae' was deprecated in v1.0 and will be removed in version 1.2. Use `criterion='absolute_error'` which is equivalent.\n",
      "  warn(\n",
      "C:\\Users\\mayank\\anaconda3\\lib\\site-packages\\sklearn\\ensemble\\_forest.py:403: FutureWarning: Criterion 'mae' was deprecated in v1.0 and will be removed in version 1.2. Use `criterion='absolute_error'` which is equivalent.\n",
      "  warn(\n",
      "C:\\Users\\mayank\\anaconda3\\lib\\site-packages\\sklearn\\ensemble\\_forest.py:403: FutureWarning: Criterion 'mae' was deprecated in v1.0 and will be removed in version 1.2. Use `criterion='absolute_error'` which is equivalent.\n",
      "  warn(\n",
      "C:\\Users\\mayank\\anaconda3\\lib\\site-packages\\sklearn\\ensemble\\_forest.py:403: FutureWarning: Criterion 'mae' was deprecated in v1.0 and will be removed in version 1.2. Use `criterion='absolute_error'` which is equivalent.\n",
      "  warn(\n",
      "C:\\Users\\mayank\\anaconda3\\lib\\site-packages\\sklearn\\ensemble\\_forest.py:403: FutureWarning: Criterion 'mae' was deprecated in v1.0 and will be removed in version 1.2. Use `criterion='absolute_error'` which is equivalent.\n",
      "  warn(\n",
      "C:\\Users\\mayank\\anaconda3\\lib\\site-packages\\sklearn\\ensemble\\_forest.py:403: FutureWarning: Criterion 'mae' was deprecated in v1.0 and will be removed in version 1.2. Use `criterion='absolute_error'` which is equivalent.\n",
      "  warn(\n",
      "C:\\Users\\mayank\\anaconda3\\lib\\site-packages\\sklearn\\ensemble\\_forest.py:403: FutureWarning: Criterion 'mae' was deprecated in v1.0 and will be removed in version 1.2. Use `criterion='absolute_error'` which is equivalent.\n",
      "  warn(\n",
      "C:\\Users\\mayank\\anaconda3\\lib\\site-packages\\sklearn\\ensemble\\_forest.py:403: FutureWarning: Criterion 'mae' was deprecated in v1.0 and will be removed in version 1.2. Use `criterion='absolute_error'` which is equivalent.\n",
      "  warn(\n",
      "C:\\Users\\mayank\\anaconda3\\lib\\site-packages\\sklearn\\ensemble\\_forest.py:403: FutureWarning: Criterion 'mae' was deprecated in v1.0 and will be removed in version 1.2. Use `criterion='absolute_error'` which is equivalent.\n",
      "  warn(\n",
      "C:\\Users\\mayank\\anaconda3\\lib\\site-packages\\sklearn\\ensemble\\_forest.py:403: FutureWarning: Criterion 'mae' was deprecated in v1.0 and will be removed in version 1.2. Use `criterion='absolute_error'` which is equivalent.\n",
      "  warn(\n",
      "C:\\Users\\mayank\\anaconda3\\lib\\site-packages\\sklearn\\ensemble\\_forest.py:403: FutureWarning: Criterion 'mae' was deprecated in v1.0 and will be removed in version 1.2. Use `criterion='absolute_error'` which is equivalent.\n",
      "  warn(\n",
      "C:\\Users\\mayank\\anaconda3\\lib\\site-packages\\sklearn\\ensemble\\_forest.py:403: FutureWarning: Criterion 'mae' was deprecated in v1.0 and will be removed in version 1.2. Use `criterion='absolute_error'` which is equivalent.\n",
      "  warn(\n",
      "C:\\Users\\mayank\\anaconda3\\lib\\site-packages\\sklearn\\ensemble\\_forest.py:403: FutureWarning: Criterion 'mae' was deprecated in v1.0 and will be removed in version 1.2. Use `criterion='absolute_error'` which is equivalent.\n",
      "  warn(\n",
      "C:\\Users\\mayank\\anaconda3\\lib\\site-packages\\sklearn\\ensemble\\_forest.py:403: FutureWarning: Criterion 'mae' was deprecated in v1.0 and will be removed in version 1.2. Use `criterion='absolute_error'` which is equivalent.\n",
      "  warn(\n",
      "C:\\Users\\mayank\\anaconda3\\lib\\site-packages\\sklearn\\ensemble\\_forest.py:403: FutureWarning: Criterion 'mae' was deprecated in v1.0 and will be removed in version 1.2. Use `criterion='absolute_error'` which is equivalent.\n",
      "  warn(\n",
      "C:\\Users\\mayank\\anaconda3\\lib\\site-packages\\sklearn\\ensemble\\_forest.py:403: FutureWarning: Criterion 'mae' was deprecated in v1.0 and will be removed in version 1.2. Use `criterion='absolute_error'` which is equivalent.\n",
      "  warn(\n",
      "C:\\Users\\mayank\\anaconda3\\lib\\site-packages\\sklearn\\ensemble\\_forest.py:403: FutureWarning: Criterion 'mae' was deprecated in v1.0 and will be removed in version 1.2. Use `criterion='absolute_error'` which is equivalent.\n",
      "  warn(\n",
      "C:\\Users\\mayank\\anaconda3\\lib\\site-packages\\sklearn\\ensemble\\_forest.py:403: FutureWarning: Criterion 'mae' was deprecated in v1.0 and will be removed in version 1.2. Use `criterion='absolute_error'` which is equivalent.\n",
      "  warn(\n",
      "C:\\Users\\mayank\\anaconda3\\lib\\site-packages\\sklearn\\ensemble\\_forest.py:403: FutureWarning: Criterion 'mae' was deprecated in v1.0 and will be removed in version 1.2. Use `criterion='absolute_error'` which is equivalent.\n",
      "  warn(\n",
      "C:\\Users\\mayank\\anaconda3\\lib\\site-packages\\sklearn\\ensemble\\_forest.py:403: FutureWarning: Criterion 'mae' was deprecated in v1.0 and will be removed in version 1.2. Use `criterion='absolute_error'` which is equivalent.\n",
      "  warn(\n",
      "C:\\Users\\mayank\\anaconda3\\lib\\site-packages\\sklearn\\ensemble\\_forest.py:403: FutureWarning: Criterion 'mae' was deprecated in v1.0 and will be removed in version 1.2. Use `criterion='absolute_error'` which is equivalent.\n",
      "  warn(\n",
      "C:\\Users\\mayank\\anaconda3\\lib\\site-packages\\sklearn\\ensemble\\_forest.py:403: FutureWarning: Criterion 'mae' was deprecated in v1.0 and will be removed in version 1.2. Use `criterion='absolute_error'` which is equivalent.\n",
      "  warn(\n",
      "C:\\Users\\mayank\\anaconda3\\lib\\site-packages\\sklearn\\ensemble\\_forest.py:403: FutureWarning: Criterion 'mae' was deprecated in v1.0 and will be removed in version 1.2. Use `criterion='absolute_error'` which is equivalent.\n",
      "  warn(\n",
      "C:\\Users\\mayank\\anaconda3\\lib\\site-packages\\sklearn\\ensemble\\_forest.py:403: FutureWarning: Criterion 'mae' was deprecated in v1.0 and will be removed in version 1.2. Use `criterion='absolute_error'` which is equivalent.\n",
      "  warn(\n",
      "C:\\Users\\mayank\\anaconda3\\lib\\site-packages\\sklearn\\ensemble\\_forest.py:403: FutureWarning: Criterion 'mae' was deprecated in v1.0 and will be removed in version 1.2. Use `criterion='absolute_error'` which is equivalent.\n",
      "  warn(\n",
      "C:\\Users\\mayank\\anaconda3\\lib\\site-packages\\sklearn\\ensemble\\_forest.py:403: FutureWarning: Criterion 'mae' was deprecated in v1.0 and will be removed in version 1.2. Use `criterion='absolute_error'` which is equivalent.\n",
      "  warn(\n",
      "C:\\Users\\mayank\\anaconda3\\lib\\site-packages\\sklearn\\ensemble\\_forest.py:403: FutureWarning: Criterion 'mae' was deprecated in v1.0 and will be removed in version 1.2. Use `criterion='absolute_error'` which is equivalent.\n",
      "  warn(\n",
      "C:\\Users\\mayank\\anaconda3\\lib\\site-packages\\sklearn\\ensemble\\_forest.py:403: FutureWarning: Criterion 'mae' was deprecated in v1.0 and will be removed in version 1.2. Use `criterion='absolute_error'` which is equivalent.\n",
      "  warn(\n",
      "C:\\Users\\mayank\\anaconda3\\lib\\site-packages\\sklearn\\ensemble\\_forest.py:403: FutureWarning: Criterion 'mae' was deprecated in v1.0 and will be removed in version 1.2. Use `criterion='absolute_error'` which is equivalent.\n",
      "  warn(\n",
      "C:\\Users\\mayank\\anaconda3\\lib\\site-packages\\sklearn\\ensemble\\_forest.py:403: FutureWarning: Criterion 'mae' was deprecated in v1.0 and will be removed in version 1.2. Use `criterion='absolute_error'` which is equivalent.\n",
      "  warn(\n",
      "C:\\Users\\mayank\\anaconda3\\lib\\site-packages\\sklearn\\ensemble\\_forest.py:403: FutureWarning: Criterion 'mae' was deprecated in v1.0 and will be removed in version 1.2. Use `criterion='absolute_error'` which is equivalent.\n",
      "  warn(\n",
      "C:\\Users\\mayank\\anaconda3\\lib\\site-packages\\sklearn\\ensemble\\_forest.py:403: FutureWarning: Criterion 'mae' was deprecated in v1.0 and will be removed in version 1.2. Use `criterion='absolute_error'` which is equivalent.\n",
      "  warn(\n"
     ]
    },
    {
     "name": "stderr",
     "output_type": "stream",
     "text": [
      "C:\\Users\\mayank\\anaconda3\\lib\\site-packages\\sklearn\\ensemble\\_forest.py:403: FutureWarning: Criterion 'mae' was deprecated in v1.0 and will be removed in version 1.2. Use `criterion='absolute_error'` which is equivalent.\n",
      "  warn(\n",
      "C:\\Users\\mayank\\anaconda3\\lib\\site-packages\\sklearn\\ensemble\\_forest.py:403: FutureWarning: Criterion 'mae' was deprecated in v1.0 and will be removed in version 1.2. Use `criterion='absolute_error'` which is equivalent.\n",
      "  warn(\n",
      "C:\\Users\\mayank\\anaconda3\\lib\\site-packages\\sklearn\\ensemble\\_forest.py:403: FutureWarning: Criterion 'mae' was deprecated in v1.0 and will be removed in version 1.2. Use `criterion='absolute_error'` which is equivalent.\n",
      "  warn(\n",
      "C:\\Users\\mayank\\anaconda3\\lib\\site-packages\\sklearn\\ensemble\\_forest.py:403: FutureWarning: Criterion 'mae' was deprecated in v1.0 and will be removed in version 1.2. Use `criterion='absolute_error'` which is equivalent.\n",
      "  warn(\n",
      "C:\\Users\\mayank\\anaconda3\\lib\\site-packages\\sklearn\\ensemble\\_forest.py:403: FutureWarning: Criterion 'mae' was deprecated in v1.0 and will be removed in version 1.2. Use `criterion='absolute_error'` which is equivalent.\n",
      "  warn(\n",
      "C:\\Users\\mayank\\anaconda3\\lib\\site-packages\\sklearn\\ensemble\\_forest.py:403: FutureWarning: Criterion 'mae' was deprecated in v1.0 and will be removed in version 1.2. Use `criterion='absolute_error'` which is equivalent.\n",
      "  warn(\n",
      "C:\\Users\\mayank\\anaconda3\\lib\\site-packages\\sklearn\\ensemble\\_forest.py:403: FutureWarning: Criterion 'mae' was deprecated in v1.0 and will be removed in version 1.2. Use `criterion='absolute_error'` which is equivalent.\n",
      "  warn(\n",
      "C:\\Users\\mayank\\anaconda3\\lib\\site-packages\\sklearn\\ensemble\\_forest.py:403: FutureWarning: Criterion 'mae' was deprecated in v1.0 and will be removed in version 1.2. Use `criterion='absolute_error'` which is equivalent.\n",
      "  warn(\n",
      "C:\\Users\\mayank\\anaconda3\\lib\\site-packages\\sklearn\\ensemble\\_forest.py:403: FutureWarning: Criterion 'mae' was deprecated in v1.0 and will be removed in version 1.2. Use `criterion='absolute_error'` which is equivalent.\n",
      "  warn(\n",
      "C:\\Users\\mayank\\anaconda3\\lib\\site-packages\\sklearn\\ensemble\\_forest.py:403: FutureWarning: Criterion 'mae' was deprecated in v1.0 and will be removed in version 1.2. Use `criterion='absolute_error'` which is equivalent.\n",
      "  warn(\n",
      "C:\\Users\\mayank\\anaconda3\\lib\\site-packages\\sklearn\\ensemble\\_forest.py:403: FutureWarning: Criterion 'mae' was deprecated in v1.0 and will be removed in version 1.2. Use `criterion='absolute_error'` which is equivalent.\n",
      "  warn(\n",
      "C:\\Users\\mayank\\anaconda3\\lib\\site-packages\\sklearn\\ensemble\\_forest.py:403: FutureWarning: Criterion 'mae' was deprecated in v1.0 and will be removed in version 1.2. Use `criterion='absolute_error'` which is equivalent.\n",
      "  warn(\n",
      "C:\\Users\\mayank\\anaconda3\\lib\\site-packages\\sklearn\\ensemble\\_forest.py:403: FutureWarning: Criterion 'mae' was deprecated in v1.0 and will be removed in version 1.2. Use `criterion='absolute_error'` which is equivalent.\n",
      "  warn(\n",
      "C:\\Users\\mayank\\anaconda3\\lib\\site-packages\\sklearn\\ensemble\\_forest.py:403: FutureWarning: Criterion 'mae' was deprecated in v1.0 and will be removed in version 1.2. Use `criterion='absolute_error'` which is equivalent.\n",
      "  warn(\n",
      "C:\\Users\\mayank\\anaconda3\\lib\\site-packages\\sklearn\\ensemble\\_forest.py:403: FutureWarning: Criterion 'mae' was deprecated in v1.0 and will be removed in version 1.2. Use `criterion='absolute_error'` which is equivalent.\n",
      "  warn(\n",
      "C:\\Users\\mayank\\anaconda3\\lib\\site-packages\\sklearn\\ensemble\\_forest.py:403: FutureWarning: Criterion 'mae' was deprecated in v1.0 and will be removed in version 1.2. Use `criterion='absolute_error'` which is equivalent.\n",
      "  warn(\n",
      "C:\\Users\\mayank\\anaconda3\\lib\\site-packages\\sklearn\\ensemble\\_forest.py:403: FutureWarning: Criterion 'mae' was deprecated in v1.0 and will be removed in version 1.2. Use `criterion='absolute_error'` which is equivalent.\n",
      "  warn(\n",
      "C:\\Users\\mayank\\anaconda3\\lib\\site-packages\\sklearn\\ensemble\\_forest.py:403: FutureWarning: Criterion 'mae' was deprecated in v1.0 and will be removed in version 1.2. Use `criterion='absolute_error'` which is equivalent.\n",
      "  warn(\n",
      "C:\\Users\\mayank\\anaconda3\\lib\\site-packages\\sklearn\\ensemble\\_forest.py:403: FutureWarning: Criterion 'mae' was deprecated in v1.0 and will be removed in version 1.2. Use `criterion='absolute_error'` which is equivalent.\n",
      "  warn(\n",
      "C:\\Users\\mayank\\anaconda3\\lib\\site-packages\\sklearn\\ensemble\\_forest.py:403: FutureWarning: Criterion 'mae' was deprecated in v1.0 and will be removed in version 1.2. Use `criterion='absolute_error'` which is equivalent.\n",
      "  warn(\n",
      "C:\\Users\\mayank\\anaconda3\\lib\\site-packages\\sklearn\\ensemble\\_forest.py:403: FutureWarning: Criterion 'mae' was deprecated in v1.0 and will be removed in version 1.2. Use `criterion='absolute_error'` which is equivalent.\n",
      "  warn(\n",
      "C:\\Users\\mayank\\anaconda3\\lib\\site-packages\\sklearn\\ensemble\\_forest.py:403: FutureWarning: Criterion 'mae' was deprecated in v1.0 and will be removed in version 1.2. Use `criterion='absolute_error'` which is equivalent.\n",
      "  warn(\n",
      "C:\\Users\\mayank\\anaconda3\\lib\\site-packages\\sklearn\\ensemble\\_forest.py:403: FutureWarning: Criterion 'mae' was deprecated in v1.0 and will be removed in version 1.2. Use `criterion='absolute_error'` which is equivalent.\n",
      "  warn(\n",
      "C:\\Users\\mayank\\anaconda3\\lib\\site-packages\\sklearn\\ensemble\\_forest.py:403: FutureWarning: Criterion 'mae' was deprecated in v1.0 and will be removed in version 1.2. Use `criterion='absolute_error'` which is equivalent.\n",
      "  warn(\n",
      "C:\\Users\\mayank\\anaconda3\\lib\\site-packages\\sklearn\\ensemble\\_forest.py:403: FutureWarning: Criterion 'mae' was deprecated in v1.0 and will be removed in version 1.2. Use `criterion='absolute_error'` which is equivalent.\n",
      "  warn(\n",
      "C:\\Users\\mayank\\anaconda3\\lib\\site-packages\\sklearn\\ensemble\\_forest.py:403: FutureWarning: Criterion 'mae' was deprecated in v1.0 and will be removed in version 1.2. Use `criterion='absolute_error'` which is equivalent.\n",
      "  warn(\n",
      "C:\\Users\\mayank\\anaconda3\\lib\\site-packages\\sklearn\\ensemble\\_forest.py:403: FutureWarning: Criterion 'mae' was deprecated in v1.0 and will be removed in version 1.2. Use `criterion='absolute_error'` which is equivalent.\n",
      "  warn(\n",
      "C:\\Users\\mayank\\anaconda3\\lib\\site-packages\\sklearn\\ensemble\\_forest.py:403: FutureWarning: Criterion 'mae' was deprecated in v1.0 and will be removed in version 1.2. Use `criterion='absolute_error'` which is equivalent.\n",
      "  warn(\n",
      "C:\\Users\\mayank\\anaconda3\\lib\\site-packages\\sklearn\\ensemble\\_forest.py:403: FutureWarning: Criterion 'mae' was deprecated in v1.0 and will be removed in version 1.2. Use `criterion='absolute_error'` which is equivalent.\n",
      "  warn(\n",
      "C:\\Users\\mayank\\anaconda3\\lib\\site-packages\\sklearn\\ensemble\\_forest.py:403: FutureWarning: Criterion 'mae' was deprecated in v1.0 and will be removed in version 1.2. Use `criterion='absolute_error'` which is equivalent.\n",
      "  warn(\n",
      "C:\\Users\\mayank\\anaconda3\\lib\\site-packages\\sklearn\\ensemble\\_forest.py:403: FutureWarning: Criterion 'mae' was deprecated in v1.0 and will be removed in version 1.2. Use `criterion='absolute_error'` which is equivalent.\n",
      "  warn(\n",
      "C:\\Users\\mayank\\anaconda3\\lib\\site-packages\\sklearn\\ensemble\\_forest.py:403: FutureWarning: Criterion 'mae' was deprecated in v1.0 and will be removed in version 1.2. Use `criterion='absolute_error'` which is equivalent.\n",
      "  warn(\n",
      "C:\\Users\\mayank\\anaconda3\\lib\\site-packages\\sklearn\\ensemble\\_forest.py:403: FutureWarning: Criterion 'mae' was deprecated in v1.0 and will be removed in version 1.2. Use `criterion='absolute_error'` which is equivalent.\n",
      "  warn(\n",
      "C:\\Users\\mayank\\anaconda3\\lib\\site-packages\\sklearn\\ensemble\\_forest.py:403: FutureWarning: Criterion 'mae' was deprecated in v1.0 and will be removed in version 1.2. Use `criterion='absolute_error'` which is equivalent.\n",
      "  warn(\n",
      "C:\\Users\\mayank\\anaconda3\\lib\\site-packages\\sklearn\\ensemble\\_forest.py:403: FutureWarning: Criterion 'mae' was deprecated in v1.0 and will be removed in version 1.2. Use `criterion='absolute_error'` which is equivalent.\n",
      "  warn(\n",
      "C:\\Users\\mayank\\anaconda3\\lib\\site-packages\\sklearn\\ensemble\\_forest.py:403: FutureWarning: Criterion 'mae' was deprecated in v1.0 and will be removed in version 1.2. Use `criterion='absolute_error'` which is equivalent.\n",
      "  warn(\n"
     ]
    },
    {
     "name": "stderr",
     "output_type": "stream",
     "text": [
      "C:\\Users\\mayank\\anaconda3\\lib\\site-packages\\sklearn\\ensemble\\_forest.py:403: FutureWarning: Criterion 'mae' was deprecated in v1.0 and will be removed in version 1.2. Use `criterion='absolute_error'` which is equivalent.\n",
      "  warn(\n",
      "C:\\Users\\mayank\\anaconda3\\lib\\site-packages\\sklearn\\ensemble\\_forest.py:403: FutureWarning: Criterion 'mae' was deprecated in v1.0 and will be removed in version 1.2. Use `criterion='absolute_error'` which is equivalent.\n",
      "  warn(\n",
      "C:\\Users\\mayank\\anaconda3\\lib\\site-packages\\sklearn\\ensemble\\_forest.py:403: FutureWarning: Criterion 'mae' was deprecated in v1.0 and will be removed in version 1.2. Use `criterion='absolute_error'` which is equivalent.\n",
      "  warn(\n",
      "C:\\Users\\mayank\\anaconda3\\lib\\site-packages\\sklearn\\ensemble\\_forest.py:403: FutureWarning: Criterion 'mae' was deprecated in v1.0 and will be removed in version 1.2. Use `criterion='absolute_error'` which is equivalent.\n",
      "  warn(\n",
      "C:\\Users\\mayank\\anaconda3\\lib\\site-packages\\sklearn\\ensemble\\_forest.py:403: FutureWarning: Criterion 'mae' was deprecated in v1.0 and will be removed in version 1.2. Use `criterion='absolute_error'` which is equivalent.\n",
      "  warn(\n",
      "C:\\Users\\mayank\\anaconda3\\lib\\site-packages\\sklearn\\ensemble\\_forest.py:403: FutureWarning: Criterion 'mae' was deprecated in v1.0 and will be removed in version 1.2. Use `criterion='absolute_error'` which is equivalent.\n",
      "  warn(\n",
      "C:\\Users\\mayank\\anaconda3\\lib\\site-packages\\sklearn\\ensemble\\_forest.py:403: FutureWarning: Criterion 'mae' was deprecated in v1.0 and will be removed in version 1.2. Use `criterion='absolute_error'` which is equivalent.\n",
      "  warn(\n",
      "C:\\Users\\mayank\\anaconda3\\lib\\site-packages\\sklearn\\ensemble\\_forest.py:403: FutureWarning: Criterion 'mae' was deprecated in v1.0 and will be removed in version 1.2. Use `criterion='absolute_error'` which is equivalent.\n",
      "  warn(\n",
      "C:\\Users\\mayank\\anaconda3\\lib\\site-packages\\sklearn\\ensemble\\_forest.py:403: FutureWarning: Criterion 'mae' was deprecated in v1.0 and will be removed in version 1.2. Use `criterion='absolute_error'` which is equivalent.\n",
      "  warn(\n",
      "C:\\Users\\mayank\\anaconda3\\lib\\site-packages\\sklearn\\ensemble\\_forest.py:403: FutureWarning: Criterion 'mae' was deprecated in v1.0 and will be removed in version 1.2. Use `criterion='absolute_error'` which is equivalent.\n",
      "  warn(\n",
      "C:\\Users\\mayank\\anaconda3\\lib\\site-packages\\sklearn\\ensemble\\_forest.py:403: FutureWarning: Criterion 'mae' was deprecated in v1.0 and will be removed in version 1.2. Use `criterion='absolute_error'` which is equivalent.\n",
      "  warn(\n",
      "C:\\Users\\mayank\\anaconda3\\lib\\site-packages\\sklearn\\ensemble\\_forest.py:403: FutureWarning: Criterion 'mae' was deprecated in v1.0 and will be removed in version 1.2. Use `criterion='absolute_error'` which is equivalent.\n",
      "  warn(\n",
      "C:\\Users\\mayank\\anaconda3\\lib\\site-packages\\sklearn\\ensemble\\_forest.py:403: FutureWarning: Criterion 'mae' was deprecated in v1.0 and will be removed in version 1.2. Use `criterion='absolute_error'` which is equivalent.\n",
      "  warn(\n",
      "C:\\Users\\mayank\\anaconda3\\lib\\site-packages\\sklearn\\ensemble\\_forest.py:403: FutureWarning: Criterion 'mae' was deprecated in v1.0 and will be removed in version 1.2. Use `criterion='absolute_error'` which is equivalent.\n",
      "  warn(\n",
      "C:\\Users\\mayank\\anaconda3\\lib\\site-packages\\sklearn\\ensemble\\_forest.py:403: FutureWarning: Criterion 'mae' was deprecated in v1.0 and will be removed in version 1.2. Use `criterion='absolute_error'` which is equivalent.\n",
      "  warn(\n",
      "C:\\Users\\mayank\\anaconda3\\lib\\site-packages\\sklearn\\ensemble\\_forest.py:403: FutureWarning: Criterion 'mae' was deprecated in v1.0 and will be removed in version 1.2. Use `criterion='absolute_error'` which is equivalent.\n",
      "  warn(\n",
      "C:\\Users\\mayank\\anaconda3\\lib\\site-packages\\sklearn\\ensemble\\_forest.py:403: FutureWarning: Criterion 'mae' was deprecated in v1.0 and will be removed in version 1.2. Use `criterion='absolute_error'` which is equivalent.\n",
      "  warn(\n",
      "C:\\Users\\mayank\\anaconda3\\lib\\site-packages\\sklearn\\ensemble\\_forest.py:403: FutureWarning: Criterion 'mae' was deprecated in v1.0 and will be removed in version 1.2. Use `criterion='absolute_error'` which is equivalent.\n",
      "  warn(\n",
      "C:\\Users\\mayank\\anaconda3\\lib\\site-packages\\sklearn\\ensemble\\_forest.py:403: FutureWarning: Criterion 'mae' was deprecated in v1.0 and will be removed in version 1.2. Use `criterion='absolute_error'` which is equivalent.\n",
      "  warn(\n",
      "C:\\Users\\mayank\\anaconda3\\lib\\site-packages\\sklearn\\ensemble\\_forest.py:403: FutureWarning: Criterion 'mae' was deprecated in v1.0 and will be removed in version 1.2. Use `criterion='absolute_error'` which is equivalent.\n",
      "  warn(\n",
      "C:\\Users\\mayank\\anaconda3\\lib\\site-packages\\sklearn\\ensemble\\_forest.py:403: FutureWarning: Criterion 'mae' was deprecated in v1.0 and will be removed in version 1.2. Use `criterion='absolute_error'` which is equivalent.\n",
      "  warn(\n",
      "C:\\Users\\mayank\\anaconda3\\lib\\site-packages\\sklearn\\ensemble\\_forest.py:403: FutureWarning: Criterion 'mae' was deprecated in v1.0 and will be removed in version 1.2. Use `criterion='absolute_error'` which is equivalent.\n",
      "  warn(\n",
      "C:\\Users\\mayank\\anaconda3\\lib\\site-packages\\sklearn\\ensemble\\_forest.py:403: FutureWarning: Criterion 'mae' was deprecated in v1.0 and will be removed in version 1.2. Use `criterion='absolute_error'` which is equivalent.\n",
      "  warn(\n",
      "C:\\Users\\mayank\\anaconda3\\lib\\site-packages\\sklearn\\ensemble\\_forest.py:403: FutureWarning: Criterion 'mae' was deprecated in v1.0 and will be removed in version 1.2. Use `criterion='absolute_error'` which is equivalent.\n",
      "  warn(\n",
      "C:\\Users\\mayank\\anaconda3\\lib\\site-packages\\sklearn\\ensemble\\_forest.py:403: FutureWarning: Criterion 'mae' was deprecated in v1.0 and will be removed in version 1.2. Use `criterion='absolute_error'` which is equivalent.\n",
      "  warn(\n",
      "C:\\Users\\mayank\\anaconda3\\lib\\site-packages\\sklearn\\ensemble\\_forest.py:403: FutureWarning: Criterion 'mae' was deprecated in v1.0 and will be removed in version 1.2. Use `criterion='absolute_error'` which is equivalent.\n",
      "  warn(\n",
      "C:\\Users\\mayank\\anaconda3\\lib\\site-packages\\sklearn\\ensemble\\_forest.py:403: FutureWarning: Criterion 'mae' was deprecated in v1.0 and will be removed in version 1.2. Use `criterion='absolute_error'` which is equivalent.\n",
      "  warn(\n",
      "C:\\Users\\mayank\\anaconda3\\lib\\site-packages\\sklearn\\ensemble\\_forest.py:403: FutureWarning: Criterion 'mae' was deprecated in v1.0 and will be removed in version 1.2. Use `criterion='absolute_error'` which is equivalent.\n",
      "  warn(\n",
      "C:\\Users\\mayank\\anaconda3\\lib\\site-packages\\sklearn\\ensemble\\_forest.py:403: FutureWarning: Criterion 'mae' was deprecated in v1.0 and will be removed in version 1.2. Use `criterion='absolute_error'` which is equivalent.\n",
      "  warn(\n",
      "C:\\Users\\mayank\\anaconda3\\lib\\site-packages\\sklearn\\ensemble\\_forest.py:403: FutureWarning: Criterion 'mae' was deprecated in v1.0 and will be removed in version 1.2. Use `criterion='absolute_error'` which is equivalent.\n",
      "  warn(\n",
      "C:\\Users\\mayank\\anaconda3\\lib\\site-packages\\sklearn\\ensemble\\_forest.py:403: FutureWarning: Criterion 'mae' was deprecated in v1.0 and will be removed in version 1.2. Use `criterion='absolute_error'` which is equivalent.\n",
      "  warn(\n",
      "C:\\Users\\mayank\\anaconda3\\lib\\site-packages\\sklearn\\ensemble\\_forest.py:403: FutureWarning: Criterion 'mae' was deprecated in v1.0 and will be removed in version 1.2. Use `criterion='absolute_error'` which is equivalent.\n",
      "  warn(\n",
      "C:\\Users\\mayank\\anaconda3\\lib\\site-packages\\sklearn\\ensemble\\_forest.py:403: FutureWarning: Criterion 'mae' was deprecated in v1.0 and will be removed in version 1.2. Use `criterion='absolute_error'` which is equivalent.\n",
      "  warn(\n",
      "C:\\Users\\mayank\\anaconda3\\lib\\site-packages\\sklearn\\ensemble\\_forest.py:403: FutureWarning: Criterion 'mae' was deprecated in v1.0 and will be removed in version 1.2. Use `criterion='absolute_error'` which is equivalent.\n",
      "  warn(\n",
      "C:\\Users\\mayank\\anaconda3\\lib\\site-packages\\sklearn\\ensemble\\_forest.py:403: FutureWarning: Criterion 'mae' was deprecated in v1.0 and will be removed in version 1.2. Use `criterion='absolute_error'` which is equivalent.\n",
      "  warn(\n",
      "C:\\Users\\mayank\\anaconda3\\lib\\site-packages\\sklearn\\ensemble\\_forest.py:403: FutureWarning: Criterion 'mae' was deprecated in v1.0 and will be removed in version 1.2. Use `criterion='absolute_error'` which is equivalent.\n",
      "  warn(\n"
     ]
    },
    {
     "name": "stderr",
     "output_type": "stream",
     "text": [
      "C:\\Users\\mayank\\anaconda3\\lib\\site-packages\\sklearn\\ensemble\\_forest.py:403: FutureWarning: Criterion 'mae' was deprecated in v1.0 and will be removed in version 1.2. Use `criterion='absolute_error'` which is equivalent.\n",
      "  warn(\n",
      "C:\\Users\\mayank\\anaconda3\\lib\\site-packages\\sklearn\\ensemble\\_forest.py:403: FutureWarning: Criterion 'mae' was deprecated in v1.0 and will be removed in version 1.2. Use `criterion='absolute_error'` which is equivalent.\n",
      "  warn(\n",
      "C:\\Users\\mayank\\anaconda3\\lib\\site-packages\\sklearn\\ensemble\\_forest.py:403: FutureWarning: Criterion 'mae' was deprecated in v1.0 and will be removed in version 1.2. Use `criterion='absolute_error'` which is equivalent.\n",
      "  warn(\n",
      "C:\\Users\\mayank\\anaconda3\\lib\\site-packages\\sklearn\\ensemble\\_forest.py:403: FutureWarning: Criterion 'mae' was deprecated in v1.0 and will be removed in version 1.2. Use `criterion='absolute_error'` which is equivalent.\n",
      "  warn(\n",
      "C:\\Users\\mayank\\anaconda3\\lib\\site-packages\\sklearn\\ensemble\\_forest.py:403: FutureWarning: Criterion 'mae' was deprecated in v1.0 and will be removed in version 1.2. Use `criterion='absolute_error'` which is equivalent.\n",
      "  warn(\n",
      "C:\\Users\\mayank\\anaconda3\\lib\\site-packages\\sklearn\\ensemble\\_forest.py:403: FutureWarning: Criterion 'mae' was deprecated in v1.0 and will be removed in version 1.2. Use `criterion='absolute_error'` which is equivalent.\n",
      "  warn(\n",
      "C:\\Users\\mayank\\anaconda3\\lib\\site-packages\\sklearn\\ensemble\\_forest.py:403: FutureWarning: Criterion 'mae' was deprecated in v1.0 and will be removed in version 1.2. Use `criterion='absolute_error'` which is equivalent.\n",
      "  warn(\n",
      "C:\\Users\\mayank\\anaconda3\\lib\\site-packages\\sklearn\\ensemble\\_forest.py:403: FutureWarning: Criterion 'mae' was deprecated in v1.0 and will be removed in version 1.2. Use `criterion='absolute_error'` which is equivalent.\n",
      "  warn(\n",
      "C:\\Users\\mayank\\anaconda3\\lib\\site-packages\\sklearn\\ensemble\\_forest.py:403: FutureWarning: Criterion 'mae' was deprecated in v1.0 and will be removed in version 1.2. Use `criterion='absolute_error'` which is equivalent.\n",
      "  warn(\n",
      "C:\\Users\\mayank\\anaconda3\\lib\\site-packages\\sklearn\\ensemble\\_forest.py:403: FutureWarning: Criterion 'mae' was deprecated in v1.0 and will be removed in version 1.2. Use `criterion='absolute_error'` which is equivalent.\n",
      "  warn(\n",
      "C:\\Users\\mayank\\anaconda3\\lib\\site-packages\\sklearn\\ensemble\\_forest.py:403: FutureWarning: Criterion 'mae' was deprecated in v1.0 and will be removed in version 1.2. Use `criterion='absolute_error'` which is equivalent.\n",
      "  warn(\n",
      "C:\\Users\\mayank\\anaconda3\\lib\\site-packages\\sklearn\\ensemble\\_forest.py:403: FutureWarning: Criterion 'mae' was deprecated in v1.0 and will be removed in version 1.2. Use `criterion='absolute_error'` which is equivalent.\n",
      "  warn(\n",
      "C:\\Users\\mayank\\anaconda3\\lib\\site-packages\\sklearn\\ensemble\\_forest.py:403: FutureWarning: Criterion 'mae' was deprecated in v1.0 and will be removed in version 1.2. Use `criterion='absolute_error'` which is equivalent.\n",
      "  warn(\n",
      "C:\\Users\\mayank\\anaconda3\\lib\\site-packages\\sklearn\\ensemble\\_forest.py:403: FutureWarning: Criterion 'mae' was deprecated in v1.0 and will be removed in version 1.2. Use `criterion='absolute_error'` which is equivalent.\n",
      "  warn(\n",
      "C:\\Users\\mayank\\anaconda3\\lib\\site-packages\\sklearn\\ensemble\\_forest.py:403: FutureWarning: Criterion 'mae' was deprecated in v1.0 and will be removed in version 1.2. Use `criterion='absolute_error'` which is equivalent.\n",
      "  warn(\n",
      "C:\\Users\\mayank\\anaconda3\\lib\\site-packages\\sklearn\\ensemble\\_forest.py:403: FutureWarning: Criterion 'mae' was deprecated in v1.0 and will be removed in version 1.2. Use `criterion='absolute_error'` which is equivalent.\n",
      "  warn(\n",
      "C:\\Users\\mayank\\anaconda3\\lib\\site-packages\\sklearn\\ensemble\\_forest.py:403: FutureWarning: Criterion 'mae' was deprecated in v1.0 and will be removed in version 1.2. Use `criterion='absolute_error'` which is equivalent.\n",
      "  warn(\n",
      "C:\\Users\\mayank\\anaconda3\\lib\\site-packages\\sklearn\\ensemble\\_forest.py:403: FutureWarning: Criterion 'mae' was deprecated in v1.0 and will be removed in version 1.2. Use `criterion='absolute_error'` which is equivalent.\n",
      "  warn(\n",
      "C:\\Users\\mayank\\anaconda3\\lib\\site-packages\\sklearn\\ensemble\\_forest.py:403: FutureWarning: Criterion 'mae' was deprecated in v1.0 and will be removed in version 1.2. Use `criterion='absolute_error'` which is equivalent.\n",
      "  warn(\n",
      "C:\\Users\\mayank\\anaconda3\\lib\\site-packages\\sklearn\\ensemble\\_forest.py:403: FutureWarning: Criterion 'mae' was deprecated in v1.0 and will be removed in version 1.2. Use `criterion='absolute_error'` which is equivalent.\n",
      "  warn(\n",
      "C:\\Users\\mayank\\anaconda3\\lib\\site-packages\\sklearn\\ensemble\\_forest.py:403: FutureWarning: Criterion 'mae' was deprecated in v1.0 and will be removed in version 1.2. Use `criterion='absolute_error'` which is equivalent.\n",
      "  warn(\n",
      "C:\\Users\\mayank\\anaconda3\\lib\\site-packages\\sklearn\\ensemble\\_forest.py:403: FutureWarning: Criterion 'mae' was deprecated in v1.0 and will be removed in version 1.2. Use `criterion='absolute_error'` which is equivalent.\n",
      "  warn(\n",
      "C:\\Users\\mayank\\anaconda3\\lib\\site-packages\\sklearn\\ensemble\\_forest.py:403: FutureWarning: Criterion 'mae' was deprecated in v1.0 and will be removed in version 1.2. Use `criterion='absolute_error'` which is equivalent.\n",
      "  warn(\n",
      "C:\\Users\\mayank\\anaconda3\\lib\\site-packages\\sklearn\\ensemble\\_forest.py:403: FutureWarning: Criterion 'mae' was deprecated in v1.0 and will be removed in version 1.2. Use `criterion='absolute_error'` which is equivalent.\n",
      "  warn(\n",
      "C:\\Users\\mayank\\anaconda3\\lib\\site-packages\\sklearn\\ensemble\\_forest.py:403: FutureWarning: Criterion 'mae' was deprecated in v1.0 and will be removed in version 1.2. Use `criterion='absolute_error'` which is equivalent.\n",
      "  warn(\n",
      "C:\\Users\\mayank\\anaconda3\\lib\\site-packages\\sklearn\\ensemble\\_forest.py:403: FutureWarning: Criterion 'mae' was deprecated in v1.0 and will be removed in version 1.2. Use `criterion='absolute_error'` which is equivalent.\n",
      "  warn(\n",
      "C:\\Users\\mayank\\anaconda3\\lib\\site-packages\\sklearn\\ensemble\\_forest.py:403: FutureWarning: Criterion 'mae' was deprecated in v1.0 and will be removed in version 1.2. Use `criterion='absolute_error'` which is equivalent.\n",
      "  warn(\n",
      "C:\\Users\\mayank\\anaconda3\\lib\\site-packages\\sklearn\\ensemble\\_forest.py:403: FutureWarning: Criterion 'mae' was deprecated in v1.0 and will be removed in version 1.2. Use `criterion='absolute_error'` which is equivalent.\n",
      "  warn(\n",
      "C:\\Users\\mayank\\anaconda3\\lib\\site-packages\\sklearn\\ensemble\\_forest.py:403: FutureWarning: Criterion 'mae' was deprecated in v1.0 and will be removed in version 1.2. Use `criterion='absolute_error'` which is equivalent.\n",
      "  warn(\n",
      "C:\\Users\\mayank\\anaconda3\\lib\\site-packages\\sklearn\\ensemble\\_forest.py:403: FutureWarning: Criterion 'mae' was deprecated in v1.0 and will be removed in version 1.2. Use `criterion='absolute_error'` which is equivalent.\n",
      "  warn(\n",
      "C:\\Users\\mayank\\anaconda3\\lib\\site-packages\\sklearn\\ensemble\\_forest.py:403: FutureWarning: Criterion 'mae' was deprecated in v1.0 and will be removed in version 1.2. Use `criterion='absolute_error'` which is equivalent.\n",
      "  warn(\n",
      "C:\\Users\\mayank\\anaconda3\\lib\\site-packages\\sklearn\\ensemble\\_forest.py:403: FutureWarning: Criterion 'mae' was deprecated in v1.0 and will be removed in version 1.2. Use `criterion='absolute_error'` which is equivalent.\n",
      "  warn(\n",
      "C:\\Users\\mayank\\anaconda3\\lib\\site-packages\\sklearn\\ensemble\\_forest.py:403: FutureWarning: Criterion 'mae' was deprecated in v1.0 and will be removed in version 1.2. Use `criterion='absolute_error'` which is equivalent.\n",
      "  warn(\n",
      "C:\\Users\\mayank\\anaconda3\\lib\\site-packages\\sklearn\\ensemble\\_forest.py:403: FutureWarning: Criterion 'mae' was deprecated in v1.0 and will be removed in version 1.2. Use `criterion='absolute_error'` which is equivalent.\n",
      "  warn(\n",
      "C:\\Users\\mayank\\anaconda3\\lib\\site-packages\\sklearn\\ensemble\\_forest.py:403: FutureWarning: Criterion 'mae' was deprecated in v1.0 and will be removed in version 1.2. Use `criterion='absolute_error'` which is equivalent.\n",
      "  warn(\n",
      "C:\\Users\\mayank\\anaconda3\\lib\\site-packages\\sklearn\\ensemble\\_forest.py:403: FutureWarning: Criterion 'mae' was deprecated in v1.0 and will be removed in version 1.2. Use `criterion='absolute_error'` which is equivalent.\n",
      "  warn(\n"
     ]
    },
    {
     "name": "stderr",
     "output_type": "stream",
     "text": [
      "C:\\Users\\mayank\\anaconda3\\lib\\site-packages\\sklearn\\ensemble\\_forest.py:403: FutureWarning: Criterion 'mae' was deprecated in v1.0 and will be removed in version 1.2. Use `criterion='absolute_error'` which is equivalent.\n",
      "  warn(\n",
      "C:\\Users\\mayank\\anaconda3\\lib\\site-packages\\sklearn\\ensemble\\_forest.py:403: FutureWarning: Criterion 'mae' was deprecated in v1.0 and will be removed in version 1.2. Use `criterion='absolute_error'` which is equivalent.\n",
      "  warn(\n",
      "C:\\Users\\mayank\\anaconda3\\lib\\site-packages\\sklearn\\ensemble\\_forest.py:403: FutureWarning: Criterion 'mae' was deprecated in v1.0 and will be removed in version 1.2. Use `criterion='absolute_error'` which is equivalent.\n",
      "  warn(\n",
      "C:\\Users\\mayank\\anaconda3\\lib\\site-packages\\sklearn\\ensemble\\_forest.py:403: FutureWarning: Criterion 'mae' was deprecated in v1.0 and will be removed in version 1.2. Use `criterion='absolute_error'` which is equivalent.\n",
      "  warn(\n",
      "C:\\Users\\mayank\\anaconda3\\lib\\site-packages\\sklearn\\ensemble\\_forest.py:403: FutureWarning: Criterion 'mae' was deprecated in v1.0 and will be removed in version 1.2. Use `criterion='absolute_error'` which is equivalent.\n",
      "  warn(\n",
      "C:\\Users\\mayank\\anaconda3\\lib\\site-packages\\sklearn\\ensemble\\_forest.py:403: FutureWarning: Criterion 'mae' was deprecated in v1.0 and will be removed in version 1.2. Use `criterion='absolute_error'` which is equivalent.\n",
      "  warn(\n",
      "C:\\Users\\mayank\\anaconda3\\lib\\site-packages\\sklearn\\ensemble\\_forest.py:403: FutureWarning: Criterion 'mae' was deprecated in v1.0 and will be removed in version 1.2. Use `criterion='absolute_error'` which is equivalent.\n",
      "  warn(\n",
      "C:\\Users\\mayank\\anaconda3\\lib\\site-packages\\sklearn\\ensemble\\_forest.py:403: FutureWarning: Criterion 'mae' was deprecated in v1.0 and will be removed in version 1.2. Use `criterion='absolute_error'` which is equivalent.\n",
      "  warn(\n",
      "C:\\Users\\mayank\\anaconda3\\lib\\site-packages\\sklearn\\ensemble\\_forest.py:403: FutureWarning: Criterion 'mae' was deprecated in v1.0 and will be removed in version 1.2. Use `criterion='absolute_error'` which is equivalent.\n",
      "  warn(\n",
      "C:\\Users\\mayank\\anaconda3\\lib\\site-packages\\sklearn\\ensemble\\_forest.py:403: FutureWarning: Criterion 'mae' was deprecated in v1.0 and will be removed in version 1.2. Use `criterion='absolute_error'` which is equivalent.\n",
      "  warn(\n",
      "C:\\Users\\mayank\\anaconda3\\lib\\site-packages\\sklearn\\ensemble\\_forest.py:403: FutureWarning: Criterion 'mae' was deprecated in v1.0 and will be removed in version 1.2. Use `criterion='absolute_error'` which is equivalent.\n",
      "  warn(\n",
      "C:\\Users\\mayank\\anaconda3\\lib\\site-packages\\sklearn\\ensemble\\_forest.py:403: FutureWarning: Criterion 'mae' was deprecated in v1.0 and will be removed in version 1.2. Use `criterion='absolute_error'` which is equivalent.\n",
      "  warn(\n",
      "C:\\Users\\mayank\\anaconda3\\lib\\site-packages\\sklearn\\ensemble\\_forest.py:403: FutureWarning: Criterion 'mae' was deprecated in v1.0 and will be removed in version 1.2. Use `criterion='absolute_error'` which is equivalent.\n",
      "  warn(\n",
      "C:\\Users\\mayank\\anaconda3\\lib\\site-packages\\sklearn\\ensemble\\_forest.py:403: FutureWarning: Criterion 'mae' was deprecated in v1.0 and will be removed in version 1.2. Use `criterion='absolute_error'` which is equivalent.\n",
      "  warn(\n",
      "C:\\Users\\mayank\\anaconda3\\lib\\site-packages\\sklearn\\ensemble\\_forest.py:403: FutureWarning: Criterion 'mae' was deprecated in v1.0 and will be removed in version 1.2. Use `criterion='absolute_error'` which is equivalent.\n",
      "  warn(\n",
      "C:\\Users\\mayank\\anaconda3\\lib\\site-packages\\sklearn\\ensemble\\_forest.py:403: FutureWarning: Criterion 'mae' was deprecated in v1.0 and will be removed in version 1.2. Use `criterion='absolute_error'` which is equivalent.\n",
      "  warn(\n",
      "C:\\Users\\mayank\\anaconda3\\lib\\site-packages\\sklearn\\ensemble\\_forest.py:403: FutureWarning: Criterion 'mae' was deprecated in v1.0 and will be removed in version 1.2. Use `criterion='absolute_error'` which is equivalent.\n",
      "  warn(\n",
      "C:\\Users\\mayank\\anaconda3\\lib\\site-packages\\sklearn\\ensemble\\_forest.py:403: FutureWarning: Criterion 'mae' was deprecated in v1.0 and will be removed in version 1.2. Use `criterion='absolute_error'` which is equivalent.\n",
      "  warn(\n",
      "C:\\Users\\mayank\\anaconda3\\lib\\site-packages\\sklearn\\ensemble\\_forest.py:403: FutureWarning: Criterion 'mae' was deprecated in v1.0 and will be removed in version 1.2. Use `criterion='absolute_error'` which is equivalent.\n",
      "  warn(\n",
      "C:\\Users\\mayank\\anaconda3\\lib\\site-packages\\sklearn\\ensemble\\_forest.py:403: FutureWarning: Criterion 'mae' was deprecated in v1.0 and will be removed in version 1.2. Use `criterion='absolute_error'` which is equivalent.\n",
      "  warn(\n",
      "C:\\Users\\mayank\\anaconda3\\lib\\site-packages\\sklearn\\ensemble\\_forest.py:403: FutureWarning: Criterion 'mae' was deprecated in v1.0 and will be removed in version 1.2. Use `criterion='absolute_error'` which is equivalent.\n",
      "  warn(\n",
      "C:\\Users\\mayank\\anaconda3\\lib\\site-packages\\sklearn\\ensemble\\_forest.py:403: FutureWarning: Criterion 'mae' was deprecated in v1.0 and will be removed in version 1.2. Use `criterion='absolute_error'` which is equivalent.\n",
      "  warn(\n",
      "C:\\Users\\mayank\\anaconda3\\lib\\site-packages\\sklearn\\ensemble\\_forest.py:403: FutureWarning: Criterion 'mae' was deprecated in v1.0 and will be removed in version 1.2. Use `criterion='absolute_error'` which is equivalent.\n",
      "  warn(\n",
      "C:\\Users\\mayank\\anaconda3\\lib\\site-packages\\sklearn\\ensemble\\_forest.py:403: FutureWarning: Criterion 'mae' was deprecated in v1.0 and will be removed in version 1.2. Use `criterion='absolute_error'` which is equivalent.\n",
      "  warn(\n",
      "C:\\Users\\mayank\\anaconda3\\lib\\site-packages\\sklearn\\ensemble\\_forest.py:403: FutureWarning: Criterion 'mae' was deprecated in v1.0 and will be removed in version 1.2. Use `criterion='absolute_error'` which is equivalent.\n",
      "  warn(\n",
      "C:\\Users\\mayank\\anaconda3\\lib\\site-packages\\sklearn\\ensemble\\_forest.py:403: FutureWarning: Criterion 'mae' was deprecated in v1.0 and will be removed in version 1.2. Use `criterion='absolute_error'` which is equivalent.\n",
      "  warn(\n",
      "C:\\Users\\mayank\\anaconda3\\lib\\site-packages\\sklearn\\ensemble\\_forest.py:403: FutureWarning: Criterion 'mae' was deprecated in v1.0 and will be removed in version 1.2. Use `criterion='absolute_error'` which is equivalent.\n",
      "  warn(\n",
      "C:\\Users\\mayank\\anaconda3\\lib\\site-packages\\sklearn\\ensemble\\_forest.py:403: FutureWarning: Criterion 'mae' was deprecated in v1.0 and will be removed in version 1.2. Use `criterion='absolute_error'` which is equivalent.\n",
      "  warn(\n",
      "C:\\Users\\mayank\\anaconda3\\lib\\site-packages\\sklearn\\ensemble\\_forest.py:403: FutureWarning: Criterion 'mae' was deprecated in v1.0 and will be removed in version 1.2. Use `criterion='absolute_error'` which is equivalent.\n",
      "  warn(\n",
      "C:\\Users\\mayank\\anaconda3\\lib\\site-packages\\sklearn\\ensemble\\_forest.py:403: FutureWarning: Criterion 'mae' was deprecated in v1.0 and will be removed in version 1.2. Use `criterion='absolute_error'` which is equivalent.\n",
      "  warn(\n",
      "C:\\Users\\mayank\\anaconda3\\lib\\site-packages\\sklearn\\ensemble\\_forest.py:403: FutureWarning: Criterion 'mae' was deprecated in v1.0 and will be removed in version 1.2. Use `criterion='absolute_error'` which is equivalent.\n",
      "  warn(\n",
      "C:\\Users\\mayank\\anaconda3\\lib\\site-packages\\sklearn\\ensemble\\_forest.py:403: FutureWarning: Criterion 'mae' was deprecated in v1.0 and will be removed in version 1.2. Use `criterion='absolute_error'` which is equivalent.\n",
      "  warn(\n",
      "C:\\Users\\mayank\\anaconda3\\lib\\site-packages\\sklearn\\ensemble\\_forest.py:403: FutureWarning: Criterion 'mae' was deprecated in v1.0 and will be removed in version 1.2. Use `criterion='absolute_error'` which is equivalent.\n",
      "  warn(\n",
      "C:\\Users\\mayank\\anaconda3\\lib\\site-packages\\sklearn\\ensemble\\_forest.py:403: FutureWarning: Criterion 'mae' was deprecated in v1.0 and will be removed in version 1.2. Use `criterion='absolute_error'` which is equivalent.\n",
      "  warn(\n",
      "C:\\Users\\mayank\\anaconda3\\lib\\site-packages\\sklearn\\ensemble\\_forest.py:403: FutureWarning: Criterion 'mae' was deprecated in v1.0 and will be removed in version 1.2. Use `criterion='absolute_error'` which is equivalent.\n",
      "  warn(\n",
      "C:\\Users\\mayank\\anaconda3\\lib\\site-packages\\sklearn\\ensemble\\_forest.py:403: FutureWarning: Criterion 'mae' was deprecated in v1.0 and will be removed in version 1.2. Use `criterion='absolute_error'` which is equivalent.\n",
      "  warn(\n"
     ]
    },
    {
     "name": "stderr",
     "output_type": "stream",
     "text": [
      "C:\\Users\\mayank\\anaconda3\\lib\\site-packages\\sklearn\\ensemble\\_forest.py:403: FutureWarning: Criterion 'mae' was deprecated in v1.0 and will be removed in version 1.2. Use `criterion='absolute_error'` which is equivalent.\n",
      "  warn(\n",
      "C:\\Users\\mayank\\anaconda3\\lib\\site-packages\\sklearn\\ensemble\\_forest.py:403: FutureWarning: Criterion 'mae' was deprecated in v1.0 and will be removed in version 1.2. Use `criterion='absolute_error'` which is equivalent.\n",
      "  warn(\n",
      "C:\\Users\\mayank\\anaconda3\\lib\\site-packages\\sklearn\\ensemble\\_forest.py:403: FutureWarning: Criterion 'mae' was deprecated in v1.0 and will be removed in version 1.2. Use `criterion='absolute_error'` which is equivalent.\n",
      "  warn(\n",
      "C:\\Users\\mayank\\anaconda3\\lib\\site-packages\\sklearn\\ensemble\\_forest.py:403: FutureWarning: Criterion 'mae' was deprecated in v1.0 and will be removed in version 1.2. Use `criterion='absolute_error'` which is equivalent.\n",
      "  warn(\n",
      "C:\\Users\\mayank\\anaconda3\\lib\\site-packages\\sklearn\\ensemble\\_forest.py:403: FutureWarning: Criterion 'mae' was deprecated in v1.0 and will be removed in version 1.2. Use `criterion='absolute_error'` which is equivalent.\n",
      "  warn(\n",
      "C:\\Users\\mayank\\anaconda3\\lib\\site-packages\\sklearn\\ensemble\\_forest.py:403: FutureWarning: Criterion 'mae' was deprecated in v1.0 and will be removed in version 1.2. Use `criterion='absolute_error'` which is equivalent.\n",
      "  warn(\n",
      "C:\\Users\\mayank\\anaconda3\\lib\\site-packages\\sklearn\\ensemble\\_forest.py:403: FutureWarning: Criterion 'mae' was deprecated in v1.0 and will be removed in version 1.2. Use `criterion='absolute_error'` which is equivalent.\n",
      "  warn(\n",
      "C:\\Users\\mayank\\anaconda3\\lib\\site-packages\\sklearn\\ensemble\\_forest.py:403: FutureWarning: Criterion 'mae' was deprecated in v1.0 and will be removed in version 1.2. Use `criterion='absolute_error'` which is equivalent.\n",
      "  warn(\n",
      "C:\\Users\\mayank\\anaconda3\\lib\\site-packages\\sklearn\\ensemble\\_forest.py:403: FutureWarning: Criterion 'mae' was deprecated in v1.0 and will be removed in version 1.2. Use `criterion='absolute_error'` which is equivalent.\n",
      "  warn(\n",
      "C:\\Users\\mayank\\anaconda3\\lib\\site-packages\\sklearn\\ensemble\\_forest.py:403: FutureWarning: Criterion 'mae' was deprecated in v1.0 and will be removed in version 1.2. Use `criterion='absolute_error'` which is equivalent.\n",
      "  warn(\n",
      "C:\\Users\\mayank\\anaconda3\\lib\\site-packages\\sklearn\\ensemble\\_forest.py:403: FutureWarning: Criterion 'mae' was deprecated in v1.0 and will be removed in version 1.2. Use `criterion='absolute_error'` which is equivalent.\n",
      "  warn(\n",
      "C:\\Users\\mayank\\anaconda3\\lib\\site-packages\\sklearn\\ensemble\\_forest.py:403: FutureWarning: Criterion 'mae' was deprecated in v1.0 and will be removed in version 1.2. Use `criterion='absolute_error'` which is equivalent.\n",
      "  warn(\n",
      "C:\\Users\\mayank\\anaconda3\\lib\\site-packages\\sklearn\\ensemble\\_forest.py:403: FutureWarning: Criterion 'mae' was deprecated in v1.0 and will be removed in version 1.2. Use `criterion='absolute_error'` which is equivalent.\n",
      "  warn(\n",
      "C:\\Users\\mayank\\anaconda3\\lib\\site-packages\\sklearn\\ensemble\\_forest.py:403: FutureWarning: Criterion 'mae' was deprecated in v1.0 and will be removed in version 1.2. Use `criterion='absolute_error'` which is equivalent.\n",
      "  warn(\n",
      "C:\\Users\\mayank\\anaconda3\\lib\\site-packages\\sklearn\\ensemble\\_forest.py:403: FutureWarning: Criterion 'mae' was deprecated in v1.0 and will be removed in version 1.2. Use `criterion='absolute_error'` which is equivalent.\n",
      "  warn(\n",
      "C:\\Users\\mayank\\anaconda3\\lib\\site-packages\\sklearn\\ensemble\\_forest.py:403: FutureWarning: Criterion 'mae' was deprecated in v1.0 and will be removed in version 1.2. Use `criterion='absolute_error'` which is equivalent.\n",
      "  warn(\n",
      "C:\\Users\\mayank\\anaconda3\\lib\\site-packages\\sklearn\\ensemble\\_forest.py:403: FutureWarning: Criterion 'mae' was deprecated in v1.0 and will be removed in version 1.2. Use `criterion='absolute_error'` which is equivalent.\n",
      "  warn(\n",
      "C:\\Users\\mayank\\anaconda3\\lib\\site-packages\\sklearn\\ensemble\\_forest.py:403: FutureWarning: Criterion 'mae' was deprecated in v1.0 and will be removed in version 1.2. Use `criterion='absolute_error'` which is equivalent.\n",
      "  warn(\n",
      "C:\\Users\\mayank\\anaconda3\\lib\\site-packages\\sklearn\\ensemble\\_forest.py:403: FutureWarning: Criterion 'mae' was deprecated in v1.0 and will be removed in version 1.2. Use `criterion='absolute_error'` which is equivalent.\n",
      "  warn(\n",
      "C:\\Users\\mayank\\anaconda3\\lib\\site-packages\\sklearn\\ensemble\\_forest.py:403: FutureWarning: Criterion 'mae' was deprecated in v1.0 and will be removed in version 1.2. Use `criterion='absolute_error'` which is equivalent.\n",
      "  warn(\n",
      "C:\\Users\\mayank\\anaconda3\\lib\\site-packages\\sklearn\\ensemble\\_forest.py:403: FutureWarning: Criterion 'mae' was deprecated in v1.0 and will be removed in version 1.2. Use `criterion='absolute_error'` which is equivalent.\n",
      "  warn(\n",
      "C:\\Users\\mayank\\anaconda3\\lib\\site-packages\\sklearn\\ensemble\\_forest.py:403: FutureWarning: Criterion 'mae' was deprecated in v1.0 and will be removed in version 1.2. Use `criterion='absolute_error'` which is equivalent.\n",
      "  warn(\n",
      "C:\\Users\\mayank\\anaconda3\\lib\\site-packages\\sklearn\\ensemble\\_forest.py:403: FutureWarning: Criterion 'mae' was deprecated in v1.0 and will be removed in version 1.2. Use `criterion='absolute_error'` which is equivalent.\n",
      "  warn(\n",
      "C:\\Users\\mayank\\anaconda3\\lib\\site-packages\\sklearn\\ensemble\\_forest.py:403: FutureWarning: Criterion 'mae' was deprecated in v1.0 and will be removed in version 1.2. Use `criterion='absolute_error'` which is equivalent.\n",
      "  warn(\n",
      "C:\\Users\\mayank\\anaconda3\\lib\\site-packages\\sklearn\\ensemble\\_forest.py:403: FutureWarning: Criterion 'mae' was deprecated in v1.0 and will be removed in version 1.2. Use `criterion='absolute_error'` which is equivalent.\n",
      "  warn(\n",
      "C:\\Users\\mayank\\anaconda3\\lib\\site-packages\\sklearn\\ensemble\\_forest.py:403: FutureWarning: Criterion 'mae' was deprecated in v1.0 and will be removed in version 1.2. Use `criterion='absolute_error'` which is equivalent.\n",
      "  warn(\n",
      "C:\\Users\\mayank\\anaconda3\\lib\\site-packages\\sklearn\\ensemble\\_forest.py:403: FutureWarning: Criterion 'mae' was deprecated in v1.0 and will be removed in version 1.2. Use `criterion='absolute_error'` which is equivalent.\n",
      "  warn(\n",
      "C:\\Users\\mayank\\anaconda3\\lib\\site-packages\\sklearn\\ensemble\\_forest.py:403: FutureWarning: Criterion 'mae' was deprecated in v1.0 and will be removed in version 1.2. Use `criterion='absolute_error'` which is equivalent.\n",
      "  warn(\n",
      "C:\\Users\\mayank\\anaconda3\\lib\\site-packages\\sklearn\\ensemble\\_forest.py:403: FutureWarning: Criterion 'mae' was deprecated in v1.0 and will be removed in version 1.2. Use `criterion='absolute_error'` which is equivalent.\n",
      "  warn(\n",
      "C:\\Users\\mayank\\anaconda3\\lib\\site-packages\\sklearn\\ensemble\\_forest.py:403: FutureWarning: Criterion 'mae' was deprecated in v1.0 and will be removed in version 1.2. Use `criterion='absolute_error'` which is equivalent.\n",
      "  warn(\n",
      "C:\\Users\\mayank\\anaconda3\\lib\\site-packages\\sklearn\\ensemble\\_forest.py:403: FutureWarning: Criterion 'mae' was deprecated in v1.0 and will be removed in version 1.2. Use `criterion='absolute_error'` which is equivalent.\n",
      "  warn(\n",
      "C:\\Users\\mayank\\anaconda3\\lib\\site-packages\\sklearn\\ensemble\\_forest.py:403: FutureWarning: Criterion 'mae' was deprecated in v1.0 and will be removed in version 1.2. Use `criterion='absolute_error'` which is equivalent.\n",
      "  warn(\n",
      "C:\\Users\\mayank\\anaconda3\\lib\\site-packages\\sklearn\\ensemble\\_forest.py:403: FutureWarning: Criterion 'mae' was deprecated in v1.0 and will be removed in version 1.2. Use `criterion='absolute_error'` which is equivalent.\n",
      "  warn(\n",
      "C:\\Users\\mayank\\anaconda3\\lib\\site-packages\\sklearn\\ensemble\\_forest.py:403: FutureWarning: Criterion 'mae' was deprecated in v1.0 and will be removed in version 1.2. Use `criterion='absolute_error'` which is equivalent.\n",
      "  warn(\n",
      "C:\\Users\\mayank\\anaconda3\\lib\\site-packages\\sklearn\\ensemble\\_forest.py:403: FutureWarning: Criterion 'mae' was deprecated in v1.0 and will be removed in version 1.2. Use `criterion='absolute_error'` which is equivalent.\n",
      "  warn(\n",
      "C:\\Users\\mayank\\anaconda3\\lib\\site-packages\\sklearn\\ensemble\\_forest.py:403: FutureWarning: Criterion 'mae' was deprecated in v1.0 and will be removed in version 1.2. Use `criterion='absolute_error'` which is equivalent.\n",
      "  warn(\n"
     ]
    },
    {
     "name": "stderr",
     "output_type": "stream",
     "text": [
      "C:\\Users\\mayank\\anaconda3\\lib\\site-packages\\sklearn\\ensemble\\_forest.py:403: FutureWarning: Criterion 'mae' was deprecated in v1.0 and will be removed in version 1.2. Use `criterion='absolute_error'` which is equivalent.\n",
      "  warn(\n",
      "C:\\Users\\mayank\\anaconda3\\lib\\site-packages\\sklearn\\ensemble\\_forest.py:403: FutureWarning: Criterion 'mae' was deprecated in v1.0 and will be removed in version 1.2. Use `criterion='absolute_error'` which is equivalent.\n",
      "  warn(\n",
      "C:\\Users\\mayank\\anaconda3\\lib\\site-packages\\sklearn\\ensemble\\_forest.py:403: FutureWarning: Criterion 'mae' was deprecated in v1.0 and will be removed in version 1.2. Use `criterion='absolute_error'` which is equivalent.\n",
      "  warn(\n",
      "C:\\Users\\mayank\\anaconda3\\lib\\site-packages\\sklearn\\ensemble\\_forest.py:403: FutureWarning: Criterion 'mae' was deprecated in v1.0 and will be removed in version 1.2. Use `criterion='absolute_error'` which is equivalent.\n",
      "  warn(\n",
      "C:\\Users\\mayank\\anaconda3\\lib\\site-packages\\sklearn\\ensemble\\_forest.py:403: FutureWarning: Criterion 'mae' was deprecated in v1.0 and will be removed in version 1.2. Use `criterion='absolute_error'` which is equivalent.\n",
      "  warn(\n",
      "C:\\Users\\mayank\\anaconda3\\lib\\site-packages\\sklearn\\ensemble\\_forest.py:403: FutureWarning: Criterion 'mae' was deprecated in v1.0 and will be removed in version 1.2. Use `criterion='absolute_error'` which is equivalent.\n",
      "  warn(\n",
      "C:\\Users\\mayank\\anaconda3\\lib\\site-packages\\sklearn\\ensemble\\_forest.py:403: FutureWarning: Criterion 'mae' was deprecated in v1.0 and will be removed in version 1.2. Use `criterion='absolute_error'` which is equivalent.\n",
      "  warn(\n",
      "C:\\Users\\mayank\\anaconda3\\lib\\site-packages\\sklearn\\ensemble\\_forest.py:403: FutureWarning: Criterion 'mae' was deprecated in v1.0 and will be removed in version 1.2. Use `criterion='absolute_error'` which is equivalent.\n",
      "  warn(\n",
      "C:\\Users\\mayank\\anaconda3\\lib\\site-packages\\sklearn\\ensemble\\_forest.py:403: FutureWarning: Criterion 'mae' was deprecated in v1.0 and will be removed in version 1.2. Use `criterion='absolute_error'` which is equivalent.\n",
      "  warn(\n",
      "C:\\Users\\mayank\\anaconda3\\lib\\site-packages\\sklearn\\ensemble\\_forest.py:403: FutureWarning: Criterion 'mae' was deprecated in v1.0 and will be removed in version 1.2. Use `criterion='absolute_error'` which is equivalent.\n",
      "  warn(\n",
      "C:\\Users\\mayank\\anaconda3\\lib\\site-packages\\sklearn\\ensemble\\_forest.py:403: FutureWarning: Criterion 'mae' was deprecated in v1.0 and will be removed in version 1.2. Use `criterion='absolute_error'` which is equivalent.\n",
      "  warn(\n",
      "C:\\Users\\mayank\\anaconda3\\lib\\site-packages\\sklearn\\ensemble\\_forest.py:403: FutureWarning: Criterion 'mae' was deprecated in v1.0 and will be removed in version 1.2. Use `criterion='absolute_error'` which is equivalent.\n",
      "  warn(\n",
      "C:\\Users\\mayank\\anaconda3\\lib\\site-packages\\sklearn\\ensemble\\_forest.py:403: FutureWarning: Criterion 'mae' was deprecated in v1.0 and will be removed in version 1.2. Use `criterion='absolute_error'` which is equivalent.\n",
      "  warn(\n",
      "C:\\Users\\mayank\\anaconda3\\lib\\site-packages\\sklearn\\ensemble\\_forest.py:403: FutureWarning: Criterion 'mae' was deprecated in v1.0 and will be removed in version 1.2. Use `criterion='absolute_error'` which is equivalent.\n",
      "  warn(\n",
      "C:\\Users\\mayank\\anaconda3\\lib\\site-packages\\sklearn\\ensemble\\_forest.py:403: FutureWarning: Criterion 'mae' was deprecated in v1.0 and will be removed in version 1.2. Use `criterion='absolute_error'` which is equivalent.\n",
      "  warn(\n",
      "C:\\Users\\mayank\\anaconda3\\lib\\site-packages\\sklearn\\ensemble\\_forest.py:403: FutureWarning: Criterion 'mae' was deprecated in v1.0 and will be removed in version 1.2. Use `criterion='absolute_error'` which is equivalent.\n",
      "  warn(\n",
      "C:\\Users\\mayank\\anaconda3\\lib\\site-packages\\sklearn\\ensemble\\_forest.py:403: FutureWarning: Criterion 'mae' was deprecated in v1.0 and will be removed in version 1.2. Use `criterion='absolute_error'` which is equivalent.\n",
      "  warn(\n",
      "C:\\Users\\mayank\\anaconda3\\lib\\site-packages\\sklearn\\ensemble\\_forest.py:403: FutureWarning: Criterion 'mae' was deprecated in v1.0 and will be removed in version 1.2. Use `criterion='absolute_error'` which is equivalent.\n",
      "  warn(\n",
      "C:\\Users\\mayank\\anaconda3\\lib\\site-packages\\sklearn\\ensemble\\_forest.py:403: FutureWarning: Criterion 'mae' was deprecated in v1.0 and will be removed in version 1.2. Use `criterion='absolute_error'` which is equivalent.\n",
      "  warn(\n",
      "C:\\Users\\mayank\\anaconda3\\lib\\site-packages\\sklearn\\ensemble\\_forest.py:403: FutureWarning: Criterion 'mae' was deprecated in v1.0 and will be removed in version 1.2. Use `criterion='absolute_error'` which is equivalent.\n",
      "  warn(\n",
      "C:\\Users\\mayank\\anaconda3\\lib\\site-packages\\sklearn\\ensemble\\_forest.py:403: FutureWarning: Criterion 'mae' was deprecated in v1.0 and will be removed in version 1.2. Use `criterion='absolute_error'` which is equivalent.\n",
      "  warn(\n",
      "C:\\Users\\mayank\\anaconda3\\lib\\site-packages\\sklearn\\ensemble\\_forest.py:403: FutureWarning: Criterion 'mae' was deprecated in v1.0 and will be removed in version 1.2. Use `criterion='absolute_error'` which is equivalent.\n",
      "  warn(\n",
      "C:\\Users\\mayank\\anaconda3\\lib\\site-packages\\sklearn\\ensemble\\_forest.py:403: FutureWarning: Criterion 'mae' was deprecated in v1.0 and will be removed in version 1.2. Use `criterion='absolute_error'` which is equivalent.\n",
      "  warn(\n",
      "C:\\Users\\mayank\\anaconda3\\lib\\site-packages\\sklearn\\ensemble\\_forest.py:403: FutureWarning: Criterion 'mae' was deprecated in v1.0 and will be removed in version 1.2. Use `criterion='absolute_error'` which is equivalent.\n",
      "  warn(\n",
      "C:\\Users\\mayank\\anaconda3\\lib\\site-packages\\sklearn\\ensemble\\_forest.py:403: FutureWarning: Criterion 'mae' was deprecated in v1.0 and will be removed in version 1.2. Use `criterion='absolute_error'` which is equivalent.\n",
      "  warn(\n",
      "C:\\Users\\mayank\\anaconda3\\lib\\site-packages\\sklearn\\ensemble\\_forest.py:403: FutureWarning: Criterion 'mae' was deprecated in v1.0 and will be removed in version 1.2. Use `criterion='absolute_error'` which is equivalent.\n",
      "  warn(\n",
      "C:\\Users\\mayank\\anaconda3\\lib\\site-packages\\sklearn\\ensemble\\_forest.py:403: FutureWarning: Criterion 'mae' was deprecated in v1.0 and will be removed in version 1.2. Use `criterion='absolute_error'` which is equivalent.\n",
      "  warn(\n",
      "C:\\Users\\mayank\\anaconda3\\lib\\site-packages\\sklearn\\ensemble\\_forest.py:403: FutureWarning: Criterion 'mae' was deprecated in v1.0 and will be removed in version 1.2. Use `criterion='absolute_error'` which is equivalent.\n",
      "  warn(\n",
      "C:\\Users\\mayank\\anaconda3\\lib\\site-packages\\sklearn\\ensemble\\_forest.py:403: FutureWarning: Criterion 'mae' was deprecated in v1.0 and will be removed in version 1.2. Use `criterion='absolute_error'` which is equivalent.\n",
      "  warn(\n",
      "C:\\Users\\mayank\\anaconda3\\lib\\site-packages\\sklearn\\ensemble\\_forest.py:403: FutureWarning: Criterion 'mae' was deprecated in v1.0 and will be removed in version 1.2. Use `criterion='absolute_error'` which is equivalent.\n",
      "  warn(\n",
      "C:\\Users\\mayank\\anaconda3\\lib\\site-packages\\sklearn\\ensemble\\_forest.py:403: FutureWarning: Criterion 'mae' was deprecated in v1.0 and will be removed in version 1.2. Use `criterion='absolute_error'` which is equivalent.\n",
      "  warn(\n",
      "C:\\Users\\mayank\\anaconda3\\lib\\site-packages\\sklearn\\ensemble\\_forest.py:403: FutureWarning: Criterion 'mae' was deprecated in v1.0 and will be removed in version 1.2. Use `criterion='absolute_error'` which is equivalent.\n",
      "  warn(\n",
      "C:\\Users\\mayank\\anaconda3\\lib\\site-packages\\sklearn\\ensemble\\_forest.py:403: FutureWarning: Criterion 'mae' was deprecated in v1.0 and will be removed in version 1.2. Use `criterion='absolute_error'` which is equivalent.\n",
      "  warn(\n",
      "C:\\Users\\mayank\\anaconda3\\lib\\site-packages\\sklearn\\ensemble\\_forest.py:403: FutureWarning: Criterion 'mae' was deprecated in v1.0 and will be removed in version 1.2. Use `criterion='absolute_error'` which is equivalent.\n",
      "  warn(\n",
      "C:\\Users\\mayank\\anaconda3\\lib\\site-packages\\sklearn\\ensemble\\_forest.py:403: FutureWarning: Criterion 'mae' was deprecated in v1.0 and will be removed in version 1.2. Use `criterion='absolute_error'` which is equivalent.\n",
      "  warn(\n",
      "C:\\Users\\mayank\\anaconda3\\lib\\site-packages\\sklearn\\ensemble\\_forest.py:403: FutureWarning: Criterion 'mae' was deprecated in v1.0 and will be removed in version 1.2. Use `criterion='absolute_error'` which is equivalent.\n",
      "  warn(\n"
     ]
    },
    {
     "name": "stderr",
     "output_type": "stream",
     "text": [
      "C:\\Users\\mayank\\anaconda3\\lib\\site-packages\\sklearn\\ensemble\\_forest.py:403: FutureWarning: Criterion 'mae' was deprecated in v1.0 and will be removed in version 1.2. Use `criterion='absolute_error'` which is equivalent.\n",
      "  warn(\n",
      "C:\\Users\\mayank\\anaconda3\\lib\\site-packages\\sklearn\\ensemble\\_forest.py:403: FutureWarning: Criterion 'mae' was deprecated in v1.0 and will be removed in version 1.2. Use `criterion='absolute_error'` which is equivalent.\n",
      "  warn(\n",
      "C:\\Users\\mayank\\anaconda3\\lib\\site-packages\\sklearn\\ensemble\\_forest.py:403: FutureWarning: Criterion 'mae' was deprecated in v1.0 and will be removed in version 1.2. Use `criterion='absolute_error'` which is equivalent.\n",
      "  warn(\n",
      "C:\\Users\\mayank\\anaconda3\\lib\\site-packages\\sklearn\\ensemble\\_forest.py:403: FutureWarning: Criterion 'mae' was deprecated in v1.0 and will be removed in version 1.2. Use `criterion='absolute_error'` which is equivalent.\n",
      "  warn(\n",
      "C:\\Users\\mayank\\anaconda3\\lib\\site-packages\\sklearn\\ensemble\\_forest.py:403: FutureWarning: Criterion 'mae' was deprecated in v1.0 and will be removed in version 1.2. Use `criterion='absolute_error'` which is equivalent.\n",
      "  warn(\n",
      "C:\\Users\\mayank\\anaconda3\\lib\\site-packages\\sklearn\\ensemble\\_forest.py:403: FutureWarning: Criterion 'mae' was deprecated in v1.0 and will be removed in version 1.2. Use `criterion='absolute_error'` which is equivalent.\n",
      "  warn(\n",
      "C:\\Users\\mayank\\anaconda3\\lib\\site-packages\\sklearn\\ensemble\\_forest.py:403: FutureWarning: Criterion 'mae' was deprecated in v1.0 and will be removed in version 1.2. Use `criterion='absolute_error'` which is equivalent.\n",
      "  warn(\n",
      "C:\\Users\\mayank\\anaconda3\\lib\\site-packages\\sklearn\\ensemble\\_forest.py:403: FutureWarning: Criterion 'mae' was deprecated in v1.0 and will be removed in version 1.2. Use `criterion='absolute_error'` which is equivalent.\n",
      "  warn(\n",
      "C:\\Users\\mayank\\anaconda3\\lib\\site-packages\\sklearn\\ensemble\\_forest.py:403: FutureWarning: Criterion 'mae' was deprecated in v1.0 and will be removed in version 1.2. Use `criterion='absolute_error'` which is equivalent.\n",
      "  warn(\n",
      "C:\\Users\\mayank\\anaconda3\\lib\\site-packages\\sklearn\\ensemble\\_forest.py:403: FutureWarning: Criterion 'mae' was deprecated in v1.0 and will be removed in version 1.2. Use `criterion='absolute_error'` which is equivalent.\n",
      "  warn(\n",
      "C:\\Users\\mayank\\anaconda3\\lib\\site-packages\\sklearn\\ensemble\\_forest.py:403: FutureWarning: Criterion 'mae' was deprecated in v1.0 and will be removed in version 1.2. Use `criterion='absolute_error'` which is equivalent.\n",
      "  warn(\n",
      "C:\\Users\\mayank\\anaconda3\\lib\\site-packages\\sklearn\\ensemble\\_forest.py:403: FutureWarning: Criterion 'mae' was deprecated in v1.0 and will be removed in version 1.2. Use `criterion='absolute_error'` which is equivalent.\n",
      "  warn(\n",
      "C:\\Users\\mayank\\anaconda3\\lib\\site-packages\\sklearn\\ensemble\\_forest.py:403: FutureWarning: Criterion 'mae' was deprecated in v1.0 and will be removed in version 1.2. Use `criterion='absolute_error'` which is equivalent.\n",
      "  warn(\n",
      "C:\\Users\\mayank\\anaconda3\\lib\\site-packages\\sklearn\\ensemble\\_forest.py:403: FutureWarning: Criterion 'mae' was deprecated in v1.0 and will be removed in version 1.2. Use `criterion='absolute_error'` which is equivalent.\n",
      "  warn(\n",
      "C:\\Users\\mayank\\anaconda3\\lib\\site-packages\\sklearn\\ensemble\\_forest.py:403: FutureWarning: Criterion 'mae' was deprecated in v1.0 and will be removed in version 1.2. Use `criterion='absolute_error'` which is equivalent.\n",
      "  warn(\n",
      "C:\\Users\\mayank\\anaconda3\\lib\\site-packages\\sklearn\\ensemble\\_forest.py:403: FutureWarning: Criterion 'mae' was deprecated in v1.0 and will be removed in version 1.2. Use `criterion='absolute_error'` which is equivalent.\n",
      "  warn(\n",
      "C:\\Users\\mayank\\anaconda3\\lib\\site-packages\\sklearn\\ensemble\\_forest.py:403: FutureWarning: Criterion 'mae' was deprecated in v1.0 and will be removed in version 1.2. Use `criterion='absolute_error'` which is equivalent.\n",
      "  warn(\n",
      "C:\\Users\\mayank\\anaconda3\\lib\\site-packages\\sklearn\\ensemble\\_forest.py:403: FutureWarning: Criterion 'mae' was deprecated in v1.0 and will be removed in version 1.2. Use `criterion='absolute_error'` which is equivalent.\n",
      "  warn(\n",
      "C:\\Users\\mayank\\anaconda3\\lib\\site-packages\\sklearn\\ensemble\\_forest.py:403: FutureWarning: Criterion 'mae' was deprecated in v1.0 and will be removed in version 1.2. Use `criterion='absolute_error'` which is equivalent.\n",
      "  warn(\n",
      "C:\\Users\\mayank\\anaconda3\\lib\\site-packages\\sklearn\\ensemble\\_forest.py:403: FutureWarning: Criterion 'mae' was deprecated in v1.0 and will be removed in version 1.2. Use `criterion='absolute_error'` which is equivalent.\n",
      "  warn(\n",
      "C:\\Users\\mayank\\anaconda3\\lib\\site-packages\\sklearn\\ensemble\\_forest.py:403: FutureWarning: Criterion 'mae' was deprecated in v1.0 and will be removed in version 1.2. Use `criterion='absolute_error'` which is equivalent.\n",
      "  warn(\n",
      "C:\\Users\\mayank\\anaconda3\\lib\\site-packages\\sklearn\\ensemble\\_forest.py:403: FutureWarning: Criterion 'mae' was deprecated in v1.0 and will be removed in version 1.2. Use `criterion='absolute_error'` which is equivalent.\n",
      "  warn(\n",
      "C:\\Users\\mayank\\anaconda3\\lib\\site-packages\\sklearn\\ensemble\\_forest.py:403: FutureWarning: Criterion 'mae' was deprecated in v1.0 and will be removed in version 1.2. Use `criterion='absolute_error'` which is equivalent.\n",
      "  warn(\n",
      "C:\\Users\\mayank\\anaconda3\\lib\\site-packages\\sklearn\\ensemble\\_forest.py:403: FutureWarning: Criterion 'mae' was deprecated in v1.0 and will be removed in version 1.2. Use `criterion='absolute_error'` which is equivalent.\n",
      "  warn(\n",
      "C:\\Users\\mayank\\anaconda3\\lib\\site-packages\\sklearn\\ensemble\\_forest.py:403: FutureWarning: Criterion 'mae' was deprecated in v1.0 and will be removed in version 1.2. Use `criterion='absolute_error'` which is equivalent.\n",
      "  warn(\n",
      "C:\\Users\\mayank\\anaconda3\\lib\\site-packages\\sklearn\\ensemble\\_forest.py:403: FutureWarning: Criterion 'mae' was deprecated in v1.0 and will be removed in version 1.2. Use `criterion='absolute_error'` which is equivalent.\n",
      "  warn(\n",
      "C:\\Users\\mayank\\anaconda3\\lib\\site-packages\\sklearn\\ensemble\\_forest.py:403: FutureWarning: Criterion 'mae' was deprecated in v1.0 and will be removed in version 1.2. Use `criterion='absolute_error'` which is equivalent.\n",
      "  warn(\n",
      "C:\\Users\\mayank\\anaconda3\\lib\\site-packages\\sklearn\\ensemble\\_forest.py:403: FutureWarning: Criterion 'mae' was deprecated in v1.0 and will be removed in version 1.2. Use `criterion='absolute_error'` which is equivalent.\n",
      "  warn(\n",
      "C:\\Users\\mayank\\anaconda3\\lib\\site-packages\\sklearn\\ensemble\\_forest.py:403: FutureWarning: Criterion 'mae' was deprecated in v1.0 and will be removed in version 1.2. Use `criterion='absolute_error'` which is equivalent.\n",
      "  warn(\n",
      "C:\\Users\\mayank\\anaconda3\\lib\\site-packages\\sklearn\\ensemble\\_forest.py:403: FutureWarning: Criterion 'mae' was deprecated in v1.0 and will be removed in version 1.2. Use `criterion='absolute_error'` which is equivalent.\n",
      "  warn(\n",
      "C:\\Users\\mayank\\anaconda3\\lib\\site-packages\\sklearn\\ensemble\\_forest.py:403: FutureWarning: Criterion 'mae' was deprecated in v1.0 and will be removed in version 1.2. Use `criterion='absolute_error'` which is equivalent.\n",
      "  warn(\n",
      "C:\\Users\\mayank\\anaconda3\\lib\\site-packages\\sklearn\\ensemble\\_forest.py:403: FutureWarning: Criterion 'mae' was deprecated in v1.0 and will be removed in version 1.2. Use `criterion='absolute_error'` which is equivalent.\n",
      "  warn(\n",
      "C:\\Users\\mayank\\anaconda3\\lib\\site-packages\\sklearn\\ensemble\\_forest.py:403: FutureWarning: Criterion 'mae' was deprecated in v1.0 and will be removed in version 1.2. Use `criterion='absolute_error'` which is equivalent.\n",
      "  warn(\n",
      "C:\\Users\\mayank\\anaconda3\\lib\\site-packages\\sklearn\\ensemble\\_forest.py:403: FutureWarning: Criterion 'mae' was deprecated in v1.0 and will be removed in version 1.2. Use `criterion='absolute_error'` which is equivalent.\n",
      "  warn(\n",
      "C:\\Users\\mayank\\anaconda3\\lib\\site-packages\\sklearn\\ensemble\\_forest.py:403: FutureWarning: Criterion 'mae' was deprecated in v1.0 and will be removed in version 1.2. Use `criterion='absolute_error'` which is equivalent.\n",
      "  warn(\n",
      "C:\\Users\\mayank\\anaconda3\\lib\\site-packages\\sklearn\\ensemble\\_forest.py:403: FutureWarning: Criterion 'mae' was deprecated in v1.0 and will be removed in version 1.2. Use `criterion='absolute_error'` which is equivalent.\n",
      "  warn(\n"
     ]
    },
    {
     "name": "stderr",
     "output_type": "stream",
     "text": [
      "C:\\Users\\mayank\\anaconda3\\lib\\site-packages\\sklearn\\ensemble\\_forest.py:403: FutureWarning: Criterion 'mae' was deprecated in v1.0 and will be removed in version 1.2. Use `criterion='absolute_error'` which is equivalent.\n",
      "  warn(\n",
      "C:\\Users\\mayank\\anaconda3\\lib\\site-packages\\sklearn\\ensemble\\_forest.py:403: FutureWarning: Criterion 'mae' was deprecated in v1.0 and will be removed in version 1.2. Use `criterion='absolute_error'` which is equivalent.\n",
      "  warn(\n",
      "C:\\Users\\mayank\\anaconda3\\lib\\site-packages\\sklearn\\ensemble\\_forest.py:403: FutureWarning: Criterion 'mae' was deprecated in v1.0 and will be removed in version 1.2. Use `criterion='absolute_error'` which is equivalent.\n",
      "  warn(\n",
      "C:\\Users\\mayank\\anaconda3\\lib\\site-packages\\sklearn\\ensemble\\_forest.py:403: FutureWarning: Criterion 'mae' was deprecated in v1.0 and will be removed in version 1.2. Use `criterion='absolute_error'` which is equivalent.\n",
      "  warn(\n",
      "C:\\Users\\mayank\\anaconda3\\lib\\site-packages\\sklearn\\ensemble\\_forest.py:403: FutureWarning: Criterion 'mae' was deprecated in v1.0 and will be removed in version 1.2. Use `criterion='absolute_error'` which is equivalent.\n",
      "  warn(\n",
      "C:\\Users\\mayank\\anaconda3\\lib\\site-packages\\sklearn\\ensemble\\_forest.py:403: FutureWarning: Criterion 'mae' was deprecated in v1.0 and will be removed in version 1.2. Use `criterion='absolute_error'` which is equivalent.\n",
      "  warn(\n",
      "C:\\Users\\mayank\\anaconda3\\lib\\site-packages\\sklearn\\ensemble\\_forest.py:403: FutureWarning: Criterion 'mae' was deprecated in v1.0 and will be removed in version 1.2. Use `criterion='absolute_error'` which is equivalent.\n",
      "  warn(\n",
      "C:\\Users\\mayank\\anaconda3\\lib\\site-packages\\sklearn\\ensemble\\_forest.py:403: FutureWarning: Criterion 'mae' was deprecated in v1.0 and will be removed in version 1.2. Use `criterion='absolute_error'` which is equivalent.\n",
      "  warn(\n",
      "C:\\Users\\mayank\\anaconda3\\lib\\site-packages\\sklearn\\ensemble\\_forest.py:403: FutureWarning: Criterion 'mae' was deprecated in v1.0 and will be removed in version 1.2. Use `criterion='absolute_error'` which is equivalent.\n",
      "  warn(\n",
      "C:\\Users\\mayank\\anaconda3\\lib\\site-packages\\sklearn\\ensemble\\_forest.py:403: FutureWarning: Criterion 'mae' was deprecated in v1.0 and will be removed in version 1.2. Use `criterion='absolute_error'` which is equivalent.\n",
      "  warn(\n",
      "C:\\Users\\mayank\\anaconda3\\lib\\site-packages\\sklearn\\ensemble\\_forest.py:403: FutureWarning: Criterion 'mae' was deprecated in v1.0 and will be removed in version 1.2. Use `criterion='absolute_error'` which is equivalent.\n",
      "  warn(\n",
      "C:\\Users\\mayank\\anaconda3\\lib\\site-packages\\sklearn\\ensemble\\_forest.py:403: FutureWarning: Criterion 'mae' was deprecated in v1.0 and will be removed in version 1.2. Use `criterion='absolute_error'` which is equivalent.\n",
      "  warn(\n",
      "C:\\Users\\mayank\\anaconda3\\lib\\site-packages\\sklearn\\ensemble\\_forest.py:403: FutureWarning: Criterion 'mae' was deprecated in v1.0 and will be removed in version 1.2. Use `criterion='absolute_error'` which is equivalent.\n",
      "  warn(\n",
      "C:\\Users\\mayank\\anaconda3\\lib\\site-packages\\sklearn\\ensemble\\_forest.py:403: FutureWarning: Criterion 'mae' was deprecated in v1.0 and will be removed in version 1.2. Use `criterion='absolute_error'` which is equivalent.\n",
      "  warn(\n",
      "C:\\Users\\mayank\\anaconda3\\lib\\site-packages\\sklearn\\ensemble\\_forest.py:403: FutureWarning: Criterion 'mae' was deprecated in v1.0 and will be removed in version 1.2. Use `criterion='absolute_error'` which is equivalent.\n",
      "  warn(\n",
      "C:\\Users\\mayank\\anaconda3\\lib\\site-packages\\sklearn\\ensemble\\_forest.py:403: FutureWarning: Criterion 'mae' was deprecated in v1.0 and will be removed in version 1.2. Use `criterion='absolute_error'` which is equivalent.\n",
      "  warn(\n",
      "C:\\Users\\mayank\\anaconda3\\lib\\site-packages\\sklearn\\ensemble\\_forest.py:403: FutureWarning: Criterion 'mae' was deprecated in v1.0 and will be removed in version 1.2. Use `criterion='absolute_error'` which is equivalent.\n",
      "  warn(\n",
      "C:\\Users\\mayank\\anaconda3\\lib\\site-packages\\sklearn\\ensemble\\_forest.py:403: FutureWarning: Criterion 'mae' was deprecated in v1.0 and will be removed in version 1.2. Use `criterion='absolute_error'` which is equivalent.\n",
      "  warn(\n",
      "C:\\Users\\mayank\\anaconda3\\lib\\site-packages\\sklearn\\ensemble\\_forest.py:403: FutureWarning: Criterion 'mae' was deprecated in v1.0 and will be removed in version 1.2. Use `criterion='absolute_error'` which is equivalent.\n",
      "  warn(\n",
      "C:\\Users\\mayank\\anaconda3\\lib\\site-packages\\sklearn\\ensemble\\_forest.py:403: FutureWarning: Criterion 'mae' was deprecated in v1.0 and will be removed in version 1.2. Use `criterion='absolute_error'` which is equivalent.\n",
      "  warn(\n",
      "C:\\Users\\mayank\\anaconda3\\lib\\site-packages\\sklearn\\ensemble\\_forest.py:403: FutureWarning: Criterion 'mae' was deprecated in v1.0 and will be removed in version 1.2. Use `criterion='absolute_error'` which is equivalent.\n",
      "  warn(\n",
      "C:\\Users\\mayank\\anaconda3\\lib\\site-packages\\sklearn\\ensemble\\_forest.py:403: FutureWarning: Criterion 'mae' was deprecated in v1.0 and will be removed in version 1.2. Use `criterion='absolute_error'` which is equivalent.\n",
      "  warn(\n",
      "C:\\Users\\mayank\\anaconda3\\lib\\site-packages\\sklearn\\ensemble\\_forest.py:403: FutureWarning: Criterion 'mae' was deprecated in v1.0 and will be removed in version 1.2. Use `criterion='absolute_error'` which is equivalent.\n",
      "  warn(\n",
      "C:\\Users\\mayank\\anaconda3\\lib\\site-packages\\sklearn\\ensemble\\_forest.py:403: FutureWarning: Criterion 'mae' was deprecated in v1.0 and will be removed in version 1.2. Use `criterion='absolute_error'` which is equivalent.\n",
      "  warn(\n",
      "C:\\Users\\mayank\\anaconda3\\lib\\site-packages\\sklearn\\ensemble\\_forest.py:403: FutureWarning: Criterion 'mae' was deprecated in v1.0 and will be removed in version 1.2. Use `criterion='absolute_error'` which is equivalent.\n",
      "  warn(\n",
      "C:\\Users\\mayank\\anaconda3\\lib\\site-packages\\sklearn\\ensemble\\_forest.py:403: FutureWarning: Criterion 'mae' was deprecated in v1.0 and will be removed in version 1.2. Use `criterion='absolute_error'` which is equivalent.\n",
      "  warn(\n",
      "C:\\Users\\mayank\\anaconda3\\lib\\site-packages\\sklearn\\ensemble\\_forest.py:403: FutureWarning: Criterion 'mae' was deprecated in v1.0 and will be removed in version 1.2. Use `criterion='absolute_error'` which is equivalent.\n",
      "  warn(\n",
      "C:\\Users\\mayank\\anaconda3\\lib\\site-packages\\sklearn\\ensemble\\_forest.py:403: FutureWarning: Criterion 'mae' was deprecated in v1.0 and will be removed in version 1.2. Use `criterion='absolute_error'` which is equivalent.\n",
      "  warn(\n",
      "C:\\Users\\mayank\\anaconda3\\lib\\site-packages\\sklearn\\ensemble\\_forest.py:403: FutureWarning: Criterion 'mae' was deprecated in v1.0 and will be removed in version 1.2. Use `criterion='absolute_error'` which is equivalent.\n",
      "  warn(\n",
      "C:\\Users\\mayank\\anaconda3\\lib\\site-packages\\sklearn\\ensemble\\_forest.py:403: FutureWarning: Criterion 'mae' was deprecated in v1.0 and will be removed in version 1.2. Use `criterion='absolute_error'` which is equivalent.\n",
      "  warn(\n",
      "C:\\Users\\mayank\\anaconda3\\lib\\site-packages\\sklearn\\ensemble\\_forest.py:403: FutureWarning: Criterion 'mae' was deprecated in v1.0 and will be removed in version 1.2. Use `criterion='absolute_error'` which is equivalent.\n",
      "  warn(\n",
      "C:\\Users\\mayank\\anaconda3\\lib\\site-packages\\sklearn\\ensemble\\_forest.py:403: FutureWarning: Criterion 'mae' was deprecated in v1.0 and will be removed in version 1.2. Use `criterion='absolute_error'` which is equivalent.\n",
      "  warn(\n",
      "C:\\Users\\mayank\\anaconda3\\lib\\site-packages\\sklearn\\ensemble\\_forest.py:403: FutureWarning: Criterion 'mae' was deprecated in v1.0 and will be removed in version 1.2. Use `criterion='absolute_error'` which is equivalent.\n",
      "  warn(\n",
      "C:\\Users\\mayank\\anaconda3\\lib\\site-packages\\sklearn\\ensemble\\_forest.py:403: FutureWarning: Criterion 'mae' was deprecated in v1.0 and will be removed in version 1.2. Use `criterion='absolute_error'` which is equivalent.\n",
      "  warn(\n",
      "C:\\Users\\mayank\\anaconda3\\lib\\site-packages\\sklearn\\ensemble\\_forest.py:403: FutureWarning: Criterion 'mae' was deprecated in v1.0 and will be removed in version 1.2. Use `criterion='absolute_error'` which is equivalent.\n",
      "  warn(\n",
      "C:\\Users\\mayank\\anaconda3\\lib\\site-packages\\sklearn\\ensemble\\_forest.py:403: FutureWarning: Criterion 'mae' was deprecated in v1.0 and will be removed in version 1.2. Use `criterion='absolute_error'` which is equivalent.\n",
      "  warn(\n"
     ]
    },
    {
     "name": "stderr",
     "output_type": "stream",
     "text": [
      "C:\\Users\\mayank\\anaconda3\\lib\\site-packages\\sklearn\\ensemble\\_forest.py:403: FutureWarning: Criterion 'mae' was deprecated in v1.0 and will be removed in version 1.2. Use `criterion='absolute_error'` which is equivalent.\n",
      "  warn(\n",
      "C:\\Users\\mayank\\anaconda3\\lib\\site-packages\\sklearn\\ensemble\\_forest.py:403: FutureWarning: Criterion 'mae' was deprecated in v1.0 and will be removed in version 1.2. Use `criterion='absolute_error'` which is equivalent.\n",
      "  warn(\n",
      "C:\\Users\\mayank\\anaconda3\\lib\\site-packages\\sklearn\\ensemble\\_forest.py:403: FutureWarning: Criterion 'mae' was deprecated in v1.0 and will be removed in version 1.2. Use `criterion='absolute_error'` which is equivalent.\n",
      "  warn(\n",
      "C:\\Users\\mayank\\anaconda3\\lib\\site-packages\\sklearn\\ensemble\\_forest.py:403: FutureWarning: Criterion 'mae' was deprecated in v1.0 and will be removed in version 1.2. Use `criterion='absolute_error'` which is equivalent.\n",
      "  warn(\n",
      "C:\\Users\\mayank\\anaconda3\\lib\\site-packages\\sklearn\\ensemble\\_forest.py:403: FutureWarning: Criterion 'mae' was deprecated in v1.0 and will be removed in version 1.2. Use `criterion='absolute_error'` which is equivalent.\n",
      "  warn(\n",
      "C:\\Users\\mayank\\anaconda3\\lib\\site-packages\\sklearn\\ensemble\\_forest.py:403: FutureWarning: Criterion 'mae' was deprecated in v1.0 and will be removed in version 1.2. Use `criterion='absolute_error'` which is equivalent.\n",
      "  warn(\n",
      "C:\\Users\\mayank\\anaconda3\\lib\\site-packages\\sklearn\\ensemble\\_forest.py:403: FutureWarning: Criterion 'mae' was deprecated in v1.0 and will be removed in version 1.2. Use `criterion='absolute_error'` which is equivalent.\n",
      "  warn(\n",
      "C:\\Users\\mayank\\anaconda3\\lib\\site-packages\\sklearn\\ensemble\\_forest.py:403: FutureWarning: Criterion 'mae' was deprecated in v1.0 and will be removed in version 1.2. Use `criterion='absolute_error'` which is equivalent.\n",
      "  warn(\n",
      "C:\\Users\\mayank\\anaconda3\\lib\\site-packages\\sklearn\\ensemble\\_forest.py:403: FutureWarning: Criterion 'mae' was deprecated in v1.0 and will be removed in version 1.2. Use `criterion='absolute_error'` which is equivalent.\n",
      "  warn(\n",
      "C:\\Users\\mayank\\anaconda3\\lib\\site-packages\\sklearn\\ensemble\\_forest.py:403: FutureWarning: Criterion 'mae' was deprecated in v1.0 and will be removed in version 1.2. Use `criterion='absolute_error'` which is equivalent.\n",
      "  warn(\n",
      "C:\\Users\\mayank\\anaconda3\\lib\\site-packages\\sklearn\\ensemble\\_forest.py:403: FutureWarning: Criterion 'mae' was deprecated in v1.0 and will be removed in version 1.2. Use `criterion='absolute_error'` which is equivalent.\n",
      "  warn(\n",
      "C:\\Users\\mayank\\anaconda3\\lib\\site-packages\\sklearn\\ensemble\\_forest.py:403: FutureWarning: Criterion 'mae' was deprecated in v1.0 and will be removed in version 1.2. Use `criterion='absolute_error'` which is equivalent.\n",
      "  warn(\n",
      "C:\\Users\\mayank\\anaconda3\\lib\\site-packages\\sklearn\\ensemble\\_forest.py:403: FutureWarning: Criterion 'mae' was deprecated in v1.0 and will be removed in version 1.2. Use `criterion='absolute_error'` which is equivalent.\n",
      "  warn(\n",
      "C:\\Users\\mayank\\anaconda3\\lib\\site-packages\\sklearn\\ensemble\\_forest.py:403: FutureWarning: Criterion 'mae' was deprecated in v1.0 and will be removed in version 1.2. Use `criterion='absolute_error'` which is equivalent.\n",
      "  warn(\n",
      "C:\\Users\\mayank\\anaconda3\\lib\\site-packages\\sklearn\\ensemble\\_forest.py:403: FutureWarning: Criterion 'mae' was deprecated in v1.0 and will be removed in version 1.2. Use `criterion='absolute_error'` which is equivalent.\n",
      "  warn(\n",
      "C:\\Users\\mayank\\anaconda3\\lib\\site-packages\\sklearn\\ensemble\\_forest.py:403: FutureWarning: Criterion 'mae' was deprecated in v1.0 and will be removed in version 1.2. Use `criterion='absolute_error'` which is equivalent.\n",
      "  warn(\n",
      "C:\\Users\\mayank\\anaconda3\\lib\\site-packages\\sklearn\\ensemble\\_forest.py:403: FutureWarning: Criterion 'mae' was deprecated in v1.0 and will be removed in version 1.2. Use `criterion='absolute_error'` which is equivalent.\n",
      "  warn(\n",
      "C:\\Users\\mayank\\anaconda3\\lib\\site-packages\\sklearn\\ensemble\\_forest.py:403: FutureWarning: Criterion 'mae' was deprecated in v1.0 and will be removed in version 1.2. Use `criterion='absolute_error'` which is equivalent.\n",
      "  warn(\n",
      "C:\\Users\\mayank\\anaconda3\\lib\\site-packages\\sklearn\\ensemble\\_forest.py:403: FutureWarning: Criterion 'mae' was deprecated in v1.0 and will be removed in version 1.2. Use `criterion='absolute_error'` which is equivalent.\n",
      "  warn(\n",
      "C:\\Users\\mayank\\anaconda3\\lib\\site-packages\\sklearn\\ensemble\\_forest.py:403: FutureWarning: Criterion 'mae' was deprecated in v1.0 and will be removed in version 1.2. Use `criterion='absolute_error'` which is equivalent.\n",
      "  warn(\n",
      "C:\\Users\\mayank\\anaconda3\\lib\\site-packages\\sklearn\\ensemble\\_forest.py:403: FutureWarning: Criterion 'mae' was deprecated in v1.0 and will be removed in version 1.2. Use `criterion='absolute_error'` which is equivalent.\n",
      "  warn(\n",
      "C:\\Users\\mayank\\anaconda3\\lib\\site-packages\\sklearn\\ensemble\\_forest.py:403: FutureWarning: Criterion 'mae' was deprecated in v1.0 and will be removed in version 1.2. Use `criterion='absolute_error'` which is equivalent.\n",
      "  warn(\n",
      "C:\\Users\\mayank\\anaconda3\\lib\\site-packages\\sklearn\\ensemble\\_forest.py:403: FutureWarning: Criterion 'mae' was deprecated in v1.0 and will be removed in version 1.2. Use `criterion='absolute_error'` which is equivalent.\n",
      "  warn(\n",
      "C:\\Users\\mayank\\anaconda3\\lib\\site-packages\\sklearn\\ensemble\\_forest.py:403: FutureWarning: Criterion 'mae' was deprecated in v1.0 and will be removed in version 1.2. Use `criterion='absolute_error'` which is equivalent.\n",
      "  warn(\n",
      "C:\\Users\\mayank\\anaconda3\\lib\\site-packages\\sklearn\\ensemble\\_forest.py:403: FutureWarning: Criterion 'mae' was deprecated in v1.0 and will be removed in version 1.2. Use `criterion='absolute_error'` which is equivalent.\n",
      "  warn(\n",
      "C:\\Users\\mayank\\anaconda3\\lib\\site-packages\\sklearn\\ensemble\\_forest.py:403: FutureWarning: Criterion 'mae' was deprecated in v1.0 and will be removed in version 1.2. Use `criterion='absolute_error'` which is equivalent.\n",
      "  warn(\n",
      "C:\\Users\\mayank\\anaconda3\\lib\\site-packages\\sklearn\\ensemble\\_forest.py:403: FutureWarning: Criterion 'mae' was deprecated in v1.0 and will be removed in version 1.2. Use `criterion='absolute_error'` which is equivalent.\n",
      "  warn(\n",
      "C:\\Users\\mayank\\anaconda3\\lib\\site-packages\\sklearn\\ensemble\\_forest.py:403: FutureWarning: Criterion 'mae' was deprecated in v1.0 and will be removed in version 1.2. Use `criterion='absolute_error'` which is equivalent.\n",
      "  warn(\n",
      "C:\\Users\\mayank\\anaconda3\\lib\\site-packages\\sklearn\\ensemble\\_forest.py:403: FutureWarning: Criterion 'mae' was deprecated in v1.0 and will be removed in version 1.2. Use `criterion='absolute_error'` which is equivalent.\n",
      "  warn(\n",
      "C:\\Users\\mayank\\anaconda3\\lib\\site-packages\\sklearn\\ensemble\\_forest.py:403: FutureWarning: Criterion 'mae' was deprecated in v1.0 and will be removed in version 1.2. Use `criterion='absolute_error'` which is equivalent.\n",
      "  warn(\n",
      "C:\\Users\\mayank\\anaconda3\\lib\\site-packages\\sklearn\\ensemble\\_forest.py:403: FutureWarning: Criterion 'mae' was deprecated in v1.0 and will be removed in version 1.2. Use `criterion='absolute_error'` which is equivalent.\n",
      "  warn(\n",
      "C:\\Users\\mayank\\anaconda3\\lib\\site-packages\\sklearn\\ensemble\\_forest.py:403: FutureWarning: Criterion 'mae' was deprecated in v1.0 and will be removed in version 1.2. Use `criterion='absolute_error'` which is equivalent.\n",
      "  warn(\n",
      "C:\\Users\\mayank\\anaconda3\\lib\\site-packages\\sklearn\\ensemble\\_forest.py:403: FutureWarning: Criterion 'mae' was deprecated in v1.0 and will be removed in version 1.2. Use `criterion='absolute_error'` which is equivalent.\n",
      "  warn(\n",
      "C:\\Users\\mayank\\anaconda3\\lib\\site-packages\\sklearn\\ensemble\\_forest.py:403: FutureWarning: Criterion 'mae' was deprecated in v1.0 and will be removed in version 1.2. Use `criterion='absolute_error'` which is equivalent.\n",
      "  warn(\n",
      "C:\\Users\\mayank\\anaconda3\\lib\\site-packages\\sklearn\\ensemble\\_forest.py:403: FutureWarning: Criterion 'mae' was deprecated in v1.0 and will be removed in version 1.2. Use `criterion='absolute_error'` which is equivalent.\n",
      "  warn(\n",
      "C:\\Users\\mayank\\anaconda3\\lib\\site-packages\\sklearn\\ensemble\\_forest.py:403: FutureWarning: Criterion 'mae' was deprecated in v1.0 and will be removed in version 1.2. Use `criterion='absolute_error'` which is equivalent.\n",
      "  warn(\n"
     ]
    },
    {
     "name": "stderr",
     "output_type": "stream",
     "text": [
      "C:\\Users\\mayank\\anaconda3\\lib\\site-packages\\sklearn\\ensemble\\_forest.py:403: FutureWarning: Criterion 'mae' was deprecated in v1.0 and will be removed in version 1.2. Use `criterion='absolute_error'` which is equivalent.\n",
      "  warn(\n",
      "C:\\Users\\mayank\\anaconda3\\lib\\site-packages\\sklearn\\ensemble\\_forest.py:403: FutureWarning: Criterion 'mae' was deprecated in v1.0 and will be removed in version 1.2. Use `criterion='absolute_error'` which is equivalent.\n",
      "  warn(\n",
      "C:\\Users\\mayank\\anaconda3\\lib\\site-packages\\sklearn\\ensemble\\_forest.py:403: FutureWarning: Criterion 'mae' was deprecated in v1.0 and will be removed in version 1.2. Use `criterion='absolute_error'` which is equivalent.\n",
      "  warn(\n",
      "C:\\Users\\mayank\\anaconda3\\lib\\site-packages\\sklearn\\ensemble\\_forest.py:403: FutureWarning: Criterion 'mae' was deprecated in v1.0 and will be removed in version 1.2. Use `criterion='absolute_error'` which is equivalent.\n",
      "  warn(\n",
      "C:\\Users\\mayank\\anaconda3\\lib\\site-packages\\sklearn\\ensemble\\_forest.py:403: FutureWarning: Criterion 'mae' was deprecated in v1.0 and will be removed in version 1.2. Use `criterion='absolute_error'` which is equivalent.\n",
      "  warn(\n",
      "C:\\Users\\mayank\\anaconda3\\lib\\site-packages\\sklearn\\ensemble\\_forest.py:403: FutureWarning: Criterion 'mae' was deprecated in v1.0 and will be removed in version 1.2. Use `criterion='absolute_error'` which is equivalent.\n",
      "  warn(\n",
      "C:\\Users\\mayank\\anaconda3\\lib\\site-packages\\sklearn\\ensemble\\_forest.py:403: FutureWarning: Criterion 'mae' was deprecated in v1.0 and will be removed in version 1.2. Use `criterion='absolute_error'` which is equivalent.\n",
      "  warn(\n",
      "C:\\Users\\mayank\\anaconda3\\lib\\site-packages\\sklearn\\ensemble\\_forest.py:403: FutureWarning: Criterion 'mae' was deprecated in v1.0 and will be removed in version 1.2. Use `criterion='absolute_error'` which is equivalent.\n",
      "  warn(\n",
      "C:\\Users\\mayank\\anaconda3\\lib\\site-packages\\sklearn\\ensemble\\_forest.py:403: FutureWarning: Criterion 'mae' was deprecated in v1.0 and will be removed in version 1.2. Use `criterion='absolute_error'` which is equivalent.\n",
      "  warn(\n",
      "C:\\Users\\mayank\\anaconda3\\lib\\site-packages\\sklearn\\ensemble\\_forest.py:403: FutureWarning: Criterion 'mae' was deprecated in v1.0 and will be removed in version 1.2. Use `criterion='absolute_error'` which is equivalent.\n",
      "  warn(\n",
      "C:\\Users\\mayank\\anaconda3\\lib\\site-packages\\sklearn\\ensemble\\_forest.py:403: FutureWarning: Criterion 'mae' was deprecated in v1.0 and will be removed in version 1.2. Use `criterion='absolute_error'` which is equivalent.\n",
      "  warn(\n",
      "C:\\Users\\mayank\\anaconda3\\lib\\site-packages\\sklearn\\ensemble\\_forest.py:403: FutureWarning: Criterion 'mae' was deprecated in v1.0 and will be removed in version 1.2. Use `criterion='absolute_error'` which is equivalent.\n",
      "  warn(\n",
      "C:\\Users\\mayank\\anaconda3\\lib\\site-packages\\sklearn\\ensemble\\_forest.py:403: FutureWarning: Criterion 'mae' was deprecated in v1.0 and will be removed in version 1.2. Use `criterion='absolute_error'` which is equivalent.\n",
      "  warn(\n",
      "C:\\Users\\mayank\\anaconda3\\lib\\site-packages\\sklearn\\ensemble\\_forest.py:403: FutureWarning: Criterion 'mae' was deprecated in v1.0 and will be removed in version 1.2. Use `criterion='absolute_error'` which is equivalent.\n",
      "  warn(\n",
      "C:\\Users\\mayank\\anaconda3\\lib\\site-packages\\sklearn\\ensemble\\_forest.py:403: FutureWarning: Criterion 'mae' was deprecated in v1.0 and will be removed in version 1.2. Use `criterion='absolute_error'` which is equivalent.\n",
      "  warn(\n",
      "C:\\Users\\mayank\\anaconda3\\lib\\site-packages\\sklearn\\ensemble\\_forest.py:403: FutureWarning: Criterion 'mae' was deprecated in v1.0 and will be removed in version 1.2. Use `criterion='absolute_error'` which is equivalent.\n",
      "  warn(\n",
      "C:\\Users\\mayank\\anaconda3\\lib\\site-packages\\sklearn\\ensemble\\_forest.py:403: FutureWarning: Criterion 'mae' was deprecated in v1.0 and will be removed in version 1.2. Use `criterion='absolute_error'` which is equivalent.\n",
      "  warn(\n",
      "C:\\Users\\mayank\\anaconda3\\lib\\site-packages\\sklearn\\ensemble\\_forest.py:403: FutureWarning: Criterion 'mae' was deprecated in v1.0 and will be removed in version 1.2. Use `criterion='absolute_error'` which is equivalent.\n",
      "  warn(\n",
      "C:\\Users\\mayank\\anaconda3\\lib\\site-packages\\sklearn\\ensemble\\_forest.py:403: FutureWarning: Criterion 'mae' was deprecated in v1.0 and will be removed in version 1.2. Use `criterion='absolute_error'` which is equivalent.\n",
      "  warn(\n",
      "C:\\Users\\mayank\\anaconda3\\lib\\site-packages\\sklearn\\ensemble\\_forest.py:403: FutureWarning: Criterion 'mae' was deprecated in v1.0 and will be removed in version 1.2. Use `criterion='absolute_error'` which is equivalent.\n",
      "  warn(\n",
      "C:\\Users\\mayank\\anaconda3\\lib\\site-packages\\sklearn\\ensemble\\_forest.py:403: FutureWarning: Criterion 'mae' was deprecated in v1.0 and will be removed in version 1.2. Use `criterion='absolute_error'` which is equivalent.\n",
      "  warn(\n",
      "C:\\Users\\mayank\\anaconda3\\lib\\site-packages\\sklearn\\ensemble\\_forest.py:403: FutureWarning: Criterion 'mae' was deprecated in v1.0 and will be removed in version 1.2. Use `criterion='absolute_error'` which is equivalent.\n",
      "  warn(\n",
      "C:\\Users\\mayank\\anaconda3\\lib\\site-packages\\sklearn\\ensemble\\_forest.py:403: FutureWarning: Criterion 'mae' was deprecated in v1.0 and will be removed in version 1.2. Use `criterion='absolute_error'` which is equivalent.\n",
      "  warn(\n",
      "C:\\Users\\mayank\\anaconda3\\lib\\site-packages\\sklearn\\ensemble\\_forest.py:403: FutureWarning: Criterion 'mae' was deprecated in v1.0 and will be removed in version 1.2. Use `criterion='absolute_error'` which is equivalent.\n",
      "  warn(\n",
      "C:\\Users\\mayank\\anaconda3\\lib\\site-packages\\sklearn\\ensemble\\_forest.py:403: FutureWarning: Criterion 'mae' was deprecated in v1.0 and will be removed in version 1.2. Use `criterion='absolute_error'` which is equivalent.\n",
      "  warn(\n",
      "C:\\Users\\mayank\\anaconda3\\lib\\site-packages\\sklearn\\ensemble\\_forest.py:403: FutureWarning: Criterion 'mae' was deprecated in v1.0 and will be removed in version 1.2. Use `criterion='absolute_error'` which is equivalent.\n",
      "  warn(\n",
      "C:\\Users\\mayank\\anaconda3\\lib\\site-packages\\sklearn\\ensemble\\_forest.py:403: FutureWarning: Criterion 'mae' was deprecated in v1.0 and will be removed in version 1.2. Use `criterion='absolute_error'` which is equivalent.\n",
      "  warn(\n",
      "C:\\Users\\mayank\\anaconda3\\lib\\site-packages\\sklearn\\ensemble\\_forest.py:403: FutureWarning: Criterion 'mae' was deprecated in v1.0 and will be removed in version 1.2. Use `criterion='absolute_error'` which is equivalent.\n",
      "  warn(\n",
      "C:\\Users\\mayank\\anaconda3\\lib\\site-packages\\sklearn\\ensemble\\_forest.py:403: FutureWarning: Criterion 'mae' was deprecated in v1.0 and will be removed in version 1.2. Use `criterion='absolute_error'` which is equivalent.\n",
      "  warn(\n",
      "C:\\Users\\mayank\\anaconda3\\lib\\site-packages\\sklearn\\ensemble\\_forest.py:403: FutureWarning: Criterion 'mae' was deprecated in v1.0 and will be removed in version 1.2. Use `criterion='absolute_error'` which is equivalent.\n",
      "  warn(\n",
      "C:\\Users\\mayank\\anaconda3\\lib\\site-packages\\sklearn\\ensemble\\_forest.py:403: FutureWarning: Criterion 'mae' was deprecated in v1.0 and will be removed in version 1.2. Use `criterion='absolute_error'` which is equivalent.\n",
      "  warn(\n"
     ]
    },
    {
     "data": {
      "text/plain": [
       "GridSearchCV(cv=3, estimator=RandomForestRegressor(),\n",
       "             param_grid={'criterion': ['mae'],\n",
       "                         'max_depth': [115, 117, 119, 121, 123],\n",
       "                         'max_features': ['log2'], 'min_samples_leaf': [1, 2],\n",
       "                         'min_samples_split': [7, 8, 9, 10, 11],\n",
       "                         'n_estimators': [325, 327, 329, 331, 333]})"
      ]
     },
     "execution_count": 61,
     "metadata": {},
     "output_type": "execute_result"
    }
   ],
   "source": [
    "Rand_Grid.fit(train_X,train_y)"
   ]
  },
  {
   "cell_type": "code",
   "execution_count": 62,
   "id": "e2975785",
   "metadata": {},
   "outputs": [
    {
     "data": {
      "text/plain": [
       "{'criterion': 'mae',\n",
       " 'max_depth': 115,\n",
       " 'max_features': 'log2',\n",
       " 'min_samples_leaf': 1,\n",
       " 'min_samples_split': 7,\n",
       " 'n_estimators': 329}"
      ]
     },
     "execution_count": 62,
     "metadata": {},
     "output_type": "execute_result"
    }
   ],
   "source": [
    "Rand_Grid.best_params_"
   ]
  },
  {
   "cell_type": "code",
   "execution_count": 63,
   "id": "74919233",
   "metadata": {},
   "outputs": [],
   "source": [
    "Random_pred=Rand_Grid.predict(test_X)"
   ]
  },
  {
   "cell_type": "code",
   "execution_count": 64,
   "id": "1c02c8e6",
   "metadata": {},
   "outputs": [
    {
     "data": {
      "text/plain": [
       "0.8648357600383737"
      ]
     },
     "execution_count": 64,
     "metadata": {},
     "output_type": "execute_result"
    }
   ],
   "source": [
    "Random_Res=r2_score(Random_pred,test_y)\n",
    "r2_score(Random_pred,test_y)"
   ]
  },
  {
   "cell_type": "code",
   "execution_count": 65,
   "id": "15205cd7",
   "metadata": {},
   "outputs": [
    {
     "name": "stdout",
     "output_type": "stream",
     "text": [
      " Model Accuracy: 86.484 %\n"
     ]
    }
   ],
   "source": [
    "print(' Model Accuracy:',round(max(Random_Res*100,Lasso_Res*100),3),'%')"
   ]
  },
  {
   "cell_type": "markdown",
   "id": "3eff9430",
   "metadata": {},
   "source": [
    "# Neural Network"
   ]
  },
  {
   "cell_type": "code",
   "execution_count": 66,
   "id": "e0e70bac",
   "metadata": {},
   "outputs": [],
   "source": [
    "from tensorflow.keras.models import Sequential\n",
    "from tensorflow.keras.layers import Dense"
   ]
  },
  {
   "cell_type": "code",
   "execution_count": 67,
   "id": "37c78d0f",
   "metadata": {},
   "outputs": [],
   "source": [
    "Sc=Sequential()"
   ]
  },
  {
   "cell_type": "code",
   "execution_count": 68,
   "id": "a211b396",
   "metadata": {},
   "outputs": [],
   "source": [
    "Sc.add(Dense(units=10,activation='relu',kernel_initializer='uniform',input_dim=13))"
   ]
  },
  {
   "cell_type": "code",
   "execution_count": 69,
   "id": "d0b1a635",
   "metadata": {},
   "outputs": [],
   "source": [
    "Sc.add(Dense(units=10,activation='relu',kernel_initializer='uniform'))"
   ]
  },
  {
   "cell_type": "code",
   "execution_count": 70,
   "id": "89a582b0",
   "metadata": {},
   "outputs": [],
   "source": [
    "Sc.add(Dense(units=10,activation='relu',kernel_initializer='uniform'))\n",
    "Sc.add(Dense(units=1,activation='linear',kernel_initializer='uniform'))"
   ]
  },
  {
   "cell_type": "code",
   "execution_count": 71,
   "id": "c21b520b",
   "metadata": {},
   "outputs": [],
   "source": [
    "from sklearn.metrics import mean_absolute_error \n",
    "Sc.compile(loss='mean_absolute_error',optimizer='adam',metrics=['mean_absolute_error'])"
   ]
  },
  {
   "cell_type": "code",
   "execution_count": 72,
   "id": "10699f55",
   "metadata": {},
   "outputs": [
    {
     "name": "stdout",
     "output_type": "stream",
     "text": [
      "Model: \"sequential\"\n",
      "_________________________________________________________________\n",
      " Layer (type)                Output Shape              Param #   \n",
      "=================================================================\n",
      " dense (Dense)               (None, 10)                140       \n",
      "                                                                 \n",
      " dense_1 (Dense)             (None, 10)                110       \n",
      "                                                                 \n",
      " dense_2 (Dense)             (None, 10)                110       \n",
      "                                                                 \n",
      " dense_3 (Dense)             (None, 1)                 11        \n",
      "                                                                 \n",
      "=================================================================\n",
      "Total params: 371\n",
      "Trainable params: 371\n",
      "Non-trainable params: 0\n",
      "_________________________________________________________________\n"
     ]
    }
   ],
   "source": [
    "Sc.summary()"
   ]
  },
  {
   "cell_type": "code",
   "execution_count": 73,
   "id": "d83ff04e",
   "metadata": {},
   "outputs": [
    {
     "name": "stdout",
     "output_type": "stream",
     "text": [
      "Epoch 1/150\n",
      "36/36 [==============================] - 1s 2ms/step - loss: 22.8472 - mean_absolute_error: 22.8472\n",
      "Epoch 2/150\n",
      "36/36 [==============================] - 0s 2ms/step - loss: 22.7675 - mean_absolute_error: 22.7675\n",
      "Epoch 3/150\n",
      "36/36 [==============================] - 0s 2ms/step - loss: 22.4332 - mean_absolute_error: 22.4332\n",
      "Epoch 4/150\n",
      "36/36 [==============================] - 0s 2ms/step - loss: 20.9455 - mean_absolute_error: 20.9455\n",
      "Epoch 5/150\n",
      "36/36 [==============================] - 0s 2ms/step - loss: 17.2783 - mean_absolute_error: 17.2783\n",
      "Epoch 6/150\n",
      "36/36 [==============================] - 0s 2ms/step - loss: 12.8722 - mean_absolute_error: 12.8722\n",
      "Epoch 7/150\n",
      "36/36 [==============================] - 0s 2ms/step - loss: 8.7844 - mean_absolute_error: 8.7844\n",
      "Epoch 8/150\n",
      "36/36 [==============================] - 0s 2ms/step - loss: 7.0944 - mean_absolute_error: 7.0944\n",
      "Epoch 9/150\n",
      "36/36 [==============================] - 0s 2ms/step - loss: 6.1796 - mean_absolute_error: 6.1796\n",
      "Epoch 10/150\n",
      "36/36 [==============================] - 0s 2ms/step - loss: 5.4405 - mean_absolute_error: 5.4405\n",
      "Epoch 11/150\n",
      "36/36 [==============================] - 0s 2ms/step - loss: 4.9356 - mean_absolute_error: 4.9356\n",
      "Epoch 12/150\n",
      "36/36 [==============================] - 0s 2ms/step - loss: 4.5307 - mean_absolute_error: 4.5307\n",
      "Epoch 13/150\n",
      "36/36 [==============================] - 0s 2ms/step - loss: 4.1972 - mean_absolute_error: 4.1972\n",
      "Epoch 14/150\n",
      "36/36 [==============================] - 0s 2ms/step - loss: 3.9912 - mean_absolute_error: 3.9912\n",
      "Epoch 15/150\n",
      "36/36 [==============================] - 0s 2ms/step - loss: 3.9150 - mean_absolute_error: 3.9150\n",
      "Epoch 16/150\n",
      "36/36 [==============================] - 0s 2ms/step - loss: 3.8642 - mean_absolute_error: 3.8642\n",
      "Epoch 17/150\n",
      "36/36 [==============================] - 0s 2ms/step - loss: 3.7856 - mean_absolute_error: 3.7856\n",
      "Epoch 18/150\n",
      "36/36 [==============================] - 0s 2ms/step - loss: 3.7207 - mean_absolute_error: 3.7207\n",
      "Epoch 19/150\n",
      "36/36 [==============================] - 0s 2ms/step - loss: 3.6967 - mean_absolute_error: 3.6967\n",
      "Epoch 20/150\n",
      "36/36 [==============================] - 0s 2ms/step - loss: 3.6633 - mean_absolute_error: 3.6633\n",
      "Epoch 21/150\n",
      "36/36 [==============================] - 0s 2ms/step - loss: 3.6364 - mean_absolute_error: 3.6364\n",
      "Epoch 22/150\n",
      "36/36 [==============================] - 0s 2ms/step - loss: 3.6138 - mean_absolute_error: 3.6138\n",
      "Epoch 23/150\n",
      "36/36 [==============================] - 0s 2ms/step - loss: 3.5744 - mean_absolute_error: 3.5744\n",
      "Epoch 24/150\n",
      "36/36 [==============================] - 0s 2ms/step - loss: 3.5589 - mean_absolute_error: 3.5589\n",
      "Epoch 25/150\n",
      "36/36 [==============================] - 0s 2ms/step - loss: 3.5327 - mean_absolute_error: 3.5327\n",
      "Epoch 26/150\n",
      "36/36 [==============================] - 0s 2ms/step - loss: 3.5126 - mean_absolute_error: 3.5126\n",
      "Epoch 27/150\n",
      "36/36 [==============================] - 0s 2ms/step - loss: 3.4920 - mean_absolute_error: 3.4920\n",
      "Epoch 28/150\n",
      "36/36 [==============================] - 0s 2ms/step - loss: 3.4745 - mean_absolute_error: 3.4745\n",
      "Epoch 29/150\n",
      "36/36 [==============================] - 0s 2ms/step - loss: 3.4662 - mean_absolute_error: 3.4662\n",
      "Epoch 30/150\n",
      "36/36 [==============================] - 0s 2ms/step - loss: 3.4421 - mean_absolute_error: 3.4421\n",
      "Epoch 31/150\n",
      "36/36 [==============================] - 0s 2ms/step - loss: 3.4240 - mean_absolute_error: 3.4240\n",
      "Epoch 32/150\n",
      "36/36 [==============================] - 0s 2ms/step - loss: 3.4258 - mean_absolute_error: 3.4258\n",
      "Epoch 33/150\n",
      "36/36 [==============================] - 0s 2ms/step - loss: 3.4059 - mean_absolute_error: 3.4059\n",
      "Epoch 34/150\n",
      "36/36 [==============================] - 0s 2ms/step - loss: 3.3717 - mean_absolute_error: 3.3717\n",
      "Epoch 35/150\n",
      "36/36 [==============================] - 0s 2ms/step - loss: 3.3988 - mean_absolute_error: 3.3988\n",
      "Epoch 36/150\n",
      "36/36 [==============================] - 0s 2ms/step - loss: 3.3751 - mean_absolute_error: 3.3751\n",
      "Epoch 37/150\n",
      "36/36 [==============================] - 0s 2ms/step - loss: 3.3418 - mean_absolute_error: 3.3418\n",
      "Epoch 38/150\n",
      "36/36 [==============================] - 0s 2ms/step - loss: 3.3188 - mean_absolute_error: 3.3188\n",
      "Epoch 39/150\n",
      "36/36 [==============================] - 0s 2ms/step - loss: 3.2796 - mean_absolute_error: 3.2796\n",
      "Epoch 40/150\n",
      "36/36 [==============================] - 0s 2ms/step - loss: 3.2633 - mean_absolute_error: 3.2633\n",
      "Epoch 41/150\n",
      "36/36 [==============================] - 0s 2ms/step - loss: 3.2467 - mean_absolute_error: 3.2467\n",
      "Epoch 42/150\n",
      "36/36 [==============================] - 0s 2ms/step - loss: 3.2292 - mean_absolute_error: 3.2292\n",
      "Epoch 43/150\n",
      "36/36 [==============================] - 0s 2ms/step - loss: 3.2195 - mean_absolute_error: 3.2195\n",
      "Epoch 44/150\n",
      "36/36 [==============================] - 0s 2ms/step - loss: 3.2227 - mean_absolute_error: 3.2227\n",
      "Epoch 45/150\n",
      "36/36 [==============================] - 0s 3ms/step - loss: 3.1909 - mean_absolute_error: 3.1909\n",
      "Epoch 46/150\n",
      "36/36 [==============================] - 0s 2ms/step - loss: 3.1739 - mean_absolute_error: 3.1739\n",
      "Epoch 47/150\n",
      "36/36 [==============================] - 0s 2ms/step - loss: 3.1428 - mean_absolute_error: 3.1428\n",
      "Epoch 48/150\n",
      "36/36 [==============================] - 0s 2ms/step - loss: 3.1310 - mean_absolute_error: 3.1310\n",
      "Epoch 49/150\n",
      "36/36 [==============================] - 0s 2ms/step - loss: 3.1373 - mean_absolute_error: 3.1373\n",
      "Epoch 50/150\n",
      "36/36 [==============================] - 0s 2ms/step - loss: 3.1176 - mean_absolute_error: 3.1176\n",
      "Epoch 51/150\n",
      "36/36 [==============================] - 0s 2ms/step - loss: 3.0891 - mean_absolute_error: 3.0891\n",
      "Epoch 52/150\n",
      "36/36 [==============================] - 0s 2ms/step - loss: 3.0604 - mean_absolute_error: 3.0604\n",
      "Epoch 53/150\n",
      "36/36 [==============================] - 0s 2ms/step - loss: 3.0546 - mean_absolute_error: 3.0546\n",
      "Epoch 54/150\n",
      "36/36 [==============================] - 0s 2ms/step - loss: 3.0289 - mean_absolute_error: 3.0289\n",
      "Epoch 55/150\n",
      "36/36 [==============================] - 0s 2ms/step - loss: 2.9922 - mean_absolute_error: 2.9922\n",
      "Epoch 56/150\n",
      "36/36 [==============================] - 0s 2ms/step - loss: 2.9562 - mean_absolute_error: 2.9562\n",
      "Epoch 57/150\n",
      "36/36 [==============================] - 0s 2ms/step - loss: 2.9399 - mean_absolute_error: 2.9399\n",
      "Epoch 58/150\n",
      "36/36 [==============================] - 0s 2ms/step - loss: 2.9228 - mean_absolute_error: 2.9228\n",
      "Epoch 59/150\n",
      "36/36 [==============================] - 0s 2ms/step - loss: 2.8970 - mean_absolute_error: 2.8970\n",
      "Epoch 60/150\n",
      "36/36 [==============================] - 0s 2ms/step - loss: 2.8742 - mean_absolute_error: 2.8742\n",
      "Epoch 61/150\n",
      "36/36 [==============================] - 0s 2ms/step - loss: 2.8520 - mean_absolute_error: 2.8520\n",
      "Epoch 62/150\n",
      "36/36 [==============================] - 0s 2ms/step - loss: 2.8554 - mean_absolute_error: 2.8554\n",
      "Epoch 63/150\n",
      "36/36 [==============================] - 0s 2ms/step - loss: 2.8024 - mean_absolute_error: 2.8024\n",
      "Epoch 64/150\n",
      "36/36 [==============================] - 0s 2ms/step - loss: 2.8102 - mean_absolute_error: 2.8102\n",
      "Epoch 65/150\n",
      "36/36 [==============================] - 0s 2ms/step - loss: 2.7522 - mean_absolute_error: 2.7522\n",
      "Epoch 66/150\n",
      "36/36 [==============================] - 0s 2ms/step - loss: 2.7498 - mean_absolute_error: 2.7498\n",
      "Epoch 67/150\n",
      "36/36 [==============================] - 0s 2ms/step - loss: 2.7119 - mean_absolute_error: 2.7119\n",
      "Epoch 68/150\n",
      "36/36 [==============================] - 0s 2ms/step - loss: 2.6837 - mean_absolute_error: 2.6837\n",
      "Epoch 69/150\n",
      "36/36 [==============================] - 0s 2ms/step - loss: 2.6704 - mean_absolute_error: 2.6704\n",
      "Epoch 70/150\n",
      "36/36 [==============================] - 0s 2ms/step - loss: 2.6428 - mean_absolute_error: 2.6428\n",
      "Epoch 71/150\n",
      "36/36 [==============================] - 0s 2ms/step - loss: 2.6456 - mean_absolute_error: 2.6456\n",
      "Epoch 72/150\n",
      "36/36 [==============================] - 0s 2ms/step - loss: 2.6219 - mean_absolute_error: 2.6219\n",
      "Epoch 73/150\n",
      "36/36 [==============================] - 0s 2ms/step - loss: 2.5975 - mean_absolute_error: 2.5975\n",
      "Epoch 74/150\n"
     ]
    },
    {
     "name": "stdout",
     "output_type": "stream",
     "text": [
      "36/36 [==============================] - 0s 2ms/step - loss: 2.5614 - mean_absolute_error: 2.5614\n",
      "Epoch 75/150\n",
      "36/36 [==============================] - 0s 2ms/step - loss: 2.5713 - mean_absolute_error: 2.5713\n",
      "Epoch 76/150\n",
      "36/36 [==============================] - 0s 2ms/step - loss: 2.5516 - mean_absolute_error: 2.5516\n",
      "Epoch 77/150\n",
      "36/36 [==============================] - 0s 2ms/step - loss: 2.5110 - mean_absolute_error: 2.5110\n",
      "Epoch 78/150\n",
      "36/36 [==============================] - 0s 2ms/step - loss: 2.5170 - mean_absolute_error: 2.5170\n",
      "Epoch 79/150\n",
      "36/36 [==============================] - 0s 2ms/step - loss: 2.4828 - mean_absolute_error: 2.4828\n",
      "Epoch 80/150\n",
      "36/36 [==============================] - 0s 2ms/step - loss: 2.4926 - mean_absolute_error: 2.4926\n",
      "Epoch 81/150\n",
      "36/36 [==============================] - 0s 2ms/step - loss: 2.4543 - mean_absolute_error: 2.4543\n",
      "Epoch 82/150\n",
      "36/36 [==============================] - 0s 2ms/step - loss: 2.4281 - mean_absolute_error: 2.4281\n",
      "Epoch 83/150\n",
      "36/36 [==============================] - 0s 2ms/step - loss: 2.4106 - mean_absolute_error: 2.4106\n",
      "Epoch 84/150\n",
      "36/36 [==============================] - 0s 3ms/step - loss: 2.4161 - mean_absolute_error: 2.4161\n",
      "Epoch 85/150\n",
      "36/36 [==============================] - 0s 2ms/step - loss: 2.4061 - mean_absolute_error: 2.4061\n",
      "Epoch 86/150\n",
      "36/36 [==============================] - 0s 2ms/step - loss: 2.4036 - mean_absolute_error: 2.4036\n",
      "Epoch 87/150\n",
      "36/36 [==============================] - 0s 2ms/step - loss: 2.3664 - mean_absolute_error: 2.3664\n",
      "Epoch 88/150\n",
      "36/36 [==============================] - 0s 2ms/step - loss: 2.4145 - mean_absolute_error: 2.4145\n",
      "Epoch 89/150\n",
      "36/36 [==============================] - 0s 2ms/step - loss: 2.3623 - mean_absolute_error: 2.3623\n",
      "Epoch 90/150\n",
      "36/36 [==============================] - 0s 2ms/step - loss: 2.3891 - mean_absolute_error: 2.3891\n",
      "Epoch 91/150\n",
      "36/36 [==============================] - 0s 2ms/step - loss: 2.3416 - mean_absolute_error: 2.3416\n",
      "Epoch 92/150\n",
      "36/36 [==============================] - 0s 2ms/step - loss: 2.3360 - mean_absolute_error: 2.3360\n",
      "Epoch 93/150\n",
      "36/36 [==============================] - 0s 2ms/step - loss: 2.3611 - mean_absolute_error: 2.3611\n",
      "Epoch 94/150\n",
      "36/36 [==============================] - 0s 2ms/step - loss: 2.3511 - mean_absolute_error: 2.3511\n",
      "Epoch 95/150\n",
      "36/36 [==============================] - 0s 2ms/step - loss: 2.3385 - mean_absolute_error: 2.3385\n",
      "Epoch 96/150\n",
      "36/36 [==============================] - 0s 2ms/step - loss: 2.3235 - mean_absolute_error: 2.3235\n",
      "Epoch 97/150\n",
      "36/36 [==============================] - 0s 2ms/step - loss: 2.3080 - mean_absolute_error: 2.3080\n",
      "Epoch 98/150\n",
      "36/36 [==============================] - 0s 2ms/step - loss: 2.2980 - mean_absolute_error: 2.2980\n",
      "Epoch 99/150\n",
      "36/36 [==============================] - 0s 2ms/step - loss: 2.2979 - mean_absolute_error: 2.2979\n",
      "Epoch 100/150\n",
      "36/36 [==============================] - 0s 2ms/step - loss: 2.3023 - mean_absolute_error: 2.3023\n",
      "Epoch 101/150\n",
      "36/36 [==============================] - 0s 2ms/step - loss: 2.2940 - mean_absolute_error: 2.2940\n",
      "Epoch 102/150\n",
      "36/36 [==============================] - 0s 2ms/step - loss: 2.2694 - mean_absolute_error: 2.2694\n",
      "Epoch 103/150\n",
      "36/36 [==============================] - 0s 2ms/step - loss: 2.2851 - mean_absolute_error: 2.2851\n",
      "Epoch 104/150\n",
      "36/36 [==============================] - 0s 2ms/step - loss: 2.2840 - mean_absolute_error: 2.2840\n",
      "Epoch 105/150\n",
      "36/36 [==============================] - 0s 2ms/step - loss: 2.2709 - mean_absolute_error: 2.2709\n",
      "Epoch 106/150\n",
      "36/36 [==============================] - 0s 2ms/step - loss: 2.2564 - mean_absolute_error: 2.2564\n",
      "Epoch 107/150\n",
      "36/36 [==============================] - 0s 2ms/step - loss: 2.2503 - mean_absolute_error: 2.2503\n",
      "Epoch 108/150\n",
      "36/36 [==============================] - 0s 2ms/step - loss: 2.2640 - mean_absolute_error: 2.2640\n",
      "Epoch 109/150\n",
      "36/36 [==============================] - 0s 2ms/step - loss: 2.2628 - mean_absolute_error: 2.2628\n",
      "Epoch 110/150\n",
      "36/36 [==============================] - 0s 2ms/step - loss: 2.2648 - mean_absolute_error: 2.2648\n",
      "Epoch 111/150\n",
      "36/36 [==============================] - 0s 2ms/step - loss: 2.2654 - mean_absolute_error: 2.2654\n",
      "Epoch 112/150\n",
      "36/36 [==============================] - 0s 2ms/step - loss: 2.2418 - mean_absolute_error: 2.2418\n",
      "Epoch 113/150\n",
      "36/36 [==============================] - 0s 2ms/step - loss: 2.2409 - mean_absolute_error: 2.2409\n",
      "Epoch 114/150\n",
      "36/36 [==============================] - 0s 2ms/step - loss: 2.2575 - mean_absolute_error: 2.2575\n",
      "Epoch 115/150\n",
      "36/36 [==============================] - 0s 2ms/step - loss: 2.2341 - mean_absolute_error: 2.2341\n",
      "Epoch 116/150\n",
      "36/36 [==============================] - 0s 2ms/step - loss: 2.2276 - mean_absolute_error: 2.2276\n",
      "Epoch 117/150\n",
      "36/36 [==============================] - 0s 2ms/step - loss: 2.2338 - mean_absolute_error: 2.2338\n",
      "Epoch 118/150\n",
      "36/36 [==============================] - 0s 2ms/step - loss: 2.2410 - mean_absolute_error: 2.2410\n",
      "Epoch 119/150\n",
      "36/36 [==============================] - 0s 2ms/step - loss: 2.2256 - mean_absolute_error: 2.2256\n",
      "Epoch 120/150\n",
      "36/36 [==============================] - 0s 2ms/step - loss: 2.2387 - mean_absolute_error: 2.2387\n",
      "Epoch 121/150\n",
      "36/36 [==============================] - 0s 2ms/step - loss: 2.2235 - mean_absolute_error: 2.2235\n",
      "Epoch 122/150\n",
      "36/36 [==============================] - 0s 2ms/step - loss: 2.2232 - mean_absolute_error: 2.2232\n",
      "Epoch 123/150\n",
      "36/36 [==============================] - 0s 2ms/step - loss: 2.2161 - mean_absolute_error: 2.2161\n",
      "Epoch 124/150\n",
      "36/36 [==============================] - 0s 2ms/step - loss: 2.2237 - mean_absolute_error: 2.2237\n",
      "Epoch 125/150\n",
      "36/36 [==============================] - 0s 2ms/step - loss: 2.1998 - mean_absolute_error: 2.1998\n",
      "Epoch 126/150\n",
      "36/36 [==============================] - 0s 2ms/step - loss: 2.2179 - mean_absolute_error: 2.2179\n",
      "Epoch 127/150\n",
      "36/36 [==============================] - 0s 2ms/step - loss: 2.2178 - mean_absolute_error: 2.2178\n",
      "Epoch 128/150\n",
      "36/36 [==============================] - 0s 2ms/step - loss: 2.2059 - mean_absolute_error: 2.2059\n",
      "Epoch 129/150\n",
      "36/36 [==============================] - 0s 2ms/step - loss: 2.1995 - mean_absolute_error: 2.1995\n",
      "Epoch 130/150\n",
      "36/36 [==============================] - 0s 2ms/step - loss: 2.2078 - mean_absolute_error: 2.2078\n",
      "Epoch 131/150\n",
      "36/36 [==============================] - 0s 2ms/step - loss: 2.2038 - mean_absolute_error: 2.2038\n",
      "Epoch 132/150\n",
      "36/36 [==============================] - 0s 1ms/step - loss: 2.1900 - mean_absolute_error: 2.1900\n",
      "Epoch 133/150\n",
      "36/36 [==============================] - 0s 2ms/step - loss: 2.1970 - mean_absolute_error: 2.1970\n",
      "Epoch 134/150\n",
      "36/36 [==============================] - 0s 2ms/step - loss: 2.1907 - mean_absolute_error: 2.1907\n",
      "Epoch 135/150\n",
      "36/36 [==============================] - 0s 2ms/step - loss: 2.2164 - mean_absolute_error: 2.2164\n",
      "Epoch 136/150\n",
      "36/36 [==============================] - 0s 1ms/step - loss: 2.2406 - mean_absolute_error: 2.2406\n",
      "Epoch 137/150\n",
      "36/36 [==============================] - 0s 1ms/step - loss: 2.1942 - mean_absolute_error: 2.1942\n",
      "Epoch 138/150\n",
      "36/36 [==============================] - 0s 2ms/step - loss: 2.1882 - mean_absolute_error: 2.1882\n",
      "Epoch 139/150\n",
      "36/36 [==============================] - 0s 1ms/step - loss: 2.1830 - mean_absolute_error: 2.1830\n",
      "Epoch 140/150\n",
      "36/36 [==============================] - 0s 1ms/step - loss: 2.1934 - mean_absolute_error: 2.1934\n",
      "Epoch 141/150\n",
      "36/36 [==============================] - 0s 1ms/step - loss: 2.2092 - mean_absolute_error: 2.2092\n",
      "Epoch 142/150\n",
      "36/36 [==============================] - 0s 1ms/step - loss: 2.1817 - mean_absolute_error: 2.1817\n",
      "Epoch 143/150\n",
      "36/36 [==============================] - 0s 1ms/step - loss: 2.1831 - mean_absolute_error: 2.1831\n",
      "Epoch 144/150\n",
      "36/36 [==============================] - 0s 1ms/step - loss: 2.1790 - mean_absolute_error: 2.1790\n",
      "Epoch 145/150\n",
      "36/36 [==============================] - 0s 1ms/step - loss: 2.1794 - mean_absolute_error: 2.1794\n",
      "Epoch 146/150\n",
      "36/36 [==============================] - 0s 1ms/step - loss: 2.1766 - mean_absolute_error: 2.1766\n",
      "Epoch 147/150\n"
     ]
    },
    {
     "name": "stdout",
     "output_type": "stream",
     "text": [
      "36/36 [==============================] - 0s 1ms/step - loss: 2.2277 - mean_absolute_error: 2.2277\n",
      "Epoch 148/150\n",
      "36/36 [==============================] - 0s 1ms/step - loss: 2.1746 - mean_absolute_error: 2.1746\n",
      "Epoch 149/150\n",
      "36/36 [==============================] - 0s 2ms/step - loss: 2.1842 - mean_absolute_error: 2.1842\n",
      "Epoch 150/150\n",
      "36/36 [==============================] - 0s 1ms/step - loss: 2.2154 - mean_absolute_error: 2.2154\n"
     ]
    },
    {
     "data": {
      "text/plain": [
       "<keras.callbacks.History at 0x1a9574f7c70>"
      ]
     },
     "execution_count": 73,
     "metadata": {},
     "output_type": "execute_result"
    }
   ],
   "source": [
    "Sc.fit(train_X,train_y,batch_size=10,epochs=150)"
   ]
  },
  {
   "cell_type": "code",
   "execution_count": 74,
   "id": "34b918c3",
   "metadata": {},
   "outputs": [
    {
     "name": "stdout",
     "output_type": "stream",
     "text": [
      "5/5 [==============================] - 0s 2ms/step\n"
     ]
    }
   ],
   "source": [
    "NN_pred=Sc.predict(test_X)"
   ]
  },
  {
   "cell_type": "code",
   "execution_count": 75,
   "id": "237acbbb",
   "metadata": {},
   "outputs": [
    {
     "data": {
      "text/plain": [
       "0.8696775584735165"
      ]
     },
     "execution_count": 75,
     "metadata": {},
     "output_type": "execute_result"
    }
   ],
   "source": [
    "NN_Res=r2_score(NN_pred,test_y)\n",
    "r2_score(NN_pred,test_y)"
   ]
  },
  {
   "cell_type": "code",
   "execution_count": 76,
   "id": "ad577bea",
   "metadata": {},
   "outputs": [
    {
     "name": "stderr",
     "output_type": "stream",
     "text": [
      "C:\\Users\\mayank\\anaconda3\\lib\\site-packages\\seaborn\\distributions.py:2619: FutureWarning: `distplot` is a deprecated function and will be removed in a future version. Please adapt your code to use either `displot` (a figure-level function with similar flexibility) or `histplot` (an axes-level function for histograms).\n",
      "  warnings.warn(msg, FutureWarning)\n"
     ]
    },
    {
     "data": {
      "text/plain": [
       "<AxesSubplot:ylabel='Density'>"
      ]
     },
     "execution_count": 76,
     "metadata": {},
     "output_type": "execute_result"
    },
    {
     "data": {
      "image/png": "[encoded data removed]",
      "text/plain": [
       "<Figure size 432x288 with 1 Axes>"
      ]
     },
     "metadata": {
      "needs_background": "light"
     },
     "output_type": "display_data"
    }
   ],
   "source": [
    "sns.distplot(NN_pred-test_y,kde=True)"
   ]
  },
  {
   "cell_type": "code",
   "execution_count": 77,
   "id": "dd8f2eb6",
   "metadata": {},
   "outputs": [
    {
     "name": "stdout",
     "output_type": "stream",
     "text": [
      "Neural Network Accuracy: 86.96775584735164 %\n",
      "Random Forest Regressor Accuracy: 86.48357600383737 %\n",
      "Linear Regression Accuracy: 73.52837164345809 %\n",
      "Ridge Regression Accuracy: 72.94102960209325 %\n",
      "Lasso Regression Accuracy: 73.52837164345827 %\n",
      "ElasticNet Regression Accuracy: 73.52837164345827 %\n",
      "\n",
      "Max Accuracy: 86.968 %\n"
     ]
    }
   ],
   "source": [
    "print('Neural Network Accuracy:',NN_Res*100,'%')\n",
    "print('Random Forest Regressor Accuracy:',Random_Res*100,'%')\n",
    "print('Linear Regression Accuracy:',Reg_Res*100,'%')\n",
    "print('Ridge Regression Accuracy:',Ridge_Res2*100,'%')\n",
    "print('Lasso Regression Accuracy:',Lasso_Res*100,'%')\n",
    "print('ElasticNet Regression Accuracy:',Elastic_Res*100,'%')\n",
    "print('\\nMax Accuracy:', round(max(NN_Res,Random_Res)*100,3),'%')"
   ]
  },
  {
   "cell_type": "markdown",
   "id": "82711ada",
   "metadata": {},
   "source": [
    "## New Data prediction"
   ]
  },
  {
   "cell_type": "code",
   "execution_count": 89,
   "id": "dd7ed60f",
   "metadata": {},
   "outputs": [
    {
     "data": {
      "text/plain": [
       "(1, 13)"
      ]
     },
     "execution_count": 89,
     "metadata": {},
     "output_type": "execute_result"
    }
   ],
   "source": [
    "df.data[0].reshape(1,-1).shape"
   ]
  },
  {
   "cell_type": "code",
   "execution_count": 92,
   "id": "4ad09330",
   "metadata": {},
   "outputs": [
    {
     "name": "stdout",
     "output_type": "stream",
     "text": [
      "1/1 [==============================] - 0s 32ms/step\n"
     ]
    },
    {
     "name": "stderr",
     "output_type": "stream",
     "text": [
      "C:\\Users\\mayank\\anaconda3\\lib\\site-packages\\sklearn\\base.py:450: UserWarning: X does not have valid feature names, but StandardScaler was fitted with feature names\n",
      "  warnings.warn(\n"
     ]
    },
    {
     "data": {
      "text/plain": [
       "array([[27.077291]], dtype=float32)"
      ]
     },
     "execution_count": 92,
     "metadata": {},
     "output_type": "execute_result"
    }
   ],
   "source": [
    "Sc.predict(sc.transform(df.data[0].reshape(1,-1)))"
   ]
  },
  {
   "cell_type": "markdown",
   "id": "b686a99a",
   "metadata": {},
   "source": [
    "## Pickling the file"
   ]
  },
  {
   "cell_type": "code",
   "execution_count": 93,
   "id": "03c642ef",
   "metadata": {},
   "outputs": [],
   "source": [
    "import pickle"
   ]
  },
  {
   "cell_type": "code",
   "execution_count": 94,
   "id": "53387917",
   "metadata": {},
   "outputs": [
    {
     "name": "stdout",
     "output_type": "stream",
     "text": [
      "Keras weights file (<HDF5 file \"variables.h5\" (mode r+)>) saving:\n",
      "...layers\\dense\n",
      "......vars\n",
      ".........0\n",
      ".........1\n",
      "...layers\\dense_1\n",
      "......vars\n",
      ".........0\n",
      ".........1\n",
      "...layers\\dense_2\n",
      "......vars\n",
      ".........0\n",
      ".........1\n",
      "...layers\\dense_3\n",
      "......vars\n",
      ".........0\n",
      ".........1\n",
      "...metrics\\mean\n",
      "......vars\n",
      ".........0\n",
      ".........1\n",
      "...metrics\\mean_metric_wrapper\n",
      "......vars\n",
      ".........0\n",
      ".........1\n",
      "...optimizer\n",
      "......vars\n",
      ".........0\n",
      ".........1\n",
      ".........10\n",
      ".........11\n",
      ".........12\n",
      ".........13\n",
      ".........14\n",
      ".........15\n",
      ".........16\n",
      ".........2\n",
      ".........3\n",
      ".........4\n",
      ".........5\n",
      ".........6\n",
      ".........7\n",
      ".........8\n",
      ".........9\n",
      "...vars\n",
      "Keras model archive saving:\n",
      "File Name                                             Modified             Size\n",
      "config.json                                    2023-10-15 21:49:10         2390\n",
      "metadata.json                                  2023-10-15 21:49:10           64\n",
      "variables.h5                                   2023-10-15 21:49:10        31240\n"
     ]
    }
   ],
   "source": [
    "pickle.dump(Sc,open('BostonNN.pkl','wb'))"
   ]
  },
  {
   "cell_type": "code",
   "execution_count": 97,
   "id": "9b32b567",
   "metadata": {},
   "outputs": [
    {
     "name": "stdout",
     "output_type": "stream",
     "text": [
      "Keras model archive loading:\n",
      "File Name                                             Modified             Size\n",
      "config.json                                    2023-10-15 21:49:10         2390\n",
      "metadata.json                                  2023-10-15 21:49:10           64\n",
      "variables.h5                                   2023-10-15 21:49:10        31240\n",
      "Keras weights file (<HDF5 file \"variables.h5\" (mode r)>) loading:\n",
      "...layers\\dense\n",
      "......vars\n",
      ".........0\n",
      ".........1\n",
      "...layers\\dense_1\n",
      "......vars\n",
      ".........0\n",
      ".........1\n",
      "...layers\\dense_2\n",
      "......vars\n",
      ".........0\n",
      ".........1\n",
      "...layers\\dense_3\n",
      "......vars\n",
      ".........0\n",
      ".........1\n",
      "...metrics\\mean\n",
      "......vars\n",
      ".........0\n",
      ".........1\n",
      "...metrics\\mean_metric_wrapper\n",
      "......vars\n",
      ".........0\n",
      ".........1\n",
      "...optimizer\n",
      "......vars\n",
      ".........0\n",
      ".........1\n",
      ".........10\n",
      ".........11\n",
      ".........12\n",
      ".........13\n",
      ".........14\n",
      ".........15\n",
      ".........16\n",
      ".........2\n",
      ".........3\n",
      ".........4\n",
      ".........5\n",
      ".........6\n",
      ".........7\n",
      ".........8\n",
      ".........9\n",
      "...vars\n"
     ]
    }
   ],
   "source": [
    "Pickled_model=pickle.load(open('BostonNN.pkl','rb'))"
   ]
  },
  {
   "cell_type": "code",
   "execution_count": 98,
   "id": "7e63e776",
   "metadata": {},
   "outputs": [
    {
     "name": "stdout",
     "output_type": "stream",
     "text": [
      "1/1 [==============================] - 0s 112ms/step\n"
     ]
    },
    {
     "name": "stderr",
     "output_type": "stream",
     "text": [
      "C:\\Users\\mayank\\anaconda3\\lib\\site-packages\\sklearn\\base.py:450: UserWarning: X does not have valid feature names, but StandardScaler was fitted with feature names\n",
      "  warnings.warn(\n"
     ]
    },
    {
     "data": {
      "text/plain": [
       "array([[27.077291]], dtype=float32)"
      ]
     },
     "execution_count": 98,
     "metadata": {},
     "output_type": "execute_result"
    }
   ],
   "source": [
    "Pickled_model.predict(sc.transform(df.data[0].reshape(1,-1)))"
   ]
  },
  {
   "cell_type": "code",
   "execution_count": null,
   "id": "58b04d78",
   "metadata": {},
   "outputs": [],
   "source": []
  }
 ],
 "metadata": {
  "kernelspec": {
   "display_name": "Python 3 (ipykernel)",
   "language": "python",
   "name": "python3"
  },
  "language_info": {
   "codemirror_mode": {
    "name": "ipython",
    "version": 3
   },
   "file_extension": ".py",
   "mimetype": "text/x-python",
   "name": "python",
   "nbconvert_exporter": "python",
   "pygments_lexer": "ipython3",
   "version": "3.7.0"
  }
 },
 "nbformat": 4,
 "nbformat_minor": 5
}
